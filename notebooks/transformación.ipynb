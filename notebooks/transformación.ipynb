{
 "cells": [
  {
   "cell_type": "code",
   "execution_count": 1,
   "id": "7bac0c28",
   "metadata": {},
   "outputs": [],
   "source": [
    "import pandas as pd\n",
    "import requests as rq\n",
    "import numpy as np\n",
    "import pyarrow\n",
    "import os\n",
    "from dotenv import load_dotenv\n",
    "import time\n",
    "from datetime import datetime\n",
    "import sys #permite navegar por el sistema\n",
    "sys.path.append(\"../\") #solo aplica al soporte\n",
    "from thefuzz import fuzz\n",
    "from src.etl import transform as tr #con jupyter\n",
    "from src.etl import extract as ex #con jupyter\n",
    "import warnings\n",
    "from pandas.errors import SettingWithCopyWarning\n"
   ]
  },
  {
   "cell_type": "code",
   "execution_count": 2,
   "id": "86709eb2",
   "metadata": {},
   "outputs": [
    {
     "data": {
      "text/plain": [
       "True"
      ]
     },
     "execution_count": 2,
     "metadata": {},
     "output_type": "execute_result"
    }
   ],
   "source": [
    "load_dotenv()"
   ]
  },
  {
   "cell_type": "code",
   "execution_count": 6,
   "id": "7f7888b6",
   "metadata": {},
   "outputs": [],
   "source": [
    "#importo los df\n",
    "RUTA_SERVICE = os.getenv(\"RUTA_SERVICE\")\n",
    "ARCHIVO_GUARDAR_ESCRAPEO_VIAJES=os.getenv('ARCHIVO_GUARDAR_ESCRAPEO_VIAJES')\n",
    "ARCHIVO_GUARDAR_ESCRAPEO_DESTINOS = os.getenv('ARCHIVO_GUARDAR_ESCRAPEO_DESTINOS')\n",
    "ARCHIVO_GUARDAR_CONTINENTES = os.getenv('ARCHIVO_GUARDAR_CONTINENTES')\n",
    "ARCHIVO_GUARDAR_OPCIONES_VIAJES =os.getenv('ARCHIVO_GUARDAR_OPCIONES_VIAJES')\n",
    "ARCHIVO_GUARDAR_DATOS_API=os.getenv('ARCHIVO_GUARDAR_DATOS_API')\n",
    "df_continentes = pd.read_pickle(ARCHIVO_GUARDAR_CONTINENTES)\n",
    "df_destinos= pd.read_pickle(ARCHIVO_GUARDAR_ESCRAPEO_DESTINOS)\n",
    "df_viajes= pd.read_pickle(ARCHIVO_GUARDAR_ESCRAPEO_VIAJES)\n",
    "df_opciones = pd.read_pickle(ARCHIVO_GUARDAR_OPCIONES_VIAJES)\n",
    "df_turismo_emisor = pd.read_csv(ARCHIVO_GUARDAR_DATOS_API,delimiter=';',encoding='latin1')"
   ]
  },
  {
   "cell_type": "code",
   "execution_count": 7,
   "id": "5602983d",
   "metadata": {},
   "outputs": [
    {
     "data": {
      "application/vnd.microsoft.datawrangler.viewer.v0+json": {
       "columns": [
        {
         "name": "index",
         "rawType": "int64",
         "type": "integer"
        },
        {
         "name": "AÑO",
         "rawType": "int64",
         "type": "integer"
        },
        {
         "name": "MES",
         "rawType": "int64",
         "type": "integer"
        },
        {
         "name": "CCAA_ORIGEN",
         "rawType": "object",
         "type": "string"
        },
        {
         "name": "CONTINENTE_DESTINO",
         "rawType": "object",
         "type": "string"
        },
        {
         "name": "PAIS_DESTINO",
         "rawType": "object",
         "type": "string"
        },
        {
         "name": "TURISTAS",
         "rawType": "object",
         "type": "string"
        },
        {
         "name": "PERNOCTACIONES",
         "rawType": "object",
         "type": "string"
        },
        {
         "name": "ESTANCIA_MEDIA",
         "rawType": "object",
         "type": "unknown"
        }
       ],
       "conversionMethod": "pd.DataFrame",
       "ref": "8c4025a5-1bc1-4842-93ea-281097027bd1",
       "rows": [
        [
         "0",
         "2019",
         "7",
         "Andalucía",
         "América",
         "Argentina",
         "419,0",
         "3616,0",
         "8,6"
        ],
        [
         "1",
         "2019",
         "7",
         "Andalucía",
         "América",
         "Bolivia",
         "61,0",
         "486,0",
         "8,0"
        ],
        [
         "2",
         "2019",
         "7",
         "Andalucía",
         "América",
         "Brasil",
         "277,0",
         "2214,0",
         "8,0"
        ],
        [
         "3",
         "2019",
         "7",
         "Andalucía",
         "América",
         "Canadá",
         "483,0",
         "6159,0",
         "12,8"
        ],
        [
         "4",
         "2019",
         "7",
         "Andalucía",
         "América",
         "Chile",
         "242,0",
         "2068,0",
         "8,5"
        ],
        [
         "5",
         "2019",
         "7",
         "Andalucía",
         "América",
         "Colombia",
         "423,0",
         "3575,0",
         "8,5"
        ],
        [
         "6",
         "2019",
         "7",
         "Andalucía",
         "América",
         "Costa Rica",
         "139,0",
         "1200,0",
         "8,6"
        ],
        [
         "7",
         "2019",
         "7",
         "Andalucía",
         "América",
         "Cuba",
         "694,0",
         "5859,0",
         "8,4"
        ],
        [
         "8",
         "2019",
         "7",
         "Andalucía",
         "América",
         "Ecuador",
         "142,0",
         "1301,0",
         "9,2"
        ],
        [
         "9",
         "2019",
         "7",
         "Andalucía",
         "América",
         "El Salvador",
         "31,0",
         "256,0",
         "8,3"
        ],
        [
         "10",
         "2019",
         "7",
         "Andalucía",
         "América",
         "Estados Unidos de América",
         "6768,0",
         "67796,0",
         "10,0"
        ],
        [
         "11",
         "2019",
         "7",
         "Andalucía",
         "América",
         "Guatemala",
         "44,0",
         "311,0",
         "7,1"
        ],
        [
         "12",
         "2019",
         "7",
         "Andalucía",
         "América",
         "México",
         "1025,0",
         "7295,0",
         "7,1"
        ],
        [
         "13",
         "2019",
         "7",
         "Andalucía",
         "América",
         "Panamá",
         "72,0",
         "514,0",
         "7,1"
        ],
        [
         "14",
         "2019",
         "7",
         "Andalucía",
         "América",
         "Paraguay",
         "52,0",
         "400,0",
         "7,7"
        ],
        [
         "15",
         "2019",
         "7",
         "Andalucía",
         "América",
         "Perú",
         "430,0",
         "3989,0",
         "9,3"
        ],
        [
         "16",
         "2019",
         "7",
         "Andalucía",
         "América",
         "República Dominicana",
         "1139,0",
         "9139,0",
         "8,0"
        ],
        [
         "17",
         "2019",
         "7",
         "Andalucía",
         "América",
         "Uruguay",
         "39,0",
         "345,0",
         "8,8"
        ],
        [
         "18",
         "2019",
         "7",
         "Andalucía",
         "América",
         "Venezuela",
         "39,0",
         "265,0",
         "6,8"
        ],
        [
         "19",
         "2019",
         "7",
         "Andalucía",
         "Asia",
         "Arabia Saudí",
         "118,0",
         "850,0",
         "7,2"
        ],
        [
         "20",
         "2019",
         "7",
         "Andalucía",
         "Asia",
         "Camboya",
         "35,0",
         "248,0",
         "7,1"
        ],
        [
         "21",
         "2019",
         "7",
         "Andalucía",
         "Asia",
         "China",
         "563,0",
         "4192,0",
         "7,4"
        ],
        [
         "22",
         "2019",
         "7",
         "Andalucía",
         "Asia",
         "Corea",
         "50,0",
         "253,0",
         "5,1"
        ],
        [
         "23",
         "2019",
         "7",
         "Andalucía",
         "Asia",
         "Emiratos Árabes Unidos",
         "521,0",
         "4242,0",
         "8,1"
        ],
        [
         "24",
         "2019",
         "7",
         "Andalucía",
         "Asia",
         "Filipinas",
         "56,0",
         "419,0",
         "7,5"
        ],
        [
         "25",
         "2019",
         "7",
         "Andalucía",
         "Asia",
         "India",
         "167,0",
         "1307,0",
         "7,8"
        ],
        [
         "26",
         "2019",
         "7",
         "Andalucía",
         "Asia",
         "Indonesia",
         "227,0",
         "2505,0",
         "11,0"
        ],
        [
         "27",
         "2019",
         "7",
         "Andalucía",
         "Asia",
         "Irán",
         "39,0",
         "441,0",
         "11,3"
        ],
        [
         "28",
         "2019",
         "7",
         "Andalucía",
         "Asia",
         "Israel",
         "751,0",
         "5849,0",
         "7,8"
        ],
        [
         "29",
         "2019",
         "7",
         "Andalucía",
         "Asia",
         "Japón",
         "566,0",
         "6150,0",
         "10,9"
        ],
        [
         "30",
         "2019",
         "7",
         "Andalucía",
         "Asia",
         "Jordania",
         "125,0",
         "723,0",
         "5,8"
        ],
        [
         "31",
         "2019",
         "7",
         "Andalucía",
         "Asia",
         "Líbano",
         "52,0",
         "339,0",
         "6,5"
        ],
        [
         "32",
         "2019",
         "7",
         "Andalucía",
         "Asia",
         "Malasia",
         "76,0",
         "890,0",
         "11,7"
        ],
        [
         "33",
         "2019",
         "7",
         "Andalucía",
         "Asia",
         "Maldivas",
         "156,0",
         "1325,0",
         "8,5"
        ],
        [
         "34",
         "2019",
         "7",
         "Andalucía",
         "Asia",
         "Nepal",
         "36,0",
         "468,0",
         "13,0"
        ],
        [
         "35",
         "2019",
         "7",
         "Andalucía",
         "Asia",
         "Qatar",
         "326,0",
         "1216,0",
         "3,7"
        ],
        [
         "36",
         "2019",
         "7",
         "Andalucía",
         "Asia",
         "Singapur",
         "57,0",
         "402,0",
         "7,1"
        ],
        [
         "37",
         "2019",
         "7",
         "Andalucía",
         "Asia",
         "Sri Lanka",
         "39,0",
         "361,0",
         "9,3"
        ],
        [
         "38",
         "2019",
         "7",
         "Andalucía",
         "Asia",
         "Tailandia",
         "347,0",
         "3190,0",
         "9,2"
        ],
        [
         "39",
         "2019",
         "7",
         "Andalucía",
         "Asia",
         "Vietnam",
         "157,0",
         "1740,0",
         "11,1"
        ],
        [
         "40",
         "2019",
         "7",
         "Andalucía",
         "Europa",
         "Albania",
         "78,0",
         "682,0",
         "8,7"
        ],
        [
         "41",
         "2019",
         "7",
         "Andalucía",
         "Europa",
         "Alemania",
         "16448,0",
         "106953,0",
         "6,5"
        ],
        [
         "42",
         "2019",
         "7",
         "Andalucía",
         "Europa",
         "Andorra",
         "1281,0",
         "6337,0",
         "4,9"
        ],
        [
         "43",
         "2019",
         "7",
         "Andalucía",
         "Europa",
         "Armenia",
         "60,0",
         "691,0",
         "11,5"
        ],
        [
         "44",
         "2019",
         "7",
         "Andalucía",
         "Europa",
         "Austria",
         "2971,0",
         "19934,0",
         "6,7"
        ],
        [
         "45",
         "2019",
         "7",
         "Andalucía",
         "Europa",
         "Bosnia y Herzegovina",
         "61,0",
         "469,0",
         "7,7"
        ],
        [
         "46",
         "2019",
         "7",
         "Andalucía",
         "Europa",
         "Bulgaria",
         "683,0",
         "6421,0",
         "9,4"
        ],
        [
         "47",
         "2019",
         "7",
         "Andalucía",
         "Europa",
         "Bélgica",
         "6050,0",
         "39538,0",
         "6,5"
        ],
        [
         "48",
         "2019",
         "7",
         "Andalucía",
         "Europa",
         "Chipre",
         "77,0",
         "661,0",
         "8,6"
        ],
        [
         "49",
         "2019",
         "7",
         "Andalucía",
         "Europa",
         "Croacia",
         "2164,0",
         "19939,0",
         "9,2"
        ]
       ],
       "shape": {
        "columns": 8,
        "rows": 81663
       }
      },
      "text/html": [
       "<div>\n",
       "<style scoped>\n",
       "    .dataframe tbody tr th:only-of-type {\n",
       "        vertical-align: middle;\n",
       "    }\n",
       "\n",
       "    .dataframe tbody tr th {\n",
       "        vertical-align: top;\n",
       "    }\n",
       "\n",
       "    .dataframe thead th {\n",
       "        text-align: right;\n",
       "    }\n",
       "</style>\n",
       "<table border=\"1\" class=\"dataframe\">\n",
       "  <thead>\n",
       "    <tr style=\"text-align: right;\">\n",
       "      <th></th>\n",
       "      <th>AÑO</th>\n",
       "      <th>MES</th>\n",
       "      <th>CCAA_ORIGEN</th>\n",
       "      <th>CONTINENTE_DESTINO</th>\n",
       "      <th>PAIS_DESTINO</th>\n",
       "      <th>TURISTAS</th>\n",
       "      <th>PERNOCTACIONES</th>\n",
       "      <th>ESTANCIA_MEDIA</th>\n",
       "    </tr>\n",
       "  </thead>\n",
       "  <tbody>\n",
       "    <tr>\n",
       "      <th>0</th>\n",
       "      <td>2019</td>\n",
       "      <td>7</td>\n",
       "      <td>Andalucía</td>\n",
       "      <td>América</td>\n",
       "      <td>Argentina</td>\n",
       "      <td>419,0</td>\n",
       "      <td>3616,0</td>\n",
       "      <td>8,6</td>\n",
       "    </tr>\n",
       "    <tr>\n",
       "      <th>1</th>\n",
       "      <td>2019</td>\n",
       "      <td>7</td>\n",
       "      <td>Andalucía</td>\n",
       "      <td>América</td>\n",
       "      <td>Bolivia</td>\n",
       "      <td>61,0</td>\n",
       "      <td>486,0</td>\n",
       "      <td>8,0</td>\n",
       "    </tr>\n",
       "    <tr>\n",
       "      <th>2</th>\n",
       "      <td>2019</td>\n",
       "      <td>7</td>\n",
       "      <td>Andalucía</td>\n",
       "      <td>América</td>\n",
       "      <td>Brasil</td>\n",
       "      <td>277,0</td>\n",
       "      <td>2214,0</td>\n",
       "      <td>8,0</td>\n",
       "    </tr>\n",
       "    <tr>\n",
       "      <th>3</th>\n",
       "      <td>2019</td>\n",
       "      <td>7</td>\n",
       "      <td>Andalucía</td>\n",
       "      <td>América</td>\n",
       "      <td>Canadá</td>\n",
       "      <td>483,0</td>\n",
       "      <td>6159,0</td>\n",
       "      <td>12,8</td>\n",
       "    </tr>\n",
       "    <tr>\n",
       "      <th>4</th>\n",
       "      <td>2019</td>\n",
       "      <td>7</td>\n",
       "      <td>Andalucía</td>\n",
       "      <td>América</td>\n",
       "      <td>Chile</td>\n",
       "      <td>242,0</td>\n",
       "      <td>2068,0</td>\n",
       "      <td>8,5</td>\n",
       "    </tr>\n",
       "    <tr>\n",
       "      <th>...</th>\n",
       "      <td>...</td>\n",
       "      <td>...</td>\n",
       "      <td>...</td>\n",
       "      <td>...</td>\n",
       "      <td>...</td>\n",
       "      <td>...</td>\n",
       "      <td>...</td>\n",
       "      <td>...</td>\n",
       "    </tr>\n",
       "    <tr>\n",
       "      <th>81658</th>\n",
       "      <td>2024</td>\n",
       "      <td>12</td>\n",
       "      <td>Total Nacional</td>\n",
       "      <td>África</td>\n",
       "      <td>Seychelles</td>\n",
       "      <td>146,0</td>\n",
       "      <td>1105,0</td>\n",
       "      <td>7,6</td>\n",
       "    </tr>\n",
       "    <tr>\n",
       "      <th>81659</th>\n",
       "      <td>2024</td>\n",
       "      <td>12</td>\n",
       "      <td>Total Nacional</td>\n",
       "      <td>África</td>\n",
       "      <td>Sudáfrica</td>\n",
       "      <td>986,0</td>\n",
       "      <td>9019,0</td>\n",
       "      <td>9,1</td>\n",
       "    </tr>\n",
       "    <tr>\n",
       "      <th>81660</th>\n",
       "      <td>2024</td>\n",
       "      <td>12</td>\n",
       "      <td>Total Nacional</td>\n",
       "      <td>África</td>\n",
       "      <td>Tanzania</td>\n",
       "      <td>590,0</td>\n",
       "      <td>5237,0</td>\n",
       "      <td>8,9</td>\n",
       "    </tr>\n",
       "    <tr>\n",
       "      <th>81661</th>\n",
       "      <td>2024</td>\n",
       "      <td>12</td>\n",
       "      <td>Total Nacional</td>\n",
       "      <td>África</td>\n",
       "      <td>Túnez</td>\n",
       "      <td>975,0</td>\n",
       "      <td>5012,0</td>\n",
       "      <td>5,1</td>\n",
       "    </tr>\n",
       "    <tr>\n",
       "      <th>81662</th>\n",
       "      <td>2024</td>\n",
       "      <td>12</td>\n",
       "      <td>Total Nacional</td>\n",
       "      <td>África</td>\n",
       "      <td>Uganda</td>\n",
       "      <td>69,0</td>\n",
       "      <td>843,0</td>\n",
       "      <td>12,2</td>\n",
       "    </tr>\n",
       "  </tbody>\n",
       "</table>\n",
       "<p>81663 rows × 8 columns</p>\n",
       "</div>"
      ],
      "text/plain": [
       "        AÑO  MES     CCAA_ORIGEN CONTINENTE_DESTINO PAIS_DESTINO TURISTAS  \\\n",
       "0      2019    7       Andalucía            América    Argentina    419,0   \n",
       "1      2019    7       Andalucía            América      Bolivia     61,0   \n",
       "2      2019    7       Andalucía            América       Brasil    277,0   \n",
       "3      2019    7       Andalucía            América       Canadá    483,0   \n",
       "4      2019    7       Andalucía            América        Chile    242,0   \n",
       "...     ...  ...             ...                ...          ...      ...   \n",
       "81658  2024   12  Total Nacional             África   Seychelles    146,0   \n",
       "81659  2024   12  Total Nacional             África    Sudáfrica    986,0   \n",
       "81660  2024   12  Total Nacional             África     Tanzania    590,0   \n",
       "81661  2024   12  Total Nacional             África        Túnez    975,0   \n",
       "81662  2024   12  Total Nacional             África       Uganda     69,0   \n",
       "\n",
       "      PERNOCTACIONES ESTANCIA_MEDIA  \n",
       "0             3616,0            8,6  \n",
       "1              486,0            8,0  \n",
       "2             2214,0            8,0  \n",
       "3             6159,0           12,8  \n",
       "4             2068,0            8,5  \n",
       "...              ...            ...  \n",
       "81658         1105,0            7,6  \n",
       "81659         9019,0            9,1  \n",
       "81660         5237,0            8,9  \n",
       "81661         5012,0            5,1  \n",
       "81662          843,0           12,2  \n",
       "\n",
       "[81663 rows x 8 columns]"
      ]
     },
     "execution_count": 7,
     "metadata": {},
     "output_type": "execute_result"
    }
   ],
   "source": [
    "df_turismo_emisor"
   ]
  },
  {
   "cell_type": "markdown",
   "id": "928701ae",
   "metadata": {},
   "source": [
    "# Limpieza fichero turismo emisor"
   ]
  },
  {
   "cell_type": "code",
   "execution_count": 8,
   "id": "1fc53bf0",
   "metadata": {},
   "outputs": [
    {
     "data": {
      "application/vnd.microsoft.datawrangler.viewer.v0+json": {
       "columns": [
        {
         "name": "index",
         "rawType": "int64",
         "type": "integer"
        },
        {
         "name": "AÑO",
         "rawType": "int64",
         "type": "integer"
        },
        {
         "name": "MES",
         "rawType": "int64",
         "type": "integer"
        },
        {
         "name": "CCAA_ORIGEN",
         "rawType": "object",
         "type": "string"
        },
        {
         "name": "CONTINENTE_DESTINO",
         "rawType": "object",
         "type": "string"
        },
        {
         "name": "PAIS_DESTINO",
         "rawType": "object",
         "type": "string"
        },
        {
         "name": "TURISTAS",
         "rawType": "object",
         "type": "string"
        },
        {
         "name": "PERNOCTACIONES",
         "rawType": "object",
         "type": "string"
        },
        {
         "name": "ESTANCIA_MEDIA",
         "rawType": "object",
         "type": "string"
        }
       ],
       "conversionMethod": "pd.DataFrame",
       "ref": "006b78f3-3aae-4450-bfac-88f51d33eaff",
       "rows": [
        [
         "0",
         "2019",
         "7",
         "Andalucía",
         "América",
         "Argentina",
         "419,0",
         "3616,0",
         "8,6"
        ],
        [
         "1",
         "2019",
         "7",
         "Andalucía",
         "América",
         "Bolivia",
         "61,0",
         "486,0",
         "8,0"
        ],
        [
         "2",
         "2019",
         "7",
         "Andalucía",
         "América",
         "Brasil",
         "277,0",
         "2214,0",
         "8,0"
        ],
        [
         "3",
         "2019",
         "7",
         "Andalucía",
         "América",
         "Canadá",
         "483,0",
         "6159,0",
         "12,8"
        ],
        [
         "4",
         "2019",
         "7",
         "Andalucía",
         "América",
         "Chile",
         "242,0",
         "2068,0",
         "8,5"
        ]
       ],
       "shape": {
        "columns": 8,
        "rows": 5
       }
      },
      "text/html": [
       "<div>\n",
       "<style scoped>\n",
       "    .dataframe tbody tr th:only-of-type {\n",
       "        vertical-align: middle;\n",
       "    }\n",
       "\n",
       "    .dataframe tbody tr th {\n",
       "        vertical-align: top;\n",
       "    }\n",
       "\n",
       "    .dataframe thead th {\n",
       "        text-align: right;\n",
       "    }\n",
       "</style>\n",
       "<table border=\"1\" class=\"dataframe\">\n",
       "  <thead>\n",
       "    <tr style=\"text-align: right;\">\n",
       "      <th></th>\n",
       "      <th>AÑO</th>\n",
       "      <th>MES</th>\n",
       "      <th>CCAA_ORIGEN</th>\n",
       "      <th>CONTINENTE_DESTINO</th>\n",
       "      <th>PAIS_DESTINO</th>\n",
       "      <th>TURISTAS</th>\n",
       "      <th>PERNOCTACIONES</th>\n",
       "      <th>ESTANCIA_MEDIA</th>\n",
       "    </tr>\n",
       "  </thead>\n",
       "  <tbody>\n",
       "    <tr>\n",
       "      <th>0</th>\n",
       "      <td>2019</td>\n",
       "      <td>7</td>\n",
       "      <td>Andalucía</td>\n",
       "      <td>América</td>\n",
       "      <td>Argentina</td>\n",
       "      <td>419,0</td>\n",
       "      <td>3616,0</td>\n",
       "      <td>8,6</td>\n",
       "    </tr>\n",
       "    <tr>\n",
       "      <th>1</th>\n",
       "      <td>2019</td>\n",
       "      <td>7</td>\n",
       "      <td>Andalucía</td>\n",
       "      <td>América</td>\n",
       "      <td>Bolivia</td>\n",
       "      <td>61,0</td>\n",
       "      <td>486,0</td>\n",
       "      <td>8,0</td>\n",
       "    </tr>\n",
       "    <tr>\n",
       "      <th>2</th>\n",
       "      <td>2019</td>\n",
       "      <td>7</td>\n",
       "      <td>Andalucía</td>\n",
       "      <td>América</td>\n",
       "      <td>Brasil</td>\n",
       "      <td>277,0</td>\n",
       "      <td>2214,0</td>\n",
       "      <td>8,0</td>\n",
       "    </tr>\n",
       "    <tr>\n",
       "      <th>3</th>\n",
       "      <td>2019</td>\n",
       "      <td>7</td>\n",
       "      <td>Andalucía</td>\n",
       "      <td>América</td>\n",
       "      <td>Canadá</td>\n",
       "      <td>483,0</td>\n",
       "      <td>6159,0</td>\n",
       "      <td>12,8</td>\n",
       "    </tr>\n",
       "    <tr>\n",
       "      <th>4</th>\n",
       "      <td>2019</td>\n",
       "      <td>7</td>\n",
       "      <td>Andalucía</td>\n",
       "      <td>América</td>\n",
       "      <td>Chile</td>\n",
       "      <td>242,0</td>\n",
       "      <td>2068,0</td>\n",
       "      <td>8,5</td>\n",
       "    </tr>\n",
       "  </tbody>\n",
       "</table>\n",
       "</div>"
      ],
      "text/plain": [
       "    AÑO  MES CCAA_ORIGEN CONTINENTE_DESTINO PAIS_DESTINO TURISTAS  \\\n",
       "0  2019    7   Andalucía            América    Argentina    419,0   \n",
       "1  2019    7   Andalucía            América      Bolivia     61,0   \n",
       "2  2019    7   Andalucía            América       Brasil    277,0   \n",
       "3  2019    7   Andalucía            América       Canadá    483,0   \n",
       "4  2019    7   Andalucía            América        Chile    242,0   \n",
       "\n",
       "  PERNOCTACIONES ESTANCIA_MEDIA  \n",
       "0         3616,0            8,6  \n",
       "1          486,0            8,0  \n",
       "2         2214,0            8,0  \n",
       "3         6159,0           12,8  \n",
       "4         2068,0            8,5  "
      ]
     },
     "execution_count": 8,
     "metadata": {},
     "output_type": "execute_result"
    }
   ],
   "source": [
    "df_turismo_emisor.head()"
   ]
  },
  {
   "cell_type": "code",
   "execution_count": 9,
   "id": "96356ea8",
   "metadata": {},
   "outputs": [],
   "source": [
    "#dejo solo los datos concretos a un pais:\n",
    "indice_otros= df_turismo_emisor[df_turismo_emisor.PAIS_DESTINO.str.contains('Otros')].index.tolist()\n",
    "indice_total=df_turismo_emisor[df_turismo_emisor.PAIS_DESTINO.str.contains('Total')].index.tolist()\n",
    "indices_eliminar = indice_otros+indice_total\n",
    "indices_eliminar\n",
    "df_turismo_emisor.drop(indices_eliminar,inplace=True)"
   ]
  },
  {
   "cell_type": "code",
   "execution_count": 10,
   "id": "6cac24d3",
   "metadata": {},
   "outputs": [],
   "source": [
    "#Reemplazo los valores que al unirlo con el DF de escrapeo da lugar a duplicados:\n",
    "df_turismo_emisor.PAIS_DESTINO= df_turismo_emisor.PAIS_DESTINO.replace(\n",
    "    {'Antigua y Barbuda': 'Antigua',\n",
    "    'Estados Unidos de América':'Estados Unidos',\n",
    "    'Bhután': 'Bután',\n",
    "    'Corea':'Corea Del Sur',\n",
    "    'Zimbabwe':'Zimbabue'})"
   ]
  },
  {
   "cell_type": "code",
   "execution_count": 11,
   "id": "0add03c7",
   "metadata": {},
   "outputs": [],
   "source": [
    "#guardo el fichero procesado\n",
    "ARCHIVO_GUARDAR_DATOS_API_PROCESADOS=os.getenv('ARCHIVO_GUARDAR_DATOS_API_PROCESADOS')\n",
    "df_turismo_emisor.to_csv(ARCHIVO_GUARDAR_DATOS_API_PROCESADOS)"
   ]
  },
  {
   "cell_type": "markdown",
   "id": "c5167b36",
   "metadata": {},
   "source": [
    "# Limpieza tabla continente"
   ]
  },
  {
   "cell_type": "code",
   "execution_count": 8,
   "id": "5b0eab75",
   "metadata": {},
   "outputs": [
    {
     "data": {
      "application/vnd.microsoft.datawrangler.viewer.v0+json": {
       "columns": [
        {
         "name": "index",
         "rawType": "int64",
         "type": "integer"
        },
        {
         "name": "continente",
         "rawType": "object",
         "type": "string"
        },
        {
         "name": "pais",
         "rawType": "object",
         "type": "string"
        }
       ],
       "conversionMethod": "pd.DataFrame",
       "ref": "4069a360-7101-4594-8ba8-3d43187dbfcd",
       "rows": [
        [
         "0",
         "Europa",
         "Albania"
        ],
        [
         "1",
         "Europa",
         "Alemania"
        ],
        [
         "2",
         "Caribe",
         "Antigua"
        ],
        [
         "3",
         "América",
         "Argentina"
        ],
        [
         "4",
         "Caribe",
         "Aruba"
        ],
        [
         "5",
         "Oceanía",
         "Australia"
        ],
        [
         "6",
         "Europa",
         "Austria"
        ],
        [
         "7",
         "Caribe",
         "Bahamas"
        ],
        [
         "8",
         "Caribe",
         "Barbados"
        ],
        [
         "9",
         "Europa",
         "Bélgica"
        ],
        [
         "10",
         "América",
         "Belice"
        ],
        [
         "11",
         "América",
         "Bolivia"
        ],
        [
         "12",
         "África",
         "Botsuana"
        ],
        [
         "13",
         "América",
         "Brasil"
        ],
        [
         "14",
         "Europa",
         "Bulgaria"
        ],
        [
         "15",
         "Asia",
         "Bután"
        ],
        [
         "16",
         "África",
         "Cabo Verde"
        ],
        [
         "17",
         "Asia",
         "Camboya"
        ],
        [
         "18",
         "América",
         "Canadá"
        ],
        [
         "19",
         "América",
         "Chile"
        ],
        [
         "20",
         "Asia",
         "China"
        ],
        [
         "21",
         "Europa",
         "Chipre"
        ],
        [
         "22",
         "América",
         "Colombia"
        ],
        [
         "23",
         "Asia",
         "Corea Del Sur"
        ],
        [
         "24",
         "América",
         "Costa Rica"
        ],
        [
         "25",
         "Europa",
         "Croacia"
        ],
        [
         "26",
         "Caribe",
         "Curaçao"
        ],
        [
         "27",
         "Europa",
         "Dinamarca"
        ],
        [
         "28",
         "Caribe",
         "Dominica"
        ],
        [
         "29",
         "América",
         "Ecuador"
        ],
        [
         "30",
         "África",
         "Egipto"
        ],
        [
         "31",
         "América",
         "El Salvador"
        ],
        [
         "32",
         "Oriente Medio",
         "Emiratos Árabes Unidos"
        ],
        [
         "33",
         "Europa",
         "Eslovaquia"
        ],
        [
         "34",
         "Europa",
         "Eslovenia"
        ],
        [
         "35",
         "Europa",
         "España"
        ],
        [
         "36",
         "América",
         "Estados Unidos"
        ],
        [
         "37",
         "Europa",
         "Estonia"
        ],
        [
         "38",
         "Islas Exóticas",
         "Fiji"
        ],
        [
         "39",
         "Asia",
         "Filipinas"
        ],
        [
         "40",
         "Europa",
         "Finlandia"
        ],
        [
         "41",
         "Europa",
         "Francia"
        ],
        [
         "42",
         "Oriente Medio",
         "Georgia"
        ],
        [
         "43",
         "Caribe",
         "Granada"
        ],
        [
         "44",
         "Europa",
         "Grecia"
        ],
        [
         "45",
         "Caribe",
         "Guadalupe"
        ],
        [
         "46",
         "América",
         "Guatemala"
        ],
        [
         "47",
         "América",
         "Honduras"
        ],
        [
         "48",
         "Europa",
         "Hungría"
        ],
        [
         "49",
         "Asia",
         "India"
        ]
       ],
       "shape": {
        "columns": 2,
        "rows": 125
       }
      },
      "text/html": [
       "<div>\n",
       "<style scoped>\n",
       "    .dataframe tbody tr th:only-of-type {\n",
       "        vertical-align: middle;\n",
       "    }\n",
       "\n",
       "    .dataframe tbody tr th {\n",
       "        vertical-align: top;\n",
       "    }\n",
       "\n",
       "    .dataframe thead th {\n",
       "        text-align: right;\n",
       "    }\n",
       "</style>\n",
       "<table border=\"1\" class=\"dataframe\">\n",
       "  <thead>\n",
       "    <tr style=\"text-align: right;\">\n",
       "      <th></th>\n",
       "      <th>continente</th>\n",
       "      <th>pais</th>\n",
       "    </tr>\n",
       "  </thead>\n",
       "  <tbody>\n",
       "    <tr>\n",
       "      <th>0</th>\n",
       "      <td>Europa</td>\n",
       "      <td>Albania</td>\n",
       "    </tr>\n",
       "    <tr>\n",
       "      <th>1</th>\n",
       "      <td>Europa</td>\n",
       "      <td>Alemania</td>\n",
       "    </tr>\n",
       "    <tr>\n",
       "      <th>2</th>\n",
       "      <td>Caribe</td>\n",
       "      <td>Antigua</td>\n",
       "    </tr>\n",
       "    <tr>\n",
       "      <th>3</th>\n",
       "      <td>América</td>\n",
       "      <td>Argentina</td>\n",
       "    </tr>\n",
       "    <tr>\n",
       "      <th>4</th>\n",
       "      <td>Caribe</td>\n",
       "      <td>Aruba</td>\n",
       "    </tr>\n",
       "    <tr>\n",
       "      <th>...</th>\n",
       "      <td>...</td>\n",
       "      <td>...</td>\n",
       "    </tr>\n",
       "    <tr>\n",
       "      <th>1075</th>\n",
       "      <td>Oriente Medio</td>\n",
       "      <td>Armenia</td>\n",
       "    </tr>\n",
       "    <tr>\n",
       "      <th>1437</th>\n",
       "      <td>Oriente Medio</td>\n",
       "      <td>Arabia Saudí</td>\n",
       "    </tr>\n",
       "    <tr>\n",
       "      <th>1498</th>\n",
       "      <td>Europa</td>\n",
       "      <td>Laponia</td>\n",
       "    </tr>\n",
       "    <tr>\n",
       "      <th>2186</th>\n",
       "      <td>Europa</td>\n",
       "      <td>Bosnia y Herzegovina</td>\n",
       "    </tr>\n",
       "    <tr>\n",
       "      <th>2240</th>\n",
       "      <td>Europa</td>\n",
       "      <td>Macedonia</td>\n",
       "    </tr>\n",
       "  </tbody>\n",
       "</table>\n",
       "<p>125 rows × 2 columns</p>\n",
       "</div>"
      ],
      "text/plain": [
       "         continente                  pais\n",
       "0            Europa               Albania\n",
       "1            Europa              Alemania\n",
       "2            Caribe               Antigua\n",
       "3           América             Argentina\n",
       "4            Caribe                 Aruba\n",
       "...             ...                   ...\n",
       "1075  Oriente Medio               Armenia\n",
       "1437  Oriente Medio          Arabia Saudí\n",
       "1498         Europa               Laponia\n",
       "2186         Europa  Bosnia y Herzegovina\n",
       "2240         Europa             Macedonia\n",
       "\n",
       "[125 rows x 2 columns]"
      ]
     },
     "execution_count": 8,
     "metadata": {},
     "output_type": "execute_result"
    }
   ],
   "source": [
    "df_continentes_reducido = df_continentes[['continente', 'pais']].drop_duplicates()\n",
    "df_continentes_reducido"
   ]
  },
  {
   "cell_type": "code",
   "execution_count": 9,
   "id": "58f2e76c",
   "metadata": {},
   "outputs": [],
   "source": [
    "#compruebo si hay paises con más de un continente asociado\n",
    "for pais in df_continentes_reducido.pais:\n",
    "    df_pais = df_continentes_reducido[df_continentes_reducido['pais'] == pais]\n",
    "    contador_continentes = df_pais.continente.value_counts()\n",
    "    if len(contador_continentes)>1:\n",
    "        print(f' para {pais} hay {len(contador_continentes)} continentes')"
   ]
  },
  {
   "cell_type": "code",
   "execution_count": 10,
   "id": "bc14d851",
   "metadata": {},
   "outputs": [
    {
     "data": {
      "text/plain": [
       "array(['Europa', 'Caribe', 'América', 'Oceanía', 'África', 'Asia',\n",
       "       'Oriente Medio', 'Islas Exóticas'], dtype=object)"
      ]
     },
     "execution_count": 10,
     "metadata": {},
     "output_type": "execute_result"
    }
   ],
   "source": [
    "df_continentes.continente.unique()"
   ]
  },
  {
   "cell_type": "markdown",
   "id": "5a67b312",
   "metadata": {},
   "source": [
    "## Obtención de los continentes correctos de los paises en Caribe, Oriente Medio e Islas Exóticas\n",
    "Como existen continentes que realmente no son, obtengo los continentes correctos para que los datos en la BBDD sean correctos a través de la api OpenCage"
   ]
  },
  {
   "cell_type": "code",
   "execution_count": 12,
   "id": "77f1429f",
   "metadata": {},
   "outputs": [],
   "source": [
    "#creación de la api key\n",
    "API_KEY= os.getenv(\"API_KEY\")\n",
    "ARCHIVO_GUARDAR_ESCRAPEO_API_OPENCAGE=os.getenv('ARCHIVO_GUARDAR_ESCRAPEO_API_OPENCAGE')"
   ]
  },
  {
   "cell_type": "code",
   "execution_count": 24,
   "id": "285456cb",
   "metadata": {},
   "outputs": [],
   "source": [
    "ARCHIVO_GUARDAR_TOTAL_CIUDADES_API=os.getenv('ARCHIVO_GUARDAR_TOTAL_CIUDADES_API')"
   ]
  },
  {
   "cell_type": "code",
   "execution_count": 25,
   "id": "53b04065",
   "metadata": {},
   "outputs": [],
   "source": [
    "df_paises_api_todas_ciudades= pd.read_pickle(ARCHIVO_GUARDAR_TOTAL_CIUDADES_API)"
   ]
  },
  {
   "cell_type": "code",
   "execution_count": 26,
   "id": "ae8f4fe9",
   "metadata": {},
   "outputs": [
    {
     "data": {
      "application/vnd.microsoft.datawrangler.viewer.v0+json": {
       "columns": [
        {
         "name": "index",
         "rawType": "int64",
         "type": "integer"
        },
        {
         "name": "ciudad",
         "rawType": "object",
         "type": "string"
        },
        {
         "name": "continente_api",
         "rawType": "object",
         "type": "unknown"
        },
        {
         "name": "pais_api",
         "rawType": "object",
         "type": "unknown"
        },
        {
         "name": "latitud",
         "rawType": "object",
         "type": "unknown"
        },
        {
         "name": "longitud",
         "rawType": "object",
         "type": "unknown"
        }
       ],
       "conversionMethod": "pd.DataFrame",
       "ref": "b3971401-682d-429d-80ec-dc43a47a3a12",
       "rows": [
        [
         "0",
         "Tirana",
         "Europe",
         "Albania",
         "41.3281482",
         "19.8184435"
        ],
        [
         "1",
         "Dürres",
         "Europe",
         "Albania",
         "41.313255",
         "19.4462348"
        ],
        [
         "2",
         "Berat",
         "Europe",
         "Albania",
         "40.7018636",
         "19.9580758"
        ],
        [
         "3",
         "Kruja",
         "Europe",
         "Albania",
         "41.511251",
         "19.792852"
        ],
        [
         "4",
         "Shkodër",
         "Europe",
         "Albania",
         "42.0681371",
         "19.5121437"
        ],
        [
         "5",
         "Petrovac",
         "Europe",
         "Montenegro",
         "42.2068358",
         "18.9428248"
        ],
        [
         "6",
         "Budva",
         "Europe",
         "Montenegro",
         "42.2885656",
         "18.8419505"
        ],
        [
         "7",
         "Cetinje",
         "Europe",
         "Montenegro",
         "42.389633",
         "18.9246085"
        ],
        [
         "8",
         "Bar",
         "Europe",
         "Montenegro",
         "42.0979745",
         "19.0954528"
        ],
        [
         "9",
         "Salzburgo",
         "Europe",
         "Austria",
         "47.7981346",
         "13.0464806"
        ],
        [
         "10",
         "Gmunden",
         "Europe",
         "Austria",
         "47.9185855",
         "13.8003048"
        ],
        [
         "11",
         "Linz",
         "Europe",
         "Austria",
         "48.3059078",
         "14.286198"
        ],
        [
         "12",
         "Melk",
         "Europe",
         "Austria",
         "48.2272068",
         "15.3369992"
        ],
        [
         "13",
         "Viena",
         "Europe",
         "Austria",
         "48.2083537",
         "16.3725042"
        ],
        [
         "14",
         "Graz",
         "Europe",
         "Austria",
         "47.0708678",
         "15.4382786"
        ],
        [
         "15",
         "Hallstatt",
         "Europe",
         "Austria",
         "47.5621698",
         "13.6486697"
        ],
        [
         "16",
         "St Wolfgang",
         "Europe",
         "Alemania",
         "48.2192116",
         "12.1344678"
        ],
        [
         "17",
         "St Johann in Tirol",
         "Europe",
         "Austria",
         "47.5224141",
         "12.4286809"
        ],
        [
         "18",
         "Innsbruck",
         "Europe",
         "Austria",
         "47.2654296",
         "11.3927685"
        ],
        [
         "19",
         "Bruselas",
         "Europe",
         "Bélgica",
         "50.8465573",
         "4.351697"
        ],
        [
         "20",
         "Durbuy",
         "Europe",
         "Bélgica",
         "50.3524116",
         "5.456248"
        ],
        [
         "21",
         "Lieja",
         "Europe",
         "Bélgica",
         "50.6450944",
         "5.5736112"
        ],
        [
         "22",
         "Aquisgrán",
         "Europe",
         "Alemania",
         "50.776351",
         "6.083862"
        ],
        [
         "23",
         "Colonia",
         "South America",
         "Uruguay",
         "-34.4698592",
         "-57.8433679"
        ],
        [
         "24",
         "Bonn",
         "Europe",
         "Alemania",
         "50.7352621",
         "7.1024635"
        ],
        [
         "25",
         "Königswinter",
         "Europe",
         "Alemania",
         "50.6739719",
         "7.1930989"
        ],
        [
         "26",
         "Coblenza",
         "Europe",
         "Alemania",
         "50.3533278",
         "7.5943951"
        ],
        [
         "27",
         "Boppard",
         "Europe",
         "Alemania",
         "50.2312823",
         "7.5885884"
        ],
        [
         "28",
         "Cochem",
         "Europe",
         "Alemania",
         "50.1483916",
         "7.1663195"
        ],
        [
         "29",
         "Tréveris",
         "Europe",
         "Alemania",
         "49.7596208",
         "6.6441878"
        ],
        [
         "30",
         "Luxemburgo",
         "Europe",
         "Luxemburgo",
         "49.8158683",
         "6.1296751"
        ],
        [
         "31",
         "Dinant",
         "Europe",
         "Bélgica",
         "50.2591813",
         "4.9130588"
        ],
        [
         "32",
         "Gante",
         "Europe",
         "Bélgica",
         "51.0538286",
         "3.7250121"
        ],
        [
         "33",
         "Brujas",
         "Europe",
         "Bélgica",
         "51.2085526",
         "3.226772"
        ],
        [
         "34",
         "Lovaina",
         "Europe",
         "Bélgica",
         "50.879202",
         "4.7011675"
        ],
        [
         "35",
         "Malinas",
         "Europe",
         "Bélgica",
         "51.0281381",
         "4.4803453"
        ],
        [
         "36",
         "Amberes",
         "Europe",
         "Bélgica",
         "51.2211097",
         "4.3997081"
        ],
        [
         "37",
         "sbruck",
         "Información desconocida",
         "Información desconocida",
         "Información desconocida",
         "Información desconocida"
        ],
        [
         "38",
         "Cataratas Krimml",
         "Europe",
         "Austria",
         "47.21667",
         "12.18333"
        ],
        [
         "39",
         "Vipiteno",
         "Europe",
         "Italia",
         "46.8963235",
         "11.4319398"
        ],
        [
         "40",
         "Bresanona",
         "Europe",
         "Italia",
         "46.71503",
         "11.65598"
        ],
        [
         "41",
         "Bolzano",
         "Europe",
         "Italia",
         "46.6559455",
         "11.2302129"
        ],
        [
         "42",
         "Trento",
         "Europe",
         "Italia",
         "46.1029536",
         "11.1297425"
        ],
        [
         "43",
         "Marmolada",
         "Europe",
         "Italia",
         "46.4243637",
         "11.8467159"
        ],
        [
         "44",
         "Canazei",
         "Europe",
         "Italia",
         "46.4768809",
         "11.7710748"
        ],
        [
         "45",
         "Cortina D’Ampezzo",
         "Europe",
         "Italia",
         "46.5383332",
         "12.1373506"
        ],
        [
         "46",
         "Brunico",
         "Europe",
         "Italia",
         "46.7963194",
         "11.9355121"
        ],
        [
         "47",
         "Frankfurt",
         "Europe",
         "Alemania",
         "50.1106444",
         "8.6820917"
        ],
        [
         "48",
         "Baden-Baden",
         "Europe",
         "Alemania",
         "48.7610716",
         "8.239959"
        ],
        [
         "49",
         "Estrasburgo",
         "Europe",
         "Francia",
         "48.584614",
         "7.7507127"
        ]
       ],
       "shape": {
        "columns": 5,
        "rows": 2101
       }
      },
      "text/html": [
       "<div>\n",
       "<style scoped>\n",
       "    .dataframe tbody tr th:only-of-type {\n",
       "        vertical-align: middle;\n",
       "    }\n",
       "\n",
       "    .dataframe tbody tr th {\n",
       "        vertical-align: top;\n",
       "    }\n",
       "\n",
       "    .dataframe thead th {\n",
       "        text-align: right;\n",
       "    }\n",
       "</style>\n",
       "<table border=\"1\" class=\"dataframe\">\n",
       "  <thead>\n",
       "    <tr style=\"text-align: right;\">\n",
       "      <th></th>\n",
       "      <th>ciudad</th>\n",
       "      <th>continente_api</th>\n",
       "      <th>pais_api</th>\n",
       "      <th>latitud</th>\n",
       "      <th>longitud</th>\n",
       "    </tr>\n",
       "  </thead>\n",
       "  <tbody>\n",
       "    <tr>\n",
       "      <th>0</th>\n",
       "      <td>Tirana</td>\n",
       "      <td>Europe</td>\n",
       "      <td>Albania</td>\n",
       "      <td>41.328148</td>\n",
       "      <td>19.818444</td>\n",
       "    </tr>\n",
       "    <tr>\n",
       "      <th>1</th>\n",
       "      <td>Dürres</td>\n",
       "      <td>Europe</td>\n",
       "      <td>Albania</td>\n",
       "      <td>41.313255</td>\n",
       "      <td>19.446235</td>\n",
       "    </tr>\n",
       "    <tr>\n",
       "      <th>2</th>\n",
       "      <td>Berat</td>\n",
       "      <td>Europe</td>\n",
       "      <td>Albania</td>\n",
       "      <td>40.701864</td>\n",
       "      <td>19.958076</td>\n",
       "    </tr>\n",
       "    <tr>\n",
       "      <th>3</th>\n",
       "      <td>Kruja</td>\n",
       "      <td>Europe</td>\n",
       "      <td>Albania</td>\n",
       "      <td>41.511251</td>\n",
       "      <td>19.792852</td>\n",
       "    </tr>\n",
       "    <tr>\n",
       "      <th>4</th>\n",
       "      <td>Shkodër</td>\n",
       "      <td>Europe</td>\n",
       "      <td>Albania</td>\n",
       "      <td>42.068137</td>\n",
       "      <td>19.512144</td>\n",
       "    </tr>\n",
       "    <tr>\n",
       "      <th>...</th>\n",
       "      <td>...</td>\n",
       "      <td>...</td>\n",
       "      <td>...</td>\n",
       "      <td>...</td>\n",
       "      <td>...</td>\n",
       "    </tr>\n",
       "    <tr>\n",
       "      <th>1471</th>\n",
       "      <td>Mesa Verde</td>\n",
       "      <td>North America</td>\n",
       "      <td>Estados Unidos de América</td>\n",
       "      <td>33.605858</td>\n",
       "      <td>-114.731072</td>\n",
       "    </tr>\n",
       "    <tr>\n",
       "      <th>1472</th>\n",
       "      <td>Great Sand</td>\n",
       "      <td>Oceania</td>\n",
       "      <td>Australia</td>\n",
       "      <td>-38.262747</td>\n",
       "      <td>144.775661</td>\n",
       "    </tr>\n",
       "    <tr>\n",
       "      <th>1473</th>\n",
       "      <td>Dunes</td>\n",
       "      <td>Europe</td>\n",
       "      <td>Francia</td>\n",
       "      <td>44.087932</td>\n",
       "      <td>0.769998</td>\n",
       "    </tr>\n",
       "    <tr>\n",
       "      <th>1474</th>\n",
       "      <td>Pueblo</td>\n",
       "      <td>North America</td>\n",
       "      <td>Estados Unidos de América</td>\n",
       "      <td>38.263995</td>\n",
       "      <td>-104.614187</td>\n",
       "    </tr>\n",
       "    <tr>\n",
       "      <th>1475</th>\n",
       "      <td>Jeju</td>\n",
       "      <td>Asia</td>\n",
       "      <td>Corea del Sur</td>\n",
       "      <td>33.488774</td>\n",
       "      <td>126.498708</td>\n",
       "    </tr>\n",
       "  </tbody>\n",
       "</table>\n",
       "<p>2101 rows × 5 columns</p>\n",
       "</div>"
      ],
      "text/plain": [
       "          ciudad continente_api                   pais_api    latitud  \\\n",
       "0         Tirana         Europe                    Albania  41.328148   \n",
       "1         Dürres         Europe                    Albania  41.313255   \n",
       "2          Berat         Europe                    Albania  40.701864   \n",
       "3          Kruja         Europe                    Albania  41.511251   \n",
       "4        Shkodër         Europe                    Albania  42.068137   \n",
       "...          ...            ...                        ...        ...   \n",
       "1471  Mesa Verde  North America  Estados Unidos de América  33.605858   \n",
       "1472  Great Sand        Oceania                  Australia -38.262747   \n",
       "1473       Dunes         Europe                    Francia  44.087932   \n",
       "1474      Pueblo  North America  Estados Unidos de América  38.263995   \n",
       "1475        Jeju           Asia              Corea del Sur  33.488774   \n",
       "\n",
       "        longitud  \n",
       "0      19.818444  \n",
       "1      19.446235  \n",
       "2      19.958076  \n",
       "3      19.792852  \n",
       "4      19.512144  \n",
       "...          ...  \n",
       "1471 -114.731072  \n",
       "1472  144.775661  \n",
       "1473    0.769998  \n",
       "1474 -104.614187  \n",
       "1475  126.498708  \n",
       "\n",
       "[2101 rows x 5 columns]"
      ]
     },
     "execution_count": 26,
     "metadata": {},
     "output_type": "execute_result"
    }
   ],
   "source": [
    "df_paises_api_todas_ciudades"
   ]
  },
  {
   "cell_type": "code",
   "execution_count": 15,
   "id": "629eb430",
   "metadata": {},
   "outputs": [
    {
     "data": {
      "application/vnd.microsoft.datawrangler.viewer.v0+json": {
       "columns": [
        {
         "name": "index",
         "rawType": "int64",
         "type": "integer"
        },
        {
         "name": "pais",
         "rawType": "object",
         "type": "unknown"
        },
        {
         "name": "continente_api",
         "rawType": "object",
         "type": "string"
        },
        {
         "name": "pais_api",
         "rawType": "object",
         "type": "string"
        },
        {
         "name": "latitud",
         "rawType": "object",
         "type": "unknown"
        },
        {
         "name": "longitud",
         "rawType": "object",
         "type": "unknown"
        },
        {
         "name": "ciudad",
         "rawType": "object",
         "type": "unknown"
        }
       ],
       "conversionMethod": "pd.DataFrame",
       "ref": "2046aae2-4341-434d-9e38-a7190707919e",
       "rows": [
        [
         "0",
         "Antigua",
         "América",
         "Antigua y Barbuda",
         "17.1037151",
         "-61.7904505",
         null
        ],
        [
         "1",
         "Aruba",
         "América",
         "Aruba",
         "12.5013629",
         "-69.9618475",
         null
        ],
        [
         "2",
         "Bahamas",
         "América",
         "Bahamas",
         "24.7736546",
         "-78.0000547",
         null
        ],
        [
         "3",
         "Barbados",
         "América",
         "Barbados",
         "13.1500331",
         "-59.5250305",
         null
        ],
        [
         "4",
         "Curaçao",
         "América",
         "Curazao",
         "12.1176488",
         "-68.9309263",
         null
        ],
        [
         "5",
         "Dominica",
         "América",
         "Dominica",
         "15.4113138",
         "-61.3653618",
         null
        ],
        [
         "6",
         "Emiratos Árabes Unidos",
         "Asia",
         "Emiratos Árabes Unidos",
         "24.0002488",
         "53.9994829",
         null
        ],
        [
         "7",
         "Fiji",
         "Oceanía",
         "Fiyi",
         "-18.1239696",
         "179.0122737",
         null
        ],
        [
         "8",
         "Georgia",
         "América",
         "Estados Unidos de América",
         "32.3293809",
         "-83.1137366",
         null
        ],
        [
         "9",
         "Granada",
         "América",
         "Granada",
         "12.1360374",
         "-61.6904045",
         null
        ],
        [
         "10",
         "Guadalupe",
         "América",
         "Francia",
         "16.2528827",
         "-61.5686855",
         null
        ],
        [
         "11",
         "Islas Caimán",
         "América",
         "Islas Caimán",
         "19.7031822",
         "-79.9174627",
         null
        ],
        [
         "12",
         "Islas Cook",
         "Oceanía",
         "Islas Cook",
         "-19.9969716",
         "-157.7858714",
         null
        ],
        [
         "13",
         "Jamaica",
         "América",
         "Jamaica",
         "18.1850507",
         "-77.3947693",
         null
        ],
        [
         "14",
         "Jordania",
         "Asia",
         "Jordania",
         "31.1667049",
         "36.941628",
         null
        ],
        [
         "15",
         "Maldivas",
         "Asia",
         "Maldivas",
         "3.7203503",
         "73.2244152",
         null
        ],
        [
         "16",
         "Martinica",
         "América",
         "Francia",
         "14.6113732",
         "-60.9620777",
         null
        ],
        [
         "17",
         "Mauricio",
         "África",
         "Mauricio",
         "-20.2759451",
         "57.5703566",
         null
        ],
        [
         "18",
         "Nueva Caledonia",
         "Oceanía",
         "Francia",
         "-21.3019905",
         "165.4880773",
         null
        ],
        [
         "19",
         "Omán",
         "Asia",
         "Omán",
         "21.0000287",
         "57.0036901",
         null
        ],
        [
         "20",
         "Polinesia Francesa",
         "Europa",
         "Francia",
         "-17.0243749",
         "-144.6434898",
         null
        ],
        [
         "21",
         "Puerto Rico",
         "América",
         "Estados Unidos de América",
         "18.2247706",
         "-66.4858295",
         null
        ],
        [
         "22",
         "Qatar",
         "Asia",
         "Catar",
         "25.3336984",
         "51.2295295",
         null
        ],
        [
         "23",
         "República Dominicana",
         "América",
         "República Dominicana",
         "19.0974031",
         "-70.3028026",
         null
        ],
        [
         "24",
         "Saint Martin",
         "Europa",
         "Francia",
         "48.3500473",
         "7.2904854",
         null
        ],
        [
         "25",
         "Samoa",
         "Oceanía",
         "Samoa",
         "-13.7693895",
         "-172.12005",
         null
        ],
        [
         "26",
         "Santa Lucía",
         "América",
         "Santa Lucía",
         "13.8250489",
         "-60.975036",
         null
        ],
        [
         "27",
         "Seychelles",
         "África",
         "Seychelles",
         "-4.6574977",
         "55.4540146",
         null
        ],
        [
         "28",
         "Turks and Caicos",
         "América",
         "Islas Turcas y Caicos",
         "21.721746",
         "-71.5527809",
         null
        ],
        [
         "29",
         "Turquía",
         "Asia",
         "Turquía",
         "39.294076",
         "35.2316631",
         null
        ],
        [
         "30",
         "Zanzíbar",
         "África",
         "Tanzania",
         "-6.1664908",
         "39.2074312",
         null
        ],
        [
         "31",
         "Riviera Maya",
         "América",
         "Estados Unidos de América",
         "40.4182456",
         "-86.8343675",
         null
        ],
        [
         "32",
         "Armenia",
         "Asia",
         "Armenia",
         "40.7696272",
         "44.6736646",
         null
        ],
        [
         "33",
         "Arabia Saudí",
         "Asia",
         "Arabia Saudita",
         "24.217621",
         "44.3222148",
         null
        ],
        [
         "34",
         null,
         "Europa",
         "Albania",
         "41.3281482",
         "19.8184435",
         "Tirana"
        ],
        [
         "35",
         null,
         "Europa",
         "Albania",
         "41.313255",
         "19.4462348",
         "Dürres"
        ],
        [
         "36",
         null,
         "Europa",
         "Albania",
         "40.7018636",
         "19.9580758",
         "Berat"
        ],
        [
         "37",
         null,
         "Europa",
         "Albania",
         "41.511251",
         "19.792852",
         "Kruja"
        ],
        [
         "38",
         null,
         "Europa",
         "Albania",
         "42.0681371",
         "19.5121437",
         "Shkodër"
        ],
        [
         "39",
         null,
         "Europa",
         "Austria",
         "47.9185855",
         "13.8003048",
         "Gmunden"
        ],
        [
         "40",
         null,
         "Europa",
         "Austria",
         "48.3059078",
         "14.286198",
         "Linz"
        ],
        [
         "41",
         null,
         "Europa",
         "Austria",
         "47.5621698",
         "13.6486697",
         "Hallstatt"
        ],
        [
         "42",
         null,
         "Europa",
         "Alemania",
         "48.2192116",
         "12.1344678",
         "St Wolfgang"
        ],
        [
         "43",
         null,
         "Europa",
         "Austria",
         "47.5224141",
         "12.4286809",
         "St Johann in Tirol"
        ],
        [
         "44",
         null,
         "Europa",
         "Bélgica",
         "50.8465573",
         "4.351697",
         "Bruselas"
        ],
        [
         "45",
         null,
         "Europa",
         "Bélgica",
         "50.3524116",
         "5.456248",
         "Durbuy"
        ],
        [
         "46",
         null,
         "Europa",
         "Bélgica",
         "50.6450944",
         "5.5736112",
         "Lieja"
        ],
        [
         "47",
         null,
         "Europa",
         "Alemania",
         "50.776351",
         "6.083862",
         "Aquisgrán"
        ],
        [
         "48",
         null,
         "América",
         "Uruguay",
         "-34.4698592",
         "-57.8433679",
         "Colonia"
        ],
        [
         "49",
         null,
         "Europa",
         "Alemania",
         "50.7352621",
         "7.1024635",
         "Bonn"
        ]
       ],
       "shape": {
        "columns": 6,
        "rows": 385
       }
      },
      "text/html": [
       "<div>\n",
       "<style scoped>\n",
       "    .dataframe tbody tr th:only-of-type {\n",
       "        vertical-align: middle;\n",
       "    }\n",
       "\n",
       "    .dataframe tbody tr th {\n",
       "        vertical-align: top;\n",
       "    }\n",
       "\n",
       "    .dataframe thead th {\n",
       "        text-align: right;\n",
       "    }\n",
       "</style>\n",
       "<table border=\"1\" class=\"dataframe\">\n",
       "  <thead>\n",
       "    <tr style=\"text-align: right;\">\n",
       "      <th></th>\n",
       "      <th>pais</th>\n",
       "      <th>continente_api</th>\n",
       "      <th>pais_api</th>\n",
       "      <th>latitud</th>\n",
       "      <th>longitud</th>\n",
       "      <th>ciudad</th>\n",
       "    </tr>\n",
       "  </thead>\n",
       "  <tbody>\n",
       "    <tr>\n",
       "      <th>0</th>\n",
       "      <td>Antigua</td>\n",
       "      <td>América</td>\n",
       "      <td>Antigua y Barbuda</td>\n",
       "      <td>17.103715</td>\n",
       "      <td>-61.79045</td>\n",
       "      <td>None</td>\n",
       "    </tr>\n",
       "    <tr>\n",
       "      <th>1</th>\n",
       "      <td>Aruba</td>\n",
       "      <td>América</td>\n",
       "      <td>Aruba</td>\n",
       "      <td>12.501363</td>\n",
       "      <td>-69.961848</td>\n",
       "      <td>None</td>\n",
       "    </tr>\n",
       "    <tr>\n",
       "      <th>2</th>\n",
       "      <td>Bahamas</td>\n",
       "      <td>América</td>\n",
       "      <td>Bahamas</td>\n",
       "      <td>24.773655</td>\n",
       "      <td>-78.000055</td>\n",
       "      <td>None</td>\n",
       "    </tr>\n",
       "    <tr>\n",
       "      <th>3</th>\n",
       "      <td>Barbados</td>\n",
       "      <td>América</td>\n",
       "      <td>Barbados</td>\n",
       "      <td>13.150033</td>\n",
       "      <td>-59.52503</td>\n",
       "      <td>None</td>\n",
       "    </tr>\n",
       "    <tr>\n",
       "      <th>4</th>\n",
       "      <td>Curaçao</td>\n",
       "      <td>América</td>\n",
       "      <td>Curazao</td>\n",
       "      <td>12.117649</td>\n",
       "      <td>-68.930926</td>\n",
       "      <td>None</td>\n",
       "    </tr>\n",
       "    <tr>\n",
       "      <th>...</th>\n",
       "      <td>...</td>\n",
       "      <td>...</td>\n",
       "      <td>...</td>\n",
       "      <td>...</td>\n",
       "      <td>...</td>\n",
       "      <td>...</td>\n",
       "    </tr>\n",
       "    <tr>\n",
       "      <th>380</th>\n",
       "      <td>NaN</td>\n",
       "      <td>Información desconocida</td>\n",
       "      <td>Información desconocida</td>\n",
       "      <td>Información desconocida</td>\n",
       "      <td>Información desconocida</td>\n",
       "      <td>Yllas</td>\n",
       "    </tr>\n",
       "    <tr>\n",
       "      <th>381</th>\n",
       "      <td>NaN</td>\n",
       "      <td>Europa</td>\n",
       "      <td>Eslovenia</td>\n",
       "      <td>46.67196</td>\n",
       "      <td>15.92369</td>\n",
       "      <td>Parque Nacional De Plitvice</td>\n",
       "    </tr>\n",
       "    <tr>\n",
       "      <th>382</th>\n",
       "      <td>NaN</td>\n",
       "      <td>Europa</td>\n",
       "      <td>Alemania</td>\n",
       "      <td>51.225402</td>\n",
       "      <td>6.776314</td>\n",
       "      <td>Dusseldorf</td>\n",
       "    </tr>\n",
       "    <tr>\n",
       "      <th>383</th>\n",
       "      <td>NaN</td>\n",
       "      <td>Información desconocida</td>\n",
       "      <td>Información desconocida</td>\n",
       "      <td>Información desconocida</td>\n",
       "      <td>Información desconocida</td>\n",
       "      <td>Delta De Okavango</td>\n",
       "    </tr>\n",
       "    <tr>\n",
       "      <th>384</th>\n",
       "      <td>NaN</td>\n",
       "      <td>África</td>\n",
       "      <td>Kenia</td>\n",
       "      <td>0.684929</td>\n",
       "      <td>37.783634</td>\n",
       "      <td>Samburu-shaba</td>\n",
       "    </tr>\n",
       "  </tbody>\n",
       "</table>\n",
       "<p>385 rows × 6 columns</p>\n",
       "</div>"
      ],
      "text/plain": [
       "         pais           continente_api                 pais_api  \\\n",
       "0     Antigua                  América        Antigua y Barbuda   \n",
       "1       Aruba                  América                    Aruba   \n",
       "2     Bahamas                  América                  Bahamas   \n",
       "3    Barbados                  América                 Barbados   \n",
       "4     Curaçao                  América                  Curazao   \n",
       "..        ...                      ...                      ...   \n",
       "380       NaN  Información desconocida  Información desconocida   \n",
       "381       NaN                   Europa                Eslovenia   \n",
       "382       NaN                   Europa                 Alemania   \n",
       "383       NaN  Información desconocida  Información desconocida   \n",
       "384       NaN                   África                    Kenia   \n",
       "\n",
       "                     latitud                 longitud  \\\n",
       "0                  17.103715                -61.79045   \n",
       "1                  12.501363               -69.961848   \n",
       "2                  24.773655               -78.000055   \n",
       "3                  13.150033                -59.52503   \n",
       "4                  12.117649               -68.930926   \n",
       "..                       ...                      ...   \n",
       "380  Información desconocida  Información desconocida   \n",
       "381                 46.67196                 15.92369   \n",
       "382                51.225402                 6.776314   \n",
       "383  Información desconocida  Información desconocida   \n",
       "384                 0.684929                37.783634   \n",
       "\n",
       "                          ciudad  \n",
       "0                           None  \n",
       "1                           None  \n",
       "2                           None  \n",
       "3                           None  \n",
       "4                           None  \n",
       "..                           ...  \n",
       "380                        Yllas  \n",
       "381  Parque Nacional De Plitvice  \n",
       "382                   Dusseldorf  \n",
       "383            Delta De Okavango  \n",
       "384                Samburu-shaba  \n",
       "\n",
       "[385 rows x 6 columns]"
      ]
     },
     "execution_count": 15,
     "metadata": {},
     "output_type": "execute_result"
    }
   ],
   "source": [
    "df_geolocalizacion_correcta_anterior"
   ]
  },
  {
   "cell_type": "code",
   "execution_count": 12,
   "id": "06f8cd8d",
   "metadata": {},
   "outputs": [
    {
     "name": "stdout",
     "output_type": "stream",
     "text": [
      "34\n",
      "0\n"
     ]
    }
   ],
   "source": [
    "#obtengo los paises/islas que no están asociados a los continentes reales:\n",
    "lista_paises_islas = df_continentes_reducido[~df_continentes_reducido.continente.isin(['Europa', 'América', 'Oceanía', 'África', 'Asia'])].pais.tolist()\n",
    "print(len(lista_paises_islas))\n",
    "if len(lista_paises_islas)>0:\n",
    "    #obtengo los datos ya obtenidos de la api de geolocalización\n",
    "    df_continentes_correctos_anterior= pd.read_pickle(ARCHIVO_GUARDAR_ESCRAPEO_API_OPENCAGE)\n",
    "    df_continentes_correctos_anterior_filtrado=df_continentes_correctos_anterior[df_continentes_correctos_anterior['pais'].notna()]\n",
    "    #incorporo la información en la tabla continentes original:\n",
    "    ex.incorporar_información_df_original(df_continentes, df_continentes_correctos_anterior_filtrado,\n",
    "                                      'pais', 'continente_api', 'continente', \n",
    "                                      df_continentes.continente.isin(['Caribe', 'Oriente Medio', 'Islas Exóticas']))\n",
    "    df_continentes_reducido = df_continentes[['continente', 'pais']].drop_duplicates()\n",
    "    lista_paises_islas = df_continentes_reducido[df_continentes_reducido.continente.isin(['Caribe', 'Oriente Medio', 'Islas Exóticas'])].pais.tolist()\n",
    "    print(len(lista_paises_islas))\n",
    "    if len(lista_paises_islas)>0:\n",
    "        #obtengo los datos de la api\n",
    "        df_continentes_correctos = pd.DataFrame()\n",
    "        df_continentes_correctos['pais']=lista_paises_islas\n",
    "        df_continentes_correctos[['continente_api','pais_api', 'latitud', 'longitud']]=(\n",
    "            df_continentes_correctos.apply(lambda fila:pd.Series(\n",
    "                tr.obtener_pais_continente_lat_long(fila['pais'], API_KEY)), axis=1)\n",
    "        )\n",
    "        #sustituyo los valores dados en Inglés por los valores en Español\n",
    "        df_continentes_correctos.continente_api= df_continentes_correctos.continente_api.replace({'North America':'América',\n",
    "                                                        'South America': 'América',\n",
    "                                                        'Africa': 'África',\n",
    "                                                        'Europe': 'Europa',\n",
    "                                                        'Oceania':'Oceanía'})\n",
    "        ex.incorporar_información_df_original(df_continentes, df_continentes_correctos,\n",
    "                                      'pais', 'continente_api', 'continente', \n",
    "                                      df_continentes.continente.isin(['Caribe', 'Oriente Medio', 'Islas Exóticas']))\n",
    "        df_continentes_correctos['ciudad']=None\n",
    "        df_continentes_agrupado_geolocalizacion_api = pd.concat([df_continentes_correctos_anterior,df_continentes_correctos],axis=0) #uno los 2 DF de la api de geolocalizacion\n",
    "    else:\n",
    "        df_continentes_agrupado_geolocalizacion_api=df_continentes_correctos_anterior\n",
    "    df_continentes_agrupado_geolocalizacion_api.to_pickle(ARCHIVO_GUARDAR_ESCRAPEO_API_OPENCAGE)"
   ]
  },
  {
   "cell_type": "code",
   "execution_count": 13,
   "id": "80c690a2",
   "metadata": {},
   "outputs": [
    {
     "data": {
      "text/plain": [
       "array(['Europa', 'América', 'Oceanía', 'África', 'Asia'], dtype=object)"
      ]
     },
     "execution_count": 13,
     "metadata": {},
     "output_type": "execute_result"
    }
   ],
   "source": [
    "df_continentes.continente.unique()"
   ]
  },
  {
   "cell_type": "code",
   "execution_count": 14,
   "id": "66cc86b2",
   "metadata": {},
   "outputs": [
    {
     "data": {
      "application/vnd.microsoft.datawrangler.viewer.v0+json": {
       "columns": [
        {
         "name": "index",
         "rawType": "int64",
         "type": "integer"
        },
        {
         "name": "continente",
         "rawType": "object",
         "type": "string"
        },
        {
         "name": "pais",
         "rawType": "object",
         "type": "string"
        },
        {
         "name": "fecha_escrapeo",
         "rawType": "datetime64[ns]",
         "type": "datetime"
        },
        {
         "name": "en_ultimo_escrapeo",
         "rawType": "object",
         "type": "string"
        }
       ],
       "conversionMethod": "pd.DataFrame",
       "ref": "4419283b-ffff-4d6b-81ef-34602320dd9b",
       "rows": [
        [
         "0",
         "Europa",
         "Albania",
         "2025-04-14 00:00:00",
         "Si"
        ],
        [
         "1",
         "Europa",
         "Alemania",
         "2025-04-14 00:00:00",
         "Si"
        ],
        [
         "2",
         "América",
         "Antigua",
         "2025-04-14 00:00:00",
         "Si"
        ],
        [
         "3",
         "América",
         "Argentina",
         "2025-04-14 00:00:00",
         "Si"
        ],
        [
         "4",
         "América",
         "Aruba",
         "2025-04-14 00:00:00",
         "Si"
        ]
       ],
       "shape": {
        "columns": 4,
        "rows": 5
       }
      },
      "text/html": [
       "<div>\n",
       "<style scoped>\n",
       "    .dataframe tbody tr th:only-of-type {\n",
       "        vertical-align: middle;\n",
       "    }\n",
       "\n",
       "    .dataframe tbody tr th {\n",
       "        vertical-align: top;\n",
       "    }\n",
       "\n",
       "    .dataframe thead th {\n",
       "        text-align: right;\n",
       "    }\n",
       "</style>\n",
       "<table border=\"1\" class=\"dataframe\">\n",
       "  <thead>\n",
       "    <tr style=\"text-align: right;\">\n",
       "      <th></th>\n",
       "      <th>continente</th>\n",
       "      <th>pais</th>\n",
       "      <th>fecha_escrapeo</th>\n",
       "      <th>en_ultimo_escrapeo</th>\n",
       "    </tr>\n",
       "  </thead>\n",
       "  <tbody>\n",
       "    <tr>\n",
       "      <th>0</th>\n",
       "      <td>Europa</td>\n",
       "      <td>Albania</td>\n",
       "      <td>2025-04-14</td>\n",
       "      <td>Si</td>\n",
       "    </tr>\n",
       "    <tr>\n",
       "      <th>1</th>\n",
       "      <td>Europa</td>\n",
       "      <td>Alemania</td>\n",
       "      <td>2025-04-14</td>\n",
       "      <td>Si</td>\n",
       "    </tr>\n",
       "    <tr>\n",
       "      <th>2</th>\n",
       "      <td>América</td>\n",
       "      <td>Antigua</td>\n",
       "      <td>2025-04-14</td>\n",
       "      <td>Si</td>\n",
       "    </tr>\n",
       "    <tr>\n",
       "      <th>3</th>\n",
       "      <td>América</td>\n",
       "      <td>Argentina</td>\n",
       "      <td>2025-04-14</td>\n",
       "      <td>Si</td>\n",
       "    </tr>\n",
       "    <tr>\n",
       "      <th>4</th>\n",
       "      <td>América</td>\n",
       "      <td>Aruba</td>\n",
       "      <td>2025-04-14</td>\n",
       "      <td>Si</td>\n",
       "    </tr>\n",
       "  </tbody>\n",
       "</table>\n",
       "</div>"
      ],
      "text/plain": [
       "  continente       pais fecha_escrapeo en_ultimo_escrapeo\n",
       "0     Europa    Albania     2025-04-14                 Si\n",
       "1     Europa   Alemania     2025-04-14                 Si\n",
       "2    América    Antigua     2025-04-14                 Si\n",
       "3    América  Argentina     2025-04-14                 Si\n",
       "4    América      Aruba     2025-04-14                 Si"
      ]
     },
     "execution_count": 14,
     "metadata": {},
     "output_type": "execute_result"
    }
   ],
   "source": [
    "df_continentes.head()"
   ]
  },
  {
   "cell_type": "code",
   "execution_count": 15,
   "id": "e07390e8",
   "metadata": {},
   "outputs": [],
   "source": [
    "ARCHIVO_GUARDAR_CONTINENTES_PROCESADOS=os.getenv(\"ARCHIVO_GUARDAR_CONTINENTES_PROCESADOS\")\n",
    "df_continentes.to_pickle(ARCHIVO_GUARDAR_CONTINENTES_PROCESADOS)"
   ]
  },
  {
   "cell_type": "markdown",
   "id": "1ac5b2cd",
   "metadata": {},
   "source": [
    "## Unión de los paises y continentes tanto escrapeados como obtenidos de la API de turismo emisor"
   ]
  },
  {
   "cell_type": "code",
   "execution_count": 16,
   "id": "99b4080d",
   "metadata": {},
   "outputs": [],
   "source": [
    "df_turismo_emisor_procesado=pd.read_csv(ARCHIVO_GUARDAR_DATOS_API_PROCESADOS)"
   ]
  },
  {
   "cell_type": "code",
   "execution_count": 17,
   "id": "fdd67090",
   "metadata": {},
   "outputs": [
    {
     "data": {
      "text/plain": [
       "Index(['Unnamed: 0', 'AÑO', 'MES', 'CCAA_ORIGEN', 'CONTINENTE_DESTINO',\n",
       "       'PAIS_DESTINO', 'TURISTAS', 'PERNOCTACIONES', 'ESTANCIA_MEDIA'],\n",
       "      dtype='object')"
      ]
     },
     "execution_count": 17,
     "metadata": {},
     "output_type": "execute_result"
    }
   ],
   "source": [
    "df_turismo_emisor_procesado.columns"
   ]
  },
  {
   "cell_type": "code",
   "execution_count": 18,
   "id": "f3c257fc",
   "metadata": {},
   "outputs": [
    {
     "data": {
      "application/vnd.microsoft.datawrangler.viewer.v0+json": {
       "columns": [
        {
         "name": "index",
         "rawType": "int64",
         "type": "integer"
        },
        {
         "name": "Unnamed: 0",
         "rawType": "int64",
         "type": "integer"
        },
        {
         "name": "AÑO",
         "rawType": "int64",
         "type": "integer"
        },
        {
         "name": "MES",
         "rawType": "int64",
         "type": "integer"
        },
        {
         "name": "CCAA_ORIGEN",
         "rawType": "object",
         "type": "string"
        },
        {
         "name": "CONTINENTE_DESTINO",
         "rawType": "object",
         "type": "string"
        },
        {
         "name": "PAIS_DESTINO",
         "rawType": "object",
         "type": "string"
        },
        {
         "name": "TURISTAS",
         "rawType": "object",
         "type": "string"
        },
        {
         "name": "PERNOCTACIONES",
         "rawType": "object",
         "type": "string"
        },
        {
         "name": "ESTANCIA_MEDIA",
         "rawType": "object",
         "type": "string"
        }
       ],
       "conversionMethod": "pd.DataFrame",
       "ref": "983bd9c6-2b18-4f24-a859-1fa985f9abdb",
       "rows": [
        [
         "0",
         "0",
         "2019",
         "7",
         "Andalucía",
         "América",
         "Argentina",
         "419,0",
         "3616,0",
         "8,6"
        ],
        [
         "1",
         "1",
         "2019",
         "7",
         "Andalucía",
         "América",
         "Bolivia",
         "61,0",
         "486,0",
         "8,0"
        ],
        [
         "2",
         "2",
         "2019",
         "7",
         "Andalucía",
         "América",
         "Brasil",
         "277,0",
         "2214,0",
         "8,0"
        ],
        [
         "3",
         "3",
         "2019",
         "7",
         "Andalucía",
         "América",
         "Canadá",
         "483,0",
         "6159,0",
         "12,8"
        ],
        [
         "4",
         "4",
         "2019",
         "7",
         "Andalucía",
         "América",
         "Chile",
         "242,0",
         "2068,0",
         "8,5"
        ]
       ],
       "shape": {
        "columns": 9,
        "rows": 5
       }
      },
      "text/html": [
       "<div>\n",
       "<style scoped>\n",
       "    .dataframe tbody tr th:only-of-type {\n",
       "        vertical-align: middle;\n",
       "    }\n",
       "\n",
       "    .dataframe tbody tr th {\n",
       "        vertical-align: top;\n",
       "    }\n",
       "\n",
       "    .dataframe thead th {\n",
       "        text-align: right;\n",
       "    }\n",
       "</style>\n",
       "<table border=\"1\" class=\"dataframe\">\n",
       "  <thead>\n",
       "    <tr style=\"text-align: right;\">\n",
       "      <th></th>\n",
       "      <th>Unnamed: 0</th>\n",
       "      <th>AÑO</th>\n",
       "      <th>MES</th>\n",
       "      <th>CCAA_ORIGEN</th>\n",
       "      <th>CONTINENTE_DESTINO</th>\n",
       "      <th>PAIS_DESTINO</th>\n",
       "      <th>TURISTAS</th>\n",
       "      <th>PERNOCTACIONES</th>\n",
       "      <th>ESTANCIA_MEDIA</th>\n",
       "    </tr>\n",
       "  </thead>\n",
       "  <tbody>\n",
       "    <tr>\n",
       "      <th>0</th>\n",
       "      <td>0</td>\n",
       "      <td>2019</td>\n",
       "      <td>7</td>\n",
       "      <td>Andalucía</td>\n",
       "      <td>América</td>\n",
       "      <td>Argentina</td>\n",
       "      <td>419,0</td>\n",
       "      <td>3616,0</td>\n",
       "      <td>8,6</td>\n",
       "    </tr>\n",
       "    <tr>\n",
       "      <th>1</th>\n",
       "      <td>1</td>\n",
       "      <td>2019</td>\n",
       "      <td>7</td>\n",
       "      <td>Andalucía</td>\n",
       "      <td>América</td>\n",
       "      <td>Bolivia</td>\n",
       "      <td>61,0</td>\n",
       "      <td>486,0</td>\n",
       "      <td>8,0</td>\n",
       "    </tr>\n",
       "    <tr>\n",
       "      <th>2</th>\n",
       "      <td>2</td>\n",
       "      <td>2019</td>\n",
       "      <td>7</td>\n",
       "      <td>Andalucía</td>\n",
       "      <td>América</td>\n",
       "      <td>Brasil</td>\n",
       "      <td>277,0</td>\n",
       "      <td>2214,0</td>\n",
       "      <td>8,0</td>\n",
       "    </tr>\n",
       "    <tr>\n",
       "      <th>3</th>\n",
       "      <td>3</td>\n",
       "      <td>2019</td>\n",
       "      <td>7</td>\n",
       "      <td>Andalucía</td>\n",
       "      <td>América</td>\n",
       "      <td>Canadá</td>\n",
       "      <td>483,0</td>\n",
       "      <td>6159,0</td>\n",
       "      <td>12,8</td>\n",
       "    </tr>\n",
       "    <tr>\n",
       "      <th>4</th>\n",
       "      <td>4</td>\n",
       "      <td>2019</td>\n",
       "      <td>7</td>\n",
       "      <td>Andalucía</td>\n",
       "      <td>América</td>\n",
       "      <td>Chile</td>\n",
       "      <td>242,0</td>\n",
       "      <td>2068,0</td>\n",
       "      <td>8,5</td>\n",
       "    </tr>\n",
       "  </tbody>\n",
       "</table>\n",
       "</div>"
      ],
      "text/plain": [
       "   Unnamed: 0   AÑO  MES CCAA_ORIGEN CONTINENTE_DESTINO PAIS_DESTINO TURISTAS  \\\n",
       "0           0  2019    7   Andalucía            América    Argentina    419,0   \n",
       "1           1  2019    7   Andalucía            América      Bolivia     61,0   \n",
       "2           2  2019    7   Andalucía            América       Brasil    277,0   \n",
       "3           3  2019    7   Andalucía            América       Canadá    483,0   \n",
       "4           4  2019    7   Andalucía            América        Chile    242,0   \n",
       "\n",
       "  PERNOCTACIONES ESTANCIA_MEDIA  \n",
       "0         3616,0            8,6  \n",
       "1          486,0            8,0  \n",
       "2         2214,0            8,0  \n",
       "3         6159,0           12,8  \n",
       "4         2068,0            8,5  "
      ]
     },
     "execution_count": 18,
     "metadata": {},
     "output_type": "execute_result"
    }
   ],
   "source": [
    "df_turismo_emisor_procesado.head()"
   ]
  },
  {
   "cell_type": "code",
   "execution_count": 19,
   "id": "e57e7226",
   "metadata": {},
   "outputs": [],
   "source": [
    "df_paises_continentes_turismos_emisor=df_turismo_emisor_procesado[['PAIS_DESTINO','CONTINENTE_DESTINO']]"
   ]
  },
  {
   "cell_type": "code",
   "execution_count": 20,
   "id": "1357a268",
   "metadata": {},
   "outputs": [
    {
     "data": {
      "text/plain": [
       "array(['América', 'Asia', 'Europa', 'Oceanía', 'África'], dtype=object)"
      ]
     },
     "execution_count": 20,
     "metadata": {},
     "output_type": "execute_result"
    }
   ],
   "source": [
    "df_paises_continentes_turismos_emisor.CONTINENTE_DESTINO.unique()"
   ]
  },
  {
   "cell_type": "code",
   "execution_count": 21,
   "id": "15d96254",
   "metadata": {},
   "outputs": [],
   "source": [
    "df_paises_continentes_escrapeo = pd.read_pickle(ARCHIVO_GUARDAR_CONTINENTES_PROCESADOS)"
   ]
  },
  {
   "cell_type": "code",
   "execution_count": null,
   "id": "970aa618",
   "metadata": {},
   "outputs": [],
   "source": []
  },
  {
   "cell_type": "code",
   "execution_count": 22,
   "id": "8d9cd292",
   "metadata": {},
   "outputs": [],
   "source": [
    "df_paises_continentes_escrapeo=df_paises_continentes_escrapeo[['pais','continente']]"
   ]
  },
  {
   "cell_type": "code",
   "execution_count": 23,
   "id": "e130e11b",
   "metadata": {},
   "outputs": [],
   "source": [
    "df_paises_continentes_escrapeo= df_paises_continentes_escrapeo.drop_duplicates()\n",
    "df_paises_continentes_turismos_emisor=df_paises_continentes_turismos_emisor.drop_duplicates()"
   ]
  },
  {
   "cell_type": "code",
   "execution_count": 24,
   "id": "ecef1c75",
   "metadata": {},
   "outputs": [
    {
     "data": {
      "application/vnd.microsoft.datawrangler.viewer.v0+json": {
       "columns": [
        {
         "name": "index",
         "rawType": "int64",
         "type": "integer"
        },
        {
         "name": "PAIS_DESTINO",
         "rawType": "object",
         "type": "string"
        },
        {
         "name": "CONTINENTE_DESTINO",
         "rawType": "object",
         "type": "string"
        }
       ],
       "conversionMethod": "pd.DataFrame",
       "ref": "a5563aee-8486-4ace-9cd7-e2e169d24cad",
       "rows": [
        [
         "0",
         "Argentina",
         "América"
        ],
        [
         "1",
         "Bolivia",
         "América"
        ],
        [
         "2",
         "Brasil",
         "América"
        ],
        [
         "3",
         "Canadá",
         "América"
        ],
        [
         "4",
         "Chile",
         "América"
        ],
        [
         "5",
         "Colombia",
         "América"
        ],
        [
         "6",
         "Costa Rica",
         "América"
        ],
        [
         "7",
         "Cuba",
         "América"
        ],
        [
         "8",
         "Ecuador",
         "América"
        ],
        [
         "9",
         "El Salvador",
         "América"
        ],
        [
         "10",
         "Estados Unidos",
         "América"
        ],
        [
         "11",
         "Guatemala",
         "América"
        ],
        [
         "12",
         "México",
         "América"
        ],
        [
         "13",
         "Panamá",
         "América"
        ],
        [
         "14",
         "Paraguay",
         "América"
        ],
        [
         "15",
         "Perú",
         "América"
        ],
        [
         "16",
         "República Dominicana",
         "América"
        ],
        [
         "17",
         "Uruguay",
         "América"
        ],
        [
         "18",
         "Venezuela",
         "América"
        ],
        [
         "19",
         "Arabia Saudí",
         "Asia"
        ],
        [
         "20",
         "Camboya",
         "Asia"
        ],
        [
         "21",
         "China",
         "Asia"
        ],
        [
         "22",
         "Corea Del Sur",
         "Asia"
        ],
        [
         "23",
         "Emiratos Árabes Unidos",
         "Asia"
        ],
        [
         "24",
         "Filipinas",
         "Asia"
        ],
        [
         "25",
         "India",
         "Asia"
        ],
        [
         "26",
         "Indonesia",
         "Asia"
        ],
        [
         "27",
         "Irán",
         "Asia"
        ],
        [
         "28",
         "Israel",
         "Asia"
        ],
        [
         "29",
         "Japón",
         "Asia"
        ],
        [
         "30",
         "Jordania",
         "Asia"
        ],
        [
         "31",
         "Líbano",
         "Asia"
        ],
        [
         "32",
         "Malasia",
         "Asia"
        ],
        [
         "33",
         "Maldivas",
         "Asia"
        ],
        [
         "34",
         "Nepal",
         "Asia"
        ],
        [
         "35",
         "Qatar",
         "Asia"
        ],
        [
         "36",
         "Singapur",
         "Asia"
        ],
        [
         "37",
         "Sri Lanka",
         "Asia"
        ],
        [
         "38",
         "Tailandia",
         "Asia"
        ],
        [
         "39",
         "Vietnam",
         "Asia"
        ],
        [
         "40",
         "Albania",
         "Europa"
        ],
        [
         "41",
         "Alemania",
         "Europa"
        ],
        [
         "42",
         "Andorra",
         "Europa"
        ],
        [
         "43",
         "Armenia",
         "Europa"
        ],
        [
         "44",
         "Austria",
         "Europa"
        ],
        [
         "45",
         "Bosnia y Herzegovina",
         "Europa"
        ],
        [
         "46",
         "Bulgaria",
         "Europa"
        ],
        [
         "47",
         "Bélgica",
         "Europa"
        ],
        [
         "48",
         "Chipre",
         "Europa"
        ],
        [
         "49",
         "Croacia",
         "Europa"
        ]
       ],
       "shape": {
        "columns": 2,
        "rows": 158
       }
      },
      "text/html": [
       "<div>\n",
       "<style scoped>\n",
       "    .dataframe tbody tr th:only-of-type {\n",
       "        vertical-align: middle;\n",
       "    }\n",
       "\n",
       "    .dataframe tbody tr th {\n",
       "        vertical-align: top;\n",
       "    }\n",
       "\n",
       "    .dataframe thead th {\n",
       "        text-align: right;\n",
       "    }\n",
       "</style>\n",
       "<table border=\"1\" class=\"dataframe\">\n",
       "  <thead>\n",
       "    <tr style=\"text-align: right;\">\n",
       "      <th></th>\n",
       "      <th>PAIS_DESTINO</th>\n",
       "      <th>CONTINENTE_DESTINO</th>\n",
       "    </tr>\n",
       "  </thead>\n",
       "  <tbody>\n",
       "    <tr>\n",
       "      <th>0</th>\n",
       "      <td>Argentina</td>\n",
       "      <td>América</td>\n",
       "    </tr>\n",
       "    <tr>\n",
       "      <th>1</th>\n",
       "      <td>Bolivia</td>\n",
       "      <td>América</td>\n",
       "    </tr>\n",
       "    <tr>\n",
       "      <th>2</th>\n",
       "      <td>Brasil</td>\n",
       "      <td>América</td>\n",
       "    </tr>\n",
       "    <tr>\n",
       "      <th>3</th>\n",
       "      <td>Canadá</td>\n",
       "      <td>América</td>\n",
       "    </tr>\n",
       "    <tr>\n",
       "      <th>4</th>\n",
       "      <td>Chile</td>\n",
       "      <td>América</td>\n",
       "    </tr>\n",
       "    <tr>\n",
       "      <th>...</th>\n",
       "      <td>...</td>\n",
       "      <td>...</td>\n",
       "    </tr>\n",
       "    <tr>\n",
       "      <th>39985</th>\n",
       "      <td>Djibouti</td>\n",
       "      <td>África</td>\n",
       "    </tr>\n",
       "    <tr>\n",
       "      <th>40484</th>\n",
       "      <td>Trinidad y Tobago</td>\n",
       "      <td>América</td>\n",
       "    </tr>\n",
       "    <tr>\n",
       "      <th>41885</th>\n",
       "      <td>Guyana</td>\n",
       "      <td>América</td>\n",
       "    </tr>\n",
       "    <tr>\n",
       "      <th>48538</th>\n",
       "      <td>Yemen</td>\n",
       "      <td>Asia</td>\n",
       "    </tr>\n",
       "    <tr>\n",
       "      <th>63994</th>\n",
       "      <td>Zambia</td>\n",
       "      <td>África</td>\n",
       "    </tr>\n",
       "  </tbody>\n",
       "</table>\n",
       "<p>158 rows × 2 columns</p>\n",
       "</div>"
      ],
      "text/plain": [
       "            PAIS_DESTINO CONTINENTE_DESTINO\n",
       "0              Argentina            América\n",
       "1                Bolivia            América\n",
       "2                 Brasil            América\n",
       "3                 Canadá            América\n",
       "4                  Chile            América\n",
       "...                  ...                ...\n",
       "39985           Djibouti             África\n",
       "40484  Trinidad y Tobago            América\n",
       "41885             Guyana            América\n",
       "48538              Yemen               Asia\n",
       "63994             Zambia             África\n",
       "\n",
       "[158 rows x 2 columns]"
      ]
     },
     "execution_count": 24,
     "metadata": {},
     "output_type": "execute_result"
    }
   ],
   "source": [
    "df_paises_continentes_turismos_emisor"
   ]
  },
  {
   "cell_type": "code",
   "execution_count": 25,
   "id": "bd67f00c",
   "metadata": {},
   "outputs": [],
   "source": [
    "df_paises_continentes_escrapeo.columns\n",
    "df_paises_continentes_escrapeo= df_paises_continentes_escrapeo.rename(\n",
    "    columns={'pais':'nombre_pais_destino', 'continente':'nombre_continente'})\n",
    "df_paises_continentes_escrapeo= df_paises_continentes_escrapeo.sort_values(by='nombre_pais_destino').reset_index(drop=True)"
   ]
  },
  {
   "cell_type": "code",
   "execution_count": 26,
   "id": "6d8a3041",
   "metadata": {},
   "outputs": [],
   "source": [
    "df_paises_continentes_turismos_emisor.columns\n",
    "df_paises_continentes_turismos_emisor= df_paises_continentes_turismos_emisor.rename(\n",
    "    columns={'PAIS_DESTINO':'nombre_pais_destino', 'CONTINENTE_DESTINO':'nombre_continente'})\n",
    "df_paises_continentes_turismos_emisor= df_paises_continentes_turismos_emisor.sort_values(by='nombre_pais_destino').reset_index(drop=True)"
   ]
  },
  {
   "cell_type": "code",
   "execution_count": 27,
   "id": "f4b9138f",
   "metadata": {},
   "outputs": [],
   "source": [
    "df_paises_continentes_totales=pd.concat(\n",
    "    [df_paises_continentes_escrapeo,df_paises_continentes_turismos_emisor], axis=0)"
   ]
  },
  {
   "cell_type": "code",
   "execution_count": 28,
   "id": "25bfe2a3",
   "metadata": {},
   "outputs": [],
   "source": [
    "df_paises_continentes_totales = df_paises_continentes_totales.drop_duplicates(['nombre_pais_destino', 'nombre_continente'])"
   ]
  },
  {
   "cell_type": "code",
   "execution_count": 29,
   "id": "1c3fc3f4",
   "metadata": {},
   "outputs": [
    {
     "data": {
      "application/vnd.microsoft.datawrangler.viewer.v0+json": {
       "columns": [
        {
         "name": "index",
         "rawType": "int64",
         "type": "integer"
        },
        {
         "name": "nombre_pais_destino",
         "rawType": "object",
         "type": "string"
        },
        {
         "name": "nombre_continente",
         "rawType": "object",
         "type": "string"
        }
       ],
       "conversionMethod": "pd.DataFrame",
       "ref": "ab04283b-7f61-44c6-ac6a-41ea88dc06e0",
       "rows": [
        [
         "0",
         "Albania",
         "Europa"
        ],
        [
         "1",
         "Alemania",
         "Europa"
        ],
        [
         "2",
         "Antigua",
         "América"
        ],
        [
         "3",
         "Arabia Saudí",
         "Asia"
        ],
        [
         "4",
         "Argentina",
         "América"
        ],
        [
         "5",
         "Armenia",
         "Asia"
        ],
        [
         "6",
         "Aruba",
         "América"
        ],
        [
         "7",
         "Australia",
         "Oceanía"
        ],
        [
         "8",
         "Austria",
         "Europa"
        ],
        [
         "9",
         "Bahamas",
         "América"
        ],
        [
         "10",
         "Barbados",
         "América"
        ],
        [
         "11",
         "Belice",
         "América"
        ],
        [
         "12",
         "Bolivia",
         "América"
        ],
        [
         "13",
         "Bosnia y Herzegovina",
         "Europa"
        ],
        [
         "14",
         "Botsuana",
         "África"
        ],
        [
         "15",
         "Brasil",
         "América"
        ],
        [
         "16",
         "Bulgaria",
         "Europa"
        ],
        [
         "17",
         "Bután",
         "Asia"
        ],
        [
         "18",
         "Bélgica",
         "Europa"
        ],
        [
         "19",
         "Cabo Verde",
         "África"
        ],
        [
         "20",
         "Camboya",
         "Asia"
        ],
        [
         "21",
         "Canadá",
         "América"
        ],
        [
         "22",
         "Chile",
         "América"
        ],
        [
         "23",
         "China",
         "Asia"
        ],
        [
         "24",
         "Chipre",
         "Europa"
        ],
        [
         "25",
         "Colombia",
         "América"
        ],
        [
         "26",
         "Corea Del Sur",
         "Asia"
        ],
        [
         "27",
         "Costa Rica",
         "América"
        ],
        [
         "28",
         "Croacia",
         "Europa"
        ],
        [
         "29",
         "Curaçao",
         "América"
        ],
        [
         "30",
         "Dinamarca",
         "Europa"
        ],
        [
         "31",
         "Dominica",
         "América"
        ],
        [
         "32",
         "Ecuador",
         "América"
        ],
        [
         "33",
         "Egipto",
         "África"
        ],
        [
         "34",
         "El Salvador",
         "América"
        ],
        [
         "35",
         "Emiratos Árabes Unidos",
         "Asia"
        ],
        [
         "36",
         "Eslovaquia",
         "Europa"
        ],
        [
         "37",
         "Eslovenia",
         "Europa"
        ],
        [
         "38",
         "España",
         "Europa"
        ],
        [
         "39",
         "Estados Unidos",
         "América"
        ],
        [
         "40",
         "Estonia",
         "Europa"
        ],
        [
         "41",
         "Fiji",
         "Oceanía"
        ],
        [
         "42",
         "Filipinas",
         "Asia"
        ],
        [
         "43",
         "Finlandia",
         "Europa"
        ],
        [
         "44",
         "Francia",
         "Europa"
        ],
        [
         "45",
         "Georgia",
         "América"
        ],
        [
         "46",
         "Granada",
         "América"
        ],
        [
         "47",
         "Grecia",
         "Europa"
        ],
        [
         "48",
         "Guadalupe",
         "América"
        ],
        [
         "49",
         "Guatemala",
         "América"
        ]
       ],
       "shape": {
        "columns": 2,
        "rows": 187
       }
      },
      "text/html": [
       "<div>\n",
       "<style scoped>\n",
       "    .dataframe tbody tr th:only-of-type {\n",
       "        vertical-align: middle;\n",
       "    }\n",
       "\n",
       "    .dataframe tbody tr th {\n",
       "        vertical-align: top;\n",
       "    }\n",
       "\n",
       "    .dataframe thead th {\n",
       "        text-align: right;\n",
       "    }\n",
       "</style>\n",
       "<table border=\"1\" class=\"dataframe\">\n",
       "  <thead>\n",
       "    <tr style=\"text-align: right;\">\n",
       "      <th></th>\n",
       "      <th>nombre_pais_destino</th>\n",
       "      <th>nombre_continente</th>\n",
       "    </tr>\n",
       "  </thead>\n",
       "  <tbody>\n",
       "    <tr>\n",
       "      <th>0</th>\n",
       "      <td>Albania</td>\n",
       "      <td>Europa</td>\n",
       "    </tr>\n",
       "    <tr>\n",
       "      <th>1</th>\n",
       "      <td>Alemania</td>\n",
       "      <td>Europa</td>\n",
       "    </tr>\n",
       "    <tr>\n",
       "      <th>2</th>\n",
       "      <td>Antigua</td>\n",
       "      <td>América</td>\n",
       "    </tr>\n",
       "    <tr>\n",
       "      <th>3</th>\n",
       "      <td>Arabia Saudí</td>\n",
       "      <td>Asia</td>\n",
       "    </tr>\n",
       "    <tr>\n",
       "      <th>4</th>\n",
       "      <td>Argentina</td>\n",
       "      <td>América</td>\n",
       "    </tr>\n",
       "    <tr>\n",
       "      <th>...</th>\n",
       "      <td>...</td>\n",
       "      <td>...</td>\n",
       "    </tr>\n",
       "    <tr>\n",
       "      <th>147</th>\n",
       "      <td>Turquía</td>\n",
       "      <td>Europa</td>\n",
       "    </tr>\n",
       "    <tr>\n",
       "      <th>149</th>\n",
       "      <td>Ucrania</td>\n",
       "      <td>Europa</td>\n",
       "    </tr>\n",
       "    <tr>\n",
       "      <th>153</th>\n",
       "      <td>Venezuela</td>\n",
       "      <td>América</td>\n",
       "    </tr>\n",
       "    <tr>\n",
       "      <th>155</th>\n",
       "      <td>Yemen</td>\n",
       "      <td>Asia</td>\n",
       "    </tr>\n",
       "    <tr>\n",
       "      <th>156</th>\n",
       "      <td>Zambia</td>\n",
       "      <td>África</td>\n",
       "    </tr>\n",
       "  </tbody>\n",
       "</table>\n",
       "<p>187 rows × 2 columns</p>\n",
       "</div>"
      ],
      "text/plain": [
       "    nombre_pais_destino nombre_continente\n",
       "0               Albania            Europa\n",
       "1              Alemania            Europa\n",
       "2               Antigua           América\n",
       "3          Arabia Saudí              Asia\n",
       "4             Argentina           América\n",
       "..                  ...               ...\n",
       "147             Turquía            Europa\n",
       "149             Ucrania            Europa\n",
       "153           Venezuela           América\n",
       "155               Yemen              Asia\n",
       "156              Zambia            África\n",
       "\n",
       "[187 rows x 2 columns]"
      ]
     },
     "execution_count": 29,
     "metadata": {},
     "output_type": "execute_result"
    }
   ],
   "source": [
    "df_paises_continentes_totales"
   ]
  },
  {
   "cell_type": "markdown",
   "id": "92be0700",
   "metadata": {},
   "source": [
    "# CREACIÓN TABLA ÚNICA VIAJES CON LOS VIAJES ESCRAPEADOS Y LAS OPCIONES"
   ]
  },
  {
   "cell_type": "code",
   "execution_count": 30,
   "id": "b1c792c5",
   "metadata": {},
   "outputs": [
    {
     "name": "stdout",
     "output_type": "stream",
     "text": [
      "<class 'pandas.core.frame.DataFrame'>\n",
      "RangeIndex: 36013 entries, 0 to 36012\n",
      "Data columns (total 8 columns):\n",
      " #   Column              Non-Null Count  Dtype         \n",
      "---  ------              --------------  -----         \n",
      " 0   pais                36013 non-null  object        \n",
      " 1   nombre_viaje        36013 non-null  object        \n",
      " 2   duracion_viaje      36013 non-null  object        \n",
      " 3   itinerario          36013 non-null  object        \n",
      " 4   precio              36013 non-null  int64         \n",
      " 5   url_viaje           35991 non-null  object        \n",
      " 6   fecha_escrapeo      36013 non-null  datetime64[ns]\n",
      " 7   en_ultimo_escrapeo  36013 non-null  object        \n",
      "dtypes: datetime64[ns](1), int64(1), object(6)\n",
      "memory usage: 2.2+ MB\n"
     ]
    }
   ],
   "source": [
    "df_viajes.info()"
   ]
  },
  {
   "cell_type": "code",
   "execution_count": 31,
   "id": "ac7f2766",
   "metadata": {},
   "outputs": [
    {
     "name": "stdout",
     "output_type": "stream",
     "text": [
      "<class 'pandas.core.frame.DataFrame'>\n",
      "RangeIndex: 21505 entries, 0 to 21504\n",
      "Data columns (total 11 columns):\n",
      " #   Column               Non-Null Count  Dtype         \n",
      "---  ------               --------------  -----         \n",
      " 0   pais                 21505 non-null  object        \n",
      " 1   nombre_viaje         21505 non-null  object        \n",
      " 2   opcion               21505 non-null  object        \n",
      " 3   precio               21505 non-null  int64         \n",
      " 4   url_viaje_opcion     21501 non-null  object        \n",
      " 5   fecha_escrapeo       21505 non-null  datetime64[ns]\n",
      " 6   en_ultimo_escrapeo   21505 non-null  object        \n",
      " 7   url_viaje            21505 non-null  object        \n",
      " 8   nombre_viaje_opcion  21505 non-null  object        \n",
      " 9   duracion_viaje       21317 non-null  object        \n",
      " 10  itinerario           21317 non-null  object        \n",
      "dtypes: datetime64[ns](1), int64(1), object(9)\n",
      "memory usage: 1.8+ MB\n"
     ]
    }
   ],
   "source": [
    "df_opciones.info()"
   ]
  },
  {
   "cell_type": "markdown",
   "id": "1ec019ac",
   "metadata": {},
   "source": [
    "## Extracción de los viajes correctos de la tabla viajes"
   ]
  },
  {
   "cell_type": "code",
   "execution_count": 32,
   "id": "3827ee52",
   "metadata": {},
   "outputs": [],
   "source": [
    "#elimino los viajes que tienen la palabra opcion ya que luego incorporaré las opciones como viaje\n",
    "indices_viajes_opciones = df_viajes[df_viajes.url_viaje.str.contains('opciones',na=False)].index.tolist()"
   ]
  },
  {
   "cell_type": "code",
   "execution_count": 33,
   "id": "e5b1a956",
   "metadata": {},
   "outputs": [
    {
     "data": {
      "application/vnd.microsoft.datawrangler.viewer.v0+json": {
       "columns": [
        {
         "name": "index",
         "rawType": "int64",
         "type": "integer"
        },
        {
         "name": "pais",
         "rawType": "object",
         "type": "string"
        },
        {
         "name": "nombre_viaje",
         "rawType": "object",
         "type": "string"
        },
        {
         "name": "duracion_viaje",
         "rawType": "object",
         "type": "string"
        },
        {
         "name": "itinerario",
         "rawType": "object",
         "type": "string"
        },
        {
         "name": "precio",
         "rawType": "int64",
         "type": "integer"
        },
        {
         "name": "url_viaje",
         "rawType": "object",
         "type": "unknown"
        },
        {
         "name": "fecha_escrapeo",
         "rawType": "datetime64[ns]",
         "type": "datetime"
        },
        {
         "name": "en_ultimo_escrapeo",
         "rawType": "object",
         "type": "string"
        }
       ],
       "conversionMethod": "pd.DataFrame",
       "ref": "d3617025-a1e5-4c43-9ae7-92be7a161bbc",
       "rows": [
        [
         "0",
         "Albania",
         "Albania y Montenegro",
         "8 Días / 7 Noches",
         "Tirana, Dürres, Berat, Kruja, Shkodër, Petrovac, Budva, Cetinje y Bar",
         "1755",
         "https://es.tui.com/viaje/albania-y-montenegro",
         "2025-04-07 00:00:00",
         "Si"
        ],
        [
         "1",
         "Alemania",
         "Berlín",
         "4 Días / 3 Noches",
         "Berlín",
         "708",
         "https://viajeonline.es.tui.com/es/idea/14630257/berlin",
         "2025-04-07 00:00:00",
         "Si"
        ],
        [
         "2",
         "Alemania",
         "Fly & Drive Austria, Entre Lagos y Montañas",
         "8 Días / 7 Noches",
         "Salzburgo, Gmunden, Linz, Melk, Viena, Graz, Hallstatt, St. Wolfgang, St. Johann in Tirol e Innsbruck.",
         "827",
         "https://viajeonline.es.tui.com/es/idea/7897512/fly-drive-austria-entre-lagos-y-montanas-",
         "2025-04-07 00:00:00",
         "Si"
        ],
        [
         "3",
         "Alemania",
         "Fly & Drive Carlomagno a su aire",
         "10 Días / 9 Noches",
         "Bruselas, Durbuy, Lieja, Aquisgrán, Colonia, Bonn, Königswinter, Coblenza, Boppard, Cochem, Tréveris, Luxemburgo, Dinant, Gante, Brujas, Lovaina, Malinas y Amberes",
         "857",
         "https://viajeonline.es.tui.com/es/idea/8404511/-fly-drive-carlomagno-a-su-aire?tripId=2",
         "2025-04-07 00:00:00",
         "Si"
        ],
        [
         "4",
         "Alemania",
         "Fly & Drive Tirol al Completo",
         "8 Días / 7 Noches",
         "sbruck, Cataratas Krimml, Vipiteno, Bresanona, Bolzano, Trento, Marmolada, Canazei, Cortina D’Ampezzo y Brunico.",
         "894",
         "https://viajeonline.es.tui.com/es/idea/7906930/-fly-drive-tirol-al-completo-",
         "2025-04-07 00:00:00",
         "Si"
        ],
        [
         "5",
         "Alemania",
         "Fly & Drive Ciudades Hanseáticas",
         "8 Días / 7 Noches",
         "Hamburgo, Stade, Bremen, Luneburg, Schwerin, Wismar y Lubeck",
         "959",
         "https://viajeonline.es.tui.com/es/idea/21553157/-fly-drive-ciudades-hanseaticas-a-su-aire?tripId=9",
         "2025-04-07 00:00:00",
         "Si"
        ],
        [
         "6",
         "Alemania",
         "Alsacia y Selva Negra",
         "8 Días / 7 Noches",
         "Frankfurt, Baden-Baden, Estrasburgo, Selva Negra, Titisee, Friburgo, lago Constanza, Riquewihr, Colmar y Heidelberg",
         "1735",
         "https://es.tui.com/viaje/alsacia-y-selva-negra",
         "2025-04-07 00:00:00",
         "Si"
        ],
        [
         "9",
         "Argentina",
         "Triángulo Argentino",
         "10 Días / 7 Noches",
         "Buenos Aires, El Calafate e Iguazú",
         "2265",
         "https://es.tui.com/viaje/triangulo-argentino",
         "2025-04-07 00:00:00",
         "Si"
        ],
        [
         "10",
         "Argentina",
         "Patagonia a tu alcance",
         "12 Días / 9 Noches",
         "Buenos Aires, Ushuaia, El Calafate e Iguazú",
         "2695",
         "https://es.tui.com/viaje/patagonia-a-tu-alcance",
         "2025-04-07 00:00:00",
         "Si"
        ],
        [
         "11",
         "Argentina",
         "Ballenas, Glaciares y Cataratas",
         "12 Días / 9 Noches",
         "Buenos Aires, Puerto Madryn, El Calafate e Iguazú",
         "2755",
         "https://es.tui.com/viaje/ballenas-glaciares-y-cataratas",
         "2025-04-07 00:00:00",
         "Si"
        ],
        [
         "12",
         "Argentina",
         "Buenos Aires, El Calafate e Iguazú",
         "11 Días / 8 Noches",
         "Buenos Aires, El Calafate e Iguazú",
         "2865",
         "https://es.tui.com/viaje/buenos-aires-el-calafate-e-iguazu",
         "2025-04-07 00:00:00",
         "Si"
        ],
        [
         "13",
         "Argentina",
         "Argentina y Brasil",
         "14 Días / 11 Noches",
         "Buenos Aires, El Calafate, Iguazú y Río de Janeiro",
         "2965",
         "https://es.tui.com/viaje/argentina-y-brasil",
         "2025-04-07 00:00:00",
         "Si"
        ],
        [
         "14",
         "Argentina",
         "Argentina Mágica",
         "14 Días / 11 Noches",
         "Buenos Aires, Ushuaia, El Calafate, Bariloche e Iguazú",
         "3055",
         "https://es.tui.com/viaje/argentina-magica",
         "2025-04-07 00:00:00",
         "Si"
        ],
        [
         "15",
         "Argentina",
         "Argentina a tu alcance",
         "14 Días / 11 Noches",
         "Buenos Aires, Puerto Madryn, Ushuaia, El Calafate e Iguazú",
         "3150",
         "https://es.tui.com/viaje/argentina-a-tu-alcance",
         "2025-04-07 00:00:00",
         "Si"
        ],
        [
         "16",
         "Argentina",
         "Lagos, Glaciares y Cataratas",
         "13 Días / 10 Noches",
         "Buenos Aires, Bariloche, El Calafate e Iguazú",
         "3295",
         "https://es.tui.com/viaje/lagos-glaciares-y-cataratas",
         "2025-04-07 00:00:00",
         "Si"
        ],
        [
         "17",
         "Argentina",
         "Argentina Clásica",
         "13 Días / 10 Noches",
         "Buenos Aires, Ushuaia, El Calafate e Iguazú",
         "3325",
         "https://es.tui.com/viaje/argentina-clasica",
         "2025-04-07 00:00:00",
         "Si"
        ],
        [
         "18",
         "Argentina",
         "Contrastes de Argentina",
         "13 Días / 10 Noches",
         "Buenos Aires, El Calafate, Salta, Cafayate, Quebrada de Humahuaca e Iguazú",
         "3395",
         "https://es.tui.com/viaje/contrastes-de-argentina",
         "2025-04-07 00:00:00",
         "Si"
        ],
        [
         "19",
         "Argentina",
         "Argentina Espectacular",
         "16 Días / 13 Noches",
         "Buenos Aires, Puerto Madryn, Ushuaia, El Calafate, Bariloche e Iguazú",
         "3495",
         "https://es.tui.com/viaje/argentina-espectacular",
         "2025-04-07 00:00:00",
         "Si"
        ],
        [
         "20",
         "Argentina",
         "Patagonia Fascinante",
         "15 Días / 12 Noches",
         "Buenos Aires, Ushuaia, El Calafate, Bariloche e Iguazú",
         "3695",
         "https://es.tui.com/viaje/patagonia-fascinante",
         "2025-04-07 00:00:00",
         "Si"
        ],
        [
         "21",
         "Argentina",
         "Patagonia con Iguazú",
         "15 Días / 12 Noches",
         "Buenos Aires, Puerto Madryn, Ushuaia, El Calafate e Iguazú",
         "3725",
         "https://es.tui.com/viaje/patagonia-con-iguazu",
         "2025-04-07 00:00:00",
         "Si"
        ],
        [
         "22",
         "Argentina",
         "Lo Mejor de Argentina",
         "17 Días / 14 Noches",
         "Buenos Aires, Puerto Madryn, Ushuaia, El Calafate, Bariloche e Iguazú.",
         "4025",
         "https://es.tui.com/viaje/lo-mejor-de-argentina",
         "2025-04-07 00:00:00",
         "Si"
        ],
        [
         "23",
         "Argentina",
         "Argentina para Dos",
         "13 Días / 10 Noches",
         "Buenos Aires, Ushuaia, El Calafate e Iguazú",
         "4095",
         "https://es.tui.com/viaje/argentina-para-dos",
         "2025-04-07 00:00:00",
         "Si"
        ],
        [
         "24",
         "Argentina",
         "Patagonia Argentina y Chilena",
         "16 Días / 13 Noches",
         "Buenos Aires, Ushuaia, El Calafate, Puerto Natales, Punta Arenas, Puerto Montt, Puerto Varas, Cruce de Lagos y Bariloche",
         "4385",
         "https://es.tui.com/viaje/patagonia-argentina-y-chilena",
         "2025-04-07 00:00:00",
         "Si"
        ],
        [
         "25",
         "Argentina",
         "Lagos, Glaciares y Cataratas con Extensión Cruce Andino",
         "16 Días / 13 Noches",
         "Buenos Aires, Bariloche, Cruce Andino, Puerto Varas, El Calafate e Iguazú",
         "4750",
         "https://es.tui.com/viaje/lagos-glaciares-y-cataratas-con-extension-cruce-andino",
         "2025-04-07 00:00:00",
         "Si"
        ],
        [
         "26",
         "Argentina",
         "Gran Tour de Argentina",
         "17 Días / 14 Noches",
         "Buenos Aires, Puerto Madryn, Ushuaia, El Calafate, Iguazú, Salta y Cafayate",
         "5235",
         "https://es.tui.com/viaje/gran-tour-de-argentina",
         "2025-04-07 00:00:00",
         "Si"
        ],
        [
         "27",
         "Argentina",
         "Al Sur del Sur con Australis",
         "15 Días / 12 Noches",
         "Buenos Aires, Ushuaia, Crucero Australis, Punta Arenas, Puerto Natales, Torres del Paine y El Calafate",
         "5545",
         "https://es.tui.com/viaje/al-sur-del-sur-con-australis",
         "2025-04-07 00:00:00",
         "Si"
        ],
        [
         "28",
         "Argentina",
         "Las Dos Patagonias con Australis",
         "15 Días / 12 Noches",
         "Buenos Aires, El Calafate, Ushuaia, Crucero Australis, Puerto Natales y Santiago de Chile",
         "5585",
         "https://es.tui.com/viaje/las-dos-patagonias-con-australis",
         "2025-04-07 00:00:00",
         "Si"
        ],
        [
         "29",
         "Argentina",
         "Confines del Mundo con Australis",
         "16 Días / 13 Noches",
         "Santiago de Chile, Punta Arenas, Crucero Australis, Ushuaia, El Calafate, Puerto Natales y Torres del Paine",
         "5825",
         "https://es.tui.com/viaje/confines-del-mundo-con-australis",
         "2025-04-07 00:00:00",
         "Si"
        ],
        [
         "30",
         "Argentina",
         "Argentina y Chile con Australis",
         "17 Días / 14 Noches",
         "Santiago de Chile, Punta Arenas, Puerto Natales, Crucero Australis, Ushuaia, El Calafate, Buenos Aires e Iguazú",
         "5895",
         "https://es.tui.com/viaje/argentina-y-chile-con-australis",
         "2025-04-07 00:00:00",
         "Si"
        ],
        [
         "31",
         "Argentina",
         "Chile y Argentina con Skorpios III",
         "18 Días / 15 Noches",
         "Santiago de Chile, Puerto Natales, Torres del Paine, Crucero Skorpios III, El Calafate, Buenos Aires e Iguazú",
         "6745",
         "https://es.tui.com/viaje/chile-y-argentina-con-skorpios-iii",
         "2025-04-07 00:00:00",
         "Si"
        ],
        [
         "32",
         "Aruba",
         "Aruba",
         "9 Días / 7 Noches",
         "Playas de Aruba",
         "1965",
         "https://viajeonline.es.tui.com/es/idea/7244961/aruba",
         "2025-04-07 00:00:00",
         "Si"
        ],
        [
         "33",
         "Aruba",
         "Nueva York y Aruba",
         "9 Días / 7 Noches",
         "Nueva York y Aruba",
         "2402",
         "https://viajeonline.es.tui.com/es/idea/7245405/-nueva-york-y-aruba",
         "2025-04-07 00:00:00",
         "Si"
        ],
        [
         "34",
         "Aruba",
         "Aruba en RIU Resorts",
         "6 Días / 5 Noches",
         "Aruba",
         "3472",
         "https://viajeonline.es.tui.com/es/idea/17583770/aruba-en-riu-resorts",
         "2025-04-07 00:00:00",
         "Si"
        ],
        [
         "35",
         "Australia",
         "Australia en autocaravana - Ruta A",
         "16 Días / 12 Noches",
         "Adelaida, Robe, Port Campbell, Melbourne, P. N. Wilsons Promontory, Lakes Entrance, Mallacoota, Narooma, Jervis Bay y Sydney",
         "2699",
         "https://es.tui.com/viaje/australia-en-autocaravana-ruta-a",
         "2025-04-07 00:00:00",
         "Si"
        ],
        [
         "36",
         "Australia",
         "Australia Romántica",
         "12 Días / 9 Noches",
         "Sydney, Cairns y Melbourne",
         "3245",
         "https://es.tui.com/viaje/australia-romantica",
         "2025-04-07 00:00:00",
         "Si"
        ],
        [
         "37",
         "Australia",
         "Australia a tu alcance",
         "12 Días / 9 Noches",
         "Melbourne, Cairns y Sydney",
         "3255",
         "https://es.tui.com/viaje/australia-a-tu-alcance",
         "2025-04-07 00:00:00",
         "Si"
        ],
        [
         "38",
         "Australia",
         "Todo Australia",
         "11 Días / 8 Noches",
         "Sydney, Ayers Rock y Cairns",
         "3255",
         "https://es.tui.com/viaje/todo-australia",
         "2025-04-07 00:00:00",
         "Si"
        ],
        [
         "39",
         "Australia",
         "Australia Kangaroo",
         "18 Días / 14 Noches",
         "Sydney, Cairns, Townsville, Airlie Beach, Hervey Bay y Brisbane",
         "3755",
         "https://es.tui.com/viaje/australia-kangaroo",
         "2025-04-07 00:00:00",
         "Si"
        ],
        [
         "40",
         "Australia",
         "Experiencia Australiana",
         "12 Días / 9 Noches",
         "Sydney, Cairns, Darwin y P.N. Kakadu",
         "3809",
         "https://es.tui.com/viaje/experiencia-australiana",
         "2025-04-07 00:00:00",
         "Si"
        ],
        [
         "41",
         "Australia",
         "Gran Australia",
         "15 Días / 11 Noches",
         "Sydney, Ayers Rock, Cairns y Melbourne",
         "3895",
         "https://es.tui.com/viaje/gran-australia",
         "2025-04-07 00:00:00",
         "Si"
        ],
        [
         "42",
         "Australia",
         "Fly & Drive Costa Este Australiana",
         "19 Días / 15 Noches",
         "Sydney, Hunter Valley, Port Macquarie, Coffs Harbour, Byron Bay, Gold Coast, Brisbane, Hervey Bay, Bundaberg, Rockhampton, Mackay, Airlie Beach, Townsville y Cairns",
         "4108",
         "https://viajeonline.es.tui.com/ES/idea/7142063/fly-drive-costa-este-australiana",
         "2025-04-07 00:00:00",
         "Si"
        ],
        [
         "43",
         "Australia",
         "Luna de Miel en Australia",
         "15 Días / 12 Noches",
         "Melbourne, Adelaida, Kangaroo Island, Cairns y Sydney",
         "4229",
         "https://es.tui.com/viaje/luna-de-miel-en-australia",
         "2025-04-07 00:00:00",
         "Si"
        ],
        [
         "45",
         "Australia",
         "Australia Mágica",
         "15 Días / 12 Noches",
         "Sydney, Ayers Rock, Alice Springs, Adelaida, Kangaroo Island y Cairns",
         "4645",
         "https://viajeonline.es.tui.com/es/idea/14349142/australia-magica",
         "2025-04-07 00:00:00",
         "Si"
        ],
        [
         "46",
         "Australia",
         "Capitales Australianas",
         "12 Días / 9 Noches",
         "Melbourne, Cairns y Sydney",
         "5075",
         "https://es.tui.com/viaje/capitales-australianas",
         "2025-04-07 00:00:00",
         "Si"
        ],
        [
         "47",
         "Australia",
         "Contrastes de Australia",
         "20 Días / 17 Noches",
         "Melbourne, Apollo Bay, Port Fairy, P.N. de Grampians, Robe, Barossa Valley, Adelaida, Alice Springs, Ayers Rock, Cairns y Sydney",
         "5665",
         "https://es.tui.com/viaje/contrastes-de-australia",
         "2025-04-07 00:00:00",
         "Si"
        ],
        [
         "48",
         "Australia",
         "Iconos de Nueva Zelanda y Australia",
         "17 Días / 13 Noches",
         "Auckland, Waitomo, Rotorua, Sydney, Cairns y Melbourne",
         "5799",
         "https://es.tui.com/viaje/iconos-de-nueva-zelanda-y-australia",
         "2025-04-07 00:00:00",
         "Si"
        ],
        [
         "49",
         "Australia",
         "Tres Continentes",
         "20 Días / 16 Noches",
         "Bangkok, Sydney, Auckland, Tahití, Moorea y Los Ángeles",
         "6575",
         "https://es.tui.com/viaje/tres-continentes",
         "2025-04-07 00:00:00",
         "Si"
        ],
        [
         "50",
         "Australia",
         "Kiwis y Koalas",
         "21 Días / 17 Noches",
         "Auckland, Waitomo, Rotorua, Christchurch, Lake Tekapo, Te Anau, Queenstown, Milford Sound, Sydney, Ayers Rock y Cairns",
         "8195",
         "https://es.tui.com/viaje/kiwis-y-koalas",
         "2025-04-07 00:00:00",
         "Si"
        ],
        [
         "51",
         "Austria",
         "Viena",
         "4 Días / 3 Noches",
         "Viena, Melk y Wachau",
         "815",
         "https://viajeonline.es.tui.com/es/idea/6948716/viena",
         "2025-04-07 00:00:00",
         "Si"
        ],
        [
         "52",
         "Austria",
         "Fly & Drive Austria, Entre Lagos y Montañas",
         "8 Días / 7 Noches",
         "Salzburgo, Gmunden, Linz, Melk, Viena, Graz, Hallstatt, St. Wolfgang, St. Johann in Tirol e Innsbruck.",
         "827",
         "https://viajeonline.es.tui.com/es/idea/7897512/fly-drive-austria-entre-lagos-y-montanas-",
         "2025-04-07 00:00:00",
         "Si"
        ]
       ],
       "shape": {
        "columns": 8,
        "rows": 27809
       }
      },
      "text/html": [
       "<div>\n",
       "<style scoped>\n",
       "    .dataframe tbody tr th:only-of-type {\n",
       "        vertical-align: middle;\n",
       "    }\n",
       "\n",
       "    .dataframe tbody tr th {\n",
       "        vertical-align: top;\n",
       "    }\n",
       "\n",
       "    .dataframe thead th {\n",
       "        text-align: right;\n",
       "    }\n",
       "</style>\n",
       "<table border=\"1\" class=\"dataframe\">\n",
       "  <thead>\n",
       "    <tr style=\"text-align: right;\">\n",
       "      <th></th>\n",
       "      <th>pais</th>\n",
       "      <th>nombre_viaje</th>\n",
       "      <th>duracion_viaje</th>\n",
       "      <th>itinerario</th>\n",
       "      <th>precio</th>\n",
       "      <th>url_viaje</th>\n",
       "      <th>fecha_escrapeo</th>\n",
       "      <th>en_ultimo_escrapeo</th>\n",
       "    </tr>\n",
       "  </thead>\n",
       "  <tbody>\n",
       "    <tr>\n",
       "      <th>0</th>\n",
       "      <td>Albania</td>\n",
       "      <td>Albania y Montenegro</td>\n",
       "      <td>8 Días / 7 Noches</td>\n",
       "      <td>Tirana, Dürres, Berat, Kruja, Shkodër, Petrova...</td>\n",
       "      <td>1755</td>\n",
       "      <td>https://es.tui.com/viaje/albania-y-montenegro</td>\n",
       "      <td>2025-04-07</td>\n",
       "      <td>Si</td>\n",
       "    </tr>\n",
       "    <tr>\n",
       "      <th>1</th>\n",
       "      <td>Alemania</td>\n",
       "      <td>Berlín</td>\n",
       "      <td>4 Días / 3 Noches</td>\n",
       "      <td>Berlín</td>\n",
       "      <td>708</td>\n",
       "      <td>https://viajeonline.es.tui.com/es/idea/1463025...</td>\n",
       "      <td>2025-04-07</td>\n",
       "      <td>Si</td>\n",
       "    </tr>\n",
       "    <tr>\n",
       "      <th>2</th>\n",
       "      <td>Alemania</td>\n",
       "      <td>Fly &amp; Drive Austria, Entre Lagos y Montañas</td>\n",
       "      <td>8 Días / 7 Noches</td>\n",
       "      <td>Salzburgo, Gmunden, Linz, Melk, Viena, Graz, H...</td>\n",
       "      <td>827</td>\n",
       "      <td>https://viajeonline.es.tui.com/es/idea/7897512...</td>\n",
       "      <td>2025-04-07</td>\n",
       "      <td>Si</td>\n",
       "    </tr>\n",
       "    <tr>\n",
       "      <th>3</th>\n",
       "      <td>Alemania</td>\n",
       "      <td>Fly &amp; Drive Carlomagno a su aire</td>\n",
       "      <td>10 Días / 9 Noches</td>\n",
       "      <td>Bruselas, Durbuy, Lieja, Aquisgrán, Colonia, B...</td>\n",
       "      <td>857</td>\n",
       "      <td>https://viajeonline.es.tui.com/es/idea/8404511...</td>\n",
       "      <td>2025-04-07</td>\n",
       "      <td>Si</td>\n",
       "    </tr>\n",
       "    <tr>\n",
       "      <th>4</th>\n",
       "      <td>Alemania</td>\n",
       "      <td>Fly &amp; Drive Tirol al Completo</td>\n",
       "      <td>8 Días / 7 Noches</td>\n",
       "      <td>sbruck, Cataratas Krimml, Vipiteno, Bresanona,...</td>\n",
       "      <td>894</td>\n",
       "      <td>https://viajeonline.es.tui.com/es/idea/7906930...</td>\n",
       "      <td>2025-04-07</td>\n",
       "      <td>Si</td>\n",
       "    </tr>\n",
       "    <tr>\n",
       "      <th>...</th>\n",
       "      <td>...</td>\n",
       "      <td>...</td>\n",
       "      <td>...</td>\n",
       "      <td>...</td>\n",
       "      <td>...</td>\n",
       "      <td>...</td>\n",
       "      <td>...</td>\n",
       "      <td>...</td>\n",
       "    </tr>\n",
       "    <tr>\n",
       "      <th>36007</th>\n",
       "      <td>Zimbabue</td>\n",
       "      <td>Tras la Senda de los Elefantes</td>\n",
       "      <td>16 Días / 13 Noches</td>\n",
       "      <td>Cataratas Victoria, Matobo, Botswana, Makgadik...</td>\n",
       "      <td>4675</td>\n",
       "      <td>https://es.tui.com/viaje/tras-la-senda-de-los-...</td>\n",
       "      <td>2025-05-14</td>\n",
       "      <td>Si</td>\n",
       "    </tr>\n",
       "    <tr>\n",
       "      <th>36008</th>\n",
       "      <td>Zimbabue</td>\n",
       "      <td>Río Perdido Clásico</td>\n",
       "      <td>16 Días / 13 Noches</td>\n",
       "      <td>Cataratas Victoria, Valle de los Elefantes, P....</td>\n",
       "      <td>4930</td>\n",
       "      <td>https://es.tui.com/viaje/rio-perdido-clasico</td>\n",
       "      <td>2025-05-14</td>\n",
       "      <td>Si</td>\n",
       "    </tr>\n",
       "    <tr>\n",
       "      <th>36009</th>\n",
       "      <td>Zimbabue</td>\n",
       "      <td>Ruta del Okavango Premium</td>\n",
       "      <td>21 Días / 18 Noches</td>\n",
       "      <td>Windhoek, Desierto de Namibia, Sossusvlei, Ses...</td>\n",
       "      <td>5335</td>\n",
       "      <td>https://es.tui.com/viaje/ruta-del-okavango-pre...</td>\n",
       "      <td>2025-05-14</td>\n",
       "      <td>Si</td>\n",
       "    </tr>\n",
       "    <tr>\n",
       "      <th>36010</th>\n",
       "      <td>Zimbabue</td>\n",
       "      <td>Maravillas del África Austral</td>\n",
       "      <td>16 Días / 13 Noches</td>\n",
       "      <td>Windhoek, Desierto de Namibia, Cataratas Victo...</td>\n",
       "      <td>5895</td>\n",
       "      <td>https://es.tui.com/viaje/maravillas-del-africa...</td>\n",
       "      <td>2025-05-14</td>\n",
       "      <td>Si</td>\n",
       "    </tr>\n",
       "    <tr>\n",
       "      <th>36011</th>\n",
       "      <td>Zimbabue</td>\n",
       "      <td>Okavango Clásico</td>\n",
       "      <td>24 Días / 21 Noches</td>\n",
       "      <td>Ciudad del Cabo, Windhoek, Desierto de Namibia...</td>\n",
       "      <td>6045</td>\n",
       "      <td>https://es.tui.com/viaje/okavango-clasico</td>\n",
       "      <td>2025-05-14</td>\n",
       "      <td>Si</td>\n",
       "    </tr>\n",
       "  </tbody>\n",
       "</table>\n",
       "<p>27809 rows × 8 columns</p>\n",
       "</div>"
      ],
      "text/plain": [
       "           pais                                 nombre_viaje  \\\n",
       "0       Albania                         Albania y Montenegro   \n",
       "1      Alemania                                       Berlín   \n",
       "2      Alemania  Fly & Drive Austria, Entre Lagos y Montañas   \n",
       "3      Alemania             Fly & Drive Carlomagno a su aire   \n",
       "4      Alemania                Fly & Drive Tirol al Completo   \n",
       "...         ...                                          ...   \n",
       "36007  Zimbabue               Tras la Senda de los Elefantes   \n",
       "36008  Zimbabue                          Río Perdido Clásico   \n",
       "36009  Zimbabue                    Ruta del Okavango Premium   \n",
       "36010  Zimbabue                Maravillas del África Austral   \n",
       "36011  Zimbabue                             Okavango Clásico   \n",
       "\n",
       "            duracion_viaje                                         itinerario  \\\n",
       "0        8 Días / 7 Noches  Tirana, Dürres, Berat, Kruja, Shkodër, Petrova...   \n",
       "1        4 Días / 3 Noches                                             Berlín   \n",
       "2        8 Días / 7 Noches  Salzburgo, Gmunden, Linz, Melk, Viena, Graz, H...   \n",
       "3       10 Días / 9 Noches  Bruselas, Durbuy, Lieja, Aquisgrán, Colonia, B...   \n",
       "4        8 Días / 7 Noches  sbruck, Cataratas Krimml, Vipiteno, Bresanona,...   \n",
       "...                    ...                                                ...   \n",
       "36007  16 Días / 13 Noches  Cataratas Victoria, Matobo, Botswana, Makgadik...   \n",
       "36008  16 Días / 13 Noches  Cataratas Victoria, Valle de los Elefantes, P....   \n",
       "36009  21 Días / 18 Noches  Windhoek, Desierto de Namibia, Sossusvlei, Ses...   \n",
       "36010  16 Días / 13 Noches  Windhoek, Desierto de Namibia, Cataratas Victo...   \n",
       "36011  24 Días / 21 Noches  Ciudad del Cabo, Windhoek, Desierto de Namibia...   \n",
       "\n",
       "       precio                                          url_viaje  \\\n",
       "0        1755      https://es.tui.com/viaje/albania-y-montenegro   \n",
       "1         708  https://viajeonline.es.tui.com/es/idea/1463025...   \n",
       "2         827  https://viajeonline.es.tui.com/es/idea/7897512...   \n",
       "3         857  https://viajeonline.es.tui.com/es/idea/8404511...   \n",
       "4         894  https://viajeonline.es.tui.com/es/idea/7906930...   \n",
       "...       ...                                                ...   \n",
       "36007    4675  https://es.tui.com/viaje/tras-la-senda-de-los-...   \n",
       "36008    4930       https://es.tui.com/viaje/rio-perdido-clasico   \n",
       "36009    5335  https://es.tui.com/viaje/ruta-del-okavango-pre...   \n",
       "36010    5895  https://es.tui.com/viaje/maravillas-del-africa...   \n",
       "36011    6045          https://es.tui.com/viaje/okavango-clasico   \n",
       "\n",
       "      fecha_escrapeo en_ultimo_escrapeo  \n",
       "0         2025-04-07                 Si  \n",
       "1         2025-04-07                 Si  \n",
       "2         2025-04-07                 Si  \n",
       "3         2025-04-07                 Si  \n",
       "4         2025-04-07                 Si  \n",
       "...              ...                ...  \n",
       "36007     2025-05-14                 Si  \n",
       "36008     2025-05-14                 Si  \n",
       "36009     2025-05-14                 Si  \n",
       "36010     2025-05-14                 Si  \n",
       "36011     2025-05-14                 Si  \n",
       "\n",
       "[27809 rows x 8 columns]"
      ]
     },
     "execution_count": 33,
     "metadata": {},
     "output_type": "execute_result"
    }
   ],
   "source": [
    "df_viajes=df_viajes.drop(indices_viajes_opciones)\n",
    "df_viajes\n"
   ]
  },
  {
   "cell_type": "markdown",
   "id": "2d577dbd",
   "metadata": {},
   "source": [
    "## Crear un df similar al de viaje con las opciones"
   ]
  },
  {
   "cell_type": "code",
   "execution_count": 34,
   "id": "5ef415eb",
   "metadata": {},
   "outputs": [
    {
     "data": {
      "text/plain": [
       "Index(['pais', 'nombre_viaje', 'duracion_viaje', 'itinerario', 'precio',\n",
       "       'url_viaje', 'fecha_escrapeo', 'en_ultimo_escrapeo'],\n",
       "      dtype='object')"
      ]
     },
     "execution_count": 34,
     "metadata": {},
     "output_type": "execute_result"
    }
   ],
   "source": [
    "df_viajes.columns"
   ]
  },
  {
   "cell_type": "code",
   "execution_count": 35,
   "id": "00284eb9",
   "metadata": {},
   "outputs": [
    {
     "data": {
      "text/plain": [
       "Index(['pais', 'nombre_viaje', 'opcion', 'precio', 'url_viaje_opcion',\n",
       "       'fecha_escrapeo', 'en_ultimo_escrapeo', 'url_viaje',\n",
       "       'nombre_viaje_opcion', 'duracion_viaje', 'itinerario'],\n",
       "      dtype='object')"
      ]
     },
     "execution_count": 35,
     "metadata": {},
     "output_type": "execute_result"
    }
   ],
   "source": [
    "df_opciones.columns"
   ]
  },
  {
   "cell_type": "code",
   "execution_count": 36,
   "id": "7d5bab9a",
   "metadata": {},
   "outputs": [],
   "source": [
    "df_viajes_opciones= df_opciones[['pais', 'nombre_viaje_opcion', 'duracion_viaje', 'itinerario', 'precio',\n",
    "       'url_viaje_opcion', 'fecha_escrapeo', 'en_ultimo_escrapeo']]\n",
    "df_viajes_opciones = df_viajes_opciones.rename(columns={'nombre_viaje_opcion':'nombre_viaje','url_viaje_opcion':'url_viaje'})"
   ]
  },
  {
   "cell_type": "code",
   "execution_count": 37,
   "id": "913a97f6",
   "metadata": {},
   "outputs": [
    {
     "name": "stdout",
     "output_type": "stream",
     "text": [
      "<class 'pandas.core.frame.DataFrame'>\n",
      "RangeIndex: 21505 entries, 0 to 21504\n",
      "Data columns (total 8 columns):\n",
      " #   Column              Non-Null Count  Dtype         \n",
      "---  ------              --------------  -----         \n",
      " 0   pais                21505 non-null  object        \n",
      " 1   nombre_viaje        21505 non-null  object        \n",
      " 2   duracion_viaje      21317 non-null  object        \n",
      " 3   itinerario          21317 non-null  object        \n",
      " 4   precio              21505 non-null  int64         \n",
      " 5   url_viaje           21501 non-null  object        \n",
      " 6   fecha_escrapeo      21505 non-null  datetime64[ns]\n",
      " 7   en_ultimo_escrapeo  21505 non-null  object        \n",
      "dtypes: datetime64[ns](1), int64(1), object(6)\n",
      "memory usage: 1.3+ MB\n"
     ]
    }
   ],
   "source": [
    "df_viajes_opciones.info()"
   ]
  },
  {
   "cell_type": "markdown",
   "id": "9358d5a2",
   "metadata": {},
   "source": [
    "## Agrupacion de los dos DF para crear un df viajes unico"
   ]
  },
  {
   "cell_type": "code",
   "execution_count": 38,
   "id": "bdac5ba4",
   "metadata": {},
   "outputs": [],
   "source": [
    "df_viajes_agrupados = pd.concat([df_viajes,df_viajes_opciones],axis=0).reset_index(drop=True)"
   ]
  },
  {
   "cell_type": "code",
   "execution_count": 39,
   "id": "d4566fad",
   "metadata": {},
   "outputs": [
    {
     "name": "stdout",
     "output_type": "stream",
     "text": [
      "<class 'pandas.core.frame.DataFrame'>\n",
      "RangeIndex: 49314 entries, 0 to 49313\n",
      "Data columns (total 8 columns):\n",
      " #   Column              Non-Null Count  Dtype         \n",
      "---  ------              --------------  -----         \n",
      " 0   pais                49314 non-null  object        \n",
      " 1   nombre_viaje        49314 non-null  object        \n",
      " 2   duracion_viaje      49126 non-null  object        \n",
      " 3   itinerario          49126 non-null  object        \n",
      " 4   precio              49314 non-null  int64         \n",
      " 5   url_viaje           49288 non-null  object        \n",
      " 6   fecha_escrapeo      49314 non-null  datetime64[ns]\n",
      " 7   en_ultimo_escrapeo  49314 non-null  object        \n",
      "dtypes: datetime64[ns](1), int64(1), object(6)\n",
      "memory usage: 3.0+ MB\n"
     ]
    }
   ],
   "source": [
    "df_viajes_agrupados.info()"
   ]
  },
  {
   "cell_type": "markdown",
   "id": "63e70e5f",
   "metadata": {},
   "source": [
    "### Corrección de duplicados"
   ]
  },
  {
   "cell_type": "code",
   "execution_count": 40,
   "id": "63ffc880",
   "metadata": {},
   "outputs": [
    {
     "data": {
      "application/vnd.microsoft.datawrangler.viewer.v0+json": {
       "columns": [
        {
         "name": "index",
         "rawType": "int64",
         "type": "integer"
        },
        {
         "name": "nombre_viaje",
         "rawType": "object",
         "type": "string"
        },
        {
         "name": "url_anterior",
         "rawType": "object",
         "type": "string"
        },
        {
         "name": "url_nueva",
         "rawType": "object",
         "type": "string"
        },
        {
         "name": "url_anterior_en_ultimo_escrapeo",
         "rawType": "object",
         "type": "string"
        },
        {
         "name": "url_nueva_en_ultimo_escrapeo",
         "rawType": "object",
         "type": "string"
        }
       ],
       "conversionMethod": "pd.DataFrame",
       "ref": "0a52e6d6-fd5f-4e15-a198-1e8e2148fe9d",
       "rows": [
        [
         "0",
         "Boston y Nueva York",
         "https://viajeonline.es.tui.com/es/idea/22252007/-boston-y-nueva-york-?tripId=56",
         "https://viajeonline.es.tui.com/es/idea/22252007/-boston-y-nueva-york-?tripId=56 ",
         "No",
         "Si"
        ],
        [
         "1",
         "Nueva York y Niágara",
         "https://viajeonline.es.tui.com/es/idea/16323391/mini-niagara-?tripId=2",
         "https://viajeonline.es.tui.com/es/idea/24740163/nueva-york-y-niagara",
         "No",
         "Si"
        ],
        [
         "2",
         "Este Americano",
         "https://viajeonline.es.tui.com/es/idea/11542084/este-americano-",
         "https://viajeonline.es.tui.com/es/idea/26317979/este-americano-?tripId=2",
         "No",
         "Si"
        ],
        [
         "3",
         "Fantasías del Oeste",
         "https://viajeonline.es.tui.com/es/idea/16260619/fantasias-del-oeste-",
         "https://viajeonline.es.tui.com/es/idea/24937110/fantasias-del-oeste-",
         "No",
         "Si"
        ],
        [
         "4",
         "Ruta de la Música",
         "https://viajeonline.es.tui.com/ES/idea/16266751/ruta-de-la-musica?tripId=18",
         "https://viajeonline.es.tui.com/es/idea/24945540/ruta-de-la-musica",
         "No",
         "Si"
        ],
        [
         "5",
         "Japón Fascinante y Ise y Kumano",
         "https://viajeonline.es.tui.com/es/idea/17814119/japon-fascinante-y-ise-y-kumano",
         "https://viajeonline.es.tui.com/es/idea/25020990/japon-fascinante-y-ise-y-kumano",
         "No",
         "Si"
        ],
        [
         "6",
         "Mongolia Inédita",
         "https://viajeonline.es.tui.com/es/idea/10180631/mongolia-inedita",
         "https://viajeonline.es.tui.com/es/idea/26084808/mongolia-inedita",
         "No",
         "Si"
        ],
        [
         "7",
         "Joyas del Este",
         "https://viajeonline.es.tui.com/es/idea/24904143/joyas-del-este-",
         "https://viajeonline.es.tui.com/es/idea/24904143/joyas-del-este",
         "No",
         "Si"
        ],
        [
         "8",
         "Este Mágico",
         "https://viajeonline.es.tui.com/es/idea/24411417/este-magico?tripId=38",
         "https://viajeonline.es.tui.com/es/idea/24884196/este-magico",
         "No",
         "Si"
        ],
        [
         "9",
         "Oeste Americano y San Francisco",
         "https://viajeonline.es.tui.com/es/idea/14515159/oeste-americano-y-san-francisco?tripId=23",
         "https://viajeonline.es.tui.com/es/idea/14515159/oeste-americano-y-san-francisco",
         "No",
         "Si"
        ],
        [
         "10",
         "Este y Oeste Americano",
         "https://viajeonline.es.tui.com/es/idea/14518021/este-y-oeste-americano",
         "https://viajeonline.es.tui.com/es/idea/26156883/este-y-oeste-americano",
         "No",
         "Si"
        ]
       ],
       "shape": {
        "columns": 5,
        "rows": 11
       }
      },
      "text/html": [
       "<div>\n",
       "<style scoped>\n",
       "    .dataframe tbody tr th:only-of-type {\n",
       "        vertical-align: middle;\n",
       "    }\n",
       "\n",
       "    .dataframe tbody tr th {\n",
       "        vertical-align: top;\n",
       "    }\n",
       "\n",
       "    .dataframe thead th {\n",
       "        text-align: right;\n",
       "    }\n",
       "</style>\n",
       "<table border=\"1\" class=\"dataframe\">\n",
       "  <thead>\n",
       "    <tr style=\"text-align: right;\">\n",
       "      <th></th>\n",
       "      <th>nombre_viaje</th>\n",
       "      <th>url_anterior</th>\n",
       "      <th>url_nueva</th>\n",
       "      <th>url_anterior_en_ultimo_escrapeo</th>\n",
       "      <th>url_nueva_en_ultimo_escrapeo</th>\n",
       "    </tr>\n",
       "  </thead>\n",
       "  <tbody>\n",
       "    <tr>\n",
       "      <th>0</th>\n",
       "      <td>Boston y Nueva York</td>\n",
       "      <td>https://viajeonline.es.tui.com/es/idea/2225200...</td>\n",
       "      <td>https://viajeonline.es.tui.com/es/idea/2225200...</td>\n",
       "      <td>No</td>\n",
       "      <td>Si</td>\n",
       "    </tr>\n",
       "    <tr>\n",
       "      <th>1</th>\n",
       "      <td>Nueva York y Niágara</td>\n",
       "      <td>https://viajeonline.es.tui.com/es/idea/1632339...</td>\n",
       "      <td>https://viajeonline.es.tui.com/es/idea/2474016...</td>\n",
       "      <td>No</td>\n",
       "      <td>Si</td>\n",
       "    </tr>\n",
       "    <tr>\n",
       "      <th>2</th>\n",
       "      <td>Este Americano</td>\n",
       "      <td>https://viajeonline.es.tui.com/es/idea/1154208...</td>\n",
       "      <td>https://viajeonline.es.tui.com/es/idea/2631797...</td>\n",
       "      <td>No</td>\n",
       "      <td>Si</td>\n",
       "    </tr>\n",
       "    <tr>\n",
       "      <th>3</th>\n",
       "      <td>Fantasías del Oeste</td>\n",
       "      <td>https://viajeonline.es.tui.com/es/idea/1626061...</td>\n",
       "      <td>https://viajeonline.es.tui.com/es/idea/2493711...</td>\n",
       "      <td>No</td>\n",
       "      <td>Si</td>\n",
       "    </tr>\n",
       "    <tr>\n",
       "      <th>4</th>\n",
       "      <td>Ruta de la Música</td>\n",
       "      <td>https://viajeonline.es.tui.com/ES/idea/1626675...</td>\n",
       "      <td>https://viajeonline.es.tui.com/es/idea/2494554...</td>\n",
       "      <td>No</td>\n",
       "      <td>Si</td>\n",
       "    </tr>\n",
       "    <tr>\n",
       "      <th>5</th>\n",
       "      <td>Japón Fascinante y Ise y Kumano</td>\n",
       "      <td>https://viajeonline.es.tui.com/es/idea/1781411...</td>\n",
       "      <td>https://viajeonline.es.tui.com/es/idea/2502099...</td>\n",
       "      <td>No</td>\n",
       "      <td>Si</td>\n",
       "    </tr>\n",
       "    <tr>\n",
       "      <th>6</th>\n",
       "      <td>Mongolia Inédita</td>\n",
       "      <td>https://viajeonline.es.tui.com/es/idea/1018063...</td>\n",
       "      <td>https://viajeonline.es.tui.com/es/idea/2608480...</td>\n",
       "      <td>No</td>\n",
       "      <td>Si</td>\n",
       "    </tr>\n",
       "    <tr>\n",
       "      <th>7</th>\n",
       "      <td>Joyas del Este</td>\n",
       "      <td>https://viajeonline.es.tui.com/es/idea/2490414...</td>\n",
       "      <td>https://viajeonline.es.tui.com/es/idea/2490414...</td>\n",
       "      <td>No</td>\n",
       "      <td>Si</td>\n",
       "    </tr>\n",
       "    <tr>\n",
       "      <th>8</th>\n",
       "      <td>Este Mágico</td>\n",
       "      <td>https://viajeonline.es.tui.com/es/idea/2441141...</td>\n",
       "      <td>https://viajeonline.es.tui.com/es/idea/2488419...</td>\n",
       "      <td>No</td>\n",
       "      <td>Si</td>\n",
       "    </tr>\n",
       "    <tr>\n",
       "      <th>9</th>\n",
       "      <td>Oeste Americano y San Francisco</td>\n",
       "      <td>https://viajeonline.es.tui.com/es/idea/1451515...</td>\n",
       "      <td>https://viajeonline.es.tui.com/es/idea/1451515...</td>\n",
       "      <td>No</td>\n",
       "      <td>Si</td>\n",
       "    </tr>\n",
       "    <tr>\n",
       "      <th>10</th>\n",
       "      <td>Este y Oeste Americano</td>\n",
       "      <td>https://viajeonline.es.tui.com/es/idea/1451802...</td>\n",
       "      <td>https://viajeonline.es.tui.com/es/idea/2615688...</td>\n",
       "      <td>No</td>\n",
       "      <td>Si</td>\n",
       "    </tr>\n",
       "  </tbody>\n",
       "</table>\n",
       "</div>"
      ],
      "text/plain": [
       "                       nombre_viaje  \\\n",
       "0               Boston y Nueva York   \n",
       "1              Nueva York y Niágara   \n",
       "2                    Este Americano   \n",
       "3               Fantasías del Oeste   \n",
       "4                 Ruta de la Música   \n",
       "5   Japón Fascinante y Ise y Kumano   \n",
       "6                  Mongolia Inédita   \n",
       "7                    Joyas del Este   \n",
       "8                       Este Mágico   \n",
       "9   Oeste Americano y San Francisco   \n",
       "10           Este y Oeste Americano   \n",
       "\n",
       "                                         url_anterior  \\\n",
       "0   https://viajeonline.es.tui.com/es/idea/2225200...   \n",
       "1   https://viajeonline.es.tui.com/es/idea/1632339...   \n",
       "2   https://viajeonline.es.tui.com/es/idea/1154208...   \n",
       "3   https://viajeonline.es.tui.com/es/idea/1626061...   \n",
       "4   https://viajeonline.es.tui.com/ES/idea/1626675...   \n",
       "5   https://viajeonline.es.tui.com/es/idea/1781411...   \n",
       "6   https://viajeonline.es.tui.com/es/idea/1018063...   \n",
       "7   https://viajeonline.es.tui.com/es/idea/2490414...   \n",
       "8   https://viajeonline.es.tui.com/es/idea/2441141...   \n",
       "9   https://viajeonline.es.tui.com/es/idea/1451515...   \n",
       "10  https://viajeonline.es.tui.com/es/idea/1451802...   \n",
       "\n",
       "                                            url_nueva  \\\n",
       "0   https://viajeonline.es.tui.com/es/idea/2225200...   \n",
       "1   https://viajeonline.es.tui.com/es/idea/2474016...   \n",
       "2   https://viajeonline.es.tui.com/es/idea/2631797...   \n",
       "3   https://viajeonline.es.tui.com/es/idea/2493711...   \n",
       "4   https://viajeonline.es.tui.com/es/idea/2494554...   \n",
       "5   https://viajeonline.es.tui.com/es/idea/2502099...   \n",
       "6   https://viajeonline.es.tui.com/es/idea/2608480...   \n",
       "7   https://viajeonline.es.tui.com/es/idea/2490414...   \n",
       "8   https://viajeonline.es.tui.com/es/idea/2488419...   \n",
       "9   https://viajeonline.es.tui.com/es/idea/1451515...   \n",
       "10  https://viajeonline.es.tui.com/es/idea/2615688...   \n",
       "\n",
       "   url_anterior_en_ultimo_escrapeo url_nueva_en_ultimo_escrapeo  \n",
       "0                               No                           Si  \n",
       "1                               No                           Si  \n",
       "2                               No                           Si  \n",
       "3                               No                           Si  \n",
       "4                               No                           Si  \n",
       "5                               No                           Si  \n",
       "6                               No                           Si  \n",
       "7                               No                           Si  \n",
       "8                               No                           Si  \n",
       "9                               No                           Si  \n",
       "10                              No                           Si  "
      ]
     },
     "execution_count": 40,
     "metadata": {},
     "output_type": "execute_result"
    }
   ],
   "source": [
    "#Duplicados con mismo nombre y diferente url\n",
    "dict_cambios_url= {\"nombre_viaje\":[],'url_anterior':[], 'url_nueva':[], 'url_anterior_en_ultimo_escrapeo':[], \n",
    "                   'url_nueva_en_ultimo_escrapeo':[]}\n",
    "for viaje in df_viajes_agrupados.nombre_viaje.unique():\n",
    "    df_filtrado = df_viajes_agrupados[df_viajes_agrupados.nombre_viaje == viaje]\n",
    "    if len(df_filtrado.url_viaje.unique()) >1:\n",
    "        url1= df_filtrado.url_viaje.unique()[-2]\n",
    "        url2=df_filtrado.url_viaje.unique()[-1]\n",
    "        #print(viaje)\n",
    "        #print(len(df_filtrado.en_ultimo_escrapeo .unique()))\n",
    "        if len(df_filtrado.en_ultimo_escrapeo.unique())>1 and len(df_filtrado.duracion_viaje.unique())==1 and (len(df_filtrado.itinerario.unique()))==1:\n",
    "            en_ultimo_escrapeo_anterior = df_filtrado.en_ultimo_escrapeo.unique()[-2]\n",
    "            en_ultimo_escrapeo_nuevo = df_filtrado.en_ultimo_escrapeo.unique()[-1]\n",
    "            similitud = fuzz.ratio(url1, url2)\n",
    "            #print(similitud)\n",
    "            if similitud >74:\n",
    "                dict_cambios_url['nombre_viaje'].append(viaje)\n",
    "                dict_cambios_url['url_anterior'].append(url1)\n",
    "                dict_cambios_url['url_nueva'].append(url2)\n",
    "                dict_cambios_url['url_anterior_en_ultimo_escrapeo'].append(en_ultimo_escrapeo_anterior)\n",
    "                dict_cambios_url['url_nueva_en_ultimo_escrapeo'].append(en_ultimo_escrapeo_nuevo)\n",
    "            else:\n",
    "                print(viaje)\n",
    "                print(len(df_filtrado.url_viaje.unique()))\n",
    "                print(url1)\n",
    "                print(url2)\n",
    "                print(similitud)\n",
    "                display(df_filtrado.drop_duplicates([\"pais\", 'nombre_viaje', 'duracion_viaje', 'itinerario','url_viaje']))\n",
    "#print(dict_cambios_url)\n",
    "df_cambios_url = pd.DataFrame(dict_cambios_url)\n",
    "df_cambios_url"
   ]
  },
  {
   "cell_type": "code",
   "execution_count": 41,
   "id": "fa92f7e4",
   "metadata": {},
   "outputs": [],
   "source": [
    "ex.incorporar_información_df_original(df_viajes_agrupados, df_cambios_url,\n",
    "                                      'nombre_viaje', 'url_nueva', 'url_viaje', \n",
    "                                      df_viajes_agrupados.url_viaje.isin(dict_cambios_url['url_anterior']))\n",
    "ex.incorporar_información_df_original(df_viajes_agrupados, df_cambios_url,\n",
    "                                      'nombre_viaje', 'url_nueva_en_ultimo_escrapeo', 'en_ultimo_escrapeo', \n",
    "                                      df_viajes_agrupados.url_viaje.isin(dict_cambios_url['url_anterior']))"
   ]
  },
  {
   "cell_type": "code",
   "execution_count": 42,
   "id": "4dbe1017",
   "metadata": {},
   "outputs": [
    {
     "data": {
      "application/vnd.microsoft.datawrangler.viewer.v0+json": {
       "columns": [
        {
         "name": "index",
         "rawType": "int64",
         "type": "integer"
        },
        {
         "name": "url_viaje",
         "rawType": "object",
         "type": "string"
        },
        {
         "name": "nombre_anterior",
         "rawType": "object",
         "type": "string"
        },
        {
         "name": "nombre_nuevo",
         "rawType": "object",
         "type": "string"
        }
       ],
       "conversionMethod": "pd.DataFrame",
       "ref": "2fb0a568-3b4b-4fa6-b767-92adc2c3f6a9",
       "rows": [
        [
         "0",
         "https://viajeonline.es.tui.com/es/idea/14521252/tibet-express",
         "Tibet Express",
         "Capitales Chinas y Tíbet"
        ],
        [
         "1",
         "https://es.tui.com/viaje/oeste-a-tu-alcance",
         "Oeste a tu alcance",
         "Oeste a tu Alcance"
        ],
        [
         "2",
         "https://viajeonline.es.tui.com/es/idea/16265557/nueva-york-desde-faro-salida-08-sep",
         "Nueva York desde Faro - Salida 08 Septiembre",
         "Nueva York desde Faro"
        ],
        [
         "3",
         "https://viajeonline.es.tui.com/es/idea/12209965/-fly-and-drive-oeste-americano-y-hawai",
         "Fly &  Drive Oeste Americano y Hawai",
         "Fly &  Drive Oeste Americano y Hawái"
        ],
        [
         "4",
         "https://viajeonline.es.tui.com/es/idea/18676277/combiando-oahu-kauai-big-island-hawai",
         "Oahu - Kauai - Big island (Hawai)",
         "Oahu - Kauai - Big island (Hawái)"
        ],
        [
         "5",
         "https://viajeonline.es.tui.com/es/idea/18622928/-combinado-oahu-big-island-hawai-maui",
         "Oahu - Big island (Hawai) - Maui",
         "Oahu - Big island (Hawái) - Maui"
        ],
        [
         "6",
         "https://viajeonline.es.tui.com/es/idea/18722873/lo-mejor-de-alaska",
         "Lo mejor de Alaska",
         "Lo Mejor de Alaska"
        ],
        [
         "7",
         "https://viajeonline.es.tui.com/es/idea/24971133/costa-rica-en-fin-de-ano",
         "Costa Rica en Fin de Año",
         "Costa Rica con Manuel Antonio en Fin de Año"
        ]
       ],
       "shape": {
        "columns": 3,
        "rows": 8
       }
      },
      "text/html": [
       "<div>\n",
       "<style scoped>\n",
       "    .dataframe tbody tr th:only-of-type {\n",
       "        vertical-align: middle;\n",
       "    }\n",
       "\n",
       "    .dataframe tbody tr th {\n",
       "        vertical-align: top;\n",
       "    }\n",
       "\n",
       "    .dataframe thead th {\n",
       "        text-align: right;\n",
       "    }\n",
       "</style>\n",
       "<table border=\"1\" class=\"dataframe\">\n",
       "  <thead>\n",
       "    <tr style=\"text-align: right;\">\n",
       "      <th></th>\n",
       "      <th>url_viaje</th>\n",
       "      <th>nombre_anterior</th>\n",
       "      <th>nombre_nuevo</th>\n",
       "    </tr>\n",
       "  </thead>\n",
       "  <tbody>\n",
       "    <tr>\n",
       "      <th>0</th>\n",
       "      <td>https://viajeonline.es.tui.com/es/idea/1452125...</td>\n",
       "      <td>Tibet Express</td>\n",
       "      <td>Capitales Chinas y Tíbet</td>\n",
       "    </tr>\n",
       "    <tr>\n",
       "      <th>1</th>\n",
       "      <td>https://es.tui.com/viaje/oeste-a-tu-alcance</td>\n",
       "      <td>Oeste a tu alcance</td>\n",
       "      <td>Oeste a tu Alcance</td>\n",
       "    </tr>\n",
       "    <tr>\n",
       "      <th>2</th>\n",
       "      <td>https://viajeonline.es.tui.com/es/idea/1626555...</td>\n",
       "      <td>Nueva York desde Faro - Salida 08 Septiembre</td>\n",
       "      <td>Nueva York desde Faro</td>\n",
       "    </tr>\n",
       "    <tr>\n",
       "      <th>3</th>\n",
       "      <td>https://viajeonline.es.tui.com/es/idea/1220996...</td>\n",
       "      <td>Fly &amp;  Drive Oeste Americano y Hawai</td>\n",
       "      <td>Fly &amp;  Drive Oeste Americano y Hawái</td>\n",
       "    </tr>\n",
       "    <tr>\n",
       "      <th>4</th>\n",
       "      <td>https://viajeonline.es.tui.com/es/idea/1867627...</td>\n",
       "      <td>Oahu - Kauai - Big island (Hawai)</td>\n",
       "      <td>Oahu - Kauai - Big island (Hawái)</td>\n",
       "    </tr>\n",
       "    <tr>\n",
       "      <th>5</th>\n",
       "      <td>https://viajeonline.es.tui.com/es/idea/1862292...</td>\n",
       "      <td>Oahu - Big island (Hawai) - Maui</td>\n",
       "      <td>Oahu - Big island (Hawái) - Maui</td>\n",
       "    </tr>\n",
       "    <tr>\n",
       "      <th>6</th>\n",
       "      <td>https://viajeonline.es.tui.com/es/idea/1872287...</td>\n",
       "      <td>Lo mejor de Alaska</td>\n",
       "      <td>Lo Mejor de Alaska</td>\n",
       "    </tr>\n",
       "    <tr>\n",
       "      <th>7</th>\n",
       "      <td>https://viajeonline.es.tui.com/es/idea/2497113...</td>\n",
       "      <td>Costa Rica en Fin de Año</td>\n",
       "      <td>Costa Rica con Manuel Antonio en Fin de Año</td>\n",
       "    </tr>\n",
       "  </tbody>\n",
       "</table>\n",
       "</div>"
      ],
      "text/plain": [
       "                                           url_viaje  \\\n",
       "0  https://viajeonline.es.tui.com/es/idea/1452125...   \n",
       "1        https://es.tui.com/viaje/oeste-a-tu-alcance   \n",
       "2  https://viajeonline.es.tui.com/es/idea/1626555...   \n",
       "3  https://viajeonline.es.tui.com/es/idea/1220996...   \n",
       "4  https://viajeonline.es.tui.com/es/idea/1867627...   \n",
       "5  https://viajeonline.es.tui.com/es/idea/1862292...   \n",
       "6  https://viajeonline.es.tui.com/es/idea/1872287...   \n",
       "7  https://viajeonline.es.tui.com/es/idea/2497113...   \n",
       "\n",
       "                                nombre_anterior  \\\n",
       "0                                 Tibet Express   \n",
       "1                            Oeste a tu alcance   \n",
       "2  Nueva York desde Faro - Salida 08 Septiembre   \n",
       "3          Fly &  Drive Oeste Americano y Hawai   \n",
       "4             Oahu - Kauai - Big island (Hawai)   \n",
       "5              Oahu - Big island (Hawai) - Maui   \n",
       "6                            Lo mejor de Alaska   \n",
       "7                      Costa Rica en Fin de Año   \n",
       "\n",
       "                                  nombre_nuevo  \n",
       "0                     Capitales Chinas y Tíbet  \n",
       "1                           Oeste a tu Alcance  \n",
       "2                        Nueva York desde Faro  \n",
       "3         Fly &  Drive Oeste Americano y Hawái  \n",
       "4            Oahu - Kauai - Big island (Hawái)  \n",
       "5             Oahu - Big island (Hawái) - Maui  \n",
       "6                           Lo Mejor de Alaska  \n",
       "7  Costa Rica con Manuel Antonio en Fin de Año  "
      ]
     },
     "execution_count": 42,
     "metadata": {},
     "output_type": "execute_result"
    }
   ],
   "source": [
    "#Duplicados con misma url y diferente nombre\n",
    "dict_cambios_nombre_viaje= {\"url_viaje\":[],'nombre_anterior':[], 'nombre_nuevo':[]}\n",
    "for url in df_viajes_agrupados.url_viaje.unique():\n",
    "    df_filtrado = df_viajes_agrupados[df_viajes_agrupados.url_viaje == url]\n",
    "    if len(df_filtrado.nombre_viaje.unique()) >1:\n",
    "        #print(url)\n",
    "        #print(len(df_filtrado.nombre_viaje.unique()))\n",
    "        nombre1= df_filtrado.nombre_viaje.unique()[-2]\n",
    "        nombre2=df_filtrado.nombre_viaje.unique()[-1]\n",
    "        #print(nombre1)\n",
    "        #print(nombre2)\n",
    "        dict_cambios_nombre_viaje['url_viaje'].append(url)\n",
    "        dict_cambios_nombre_viaje['nombre_anterior'].append(nombre1)\n",
    "        dict_cambios_nombre_viaje['nombre_nuevo'].append(nombre2)\n",
    "df_cambios_nombre_viaje = pd.DataFrame(dict_cambios_nombre_viaje)\n",
    "df_cambios_nombre_viaje"
   ]
  },
  {
   "cell_type": "code",
   "execution_count": 43,
   "id": "e7b6ccae",
   "metadata": {},
   "outputs": [],
   "source": [
    "ex.incorporar_información_df_original(df_viajes_agrupados, df_cambios_nombre_viaje,\n",
    "                                      'url_viaje', 'nombre_nuevo', 'nombre_viaje', \n",
    "                                      df_viajes_agrupados.nombre_viaje.isin(dict_cambios_nombre_viaje['nombre_anterior']))"
   ]
  },
  {
   "cell_type": "code",
   "execution_count": 44,
   "id": "4c27a0d1",
   "metadata": {},
   "outputs": [
    {
     "name": "stdout",
     "output_type": "stream",
     "text": [
      "<class 'pandas.core.frame.DataFrame'>\n",
      "RangeIndex: 49314 entries, 0 to 49313\n",
      "Data columns (total 8 columns):\n",
      " #   Column              Non-Null Count  Dtype         \n",
      "---  ------              --------------  -----         \n",
      " 0   pais                49314 non-null  object        \n",
      " 1   nombre_viaje        49314 non-null  object        \n",
      " 2   duracion_viaje      49126 non-null  object        \n",
      " 3   itinerario          49126 non-null  object        \n",
      " 4   precio              49314 non-null  int64         \n",
      " 5   url_viaje           49288 non-null  object        \n",
      " 6   fecha_escrapeo      49314 non-null  datetime64[ns]\n",
      " 7   en_ultimo_escrapeo  49314 non-null  object        \n",
      "dtypes: datetime64[ns](1), int64(1), object(6)\n",
      "memory usage: 3.0+ MB\n"
     ]
    }
   ],
   "source": [
    "df_viajes_agrupados.info()"
   ]
  },
  {
   "cell_type": "code",
   "execution_count": 45,
   "id": "90abbf50",
   "metadata": {},
   "outputs": [],
   "source": [
    "#elimino los que tiene valores nulos en duracion_Viaje y precio, porque no tengo forma de obtenerlo\n",
    "#  ya que son viajes antiguos y las urls ya no están disponibles\n",
    "df_viajes_agrupados=df_viajes_agrupados.dropna().reset_index(drop=True)"
   ]
  },
  {
   "cell_type": "code",
   "execution_count": 46,
   "id": "fa6260f8",
   "metadata": {},
   "outputs": [
    {
     "name": "stdout",
     "output_type": "stream",
     "text": [
      "<class 'pandas.core.frame.DataFrame'>\n",
      "RangeIndex: 49103 entries, 0 to 49102\n",
      "Data columns (total 8 columns):\n",
      " #   Column              Non-Null Count  Dtype         \n",
      "---  ------              --------------  -----         \n",
      " 0   pais                49103 non-null  object        \n",
      " 1   nombre_viaje        49103 non-null  object        \n",
      " 2   duracion_viaje      49103 non-null  object        \n",
      " 3   itinerario          49103 non-null  object        \n",
      " 4   precio              49103 non-null  int64         \n",
      " 5   url_viaje           49103 non-null  object        \n",
      " 6   fecha_escrapeo      49103 non-null  datetime64[ns]\n",
      " 7   en_ultimo_escrapeo  49103 non-null  object        \n",
      "dtypes: datetime64[ns](1), int64(1), object(6)\n",
      "memory usage: 3.0+ MB\n"
     ]
    }
   ],
   "source": [
    "df_viajes_agrupados.info()"
   ]
  },
  {
   "cell_type": "code",
   "execution_count": 47,
   "id": "a4453776",
   "metadata": {},
   "outputs": [],
   "source": [
    "#Limpio la columna itinerario de cara a la futura extracción de las ciudades\n",
    "df_viajes_agrupados.itinerario = df_viajes_agrupados.itinerario.str.replace('.','')\n",
    "#reemplazo los paréntesis y las ' y ' y ' e ' por una coma para dividir todas las ciudades:\n",
    "df_viajes_agrupados['itinerario_modificado_para_dividir'] = df_viajes_agrupados.itinerario.str.replace(r'[\\(\\)]| y | e ', ' , ', regex=True)"
   ]
  },
  {
   "cell_type": "code",
   "execution_count": 48,
   "id": "4e3863b8",
   "metadata": {},
   "outputs": [],
   "source": [
    "#guardo el df resultante, con todos los viajes:\n",
    "ARCHIVO_GUARDAR_ESCRAPEO_VIAJES_PROCESADOS=os.getenv('ARCHIVO_GUARDAR_ESCRAPEO_VIAJES_PROCESADOS')\n",
    "df_viajes_agrupados.to_pickle(ARCHIVO_GUARDAR_ESCRAPEO_VIAJES_PROCESADOS)"
   ]
  },
  {
   "cell_type": "markdown",
   "id": "95faf707",
   "metadata": {},
   "source": [
    "# Desglose itinerario para obtener las ciudades"
   ]
  },
  {
   "cell_type": "code",
   "execution_count": 49,
   "id": "d9f62195",
   "metadata": {},
   "outputs": [
    {
     "data": {
      "application/vnd.microsoft.datawrangler.viewer.v0+json": {
       "columns": [
        {
         "name": "index",
         "rawType": "int64",
         "type": "integer"
        },
        {
         "name": "pais",
         "rawType": "object",
         "type": "string"
        },
        {
         "name": "itinerario_modificado_para_dividir",
         "rawType": "object",
         "type": "string"
        }
       ],
       "conversionMethod": "pd.DataFrame",
       "ref": "db137d81-78b1-45c7-96d8-a8b9eb18644e",
       "rows": [
        [
         "0",
         "Albania",
         "Tirana, Dürres, Berat, Kruja, Shkodër, Petrovac, Budva, Cetinje , Bar"
        ],
        [
         "1",
         "Alemania",
         "Berlín"
        ],
        [
         "2",
         "Alemania",
         "Salzburgo, Gmunden, Linz, Melk, Viena, Graz, Hallstatt, St Wolfgang, St Johann in Tirol , Innsbruck"
        ],
        [
         "3",
         "Alemania",
         "Bruselas, Durbuy, Lieja, Aquisgrán, Colonia, Bonn, Königswinter, Coblenza, Boppard, Cochem, Tréveris, Luxemburgo, Dinant, Gante, Brujas, Lovaina, Malinas , Amberes"
        ],
        [
         "4",
         "Alemania",
         "sbruck, Cataratas Krimml, Vipiteno, Bresanona, Bolzano, Trento, Marmolada, Canazei, Cortina D’Ampezzo , Brunico"
        ],
        [
         "5",
         "Alemania",
         "Hamburgo, Stade, Bremen, Luneburg, Schwerin, Wismar , Lubeck"
        ],
        [
         "6",
         "Alemania",
         "Frankfurt, Baden-Baden, Estrasburgo, Selva Negra, Titisee, Friburgo, lago Constanza, Riquewihr, Colmar , Heidelberg"
        ],
        [
         "7",
         "Argentina",
         "Buenos Aires, El Calafate , Iguazú"
        ],
        [
         "8",
         "Argentina",
         "Buenos Aires, Ushuaia, El Calafate , Iguazú"
        ],
        [
         "9",
         "Argentina",
         "Buenos Aires, Puerto Madryn, El Calafate , Iguazú"
        ],
        [
         "10",
         "Argentina",
         "Buenos Aires, El Calafate, Iguazú , Río de Janeiro"
        ],
        [
         "11",
         "Argentina",
         "Buenos Aires, Ushuaia, El Calafate, Bariloche , Iguazú"
        ],
        [
         "12",
         "Argentina",
         "Buenos Aires, Puerto Madryn, Ushuaia, El Calafate , Iguazú"
        ],
        [
         "13",
         "Argentina",
         "Buenos Aires, Bariloche, El Calafate , Iguazú"
        ],
        [
         "14",
         "Argentina",
         "Buenos Aires, El Calafate, Salta, Cafayate, Quebrada de Humahuaca , Iguazú"
        ],
        [
         "15",
         "Argentina",
         "Buenos Aires, Puerto Madryn, Ushuaia, El Calafate, Bariloche , Iguazú"
        ],
        [
         "16",
         "Argentina",
         "Buenos Aires, Ushuaia, El Calafate, Puerto Natales, Punta Arenas, Puerto Montt, Puerto Varas, Cruce de Lagos , Bariloche"
        ],
        [
         "17",
         "Argentina",
         "Buenos Aires, Bariloche, Cruce Andino, Puerto Varas, El Calafate , Iguazú"
        ],
        [
         "18",
         "Argentina",
         "Buenos Aires, Puerto Madryn, Ushuaia, El Calafate, Iguazú, Salta , Cafayate"
        ],
        [
         "19",
         "Argentina",
         "Buenos Aires, Ushuaia, Crucero Australis, Punta Arenas, Puerto Natales, Torres del Paine , El Calafate"
        ],
        [
         "20",
         "Argentina",
         "Buenos Aires, El Calafate, Ushuaia, Crucero Australis, Puerto Natales , Santiago de Chile"
        ],
        [
         "21",
         "Argentina",
         "Santiago de Chile, Punta Arenas, Crucero Australis, Ushuaia, El Calafate, Puerto Natales , Torres del Paine"
        ],
        [
         "22",
         "Argentina",
         "Santiago de Chile, Punta Arenas, Puerto Natales, Crucero Australis, Ushuaia, El Calafate, Buenos Aires , Iguazú"
        ],
        [
         "23",
         "Argentina",
         "Santiago de Chile, Puerto Natales, Torres del Paine, Crucero Skorpios III, El Calafate, Buenos Aires , Iguazú"
        ],
        [
         "24",
         "Aruba",
         "Playas de Aruba"
        ],
        [
         "25",
         "Aruba",
         "Nueva York , Aruba"
        ],
        [
         "26",
         "Aruba",
         "Aruba"
        ],
        [
         "27",
         "Australia",
         "Adelaida, Robe, Port Campbell, Melbourne, P N Wilsons Promontory, Lakes Entrance, Mallacoota, Narooma, Jervis Bay , Sydney"
        ],
        [
         "28",
         "Australia",
         "Sydney, Cairns , Melbourne"
        ],
        [
         "29",
         "Australia",
         "Melbourne, Cairns , Sydney"
        ],
        [
         "30",
         "Australia",
         "Sydney, Ayers Rock , Cairns"
        ],
        [
         "31",
         "Australia",
         "Sydney, Cairns, Townsville, Airlie Beach, Hervey Bay , Brisbane"
        ],
        [
         "32",
         "Australia",
         "Sydney, Cairns, Darwin , PN Kakadu"
        ],
        [
         "33",
         "Australia",
         "Sydney, Ayers Rock, Cairns , Melbourne"
        ],
        [
         "34",
         "Australia",
         "Sydney, Hunter Valley, Port Macquarie, Coffs Harbour, Byron Bay, Gold Coast, Brisbane, Hervey Bay, Bundaberg, Rockhampton, Mackay, Airlie Beach, Townsville , Cairns"
        ],
        [
         "35",
         "Australia",
         "Melbourne, Adelaida, Kangaroo Island, Cairns , Sydney"
        ],
        [
         "36",
         "Australia",
         "Sydney, Ayers Rock, Alice Springs, Adelaida, Kangaroo Island , Cairns"
        ],
        [
         "37",
         "Australia",
         "Melbourne, Apollo Bay, Port Fairy, PN de Grampians, Robe, Barossa Valley, Adelaida, Alice Springs, Ayers Rock, Cairns , Sydney"
        ],
        [
         "38",
         "Australia",
         "Auckland, Waitomo, Rotorua, Sydney, Cairns , Melbourne"
        ],
        [
         "39",
         "Australia",
         "Bangkok, Sydney, Auckland, Tahití, Moorea , Los Ángeles"
        ],
        [
         "40",
         "Australia",
         "Auckland, Waitomo, Rotorua, Christchurch, Lake Tekapo, Te Anau, Queenstown, Milford Sound, Sydney, Ayers Rock , Cairns"
        ],
        [
         "41",
         "Austria",
         "Viena, Melk , Wachau"
        ],
        [
         "42",
         "Austria",
         "Salzburgo, Gmunden, Linz, Melk, Viena, Graz, Hallstatt, St Wolfgang, St Johann in Tirol , Innsbruck"
        ],
        [
         "43",
         "Austria",
         "sbruck, Cataratas Krimml, Vipiteno, Bresanona, Bolzano, Trento, Marmolada, Canazei, Cortina D’Ampezzo , Brunico"
        ],
        [
         "44",
         "Austria",
         "Viena, Melk, Salzburgo, Hallstat, Tratzberg, Hall in Tirol , Innsbruck"
        ],
        [
         "45",
         "Austria",
         "Praga, Bohemia, Karlovy Vary, Viena, Bratislava , Budapest"
        ],
        [
         "46",
         "Austria",
         "Budapest, Bratislava, Viena, Karlovy Vary, Bohemia , Praga"
        ],
        [
         "47",
         "Austria",
         "Praga, Karlovy Vary, Kutna Hora, Viena, Melk , Wachau"
        ],
        [
         "48",
         "Austria",
         "Budapest, Bratislava , Viena"
        ],
        [
         "49",
         "Austria",
         "Budapest, Bratislava, valle del Wachau, Dürnstein, Linz , Viena"
        ]
       ],
       "shape": {
        "columns": 2,
        "rows": 1397
       }
      },
      "text/html": [
       "<div>\n",
       "<style scoped>\n",
       "    .dataframe tbody tr th:only-of-type {\n",
       "        vertical-align: middle;\n",
       "    }\n",
       "\n",
       "    .dataframe tbody tr th {\n",
       "        vertical-align: top;\n",
       "    }\n",
       "\n",
       "    .dataframe thead th {\n",
       "        text-align: right;\n",
       "    }\n",
       "</style>\n",
       "<table border=\"1\" class=\"dataframe\">\n",
       "  <thead>\n",
       "    <tr style=\"text-align: right;\">\n",
       "      <th></th>\n",
       "      <th>pais</th>\n",
       "      <th>itinerario_modificado_para_dividir</th>\n",
       "    </tr>\n",
       "  </thead>\n",
       "  <tbody>\n",
       "    <tr>\n",
       "      <th>0</th>\n",
       "      <td>Albania</td>\n",
       "      <td>Tirana, Dürres, Berat, Kruja, Shkodër, Petrova...</td>\n",
       "    </tr>\n",
       "    <tr>\n",
       "      <th>1</th>\n",
       "      <td>Alemania</td>\n",
       "      <td>Berlín</td>\n",
       "    </tr>\n",
       "    <tr>\n",
       "      <th>2</th>\n",
       "      <td>Alemania</td>\n",
       "      <td>Salzburgo, Gmunden, Linz, Melk, Viena, Graz, H...</td>\n",
       "    </tr>\n",
       "    <tr>\n",
       "      <th>3</th>\n",
       "      <td>Alemania</td>\n",
       "      <td>Bruselas, Durbuy, Lieja, Aquisgrán, Colonia, B...</td>\n",
       "    </tr>\n",
       "    <tr>\n",
       "      <th>4</th>\n",
       "      <td>Alemania</td>\n",
       "      <td>sbruck, Cataratas Krimml, Vipiteno, Bresanona,...</td>\n",
       "    </tr>\n",
       "    <tr>\n",
       "      <th>...</th>\n",
       "      <td>...</td>\n",
       "      <td>...</td>\n",
       "    </tr>\n",
       "    <tr>\n",
       "      <th>1392</th>\n",
       "      <td>Georgia</td>\n",
       "      <td>Erevan, Etchmiadzin, Zvartnots, Sevan, Dilijan...</td>\n",
       "    </tr>\n",
       "    <tr>\n",
       "      <th>1393</th>\n",
       "      <td>Laponia</td>\n",
       "      <td>Laponia</td>\n",
       "    </tr>\n",
       "    <tr>\n",
       "      <th>1394</th>\n",
       "      <td>Estados Unidos</td>\n",
       "      <td>Los Ángeles, Las Vegas, Gran Cañón, Monument V...</td>\n",
       "    </tr>\n",
       "    <tr>\n",
       "      <th>1395</th>\n",
       "      <td>Finlandia</td>\n",
       "      <td>Levi</td>\n",
       "    </tr>\n",
       "    <tr>\n",
       "      <th>1396</th>\n",
       "      <td>Laponia</td>\n",
       "      <td>Levi</td>\n",
       "    </tr>\n",
       "  </tbody>\n",
       "</table>\n",
       "<p>1397 rows × 2 columns</p>\n",
       "</div>"
      ],
      "text/plain": [
       "                pais                 itinerario_modificado_para_dividir\n",
       "0            Albania  Tirana, Dürres, Berat, Kruja, Shkodër, Petrova...\n",
       "1           Alemania                                             Berlín\n",
       "2           Alemania  Salzburgo, Gmunden, Linz, Melk, Viena, Graz, H...\n",
       "3           Alemania  Bruselas, Durbuy, Lieja, Aquisgrán, Colonia, B...\n",
       "4           Alemania  sbruck, Cataratas Krimml, Vipiteno, Bresanona,...\n",
       "...              ...                                                ...\n",
       "1392         Georgia  Erevan, Etchmiadzin, Zvartnots, Sevan, Dilijan...\n",
       "1393         Laponia                                            Laponia\n",
       "1394  Estados Unidos  Los Ángeles, Las Vegas, Gran Cañón, Monument V...\n",
       "1395       Finlandia                                               Levi\n",
       "1396         Laponia                                               Levi\n",
       "\n",
       "[1397 rows x 2 columns]"
      ]
     },
     "execution_count": 49,
     "metadata": {},
     "output_type": "execute_result"
    }
   ],
   "source": [
    "df_viajes_agrupados=pd.read_pickle(ARCHIVO_GUARDAR_ESCRAPEO_VIAJES_PROCESADOS)\n",
    "df_itinerarios = df_viajes_agrupados[['pais','itinerario_modificado_para_dividir']].drop_duplicates().reset_index(drop=True)\n",
    "df_itinerarios"
   ]
  },
  {
   "cell_type": "code",
   "execution_count": 50,
   "id": "6fc1c0e5",
   "metadata": {},
   "outputs": [
    {
     "name": "stdout",
     "output_type": "stream",
     "text": [
      "<class 'pandas.core.frame.DataFrame'>\n",
      "RangeIndex: 1397 entries, 0 to 1396\n",
      "Data columns (total 2 columns):\n",
      " #   Column                              Non-Null Count  Dtype \n",
      "---  ------                              --------------  ----- \n",
      " 0   pais                                1397 non-null   object\n",
      " 1   itinerario_modificado_para_dividir  1397 non-null   object\n",
      "dtypes: object(2)\n",
      "memory usage: 22.0+ KB\n"
     ]
    }
   ],
   "source": [
    "df_itinerarios.info()"
   ]
  },
  {
   "cell_type": "code",
   "execution_count": 51,
   "id": "4317eac4",
   "metadata": {},
   "outputs": [
    {
     "name": "stdout",
     "output_type": "stream",
     "text": [
      "<class 'pandas.core.frame.DataFrame'>\n",
      "RangeIndex: 49103 entries, 0 to 49102\n",
      "Data columns (total 9 columns):\n",
      " #   Column                              Non-Null Count  Dtype         \n",
      "---  ------                              --------------  -----         \n",
      " 0   pais                                49103 non-null  object        \n",
      " 1   nombre_viaje                        49103 non-null  object        \n",
      " 2   duracion_viaje                      49103 non-null  object        \n",
      " 3   itinerario                          49103 non-null  object        \n",
      " 4   precio                              49103 non-null  int64         \n",
      " 5   url_viaje                           49103 non-null  object        \n",
      " 6   fecha_escrapeo                      49103 non-null  datetime64[ns]\n",
      " 7   en_ultimo_escrapeo                  49103 non-null  object        \n",
      " 8   itinerario_modificado_para_dividir  49103 non-null  object        \n",
      "dtypes: datetime64[ns](1), int64(1), object(7)\n",
      "memory usage: 3.4+ MB\n"
     ]
    }
   ],
   "source": [
    "df_viajes_agrupados.info()"
   ]
  },
  {
   "cell_type": "code",
   "execution_count": 52,
   "id": "d4a9fb39",
   "metadata": {},
   "outputs": [],
   "source": [
    "df_itinerarios=df_itinerarios.drop_duplicates()"
   ]
  },
  {
   "cell_type": "code",
   "execution_count": 53,
   "id": "9dc77832",
   "metadata": {},
   "outputs": [
    {
     "name": "stdout",
     "output_type": "stream",
     "text": [
      "<class 'pandas.core.frame.DataFrame'>\n",
      "RangeIndex: 1397 entries, 0 to 1396\n",
      "Data columns (total 2 columns):\n",
      " #   Column                              Non-Null Count  Dtype \n",
      "---  ------                              --------------  ----- \n",
      " 0   pais                                1397 non-null   object\n",
      " 1   itinerario_modificado_para_dividir  1397 non-null   object\n",
      "dtypes: object(2)\n",
      "memory usage: 22.0+ KB\n"
     ]
    }
   ],
   "source": [
    "df_itinerarios.info()"
   ]
  },
  {
   "cell_type": "code",
   "execution_count": 54,
   "id": "ad463d8e",
   "metadata": {},
   "outputs": [
    {
     "data": {
      "text/plain": [
       "['Tirana, Dürres, Berat, Kruja, Shkodër, Petrovac, Budva, Cetinje , Bar',\n",
       " 'Berlín',\n",
       " 'Salzburgo, Gmunden, Linz, Melk, Viena, Graz, Hallstatt, St Wolfgang, St Johann in Tirol , Innsbruck',\n",
       " 'Bruselas, Durbuy, Lieja, Aquisgrán, Colonia, Bonn, Königswinter, Coblenza, Boppard, Cochem, Tréveris, Luxemburgo, Dinant, Gante, Brujas, Lovaina, Malinas , Amberes',\n",
       " 'sbruck, Cataratas Krimml, Vipiteno, Bresanona, Bolzano, Trento, Marmolada, Canazei, Cortina D’Ampezzo , Brunico',\n",
       " 'Hamburgo, Stade, Bremen, Luneburg, Schwerin, Wismar , Lubeck',\n",
       " 'Frankfurt, Baden-Baden, Estrasburgo, Selva Negra, Titisee, Friburgo, lago Constanza, Riquewihr, Colmar , Heidelberg',\n",
       " 'Buenos Aires, El Calafate , Iguazú',\n",
       " 'Buenos Aires, Ushuaia, El Calafate , Iguazú',\n",
       " 'Buenos Aires, Puerto Madryn, El Calafate , Iguazú',\n",
       " 'Buenos Aires, El Calafate, Iguazú , Río de Janeiro',\n",
       " 'Buenos Aires, Ushuaia, El Calafate, Bariloche , Iguazú',\n",
       " 'Buenos Aires, Puerto Madryn, Ushuaia, El Calafate , Iguazú',\n",
       " 'Buenos Aires, Bariloche, El Calafate , Iguazú',\n",
       " 'Buenos Aires, El Calafate, Salta, Cafayate, Quebrada de Humahuaca , Iguazú',\n",
       " 'Buenos Aires, Puerto Madryn, Ushuaia, El Calafate, Bariloche , Iguazú',\n",
       " 'Buenos Aires, Ushuaia, El Calafate, Puerto Natales, Punta Arenas, Puerto Montt, Puerto Varas, Cruce de Lagos , Bariloche',\n",
       " 'Buenos Aires, Bariloche, Cruce Andino, Puerto Varas, El Calafate , Iguazú',\n",
       " 'Buenos Aires, Puerto Madryn, Ushuaia, El Calafate, Iguazú, Salta , Cafayate',\n",
       " 'Buenos Aires, Ushuaia, Crucero Australis, Punta Arenas, Puerto Natales, Torres del Paine , El Calafate',\n",
       " 'Buenos Aires, El Calafate, Ushuaia, Crucero Australis, Puerto Natales , Santiago de Chile',\n",
       " 'Santiago de Chile, Punta Arenas, Crucero Australis, Ushuaia, El Calafate, Puerto Natales , Torres del Paine',\n",
       " 'Santiago de Chile, Punta Arenas, Puerto Natales, Crucero Australis, Ushuaia, El Calafate, Buenos Aires , Iguazú',\n",
       " 'Santiago de Chile, Puerto Natales, Torres del Paine, Crucero Skorpios III, El Calafate, Buenos Aires , Iguazú',\n",
       " 'Playas de Aruba',\n",
       " 'Nueva York , Aruba',\n",
       " 'Aruba',\n",
       " 'Adelaida, Robe, Port Campbell, Melbourne, P N Wilsons Promontory, Lakes Entrance, Mallacoota, Narooma, Jervis Bay , Sydney',\n",
       " 'Sydney, Cairns , Melbourne',\n",
       " 'Melbourne, Cairns , Sydney',\n",
       " 'Sydney, Ayers Rock , Cairns',\n",
       " 'Sydney, Cairns, Townsville, Airlie Beach, Hervey Bay , Brisbane',\n",
       " 'Sydney, Cairns, Darwin , PN Kakadu',\n",
       " 'Sydney, Ayers Rock, Cairns , Melbourne',\n",
       " 'Sydney, Hunter Valley, Port Macquarie, Coffs Harbour, Byron Bay, Gold Coast, Brisbane, Hervey Bay, Bundaberg, Rockhampton, Mackay, Airlie Beach, Townsville , Cairns',\n",
       " 'Melbourne, Adelaida, Kangaroo Island, Cairns , Sydney',\n",
       " 'Sydney, Ayers Rock, Alice Springs, Adelaida, Kangaroo Island , Cairns',\n",
       " 'Melbourne, Apollo Bay, Port Fairy, PN de Grampians, Robe, Barossa Valley, Adelaida, Alice Springs, Ayers Rock, Cairns , Sydney',\n",
       " 'Auckland, Waitomo, Rotorua, Sydney, Cairns , Melbourne',\n",
       " 'Bangkok, Sydney, Auckland, Tahití, Moorea , Los Ángeles',\n",
       " 'Auckland, Waitomo, Rotorua, Christchurch, Lake Tekapo, Te Anau, Queenstown, Milford Sound, Sydney, Ayers Rock , Cairns',\n",
       " 'Viena, Melk , Wachau',\n",
       " 'Viena, Melk, Salzburgo, Hallstat, Tratzberg, Hall in Tirol , Innsbruck',\n",
       " 'Praga, Bohemia, Karlovy Vary, Viena, Bratislava , Budapest',\n",
       " 'Budapest, Bratislava, Viena, Karlovy Vary, Bohemia , Praga',\n",
       " 'Praga, Karlovy Vary, Kutna Hora, Viena, Melk , Wachau',\n",
       " 'Budapest, Bratislava , Viena',\n",
       " 'Budapest, Bratislava, valle del Wachau, Dürnstein, Linz , Viena',\n",
       " 'Nueva York, Miami, Coco Cay , Nasáu',\n",
       " 'Nueva York , Bahamas',\n",
       " 'Bahamas',\n",
       " 'Miami , Nassau',\n",
       " 'Barbados',\n",
       " 'Nueva York , Barbados',\n",
       " 'Bruselas, Lovaina, Malinas, Amberes, Gante , Brujas',\n",
       " 'Ámsterdam, Zaanse Schans, Edam, Volendam, Marken, La Haya, Róterdam, Amberes, Brujas, Gante , Bruselas',\n",
       " 'Bruselas, Gante, Brujas, Amberes, La Haya , Ámsterdam',\n",
       " 'Santa Cruz, Misiones jesuíticas Concepción, Misiones jesuíticas San Javier, Sucre, Potosí, Uyuni, desierto de Siloli, San Pedro de Quemez, Tiwanaku, La Paz, lago Titicaca, Copacabana , isla del Sol',\n",
       " 'Cataratas Victoria, PN Chobe , Delta del Okavango',\n",
       " 'Windhoek, Desierto de Namib, Swakopmund, Cape Cross, Spitzkoppe, Twyfelfontein, Damaraland, Cataratas Epupa, PN Etosha, Reserva de Nyae Nyae, Delta del Okavango, PN Chobe , Cataratas Victoria',\n",
       " 'Cataratas Victoria, Matobo, Botswana, Makgadikagi Pans, Kalahari, delta del Okavango, Moremi , Savuti',\n",
       " 'Cataratas Victoria, Valle de los Elefantes, PN Chobe, Elephant Sands, Makgadikgadi Pans, Maun, Delta del Okavango, Moremi , Kasane',\n",
       " 'Windhoek, Desierto de Namibia, Sossusvlei, Sesriem, Swakopmund, Cape Cross, Spitzkoppe, Damaraland, Epupa Falls, PN Etosha, Reserva de Nyae Nyae, Delta del Okavango, PN Chobe , Cataratas Victoria',\n",
       " 'Windhoek, Desierto de Namibia, Cataratas Victoria, P N Chobe, Delta del Okavango , Ciudad del Cabo',\n",
       " 'Ciudad del Cabo, Windhoek, Desierto de Namibia, Sossusvlei, Swakopmund, Cape Cross, Spitzkoppe, Damaraland, Opuwo, PN Etosha, Tsumeb, Reserva de Nyae Nyae, Delta del Okavango, Nkasa Rupara, Katima Mulilo, Cataratas Epupa, PN Chobe , Cataratas Victoria',\n",
       " 'Salvador de Bahía, São Luis, Barreirinhas, Vassouras, Mandacaru, Atins, Caburé, Tutoia, Delta, Parnaíba, Jericoacoara , Fortaleza',\n",
       " 'Río de Janeiro, Iguazú, Manaos, Amazonas , Salvador de Bahía',\n",
       " 'Río de Janeiro, Pantanal , Salvador de Bahía',\n",
       " 'Río de Janeiro, Manaos, MV Crucero Desafío , Salvador de Bahía',\n",
       " 'Río de Janeiro, Manaos, Amazonas, São Luis, Barreirinhas,y Salvador de Bahía',\n",
       " 'Río de Janeiro, Palmas, Sâo Felix, Parque Nacional Jalapão, Mateiros, Pindorama do Tocantins, Ciudad de las Piedras , Salvador de Bahía',\n",
       " 'Río de Janeiro, Manaos, MV Crucero Desafío, Salvador de Bahía , Imbassai',\n",
       " 'Sofía, Monasterio de Rila, Plovdiv, Monasterio de Bachkovo, Kazanlak, Mar Negro, Nessebar , Veliko Tarnovo',\n",
       " 'Sofía, Monasterio de Rila, Plovdiv, Monasterio de Bachkovo, Estambul, Nesebar , Veliko Tarnovo',\n",
       " 'Belgrado, Vojvodina, Novi Sad, Nis, Sofía, Plovdiv, Veliko Tarnovo , Bucarest',\n",
       " 'Sofía, Monasterio de Rila, Salónica, Ouranopolis, Monte Athos, Melnik , Monasterio de Rozhen',\n",
       " 'Katmandú, Paro, Timbu, Punakha, Wangdue , Taktsang',\n",
       " 'Katmandú, Paro, Timbu, Punakha, Wangdue, Taktsang , Valle de Haa',\n",
       " 'Katmandú, Swayambhunath, Patan, Paro, Timbu Punakha, Wangdue Taktsang , Valle de Haa',\n",
       " 'Delhi, Jaipur, Amber, Fatehpur Sikri, Agra, Paro, Timbu, Punakha, Wangdue , Taktsang',\n",
       " 'Delhi, Baghdogra, Darjeeling, Gangtok, Kalimpong, Phuntsholing, Timbu, Punakha, Wangdue, Paro , Taktsang',\n",
       " 'sla de Sal',\n",
       " 'Phnom Penh, Koh Dach, Battambang, Siem Reap, Kompong Kleang , Koh Rong',\n",
       " 'Hanoi, Bahía de Halong, Hue, Hoi An, Danang, Siem Reap , Luang Prabang',\n",
       " 'Montreal, Quebec, MtTremblant, Ottawa, Niágara , Toronto',\n",
       " 'Montreal , Quebec',\n",
       " 'Vancouver, Sun Peaks, Jasper, Banff , Calgary',\n",
       " 'Toronto, Niágara, Mil Islas, Ottawa, Quebec , Montreal',\n",
       " 'Montreal, Quebec, Charlevoix, Ottawa, Mil Islas, Niágara , Toronto',\n",
       " 'Montreal, Quebec, Ottawa, Gatineau, Mil Islas, Niagara , Toronto',\n",
       " 'Toronto, Niagara, Mil Islas, Gatineau, Ottawa, Quebec , Montreal',\n",
       " 'Montreal, Quebec, Mont-Tremblant, Ottawa, Toronto, Vancouver, Sun Peaks,  Jasper, Banff , Calgary',\n",
       " 'Vancouver, Victoria , Whistler',\n",
       " 'Vancouver, Pasaje Interior, Tracy Arm, Juneau, Skagway, Glacier Bay , Ketchikan',\n",
       " 'Calgary, Banff, Campos de Hielo, Jasper, Monte Robson, Kamloops, Vancouver',\n",
       " 'Montreal, Saint Paulin , Quebec',\n",
       " 'Vancouver, Victoria, Whistler, Pasaje Interior, Tracy Arm, Juneau, Skagway, Glacier Bay , Ketchikan',\n",
       " 'Calgary, Banff, Lake Louise, Campos de Hielo, Jasper, Cañón Maligne, Kamloops, Vancouver, Pasaje Interior, Tracy Arm, Juneau, Skagway, Glacier Bay , Ketchikan',\n",
       " 'Toronto, Niágara, Mil Islas, Ottawa, Quebec, Montreal, Calgary, Banff, Campos de Hielo, Jasper, Monte Robson, Kamloops , Vancouver',\n",
       " 'Calgary, Banff, Lake Louise, Campos de Hielo, Jasper, Cañón Maligne, Kamloops, Vancouver, Whistler , Victoria',\n",
       " 'Toronto, Niágara, Mis Islas, Ottawa, Quebec, Montreal, Calgary, Banff, Lake Louise, Campos de Hielo, Jasper, Cañón Maligne, Kamloops, Pasaje Interior, Juneau, Skagway, Glaciar Bay, Ketchikan , Vancouver',\n",
       " 'Calgary, Banff, Lake Louise, Campos de Hielo, Jasper, Kamloops , Vancouver',\n",
       " 'Santiago de Chile, Puerto Montt, Puerto Varas, Punta Arenas, Puerto Natales , Torres del Paine',\n",
       " 'Santiago de Chile, San Pedro de Atacama, Punta Arenas , Puerto Natales',\n",
       " 'Santiago de Chile, Punta Arenas, Puerto Natales, Torres del Paine , Isla de Pascua',\n",
       " 'Santiago de Chile, San Pedro de Atacama, Puerto Montt, Puerto Varas, Punta Arenas , Puerto Natales',\n",
       " 'Santiago de Chile, San Pedro de Atacama , Isla de Pascua',\n",
       " 'Santiago de Chile, Balmaceda, Puerto Chacabuco, Punta Arenas , Puerto Natales',\n",
       " 'Santiago de Chile, Puerto Montt, Puerto Varas, Puerto Chacabuco, Puerto Bertrand , Balmaceda',\n",
       " 'Santiago de Chile, Puerto Montt, Crucero Skorpios II, Glaciar San Rafael , Isla de Pascua',\n",
       " 'Santiago de Chile, San Pedro de Atacama, Puerto Montt, Crucero Skorpios II, Puerto Varas, Puerto Natales , Torres del Paine',\n",
       " 'Santiago de Chile, San Pedro de Atacama, Puerto Natales, Torres del Paine , Crucero Skorpios III',\n",
       " 'Beijing',\n",
       " 'Shanghái',\n",
       " 'Hong Kong',\n",
       " 'Beijing , Shanghái',\n",
       " 'Pekín, Ti An Men, Xian, Shanghái',\n",
       " 'Pekín, Ti An Men, Xian, Shanghái , Hangzhou , Suzhou',\n",
       " 'Beijing, Hangzhou, Suzhou , Shanghái',\n",
       " 'Beijing, Xian, Hangzhou, Suzhou , Shanghái',\n",
       " 'Beijing, Xi’an, Chengdu, Hangzhou, Suzhou , Shanghái',\n",
       " 'Beijing , Xian , Chengdu , Chongqing , Shanghái',\n",
       " 'Beijing, Xian, Crucero Yangtsé , Shanghái',\n",
       " 'Beijing, Xian, Guilin, Zhangjiajie  , Shanghái',\n",
       " 'Beijing, Xian, Lhasa, Chengdú , Shanghái',\n",
       " 'Hong Kong, Auckland, Waitomo, Hobbiton, Islas Cook , Los Ángeles',\n",
       " 'Beijing, Xi’an, Lhasa, Tsedang, Gyantse, Shigatse, Lhasa , Shanghái',\n",
       " 'Lárnaca, Pafos, Nicosia, Troodos, Kykko, Curium, Limassol, Omodos, Salamis, Famagusta , Ayia Napa \\r',\n",
       " 'Chipre',\n",
       " 'Bogotá , Cartagena de Indias',\n",
       " 'Cartagena de Indias , Islas del Rosario',\n",
       " 'Cartagena de Indias , San Andrés',\n",
       " 'Cartagena de Indias , Isla Múcura',\n",
       " 'Cartagena de Indias , Barú',\n",
       " 'Cartagena de Indias , Santa Marta',\n",
       " 'Bogotá, Medellín , Cartagena de Indias',\n",
       " 'Bogotá, Zipaquirá, Santa Marta , Cartagena de Indias',\n",
       " 'Bogotá, Leticia, Cartagena de Indias , Barú',\n",
       " 'Ciudad de Panamá, Emberá, Gamboa, Pereira , Cartagena de Indias',\n",
       " 'Medellín, Pereira, Manizales, Hacienda Venecia, Filandia, Salento, Valle del Cocora , Cartagena de Indias',\n",
       " 'Bogotá, Zipaquirá, Pereira, valle del Cócora, Medellín, Santa Marta, Cartagena de Indias , Barú',\n",
       " 'Bogotá, Zipaquirá, Villa de Leyva, Pereira, Santa Marta, Cartagena de Indias , Barú',\n",
       " 'Medellín, Pereira, Manizales, Hacienda Venecia, Filandia, Salento, Valle del Cocora, Cartagena de Indias , Barú',\n",
       " 'Bogotá, Zipaquirá, Villa de Leyva, Ráquira, Chiquinquirá, Barichara, Cañón de Chicamocha, Pereira, valle del Cocora , Cartagena de Indias',\n",
       " 'Seúl, Gyeongju , Busán',\n",
       " 'Seúl, PN Monte Songnisan, Daegu, Gyeongju , Busán',\n",
       " 'Seúl, PN Monte Songnisan, Daegu, Gyeongju, Busán, PN Monte Gayasan, Andong, Chungju, Templo Woljeongsa o Templo Samhwasa, Gangneung , PN Monte Seorak',\n",
       " 'Seúl, PN Monte Songnisan, Daegu, Gyeongju, Busán , Phuket',\n",
       " 'San José, Tortuguero, Arenal, Monteverde , Manuel Antonio',\n",
       " 'San José, Arenal, Monteverde , Punta Leona',\n",
       " 'Nueva York , Guanacaste',\n",
       " 'San José, Arenal, Tortuguero, Puerto Viejo , Bocas del Toro',\n",
       " 'Nueva York, San José, Tortuguero, Arenal , Guanacaste',\n",
       " 'San José, Tortuguero, Puerto Viejo, Arenal , Guanacaste',\n",
       " 'Ciudad de Guatemala, Chichicastenango, lago Atitlán, Iximché, Antigua, San José, Tortuguero, Arenal , Guanacaste',\n",
       " 'San José, Arenal, Tortuguero, Puerto Viejo, Bocas del Toro, Gamboa , Ciudad de Panamá',\n",
       " 'San José, Tortuguero, Arenal, Granada, volcán Mombacho, Catarina, PN volcán Masaya, León, volcán Cerro Negro , Managua',\n",
       " 'Ciudad de Guatemala, Chichicastenango, lago Atitlán, Iximché, Antigua, Petén, Tikal, San José, Tortuguero, Arenal , Guanacaste',\n",
       " 'Ciudad de Guatemala, Chichicastenango, lago Atitlán, Santiago, Antigua, Copán, Quiriguá, Izabal, Río Dulce, Petén, Tikal, San\\rJosé, Arenal, Tortuguero, Puerto Viejo, Bocas del Toro, Gamboa , Ciudad de Panamá',\n",
       " 'Zagreb, Opatija, Plitvice, Zadar, Split , Dubrovnik',\n",
       " 'Budapest, Pecs, Mohacs, Novi Sad, Donji Milanovac, Belgrado , Vukovar',\n",
       " 'Curaçao',\n",
       " 'Nueva York , Curaçao',\n",
       " 'Copenhague, Roskilde, Odense, Aarhus, Skagen, Kolding',\n",
       " 'Copenhague, Odense, Vejle, Aarhus, Frederikshavn, Göteborg , Malmö',\n",
       " 'Copenhague, Odeste, Billund, Aarhus, Aalborg, Gotemburgo, Gränna, Linköping, Canal de Göta, Estocolmo',\n",
       " 'Estocolmo, Helsinki, Tallin, Turaida, Riga, Colina de las Cruces, Malmö , Copenhague',\n",
       " 'Copenhague, Aarhus, Hirtshals, Stavanger, Bergen, Región de los Fiordos, Oslo, Karlstad, Estocolmo',\n",
       " 'Dominica',\n",
       " 'Quito, Otavalo, comunidad San Clemente, Amazonía, Chimborazo, Baños, Riobamba, Cuenca , Guayaquil',\n",
       " 'Quito, Otavalo, Chimborazo, Riobamba, Cuenca, Guayaquil , Galápagos',\n",
       " 'Abu Simbel, Cairo , Nilo',\n",
       " 'Luxor, Valle de los Reyes, Templo de Hatshepsut, Colosos, Karnak, Esna, Edfú, Kom Ombo, Aswan, Abu Simbel, El Cairo , Giza',\n",
       " 'El Cairo, Giza, Abu Simbel, Aswan, Kom Ombo, Edfú, Esna, Luxor , Hurghada',\n",
       " 'El Cairo, Luxor, Valle de los Reyes, Dendera, Abydos, Medinet Habu, Deir el Bahari, Edfú, Kom Ombo, Aswan , Abu Simbel',\n",
       " 'Luxor, Esna, Edfu, Kom Ombo, Aswan, Abu Simbel, Qasr Ibrim, Wadi El Seboua, Aswan, El Cairo , Giza',\n",
       " 'San Salvador, PN El Boquerón, Suchitoto, Joya de Cerén, Tazumal, Concepción de Ataco, Ruta de las Flores, volcán Santa Ana , Costa del Sol',\n",
       " 'Ciudad de Guatemala, Chichicastenango, lago Atitlán, Antigua, Tazumal, Santa Ana, Suchitoto, Golfo de Fonseca, León, Masaya , Granada',\n",
       " 'Abu Dhabi',\n",
       " 'Dubái',\n",
       " 'Dubái, Desierto de Dubái , Abu Dhabi',\n",
       " 'Dubái, Abu Dhabi , Desierto',\n",
       " 'Muscat, Tanuf, Al Hamra, Jabal Shams, Nizwa, Wahiba Sands, Wadi Bani Khalid, Ras al Hadd, Wadi Tiwi , Bimah Sinkhole',\n",
       " 'Dubái , Zanzíbar',\n",
       " 'Abu Dhabi, Dubái, Hatta, Fujairah , Sharjah',\n",
       " 'Dubái , Mauricio',\n",
       " 'Dubái , Maldivas',\n",
       " 'Bratislava, Trencin, Bojnice, Orava, PN Tatras, Spis, Kosice, Domica Cave, Banska Bystrica t Zvolen',\n",
       " 'Ljubljana, Lago Bled, Kranjska Gora, Parque Nacional de Triglav, Postojna, Predjama, Koper, Ptuj , Maribor',\n",
       " 'Madrid',\n",
       " 'Gran Canaria',\n",
       " 'Mallorca',\n",
       " 'Lanzarote',\n",
       " 'biza',\n",
       " 'Fuerteventura',\n",
       " 'Tenerife',\n",
       " 'Boston',\n",
       " 'Orlando',\n",
       " 'New Orleans',\n",
       " 'Boston , Miami',\n",
       " 'Boston , Nueva York',\n",
       " 'Orlando , Miami',\n",
       " 'Philadelphia',\n",
       " 'Las Vegas',\n",
       " 'Boston, Nueva York, Filadelfia , Washington',\n",
       " 'San Francisco',\n",
       " 'Nueva York',\n",
       " 'Miami',\n",
       " 'Los Ángeles',\n",
       " 'Chicago',\n",
       " 'Boston, Portland, New Hampsire, Vermont, Green Mountains, Connecticut River Valley , Cape Cod',\n",
       " 'Nueva York , Miami',\n",
       " 'New Orleans, Baton Rouge, Natchez, Vicksburg, Natchitoches , Lafayette',\n",
       " 'Seattle, Portland, PN Redwood, Eureka, San Francisco, Carmel, Central Coast , Los Angeles',\n",
       " 'Filadelfia, Gettysburg, Pittsburgh , Hershey',\n",
       " 'Nueva York , Niágara',\n",
       " 'Nueva York, Lagos Finger, Niágara, Clifton, Philadelphia, , Washington DC',\n",
       " 'Nueva York , Riviera Maya',\n",
       " 'Chicago, Indianapolis, Nashville, Memphis , New Orleans',\n",
       " 'Nueva York, Lancaster , Washington',\n",
       " 'Nueva York , Las Vegas',\n",
       " 'Miami , San Juan',\n",
       " 'Nueva York , Philadelphia',\n",
       " 'Orlando , Punta Cana',\n",
       " 'Los Angeles, Palm Springs, Scottsdale, Las Vegas, Death Valley, Yosemite , San Francisco',\n",
       " 'Nueva York , Punta Cana',\n",
       " 'Orlando , Riviera Maya',\n",
       " 'Nueva York , San Juan',\n",
       " 'Los Ángeles, San Diego, Tucson, Las Cruces, Santa Fe, Durango, Kayenta, Williams , Las Vegas',\n",
       " 'Nueva York , Los Ángeles',\n",
       " 'Chicago, Springfield ,  IL , , St Louis, Springfield  , MO ,  , Oklahoma City, Amarillo, Albuquerque, Holbrook, Gran Cañón, Williams, Las Vegas , Los Ángeles',\n",
       " 'Nueva York , Puerto Plata',\n",
       " 'Dallas, Austin, Houston, Corpus Christi, San Antonio, Fort Stockton, El Paso, Albuquerque, Santa Fe, Amarillo , Fort Worth',\n",
       " 'Nueva York,  Philadelphia, Lancaster, Washington , Niagara Falls',\n",
       " 'Orlando, St Augustine, Tampa, Fort Myers, Key Largo, Key West y\\rMiami',\n",
       " 'Miami , Jamaica',\n",
       " 'Nueva York, Philadelphia , Washington DC',\n",
       " 'Nueva York , Saint Martin',\n",
       " 'Nueva York, Lagos Finger, Niágara, Toronto, Mil Islas, Clifton, Philadelphia, , Washington DC',\n",
       " 'Nueva York, Orlando , Punta Cana',\n",
       " 'Atlanta, Nashville, Memphis, Vicksburg, New Orleans, Pensacola, Tallahassee, Savannah , Charleston',\n",
       " 'Nueva York, San Juan, Rincón, Mayagüez , Ponce',\n",
       " 'Los Ángeles, Santa Bárbara, Carmel, San Francisco, Yosemite, Stevenson Ranch , Las Vegas',\n",
       " 'Las Vegas, Flagstaff, Monument Valley, Moab, Capitol Reef, Bryce Canyon, Parque Nacional Death Valley, Parque Nacional Yosemite, San Francisco',\n",
       " 'San Francisco, Monterey, Carmel, Los Ángeles, Palm Springs, Phoenix, Scottsdale, Gran Cañón, Las Vegas, Death Valley , Yosemite',\n",
       " 'Nueva York , Antigua',\n",
       " 'Nueva York, Niagara Falls, Toronto,  Washington, Lancaster, Philadelphia',\n",
       " 'Nueva York , Los Cabos',\n",
       " 'Miami, Nasáu , Coco Cay',\n",
       " 'Nueva York, Niágara , Punta Cana',\n",
       " 'Nueva York, Niagara Falls, Toronto, Washington DC , Philadelphia',\n",
       " 'Nueva York , Guadalupe',\n",
       " 'Nueva York, Niágara , Riviera Maya',\n",
       " 'Nueva York , Jamaica',\n",
       " 'Oahu  , Maui',\n",
       " 'Boston, Washington DC  , Nueva York',\n",
       " 'Nueva York, Washington , Punta Cana',\n",
       " 'Nueva York , Martinica',\n",
       " 'Nueva York , Granada',\n",
       " 'Nueva York , Turks and Caicos',\n",
       " 'Los Angeles, Gran Cañón, Las Vegas, Yosemite: Parque Nacional, San Francisco  , Oahu',\n",
       " 'Nueva York, Washington , Riviera Maya',\n",
       " 'Los Ángeles, Costa de California, San Francisco, Yosemite, Monterey, Modesto, Stevenson Ranch, Las Vegas, Sedona, Flagstaff, Monument Valley, Hoseshoe Bend, Antelope Canyon , Page',\n",
       " 'Denver, Cañon City, Vail, Grand Junction, Rock Springs, PN Yellowstone, Billings, Medora, Rapid City, Hot Springs, Scotts Bluf , PN Rocky Mountain',\n",
       " 'Nueva York , Santa Lucía',\n",
       " 'Oahu, Kauai ,  Big island  , Hawai , ',\n",
       " 'Los Ángeles, Las Vegas, Gran Cañón, Cameron, Monument Valley, Antelope Canyon, Kanab, Bryce Canyon, Zion, Mammoth Lakes, Yosemite, Carmel, Monterey , San Francisco',\n",
       " 'Nueva York , Islas Caimán',\n",
       " 'Los Ángeles, Laughlin, Gran Cañón, Tuba, Horseshoe Bend, Antelope Canyon, Monument Valley, Arches, Canyonlands, Moab, P N Capitol Reef, Bryce Canyon, Zion, Las Vegas, Death Valley, Bakersfield, Yosemite, Modesto, Monterey , San Francisco',\n",
       " 'Oahu, Kauai , Maui',\n",
       " 'Los Angeles,Grand Canyon, Page, Bryce Canyon National Park, Las Vegas',\n",
       " 'Oahu, Big island  , Hawai ,   , Maui',\n",
       " 'Las Vegas, Mammoth Lakes o Fresno, Yosemite, San Francisco, Monterey, Carmel, Lompoc ,  Los Ángeles',\n",
       " 'Oahu, Kauai, Big Island , Maui',\n",
       " 'Los Ángeles, Gran Cañón, Las Vegas, Oakhurst o Mammoth Lakes, Yosemite, San Francisco, Monterey, Carmel, Lompoc , Santa Bárbara',\n",
       " 'Los Ángeles, Gran Cañón, Las Vegas, Oakhurst o Mammoth Lakes, Yosemite , San Francisco',\n",
       " 'Chicago, Indianapolis, Nashville, Memphis , Nueva Orleans',\n",
       " 'Los Ángeles, Palm Springs, Scottsdale, Gran Cañón, Las Vegas, Death Valley, Yosemite, San Francisco , Fiji',\n",
       " 'Nueva York, Boston, Albany, Niágara, Washington, Los Ángeles, Las Vegas, Gran Cañón, Cameron, Monument Valley, Antelope Canyon, Kanab, Bryce Canyon, Zion, Mammoth Lakes, Yosemite, Carmel, Monterey , San Francisco',\n",
       " 'Los Ángeles, Las Vegas, Gran Cañón, Monument Valley, Page, Antelope Canyon, Bryce Canyon, Fresno, Yosemite, Monterey, San Francisco, Washington, Philadelphia , Nueva York',\n",
       " 'Las Vegas, Oakhurst o Mammoth Lakes, Yosemite, San Francisco, Monterey, Carmel, Lompoc, Los Ángeles, Tahití , Bora Bora',\n",
       " 'Anchorage, Seward, Denali, Fairbanks',\n",
       " 'San Francisco, Las Vegas, Los Ángeles, Tahití , Bora Bora',\n",
       " 'Anchorage, Seward, Denali, Fairbanks , Talkeetna',\n",
       " 'Tallinn, Riga , Vilnius',\n",
       " 'Riga, Tallinn, Tartu, Sigulda, Vilnius, Klaipeda',\n",
       " 'Estocolmo, Helsinki, Tallin, Pärnu, Riga, Rundale, Colina de las Cruces, Vilnius , Trakai',\n",
       " 'Fiji',\n",
       " 'Auckland, Hobbiton, Rotorua, Tongariro, Wellington, Nelson, Glaciar Franz Josef, Wanaka, Queenstown, Christchurch , Matamanoa',\n",
       " 'Manila, Banaue, Sagada , Bontoc',\n",
       " 'Manila, Legazpi, Cebú, Bohol , Puerto Princesa',\n",
       " 'Helsinki, Saimaa, Savonlinna, Joensuu, Jyväskylä, Tampere , Turku',\n",
       " 'Helsinki, Hämeenlinna, Tampere, Vaasa, Oulu, Rovaniemi, Kuusamo, Kajaani, Kuopio, Savonlinna, Lappeenranta , Porvoo',\n",
       " 'Rovaniemi, Santa Claus Holiday Village, Narvik, Svolvær, Malselvfossen, Tromsø, Honningsvåg , Cabo Norte, Alta , Levi',\n",
       " 'París',\n",
       " 'Toulouse, Cordes Sur Ciel, Najac, Albí, Saissac, Carcassone, Lagrasse, Minerve, Chateau de Queribus, Chateau Peyrepertuse, Fanjeaux, Notre Dame D’Alet',\n",
       " 'Burdeos, St Emilion, Perigueux, Cueva de Lascaux, Les Eyzes, Sarlat, Gouffre Padirac, Rocamadour, La Roque Gageac, Beynac, Gouffre Poumeyssac, Bergerac, Monbazillac, Chateau Bridoire, Issigeac',\n",
       " 'París, Tours, Área de Tours, Chambord, Cheverny, Blois, Chenonceaux, Chaumont-surLoire, Amboise, Langeais, Azay-le-Rideau, Villandry, Chinon, Montsoreau, Fontevraud, Saumur, Angers , Chartres',\n",
       " 'Marsella, Aix – En Provence, Avignon, Pont Du Gard, Uzès, Rousillon, Abadía de Sènanque, Arlés, Nimes, Aigues Mortes, Camarga, Les Calanques, Tolon',\n",
       " 'París , Disneyland París',\n",
       " 'Rennes, Josselin, Concarneau, Quimper, Locronan, Morlaix, Guingamp, Paimpol, Dinan, St Malo, Mt St Michel, Bayeux, Caen, Deauville , Rouen',\n",
       " 'Atenas',\n",
       " 'Atenas, Lepanto, Galaxidi, Kalávrita, Dimitsana, Olimpia, Esparta, Monemvasía, Micenas , Nafplio',\n",
       " 'Vergina, Kalambaka, Meteora, Metsovo, Ioannina, Pereama, Dodona, Kastoria, Nymfaio, Edessa, Pozar, Pella , Tesalónica \\r',\n",
       " 'Atenas, Corinto, Micenas, Epidauro, Olympia, Delfos, Monasterios de Meteora , Volos',\n",
       " 'Heraklion, Réthymno, Playas Episkopi Balos , Elfonisi,, Lago Kournas, Chania, Gramvousa, Agia Ttriada, Festos, Knossos, Agios Nikolaos, Eolunda , Spinalonga',\n",
       " 'Atenas, Termópilas, Meteora, Kalambaka, Delfos, Patras, Olympia, Mycenas, Epidauro , Canal de Corinto',\n",
       " 'Rodas, Simi, Filerimos, Ialisos, Kamiros , lindos',\n",
       " 'Atenas, Lavrio, Mikonos, Kusadasi, Patmos, Canal de Corinto, Epidauro, Micenas , Delfos',\n",
       " 'Guadalupe',\n",
       " 'Ciudad de Guatemala, Iximché, Chichicastenango, Quetzaltenango, lago Atitlán , Antigua',\n",
       " 'Ciudad de Guatemala, Yaxhá, Petén, Tikal, Iximché, lago Atitlán, Chichicastenango, Antigua , Sumpango',\n",
       " 'Ciudad de Guatemala, Chichicastenango, lago Atitlán, Santiago, Tikal, Petén , Antigua',\n",
       " 'Ciudad de Guatemala, Chichicastenango, lago Atitlán, Santiago, Antigua, Copán, Quiriguá, Izabal, Río Dulce, Petén , Tikal',\n",
       " 'Ciudad de Guatemala, Antigua, Chichicastenango, lago Atitlán, Petén, Tikal, Palenque, Campeche, Uxmal, Mérida, Chichén Itzá , Riviera Maya',\n",
       " 'Roatán',\n",
       " 'Budapest , el Valle del Danubio',\n",
       " 'Budapest, Hévíz, Lago Balatón, Pécs, Szeged, Kecskemét, Debrecen, Eger , Szentendre',\n",
       " 'Budapest, Valle del Danubio, Praga, Karlovy Vary , Kutna Hora',\n",
       " 'Budapest, Pannonhalma, Herend, Tihany, Keszthely, Haviz, Pecs, Villany, Szeged, Opusztaszer, Kecskemet , Ocsa',\n",
       " 'Delhi, Jodhpur, Ranakpur, Udaipur, Jaipur, Amber, Abhaneri, Fatehpur Sikri , Agra',\n",
       " 'Delhi, Shahpura, Jaipur, Amber, Ranthambore, Fatehpur Sikri , Agra',\n",
       " 'Delhi, Jaipur, Fatehpur Sikri, Amber , Agra',\n",
       " 'Delhi, Leh, Uleytokpo, Lamayuru, Nubra , Diskit',\n",
       " 'Delhi, Shahpura, Jaipur, Amber, Abhaneri, Fatehpur Sikri, Agra , Maldivas',\n",
       " 'Delhi, Agra, Fatehpur Sikri, Jaipur, Jodhpur, Ranakpur , Udaipur',\n",
       " 'Delhi, Jaipur, Ranthambore, Chittorgarh, Udaipur, Jaisalmer, Jodhpur, Bharatpur , Agra',\n",
       " 'Ubud , Kuta',\n",
       " 'Denpasar, Ubud, Belimbing, Candidasa, Gili Trawangan , Benoa',\n",
       " 'Denpasar, Ubud, Jogyakarta, Mojokerto, Bromo, Ijen , playas de Bali',\n",
       " 'Dublin',\n",
       " 'Dublín, Belfast, Calzada de los gigantes, Donegal, Galway, Acantilados de Moher, Anillo de Kerry, Cork, Glendalough',\n",
       " 'Dublín, Clonmacnoise, Galway, Connemara, acantilados de Moher, Limerick, Cork , Anillo de Kerry',\n",
       " 'Reykjavik, área de Borgarfjörður, Húsavík, lago Mývatn, Fiordos del Este, Seydisfjördur, Kirkjubæjarklaustur , área de Selfoss',\n",
       " 'Reykjavik, Borgarfjörður, península de Snæfellsnes, Húsavík, lago Mývatn, Egilsstadir, área de Vatnajökull, Kirkjubæjarklaustur , área de Selfoss',\n",
       " 'Reykjavík, Skógafoss, Seljalandsfoss, Vík, Círculo Dorado, Borgarnes, Pen Snæfellsnes, Akureyri , Lago Mývatn',\n",
       " 'Reykjavík, Círculo Dorado, Pen Snæfellsnes, Húsavík, Akureyri, Lago Mývatn, Fiordos del Este, Jökulsárlón, Vik',\n",
       " 'Reykjavík, Círculo Dorado, Seljalandsfoss, Skógafoss, Reynisfjara, Jökulsarlón, Fiordos del Este, Tierras Altas, Dettifoss, Lago Mývatn, Godafoss, Akureyri, Hrutafjorður, Kjolur , Kerlingarfjöll',\n",
       " 'Reykjavík, Círculo Dorado, Seljalandsfoss, Skógafoss,  Jökulsarlón, Fiordos del Este, Dettifoss, Lago Mývatn, Godafoss, Akureyri , Pen Snæfellsnes',\n",
       " 'slas Caimán',\n",
       " 'slas Cook',\n",
       " 'Auckland, Waitomo, Rotorua , Islas Cook',\n",
       " 'Vagar, Torshavn, Sandoy, Streymoy, área de Gjógv, Eysturoy, Kalsoy , Mykines',\n",
       " 'Florencia, San Gimignano, Región del Chianti, Siena, Lucca , Pisa',\n",
       " 'Roma',\n",
       " 'Padua, Marostica, Vicenza, Verona, Lago de Garda, Mantua, Cremona, Parma, Reggio Emilia, Módena, Bolonia, Ferrara , Rávena\\r',\n",
       " 'Milán, Como, Lago Como, Lago Maggiore, Bard, Issogne, Saint-Vincent, Fénis, Aosta, Gran Paradiso, Courmayeur, Mont Blanc , Turín',\n",
       " 'Bari, Alberobello, Cuevas de Castellana, Polignano a Mare, Cisternino, Ostuni, Lecce, Otranto, Santa María de Leuca, Gallipoli, Porto Cesareo, Matera , Metaponto',\n",
       " 'Florencia, Chianti, San Gimignano, Monterrigioni, Volterra, Siena, Arezzo Cortona, Orcia, Bagnoregio, Pitigliano, Grosseto, Pisa , Lucca',\n",
       " 'Nápoles, Caserta, Pompeya, Ercolano, Amalfi, Ravello, Minori, Capri, Sorrento , Positano',\n",
       " 'Olbia, Costa Esmeralda, Palau, Islas La Maddalena, Sta Teresa Gallura, Tempio Pausania, Castelsardo, Alghero, Cabo Caccia, Sassari, Bosa, Oristano, Tharros, Barumini , Cagliari\\r',\n",
       " 'Viterbo, Tarquinia, Pitigliano, Orvieto, Cività di Bagnoregio, Todi, Perugia, Cortona, Arezzo, Siena, San Gimignano , Volterra',\n",
       " 'Florencia, Valle del Chianti, Arezzo, Urbino, Gubbio, Perugia, Asís, Civita di Bagnoregio, Orvieto, Pitigliano, Montepulciano, Monterrigioni, San Gimignano, Pisa , Lucca\\r',\n",
       " 'Belluno, Canazei, Dolomitas, Cortina D’Ampezzo, Costalunga, Bolzano, Trento , Verona',\n",
       " 'Palermo, Monreale, Erice, Trapani, Segesta, Piazza Armerina, Ragusa, Módica, Noto,\\rSiracusa, Catania, Monte Etna, Taormina, Messina , Cefalú',\n",
       " 'Palermo, Monreale, Erice, Trapani, Segesta, Mazara del Vallo, Agrigento, Siracusa, Catania, Monte Etna, Piazza Armerina, Messina, Cefalú , Taormina',\n",
       " 'Catania, Etna, Taormina, Chiaramonte Gulfi, Ragusa, Módica, Scicli, Noto, Siracusa, Vendicari , Marzamemi',\n",
       " 'Roma, Florencia , Venecia',\n",
       " 'Napoles, Bari, Alberobello, Martina Franca, Brindisi, Lecce, Castormarina, Taranto, Matera, Altomonte , Salerno',\n",
       " 'Catania, Siracusa, Noto, Cefalú, Monreale, Erice, Marsala, Sciacca, Agrigento, Piazza Armerina, Etna , Taormina',\n",
       " 'Bari, Trani, San Giovanni , Rotondo, Parque Nacional de Gargano, Barletta, Alberobello, Ostuni, Lecce, Otranto , Matera',\n",
       " 'Olbia, Archipiélago de la Magdalena, costa Esmeralda, Alghero, Bosa , Cagliari',\n",
       " 'Palermo, Monreale, Erice, Trapani, Agrigento, Piazza Armerina, Ragusa, Noto, Siracusa, Etna, Taormina, Messina , Cefalú',\n",
       " 'Nápoles, Sorrento, Gragnano, Pompeya, Capri, Salerno, Amalfi, Positano, Paestum , Caserta',\n",
       " 'Arona, Lago de Como, Lago de Garda, Sirmione, Bérgamo , Lugano',\n",
       " 'Nápoles, Capri, Sorrento, Pompeya, Palermo, Erıce, Marsala, Selinunte, Agrigento, Piazza Armerina, Etna , Taormina',\n",
       " 'Nápoles, Sorrento, Gragnano, Pompeya, Capri, Salerno, Amalfi, Positano, Paestum , Caserta, Bari, Trani, San Giovanni , Rotondo, Parque Nacional de Gargano, Alberobello, Ostuni, Lecce, Otranto , Matera',\n",
       " 'Florencia, Valle del Chianti, Siena, Monterrigioni, San Gimignano, Volterra, Arezzo Cortona, Montepulciano, Montalcino , Maldivas',\n",
       " 'Jamaica',\n",
       " 'Kingston, Treasure Beach, Negril, Montego Bay, Ocho Ríos , Port Antonio',\n",
       " 'Osaka, Kioto, Magome, Tsumago, Takayama, Shirakawago, Hakone, Tokio , Maldivas',\n",
       " 'Tokio, Hakone, Nara, Kioto, Kanazawa, Shirakawago, Takayama, Gero, Nagoya, Osaka, Ise, Toba, Nachi-Katsuura, Koyasan , Ruta de Kumano',\n",
       " 'Ammán, Madaba, Monte Nebo, Shobak, Petra , Wadi Rum',\n",
       " 'Ammán, mar Muerto, Madaba, Monte Nebo, castillo de Shobak, Petra, Pequeña Petra, Wadi Rum, Jerash , Ajloun',\n",
       " 'Ammán, Madaba, Monte Nebo, castillo de Shobak, Petra, Pequeña Petra, Wadi Rum, Aqaba, Jerash, Ajloun , Mar Muerto',\n",
       " 'Ammán, Mar Muerto, Jerash, Ajloun, Madaba, Monte Nebo, Petra, Pequeña Petra, Wadi Rum , Aqaba',\n",
       " 'Ammán, Castillos del Desierto, Mar Muerto, Madaba, Monte Nebo, Castillo de Shobak, Petra, Pequeña Petra, Wadi Rum, Jerash , Ajloun',\n",
       " 'Mombasa',\n",
       " 'Nairobi, Aberdare, lago Naivasha , Masai Mara',\n",
       " 'Lago Nakuru, Masai Mara, Lago Naivasha , Amboseli',\n",
       " 'Nairobi, Amboselli, Lewa , Masai Mara',\n",
       " 'Nairobi, Solio, Sweetwaters, Lago Naivasha , Mara Sopa',\n",
       " 'Nairobi, Masai Mara, Lago Naivasha, Amboseli, Tsavo , Mombasa',\n",
       " 'Kilimanjaro, Mto Wa Mbu, Ngorongoro, PN Serengeti, Ikoma, Lago Victoria, Masai Mara, Lago Naivasha , Zanzibar',\n",
       " 'Nairobi, Samburu , Masai Mara',\n",
       " 'Nairobi, Lago Naivasha, Masai Mara, Lago Victoria, PN de Serengeti, Ngorongoro, Ndutu, Lago Manyara , Zanzíbar',\n",
       " 'Lago Naivasha, Masai Mara, Lago Victoria, Serengeti, Ngorongoro, Lago Manyara , Zanzíbar',\n",
       " 'Vientiane, Vang Vieng, Luang Prabang, Ban Nong Heo, Pak ou , Bang Xang',\n",
       " 'Antananarivo, PN Andasibe-Mantadia, Behenjy, Antsirabe, Ambositra, PN Ranomafana, Sahambavy, Fianarantsoa, Ambalavao, Anja, PN de Isalo, PN Zombitse , Tulear',\n",
       " 'Antananarivo, PN Andasibe, Diego Suarez, PN Montaña de Ambre, Ankify, Nosy Be',\n",
       " 'Antananarivo, Antsirabe, PN de Ranomafana , Sahambavy , PN Isalo , Tulear, Diego Suarez, PN Montaña de Ambre, PN de Ankarana, Ankify, Nosy Be',\n",
       " 'Antananarivo, Morondava, Reserva de Kirindy, avenida de los Baobadas, Antsirabe, PN de Ranomafa, Ambalavao, Reserva de Anja, Isalo, Reserva de Reniala, Tulear',\n",
       " 'Kuala Lumpur',\n",
       " 'Singapur , Kuala Lumpur',\n",
       " 'Singapur, Kuala Lumpur , Langkawi',\n",
       " 'Singapur, Malacca , Kuala Lumpur',\n",
       " 'Singapur, Kuala Lumpur , Redang',\n",
       " 'Kuala Lumpur, Kuching, Kota Kinabalu, Monte Kinabalu, Sandakan , Sukau',\n",
       " 'Maldivas',\n",
       " 'Estambul , Maldivas',\n",
       " 'Colombo, Dambulla, Anuradhapura, Mihintale, Sigiriya, Polonnaruwa, Matale, Kandy, Pinnawella, Nuwara Eliya , Maldivas',\n",
       " 'Singapur , Maldivas',\n",
       " 'Malta',\n",
       " 'Valleta, Senglea, Vittoriosa, Cospicua, Marsaxlokk, Gruta Azul, Medina, Rabat, Mosta, Naxxar, Templo Ggantija, Salinas Qbajjar, Xlendi , Victoria \\r',\n",
       " 'Marrakech',\n",
       " 'Marrakech, Ouarzazate, Zagora , Erg Lihoudi',\n",
       " 'Marrakech, Casablanca, Rabat, Fez , Ifrane',\n",
       " 'Agadir',\n",
       " 'Martinica',\n",
       " 'Mauricio',\n",
       " 'Mauricio , Isla Rodrigues',\n",
       " 'Cancún',\n",
       " 'Riviera Maya',\n",
       " 'Riviera Nayarit',\n",
       " 'Cancún, Valladolid, Mérida, Uxmal, Campeche, Izamal, Chichén-Itzá , Riviera Maya',\n",
       " 'San José del Cabo, Los Cabos',\n",
       " 'Cancún, El Cuyo, Río Lagartos, Izamal, Mérida, Chichén-Itzá , Riviera Maya',\n",
       " 'Cancún, Río Lagartos, Valladolid, Chichén Itzá, Izamal, Mérida, Uxmal , Riviera Maya',\n",
       " 'Los Cabos',\n",
       " 'Ciudad de México, San Miguel de Allende, Dolores Hidalgo, Guanajuato , Querétaro',\n",
       " 'Cancún, Cobá, Ek-Balam, Mérida, Uxmal, Chichén Itzá , Riviera Maya',\n",
       " 'Ciudad de México, Mérida, Uxmal, Chichén Itzá , Riviera Maya',\n",
       " 'Ciudad de México, Querétaro, San Miguel Allende, Dolores Hidalgo, Guanajuato, San Luis Potosí, Zacatecas, Tlaquepaque, Guadalajara, Pátzcuaro , Morelia',\n",
       " 'Ciudad de México, Querétaro, San Miguel de Allende, Dolores Hidalgo, Guanajuato, Capula, Pátzcuaro, Tzintzuntzan , Morelia',\n",
       " 'Ciudad de México, Villahermosa, Palenque, Campeche, Uxmal, Mérida, Chichén Itzá , Riviera Maya',\n",
       " 'Cancún, Villahermosa, Palenque, Campeche, Uxmal, Mérida, Chichén Itzá , Riviera Maya',\n",
       " 'Ciudad de México, Puebla, Oaxaca, El Tule, Mitla, Hierve el Agua, Teotitlán del Valle , Huatulco',\n",
       " 'San José del Cabo, La Paz, Loreto , Todos Santos',\n",
       " 'Cancún, Cobá, Ek Balam, Mérida, Uxmal, Sotuta de Peón, Chichén Itzá , Riviera Maya',\n",
       " 'Ciudad de México, Tuxtla Gutiérrez, San Cristóbal de las Casas, Cascadas de Agua Azul, Palenque, Campeche, Uxmal, Mérida, Chichén Itzá , Riviera Maya',\n",
       " 'Cancún, Bacalar, Chicanná, Calakmul, Palenque, Campeche, Uxmal, Mérida, Chichén Itzá , Riviera Maya',\n",
       " 'Ciudad de México, Puebla, Oaxaca, Tehuantepec, Cañón del Sumidero, San Cristóbal de las Casas, cascadas de Agua Azul, Palenque, Campeche, Uxmal, Mérida, Chichén Itzá , Riviera Maya',\n",
       " 'Ciudad de México, Teotihuacán, Puebla, Oaxaca, Mitla, Tuxtla Gutiérrez, San Cristóbal de las Casas, Palenque, Campeche, Uxmal, Mérida, Chichén Itzá , Riviera Maya',\n",
       " 'Cancún, Tuxtla Gutiérrez, San Cristóbal de las Casas, Palenque, Campeche, Uxmal, Mérida, Chichén Itzá , Riviera Maya',\n",
       " 'La Paz, Isla Espíritu Santo, Todos Santos, San José del Cabo , Cabo San Lucas',\n",
       " 'Ciudad de México, Chihuahua, Creel, Posada Barrancas , El Fuerte',\n",
       " 'Ciudad de México, Querétaro, San Miguel Allende, Guanajuato, Guadalajara, Tequila, Tlaquepaque, Pátzcuaro, Morelia,Tuxtla Gutiérrez, San Cristóbal de las Casas, Palenque, Campeche, Uxmal, Mérida, Chichén Itzá , Riviera Maya',\n",
       " 'Ciudad de México, El Tajín, Veracruz, Xalapa, Puebla, Cholula, Oaxaca, Tehuantepec, cañón del Sumidero, San Cristóbal de las Casas, cascadas de Agua Azul, Palenque, Campeche, Uxmal, Mérida, Chichén Itzá , Riviera Maya',\n",
       " 'Cancún, Uxmal, Mérida, Izamal, Chichén Itzá, Valladolid, Holbox , Riviera Maya',\n",
       " 'Ulán Bator, PN Terelj, Dunas Elsen Tasarkhai, Karakorum, Saikhanii Tugul, Bayan Zag,\\rDesierto de Gobi, Tsagaan Suvarga , Gobi Medio',\n",
       " 'Budva, Sveti Stefan, Petrovac, Cetinje, Njegusi, Kotor, Bar, Lago Skadar, , Kolasin',\n",
       " 'Windhoek, PN Etosha, Cataratas Epupa, Damaraland, Twyfelfontein, Spitzkoppe, Swakopmund, Cape Cross, Desierto de Namib , Lago Oanob',\n",
       " 'Swakopmund, Cape Cross , Desierto de Namib',\n",
       " 'Kathmandú, Valle de Kathmandú , Pokhara',\n",
       " 'Katmandú, Patán, Bhaktapur, Nagarkot, Gorkha, Bandipur, Pokhara, Sarangkot , PN Chitwan',\n",
       " 'Oslo, Bergen, Voss, Fiordo de Geiranger, Ruta de los Trolls, Kristiansund, Ruta Atlántica , Lillehammer',\n",
       " 'Oslo, Hamar, Borgund, Flåm, Gudvangen, Bergen, Flesland, Leilo, Voringfossen, Karlstad , Estocolmo',\n",
       " 'Estocolmo, Karlstad, Voringfossen, Leilo, Flesland, Bergen, Gudvangen, Flåm, Borgund, Hamar , Oslo',\n",
       " 'Oslo, Gardemoen, Lillehammer, Geilo, Flå, Nesbyen, Borgund, Lærdal, Gudvangen, Bergen, Halhjem, Sandvikvåg, Føyno, Årsvågen, Stavanger , Telemark',\n",
       " 'Oslo, Hovden, Telemark, Stavanger, Bergen, Flåm, Sognefjord, Glaciar de Briksdal, Fiordo de Geiranger, Oppland , Oslo',\n",
       " 'Oslo, Flåm, Fiordo de los Sueños, Bergen, Fiordo de Geiranger, Ålesund, Trollstigen , Lillehammer',\n",
       " 'Oslo, Lillehammer, Trondheim, Crucero Havila, Bergen, Hardangenfjord, Sorfjorden, Voss, Flåm , Gudvangen',\n",
       " 'Oslo, Evenes, Islas Vesterålen, Islas Lofoten, Tromsø, Cabo Norte , Alta',\n",
       " 'Oslo, Lillehammer, Fiordo de Geiranger, Glaciar Briksdal, Fiordo de los Sueños, Bergen, Evenes, Islas Vesterålen, Islas Lofoten, Tromsø, Cabo Norte , Alta',\n",
       " 'Nouméa, Boulouparis, Poindimié, Hienghène, Poum , Bourail',\n",
       " 'Christchurch, Dunedin, Queenstown, Glaciar Fox, Greymouth, Nelson, Wellington, Napier, Rotorua, Coromandel , Auckland',\n",
       " 'Christchurch, Twizel, Mount Cook, Queenstown, Franz Josef, Greymouth, Nelson, Wellington, PN Tongariro, Rotorua , Auckland',\n",
       " 'Auckland, Waitomo, Rotorua, Napier, Wellington, Kaikoura , Christchurch',\n",
       " 'Auckland, Matamata, Rotorua, Tongariro, Wellington, Picton, Nelson, Nueva Zelanda, Parque nacional Abel Tasman, Franz Josef, Wanaka, Queenstown, Lago Tékapo , Christchurch',\n",
       " 'Auckland, Coromandel, Rotorua, Napier, Wellington, Nelson, Abel Tasman, Punakaiki, Franz Josef, Christchurch, Dunedin, Milford Sound , Queenstown',\n",
       " 'Christchurch, Dunedin, Queenstown, Glaciar Fox, Punakaiki, Nelson, Nueva Zelanda, Wellington, Napier, Rotorua, Pauanui , Auckland',\n",
       " 'Auckland, Rotorua, Tongariro, Wellington, Kaikoura, Punakaiki, Franz Josef, Wanaka, Queenstown , Dunedin',\n",
       " 'Auckland, Waitomo, Rotorua, Wellington, Christchurch, Mt Cook Queenstown , Milford Sound',\n",
       " 'Auckland, Waitomo, Rotorua, Christchurch, Lago Tekapo, Wanaka, Queenstown, Milford Sound, Franz Josef, Greymouth, Punakaiki , Kaikoura',\n",
       " 'Ámsterdam',\n",
       " 'Ciudad de Panamá',\n",
       " 'Ciudad de Panamá, Gamboa , Playa Bonita',\n",
       " 'Ciudad de Panamá, Emberá , Bocas del Toro',\n",
       " 'Ciudad de Panamá, Emberá, Gamboa, David, Boquete, Bocas del Toro , Playa Bonita',\n",
       " 'Ciudad de Panamá, San Blas, Colón, Portobelo, Emberá, Gamboa, Bocas del Toro , Playa Bonita',\n",
       " 'Port Moresby, Mount Hagen , Karawari',\n",
       " 'Lima , Cusco',\n",
       " 'Lima, Cusco, Valle Sagrado, Machu Picchu, Puno , Lago Titicaca',\n",
       " 'Lima, Arequipa, cañón de Colca, Puno, Lago Titicaca, Cusco, Valle Sagrado , Machu Picchu',\n",
       " 'Lima, Arequipa, Cañón de Colca, Cusco, Valle Sagrado , Machu Picchu',\n",
       " 'Lima, Cusco, Valle Sagrado , Machu Picchu',\n",
       " 'Lima, Cusco, Valle Sagrado, Machu Picchu, Comunidad Misminay, Puno , Lago Titicaca',\n",
       " 'Lima, Cusco, Valle Sagrado, Machu Picchu , Riviera Maya',\n",
       " 'Lima, Paracas, Líneas de Nazca, Nazca, Arequipa, cañón de Colca, Puno, lago Titicaca, Cusco, Valle Sagrado , Machu Picchu',\n",
       " 'Lima, Chiclayo, Trujillo, Arequipa, Cañón de Colca, Puno, Lago Titicaca, Cusco, Valle Sagrado , Machu Picchu',\n",
       " 'Lima, Caral, Huaraz, Sechín, Trujillo, Chiclayo, Chachapoyas, Cocachimba , Kuélap',\n",
       " 'Tahití , Moorea',\n",
       " 'Tahití , Bora Bora',\n",
       " 'Tahití, Moorea , Bora Bora',\n",
       " 'Varsovia, Poznan, Wroclaw, Auschwitz, Cracovia , Wieliczka',\n",
       " 'Varsovia, Lodz, Poznan, Wroclaw, Auschwitz, Cracovia',\n",
       " 'Varsovia, Cracovia, Wroclaw, Poznan, Torun, Gdansk , Masuria',\n",
       " 'sla Terceira',\n",
       " 'sla de San Miguel',\n",
       " 'Ponta Delgada, Furnas, Mirador do Salto do Cavalo, Ponta Garca, Vila Franca de Campo, Capelas, S Vicente Ferreira, Ribeira Grande, Caldera Velha  Feteiras, Candelária, Mosteiros, Lagoa do Santiago , Lagoa do Canario',\n",
       " 'Ponta Delgada, Furnas, Lagoa das Furnas, Mirador do Salto do Cavalo, Povoacao, Capelas, Sao Vicente Ferreira, Ribeia Grande, Faro Ponta do Arnel, Feteiras, Candelária, Sete Ciudades, Lagoa do Santiago, Lagoa do Canario, Isla de Vila Franca , Lagoa do Fogo',\n",
       " 'Punta Delgada, Isla Terceira, Angra do Heroísmo, Ilha Faial , Horta',\n",
       " 'San Juan',\n",
       " 'San Juan, Rincón, Mayagüez , Ponce',\n",
       " 'San Juan, Río Grande, Ponce, Mayagüez , Rincón',\n",
       " 'San Juan, Arecibo, Mayagüez, Rincón, Ponce , Río Grande',\n",
       " 'Doha',\n",
       " 'Londres',\n",
       " 'Edimburgo',\n",
       " 'Edimburgo, St Andrews, castillo de Balmoral, Aberdeen, ruta del whisky, area de Inverness, Lago Ness, isla de Skye, Fort William, Oban,  Kilchurn, Inveraray, lago Lomond , Stirling',\n",
       " 'Manchester, Chester, Llandudno, Snowdonia, Brecon Beacons, Cardiff, Gloucester, Bath , Tintagel, Península de Cornualles, Salisbury, Southampton, Brighton, Londres',\n",
       " 'Edimburgo, St Andrews, Aberdeen, Ruta del Whisky, Inverness, Lago Ness, Thurso, Ullapool, Isla de Skye, Fort William, Isla de Mull, Oban, Stirling , Glasgow',\n",
       " 'Mánchester, Windermere, Glasgow, Fort William, Lago Ness, Tierras Altas, Pitlochry, Castillo de Glamis, Edimburgo, Durham, York, Leeds , Liverpool',\n",
       " 'Londres, Salisbury, Bath, Bristol, Costwolds, Stratford upon Avon, Liverpool, Chester , Oxford',\n",
       " 'Edimburgo, Fife, Saint Andrews, Perth, Pitlochry, Tierras Altas, Inverness, lago Ness, isla de Skye, Glencoe, lago Awe, lago Lomond , Stirling',\n",
       " 'Edimburgo, Saint Andrews, Aberdeen, Elgin, Culloden, Fort George, Inverness, lago Ness, Isla de Skye, valle de Glencoe, lago Lomond , Glasgow',\n",
       " 'Edimburgo, St Andrews, Aberdeen, Cawdor, Tierras Altas, Lago Ness, Isla de Skye, Lago Lomond , Glasgow',\n",
       " 'Praga, Karlovy Vary , Kutna Hora',\n",
       " 'Punta Cana',\n",
       " 'Santiago de Los Caballeros, Samaná, Cabarete , Puerto Plata',\n",
       " 'Santo Domingo, Samaná, La Romana , Punta Cana',\n",
       " 'Saint Denis, Salazie, La Plaine des Cafres, Saint- Pierre, Cilaos, La Saline- Les Bains',\n",
       " 'Saint Denis, la Nouvelle, Salazie, Hell- Bourg, la Plaine des Palmistes, Piton de la Fournaise, Cilaos , la Saline',\n",
       " 'Entebbe, Jinja, Ziwa, PN Murchinson Falls, Budongo, Fort Portal, PN Queen Elizabeth, lago Bunyonyi, Bwindi, Musanze , Kigali',\n",
       " 'Bucarest, Sighisoara, Targu Mures, Cluj Napoca, Sinaia, Bran, Sibiu , Monasterio de Cozia',\n",
       " 'Saint Martin',\n",
       " 'Samoa',\n",
       " 'Santa Lucía',\n",
       " 'Mahé',\n",
       " 'Singapur',\n",
       " 'Colombo, Dambulla, Sigiriya, Polonnaruwa, Matale, Kandy, Nuwara Eliya, Ella, PN Yala, Tissamaharama, Weligama, Galle , Waskaduwa',\n",
       " 'Colombo, Negombo, Dambulla, Sigiriya, Kandy, Nuwara Eliya, Parque Nacional Yala , Galle',\n",
       " 'Colombo, Anuradhapura, Mihintale, Habarana, Sigiriya, Polonnaruwa, Dambulla, Kandy, Peradeniya, Nuwara Eliya, Galle, Ella, Tissamaharama , Ahungalla',\n",
       " 'Colombo, Negombo, Dambulla, Sigiriya, Kandy, Nuwara Eliya, Ella, P N Yala , Galle',\n",
       " 'Colombo, Negombo, Anuradhapura, Jaffna, Trincomalee, Dambulla, Sigiriya, Kandy, Ella, P N Yala, Bentota , Galle',\n",
       " 'Colombo, Kosgoda, Balapitiya, Galle, Weligama, P N Yala, Ella, Nuwara Eliya, Kandy, Matale, Dambulla, Trincomalee, Anuradhapura, Sigiriya, Minneriya, Mihintale , Negombo',\n",
       " 'Johannesburgo, Mpumalanga, PN Kruger, Pretoria , Ciudad del Cabo',\n",
       " 'Johannesburgo, PN Kruger , Ciudad del Cabo',\n",
       " 'Johannesburgo, Mpumalanga, PN Kruger, Pretoria , Ciudad del Cabo , Cataratas Victoria',\n",
       " 'Johannesburgo, Mpumalanga, PN Kruger, Esuatini, Jozini, Santa Lucía, Drakensberg, PN Royal Natal , Ciudad del Cabo',\n",
       " 'Johannesburgo, Mpumalanga, PN Kruger, Esuatini, Jozini, Santa Lucía, Drakensberg, PN Royal Natal, Lesotho, PN de Tsitsikama , Ciudad del Cabo',\n",
       " 'Ginebra, Annecy, Chamonix Mont Blanc, Zurich, Laussane, Gruyere, Berna, Interlaken, Lucerna, cataratas del Rin , Steim Am Rhein',\n",
       " 'Zúrich, Steim am Rhein, Interlaken, Lucerna, Lausanne, Gruyere, Berna, Ginebra, Chamonix Mont Blanc , Annecy',\n",
       " 'Krabi',\n",
       " 'Phuket',\n",
       " 'Koh Samui',\n",
       " 'Bangkok, Río Kwai, Ayutthaya, Ang Thong, Phitsanuloke, Sukhothai, Chiang Rai , Chiang Mai',\n",
       " 'Bangkok, Ayutthaya, Lopburi, Sukhothau, Phrae, Chiang Rai , Chiang Mai',\n",
       " 'Bangkok, Chiang Rai, Chiang Mai, Pai, Mae Hong Son , Mae Sariang',\n",
       " 'Zanzíbar',\n",
       " 'Tarangire, Serengeti, Ngorongoro , Karatu',\n",
       " 'Dar Es Salaam, Mwanza, PN Serengeti, Ngorongoro, Mto Wa Mbu, Kilimanjaro, montañas Usambara, Bagamoyo, Stone Town , Zanzíbar',\n",
       " 'Túnez, Cartago, Sidi Bou Said, Hammamet, El Jem, Matmata, Douz,Chott El Jerid , Kairouan',\n",
       " 'Túnez, Cártago, Sidi Bou Said, Dougga, Tuburbo Majus, Kairouan, Tozeur, Douz, Matmata, Gabes, Sfax, El Jem, Monastir, Susa, Port El Kantaoui , Susa',\n",
       " 'Hammamet, El Jem, Sfax, Matmata, Douz, Tozeur, Kairouan , Túnez',\n",
       " 'Turks and Caicos',\n",
       " 'Estambul',\n",
       " 'Estambul, Canakkale, Pérgamo, Kusadasi, Éfeso, Pamukkale, Capadocia , Ankara',\n",
       " 'Estambul, Ankara, Capadocia, Pamukkale, Éfeso , Bursa',\n",
       " 'Estambul, Capadocia, Konya, Pamukkale, Hierápolis, Efeso , Esmirna',\n",
       " 'Entebbe, Fort Portal, PN Kibale, PN Queen Elizabeth , PN Bwindi',\n",
       " 'Entebbe, Fort Portal - PN de Kibale, PN Queen Elizabeth, PN Bwindi , Lago Mburo',\n",
       " 'Entebbe, PN Murchinson Falls, Budongo, PN Queen Elizabeth , PN Bwindi',\n",
       " 'Kampala, PN Murchinson Falls, PN Queen Elizabeth, PN Bwindi, PN Lago Mburo',\n",
       " 'PN Murchinson Falls, Fort Portal, PN Queen Elizabeth, Lago Bunyonyi,  PN Bwindi, PN Volcane,  Ishasha, Kibuye , PN Nyungwe',\n",
       " 'Montevideo, Colonia del Sacramento, ruinas Jesuíticas , Punta del Este',\n",
       " 'Hanoi, Bahía de Halong, Hue , Hoi An',\n",
       " 'Ho Chi Minh, Hue, Hoi An, Danang, Hanoi, Bahía de Halong',\n",
       " 'Hanoi, Bahía de Halong, Danang, Hoi An, Hue, Ho Chi Minh , Phu Quoc',\n",
       " 'Hanoi, Pu Luong, Bahia de Halong, Hue, Hoi An, Danang , Ho Chi Minh',\n",
       " 'Múnich, Sant Johann In Tirol, Kitzbühel, Rattenberg, Innsbruck, Krimml, Salzburgo, Mittenwald, Oberamergau , Neuschwanstein',\n",
       " 'Bruselas, Brujas, Gante, Amberes, Lovaina, Aquisgrán, Luxemburgo, Tréveris, Dinant , Namur',\n",
       " 'Praga , Karlovy Vary, Bohemia,  Innsbruck,Tirol,Salzburgo, Región de Los Lagos , Viena',\n",
       " 'Viena, Salzburgo, Región de Los Lagos, Innsbruck, Tirol, Bohemia, Praga , Karlovy Vary',\n",
       " 'Liubliana, Maribor, Ptuj, Bled, Bohinj, Nova Gorica, Stanjel, Costa Eslovena , Trieste',\n",
       " 'Nueva York, Philadelphia, Lancaster, Newport, Washington, Niagara Falls, Boston \\r',\n",
       " 'Boston, Quebec, Montreal, Ottawa, Toronto, Niagara, Washington , Nueva York',\n",
       " 'Tiflis Mishketa, Kajetia, Sighnaghi, Ananuri, Stepantsminda, Gudauri , Uplistsikhe',\n",
       " 'Guatemala, Chichicastenango, Lago Atitlán, Panajachel, Santiago Atitlán, La Antigua , Finca Café',\n",
       " 'Denpasar, Tirta Empul, Kintamani, Besakih, Goa Lawah, Kusamba, Tenganan, Tirta Gangga, Taman Ayun, Tanah Lot, Ubud , Uluwatu',\n",
       " 'Dublín, Belfast, Calzada del Gigante, Londonderry, Monasterboice, Athlone, Galway, Burren, Acantilados de Moher, Co Tipperary, Limerick , Kilkenny',\n",
       " 'Dublín, Connemara, Galway, Abadía de Kylemore, Lisdoonvarna, Acantilados Moher, Limerick, Adare, Anillo de Kerry, Killarney , Kylkenny',\n",
       " 'Reykjavík, Skógafoss, Seljalandsfoss, Círculo Dorado, Borgarnes, Pen Snæfellsnes, Akureyri , Lago Mývatn',\n",
       " 'Reykjavík, Círculo Dorado, Seljalandsfoss, Skógafoss, Reynisfjara, Jökulsárlon, Fiordos del Este, Detifoss, Lago Mývatn, Godafoss, Akureyri , Pen Snæfellsnes',\n",
       " 'Reykjavík, Círculo Dorado, Seljalandsfoss, Skógafoss, Reynisfjara, Jökulsárlón, Fiordos del Este, Tierras Altas, Dettifoss, Lago Mývatn, Godafoss, Akureyri, Hrutafjorður, Kjolur , Kerlingarfjöll',\n",
       " 'Reykjavík, Círculo Dorado, Seljalandsfoss, Skógafoss,  Jökulsárlón, Fiordos del Este, Dettifoss, Lago Mývatn, Godafoss, Akureyri , Snæfellsnes',\n",
       " 'Nairobi, Valle del Rift, Masai Mara, Lago Naivasha, Lago Elementaita , Parque Nacional Lago Nakuru',\n",
       " 'Kuala Lumpur, Cameron Highlands, Ipoh, Kuala Kangsar , Penang',\n",
       " 'Lima, Cusco , Machu Picchu',\n",
       " 'Colombo, Negombo, Dambulla, Medirigiriya, Hiriwaduna, Matale, Kandy, Nuwara Eliya, Ella, P N Yala, Tissamaharama, Weligama, Galle , Waskaduwa',\n",
       " 'Johannesburgo, Mpumalanga, Área de Kruger, Ciudad del Cabo , Stellenbosch',\n",
       " 'Bangkok, Ayutthaya, Lopburi, Phitsanuloke, Sukhothai, Lampang, Chiang Rai , Chiang Mai',\n",
       " 'Bangkok, Ayutthaya, Lopburi, Phitsanuloke, Sukhothai, Lampang, Chiang Rai, Chiang Mai , Koh Samui',\n",
       " 'Tashkent, Samarcanda, Bukhara , Khiva',\n",
       " 'schia, Capri , Procida',\n",
       " 'Bogotá, Santa Marta , Cartagena de Indias',\n",
       " 'Antigua',\n",
       " 'Granada',\n",
       " 'Vancouver , Whitehorse',\n",
       " 'San José, Tortuguero, Arenal , Manuel Antonio',\n",
       " 'Tashkent, Samarkanda, Bujara, Khiva , Urgench',\n",
       " 'Nueva York, Orlando , Riviera Maya',\n",
       " 'Viena, Brno, Praga, Bohemia  , Cesky Krumlov , Cesky Budejovice , , Innsbruck, Salzburgo, pueblos del Tirol  , Sant Johann in Tirol, Rattenberg , Kitzbühel ,  , región de Salzkammergut  , Santk Wolfgang , Sankt Gilgen , ',\n",
       " 'Beijing, Xian, Zhangjiajie, Suzhou , Shanghái',\n",
       " 'Nueva York, Niagara Falls, Toronto,  Washington, Lancaster , Philadelphia',\n",
       " 'Nueva York, Hamptons, Newport, Puerto de Hyannis, Provincetown, Plymouth, Boston , Manchester',\n",
       " 'Lima, Arequipa, cañón de Colca, Puno, lago Titicaca, Cusco, Valle Sagrado , Machu Picchu',\n",
       " 'Beijing , Shangai',\n",
       " 'Kuala Lumpur, Malacca , Taman Negara',\n",
       " 'Saly',\n",
       " 'Ereván, Harichavank, Gyumry, Quba Mere Diwane, Echmiadzin, Geghard , Garni\\r',\n",
       " 'Sao Vicente , Santo Antao',\n",
       " 'Dakar, Isla de Goree, Lago Rosa, St Louis, Parque Nacional de Djoud, Bandia, Saloum,  Fadiouth  , Saly',\n",
       " 'Yeda, Medina, Khaibar, Al Ula, Tabuk , Ryad',\n",
       " 'Viena, Salzburgo, Innsbruck, Grossglockner , Graz',\n",
       " 'Montego Bay',\n",
       " 'Lago Nakuru , Masai Mara',\n",
       " 'Windhoek, Kalahari, Sossusvlei, Swakopmund, Twyfelfontein, Etosha Sur, Etosha Este , Waterberg Plateau National Park',\n",
       " 'Cancún , Riviera Maya',\n",
       " 'Bangkok, Cha Am, Chumphon, Koh Tao , Koh Samui',\n",
       " 'Bangkok, Cha Am, Chumphon, P N Khao Sok, Phang Nga , Krabi',\n",
       " 'Ylläs',\n",
       " 'Ginebra, Lausanne, Zermatt, Lucerna, Zúrich , Berna',\n",
       " 'Zagreb, Ljubljana, Postojna, Parque Nacional de Plitvice, Zadar, Split, Dubrovnik, Kotor, Podgorica, Tirana, Ohrid, Skopje, Nis, Belgrado, Sarajevo, Medjugorje , Mostar',\n",
       " 'Zagreb, Ljubljana, Postojna, Parque Nacional de Plitvice, Zadar, Split, Dubrovnik, Medjugorje , Mostar',\n",
       " 'Buenos Aires, Ushuaia, El Calafate , Puerto Natales',\n",
       " 'Buenos Aires, Ushuaia, El Calafate, Salta, Cafayate , Iguazú',\n",
       " 'Guadalajara, Tlaquepaque, Guachimontones, Tequila, Chapala, Ajijic , Puerto Vallarta',\n",
       " 'Buenos Aires, El Calafate, Mendoza , Iguazú',\n",
       " 'San José, Tortuguero, Arenal, Rincón de la Vieja, Monteverde, Puntarenas , Manuel Antonio',\n",
       " 'Ciudad de México, Xochimilco, Coyoacán , Teotihuacán',\n",
       " 'Chihuahua, Creel, Divisadero, El Fuerte , Los Mochis',\n",
       " 'Los Mochis, El Fuerte, Divisadero, Creel, Chihuahua',\n",
       " 'Los Mochis, El Fuerte, Cerocauhi, Divisadero, Creel , Chihuahua',\n",
       " 'Santiago de Chile, Punta Arenas, Puerto Natales, Torres del Paine , Rapa Nui',\n",
       " 'Guadalajara, Tlaquepaque, Amatitán, Tequila , Puerto Vallarta',\n",
       " 'Calgary, Lake Louise , Banff',\n",
       " 'Guadalajara, Chapala, Ajijic, Tequila , Puerto Vallarta',\n",
       " 'Maguncia, Cochem, Bernkastel-Kues, Tréveris, Traben-Trarbach, Coblenza, Rin Romántico , Rüdesheim',\n",
       " 'Maguncia, Düsseldorf, Rotterdam, Ámsterdam, Arnhem, Colonia, Coblenza , Rin Romántico',\n",
       " 'Sydney, Melbourne , Hamilton Island',\n",
       " 'Sydney, Ayers Rock, Melbourne , Hamilton Island',\n",
       " 'Passau, Bratislava, Budapest, Viena, valle del Wachau , Linz',\n",
       " 'Nassau',\n",
       " 'Nassau , Exuma',\n",
       " 'Nassau , Grand Bahama',\n",
       " 'Miami, Belice, San Ignacio, Caracol , Cayo San Pedro',\n",
       " 'Miami, Belice, San Ignacio, Caracol , Placencia',\n",
       " 'Santa Cruz, Sucre, Potosí, Uyuni, Tahua, Ojo de Perdiz, La Paz, lago Titicaca, \\rCopacabana , isla del Sol',\n",
       " 'Cataratas Victoria, PN Chobe, Delta de Okavango , Ciudad del Cabo',\n",
       " 'Cataratas Victoria, PN Chobe, Delta de Okavango, Johannesburgo , Mauricio',\n",
       " 'Cataratas Victoria, PN Chobe, Delta de Okavango, Johannesburgo , Mozambique',\n",
       " 'Cataratas Victoria, PN Chobe, Delta de Okavango, Johannesburgo , Maldivas',\n",
       " 'Río de Janeiro, Iguazú , Salvador de Bahía',\n",
       " 'Río de Janeiro, Iguazú, Salvador de Bahía , Imbassai',\n",
       " 'Phnom Penh, Koh Dach, Battambang, Siem Reap , Kompong Kleang',\n",
       " 'Hanoi, Bahía de Halong, Danang, Hoi An, Hue, Ho Chi Minh , Siem Reap',\n",
       " 'Hanoi, Bahía de Halong, Danang, Hoi An, Hue, Ho Chi Minh, Siem Reap , Phuket',\n",
       " 'Hanoi, Bahía de Halong, Danang, Hoi An, Hue, Ho Chi Minh, Cai Be, Vinh Long, Cantho , Siem Reap',\n",
       " 'Hanoi, Bahía de Halong, Danang, Hoi An, Hue, Ho Chi Minh, Cai Be, Vinh Long, Cantho, Siem Reap , Phuket',\n",
       " 'Bangkok, Kanchanaburi, Ayutthaya, Phitsanuloke, Sukhothai, Lampang, Chiang Rai, Chiang Mai , Phuket',\n",
       " 'Bangkok, Kanchanaburi, Ayutthaya, Phitsanuloke, Sukhothai, Lampang, Chiang Rai, Chiang Mai , Krabi',\n",
       " 'Bangkok, Kanchanaburi, Ayutthaya, Phitsanuloke, Sukhothai, Lampang, Chiang Rai, Chiang Mai , Koh Samui',\n",
       " 'Bangkok, Kanchanaburi, Ayutthaya, Phitsanuloke, Sukhothai, Lampang, Chiang Rai, Chiang Mai , Camboya',\n",
       " 'Hanoi, Bahía de Halong, Danang, Hoi An, Hue, Ho Chi Minh, Cai Be, Vinh Long, Cantho, Cai Rang, Chau Doc, Phnom Penh, Siem Reap , Phuket',\n",
       " 'Hanoi, Bahía de Halong, Danang, Hoi An, Hue, Ho Chi Minh, Cai Be, Vinh Long, Cantho,\\rCai Rang, Chau Doc, Phnom Penh , Siem Reap',\n",
       " 'Hanoi, Bahía de Halong, Danang, Hoi An, Hue, Ho Chi Minh, Cai Be, Vinh Long, Cantho,\\rCai Rang, Chau Doc, Phnom Penh, Siem Reap , Maldivas',\n",
       " 'Halifax, Lunenburg, Annapolis Royal, Baddeck , Cabot Trail',\n",
       " 'Halifax, Mahone Bay, Digby, Wolfville, Moncton, Charlottetown , Baddeck',\n",
       " 'Toronto, Niágara, Mil Islas, Ottawa, Quebec, Saguenay, Tadoussac, La Malbaie, Wendake, La Mauricie , Montreal',\n",
       " 'Calgary, Banff, Lake Louise, Campos de hielo, Jasper, Kamloops , Vancouver',\n",
       " 'Toronto, Niagara Falls, Ottawa, Mont-Tremblant, Quebec, Montreal',\n",
       " 'Toronto, Niágara Falls, Mil Islas, Ottawa, Quebec , Montreal',\n",
       " 'Toronto, Niágara Falls, Mil Islas, Ottawa, Wendake, Quebec , Montreal',\n",
       " 'Toronto, Niágara, Mil Islas, Ottawa, Quebec, La Mauricie , Montreal',\n",
       " 'Nueva York, Boston, Québec, Montreal, Ottawa, Toronto , Niágara',\n",
       " 'Nueva York, Boston, Quebec, Montreal, Ottawa, Toronto, Niágara , Washington',\n",
       " 'Vancouver, Whistler, Revelstoke, Banff , Calgary',\n",
       " 'Vancouver, Victoria, Whistler, Revelstoke, Banff , Calgary',\n",
       " 'Calgary, Banff, Lake Louise, Campos de Hielo, Jasper, Cañón Maligne, Kamloops, Vancouver , Whistler',\n",
       " 'Calgary, Banff, Lake Louise, Campos de Hielo, Jasper, Kamloops, Vancouver , Victoria',\n",
       " 'Toronto, Niágara, Mil Islas, Ottawa, Quebec, Montreal, Calgary, Banff, Lake Louise, Campos de Hielo, Jasper, Cañón Maligne, Kamloops , Vancouver',\n",
       " 'Calgary, Banff, Lake Louise, Campos de Hielo, Jasper, Cañón Maligne, Kamloops, Vancouver, Toronto, Niágara, Mil Islas, Ottawa, Quebec , Montreal',\n",
       " 'Beijing, Xian , Shanghái',\n",
       " 'Beijing, Xian, Shanghái , Phuket',\n",
       " 'Beijing, Xian, Shanghái , Bali',\n",
       " 'Beijing, Xian, Shanghái , Hong Kong',\n",
       " 'Beijing, Xian, Luoyang , Shanghái',\n",
       " 'Beijing, Xian, Pingyao , Shanghái',\n",
       " 'Beijing, Xian, Chengdu , Shanghái',\n",
       " 'Beijing, Xian, Shanghái , Maldivas',\n",
       " 'Beijing, Xian, Zhangjiajie , Shanghái',\n",
       " 'Beijing, Xian, Guilin , Shanghái',\n",
       " 'Beijing, Xian, Guilin, Yangshuo, Hangzhou, Suzhou , Shanghái',\n",
       " 'Beijing, Luoyang, Xian, Guilin, Yangshuo, Hangzhou, Suzhou , Shanghái',\n",
       " 'Bogotá, Zipaquirá, Pereira, valle del Cócora , Cartagena de Indias',\n",
       " 'Medellín, Guatapé, Pereira, valle del Cócora , Cartagena de Indias',\n",
       " 'San José, Arenal, Monteverde , Manuel Antonio',\n",
       " 'San José, Arenal, Monteverde , Guanacaste',\n",
       " 'San José, Tortuguero, Arenal , Guanacaste',\n",
       " 'San José, Tortuguero, Arenal, Monteverde , Guanacaste',\n",
       " 'San José, Tortuguero, Sarapiquí, Arenal , Guanacaste',\n",
       " 'San José, Tortuguero, Sarapiquí, Arenal , Manuel Antonio',\n",
       " 'San José, Tortuguero, Arenal , Monteverde',\n",
       " 'San José, Tortuguero, Puerto Viejo, Arenal , Manuel Antonio',\n",
       " 'San José, Tortuguero, Puerto Viejo, Arenal, Monteverde , Manuel Antonio',\n",
       " 'San José, Tortuguero, Puerto Viejo, Arenal, Monteverde , Guanacaste',\n",
       " 'San José, Tortuguero, Arenal, Monteverde, Rincón de la Vieja , Manuel Antonio',\n",
       " 'San José, Tortuguero, Arenal, Monteverde, Rincón de la Vieja , Guanacaste',\n",
       " 'San José, Tortuguero, Arenal, Manuel Antonio, Monteverde , Guanacaste',\n",
       " 'San José, Tortuguero, Puerto Viejo, Sarapiquí, Arenal, Monteverde, Rincón de la Vieja , Manuel Antonio',\n",
       " 'San José, Tortuguero, Puerto Viejo, Sarapiquí, Arenal, Monteverde, Rincón de la Vieja , Guanacaste',\n",
       " 'Quito, Otavalo, Chimborazo, Riobamba, Cuenca , Guayaquil',\n",
       " 'Aswan, Kom Ombo, Edfú, Esna, Luxor, Valle de los Reyes, Deir el-Bahari, Colosos, Karnak, El Cairo , Giza',\n",
       " 'Luxor, Valle de los Reyes, Templo de Hatshepsut, Colosos de Memnon, Karnak, Esna, Edfú, Kom Ombo, Aswan, Abu Simbel, El Cairo , Giza',\n",
       " 'Luxor, Valle de los Reyes, Templo de Hatshepsut , Colosos de Memnon, Karnak, Esna, Edfú, Kom Ombo, Aswan, Abu Simbel, El Cairo , Giza',\n",
       " 'El Cairo, Giza, Luxor, Esna, Edfú, Kom Ombo, Aswan, Abu Simbel , Sharm el Sheikh',\n",
       " 'Aswan, Abu Simbel, Kom Ombo, Edfú, Esna, Luxor, Valle de los Reyes, Deir el-Bahari, Colosos de Memnon, Karnak, El Cairo , Giza',\n",
       " 'Luxor, Valle de los Reyes, Medinet Habu, Colosos, Karnak, Esna, Edfú, Kom Ombo, Aswan, Abu Simbel, Giza , El Cairo',\n",
       " 'NUEVA YORK',\n",
       " 'Los Ángeles, Las Vegas, Gran Cañón, Monument Valley, Page, Antelope Canyon, Bryce Canyon, Fresno, Yosemite, Monterey , San Francisco',\n",
       " 'Los Ángeles, Las Vegas, Gran Cañón, Monument Valley, Canyonlands, Moab, Arches, Rock Springs, Grand Teton, Jackson Hole, Yellowstone, Rexburg, Salt Lake City , Bryce Canyon',\n",
       " 'Los Ángeles, Las Vegas, Gran Cañón, Monument Valley, Canyonlands, Moab, Arches, Rock Springs, Grand Teton, Jackson Hole, Yellowstone, Rexburg, Salt Lake City, Bryce Canyon, Zion, Mammoth Lakes, Yosemite, Carmel, Monterey , San Francisco',\n",
       " 'Las Vegas, Tuba City, Moab, Bryce Canyon, Bakersfield, Modesto , San Francisco',\n",
       " 'Las Vegas, Tuba City, Moab, Bryce Canyon, Bakersfield, Modesto, San Francisco, Santa Maria , Los Angeles',\n",
       " 'Los Ángeles, Palm Springs, Laughlin, Gran Cañón, Cameron, Monument Valley, Moab, Bryce Canyon, Valle del Fuego, Las Vegas, Death Valley, Bakersfield, Yosemite , San Francisco',\n",
       " 'Los Ángeles, Palm Springs, Laughlin, Gran Cañón, Cameron, Monument Valley, Moab, Bryce Canyon, Valle del Fuego, Las Vegas, Death Valley, Bakersfield, Yosemite, San Francisco, Monterey, Carmel-by-the-Sea, Santa Maria , Santa Barbara',\n",
       " 'Los Ángeles, Gran Cañón, Monument Valley, Horseshoe Bend, Page, Antilope Canyon, Lake Powell Bryce Canyon, Zion, Las Vegas, Oakhurst o Mammoth Lakes, Yosemite , San Francisco',\n",
       " 'Los Ángeles, Gran Cañón, Monument Valley, Horseshoe Bend, Page, Antilope Canyon, Lake Powell Bryce Canyon, Zion, Las Vegas, Oakhurst o Mammoth Lakes, Yosemite , San Francisco, Monterey, Carmel, Lompoc, Santa Barbara , Los Ángeles',\n",
       " 'Los Angeles, Laughlin, Gran Cañón, Page, Monument Valley, Monticello, Vernal, Jackson Hole, Yellowstone, Salt Lake City, Bryce Canyon, Las Vegas, Death Valley, Mammoth Lakes, Yosemite, Modesto , San Francisco',\n",
       " 'Los Angeles, Laughlin, Gran Cañón, Page, Monument Valley, Monticello, Vernal, Jackson Hole, Yellowstone, Salt Lake City, Bryce Canyon, Las Vegas, Death Valley, Mammoth Lakes, Yosemite, Modesto, San Francisco, Monterey, Lompoc , Santa Barbara',\n",
       " 'Vilnius, Kaunas, Colina de las Cruces, Sigulda, Turaida, Pärnu , Tallin',\n",
       " 'Manila , Boracay',\n",
       " 'Manila, Siquijor , Bohol',\n",
       " 'Manila , El Nido',\n",
       " 'Manila, Siargao, Cebú , Bohol',\n",
       " 'Manila, Puerto Princesa, El Nido , Corón',\n",
       " 'Atenas, Delfos , Meteora',\n",
       " 'Atenas, Santorini  , Creta',\n",
       " 'Atenas, Mykonos , Santorini',\n",
       " 'Atenas, Ios , Santorini',\n",
       " 'Atenas, Milos , Santorini',\n",
       " 'Atenas, Paros , Naxos',\n",
       " 'Atenas, Paros , Santorini',\n",
       " 'Atenas, Sifnos , Paros',\n",
       " 'Atenas, Naxos , Mykonos',\n",
       " 'Atenas, Micenas, Epidauro, Olympia, Delfos , Meteora',\n",
       " 'Atenas, Micenas, Epidauro, Olympia, Delfos, Meteora  , Santorini',\n",
       " 'Estambul, Ankara, Capadocia, Pamukkale, Efeso, Esmirna, Kusadasi, Patmos, Atenas, Mykonos , Santorini',\n",
       " 'Delhi, Shahpura, Jaipur, Fatehpur Sikri , Agra',\n",
       " 'Delhi, Shahpura, Jaipur, Fatehpur Sikri, Agra, Orchha, Khajuraho, Allahabad , Benarés',\n",
       " 'Delhi, Shahpura, Jaipur, Fatehpur Sikri, Agra, Orchha, Khajuraho, Allahabad, Benarés , Katmandú',\n",
       " 'Delhi, Shahpura, Jaipur, Abhaneri, Fatehpur Sikri , Agra',\n",
       " 'Delhi, Shahpura, Jaipur, Abhaneri, Fatehpur Sikri, Agra , Benarés',\n",
       " 'Delhi, Shahpura, Jaipur, Abhaneri, Fatehpur Sikri, Agra , Nepal',\n",
       " 'Delhi, Shahpura, Jaipur, Abhaneri, Fatehpur Sikri, Agra , Maldivas',\n",
       " 'Delhi, Agra, Fatehpur Sikri, Jaipur, Amber, Jodhpur, Ranakpur , Udaipur',\n",
       " 'Delhi, Agra, Fatehpur Sikri, Jaipur, Amber, Jodhpur, Ranakpur, Udaipur , Mumbai',\n",
       " 'Delhi, Shahpura, Jaipur, Amber, Abhaneri, Fatehpur Sikri, Agra, Orchha, Khajuraho, Allahabad , Benarés',\n",
       " 'Delhi, Samode, Jaipur, Amber, Fatehpur Sikri, Agra, Sikandra, Orchha, Khajuraho, Allahabad ,Benarés , Katmandú',\n",
       " 'Delhi, Jaipur, Amber, Fatehpur Sikri, Agra, Orchha, Khajuraho, Allahabad, Benarés , Maldivas',\n",
       " 'Chennai, Kanchipuram, Mahabalipuram, Thanjavur, Trichy, Madurai, Periyar , Cochín',\n",
       " 'Delhi, Mandawa, Bikaner, Pokhran, Jaisalmer, Jodhpur, Ranakpur, Udaipur, Jaipur, Amber, Abhaneri, Fatehpur Sikri , Agra',\n",
       " 'Delhi, Mandawa, Bikaner, Pokhran, Jaisalmer, Jodhpur, Ranakpur, Udaipur, Jaipur, Amber, Abhaneri, Fatehpur Sikri, Agra, Khajuraho, Allahabad , Benarés',\n",
       " 'Delhi, Mandawa, Bikaner, Pokhran, Jaisalmer, Jodhpur, Ranakpur, Udaipur, Jaipur, Amber, Abhaneri, Fatehpur Sikri, Agra , Maldivas',\n",
       " 'Ubud , playas de Bali',\n",
       " 'Ubud, playas de Bali , islas Gili',\n",
       " 'Ubud, playas de Bali , Maldivas',\n",
       " 'Playas de Bali',\n",
       " 'Playas de Bali , islas Gili',\n",
       " 'Playas de Bali , Maldivas',\n",
       " 'Denpasar, Ubud, Belimbing, Candidasa , playas de Bali',\n",
       " 'Denpasar, Ubud, Belimbing, Candidasa, islas Gili , playas de Bali',\n",
       " 'Denpasar, Ubud, Belimbing, Candidasa, playas de Bali , Komodo',\n",
       " 'Denpasar, Ubud, Belimbing, Candidasa, playas de Bali , Maldivas',\n",
       " 'Denpasar, Ubud, Candidasa, Lovina, Belimbing , playas de Bali',\n",
       " 'Denpasar, Ubud, Candidasa, Lovina, Belimbing, playas de Bali , islas Gili',\n",
       " 'Denpasar, Ubud, Candidasa, Lovina, Belimbing, playas de Bali , Lombok',\n",
       " 'Denpasar, Ubud, Candidasa, Lovina, Belimbing, playas de Bali , Maldivas',\n",
       " 'Jakarta, Pangkalan Bun, Parque Natural Tanjung Puting, Semarang, Jogyakarta, Denpasar, Ubud , playas de Bali',\n",
       " 'Jakarta, Pangkalan Bun, Parque Natural Tanjung Puting, Semarang, Jogyakarta, Denpasar, Ubud, islas Gili , playas de Bali',\n",
       " 'Jakarta, Kalimantan, PN Tanjung Puting, Tanjung Puting, Pangkalan Bun, Semarang, Jogyakarta, Bromo, Banyuwangi, Ijen, Gilimanuk, Ubud , playas de Bali',\n",
       " 'Jakarta, Kalimantan, PN Tanjung Puting, Tanjung Puting, Pangkalan Bun, Semarang, Jogyakarta, Bromo, Banyuwangi, Ijen, Gilimanuk, Ubud, playas de Bali , islas Gili',\n",
       " 'Dublín, Limerick, Acantilados de Moher, Galway, Islas Aran, Sligo, Londonderry , Belfast',\n",
       " 'Dublín, Limerick, acantilados de Moher, Galway, Islas Aran, Sligo, Londonderry , Belfast',\n",
       " 'Catania, Etna, Taormina, Cefalú, Palermo, Monreale, Erice, Agrigento, Modica, Piazza Armerina, Noto , Siracusa',\n",
       " 'Osaka, Kioto , Tokio',\n",
       " 'Osaka, Kioto, Takayama, Kanazawa, Hakone , Tokio',\n",
       " 'Tokio, Kanazawa, Takayama, Kobe, Hiroshima , Kioto',\n",
       " 'Osaka, Kioto, Hiroshima, Kanazawa, Takayama, Hakone , Tokio',\n",
       " 'Osaka, Kioto, Tokio , Okinawa',\n",
       " 'Tokio , Kioto',\n",
       " 'Tokio, Kioto , Phuket',\n",
       " 'Tokio, Kioto , Koh Samui',\n",
       " 'Tokio, Kioto ,  Bali',\n",
       " 'Tokio, Kioto , Maldivas',\n",
       " 'Kioto , Tokio',\n",
       " 'Kioto, Tokio , Maldivas',\n",
       " 'Tokio, Kanazawa, Kioto , Osaka',\n",
       " 'Tokio, Kanazawa, Kioto, Osaka , Phuket',\n",
       " 'Tokio, Kanazawa, Kioto, Osaka , Koh Samui',\n",
       " 'Tokio, Kanazawa, Kioto, Osaka , Bali',\n",
       " 'Tokio, Kanazawa, Kioto, Osaka , Maldivas',\n",
       " 'Tokio, Kioto, Nara, Hakone , Osaka',\n",
       " 'Tokio, Hakone, Kioto, Nara, Osaka , Koh Samui',\n",
       " 'Tokio, Hakone, Kioto, Nara, Osaka , Bali',\n",
       " 'Tokio, Hakone, Kioto, Nara, Osaka , Maldivas',\n",
       " 'Tokio, Takayama, Kanazawa , Kioto',\n",
       " 'Kioto, Takayama, Kanazawa , Tokio',\n",
       " 'Tokio, Hiroshima, Osaka, Kioto , Takayama',\n",
       " 'Tokio, Hiroshima, Osaka, Kioto, Takayama , Phuket',\n",
       " 'Tokio, Hiroshima, Osaka, Kioto, Takayama , Koh Samui',\n",
       " 'Tokio, Hiroshima, Osaka, Kioto, Takayama , Bali',\n",
       " 'Tokio, Hiroshima, Osaka, Kioto, Takayama , Maldivas',\n",
       " 'Osaka, Nara, Kioto, Hakone , Tokio',\n",
       " 'Osaka, Nara, Kioto, Hakone, Tokio , Phuket',\n",
       " 'Osaka, Nara, Kioto, Hakone, Tokio , Bali',\n",
       " 'Osaka, Nara, Kioto, Hakone, Tokio , Naha',\n",
       " 'Osaka, Nara, Kioto, Hakone, Tokio , Maldivas',\n",
       " 'Osaka, Nara, Kioto, Hakone, Tokio , Fiji',\n",
       " 'Osaka, Kioto, Magome, Tsumago, Takayama, Shirakawago, Hakone , Tokio',\n",
       " 'Osaka, Kioto, Magome, Tsumago, Takayama, Shirakawago, Hakone, Tokio , Phuket',\n",
       " 'Osaka, Kioto, Magome, Tsumago, Takayama, Shirakawago, Hakone, Tokio , Koh Samui',\n",
       " 'Osaka, Kioto, Magome, Tsumago, Takayama, Shirakawago, Hakone, Tokio , Bali',\n",
       " 'Kioto, Nara, Osaka, Kanazawa, Shirakawago, Takayama, Matsumoto , Tokio',\n",
       " 'Kioto, Nara, Osaka, Kanazawa, Shirakawago, Takayama, Matsumoto, Tokio , Phuket',\n",
       " 'Kioto, Nara, Osaka, Kanazawa, Shirakawago, Takayama, Matsumoto, Tokio , Koh Samui',\n",
       " 'Kioto, Nara, Osaka, Kanazawa, Shirakawago, Takayama, Matsumoto, Tokio , Bali',\n",
       " 'Kioto, Nara, Osaka, Kanazawa, Shirakawago, Takayama, Matsumoto, Tokio , Maldivas',\n",
       " 'Tokio, Kanazawa, Shirakawago, Takayama, Kobe, Hiroshima, Kioto , Nara',\n",
       " 'Tokio, Kanazawa, Shirakawago, Takayama, Kobe, Hiroshima, Kioto, Nara , Phuket',\n",
       " 'Tokio, Kanazawa, Shirakawago, Takayama, Kobe, Hiroshima, Kioto, Nara , Koh Samui',\n",
       " 'Tokio, Kanazawa, Shirakawago, Takayama, Kobe, Hiroshima, Kioto, Nara , Bali',\n",
       " 'Tokio, Kanazawa, Shirakawago, Takayama, Kobe, Hiroshima, Kioto, Nara , Maldivas',\n",
       " 'Tokio, Hakone, Nara, Kioto, Kanazawa, Shirakawago, Takayama, Gero, Nagoya , Osaka',\n",
       " 'Tokio, Hakone, Nara, Kioto, Kanazawa, Shirakawago, Takayama, Gero, Nagoya, Osaka , Phuket',\n",
       " 'Tokio, Hakone, Nara, Kioto, Kanazawa, Shirakawago, Takayama, Gero, Nagoya, Osaka , Bali',\n",
       " 'Tokio, Hakone, Nara, Kioto, Kanazawa, Shirakawago, Takayama, Gero, Nagoya, Osaka , Maldivas',\n",
       " 'Osaka, Takarazuka , Kyoto, Nagoya , Tokio',\n",
       " 'Osaka, Takarazuka , Kyoto, Nagoya, Tokio , Maldivas',\n",
       " 'Osaka, Kioto, Ruta de Kumano, Koyasan, Kinosaki , Tokio',\n",
       " 'Osaka, Kioto, Ruta de Kumano, Koyasan, Kinosaki, Tokio , Phuket',\n",
       " 'Osaka, Kioto, Ruta de Kumano, Koyasan, Kinosaki, Tokio , Koh Samui',\n",
       " 'Osaka, Kioto, Ruta de Kumano, Koyasan, Kinosaki, Tokio , Bali',\n",
       " 'Osaka, Kioto, Ruta de Kumano, Koyasan, Kinosaki, Tokio , Maldivas',\n",
       " 'Osaka, Kioto, Himeji, Kurashiki, Hiroshima, Koyasan, Ruta de Kumano, Kawayu Onsen, Kanazawa, Shirakawago, Takayama, Hakone , Tokio',\n",
       " 'Osaka, Kioto, Himeji, Kurashiki, Hiroshima, Koyasan, Ruta de Kumano, Kawayu Onsen, Kanazawa, Shirakawago, Takayama, Hakone, Tokio , Phuket',\n",
       " 'Osaka, Kioto, Himeji, Kurashiki, Hiroshima, Koyasan, Ruta de Kumano, Kawayu Onsen, Kanazawa, Shirakawago, Takayama, Hakone, Tokio , Koh Samui',\n",
       " 'Osaka, Kioto, Himeji, Kurashiki, Hiroshima, Koyasan, Ruta de Kumano, Kawayu Onsen, Kanazawa, Shirakawago, Takayama, Hakone, Tokio , Bali',\n",
       " 'Osaka, Kioto, Himeji, Kurashiki, Hiroshima, Koyasan, Ruta de Kumano, Kawayu Onsen, Kanazawa, Shirakawago, Takayama, Hakone, Tokio , Maldivas',\n",
       " 'Tokio, Kawaguchiko, Matsumoto, Kamikochi, Okuhida Onsen, Takayama, Shirakawago, Kanazawa, Kioto, Nara , Osaka',\n",
       " 'Lago Nakuru, Masai Mara , Mombasa',\n",
       " 'Lago Nakuru, Masai Mara , Zanzíbar',\n",
       " 'Lago Nakuru, Masai Mara, Nairobi , Mauricio',\n",
       " 'Lago Nakuru, Masai Mara, Nairobi , Seychelles',\n",
       " 'Lago Nakuru, Masai Mara , Maldivas',\n",
       " 'Lago Nakuru, Masai Mara , PN Bwindi',\n",
       " 'Aberdare, lago Nakuru , Masai Mara',\n",
       " 'Aberdare, lago Nakuru, Masai Mara , Mombasa',\n",
       " 'Aberdare, lago Nakuru, Masai Mara , Zanzíbar',\n",
       " 'Aberdare, lago Nakuru, Masai Mara, Nairobi , Mauricio',\n",
       " 'Aberdare, lago Nakuru, Masai Mara, Nairobi , Seychelles',\n",
       " 'Aberdare, lago Nakuru, Masai Mara , Maldivas',\n",
       " 'Lago Nakuru, Masai Mara, Nairobi , Amboseli',\n",
       " 'Lago Nakuru, Masai Mara, Nairobi, Amboseli , Mombasa',\n",
       " 'Lago Nakuru, Masai Mara, Nairobi, Amboseli , Zanzíbar',\n",
       " 'Lago Nakuru, Masai Mara, Nairobi, Amboseli , Mauricio',\n",
       " 'Lago Nakuru, Masai Mara, Nairobi, Amboseli , Seychelles',\n",
       " 'Lago Nakuru, Masai Mara, Nairobi, Amboseli , Maldivas',\n",
       " 'Samburu - Shaba, Aberdare, lago Nakuru , Masai Mara',\n",
       " 'Samburu - Shaba, Aberdare, lago Nakuru, Masai Mara , Mombasa',\n",
       " 'Samburu - Shaba, Aberdare, lago Nakuru, Masai Mara , Zanzíbar',\n",
       " 'Samburu - Shaba, Aberdare, lago Nakuru, Masai Mara, Nairobi  , Cataratas Victoria',\n",
       " 'Samburu - Shaba, Aberdare, lago Nakuru, Masai Mara , Mauricio',\n",
       " 'Samburu - Shaba, Aberdare, lago Nakuru, Masai Mara , Seychelles',\n",
       " 'Samburu - Shaba, Aberdare, lago Nakuru, Masai Mara , Maldivas',\n",
       " 'Samburu - Shaba, lago Naivasha , Masai Mara',\n",
       " 'Samburu - Shaba, lago Naivasha, Masai Mara , Mombasa',\n",
       " 'Samburu - Shaba, lago Naivasha, Masai Mara , Zanzíbar',\n",
       " 'Samburu - Shaba, lago Naivasha, Masai Mara , Mauricio',\n",
       " 'Samburu - Shaba, lago Naivasha, Masai Mara , Seychelles',\n",
       " 'Samburu - Shaba, lago Naivasha, Masai Mara , Maldivas',\n",
       " 'Aberdare, lago Nakuru, Masai Mara , lago Naivasha',\n",
       " 'Aberdare, lago Nakuru, Masai Mara, lago Naivasha , Mombasa',\n",
       " 'Aberdare, lago Nakuru, Masai Mara, lago Naivasha , Zanzíbar',\n",
       " 'Aberdare, lago Nakuru, Masai Mara, lago Naivasha, Nairobi , Mauricio',\n",
       " 'Aberdare, lago Nakuru, Masai Mara, lago Naivasha , Maldivas',\n",
       " 'Samburu - Shaba, Aberdare, Lago Nakuru, Masai Mara, Nairobi , Amboseli',\n",
       " 'Samburu - Shaba, Aberdare, Lago Nakuru, Masai Mara, Nairobi, Amboseli , Mombasa',\n",
       " 'Samburu - Shaba, Aberdare, Lago Nakuru, Masai Mara, Nairobi, Amboseli , Zanzíbar',\n",
       " 'Samburu - Shaba, Aberdare, Lago Nakuru, Masai Mara, Nairobi, Amboseli , Mauricio',\n",
       " 'Samburu - Shaba, Aberdare, Lago Nakuru, Masai Mara, Nairobi, Amboseli , Seychelles',\n",
       " 'Samburu - Shaba, Aberdare, Lago Nakuru, Masai Mara, Nairobi, Amboseli , Maldivas',\n",
       " 'Monte Kenia, Lago Naivasha , Masai Mara',\n",
       " 'Monte Kenia, Lago Naivasha, Masai Mara , Mombasa',\n",
       " 'Monte Kenia, Lago Naivasha, Masai Mara , Zanzíbar',\n",
       " 'Monte Kenia, Lago Naivasha, Masai Mara , Mauricio',\n",
       " 'Monte Kenia, Lago Naivasha, Masai Mara , Maldivas',\n",
       " 'Samburu, Lago Nakuru , Masai Mara',\n",
       " 'Samburu, Lago Nakuru , Masai Mara , Mombasa',\n",
       " 'Samburu, Lago Nakuru, Masai Mara, Nairobi , Mauricio',\n",
       " 'Samburu, Lago Nakuru, Masai Mara , Seychelles',\n",
       " 'Samburu, Lago Nakuru, Masai Mara , Maldivas',\n",
       " 'Samburu, Lago Nakuru, Masai Mara , Zanzíbar',\n",
       " 'Shaba, Aberdare, Lago Nakuru, Masai Mara , Zanzíbar',\n",
       " 'Ol Pejeta, Lago Elementaita , Masai Mara',\n",
       " 'Aberdare, lago Nakuru, Masai Mara, Arusha, Tarangire, lago Manyara, Karatu , Ngorogoro',\n",
       " 'Aberdare, lago Nakuru, Masai Mara, Arusha, Tarangire, lago Manyara, Karatu Ngorogoro , Zanzíbar',\n",
       " 'Aberdare, Lago Nakuru, Masai Mara, Arusha, Tarangire, Lago Manyara, Karatu, Ngorogoro , Maldivas',\n",
       " 'Samburu-Shaba, Aberdare, lago Nakuru, Masai Mara, Arusha, Tarangire, lago Manyara, Karatu , Ngorongoro',\n",
       " 'Samburu-Shaba, Aberdare, lago Nakuru, Masai Mara, Arusha, Tarangire, lago Manyara, Karatu, Ngorongoro , Zanzíbar',\n",
       " 'Samburu-Shaba, Aberdare, Lago Nakuru, Masai Mara, Arusha, Tarangire, Lago Manyara, Karatu, Ngorongoro , Maldivas',\n",
       " 'Nairobi, Masai Mara, Lago Victoria, Serengeti, Ngorongoro , Arusha',\n",
       " 'Nairobi, Masai Mara, Lago Victoria, Serengeti, Ngorongoro, Arusha , Zanzíbar',\n",
       " 'Arusha, Lago Eyasi, Ngorongoro, Karatu, Serengeti , Masai Mara',\n",
       " 'Arusha, Lago Eyasi, Ngorongoro, Karatu, Serengeti, Masai Mara , Zanzíbar',\n",
       " 'Arusha, Lago Eyasi, Ngorongoro, Karatu, Serengeti, Masai Mara , Maldivas',\n",
       " 'Lago Nakuru, Nairobi, Masai Mara, Amboseli, Tarangire, Lago Manyara, Serengeti, Karatu , Ngorongoro',\n",
       " 'Lago Nakuru, Nairobi, Masai Mara, Amboseli, Tarangire, Lago Manyara, Serengeti, Karatu, Ngorongoro , Zanzíbar',\n",
       " 'Nairobi, Lago Nakuru - Lago Naivasha, Masai Mara, Amboseli, Tarangire, Lago Manyara, Serengeti, Ngorongoro , Maldivas',\n",
       " 'Samburu - Shaba, Aberdare, lago Nakuru, Masai Mara, Nairobi, Amboseli, Tarangire, Serengeti , Karatu',\n",
       " 'Samburu - Shaba, Aberdare, Lago Nakuru, Masai Mara, Nairobi, Amboseli, Tarangire, Serengeti, Karatu, Ngorongoro , Zanzíbar',\n",
       " 'Kuala Lumpur, Malacca, Cameron Highlands , Penang',\n",
       " 'Kuala Lumpur, Malacca, Cameron Highlands, Penang , Langkawi',\n",
       " 'Casablanca, Rabat, Fez, Midelt, Erfoud, Gargantas del Todra, Ruta de las Kasbahs, Kella M´Gouna, Ouarzazate, Ait Ben Haddou , Marrakech',\n",
       " 'Ciudad de México, Querétaro, San Miguel Allende, Guanajuato, Guadalajara, Tequila, Tlaquepaque, Pátzcuaro , Morelia',\n",
       " 'Ciudad de México, Querétaro, San Miguel Allende, Guanajuato, Guadalajara, Tequila, Tlaquepaque, Pátzcuaro, Morelia , Los Cabos',\n",
       " 'Ciudad de México, Teotihuacán, Tuxtla Gutiérrez, San Cristóbal de las Casas, Palenque, Campeche, Uxmal, Mérida, Chichén Itzá , Riviera Maya',\n",
       " 'Ciudad de México, Teotihuacán, Tuxtla Gutiérrez, San Cristóbal de las Casas, Palenque, Campeche, Uxmal, Mérida, Chichén Itzá, Cancún , Holbox',\n",
       " 'Windhoek, Desierto Namib , Área Kalahari',\n",
       " 'Windhoek, Desierto Namib, Área Kalahari , Ciudad del Cabo',\n",
       " 'Windhoek, Desierto Namib, Área Kalahari , Mozambique',\n",
       " 'Windhoek, Desierto Namib, Área Kalahari , Cataratas Victoria',\n",
       " 'Windhoek, PN Etosha, Twyfelfontein , Swakopmund',\n",
       " 'Windhoek, Parque Nacional Etosha, Damaraland, Twyfelfontein, Swakopmund , Ciudad del Cabo',\n",
       " 'Windhoek, Parque Nacional Etosha, Damaraland, Twyfelfontein, Swakopmund , Mozambique',\n",
       " 'Windhoek, Parque Nacional Etosha, Damaraland, Twyfelfontein, Swakopmund , Cataratas Victoria',\n",
       " 'Windhoek, Sesriem, Desierto de Namibia, Swakopmund, Damaraland , PN Etosha',\n",
       " 'Windhoek, Sesriem, Desierto de Namibia, Swakopmund, Damaraland, PN Etosha , Ciudad del Cabo',\n",
       " 'Windhoek, Sesriem, Desierto de Namibia, Swakopmund, Damaraland, PN Etosha , Mozambique',\n",
       " 'Windhoek, PN Etosha, Damaraland, Twyfelfontein, Swakopmund , desierto de Namibia',\n",
       " 'Windhoek, Parque Nacional Etosha, Damaraland, Twyfelfontein, Swakopmund, Desierto de Namibia , Ciudad del Cabo',\n",
       " 'Windhoek, Parque Nacional Etosha, Damaraland, Twyfelfontein, Swakopmund, Desierto de Namibia , Mozambique',\n",
       " 'Windhoek, Parque Nacional Etosha, Damaraland, Twyfelfontein, Swakopmund, Desierto de Namibia , Cataratas Victoria',\n",
       " 'Windhoek, PN Etosha, Twyfelfontein, Swakopmund, Desierto de Namibia , Kalahari',\n",
       " 'Windhoek, PN Etosha, Damaraland, Twyfelfontein, Swakopmund, Desierto de Namibia, Kalahari , Ciudad del Cabo',\n",
       " 'Windhoek, PN Etosha, Damaraland, Twyfelfontein, Swakopmund, Desierto de Namibia, Kalahari , Mozambique',\n",
       " 'Windhoek, PN Etosha, Damaraland, Twyfelfontein, Swakopmund, Desierto de Namibia, Kalahari , Cataratas Victoria',\n",
       " 'Windhoek, Sossusvlei, Swakopmund, Twyfelfontein , PN Etosha',\n",
       " 'Windhoek, Sossusvlei, Swakopmund, Twyfelfontein, PN Etosha , Ciudad del Cabo',\n",
       " 'Windhoek, Sossusvlei, Swakopmund, Twyfelfontein, PN Etosha , Cataratas Victoria',\n",
       " 'Windhoek, Sossusvlei, Swakopmund, Twyfelfontein, PN Etosha , Mozambique',\n",
       " 'Windhoek, Otjiwarongo, PN Etosha, Damaraland, Twyfelfontein, Swakopmund, Desierto de Namibia , Área de Kalahari',\n",
       " 'Windhoek, Otjiwarongo, PN Etosha, Damaraland, Twyfelfontein, Swakopmund, Desierto de Namibia, Área de Kalahari , Ciudad del Cabo',\n",
       " 'Windhoek, Otjiwarongo, PN Etosha, Damaraland, Twyfelfontein, Swakopmund, Desierto de Namibia, Área de Kalahari , Mozambique',\n",
       " 'Windhoek, Otjiwarongo, PN Etosha, Damaraland, Twyfelfontein, Swakopmund, Desierto de Namibia, Área de Kalahari , Cataratas Victoria',\n",
       " 'Sossusvlei, Damaraland , Etosha',\n",
       " 'Sossusvlei, Damaraland, Etosha , Ciudad del Cabo',\n",
       " 'Sossusvlei, Damaraland, Etosha , Mozambique',\n",
       " 'Sossusvlei, Damaraland, Etosha , Cataratas Victoria',\n",
       " 'Ciudad de Panamá, Emberá , San Blas en velero',\n",
       " 'Ciudad de Panamá, Emberá, San Blas en velero , Bocas del Toro',\n",
       " 'Lima, Cusco, Valle Sagrado, Machu Picchu , Puerto Maldonado',\n",
       " 'Lima, Paracas, Líneas de Nazca, Cusco, Valle Sagrado , Machu Picchu',\n",
       " 'Lima, Cusco, Valle Sagrado, Camino Inca , Machu Picchu',\n",
       " 'Lima, Arequipa, Cañón de Colca, Puno, Lago Titicaca, Cusco, Valle Sagrado , Machu Picchu',\n",
       " 'Lima, Arequipa, Cañón de Colca, Puno, Lago Titicaca, Cusco, Valle Sagrado, Camino Inca , Machu Picchu',\n",
       " 'Lima, Arequipa, Cañón de Colca, Puno, Lago Titicaca, Cusco, Valle Sagrado, Machu Picchu , Riviera Maya',\n",
       " 'Lima, Arequipa, Cañón de Colca, Puno, Lago Titicaca, Cusco, Valle Sagrado, Machu Picchu , Máncora',\n",
       " 'Lima, Arequipa, Cañón de Colca, Puno, Lago Titicaca, Cusco, Valle Sagrado, Machu Picchu , Puerto Maldonado',\n",
       " 'Lima, Paracas, Líneas de Nazca, Arequipa, Cañón de Colca, Puno, Lago Titicaca, Cusco, Valle Sagrado , Machu Picchu',\n",
       " 'Varsovia, Czestochowa, Auschwitz, Cracovia, Wroclaw, Poznan , Torun',\n",
       " 'Varsovia, Czestochowa, Auschwitz, Cracovia, Wroclaw, Poznan, Torun, Malbork, Sopot , Gdánsk',\n",
       " 'La Romana / Bayahíbe',\n",
       " 'Santo Domingo',\n",
       " 'Santo Domingo , Punta Cana',\n",
       " 'Miches',\n",
       " 'Samaná',\n",
       " 'Puerto Plata',\n",
       " 'Bucarest, Sibiu, Sighisoara, Piatra Neamt, monasterios de Bucovina, Brasov, Bran , Sinaia',\n",
       " 'Bucarest, Sibiu, Sighisoara, Piatra Neamt, monasterios de Bucovina, Brasov, Bran, Sinaia, Ruse, Arbanasi, Veliko Tarnovo, Plovdiv, Sofía , monasterio de Rila',\n",
       " 'Colombo, Dambulla, Anuradhapura, Mihintale, Sigiriya, Polonnaruwa, Matale , Kandy',\n",
       " 'Colombo, Dambulla, Anuradhapura, Mihintale, Sigiriya, Polonnaruwa, Matale, Kandy , Beruwala',\n",
       " 'Colombo, Dambulla, Anuradhapura, Mihintale, Sigiriya, Polonnaruwa, Matale, Kandy , Pasikuda',\n",
       " 'Colombo, Dambulla, Anuradhapura, Mihintale, Sigiriya, Polonnaruwa, Matale, Kandy , Trincomalee',\n",
       " 'Colombo, Dambulla, Anuradhapura, Mihintale, Sigiriya, Polonnaruwa, Matale, Kandy , Maldivas',\n",
       " 'Colombo, Dambulla, Anuradhapura, Mihintale, Sigiriya, Polonnaruwa, Matale, Kandy, Peradeniya , Nuwara Eliya',\n",
       " 'Colombo, Dambulla, Anuradhapura, Mihintale, Sigiriya, Polonnaruwa, Matale, Kandy, Peradeniya, Nuwara Eliya , Beruwala',\n",
       " 'Colombo, Dambulla, Anuradhapura, Mihintale, Sigiriya, Polonnaruwa, Matale, Kandy, Peradeniya, Nuwara Eliya , Pasikuda',\n",
       " 'Colombo, Dambulla, Anuradhapura, Mihintale, Sigiriya, Polonnaruwa, Matale, Kandy, Peradeniya, Nuwara Eliya , Trincomalee',\n",
       " 'Colombo, Dambulla, Anuradhapura, Mihintale, Sigiriya, Polonnaruwa, Matale, Kandy, Nuwara Eliya, Parque Nacional Yala , Galle',\n",
       " 'Colombo, Dambulla, Anuradhapura, Mihintale, Sigiriya, Polonnaruwa, Matale, Kandy, Nuwara Eliya, Parque Nacional Yala, Galle , Beruwala',\n",
       " 'Colombo, Dambulla, Anuradhapura, Mihintale, Sigiriya, Polonnaruwa, Matale, Kandy, Nuwara Eliya, Parque Nacional Yala, Galle , Pasikuda',\n",
       " 'Colombo, Dambulla, Anuradhapura, Mihintale, Sigiriya, Polonnaruwa, Matale, Kandy, Nuwara Eliya, Parque Nacional Yala, Galle , Trincomalee',\n",
       " 'Colombo, Dambulla, Anuradhapura, Mihintale, Sigiriya, Polonnaruwa, Matale, Kandy, Nuwara Eliya, Parque Nacional Yala, Galle , Maldivas',\n",
       " 'Colombo, PN Wilpattu, Anuradhapura, Polonnaruwa, Sigiriya, Habarana, Dambulla, Matale, Kandy, Nuwara Eliya, Ella , Galle',\n",
       " 'Colombo, PN Wilpattu, Anuradhapura, Polonnaruwa, Sigiriya, Habarana, Dambulla, Matale, Kandy, Nuwara Eliya, Ella, Galle , Maldivas',\n",
       " 'Johannesburgo, Mpumalanga, PN Kruger, Pretoria, Ciudad del Cabo, Oudtshoorn , Knysna',\n",
       " 'Johannesburgo, Mpumalanga, PN Kruger, Pretoria, Ciudad del Cabo , Cataratas Victoria',\n",
       " 'Johannesburgo, Mpumalanga, PN Kruger, Pretoria, Ciudad del Cabo , Mauricio',\n",
       " 'Johannesburgo, Mpumalanga, PN Kruger, Pretoria, Ciudad del Cabo, Cataratas Victoria , Chobe',\n",
       " 'Johannesburgo, Mpumalanga, Parque Nacional Kruger, Pretoria, Ciudad del Cabo , Seychelles',\n",
       " 'Johannesburgo, Mpumalanga, PN Kruger, Pretoria, Ciudad del Cabo , Mozambique',\n",
       " 'Johannesburgo, Mpumalanga, PN Kruger, Pretoria, Ciudad del Cabo , Maldivas',\n",
       " 'Ciudad del Cabo, PN Kruger , Johannesburgo',\n",
       " 'Ciudad del Cabo, PN Kruger, Johannesburgo , Mauricio',\n",
       " 'Ciudad del Cabo, PN Kruger, Johannesburgo , Cataratas Victoria',\n",
       " 'Johannesburgo, Mpumalanga, Reserva de Little Africa Safari Lodge , Ciudad del Cabo',\n",
       " 'Johannesburgo, Mpumalanga, Reserva de Moditlo, Ciudad del Cabo , Mozambique',\n",
       " 'Johannesburgo, Mpumalanga, Reserva de Moditlo, Ciudad del Cabo , Mauricio',\n",
       " ...]"
      ]
     },
     "execution_count": 54,
     "metadata": {},
     "output_type": "execute_result"
    }
   ],
   "source": [
    "df_itinerarios.itinerario_modificado_para_dividir.unique().tolist()"
   ]
  },
  {
   "cell_type": "code",
   "execution_count": 55,
   "id": "ecc53aa4",
   "metadata": {},
   "outputs": [],
   "source": [
    "def conversion_itineario_en_lista (valor):\n",
    "    valor = valor.split(',')  # convertir string en lista, separando por comas\n",
    "    valor = [v.strip() for v in valor]  # opcional: quitar espacios extra\n",
    "    return valor"
   ]
  },
  {
   "cell_type": "code",
   "execution_count": 56,
   "id": "84eb27cb",
   "metadata": {},
   "outputs": [
    {
     "data": {
      "application/vnd.microsoft.datawrangler.viewer.v0+json": {
       "columns": [
        {
         "name": "index",
         "rawType": "int64",
         "type": "integer"
        },
        {
         "name": "pais",
         "rawType": "object",
         "type": "string"
        },
        {
         "name": "itinerario_modificado_para_dividir",
         "rawType": "object",
         "type": "string"
        },
        {
         "name": "lista_itinerario",
         "rawType": "object",
         "type": "unknown"
        }
       ],
       "conversionMethod": "pd.DataFrame",
       "ref": "b5c855fd-90ae-4be9-bed9-255e47e86a34",
       "rows": [
        [
         "0",
         "Albania",
         "Tirana, Dürres, Berat, Kruja, Shkodër, Petrovac, Budva, Cetinje , Bar",
         "['Tirana', 'Dürres', 'Berat', 'Kruja', 'Shkodër', 'Petrovac', 'Budva', 'Cetinje', 'Bar']"
        ],
        [
         "1",
         "Alemania",
         "Berlín",
         "['Berlín']"
        ],
        [
         "2",
         "Alemania",
         "Salzburgo, Gmunden, Linz, Melk, Viena, Graz, Hallstatt, St Wolfgang, St Johann in Tirol , Innsbruck",
         "['Salzburgo', 'Gmunden', 'Linz', 'Melk', 'Viena', 'Graz', 'Hallstatt', 'St Wolfgang', 'St Johann in Tirol', 'Innsbruck']"
        ],
        [
         "3",
         "Alemania",
         "Bruselas, Durbuy, Lieja, Aquisgrán, Colonia, Bonn, Königswinter, Coblenza, Boppard, Cochem, Tréveris, Luxemburgo, Dinant, Gante, Brujas, Lovaina, Malinas , Amberes",
         "['Bruselas', 'Durbuy', 'Lieja', 'Aquisgrán', 'Colonia', 'Bonn', 'Königswinter', 'Coblenza', 'Boppard', 'Cochem', 'Tréveris', 'Luxemburgo', 'Dinant', 'Gante', 'Brujas', 'Lovaina', 'Malinas', 'Amberes']"
        ],
        [
         "4",
         "Alemania",
         "sbruck, Cataratas Krimml, Vipiteno, Bresanona, Bolzano, Trento, Marmolada, Canazei, Cortina D’Ampezzo , Brunico",
         "['sbruck', 'Cataratas Krimml', 'Vipiteno', 'Bresanona', 'Bolzano', 'Trento', 'Marmolada', 'Canazei', 'Cortina D’Ampezzo', 'Brunico']"
        ],
        [
         "5",
         "Alemania",
         "Hamburgo, Stade, Bremen, Luneburg, Schwerin, Wismar , Lubeck",
         "['Hamburgo', 'Stade', 'Bremen', 'Luneburg', 'Schwerin', 'Wismar', 'Lubeck']"
        ],
        [
         "6",
         "Alemania",
         "Frankfurt, Baden-Baden, Estrasburgo, Selva Negra, Titisee, Friburgo, lago Constanza, Riquewihr, Colmar , Heidelberg",
         "['Frankfurt', 'Baden-Baden', 'Estrasburgo', 'Selva Negra', 'Titisee', 'Friburgo', 'lago Constanza', 'Riquewihr', 'Colmar', 'Heidelberg']"
        ],
        [
         "7",
         "Argentina",
         "Buenos Aires, El Calafate , Iguazú",
         "['Buenos Aires', 'El Calafate', 'Iguazú']"
        ],
        [
         "8",
         "Argentina",
         "Buenos Aires, Ushuaia, El Calafate , Iguazú",
         "['Buenos Aires', 'Ushuaia', 'El Calafate', 'Iguazú']"
        ],
        [
         "9",
         "Argentina",
         "Buenos Aires, Puerto Madryn, El Calafate , Iguazú",
         "['Buenos Aires', 'Puerto Madryn', 'El Calafate', 'Iguazú']"
        ],
        [
         "10",
         "Argentina",
         "Buenos Aires, El Calafate, Iguazú , Río de Janeiro",
         "['Buenos Aires', 'El Calafate', 'Iguazú', 'Río de Janeiro']"
        ],
        [
         "11",
         "Argentina",
         "Buenos Aires, Ushuaia, El Calafate, Bariloche , Iguazú",
         "['Buenos Aires', 'Ushuaia', 'El Calafate', 'Bariloche', 'Iguazú']"
        ],
        [
         "12",
         "Argentina",
         "Buenos Aires, Puerto Madryn, Ushuaia, El Calafate , Iguazú",
         "['Buenos Aires', 'Puerto Madryn', 'Ushuaia', 'El Calafate', 'Iguazú']"
        ],
        [
         "13",
         "Argentina",
         "Buenos Aires, Bariloche, El Calafate , Iguazú",
         "['Buenos Aires', 'Bariloche', 'El Calafate', 'Iguazú']"
        ],
        [
         "14",
         "Argentina",
         "Buenos Aires, El Calafate, Salta, Cafayate, Quebrada de Humahuaca , Iguazú",
         "['Buenos Aires', 'El Calafate', 'Salta', 'Cafayate', 'Quebrada de Humahuaca', 'Iguazú']"
        ],
        [
         "15",
         "Argentina",
         "Buenos Aires, Puerto Madryn, Ushuaia, El Calafate, Bariloche , Iguazú",
         "['Buenos Aires', 'Puerto Madryn', 'Ushuaia', 'El Calafate', 'Bariloche', 'Iguazú']"
        ],
        [
         "16",
         "Argentina",
         "Buenos Aires, Ushuaia, El Calafate, Puerto Natales, Punta Arenas, Puerto Montt, Puerto Varas, Cruce de Lagos , Bariloche",
         "['Buenos Aires', 'Ushuaia', 'El Calafate', 'Puerto Natales', 'Punta Arenas', 'Puerto Montt', 'Puerto Varas', 'Cruce de Lagos', 'Bariloche']"
        ],
        [
         "17",
         "Argentina",
         "Buenos Aires, Bariloche, Cruce Andino, Puerto Varas, El Calafate , Iguazú",
         "['Buenos Aires', 'Bariloche', 'Cruce Andino', 'Puerto Varas', 'El Calafate', 'Iguazú']"
        ],
        [
         "18",
         "Argentina",
         "Buenos Aires, Puerto Madryn, Ushuaia, El Calafate, Iguazú, Salta , Cafayate",
         "['Buenos Aires', 'Puerto Madryn', 'Ushuaia', 'El Calafate', 'Iguazú', 'Salta', 'Cafayate']"
        ],
        [
         "19",
         "Argentina",
         "Buenos Aires, Ushuaia, Crucero Australis, Punta Arenas, Puerto Natales, Torres del Paine , El Calafate",
         "['Buenos Aires', 'Ushuaia', 'Crucero Australis', 'Punta Arenas', 'Puerto Natales', 'Torres del Paine', 'El Calafate']"
        ],
        [
         "20",
         "Argentina",
         "Buenos Aires, El Calafate, Ushuaia, Crucero Australis, Puerto Natales , Santiago de Chile",
         "['Buenos Aires', 'El Calafate', 'Ushuaia', 'Crucero Australis', 'Puerto Natales', 'Santiago de Chile']"
        ],
        [
         "21",
         "Argentina",
         "Santiago de Chile, Punta Arenas, Crucero Australis, Ushuaia, El Calafate, Puerto Natales , Torres del Paine",
         "['Santiago de Chile', 'Punta Arenas', 'Crucero Australis', 'Ushuaia', 'El Calafate', 'Puerto Natales', 'Torres del Paine']"
        ],
        [
         "22",
         "Argentina",
         "Santiago de Chile, Punta Arenas, Puerto Natales, Crucero Australis, Ushuaia, El Calafate, Buenos Aires , Iguazú",
         "['Santiago de Chile', 'Punta Arenas', 'Puerto Natales', 'Crucero Australis', 'Ushuaia', 'El Calafate', 'Buenos Aires', 'Iguazú']"
        ],
        [
         "23",
         "Argentina",
         "Santiago de Chile, Puerto Natales, Torres del Paine, Crucero Skorpios III, El Calafate, Buenos Aires , Iguazú",
         "['Santiago de Chile', 'Puerto Natales', 'Torres del Paine', 'Crucero Skorpios III', 'El Calafate', 'Buenos Aires', 'Iguazú']"
        ],
        [
         "24",
         "Aruba",
         "Playas de Aruba",
         "['Playas de Aruba']"
        ],
        [
         "25",
         "Aruba",
         "Nueva York , Aruba",
         "['Nueva York', 'Aruba']"
        ],
        [
         "26",
         "Aruba",
         "Aruba",
         "['Aruba']"
        ],
        [
         "27",
         "Australia",
         "Adelaida, Robe, Port Campbell, Melbourne, P N Wilsons Promontory, Lakes Entrance, Mallacoota, Narooma, Jervis Bay , Sydney",
         "['Adelaida', 'Robe', 'Port Campbell', 'Melbourne', 'P N Wilsons Promontory', 'Lakes Entrance', 'Mallacoota', 'Narooma', 'Jervis Bay', 'Sydney']"
        ],
        [
         "28",
         "Australia",
         "Sydney, Cairns , Melbourne",
         "['Sydney', 'Cairns', 'Melbourne']"
        ],
        [
         "29",
         "Australia",
         "Melbourne, Cairns , Sydney",
         "['Melbourne', 'Cairns', 'Sydney']"
        ],
        [
         "30",
         "Australia",
         "Sydney, Ayers Rock , Cairns",
         "['Sydney', 'Ayers Rock', 'Cairns']"
        ],
        [
         "31",
         "Australia",
         "Sydney, Cairns, Townsville, Airlie Beach, Hervey Bay , Brisbane",
         "['Sydney', 'Cairns', 'Townsville', 'Airlie Beach', 'Hervey Bay', 'Brisbane']"
        ],
        [
         "32",
         "Australia",
         "Sydney, Cairns, Darwin , PN Kakadu",
         "['Sydney', 'Cairns', 'Darwin', 'PN Kakadu']"
        ],
        [
         "33",
         "Australia",
         "Sydney, Ayers Rock, Cairns , Melbourne",
         "['Sydney', 'Ayers Rock', 'Cairns', 'Melbourne']"
        ],
        [
         "34",
         "Australia",
         "Sydney, Hunter Valley, Port Macquarie, Coffs Harbour, Byron Bay, Gold Coast, Brisbane, Hervey Bay, Bundaberg, Rockhampton, Mackay, Airlie Beach, Townsville , Cairns",
         "['Sydney', 'Hunter Valley', 'Port Macquarie', 'Coffs Harbour', 'Byron Bay', 'Gold Coast', 'Brisbane', 'Hervey Bay', 'Bundaberg', 'Rockhampton', 'Mackay', 'Airlie Beach', 'Townsville', 'Cairns']"
        ],
        [
         "35",
         "Australia",
         "Melbourne, Adelaida, Kangaroo Island, Cairns , Sydney",
         "['Melbourne', 'Adelaida', 'Kangaroo Island', 'Cairns', 'Sydney']"
        ],
        [
         "36",
         "Australia",
         "Sydney, Ayers Rock, Alice Springs, Adelaida, Kangaroo Island , Cairns",
         "['Sydney', 'Ayers Rock', 'Alice Springs', 'Adelaida', 'Kangaroo Island', 'Cairns']"
        ],
        [
         "37",
         "Australia",
         "Melbourne, Apollo Bay, Port Fairy, PN de Grampians, Robe, Barossa Valley, Adelaida, Alice Springs, Ayers Rock, Cairns , Sydney",
         "['Melbourne', 'Apollo Bay', 'Port Fairy', 'PN de Grampians', 'Robe', 'Barossa Valley', 'Adelaida', 'Alice Springs', 'Ayers Rock', 'Cairns', 'Sydney']"
        ],
        [
         "38",
         "Australia",
         "Auckland, Waitomo, Rotorua, Sydney, Cairns , Melbourne",
         "['Auckland', 'Waitomo', 'Rotorua', 'Sydney', 'Cairns', 'Melbourne']"
        ],
        [
         "39",
         "Australia",
         "Bangkok, Sydney, Auckland, Tahití, Moorea , Los Ángeles",
         "['Bangkok', 'Sydney', 'Auckland', 'Tahití', 'Moorea', 'Los Ángeles']"
        ],
        [
         "40",
         "Australia",
         "Auckland, Waitomo, Rotorua, Christchurch, Lake Tekapo, Te Anau, Queenstown, Milford Sound, Sydney, Ayers Rock , Cairns",
         "['Auckland', 'Waitomo', 'Rotorua', 'Christchurch', 'Lake Tekapo', 'Te Anau', 'Queenstown', 'Milford Sound', 'Sydney', 'Ayers Rock', 'Cairns']"
        ],
        [
         "41",
         "Austria",
         "Viena, Melk , Wachau",
         "['Viena', 'Melk', 'Wachau']"
        ],
        [
         "42",
         "Austria",
         "Salzburgo, Gmunden, Linz, Melk, Viena, Graz, Hallstatt, St Wolfgang, St Johann in Tirol , Innsbruck",
         "['Salzburgo', 'Gmunden', 'Linz', 'Melk', 'Viena', 'Graz', 'Hallstatt', 'St Wolfgang', 'St Johann in Tirol', 'Innsbruck']"
        ],
        [
         "43",
         "Austria",
         "sbruck, Cataratas Krimml, Vipiteno, Bresanona, Bolzano, Trento, Marmolada, Canazei, Cortina D’Ampezzo , Brunico",
         "['sbruck', 'Cataratas Krimml', 'Vipiteno', 'Bresanona', 'Bolzano', 'Trento', 'Marmolada', 'Canazei', 'Cortina D’Ampezzo', 'Brunico']"
        ],
        [
         "44",
         "Austria",
         "Viena, Melk, Salzburgo, Hallstat, Tratzberg, Hall in Tirol , Innsbruck",
         "['Viena', 'Melk', 'Salzburgo', 'Hallstat', 'Tratzberg', 'Hall in Tirol', 'Innsbruck']"
        ],
        [
         "45",
         "Austria",
         "Praga, Bohemia, Karlovy Vary, Viena, Bratislava , Budapest",
         "['Praga', 'Bohemia', 'Karlovy Vary', 'Viena', 'Bratislava', 'Budapest']"
        ],
        [
         "46",
         "Austria",
         "Budapest, Bratislava, Viena, Karlovy Vary, Bohemia , Praga",
         "['Budapest', 'Bratislava', 'Viena', 'Karlovy Vary', 'Bohemia', 'Praga']"
        ],
        [
         "47",
         "Austria",
         "Praga, Karlovy Vary, Kutna Hora, Viena, Melk , Wachau",
         "['Praga', 'Karlovy Vary', 'Kutna Hora', 'Viena', 'Melk', 'Wachau']"
        ],
        [
         "48",
         "Austria",
         "Budapest, Bratislava , Viena",
         "['Budapest', 'Bratislava', 'Viena']"
        ],
        [
         "49",
         "Austria",
         "Budapest, Bratislava, valle del Wachau, Dürnstein, Linz , Viena",
         "['Budapest', 'Bratislava', 'valle del Wachau', 'Dürnstein', 'Linz', 'Viena']"
        ]
       ],
       "shape": {
        "columns": 3,
        "rows": 1397
       }
      },
      "text/html": [
       "<div>\n",
       "<style scoped>\n",
       "    .dataframe tbody tr th:only-of-type {\n",
       "        vertical-align: middle;\n",
       "    }\n",
       "\n",
       "    .dataframe tbody tr th {\n",
       "        vertical-align: top;\n",
       "    }\n",
       "\n",
       "    .dataframe thead th {\n",
       "        text-align: right;\n",
       "    }\n",
       "</style>\n",
       "<table border=\"1\" class=\"dataframe\">\n",
       "  <thead>\n",
       "    <tr style=\"text-align: right;\">\n",
       "      <th></th>\n",
       "      <th>pais</th>\n",
       "      <th>itinerario_modificado_para_dividir</th>\n",
       "      <th>lista_itinerario</th>\n",
       "    </tr>\n",
       "  </thead>\n",
       "  <tbody>\n",
       "    <tr>\n",
       "      <th>0</th>\n",
       "      <td>Albania</td>\n",
       "      <td>Tirana, Dürres, Berat, Kruja, Shkodër, Petrova...</td>\n",
       "      <td>[Tirana, Dürres, Berat, Kruja, Shkodër, Petrov...</td>\n",
       "    </tr>\n",
       "    <tr>\n",
       "      <th>1</th>\n",
       "      <td>Alemania</td>\n",
       "      <td>Berlín</td>\n",
       "      <td>[Berlín]</td>\n",
       "    </tr>\n",
       "    <tr>\n",
       "      <th>2</th>\n",
       "      <td>Alemania</td>\n",
       "      <td>Salzburgo, Gmunden, Linz, Melk, Viena, Graz, H...</td>\n",
       "      <td>[Salzburgo, Gmunden, Linz, Melk, Viena, Graz, ...</td>\n",
       "    </tr>\n",
       "    <tr>\n",
       "      <th>3</th>\n",
       "      <td>Alemania</td>\n",
       "      <td>Bruselas, Durbuy, Lieja, Aquisgrán, Colonia, B...</td>\n",
       "      <td>[Bruselas, Durbuy, Lieja, Aquisgrán, Colonia, ...</td>\n",
       "    </tr>\n",
       "    <tr>\n",
       "      <th>4</th>\n",
       "      <td>Alemania</td>\n",
       "      <td>sbruck, Cataratas Krimml, Vipiteno, Bresanona,...</td>\n",
       "      <td>[sbruck, Cataratas Krimml, Vipiteno, Bresanona...</td>\n",
       "    </tr>\n",
       "    <tr>\n",
       "      <th>...</th>\n",
       "      <td>...</td>\n",
       "      <td>...</td>\n",
       "      <td>...</td>\n",
       "    </tr>\n",
       "    <tr>\n",
       "      <th>1392</th>\n",
       "      <td>Georgia</td>\n",
       "      <td>Erevan, Etchmiadzin, Zvartnots, Sevan, Dilijan...</td>\n",
       "      <td>[Erevan, Etchmiadzin, Zvartnots, Sevan, Dilija...</td>\n",
       "    </tr>\n",
       "    <tr>\n",
       "      <th>1393</th>\n",
       "      <td>Laponia</td>\n",
       "      <td>Laponia</td>\n",
       "      <td>[Laponia]</td>\n",
       "    </tr>\n",
       "    <tr>\n",
       "      <th>1394</th>\n",
       "      <td>Estados Unidos</td>\n",
       "      <td>Los Ángeles, Las Vegas, Gran Cañón, Monument V...</td>\n",
       "      <td>[Los Ángeles, Las Vegas, Gran Cañón, Monument ...</td>\n",
       "    </tr>\n",
       "    <tr>\n",
       "      <th>1395</th>\n",
       "      <td>Finlandia</td>\n",
       "      <td>Levi</td>\n",
       "      <td>[Levi]</td>\n",
       "    </tr>\n",
       "    <tr>\n",
       "      <th>1396</th>\n",
       "      <td>Laponia</td>\n",
       "      <td>Levi</td>\n",
       "      <td>[Levi]</td>\n",
       "    </tr>\n",
       "  </tbody>\n",
       "</table>\n",
       "<p>1397 rows × 3 columns</p>\n",
       "</div>"
      ],
      "text/plain": [
       "                pais                 itinerario_modificado_para_dividir  \\\n",
       "0            Albania  Tirana, Dürres, Berat, Kruja, Shkodër, Petrova...   \n",
       "1           Alemania                                             Berlín   \n",
       "2           Alemania  Salzburgo, Gmunden, Linz, Melk, Viena, Graz, H...   \n",
       "3           Alemania  Bruselas, Durbuy, Lieja, Aquisgrán, Colonia, B...   \n",
       "4           Alemania  sbruck, Cataratas Krimml, Vipiteno, Bresanona,...   \n",
       "...              ...                                                ...   \n",
       "1392         Georgia  Erevan, Etchmiadzin, Zvartnots, Sevan, Dilijan...   \n",
       "1393         Laponia                                            Laponia   \n",
       "1394  Estados Unidos  Los Ángeles, Las Vegas, Gran Cañón, Monument V...   \n",
       "1395       Finlandia                                               Levi   \n",
       "1396         Laponia                                               Levi   \n",
       "\n",
       "                                       lista_itinerario  \n",
       "0     [Tirana, Dürres, Berat, Kruja, Shkodër, Petrov...  \n",
       "1                                              [Berlín]  \n",
       "2     [Salzburgo, Gmunden, Linz, Melk, Viena, Graz, ...  \n",
       "3     [Bruselas, Durbuy, Lieja, Aquisgrán, Colonia, ...  \n",
       "4     [sbruck, Cataratas Krimml, Vipiteno, Bresanona...  \n",
       "...                                                 ...  \n",
       "1392  [Erevan, Etchmiadzin, Zvartnots, Sevan, Dilija...  \n",
       "1393                                          [Laponia]  \n",
       "1394  [Los Ángeles, Las Vegas, Gran Cañón, Monument ...  \n",
       "1395                                             [Levi]  \n",
       "1396                                             [Levi]  \n",
       "\n",
       "[1397 rows x 3 columns]"
      ]
     },
     "execution_count": 56,
     "metadata": {},
     "output_type": "execute_result"
    }
   ],
   "source": [
    "df_itinerarios['lista_itinerario']= df_itinerarios.itinerario_modificado_para_dividir.apply(conversion_itineario_en_lista)\n",
    "df_itinerarios"
   ]
  },
  {
   "cell_type": "markdown",
   "id": "fe273b53",
   "metadata": {},
   "source": [
    "## Extracción de la ciudad en aquellos itinerarios que solo aparecen 1 vez:"
   ]
  },
  {
   "cell_type": "code",
   "execution_count": null,
   "id": "c0e02993",
   "metadata": {},
   "outputs": [],
   "source": [
    "dict_pais_correcto_itinerario = {'itinerario_modificado_para_dividir':[],'lista_itinerario':[], 'pais_correcto':[]}\n",
    "for itinerario_modificado in df_itinerarios.itinerario_modificado_para_dividir.unique().tolist():\n",
    "    #print(itinerario)\n",
    "    df_filtrado = df_itinerarios[df_itinerarios.itinerario_modificado_para_dividir == itinerario_modificado]\n",
    "    #display(df_filtrado)\n",
    "    if len(df_filtrado.pais.unique())==1:\n",
    "        lista_itinerario = df_filtrado['lista_itinerario'].tolist()[0]\n",
    "        dict_pais_correcto_itinerario['itinerario_modificado_para_dividir'].append(itinerario_modificado)\n",
    "        dict_pais_correcto_itinerario['lista_itinerario'].append(lista_itinerario)\n",
    "        dict_pais_correcto_itinerario['pais_correcto'].append(df_filtrado.pais.unique()[0])\n",
    "df_pais_correcto_itinerario=pd.DataFrame(dict_pais_correcto_itinerario)\n",
    "df_pais_correcto_itinerario"
   ]
  },
  {
   "cell_type": "code",
   "execution_count": null,
   "id": "4ba7e1bb",
   "metadata": {},
   "outputs": [],
   "source": [
    "#divido las ciudades para asignar el pais a las ciudades:\n",
    "df_pais_correcto_itinerario= df_pais_correcto_itinerario.explode('lista_itinerario') # Explode para deshacer las listas en filas\n",
    "df_pais_correcto_itinerario = df_pais_correcto_itinerario.rename(columns={'lista_itinerario': 'ciudad'}) # Renombro la columna a ciudad\n",
    "df_pais_correcto_itinerario['ciudad'] = df_pais_correcto_itinerario['ciudad'].str.replace(r'\\s+', ' ', regex=True).str.strip() #eliminar espacios de delante y duplicados entre dos palabras\n",
    "df_pais_correcto_itinerario\n"
   ]
  },
  {
   "cell_type": "code",
   "execution_count": null,
   "id": "9b17fbfa",
   "metadata": {},
   "outputs": [],
   "source": [
    "#compruebo si existen ciudades duplicadas:\n",
    "df_ciudades_web = df_pais_correcto_itinerario[['ciudad','pais_correcto']]\n",
    "df_ciudades= df_ciudades_web.drop_duplicates()\n",
    "df_ciudades"
   ]
  },
  {
   "cell_type": "code",
   "execution_count": null,
   "id": "770ca18c",
   "metadata": {},
   "outputs": [],
   "source": [
    "for ciudad in df_ciudades.ciudad.unique():\n",
    "    df_filtrado = df_ciudades[df_ciudades.ciudad == ciudad]\n",
    "    if len(df_filtrado.pais_correcto.unique()) >1:\n",
    "        print(f'La ciudad {ciudad} aparece en los siguientes paises{df_filtrado.pais_correcto.unique()}')\n"
   ]
  },
  {
   "cell_type": "markdown",
   "id": "7d7fb711",
   "metadata": {},
   "source": [
    "Hay algunas ciudades duplicadas, pero algunas de ellas sí que pertenecen a diferentes paises, por tanto lo dejo como está"
   ]
  },
  {
   "cell_type": "markdown",
   "id": "22d3ad4f",
   "metadata": {},
   "source": [
    "## Extracción de la ciudad en los itinerarios que aparecen en más de 1 pais"
   ]
  },
  {
   "cell_type": "code",
   "execution_count": null,
   "id": "49b3ae02",
   "metadata": {},
   "outputs": [],
   "source": [
    "df_itinerarios_duplicados_en_paises= df_itinerarios[\n",
    "    ~df_itinerarios.itinerario_modificado_para_dividir.isin(df_pais_correcto_itinerario.itinerario_modificado_para_dividir.tolist())]"
   ]
  },
  {
   "cell_type": "code",
   "execution_count": null,
   "id": "dc50e6e3",
   "metadata": {},
   "outputs": [],
   "source": [
    "df_itinerarios_duplicados_en_paises= df_itinerarios_duplicados_en_paises.explode('lista_itinerario') # Explode para deshacer las listas en filas\n",
    "df_itinerarios_duplicados_en_paises = df_itinerarios_duplicados_en_paises.rename(columns={'lista_itinerario': 'ciudad'}) # Renombro la columna a ciudad\n",
    "df_itinerarios_duplicados_en_paises['ciudad'] = df_itinerarios_duplicados_en_paises['ciudad'].str.replace(r'\\s+', ' ', regex=True).str.strip() #eliminar espacios de delante y duplicados entre dos palabras\n",
    "df_itinerarios_duplicados_en_paises=df_itinerarios_duplicados_en_paises.reset_index(drop=True)"
   ]
  },
  {
   "cell_type": "code",
   "execution_count": null,
   "id": "6dba6924",
   "metadata": {},
   "outputs": [],
   "source": [
    "df_itinerarios_duplicados_en_paises['pais_correcto'] = None"
   ]
  },
  {
   "cell_type": "code",
   "execution_count": null,
   "id": "db9edd0c",
   "metadata": {},
   "outputs": [],
   "source": [
    "ex.incorporar_información_df_original(df_itinerarios_duplicados_en_paises, df_pais_correcto_itinerario,'ciudad','pais_correcto', 'pais_correcto' )"
   ]
  },
  {
   "cell_type": "code",
   "execution_count": null,
   "id": "e27bad8c",
   "metadata": {},
   "outputs": [],
   "source": [
    "df_itinerarios_duplicados_en_paises"
   ]
  },
  {
   "cell_type": "code",
   "execution_count": null,
   "id": "4477ad1a",
   "metadata": {},
   "outputs": [],
   "source": [
    "df_itinerarios_duplicados_en_paises.info()"
   ]
  },
  {
   "cell_type": "code",
   "execution_count": null,
   "id": "76076c42",
   "metadata": {},
   "outputs": [],
   "source": [
    "df_itinerarios_duplicados_sin_pais= df_itinerarios_duplicados_en_paises[pd.isnull(df_itinerarios_duplicados_en_paises.pais_correcto)].reset_index(drop=True)\n",
    "df_itinerarios_duplicados_sin_pais"
   ]
  },
  {
   "cell_type": "code",
   "execution_count": null,
   "id": "92c2f771",
   "metadata": {},
   "outputs": [],
   "source": [
    "lista_ciudades_sin_paises = df_itinerarios_duplicados_sin_pais.ciudad.unique().tolist()\n",
    "len(lista_ciudades_sin_paises)\n"
   ]
  },
  {
   "cell_type": "code",
   "execution_count": null,
   "id": "da4ba13a",
   "metadata": {},
   "outputs": [],
   "source": [
    "df_itinerarios_duplicados_en_paises"
   ]
  },
  {
   "cell_type": "code",
   "execution_count": null,
   "id": "fb3a011c",
   "metadata": {},
   "outputs": [],
   "source": [
    "#obtengo los paises de las ciudades que aparecen en itinerarios en varios paises:\n",
    "lista_ciudades_sin_paises = df_itinerarios_duplicados_en_paises[pd.isnull(df_itinerarios_duplicados_en_paises.pais_correcto)].reset_index(drop=True).ciudad.unique().tolist()\n",
    "print(len(lista_ciudades_sin_paises))\n",
    "if len(lista_ciudades_sin_paises)>0:\n",
    "    #obtengo los datos ya obtenidos de la api de geolocalización\n",
    "    df_geolocalizacion_correcta_anterior= pd.read_pickle(ARCHIVO_GUARDAR_ESCRAPEO_API_OPENCAGE).reset_index(drop=True)\n",
    "    df_geolocalizacion_correcta_anterior_filtrado= df_geolocalizacion_correcta_anterior[df_geolocalizacion_correcta_anterior['ciudad'].notna()]\n",
    "    #incorporo la información en la tabla continentes original:\n",
    "    ex.incorporar_información_df_original(df_itinerarios_duplicados_en_paises, df_geolocalizacion_correcta_anterior_filtrado,\n",
    "                                      'ciudad', 'pais_api', 'pais_correcto',\n",
    "                                      pd.isnull(df_itinerarios_duplicados_en_paises.pais_correcto))\n",
    "    lista_ciudades_sin_paises= df_itinerarios_duplicados_en_paises[pd.isnull(df_itinerarios_duplicados_en_paises.pais_correcto)].reset_index(drop=True).ciudad.unique().tolist()\n",
    "    print(len(lista_ciudades_sin_paises))\n",
    "    if len(lista_ciudades_sin_paises)>0:\n",
    "        #obtengo los datos de la api\n",
    "        df_paises_correctos = pd.DataFrame()\n",
    "        df_paises_correctos['ciudad']=lista_ciudades_sin_paises\n",
    "        df_paises_correctos[['continente_api','pais_api', 'latitud', 'longitud']]=(\n",
    "            df_paises_correctos.apply(lambda fila:pd.Series(\n",
    "                tr.obtener_pais_continente_lat_long(fila['ciudad'], API_KEY)), axis=1))\n",
    "        #sustituyo los valores dados en Inglés por los valores en Español\n",
    "        df_paises_correctos.continente_api= df_paises_correctos.continente_api.replace({'North America':'América',\n",
    "                                                        'South America': 'América',\n",
    "                                                        'Africa': 'África',\n",
    "                                                        'Europe': 'Europa',\n",
    "                                                        'Oceania':'Oceanía'})\n",
    "        ex.incorporar_información_df_original(df_itinerarios_duplicados_en_paises, df_paises_correctos,\n",
    "                                        'ciudad', 'pais_api', 'pais_correcto', \n",
    "                                        pd.isnull(df_itinerarios_duplicados_en_paises.pais_correcto))\n",
    "        df_agrupado_geolocalizacion_api = pd.concat([df_geolocalizacion_correcta_anterior,df_paises_correctos],axis=0) #uno los 2 DF de la api de geolocalizacion\n",
    "    else:\n",
    "        df_agrupado_geolocalizacion_api=df_geolocalizacion_correcta_anterior\n",
    "    df_agrupado_geolocalizacion_api.to_pickle(ARCHIVO_GUARDAR_ESCRAPEO_API_OPENCAGE)"
   ]
  },
  {
   "cell_type": "code",
   "execution_count": null,
   "id": "901ac227",
   "metadata": {},
   "outputs": [],
   "source": [
    "df_agrupado_geolocalizacion_api"
   ]
  },
  {
   "cell_type": "markdown",
   "id": "a5d9d35c",
   "metadata": {},
   "source": [
    "## Creo el df itinerario para guardarlo para la posterior fase de carga"
   ]
  },
  {
   "cell_type": "code",
   "execution_count": null,
   "id": "e2d52d76",
   "metadata": {},
   "outputs": [],
   "source": [
    "df_pais_correcto_itinerario"
   ]
  },
  {
   "cell_type": "code",
   "execution_count": null,
   "id": "e5fb6375",
   "metadata": {},
   "outputs": [],
   "source": [
    "df_itinerarios_duplicados_en_paises = df_itinerarios_duplicados_en_paises[['itinerario_modificado_para_dividir','ciudad','pais_correcto']]\n",
    "df_itinerarios_duplicados_en_paises"
   ]
  },
  {
   "cell_type": "code",
   "execution_count": null,
   "id": "b1ce6a88",
   "metadata": {},
   "outputs": [],
   "source": [
    "df_itinerario_ciudades = pd.concat([df_pais_correcto_itinerario,df_itinerarios_duplicados_en_paises], axis=0)\n",
    "df_itinerario_ciudades"
   ]
  },
  {
   "cell_type": "code",
   "execution_count": null,
   "id": "c5d98e55",
   "metadata": {},
   "outputs": [],
   "source": [
    "#Reemplazo los valores que al unirlo con el DF de escrapeo da lugar a duplicados:\n",
    "df_itinerario_ciudades.pais_correcto= df_itinerario_ciudades.pais_correcto.replace(\n",
    "    {'Estados Unidos de América':'Estados Unidos'})"
   ]
  },
  {
   "cell_type": "markdown",
   "id": "5b786b92",
   "metadata": {},
   "source": [
    "# Creo una formula para dividir las ciudades desde el DF original y asignarle el valor del pais de la página web solo cuando el pais coincida con el de la api"
   ]
  },
  {
   "cell_type": "code",
   "execution_count": null,
   "id": "682b5dd5",
   "metadata": {},
   "outputs": [],
   "source": [
    "ARCHIVO_GUARDAR_ITINERARIOS_PROCESADOS=os.getenv('ARCHIVO_GUARDAR_ITINERARIOS_PROCESADOS')\n",
    "df_itinerario_ciudades.to_pickle(ARCHIVO_GUARDAR_ITINERARIOS_PROCESADOS)"
   ]
  },
  {
   "cell_type": "code",
   "execution_count": 7,
   "id": "97b0f543",
   "metadata": {},
   "outputs": [],
   "source": [
    "ARCHIVO_GUARDAR_TOTAL_CIUDADES_API = os.getenv('ARCHIVO_GUARDAR_TOTAL_CIUDADES_API')\n",
    "API_KEY = os.getenv('API_KEY')\n",
    "ARCHIVO_EXTRACCION_API_DUPLICADOS = os.getenv('ARCHIVO_EXTRACCION_API_DUPLICADOS')\n",
    "ARCHIVO_GUARDAR_ESCRAPEO_VIAJES_PROCESADOS = os.getenv('ARCHIVO_GUARDAR_ESCRAPEO_VIAJES_PROCESADOS')\n"
   ]
  },
  {
   "cell_type": "code",
   "execution_count": 8,
   "id": "1376e45c",
   "metadata": {},
   "outputs": [],
   "source": [
    "df_viajes_agrupados = pd.read_pickle(ARCHIVO_GUARDAR_ESCRAPEO_VIAJES_PROCESADOS)"
   ]
  },
  {
   "cell_type": "code",
   "execution_count": 9,
   "id": "cc18aeab",
   "metadata": {},
   "outputs": [
    {
     "data": {
      "application/vnd.microsoft.datawrangler.viewer.v0+json": {
       "columns": [
        {
         "name": "index",
         "rawType": "int64",
         "type": "integer"
        },
        {
         "name": "pais",
         "rawType": "object",
         "type": "string"
        },
        {
         "name": "nombre_viaje",
         "rawType": "object",
         "type": "string"
        },
        {
         "name": "duracion_viaje",
         "rawType": "object",
         "type": "string"
        },
        {
         "name": "itinerario",
         "rawType": "object",
         "type": "string"
        },
        {
         "name": "precio",
         "rawType": "int64",
         "type": "integer"
        },
        {
         "name": "url_viaje",
         "rawType": "object",
         "type": "string"
        },
        {
         "name": "fecha_escrapeo",
         "rawType": "datetime64[ns]",
         "type": "datetime"
        },
        {
         "name": "en_ultimo_escrapeo",
         "rawType": "object",
         "type": "string"
        },
        {
         "name": "itinerario_modificado_para_dividir",
         "rawType": "object",
         "type": "string"
        }
       ],
       "conversionMethod": "pd.DataFrame",
       "ref": "a214e0f8-f630-4b90-879c-a7f210367346",
       "rows": [
        [
         "0",
         "Albania",
         "Albania y Montenegro",
         "8 Días / 7 Noches",
         "Tirana, Dürres, Berat, Kruja, Shkodër, Petrovac, Budva, Cetinje y Bar",
         "1755",
         "https://es.tui.com/viaje/albania-y-montenegro",
         "2025-04-07 00:00:00",
         "Si",
         "Tirana, Dürres, Berat, Kruja, Shkodër, Petrovac, Budva, Cetinje , Bar"
        ],
        [
         "1",
         "Alemania",
         "Berlín",
         "4 Días / 3 Noches",
         "Berlín",
         "708",
         "https://viajeonline.es.tui.com/es/idea/14630257/berlin",
         "2025-04-07 00:00:00",
         "Si",
         "Berlín"
        ],
        [
         "2",
         "Alemania",
         "Fly & Drive Austria, Entre Lagos y Montañas",
         "8 Días / 7 Noches",
         "Salzburgo, Gmunden, Linz, Melk, Viena, Graz, Hallstatt, St Wolfgang, St Johann in Tirol e Innsbruck",
         "827",
         "https://viajeonline.es.tui.com/es/idea/7897512/fly-drive-austria-entre-lagos-y-montanas-",
         "2025-04-07 00:00:00",
         "Si",
         "Salzburgo, Gmunden, Linz, Melk, Viena, Graz, Hallstatt, St Wolfgang, St Johann in Tirol , Innsbruck"
        ],
        [
         "3",
         "Alemania",
         "Fly & Drive Carlomagno a su aire",
         "10 Días / 9 Noches",
         "Bruselas, Durbuy, Lieja, Aquisgrán, Colonia, Bonn, Königswinter, Coblenza, Boppard, Cochem, Tréveris, Luxemburgo, Dinant, Gante, Brujas, Lovaina, Malinas y Amberes",
         "857",
         "https://viajeonline.es.tui.com/es/idea/8404511/-fly-drive-carlomagno-a-su-aire?tripId=2",
         "2025-04-07 00:00:00",
         "Si",
         "Bruselas, Durbuy, Lieja, Aquisgrán, Colonia, Bonn, Königswinter, Coblenza, Boppard, Cochem, Tréveris, Luxemburgo, Dinant, Gante, Brujas, Lovaina, Malinas , Amberes"
        ],
        [
         "4",
         "Alemania",
         "Fly & Drive Tirol al Completo",
         "8 Días / 7 Noches",
         "sbruck, Cataratas Krimml, Vipiteno, Bresanona, Bolzano, Trento, Marmolada, Canazei, Cortina D’Ampezzo y Brunico",
         "894",
         "https://viajeonline.es.tui.com/es/idea/7906930/-fly-drive-tirol-al-completo-",
         "2025-04-07 00:00:00",
         "Si",
         "sbruck, Cataratas Krimml, Vipiteno, Bresanona, Bolzano, Trento, Marmolada, Canazei, Cortina D’Ampezzo , Brunico"
        ],
        [
         "5",
         "Alemania",
         "Fly & Drive Ciudades Hanseáticas",
         "8 Días / 7 Noches",
         "Hamburgo, Stade, Bremen, Luneburg, Schwerin, Wismar y Lubeck",
         "959",
         "https://viajeonline.es.tui.com/es/idea/21553157/-fly-drive-ciudades-hanseaticas-a-su-aire?tripId=9",
         "2025-04-07 00:00:00",
         "Si",
         "Hamburgo, Stade, Bremen, Luneburg, Schwerin, Wismar , Lubeck"
        ],
        [
         "6",
         "Alemania",
         "Alsacia y Selva Negra",
         "8 Días / 7 Noches",
         "Frankfurt, Baden-Baden, Estrasburgo, Selva Negra, Titisee, Friburgo, lago Constanza, Riquewihr, Colmar y Heidelberg",
         "1735",
         "https://es.tui.com/viaje/alsacia-y-selva-negra",
         "2025-04-07 00:00:00",
         "Si",
         "Frankfurt, Baden-Baden, Estrasburgo, Selva Negra, Titisee, Friburgo, lago Constanza, Riquewihr, Colmar , Heidelberg"
        ],
        [
         "7",
         "Argentina",
         "Triángulo Argentino",
         "10 Días / 7 Noches",
         "Buenos Aires, El Calafate e Iguazú",
         "2265",
         "https://es.tui.com/viaje/triangulo-argentino",
         "2025-04-07 00:00:00",
         "Si",
         "Buenos Aires, El Calafate , Iguazú"
        ],
        [
         "8",
         "Argentina",
         "Patagonia a tu alcance",
         "12 Días / 9 Noches",
         "Buenos Aires, Ushuaia, El Calafate e Iguazú",
         "2695",
         "https://es.tui.com/viaje/patagonia-a-tu-alcance",
         "2025-04-07 00:00:00",
         "Si",
         "Buenos Aires, Ushuaia, El Calafate , Iguazú"
        ],
        [
         "9",
         "Argentina",
         "Ballenas, Glaciares y Cataratas",
         "12 Días / 9 Noches",
         "Buenos Aires, Puerto Madryn, El Calafate e Iguazú",
         "2755",
         "https://es.tui.com/viaje/ballenas-glaciares-y-cataratas",
         "2025-04-07 00:00:00",
         "Si",
         "Buenos Aires, Puerto Madryn, El Calafate , Iguazú"
        ],
        [
         "10",
         "Argentina",
         "Buenos Aires, El Calafate e Iguazú",
         "11 Días / 8 Noches",
         "Buenos Aires, El Calafate e Iguazú",
         "2865",
         "https://es.tui.com/viaje/buenos-aires-el-calafate-e-iguazu",
         "2025-04-07 00:00:00",
         "Si",
         "Buenos Aires, El Calafate , Iguazú"
        ],
        [
         "11",
         "Argentina",
         "Argentina y Brasil",
         "14 Días / 11 Noches",
         "Buenos Aires, El Calafate, Iguazú y Río de Janeiro",
         "2965",
         "https://es.tui.com/viaje/argentina-y-brasil",
         "2025-04-07 00:00:00",
         "Si",
         "Buenos Aires, El Calafate, Iguazú , Río de Janeiro"
        ],
        [
         "12",
         "Argentina",
         "Argentina Mágica",
         "14 Días / 11 Noches",
         "Buenos Aires, Ushuaia, El Calafate, Bariloche e Iguazú",
         "3055",
         "https://es.tui.com/viaje/argentina-magica",
         "2025-04-07 00:00:00",
         "Si",
         "Buenos Aires, Ushuaia, El Calafate, Bariloche , Iguazú"
        ],
        [
         "13",
         "Argentina",
         "Argentina a tu alcance",
         "14 Días / 11 Noches",
         "Buenos Aires, Puerto Madryn, Ushuaia, El Calafate e Iguazú",
         "3150",
         "https://es.tui.com/viaje/argentina-a-tu-alcance",
         "2025-04-07 00:00:00",
         "Si",
         "Buenos Aires, Puerto Madryn, Ushuaia, El Calafate , Iguazú"
        ],
        [
         "14",
         "Argentina",
         "Lagos, Glaciares y Cataratas",
         "13 Días / 10 Noches",
         "Buenos Aires, Bariloche, El Calafate e Iguazú",
         "3295",
         "https://es.tui.com/viaje/lagos-glaciares-y-cataratas",
         "2025-04-07 00:00:00",
         "Si",
         "Buenos Aires, Bariloche, El Calafate , Iguazú"
        ],
        [
         "15",
         "Argentina",
         "Argentina Clásica",
         "13 Días / 10 Noches",
         "Buenos Aires, Ushuaia, El Calafate e Iguazú",
         "3325",
         "https://es.tui.com/viaje/argentina-clasica",
         "2025-04-07 00:00:00",
         "Si",
         "Buenos Aires, Ushuaia, El Calafate , Iguazú"
        ],
        [
         "16",
         "Argentina",
         "Contrastes de Argentina",
         "13 Días / 10 Noches",
         "Buenos Aires, El Calafate, Salta, Cafayate, Quebrada de Humahuaca e Iguazú",
         "3395",
         "https://es.tui.com/viaje/contrastes-de-argentina",
         "2025-04-07 00:00:00",
         "Si",
         "Buenos Aires, El Calafate, Salta, Cafayate, Quebrada de Humahuaca , Iguazú"
        ],
        [
         "17",
         "Argentina",
         "Argentina Espectacular",
         "16 Días / 13 Noches",
         "Buenos Aires, Puerto Madryn, Ushuaia, El Calafate, Bariloche e Iguazú",
         "3495",
         "https://es.tui.com/viaje/argentina-espectacular",
         "2025-04-07 00:00:00",
         "Si",
         "Buenos Aires, Puerto Madryn, Ushuaia, El Calafate, Bariloche , Iguazú"
        ],
        [
         "18",
         "Argentina",
         "Patagonia Fascinante",
         "15 Días / 12 Noches",
         "Buenos Aires, Ushuaia, El Calafate, Bariloche e Iguazú",
         "3695",
         "https://es.tui.com/viaje/patagonia-fascinante",
         "2025-04-07 00:00:00",
         "Si",
         "Buenos Aires, Ushuaia, El Calafate, Bariloche , Iguazú"
        ],
        [
         "19",
         "Argentina",
         "Patagonia con Iguazú",
         "15 Días / 12 Noches",
         "Buenos Aires, Puerto Madryn, Ushuaia, El Calafate e Iguazú",
         "3725",
         "https://es.tui.com/viaje/patagonia-con-iguazu",
         "2025-04-07 00:00:00",
         "Si",
         "Buenos Aires, Puerto Madryn, Ushuaia, El Calafate , Iguazú"
        ],
        [
         "20",
         "Argentina",
         "Lo Mejor de Argentina",
         "17 Días / 14 Noches",
         "Buenos Aires, Puerto Madryn, Ushuaia, El Calafate, Bariloche e Iguazú",
         "4025",
         "https://es.tui.com/viaje/lo-mejor-de-argentina",
         "2025-04-07 00:00:00",
         "Si",
         "Buenos Aires, Puerto Madryn, Ushuaia, El Calafate, Bariloche , Iguazú"
        ],
        [
         "21",
         "Argentina",
         "Argentina para Dos",
         "13 Días / 10 Noches",
         "Buenos Aires, Ushuaia, El Calafate e Iguazú",
         "4095",
         "https://es.tui.com/viaje/argentina-para-dos",
         "2025-04-07 00:00:00",
         "Si",
         "Buenos Aires, Ushuaia, El Calafate , Iguazú"
        ],
        [
         "22",
         "Argentina",
         "Patagonia Argentina y Chilena",
         "16 Días / 13 Noches",
         "Buenos Aires, Ushuaia, El Calafate, Puerto Natales, Punta Arenas, Puerto Montt, Puerto Varas, Cruce de Lagos y Bariloche",
         "4385",
         "https://es.tui.com/viaje/patagonia-argentina-y-chilena",
         "2025-04-07 00:00:00",
         "Si",
         "Buenos Aires, Ushuaia, El Calafate, Puerto Natales, Punta Arenas, Puerto Montt, Puerto Varas, Cruce de Lagos , Bariloche"
        ],
        [
         "23",
         "Argentina",
         "Lagos, Glaciares y Cataratas con Extensión Cruce Andino",
         "16 Días / 13 Noches",
         "Buenos Aires, Bariloche, Cruce Andino, Puerto Varas, El Calafate e Iguazú",
         "4750",
         "https://es.tui.com/viaje/lagos-glaciares-y-cataratas-con-extension-cruce-andino",
         "2025-04-07 00:00:00",
         "Si",
         "Buenos Aires, Bariloche, Cruce Andino, Puerto Varas, El Calafate , Iguazú"
        ],
        [
         "24",
         "Argentina",
         "Gran Tour de Argentina",
         "17 Días / 14 Noches",
         "Buenos Aires, Puerto Madryn, Ushuaia, El Calafate, Iguazú, Salta y Cafayate",
         "5235",
         "https://es.tui.com/viaje/gran-tour-de-argentina",
         "2025-04-07 00:00:00",
         "Si",
         "Buenos Aires, Puerto Madryn, Ushuaia, El Calafate, Iguazú, Salta , Cafayate"
        ],
        [
         "25",
         "Argentina",
         "Al Sur del Sur con Australis",
         "15 Días / 12 Noches",
         "Buenos Aires, Ushuaia, Crucero Australis, Punta Arenas, Puerto Natales, Torres del Paine y El Calafate",
         "5545",
         "https://es.tui.com/viaje/al-sur-del-sur-con-australis",
         "2025-04-07 00:00:00",
         "Si",
         "Buenos Aires, Ushuaia, Crucero Australis, Punta Arenas, Puerto Natales, Torres del Paine , El Calafate"
        ],
        [
         "26",
         "Argentina",
         "Las Dos Patagonias con Australis",
         "15 Días / 12 Noches",
         "Buenos Aires, El Calafate, Ushuaia, Crucero Australis, Puerto Natales y Santiago de Chile",
         "5585",
         "https://es.tui.com/viaje/las-dos-patagonias-con-australis",
         "2025-04-07 00:00:00",
         "Si",
         "Buenos Aires, El Calafate, Ushuaia, Crucero Australis, Puerto Natales , Santiago de Chile"
        ],
        [
         "27",
         "Argentina",
         "Confines del Mundo con Australis",
         "16 Días / 13 Noches",
         "Santiago de Chile, Punta Arenas, Crucero Australis, Ushuaia, El Calafate, Puerto Natales y Torres del Paine",
         "5825",
         "https://es.tui.com/viaje/confines-del-mundo-con-australis",
         "2025-04-07 00:00:00",
         "Si",
         "Santiago de Chile, Punta Arenas, Crucero Australis, Ushuaia, El Calafate, Puerto Natales , Torres del Paine"
        ],
        [
         "28",
         "Argentina",
         "Argentina y Chile con Australis",
         "17 Días / 14 Noches",
         "Santiago de Chile, Punta Arenas, Puerto Natales, Crucero Australis, Ushuaia, El Calafate, Buenos Aires e Iguazú",
         "5895",
         "https://es.tui.com/viaje/argentina-y-chile-con-australis",
         "2025-04-07 00:00:00",
         "Si",
         "Santiago de Chile, Punta Arenas, Puerto Natales, Crucero Australis, Ushuaia, El Calafate, Buenos Aires , Iguazú"
        ],
        [
         "29",
         "Argentina",
         "Chile y Argentina con Skorpios III",
         "18 Días / 15 Noches",
         "Santiago de Chile, Puerto Natales, Torres del Paine, Crucero Skorpios III, El Calafate, Buenos Aires e Iguazú",
         "6745",
         "https://es.tui.com/viaje/chile-y-argentina-con-skorpios-iii",
         "2025-04-07 00:00:00",
         "Si",
         "Santiago de Chile, Puerto Natales, Torres del Paine, Crucero Skorpios III, El Calafate, Buenos Aires , Iguazú"
        ],
        [
         "30",
         "Aruba",
         "Aruba",
         "9 Días / 7 Noches",
         "Playas de Aruba",
         "1965",
         "https://viajeonline.es.tui.com/es/idea/7244961/aruba",
         "2025-04-07 00:00:00",
         "Si",
         "Playas de Aruba"
        ],
        [
         "31",
         "Aruba",
         "Nueva York y Aruba",
         "9 Días / 7 Noches",
         "Nueva York y Aruba",
         "2402",
         "https://viajeonline.es.tui.com/es/idea/7245405/-nueva-york-y-aruba",
         "2025-04-07 00:00:00",
         "Si",
         "Nueva York , Aruba"
        ],
        [
         "32",
         "Aruba",
         "Aruba en RIU Resorts",
         "6 Días / 5 Noches",
         "Aruba",
         "3472",
         "https://viajeonline.es.tui.com/es/idea/17583770/aruba-en-riu-resorts",
         "2025-04-07 00:00:00",
         "Si",
         "Aruba"
        ],
        [
         "33",
         "Australia",
         "Australia en autocaravana - Ruta A",
         "16 Días / 12 Noches",
         "Adelaida, Robe, Port Campbell, Melbourne, P N Wilsons Promontory, Lakes Entrance, Mallacoota, Narooma, Jervis Bay y Sydney",
         "2699",
         "https://es.tui.com/viaje/australia-en-autocaravana-ruta-a",
         "2025-04-07 00:00:00",
         "Si",
         "Adelaida, Robe, Port Campbell, Melbourne, P N Wilsons Promontory, Lakes Entrance, Mallacoota, Narooma, Jervis Bay , Sydney"
        ],
        [
         "34",
         "Australia",
         "Australia Romántica",
         "12 Días / 9 Noches",
         "Sydney, Cairns y Melbourne",
         "3245",
         "https://es.tui.com/viaje/australia-romantica",
         "2025-04-07 00:00:00",
         "Si",
         "Sydney, Cairns , Melbourne"
        ],
        [
         "35",
         "Australia",
         "Australia a tu alcance",
         "12 Días / 9 Noches",
         "Melbourne, Cairns y Sydney",
         "3255",
         "https://es.tui.com/viaje/australia-a-tu-alcance",
         "2025-04-07 00:00:00",
         "Si",
         "Melbourne, Cairns , Sydney"
        ],
        [
         "36",
         "Australia",
         "Todo Australia",
         "11 Días / 8 Noches",
         "Sydney, Ayers Rock y Cairns",
         "3255",
         "https://es.tui.com/viaje/todo-australia",
         "2025-04-07 00:00:00",
         "Si",
         "Sydney, Ayers Rock , Cairns"
        ],
        [
         "37",
         "Australia",
         "Australia Kangaroo",
         "18 Días / 14 Noches",
         "Sydney, Cairns, Townsville, Airlie Beach, Hervey Bay y Brisbane",
         "3755",
         "https://es.tui.com/viaje/australia-kangaroo",
         "2025-04-07 00:00:00",
         "Si",
         "Sydney, Cairns, Townsville, Airlie Beach, Hervey Bay , Brisbane"
        ],
        [
         "38",
         "Australia",
         "Experiencia Australiana",
         "12 Días / 9 Noches",
         "Sydney, Cairns, Darwin y PN Kakadu",
         "3809",
         "https://es.tui.com/viaje/experiencia-australiana",
         "2025-04-07 00:00:00",
         "Si",
         "Sydney, Cairns, Darwin , PN Kakadu"
        ],
        [
         "39",
         "Australia",
         "Gran Australia",
         "15 Días / 11 Noches",
         "Sydney, Ayers Rock, Cairns y Melbourne",
         "3895",
         "https://es.tui.com/viaje/gran-australia",
         "2025-04-07 00:00:00",
         "Si",
         "Sydney, Ayers Rock, Cairns , Melbourne"
        ],
        [
         "40",
         "Australia",
         "Fly & Drive Costa Este Australiana",
         "19 Días / 15 Noches",
         "Sydney, Hunter Valley, Port Macquarie, Coffs Harbour, Byron Bay, Gold Coast, Brisbane, Hervey Bay, Bundaberg, Rockhampton, Mackay, Airlie Beach, Townsville y Cairns",
         "4108",
         "https://viajeonline.es.tui.com/ES/idea/7142063/fly-drive-costa-este-australiana",
         "2025-04-07 00:00:00",
         "Si",
         "Sydney, Hunter Valley, Port Macquarie, Coffs Harbour, Byron Bay, Gold Coast, Brisbane, Hervey Bay, Bundaberg, Rockhampton, Mackay, Airlie Beach, Townsville , Cairns"
        ],
        [
         "41",
         "Australia",
         "Luna de Miel en Australia",
         "15 Días / 12 Noches",
         "Melbourne, Adelaida, Kangaroo Island, Cairns y Sydney",
         "4229",
         "https://es.tui.com/viaje/luna-de-miel-en-australia",
         "2025-04-07 00:00:00",
         "Si",
         "Melbourne, Adelaida, Kangaroo Island, Cairns , Sydney"
        ],
        [
         "42",
         "Australia",
         "Australia Mágica",
         "15 Días / 12 Noches",
         "Sydney, Ayers Rock, Alice Springs, Adelaida, Kangaroo Island y Cairns",
         "4645",
         "https://viajeonline.es.tui.com/es/idea/14349142/australia-magica",
         "2025-04-07 00:00:00",
         "Si",
         "Sydney, Ayers Rock, Alice Springs, Adelaida, Kangaroo Island , Cairns"
        ],
        [
         "43",
         "Australia",
         "Capitales Australianas",
         "12 Días / 9 Noches",
         "Melbourne, Cairns y Sydney",
         "5075",
         "https://es.tui.com/viaje/capitales-australianas",
         "2025-04-07 00:00:00",
         "Si",
         "Melbourne, Cairns , Sydney"
        ],
        [
         "44",
         "Australia",
         "Contrastes de Australia",
         "20 Días / 17 Noches",
         "Melbourne, Apollo Bay, Port Fairy, PN de Grampians, Robe, Barossa Valley, Adelaida, Alice Springs, Ayers Rock, Cairns y Sydney",
         "5665",
         "https://es.tui.com/viaje/contrastes-de-australia",
         "2025-04-07 00:00:00",
         "Si",
         "Melbourne, Apollo Bay, Port Fairy, PN de Grampians, Robe, Barossa Valley, Adelaida, Alice Springs, Ayers Rock, Cairns , Sydney"
        ],
        [
         "45",
         "Australia",
         "Iconos de Nueva Zelanda y Australia",
         "17 Días / 13 Noches",
         "Auckland, Waitomo, Rotorua, Sydney, Cairns y Melbourne",
         "5799",
         "https://es.tui.com/viaje/iconos-de-nueva-zelanda-y-australia",
         "2025-04-07 00:00:00",
         "Si",
         "Auckland, Waitomo, Rotorua, Sydney, Cairns , Melbourne"
        ],
        [
         "46",
         "Australia",
         "Tres Continentes",
         "20 Días / 16 Noches",
         "Bangkok, Sydney, Auckland, Tahití, Moorea y Los Ángeles",
         "6575",
         "https://es.tui.com/viaje/tres-continentes",
         "2025-04-07 00:00:00",
         "Si",
         "Bangkok, Sydney, Auckland, Tahití, Moorea , Los Ángeles"
        ],
        [
         "47",
         "Australia",
         "Kiwis y Koalas",
         "21 Días / 17 Noches",
         "Auckland, Waitomo, Rotorua, Christchurch, Lake Tekapo, Te Anau, Queenstown, Milford Sound, Sydney, Ayers Rock y Cairns",
         "8195",
         "https://es.tui.com/viaje/kiwis-y-koalas",
         "2025-04-07 00:00:00",
         "Si",
         "Auckland, Waitomo, Rotorua, Christchurch, Lake Tekapo, Te Anau, Queenstown, Milford Sound, Sydney, Ayers Rock , Cairns"
        ],
        [
         "48",
         "Austria",
         "Viena",
         "4 Días / 3 Noches",
         "Viena, Melk y Wachau",
         "815",
         "https://viajeonline.es.tui.com/es/idea/6948716/viena",
         "2025-04-07 00:00:00",
         "Si",
         "Viena, Melk , Wachau"
        ],
        [
         "49",
         "Austria",
         "Fly & Drive Austria, Entre Lagos y Montañas",
         "8 Días / 7 Noches",
         "Salzburgo, Gmunden, Linz, Melk, Viena, Graz, Hallstatt, St Wolfgang, St Johann in Tirol e Innsbruck",
         "827",
         "https://viajeonline.es.tui.com/es/idea/7897512/fly-drive-austria-entre-lagos-y-montanas-",
         "2025-04-07 00:00:00",
         "Si",
         "Salzburgo, Gmunden, Linz, Melk, Viena, Graz, Hallstatt, St Wolfgang, St Johann in Tirol , Innsbruck"
        ]
       ],
       "shape": {
        "columns": 9,
        "rows": 49103
       }
      },
      "text/html": [
       "<div>\n",
       "<style scoped>\n",
       "    .dataframe tbody tr th:only-of-type {\n",
       "        vertical-align: middle;\n",
       "    }\n",
       "\n",
       "    .dataframe tbody tr th {\n",
       "        vertical-align: top;\n",
       "    }\n",
       "\n",
       "    .dataframe thead th {\n",
       "        text-align: right;\n",
       "    }\n",
       "</style>\n",
       "<table border=\"1\" class=\"dataframe\">\n",
       "  <thead>\n",
       "    <tr style=\"text-align: right;\">\n",
       "      <th></th>\n",
       "      <th>pais</th>\n",
       "      <th>nombre_viaje</th>\n",
       "      <th>duracion_viaje</th>\n",
       "      <th>itinerario</th>\n",
       "      <th>precio</th>\n",
       "      <th>url_viaje</th>\n",
       "      <th>fecha_escrapeo</th>\n",
       "      <th>en_ultimo_escrapeo</th>\n",
       "      <th>itinerario_modificado_para_dividir</th>\n",
       "    </tr>\n",
       "  </thead>\n",
       "  <tbody>\n",
       "    <tr>\n",
       "      <th>0</th>\n",
       "      <td>Albania</td>\n",
       "      <td>Albania y Montenegro</td>\n",
       "      <td>8 Días / 7 Noches</td>\n",
       "      <td>Tirana, Dürres, Berat, Kruja, Shkodër, Petrova...</td>\n",
       "      <td>1755</td>\n",
       "      <td>https://es.tui.com/viaje/albania-y-montenegro</td>\n",
       "      <td>2025-04-07</td>\n",
       "      <td>Si</td>\n",
       "      <td>Tirana, Dürres, Berat, Kruja, Shkodër, Petrova...</td>\n",
       "    </tr>\n",
       "    <tr>\n",
       "      <th>1</th>\n",
       "      <td>Alemania</td>\n",
       "      <td>Berlín</td>\n",
       "      <td>4 Días / 3 Noches</td>\n",
       "      <td>Berlín</td>\n",
       "      <td>708</td>\n",
       "      <td>https://viajeonline.es.tui.com/es/idea/1463025...</td>\n",
       "      <td>2025-04-07</td>\n",
       "      <td>Si</td>\n",
       "      <td>Berlín</td>\n",
       "    </tr>\n",
       "    <tr>\n",
       "      <th>2</th>\n",
       "      <td>Alemania</td>\n",
       "      <td>Fly &amp; Drive Austria, Entre Lagos y Montañas</td>\n",
       "      <td>8 Días / 7 Noches</td>\n",
       "      <td>Salzburgo, Gmunden, Linz, Melk, Viena, Graz, H...</td>\n",
       "      <td>827</td>\n",
       "      <td>https://viajeonline.es.tui.com/es/idea/7897512...</td>\n",
       "      <td>2025-04-07</td>\n",
       "      <td>Si</td>\n",
       "      <td>Salzburgo, Gmunden, Linz, Melk, Viena, Graz, H...</td>\n",
       "    </tr>\n",
       "    <tr>\n",
       "      <th>3</th>\n",
       "      <td>Alemania</td>\n",
       "      <td>Fly &amp; Drive Carlomagno a su aire</td>\n",
       "      <td>10 Días / 9 Noches</td>\n",
       "      <td>Bruselas, Durbuy, Lieja, Aquisgrán, Colonia, B...</td>\n",
       "      <td>857</td>\n",
       "      <td>https://viajeonline.es.tui.com/es/idea/8404511...</td>\n",
       "      <td>2025-04-07</td>\n",
       "      <td>Si</td>\n",
       "      <td>Bruselas, Durbuy, Lieja, Aquisgrán, Colonia, B...</td>\n",
       "    </tr>\n",
       "    <tr>\n",
       "      <th>4</th>\n",
       "      <td>Alemania</td>\n",
       "      <td>Fly &amp; Drive Tirol al Completo</td>\n",
       "      <td>8 Días / 7 Noches</td>\n",
       "      <td>sbruck, Cataratas Krimml, Vipiteno, Bresanona,...</td>\n",
       "      <td>894</td>\n",
       "      <td>https://viajeonline.es.tui.com/es/idea/7906930...</td>\n",
       "      <td>2025-04-07</td>\n",
       "      <td>Si</td>\n",
       "      <td>sbruck, Cataratas Krimml, Vipiteno, Bresanona,...</td>\n",
       "    </tr>\n",
       "    <tr>\n",
       "      <th>...</th>\n",
       "      <td>...</td>\n",
       "      <td>...</td>\n",
       "      <td>...</td>\n",
       "      <td>...</td>\n",
       "      <td>...</td>\n",
       "      <td>...</td>\n",
       "      <td>...</td>\n",
       "      <td>...</td>\n",
       "      <td>...</td>\n",
       "    </tr>\n",
       "    <tr>\n",
       "      <th>49098</th>\n",
       "      <td>Zimbabue</td>\n",
       "      <td>Cataratas y Parques de Botsuana y Mauricio</td>\n",
       "      <td>13 Días / 10 Noches</td>\n",
       "      <td>Cataratas Victoria, PN Chobe, Delta de Okavang...</td>\n",
       "      <td>5369</td>\n",
       "      <td>https://es.tui.com/viaje/cataratas-y-parques-d...</td>\n",
       "      <td>2025-05-14</td>\n",
       "      <td>Si</td>\n",
       "      <td>Cataratas Victoria, PN Chobe, Delta de Okavang...</td>\n",
       "    </tr>\n",
       "    <tr>\n",
       "      <th>49099</th>\n",
       "      <td>Zimbabue</td>\n",
       "      <td>Cataratas y Parques de Botsuana y Mozambique</td>\n",
       "      <td>13 Días / 10 Noches</td>\n",
       "      <td>Cataratas Victoria, PN Chobe, Delta de Okavang...</td>\n",
       "      <td>5868</td>\n",
       "      <td>https://es.tui.com/viaje/cataratas-y-parques-d...</td>\n",
       "      <td>2025-05-14</td>\n",
       "      <td>Si</td>\n",
       "      <td>Cataratas Victoria, PN Chobe, Delta de Okavang...</td>\n",
       "    </tr>\n",
       "    <tr>\n",
       "      <th>49100</th>\n",
       "      <td>Zimbabue</td>\n",
       "      <td>Cataratas y Parques de Botsuana y Maldivas</td>\n",
       "      <td>13 Días / 9 Noches</td>\n",
       "      <td>Cataratas Victoria, PN Chobe, Delta de Okavang...</td>\n",
       "      <td>6189</td>\n",
       "      <td>https://es.tui.com/viaje/cataratas-y-parques-d...</td>\n",
       "      <td>2025-05-14</td>\n",
       "      <td>Si</td>\n",
       "      <td>Cataratas Victoria, PN Chobe, Delta de Okavang...</td>\n",
       "    </tr>\n",
       "    <tr>\n",
       "      <th>49101</th>\n",
       "      <td>Zimbabue</td>\n",
       "      <td>Zimbabue Salvaje</td>\n",
       "      <td>11 Días / 8 Noches</td>\n",
       "      <td>Cataratas Victoria, PN Hwange y Mana Pools</td>\n",
       "      <td>6539</td>\n",
       "      <td>https://es.tui.com/viaje/zimbabue-salvaje</td>\n",
       "      <td>2025-05-14</td>\n",
       "      <td>Si</td>\n",
       "      <td>Cataratas Victoria, PN Hwange , Mana Pools</td>\n",
       "    </tr>\n",
       "    <tr>\n",
       "      <th>49102</th>\n",
       "      <td>Zimbabue</td>\n",
       "      <td>Zimbabue Salvaje y Lago Kariba</td>\n",
       "      <td>14 Días / 11 Noches</td>\n",
       "      <td>Cataratas Victoria, PN Hwange, Mana Pools y La...</td>\n",
       "      <td>9228</td>\n",
       "      <td>https://es.tui.com/viaje/zimbabue-salvaje-y-la...</td>\n",
       "      <td>2025-05-14</td>\n",
       "      <td>Si</td>\n",
       "      <td>Cataratas Victoria, PN Hwange, Mana Pools , La...</td>\n",
       "    </tr>\n",
       "  </tbody>\n",
       "</table>\n",
       "<p>49103 rows × 9 columns</p>\n",
       "</div>"
      ],
      "text/plain": [
       "           pais                                  nombre_viaje  \\\n",
       "0       Albania                          Albania y Montenegro   \n",
       "1      Alemania                                        Berlín   \n",
       "2      Alemania   Fly & Drive Austria, Entre Lagos y Montañas   \n",
       "3      Alemania              Fly & Drive Carlomagno a su aire   \n",
       "4      Alemania                 Fly & Drive Tirol al Completo   \n",
       "...         ...                                           ...   \n",
       "49098  Zimbabue    Cataratas y Parques de Botsuana y Mauricio   \n",
       "49099  Zimbabue  Cataratas y Parques de Botsuana y Mozambique   \n",
       "49100  Zimbabue    Cataratas y Parques de Botsuana y Maldivas   \n",
       "49101  Zimbabue                              Zimbabue Salvaje   \n",
       "49102  Zimbabue                Zimbabue Salvaje y Lago Kariba   \n",
       "\n",
       "            duracion_viaje                                         itinerario  \\\n",
       "0        8 Días / 7 Noches  Tirana, Dürres, Berat, Kruja, Shkodër, Petrova...   \n",
       "1        4 Días / 3 Noches                                             Berlín   \n",
       "2        8 Días / 7 Noches  Salzburgo, Gmunden, Linz, Melk, Viena, Graz, H...   \n",
       "3       10 Días / 9 Noches  Bruselas, Durbuy, Lieja, Aquisgrán, Colonia, B...   \n",
       "4        8 Días / 7 Noches  sbruck, Cataratas Krimml, Vipiteno, Bresanona,...   \n",
       "...                    ...                                                ...   \n",
       "49098  13 Días / 10 Noches  Cataratas Victoria, PN Chobe, Delta de Okavang...   \n",
       "49099  13 Días / 10 Noches  Cataratas Victoria, PN Chobe, Delta de Okavang...   \n",
       "49100   13 Días / 9 Noches  Cataratas Victoria, PN Chobe, Delta de Okavang...   \n",
       "49101   11 Días / 8 Noches         Cataratas Victoria, PN Hwange y Mana Pools   \n",
       "49102  14 Días / 11 Noches  Cataratas Victoria, PN Hwange, Mana Pools y La...   \n",
       "\n",
       "       precio                                          url_viaje  \\\n",
       "0        1755      https://es.tui.com/viaje/albania-y-montenegro   \n",
       "1         708  https://viajeonline.es.tui.com/es/idea/1463025...   \n",
       "2         827  https://viajeonline.es.tui.com/es/idea/7897512...   \n",
       "3         857  https://viajeonline.es.tui.com/es/idea/8404511...   \n",
       "4         894  https://viajeonline.es.tui.com/es/idea/7906930...   \n",
       "...       ...                                                ...   \n",
       "49098    5369  https://es.tui.com/viaje/cataratas-y-parques-d...   \n",
       "49099    5868  https://es.tui.com/viaje/cataratas-y-parques-d...   \n",
       "49100    6189  https://es.tui.com/viaje/cataratas-y-parques-d...   \n",
       "49101    6539          https://es.tui.com/viaje/zimbabue-salvaje   \n",
       "49102    9228  https://es.tui.com/viaje/zimbabue-salvaje-y-la...   \n",
       "\n",
       "      fecha_escrapeo en_ultimo_escrapeo  \\\n",
       "0         2025-04-07                 Si   \n",
       "1         2025-04-07                 Si   \n",
       "2         2025-04-07                 Si   \n",
       "3         2025-04-07                 Si   \n",
       "4         2025-04-07                 Si   \n",
       "...              ...                ...   \n",
       "49098     2025-05-14                 Si   \n",
       "49099     2025-05-14                 Si   \n",
       "49100     2025-05-14                 Si   \n",
       "49101     2025-05-14                 Si   \n",
       "49102     2025-05-14                 Si   \n",
       "\n",
       "                      itinerario_modificado_para_dividir  \n",
       "0      Tirana, Dürres, Berat, Kruja, Shkodër, Petrova...  \n",
       "1                                                 Berlín  \n",
       "2      Salzburgo, Gmunden, Linz, Melk, Viena, Graz, H...  \n",
       "3      Bruselas, Durbuy, Lieja, Aquisgrán, Colonia, B...  \n",
       "4      sbruck, Cataratas Krimml, Vipiteno, Bresanona,...  \n",
       "...                                                  ...  \n",
       "49098  Cataratas Victoria, PN Chobe, Delta de Okavang...  \n",
       "49099  Cataratas Victoria, PN Chobe, Delta de Okavang...  \n",
       "49100  Cataratas Victoria, PN Chobe, Delta de Okavang...  \n",
       "49101         Cataratas Victoria, PN Hwange , Mana Pools  \n",
       "49102  Cataratas Victoria, PN Hwange, Mana Pools , La...  \n",
       "\n",
       "[49103 rows x 9 columns]"
      ]
     },
     "execution_count": 9,
     "metadata": {},
     "output_type": "execute_result"
    }
   ],
   "source": [
    "df_viajes_agrupados"
   ]
  },
  {
   "cell_type": "code",
   "execution_count": 8,
   "id": "5446d1ce",
   "metadata": {},
   "outputs": [],
   "source": [
    "#tr.desglosar_ciudades_itinerarios_2(df_viajes_agrupados,API_KEY,ARCHIVO_GUARDAR_TOTAL_CIUDADES_API, ARCHIVO_EXTRACCION_API_DUPLICADOS)"
   ]
  },
  {
   "cell_type": "code",
   "execution_count": null,
   "id": "bfddd41b",
   "metadata": {},
   "outputs": [],
   "source": [
    "ARCHIVO_EXTRACCION_API_DUPLICADOS = os.getenv('ARCHIVO_EXTRACCION_API_DUPLICADOS')\n"
   ]
  },
  {
   "cell_type": "code",
   "execution_count": null,
   "id": "515645be",
   "metadata": {},
   "outputs": [
    {
     "data": {
      "application/vnd.microsoft.datawrangler.viewer.v0+json": {
       "columns": [
        {
         "name": "index",
         "rawType": "int64",
         "type": "integer"
        },
        {
         "name": "pais",
         "rawType": "object",
         "type": "string"
        },
        {
         "name": "ciudad",
         "rawType": "object",
         "type": "string"
        },
        {
         "name": "continente_api",
         "rawType": "object",
         "type": "string"
        },
        {
         "name": "pais_api",
         "rawType": "object",
         "type": "string"
        },
        {
         "name": "latitud",
         "rawType": "object",
         "type": "unknown"
        },
        {
         "name": "longitud",
         "rawType": "object",
         "type": "unknown"
        },
        {
         "name": "resultado",
         "rawType": "object",
         "type": "string"
        }
       ],
       "conversionMethod": "pd.DataFrame",
       "ref": "74fd07e9-42cc-4d13-8e52-ee581ef6d819",
       "rows": [
        [
         "24",
         "Alemania",
         "Colonia",
         "North America",
         "Honduras",
         "14.1084694",
         "-87.2310848",
         "Ciudad Y Pais Encontrado"
        ],
        [
         "31",
         "Alemania",
         "Luxemburgo",
         "Europe",
         "Alemania",
         "52.506983",
         "13.3510996",
         "Ciudad Y Pais Encontrado"
        ],
        [
         "38",
         "Alemania",
         "Sbruck",
         "Europe",
         "Alemania",
         "51.5",
         "10.5",
         "Ciudad Y Pais Encontrado"
        ],
        [
         "60",
         "Alemania",
         "Friburgo",
         "Europe",
         "Alemania",
         "47.9960901",
         "7.8494005",
         "Ciudad Y Pais Encontrado"
        ],
        [
         "61",
         "Alemania",
         "Lago Constanza",
         "Europe",
         "Alemania",
         "47.6477691",
         "9.3471796",
         "Ciudad Y Pais Encontrado"
        ],
        [
         "81",
         "Argentina",
         "Crucero Australis",
         "South America",
         "Argentina",
         "-34.0",
         "-64.0",
         "Ciudad Y Pais Encontrado"
        ],
        [
         "84",
         "Argentina",
         "Crucero Skorpios Iii",
         "South America",
         "Argentina",
         "-34.0",
         "-64.0",
         "Ciudad Y Pais Encontrado"
        ],
        [
         "86",
         "Aruba",
         "Nueva York",
         "North America",
         "Aruba",
         "12.5",
         "-69.96667",
         "Ciudad Y Pais Encontrado"
        ],
        [
         "89",
         "Australia",
         "Robe",
         "Oceania",
         "Australia",
         "-37.1861992",
         "139.9955285",
         "Ciudad Y Pais Encontrado"
        ],
        [
         "106",
         "Australia",
         "Hunter Valley",
         "Oceania",
         "Australia",
         "-32.5421803",
         "151.2185641",
         "Ciudad Y Pais Encontrado"
        ],
        [
         "118",
         "Australia",
         "Pn De Grampians",
         "Oceania",
         "Australia",
         "-37.03333",
         "142.5",
         "Ciudad Y Pais Encontrado"
        ],
        [
         "119",
         "Australia",
         "Barossa Valley",
         "Oceania",
         "Australia",
         "-34.5974308",
         "138.779014",
         "Ciudad Y Pais Encontrado"
        ],
        [
         "124",
         "Australia",
         "Tahiti",
         "Oceania",
         "Australia",
         "-25.7823993",
         "152.6676943",
         "Ciudad Y Pais Encontrado"
        ],
        [
         "125",
         "Australia",
         "Moorea",
         "Oceania",
         "Australia",
         "-27.9377333",
         "153.3160021",
         "Ciudad Y Pais Encontrado"
        ],
        [
         "126",
         "Australia",
         "Los Angeles",
         "Oceania",
         "Australia",
         "-38.3598544",
         "144.2012174",
         "Ciudad Y Pais Encontrado"
        ],
        [
         "143",
         "Austria",
         "Sbruck",
         "Europe",
         "Austria",
         "47.33333",
         "13.33333",
         "Ciudad Y Pais Encontrado"
        ],
        [
         "153",
         "Austria",
         "Hallstat",
         "Europe",
         "Austria",
         "47.33333",
         "13.33333",
         "Ciudad Y Pais Encontrado"
        ],
        [
         "156",
         "Austria",
         "Praga",
         "Europe",
         "Austria",
         "47.2910713",
         "12.736538",
         "Ciudad Y Pais Encontrado"
        ],
        [
         "157",
         "Austria",
         "Bohemia",
         "Europe",
         "Austria",
         "46.9726226",
         "9.9189403",
         "Ciudad Y Pais Encontrado"
        ],
        [
         "158",
         "Austria",
         "Karlovy Vary",
         "Europe",
         "Austria",
         "47.33333",
         "13.33333",
         "Ciudad Y Pais Encontrado"
        ],
        [
         "161",
         "Austria",
         "Kutna Hora",
         "Europe",
         "Austria",
         "47.04216",
         "9.91165",
         "Ciudad Y Pais Encontrado"
        ],
        [
         "162",
         "Austria",
         "Valle Del Wachau",
         "Europe",
         "Austria",
         "48.33333",
         "15.41667",
         "Ciudad Y Pais Encontrado"
        ],
        [
         "164",
         "Bahamas",
         "Nueva York",
         "North America",
         "Bahamas",
         "25.04082",
         "-77.37122",
         "Ciudad Y Pais Encontrado"
        ],
        [
         "165",
         "Bahamas",
         "Miami",
         "North America",
         "Bahamas",
         "25.0537233",
         "-77.3372067",
         "Ciudad Y Pais Encontrado"
        ],
        [
         "169",
         "Bahamas",
         "Nassau",
         "North America",
         "Bahamas",
         "25.0782266",
         "-77.3383438",
         "Ciudad Y Pais Encontrado"
        ],
        [
         "171",
         "Barbados",
         "Nueva York",
         "North America",
         "Barbados",
         "13.16667",
         "-59.53333",
         "Ciudad Y Pais Encontrado"
        ],
        [
         "181",
         "Belgica",
         "Colonia",
         "South America",
         "Brasil",
         "-23.7036803",
         "-46.4144973",
         "Ciudad Y Pais Encontrado"
        ],
        [
         "188",
         "Belgica",
         "Luxemburgo",
         "Europe",
         "Belgica",
         "49.9637999",
         "5.4398039",
         "Ciudad Y Pais Encontrado"
        ],
        [
         "194",
         "Belgica",
         "Marken",
         "Europe",
         "Belgica",
         "51.4173314",
         "4.7667036",
         "Ciudad Y Pais Encontrado"
        ],
        [
         "197",
         "Bolivia",
         "Santa Cruz",
         "South America",
         "Bolivia",
         "-17.333333",
         "-61.5",
         "Ciudad Y Pais Encontrado"
        ],
        [
         "198",
         "Bolivia",
         "Misiones Jesuiticas Concepcion",
         "South America",
         "Bolivia",
         "-16.43333",
         "-60.9",
         "Ciudad Y Pais Encontrado"
        ],
        [
         "199",
         "Bolivia",
         "Misiones Jesuiticas San Javier",
         "South America",
         "Bolivia",
         "-16.27491",
         "-62.50354",
         "Ciudad Y Pais Encontrado"
        ],
        [
         "200",
         "Bolivia",
         "Sucre",
         "South America",
         "Bolivia",
         "-19.0477251",
         "-65.2594306",
         "Ciudad Y Pais Encontrado"
        ],
        [
         "208",
         "Bolivia",
         "Copacabana",
         "South America",
         "Bolivia",
         "-16.1657276",
         "-69.0854397",
         "Ciudad Y Pais Encontrado"
        ],
        [
         "210",
         "Botsuana",
         "Cataratas Victoria",
         "Africa",
         "Botsuana",
         "-22.0",
         "24.0",
         "Ciudad Y Pais Encontrado"
        ],
        [
         "212",
         "Botsuana",
         "Delta Del Okavango",
         "Africa",
         "Botsuana",
         "-22.0",
         "24.0",
         "Ciudad Y Pais Encontrado"
        ],
        [
         "220",
         "Botsuana",
         "Cataratas Epupa",
         "Africa",
         "Botsuana",
         "-22.0",
         "24.0",
         "Ciudad Y Pais Encontrado"
        ],
        [
         "225",
         "Botsuana",
         "Makgadikagi Pans",
         "Africa",
         "Botsuana",
         "-22.0",
         "24.0",
         "Ciudad Y Pais Encontrado"
        ],
        [
         "230",
         "Botsuana",
         "Valle De Los Elefantes",
         "Africa",
         "Botsuana",
         "-22.0",
         "24.0",
         "Ciudad Y Pais Encontrado"
        ],
        [
         "263",
         "Brasil",
         "Pantanal",
         "South America",
         "Brasil",
         "0.0710961",
         "-51.0455918",
         "Ciudad Y Pais Encontrado"
        ],
        [
         "268",
         "Brasil",
         "Parque Nacional Jalapao",
         "South America",
         "Brasil",
         "-10.0",
         "-55.0",
         "Ciudad Y Pais Encontrado"
        ],
        [
         "271",
         "Brasil",
         "Ciudad De Las Piedras",
         "South America",
         "Brasil",
         "-10.0",
         "-55.0",
         "Ciudad Y Pais Encontrado"
        ],
        [
         "278",
         "Bulgaria",
         "Mar Negro",
         "Europe",
         "Bulgaria",
         "42.66667",
         "25.25",
         "Ciudad Y Pais Encontrado"
        ],
        [
         "286",
         "Bulgaria",
         "Nis",
         "Europe",
         "Bulgaria",
         "43.3528819",
         "24.4123439",
         "Ciudad Y Pais Encontrado"
        ],
        [
         "290",
         "Bulgaria",
         "Monte Athos",
         "Europe",
         "Bulgaria",
         "42.66667",
         "25.25",
         "Ciudad Y Pais Encontrado"
        ],
        [
         "291",
         "Bulgaria",
         "Melnik",
         "Europe",
         "Bulgaria",
         "41.5229421",
         "23.393246",
         "Ciudad Y Pais Encontrado"
        ],
        [
         "301",
         "Butan",
         "Patan",
         "Asia",
         "Butan",
         "27.5",
         "90.5",
         "Ciudad Y Pais Encontrado"
        ],
        [
         "303",
         "Butan",
         "Wangdue Taktsang",
         "Asia",
         "Butan",
         "27.5",
         "90.5",
         "Ciudad Y Pais Encontrado"
        ],
        [
         "314",
         "Cabo Verde",
         "Sla De Sal",
         "Africa",
         "Cabo Verde",
         "16.74792",
         "-22.92688",
         "Ciudad Y Pais Encontrado"
        ],
        [
         "325",
         "Camboya",
         "Danang",
         "Asia",
         "Camboya",
         "13.0",
         "105.0",
         "Ciudad Y Pais Encontrado"
        ]
       ],
       "shape": {
        "columns": 7,
        "rows": 805
       }
      },
      "text/html": [
       "<div>\n",
       "<style scoped>\n",
       "    .dataframe tbody tr th:only-of-type {\n",
       "        vertical-align: middle;\n",
       "    }\n",
       "\n",
       "    .dataframe tbody tr th {\n",
       "        vertical-align: top;\n",
       "    }\n",
       "\n",
       "    .dataframe thead th {\n",
       "        text-align: right;\n",
       "    }\n",
       "</style>\n",
       "<table border=\"1\" class=\"dataframe\">\n",
       "  <thead>\n",
       "    <tr style=\"text-align: right;\">\n",
       "      <th></th>\n",
       "      <th>pais</th>\n",
       "      <th>ciudad</th>\n",
       "      <th>continente_api</th>\n",
       "      <th>pais_api</th>\n",
       "      <th>latitud</th>\n",
       "      <th>longitud</th>\n",
       "      <th>resultado</th>\n",
       "    </tr>\n",
       "  </thead>\n",
       "  <tbody>\n",
       "    <tr>\n",
       "      <th>24</th>\n",
       "      <td>Alemania</td>\n",
       "      <td>Colonia</td>\n",
       "      <td>North America</td>\n",
       "      <td>Honduras</td>\n",
       "      <td>14.108469</td>\n",
       "      <td>-87.231085</td>\n",
       "      <td>Ciudad Y Pais Encontrado</td>\n",
       "    </tr>\n",
       "    <tr>\n",
       "      <th>31</th>\n",
       "      <td>Alemania</td>\n",
       "      <td>Luxemburgo</td>\n",
       "      <td>Europe</td>\n",
       "      <td>Alemania</td>\n",
       "      <td>52.506983</td>\n",
       "      <td>13.3511</td>\n",
       "      <td>Ciudad Y Pais Encontrado</td>\n",
       "    </tr>\n",
       "    <tr>\n",
       "      <th>38</th>\n",
       "      <td>Alemania</td>\n",
       "      <td>Sbruck</td>\n",
       "      <td>Europe</td>\n",
       "      <td>Alemania</td>\n",
       "      <td>51.5</td>\n",
       "      <td>10.5</td>\n",
       "      <td>Ciudad Y Pais Encontrado</td>\n",
       "    </tr>\n",
       "    <tr>\n",
       "      <th>60</th>\n",
       "      <td>Alemania</td>\n",
       "      <td>Friburgo</td>\n",
       "      <td>Europe</td>\n",
       "      <td>Alemania</td>\n",
       "      <td>47.99609</td>\n",
       "      <td>7.8494</td>\n",
       "      <td>Ciudad Y Pais Encontrado</td>\n",
       "    </tr>\n",
       "    <tr>\n",
       "      <th>61</th>\n",
       "      <td>Alemania</td>\n",
       "      <td>Lago Constanza</td>\n",
       "      <td>Europe</td>\n",
       "      <td>Alemania</td>\n",
       "      <td>47.647769</td>\n",
       "      <td>9.34718</td>\n",
       "      <td>Ciudad Y Pais Encontrado</td>\n",
       "    </tr>\n",
       "    <tr>\n",
       "      <th>...</th>\n",
       "      <td>...</td>\n",
       "      <td>...</td>\n",
       "      <td>...</td>\n",
       "      <td>...</td>\n",
       "      <td>...</td>\n",
       "      <td>...</td>\n",
       "      <td>...</td>\n",
       "    </tr>\n",
       "    <tr>\n",
       "      <th>2993</th>\n",
       "      <td>Panama</td>\n",
       "      <td>San Blas En Velero</td>\n",
       "      <td>North America</td>\n",
       "      <td>Panama</td>\n",
       "      <td>9.0</td>\n",
       "      <td>-80.0</td>\n",
       "      <td>Ciudad Y Pais Encontrado</td>\n",
       "    </tr>\n",
       "    <tr>\n",
       "      <th>3027</th>\n",
       "      <td>Sudafrica</td>\n",
       "      <td>Reserva De Kapama</td>\n",
       "      <td>Africa</td>\n",
       "      <td>Sudafrica</td>\n",
       "      <td>-29.0</td>\n",
       "      <td>24.0</td>\n",
       "      <td>Ciudad Y Pais Encontrado</td>\n",
       "    </tr>\n",
       "    <tr>\n",
       "      <th>3042</th>\n",
       "      <td>Taiwan</td>\n",
       "      <td>Monasterio Fo Guang Shan</td>\n",
       "      <td>Asia</td>\n",
       "      <td>Taiwan</td>\n",
       "      <td>24.0</td>\n",
       "      <td>121.0</td>\n",
       "      <td>Ciudad Y Pais Encontrado</td>\n",
       "    </tr>\n",
       "    <tr>\n",
       "      <th>3109</th>\n",
       "      <td>Estados Unidos</td>\n",
       "      <td>Moab Arches</td>\n",
       "      <td>North America</td>\n",
       "      <td>Estados Unidos De America</td>\n",
       "      <td>38.600884</td>\n",
       "      <td>-109.576167</td>\n",
       "      <td>Ciudad Y Pais Encontrado</td>\n",
       "    </tr>\n",
       "    <tr>\n",
       "      <th>3116</th>\n",
       "      <td>Corea Del Sur</td>\n",
       "      <td>Jeju</td>\n",
       "      <td>Asia</td>\n",
       "      <td>Corea Del Sur</td>\n",
       "      <td>33.488774</td>\n",
       "      <td>126.498708</td>\n",
       "      <td>Ciudad Y Pais Encontrado</td>\n",
       "    </tr>\n",
       "  </tbody>\n",
       "</table>\n",
       "<p>805 rows × 7 columns</p>\n",
       "</div>"
      ],
      "text/plain": [
       "                pais                    ciudad continente_api  \\\n",
       "24          Alemania                   Colonia  North America   \n",
       "31          Alemania                Luxemburgo         Europe   \n",
       "38          Alemania                    Sbruck         Europe   \n",
       "60          Alemania                  Friburgo         Europe   \n",
       "61          Alemania            Lago Constanza         Europe   \n",
       "...              ...                       ...            ...   \n",
       "2993          Panama        San Blas En Velero  North America   \n",
       "3027       Sudafrica         Reserva De Kapama         Africa   \n",
       "3042          Taiwan  Monasterio Fo Guang Shan           Asia   \n",
       "3109  Estados Unidos               Moab Arches  North America   \n",
       "3116   Corea Del Sur                      Jeju           Asia   \n",
       "\n",
       "                       pais_api    latitud    longitud  \\\n",
       "24                     Honduras  14.108469  -87.231085   \n",
       "31                     Alemania  52.506983     13.3511   \n",
       "38                     Alemania       51.5        10.5   \n",
       "60                     Alemania   47.99609      7.8494   \n",
       "61                     Alemania  47.647769     9.34718   \n",
       "...                         ...        ...         ...   \n",
       "2993                     Panama        9.0       -80.0   \n",
       "3027                  Sudafrica      -29.0        24.0   \n",
       "3042                     Taiwan       24.0       121.0   \n",
       "3109  Estados Unidos De America  38.600884 -109.576167   \n",
       "3116              Corea Del Sur  33.488774  126.498708   \n",
       "\n",
       "                     resultado  \n",
       "24    Ciudad Y Pais Encontrado  \n",
       "31    Ciudad Y Pais Encontrado  \n",
       "38    Ciudad Y Pais Encontrado  \n",
       "60    Ciudad Y Pais Encontrado  \n",
       "61    Ciudad Y Pais Encontrado  \n",
       "...                        ...  \n",
       "2993  Ciudad Y Pais Encontrado  \n",
       "3027  Ciudad Y Pais Encontrado  \n",
       "3042  Ciudad Y Pais Encontrado  \n",
       "3109  Ciudad Y Pais Encontrado  \n",
       "3116  Ciudad Y Pais Encontrado  \n",
       "\n",
       "[805 rows x 7 columns]"
      ]
     },
     "execution_count": 68,
     "metadata": {},
     "output_type": "execute_result"
    }
   ],
   "source": [
    "df_paises_api_ciudades_duplicadas= pd.read_pickle(ARCHIVO_EXTRACCION_API_DUPLICADOS)\n",
    "df_paises_api_ciudades_duplicadas.columns\n",
    "#df_paises_api_ciudades_duplicadas= df_paises_api_ciudades_duplicadas[~pd.isnull(df_paises_api_ciudades_duplicadas['continente_api'])]\n",
    "#df_paises_api_ciudades_duplicadas.to_pickle(ARCHIVO_EXTRACCION_API_DUPLICADOS)\n",
    "df_paises_api_ciudades_duplicadas"
   ]
  },
  {
   "cell_type": "code",
   "execution_count": null,
   "id": "6e102c4a",
   "metadata": {},
   "outputs": [],
   "source": [
    "def desglosar_ciudades_itinerarios_2 (df_viajes_agrupados,API_KEY,ARCHIVO_GUARDAR_TOTAL_CIUDADES_API, ARCHIVO_EXTRACCION_API_DUPLICADOS):\n",
    "    df_itinerarios = df_viajes_agrupados[['pais','itinerario_modificado_para_dividir']].drop_duplicates().reset_index(drop=True) #elimino duplicados\n",
    "    df_itinerarios['lista_itinerario']= df_itinerarios.itinerario_modificado_para_dividir.apply(tr.conversion_itineario_en_lista) #separo las ciudades\n",
    "    df_itinerarios_ciudades = df_itinerarios.explode('lista_itinerario').reset_index(drop=True) #divido el DF por ciudades\n",
    "    df_itinerarios_ciudades=df_itinerarios_ciudades.rename(columns={'lista_itinerario':'ciudad'}) #renombro la columna a ciudad\n",
    "\n",
    "    #normalizo y capitalizo la columna ciudad:\n",
    "    df_itinerarios_ciudades['ciudad'] = df_itinerarios_ciudades['ciudad'].map(tr.normalizar_texto)\n",
    "    df_itinerarios_ciudades['ciudad'] = df_itinerarios_ciudades['ciudad'].map(tr.capitalizar_texto)\n",
    "\n",
    "    indices_sin_ciudades = df_itinerarios_ciudades[df_itinerarios_ciudades.ciudad == ''].index #creo una lista con los indices de las filas sin ciudad\n",
    "    #elimino las filas sin ciudad:\n",
    "    df_itinerarios_ciudades= df_itinerarios_ciudades.drop(indices_sin_ciudades).reset_index(drop=True)\n",
    "    #obtengo los datos de la api extraidos anteriormente\n",
    "    df_paises_api_todas_ciudades= pd.read_pickle(ARCHIVO_GUARDAR_TOTAL_CIUDADES_API)# '../data/data_raw/geolocalizacion_api_total_ciudades.pkl'\n",
    "\n",
    "    #normalizo y capitalizo la columna ciudad\n",
    "    df_paises_api_todas_ciudades['ciudad'] = df_paises_api_todas_ciudades['ciudad'].map(tr.normalizar_texto)\n",
    "    df_paises_api_todas_ciudades['ciudad'] = df_paises_api_todas_ciudades['ciudad'].map(tr.capitalizar_texto)\n",
    "\n",
    "    df_itinerarios_ciudades['pais_api']=None #creo la columna pais_api para incorporar la información de la api\n",
    "    ex.incorporar_información_df_original(df_itinerarios_ciudades,df_paises_api_todas_ciudades,'ciudad', 'pais_api', 'pais_api')\n",
    "    df_itinerarios_ciudades_sin_lista = df_itinerarios_ciudades[['pais', 'ciudad', 'pais_api']] # me quedo solo con pais, ciudad y pais api\n",
    "    df_itinerarios_ciudades_sin_lista=df_itinerarios_ciudades_sin_lista.drop_duplicates().reset_index(drop=True) #elimino duplicados\n",
    "\n",
    "    #Normalizo la columna paises:\n",
    "    df_itinerarios_ciudades['pais'] = df_itinerarios_ciudades['pais'].map(tr.normalizar_texto)\n",
    "    df_itinerarios_ciudades['pais'] = df_itinerarios_ciudades['pais'].map(tr.capitalizar_texto)\n",
    "    df_itinerarios_ciudades['pais_api'] = df_itinerarios_ciudades['pais_api'].map(tr.normalizar_texto)\n",
    "    df_itinerarios_ciudades['pais_api'] = df_itinerarios_ciudades['pais_api'].map(tr.capitalizar_texto)\n",
    "\n",
    "    #comparo si el pais de la api coincide con el pais del viaje:\n",
    "    df_itinerarios_ciudades_sin_lista['resultado']= None\n",
    "    for i,row in df_itinerarios_ciudades_sin_lista.iterrows():\n",
    "        if row['pais'] == row[\"pais_api\"]:\n",
    "            df_itinerarios_ciudades_sin_lista.loc[i,'resultado'] ='Pais correcto'\n",
    "        else:\n",
    "            df_itinerarios_ciudades_sin_lista.loc[i,'resultado'] ='Pais no coincide'\n",
    "\n",
    "    #creo DF con los paises correctos  (pais viaje = pais api):\n",
    "    df_itinerarios_ciudades_sin_lista_paises_correctos = df_itinerarios_ciudades_sin_lista[df_itinerarios_ciudades_sin_lista.resultado=='Pais correcto']\n",
    "    \n",
    "    print(f'{len(df_itinerarios_ciudades_sin_lista_paises_correctos)} paises correctos')\n",
    "    #creo una lista de ciudades con paises correctas para añadir la información al DF\n",
    "    lista_ciudades_pais_correcto = df_itinerarios_ciudades_sin_lista_paises_correctos['ciudad'].unique().tolist()\n",
    " \n",
    "\n",
    "    df_itinerarios_ciudades_sin_lista['resultado_2']= None\n",
    "    for i,row in df_itinerarios_ciudades_sin_lista.iterrows():\n",
    "        if row['ciudad'] in lista_ciudades_pais_correcto:\n",
    "            df_itinerarios_ciudades_sin_lista.loc[i,'resultado_2'] ='Pais_correcto_identificado'\n",
    "        else:\n",
    "            df_itinerarios_ciudades_sin_lista.loc[i,'resultado_2'] ='Pais a identificar por API'\n",
    "\n",
    "    #incorporo la informacion de los paises correctos al df de ciudades paises inicial\n",
    "    df_itinerarios_ciudades_sin_lista['pais_final']=None #creo la columna con el pais definitivo\n",
    "    ex.incorporar_información_df_original(df_itinerarios_ciudades_sin_lista,df_itinerarios_ciudades_sin_lista_paises_correctos,\n",
    "                                          'ciudad','pais','pais_final',df_itinerarios_ciudades_sin_lista.resultado_2=='Pais_correcto_identificado')\n",
    "    print(f'Se ha asignado el pais a las ciudades cuyo pais de la api de la ciudad coincide con el pais del viaje: {len(lista_ciudades_pais_correcto)}')\n",
    "\n",
    "\n",
    "    #me quedo con la parte del DF que hay que identificar por API:\n",
    "    df_itinerarios_a_identificar_por_api =df_itinerarios_ciudades_sin_lista[df_itinerarios_ciudades_sin_lista.resultado_2=='Pais a identificar por API']\n",
    "\n",
    "    #importo el df con los datos extraidos de la api anteriormente:\n",
    "    df_paises_api_ciudades_duplicadas= pd.read_pickle(ARCHIVO_EXTRACCION_API_DUPLICADOS)\n",
    "    \n",
    "    ex.incorporar_información_df_original(df_itinerarios_ciudades_sin_lista, df_paises_api_ciudades_duplicadas,\n",
    "                                            'ciudad', 'pais_api', 'pais_final', \n",
    "                                            df_itinerarios_ciudades_sin_lista.resultado_2=='Pais a identificar por API')\n",
    "    print(f'Se ha asignado el pais a las ciudades cuyo pais de la api de la ciudad no coincide con el pais del viaje: {len(df_paises_api_ciudades_duplicadas)}')\n",
    "\n",
    "\n",
    "    #me quedo con la parte del DF que hay que identificar por API final:\n",
    "    df_itinerarios_a_identificar_por_api = df_itinerarios_ciudades_sin_lista[pd.isnull(df_itinerarios_ciudades_sin_lista.pais_final)] #COMPROBADO HASTA AQUI\n",
    "    warnings.simplefilter(action='ignore', category=SettingWithCopyWarning)\n",
    "    #Extraigo los datos de la API:\n",
    "    if len(df_itinerarios_a_identificar_por_api)>0:\n",
    "        print(len(df_itinerarios_a_identificar_por_api))\n",
    "        #df_itinerarios_ciudades_sin_duplicados = pd.DataFrame()\n",
    "        df_itinerarios_ciudades_sin_duplicados=df_itinerarios_a_identificar_por_api[['pais','ciudad']].copy()\n",
    "        df_itinerarios_ciudades_sin_duplicados= df_itinerarios_ciudades_sin_duplicados.drop_duplicates()\n",
    "        #columnas_destino = ['continente_api','pais_api', 'latitud', 'longitud','resultado']\n",
    "        #for col in columnas_destino:\n",
    "            #df_itinerarios_ciudades_sin_duplicados[col] = None\n",
    "\n",
    "        #df_itinerarios_ciudades_sin_duplicados.loc[:,columnas_destino]=(\n",
    "        resultados_api = df_itinerarios_ciudades_sin_duplicados.apply(\n",
    "                lambda fila:pd.Series(\n",
    "                    tr.obtener_pais_continente_lat_long_con_pais(fila['ciudad'],fila['pais'], API_KEY),\n",
    "                    index=['continente_api','pais_api', 'latitud', 'longitud','resultado']),\n",
    "                    axis=1)\n",
    "        \n",
    "        # Concatenar los resultados al DataFrame original\n",
    "        df_itinerarios_ciudades_sin_duplicados = pd.concat([df_itinerarios_ciudades_sin_duplicados, resultados_api], axis=1)\n",
    "\n",
    "        print(f'Se ha extraido la informacion de: {len(df_itinerarios_ciudades_sin_duplicados)} ciudades de la API')\n",
    "\n",
    "\n",
    "\n",
    "        #normalizo y capitalizo el texto\n",
    "        for col in df_itinerarios_ciudades_sin_duplicados.columns:\n",
    "            df_itinerarios_ciudades_sin_duplicados[col] = df_itinerarios_ciudades_sin_duplicados[col].map(tr.normalizar_texto)\n",
    "            df_itinerarios_ciudades_sin_duplicados[col] = df_itinerarios_ciudades_sin_duplicados[col].map(tr.capitalizar_texto)\n",
    "\n",
    "        df_itinerarios_a_identificar_por_api_nuevo = pd.concat([df_paises_api_ciudades_duplicadas,df_itinerarios_ciudades_sin_duplicados], axis=0)\n",
    "        df_itinerarios_a_identificar_por_api_nuevo.to_pickle(ARCHIVO_EXTRACCION_API_DUPLICADOS)\n",
    "\n",
    "        ex.incorporar_información_df_original(df_itinerarios_ciudades_sin_lista,\n",
    "                                             df_itinerarios_ciudades_sin_duplicados,'ciudad','pais_api','pais_final',\n",
    "                                        pd.isnull(df_itinerarios_ciudades_sin_lista.pais_final))\n",
    "        print(f'Se ha asignado el pais a las ciudades con la información extraida de la API:{len(df_itinerarios_ciudades_sin_duplicados)}')\n",
    "\n",
    "    #Reemplazo los valores que al unirlo con el DF de escrapeo da lugar a duplicados:\n",
    "    df_itinerarios_ciudades_sin_lista.pais_final= df_itinerarios_ciudades_sin_lista.pais_final.replace(\n",
    "            {'Estados Unidos de América':'Estados Unidos',\n",
    "             'Spain': 'España',\n",
    "             'Arabia Saudita': 'Arabia Saudí',\n",
    "            'Fiyi': 'Fiji',\n",
    "            'Francia': 'France',\n",
    "            'Islas Turcas y Caicos': 'Turks and Caicos',\n",
    "            'Papua-Nueva Guinea': 'papua nueva guinea',\n",
    "            'Zimbawe': 'Zimbabue',\n",
    "            'Chipre Del Norte': 'Chipre',\n",
    "            'Chipre del Norte / Chipre': 'Chipre'})\n",
    "\n",
    "    #incorporo la información al df_itinerarios_original\n",
    "    df_itinerarios_ciudades_completo = df_itinerarios_ciudades[['itinerario_modificado_para_dividir', 'ciudad']]\n",
    "    df_itinerarios_ciudades_completo['pais_correcto']= None\n",
    "    ex.incorporar_información_df_original(df_itinerarios_ciudades_completo, df_itinerarios_ciudades_sin_lista,\n",
    "                                           'ciudad','pais_final','pais_correcto')\n",
    "    print(f'Se ha informado el pais correcto a cada ciudad de cada itinerario:{len(df_itinerarios_ciudades_completo)}')\n",
    "\n",
    "\n",
    "    ARCHIVO_GUARDAR_ITINERARIOS_PROCESADOS_1=os.getenv('ARCHIVO_GUARDAR_ITINERARIOS_PROCESADOS_1')\n",
    "    df_itinerarios_ciudades_sin_lista.to_pickle(ARCHIVO_GUARDAR_ITINERARIOS_PROCESADOS_1)\n",
    "    print(f'Se ha guardado la informacion de itinerarios y ciudades:{len(df_itinerarios_ciudades_completo)} ')\n",
    "    return df_itinerarios_ciudades_completo"
   ]
  },
  {
   "cell_type": "code",
   "execution_count": 77,
   "id": "53277c02",
   "metadata": {},
   "outputs": [
    {
     "name": "stdout",
     "output_type": "stream",
     "text": [
      "1445 paises correctos\n",
      "Se ha asignado el pais a las ciudades cuyo pais de la api de la ciudad coincide con el pais del viaje: 1445\n",
      "Se ha asignado el pais a las ciudades cuyo pais de la api de la ciudad no coincide con el pais del viaje: 805\n",
      "Se ha informado el pais correcto a cada ciudad de cada itinerario:9347\n",
      "Se ha guardado la informacion de itinerarios y ciudades:9347 \n",
      "<class 'pandas.core.frame.DataFrame'>\n",
      "RangeIndex: 9347 entries, 0 to 9346\n",
      "Data columns (total 3 columns):\n",
      " #   Column                              Non-Null Count  Dtype \n",
      "---  ------                              --------------  ----- \n",
      " 0   itinerario_modificado_para_dividir  9347 non-null   object\n",
      " 1   ciudad                              9347 non-null   object\n",
      " 2   pais_correcto                       9347 non-null   object\n",
      "dtypes: object(3)\n",
      "memory usage: 219.2+ KB\n"
     ]
    }
   ],
   "source": [
    "df=desglosar_ciudades_itinerarios_2(df_viajes_agrupados,API_KEY,ARCHIVO_GUARDAR_TOTAL_CIUDADES_API, ARCHIVO_EXTRACCION_API_DUPLICADOS)\n",
    "df.info()"
   ]
  }
 ],
 "metadata": {
  "kernelspec": {
   "display_name": "venv",
   "language": "python",
   "name": "python3"
  },
  "language_info": {
   "codemirror_mode": {
    "name": "ipython",
    "version": 3
   },
   "file_extension": ".py",
   "mimetype": "text/x-python",
   "name": "python",
   "nbconvert_exporter": "python",
   "pygments_lexer": "ipython3",
   "version": "3.12.5"
  }
 },
 "nbformat": 4,
 "nbformat_minor": 5
}
