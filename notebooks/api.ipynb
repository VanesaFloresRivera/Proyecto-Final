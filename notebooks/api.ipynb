{
 "cells": [
  {
   "cell_type": "code",
   "execution_count": 1,
   "id": "feec5146",
   "metadata": {},
   "outputs": [],
   "source": [
    "#importamos las librerias necesarias\n",
    "import pandas as pd\n",
    "import numpy as np\n",
    "import requests as rq\n",
    "import os\n",
    "import sys #permite navegar por el sistema\n",
    "sys.path.append(\"../\") #solo aplica al soporte\n",
    "from src.etl import extract as ex"
   ]
  },
  {
   "cell_type": "markdown",
   "id": "03344796",
   "metadata": {},
   "source": [
    "# TURISMO EMISOR"
   ]
  },
  {
   "cell_type": "code",
   "execution_count": null,
   "id": "19d66977",
   "metadata": {},
   "outputs": [],
   "source": [
    "#Creamos el end point de la api\n",
    "URL_API= os.getenv(\"URL_API\")\n",
    "url = URL_API\n",
    "headers = {'accept': 'application/octet-stream'}"
   ]
  },
  {
   "cell_type": "code",
   "execution_count": 3,
   "id": "6d54c51e",
   "metadata": {},
   "outputs": [
    {
     "data": {
      "text/plain": [
       "200"
      ]
     },
     "execution_count": 3,
     "metadata": {},
     "output_type": "execute_result"
    }
   ],
   "source": [
    "#obtenemos la respuesta de la api:\n",
    "respuesta = rq.get(url, headers=headers)\n",
    "respuesta.status_code\n"
   ]
  },
  {
   "cell_type": "code",
   "execution_count": 4,
   "id": "eb07f915",
   "metadata": {},
   "outputs": [],
   "source": [
    "ARCHIVO_GUARDAR_DATOS_API= os.getenv(\"ARCHIVO_GUARDAR_DATOS_API\")\n",
    "ruta_destino = os.path.abspath(os.path.join(os.getcwd(), ARCHIVO_GUARDAR_DATOS_API))"
   ]
  },
  {
   "cell_type": "code",
   "execution_count": 5,
   "id": "5b0c9ae5",
   "metadata": {},
   "outputs": [
    {
     "name": "stdout",
     "output_type": "stream",
     "text": [
      "Archivo descargado correctamente.\n"
     ]
    }
   ],
   "source": [
    "# Guardar el archivo si la respuesta fue exitosa\n",
    "if respuesta.status_code == 200:\n",
    "    with open(ruta_destino, 'wb') as f:\n",
    "        f.write(respuesta.content)\n",
    "    print(\"Archivo descargado correctamente.\")\n",
    "else:\n",
    "    print(f\"Error en la descarga. Código de estado: {respuesta.status_code}\")"
   ]
  },
  {
   "cell_type": "code",
   "execution_count": 13,
   "id": "0cd046ef",
   "metadata": {},
   "outputs": [
    {
     "name": "stdout",
     "output_type": "stream",
     "text": [
      "Archivo descargado correctamente.\n"
     ]
    }
   ],
   "source": [
    "ex.extraccion_datos_api()"
   ]
  },
  {
   "cell_type": "markdown",
   "id": "47abe9a2",
   "metadata": {},
   "source": [
    "# EXTRACCIÓN PAIS A TRAVES DE LA CIUDAD"
   ]
  },
  {
   "cell_type": "code",
   "execution_count": 3,
   "id": "056ded9e",
   "metadata": {},
   "outputs": [],
   "source": [
    "API_KEY= os.getenv(\"API_KEY\")"
   ]
  },
  {
   "cell_type": "code",
   "execution_count": 4,
   "id": "dd5fc12f",
   "metadata": {},
   "outputs": [],
   "source": [
    "#Ejemplo municipio\n",
    "municipio = 'Zagreb'"
   ]
  },
  {
   "cell_type": "code",
   "execution_count": 5,
   "id": "91c8d4b5",
   "metadata": {},
   "outputs": [],
   "source": [
    "# End point api \n",
    "url= f'https://api.opencagedata.com/geocode/v1/json?q= {municipio}&key={API_KEY}&language=es'"
   ]
  },
  {
   "cell_type": "code",
   "execution_count": 6,
   "id": "3278fa1b",
   "metadata": {},
   "outputs": [
    {
     "data": {
      "text/plain": [
       "200"
      ]
     },
     "execution_count": 6,
     "metadata": {},
     "output_type": "execute_result"
    }
   ],
   "source": [
    "#obtenemos la respuesta de la api:\n",
    "response =rq.get(url)\n",
    "response.status_code"
   ]
  },
  {
   "cell_type": "code",
   "execution_count": 7,
   "id": "28db9b7d",
   "metadata": {},
   "outputs": [],
   "source": [
    "#funcion para obtener pais, continente, latitud y longitud\n",
    "def obtener_pais_continente_lat_long (municipio):\n",
    "    url= f'https://api.opencagedata.com/geocode/v1/json?q= {municipio}&key={API_KEY}&language=es'\n",
    "    response =rq.get(url)\n",
    "    if response.status_code == 200:\n",
    "        data = response.json()\n",
    "        if data['results']:\n",
    "            continente = data['results'][0]['components']['continent']\n",
    "            print(continente)\n",
    "            pais = data['results'][0]['components']['country']\n",
    "            print(pais)\n",
    "            lat =data['results'][0]['geometry']['lat']\n",
    "            print(lat)\n",
    "            lon = data['results'][0]['geometry']['lng']\n",
    "            print(lon)\n",
    "            return continente,pais, lat, lon \n",
    "        else:\n",
    "            return None, None,None,None\n",
    "    else:\n",
    "        print(\"Error de conexión\")"
   ]
  },
  {
   "cell_type": "code",
   "execution_count": 8,
   "id": "b7f0bc93",
   "metadata": {},
   "outputs": [],
   "source": [
    "#islas del df escrapeado:\n",
    "lista_islas = ['Fiji',\n",
    " 'Islas Cook',\n",
    " 'Maldivas',\n",
    " 'Mauricio',\n",
    " 'Nueva Caledonia',\n",
    " 'Polinesia Francesa',\n",
    " 'Samoa',\n",
    " 'Seychelles',\n",
    " 'Zanzíbar']"
   ]
  },
  {
   "cell_type": "code",
   "execution_count": 9,
   "id": "b2a1b58b",
   "metadata": {},
   "outputs": [
    {
     "name": "stdout",
     "output_type": "stream",
     "text": [
      "Fiji\n",
      "Oceania\n",
      "Fiyi\n",
      "-18.1239696\n",
      "179.0122737\n",
      "Islas Cook\n",
      "Oceania\n",
      "Islas Cook\n",
      "-19.9969716\n",
      "-157.7858714\n",
      "Maldivas\n",
      "Asia\n",
      "Maldivas\n",
      "3.7203503\n",
      "73.2244152\n",
      "Mauricio\n",
      "Africa\n",
      "Mauricio\n",
      "-20.2759451\n",
      "57.5703566\n",
      "Nueva Caledonia\n",
      "Oceania\n",
      "Francia\n",
      "-21.3019905\n",
      "165.4880773\n",
      "Polinesia Francesa\n",
      "Europe\n",
      "Francia\n",
      "-17.0243749\n",
      "-144.6434898\n",
      "Samoa\n",
      "Oceania\n",
      "Samoa\n",
      "-13.7693895\n",
      "-172.12005\n",
      "Seychelles\n",
      "Africa\n",
      "Seychelles\n",
      "-4.6574977\n",
      "55.4540146\n",
      "Zanzíbar\n",
      "Africa\n",
      "Tanzania\n",
      "-6.1664908\n",
      "39.2074312\n"
     ]
    }
   ],
   "source": [
    "for isla in lista_islas:\n",
    "    print(isla)\n",
    "    obtener_pais_continente_lat_long(isla)"
   ]
  }
 ],
 "metadata": {
  "kernelspec": {
   "display_name": "venv",
   "language": "python",
   "name": "python3"
  },
  "language_info": {
   "codemirror_mode": {
    "name": "ipython",
    "version": 3
   },
   "file_extension": ".py",
   "mimetype": "text/x-python",
   "name": "python",
   "nbconvert_exporter": "python",
   "pygments_lexer": "ipython3",
   "version": "3.12.5"
  }
 },
 "nbformat": 4,
 "nbformat_minor": 5
}
