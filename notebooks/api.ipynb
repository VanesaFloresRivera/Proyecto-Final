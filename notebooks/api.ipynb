{
 "cells": [
  {
   "cell_type": "code",
   "execution_count": 11,
   "id": "feec5146",
   "metadata": {},
   "outputs": [],
   "source": [
    "#importamos las librerias necesarias\n",
    "import pandas as pd\n",
    "import numpy as np\n",
    "import requests as rq\n",
    "import os\n",
    "import sys #permite navegar por el sistema\n",
    "sys.path.append(\"../\") #solo aplica al soporte\n",
    "from src.etl import extract as ex"
   ]
  },
  {
   "cell_type": "code",
   "execution_count": null,
   "id": "19d66977",
   "metadata": {},
   "outputs": [],
   "source": [
    "#Creamos el end point de la api\n",
    "URL_API= os.getenv(\"URL_API\")\n",
    "url = URL_API\n",
    "headers = {'accept': 'application/octet-stream'}"
   ]
  },
  {
   "cell_type": "code",
   "execution_count": 3,
   "id": "6d54c51e",
   "metadata": {},
   "outputs": [
    {
     "data": {
      "text/plain": [
       "200"
      ]
     },
     "execution_count": 3,
     "metadata": {},
     "output_type": "execute_result"
    }
   ],
   "source": [
    "#obtenemos la respuesta de la api:\n",
    "respuesta = rq.get(url, headers=headers)\n",
    "respuesta.status_code\n"
   ]
  },
  {
   "cell_type": "code",
   "execution_count": 4,
   "id": "eb07f915",
   "metadata": {},
   "outputs": [],
   "source": [
    "ARCHIVO_GUARDAR_DATOS_API= os.getenv(\"ARCHIVO_GUARDAR_DATOS_API\")\n",
    "ruta_destino = os.path.abspath(os.path.join(os.getcwd(), ARCHIVO_GUARDAR_DATOS_API))"
   ]
  },
  {
   "cell_type": "code",
   "execution_count": 5,
   "id": "5b0c9ae5",
   "metadata": {},
   "outputs": [
    {
     "name": "stdout",
     "output_type": "stream",
     "text": [
      "Archivo descargado correctamente.\n"
     ]
    }
   ],
   "source": [
    "# Guardar el archivo si la respuesta fue exitosa\n",
    "if respuesta.status_code == 200:\n",
    "    with open(ruta_destino, 'wb') as f:\n",
    "        f.write(respuesta.content)\n",
    "    print(\"Archivo descargado correctamente.\")\n",
    "else:\n",
    "    print(f\"Error en la descarga. Código de estado: {respuesta.status_code}\")"
   ]
  },
  {
   "cell_type": "code",
   "execution_count": 13,
   "id": "0cd046ef",
   "metadata": {},
   "outputs": [
    {
     "name": "stdout",
     "output_type": "stream",
     "text": [
      "Archivo descargado correctamente.\n"
     ]
    }
   ],
   "source": [
    "ex.extraccion_datos_api()"
   ]
  }
 ],
 "metadata": {
  "kernelspec": {
   "display_name": "venv",
   "language": "python",
   "name": "python3"
  },
  "language_info": {
   "codemirror_mode": {
    "name": "ipython",
    "version": 3
   },
   "file_extension": ".py",
   "mimetype": "text/x-python",
   "name": "python",
   "nbconvert_exporter": "python",
   "pygments_lexer": "ipython3",
   "version": "3.12.5"
  }
 },
 "nbformat": 4,
 "nbformat_minor": 5
}
