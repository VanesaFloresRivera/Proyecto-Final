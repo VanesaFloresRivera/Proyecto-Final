{
 "cells": [
  {
   "cell_type": "code",
   "execution_count": 24,
   "id": "feec5146",
   "metadata": {},
   "outputs": [],
   "source": [
    "#importamos las librerias necesarias\n",
    "import pandas as pd\n",
    "import numpy as np\n",
    "import requests as rq\n",
    "import os"
   ]
  },
  {
   "cell_type": "code",
   "execution_count": 25,
   "id": "19d66977",
   "metadata": {},
   "outputs": [],
   "source": [
    "#Creamos el end point de la api\n",
    "url = 'https://dataestur.azure-api.net/API-SEGITTUR-v1/TURISMO_EMISOR_CCAA_PAIS_DL?CCAA=Todos'\n",
    "headers = {'accept': 'application/octet-stream'}"
   ]
  },
  {
   "cell_type": "code",
   "execution_count": 26,
   "id": "6d54c51e",
   "metadata": {},
   "outputs": [
    {
     "data": {
      "text/plain": [
       "200"
      ]
     },
     "execution_count": 26,
     "metadata": {},
     "output_type": "execute_result"
    }
   ],
   "source": [
    "#obtenemos la respuesta de la api:\n",
    "respuesta = rq.get(url, headers=headers)\n",
    "respuesta.status_code\n"
   ]
  },
  {
   "cell_type": "code",
   "execution_count": 35,
   "id": "eb07f915",
   "metadata": {},
   "outputs": [],
   "source": [
    "ruta_destino = os.path.abspath(os.path.join(os.getcwd(), '../data/turismo_emisor_ccaa_pais.csv'))"
   ]
  },
  {
   "cell_type": "code",
   "execution_count": 34,
   "id": "5b0c9ae5",
   "metadata": {},
   "outputs": [
    {
     "name": "stdout",
     "output_type": "stream",
     "text": [
      "Archivo descargado correctamente.\n"
     ]
    }
   ],
   "source": [
    "# Guardar el archivo si la respuesta fue exitosa\n",
    "if respuesta.status_code == 200:\n",
    "    with open(ruta_destino, 'wb') as f:\n",
    "        f.write(respuesta.content)\n",
    "    print(\"Archivo descargado correctamente.\")\n",
    "else:\n",
    "    print(f\"Error en la descarga. Código de estado: {respuesta.status_code}\")"
   ]
  }
 ],
 "metadata": {
  "kernelspec": {
   "display_name": "venv",
   "language": "python",
   "name": "python3"
  },
  "language_info": {
   "codemirror_mode": {
    "name": "ipython",
    "version": 3
   },
   "file_extension": ".py",
   "mimetype": "text/x-python",
   "name": "python",
   "nbconvert_exporter": "python",
   "pygments_lexer": "ipython3",
   "version": "3.12.5"
  }
 },
 "nbformat": 4,
 "nbformat_minor": 5
}
