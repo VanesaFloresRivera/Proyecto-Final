{
 "cells": [
  {
   "cell_type": "code",
   "execution_count": 1,
   "metadata": {},
   "outputs": [],
   "source": [
    "import pandas as pd\n",
    "import requests as rq\n",
    "import numpy as np\n",
    "import pyarrow\n",
    "from bs4 import BeautifulSoup as bs\n",
    "import os\n",
    "from dotenv import load_dotenv\n",
    "import time\n",
    "from datetime import datetime\n",
    "import sys #permite navegar por el sistema\n",
    "sys.path.append(\"../\") #solo aplica al soporte\n",
    "import src.escrapeo as es"
   ]
  },
  {
   "cell_type": "code",
   "execution_count": 2,
   "metadata": {},
   "outputs": [
    {
     "data": {
      "text/plain": [
       "True"
      ]
     },
     "execution_count": 2,
     "metadata": {},
     "output_type": "execute_result"
    }
   ],
   "source": [
    "load_dotenv()"
   ]
  },
  {
   "cell_type": "code",
   "execution_count": 3,
   "metadata": {},
   "outputs": [],
   "source": [
    "RUTA_SERVICE = os.getenv(\"RUTA_SERVICE\")\n",
    "URL_ESCRAPEO_INICIAL = os.getenv(\"URL_ESCRAPEO_INICIAL\")"
   ]
  },
  {
   "cell_type": "code",
   "execution_count": 4,
   "metadata": {},
   "outputs": [
    {
     "name": "stdout",
     "output_type": "stream",
     "text": [
      "Existen 119 destinos diferentes\n"
     ]
    }
   ],
   "source": [
    "url_destinos= URL_ESCRAPEO_INICIAL #url destinos totales\n",
    "sopa_destinos = es.crear_sopa(url_destinos) #creamos la sopa\n",
    "#Extraemos todos los contenidos de la clase landing-destination-title\n",
    "clase_landing_destination_title=sopa_destinos.find_all(\"div\", {\"class\":\"landing-destination-title\"})\n",
    "print(f'Existen {len(clase_landing_destination_title)} destinos diferentes')"
   ]
  },
  {
   "cell_type": "code",
   "execution_count": 5,
   "metadata": {},
   "outputs": [],
   "source": [
    "destinos_totales = es.destinos_totales(clase_landing_destination_title) #escrapeo los destinos totales"
   ]
  },
  {
   "cell_type": "code",
   "execution_count": 6,
   "metadata": {},
   "outputs": [
    {
     "data": {
      "application/vnd.microsoft.datawrangler.viewer.v0+json": {
       "columns": [
        {
         "name": "index",
         "rawType": "int64",
         "type": "integer"
        },
        {
         "name": "nombre_pais",
         "rawType": "object",
         "type": "string"
        },
        {
         "name": "num_viajes_ofertados",
         "rawType": "int64",
         "type": "integer"
        },
        {
         "name": "fecha_escrapeo",
         "rawType": "object",
         "type": "unknown"
        }
       ],
       "conversionMethod": "pd.DataFrame",
       "ref": "0a5d2380-961f-4232-afa7-93d2dd4bdce8",
       "rows": [
        [
         "0",
         "Albania",
         "1",
         "2025-04-08"
        ],
        [
         "1",
         "Alemania",
         "11",
         "2025-04-08"
        ],
        [
         "2",
         "Antigua",
         "2",
         "2025-04-08"
        ],
        [
         "3",
         "Argentina",
         "23",
         "2025-04-08"
        ],
        [
         "4",
         "Aruba",
         "3",
         "2025-04-08"
        ]
       ],
       "shape": {
        "columns": 3,
        "rows": 5
       }
      },
      "text/html": [
       "<div>\n",
       "<style scoped>\n",
       "    .dataframe tbody tr th:only-of-type {\n",
       "        vertical-align: middle;\n",
       "    }\n",
       "\n",
       "    .dataframe tbody tr th {\n",
       "        vertical-align: top;\n",
       "    }\n",
       "\n",
       "    .dataframe thead th {\n",
       "        text-align: right;\n",
       "    }\n",
       "</style>\n",
       "<table border=\"1\" class=\"dataframe\">\n",
       "  <thead>\n",
       "    <tr style=\"text-align: right;\">\n",
       "      <th></th>\n",
       "      <th>nombre_pais</th>\n",
       "      <th>num_viajes_ofertados</th>\n",
       "      <th>fecha_escrapeo</th>\n",
       "    </tr>\n",
       "  </thead>\n",
       "  <tbody>\n",
       "    <tr>\n",
       "      <th>0</th>\n",
       "      <td>Albania</td>\n",
       "      <td>1</td>\n",
       "      <td>2025-04-08</td>\n",
       "    </tr>\n",
       "    <tr>\n",
       "      <th>1</th>\n",
       "      <td>Alemania</td>\n",
       "      <td>11</td>\n",
       "      <td>2025-04-08</td>\n",
       "    </tr>\n",
       "    <tr>\n",
       "      <th>2</th>\n",
       "      <td>Antigua</td>\n",
       "      <td>2</td>\n",
       "      <td>2025-04-08</td>\n",
       "    </tr>\n",
       "    <tr>\n",
       "      <th>3</th>\n",
       "      <td>Argentina</td>\n",
       "      <td>23</td>\n",
       "      <td>2025-04-08</td>\n",
       "    </tr>\n",
       "    <tr>\n",
       "      <th>4</th>\n",
       "      <td>Aruba</td>\n",
       "      <td>3</td>\n",
       "      <td>2025-04-08</td>\n",
       "    </tr>\n",
       "  </tbody>\n",
       "</table>\n",
       "</div>"
      ],
      "text/plain": [
       "  nombre_pais  num_viajes_ofertados fecha_escrapeo\n",
       "0     Albania                     1     2025-04-08\n",
       "1    Alemania                    11     2025-04-08\n",
       "2     Antigua                     2     2025-04-08\n",
       "3   Argentina                    23     2025-04-08\n",
       "4       Aruba                     3     2025-04-08"
      ]
     },
     "execution_count": 6,
     "metadata": {},
     "output_type": "execute_result"
    }
   ],
   "source": [
    "df_destinos_totales = pd.DataFrame(destinos_totales)\n",
    "df_destinos_totales.head()"
   ]
  },
  {
   "cell_type": "code",
   "execution_count": 7,
   "metadata": {},
   "outputs": [],
   "source": [
    "#añado los destinos actuales a los destinos anteriores y guardo el DF con los destinos totales acumulados\n",
    "ARCHIVO_GUARDAR_ESCRAPEO_DESTINOS = os.getenv(\"ARCHIVO_GUARDAR_ESCRAPEO_DESTINOS\")\n",
    "if os.path.exists(ARCHIVO_GUARDAR_ESCRAPEO_DESTINOS): #comprueba si existe un fichero ya con destinos\n",
    "    df_existente_destinos = pd.read_pickle(ARCHIVO_GUARDAR_ESCRAPEO_DESTINOS) #en caso de existir lo importa\n",
    "    df_combinado_destinos = pd.concat([df_existente_destinos,df_destinos_totales], ignore_index=True) #combina el fichero anterior con el nuevo obtenido en el escrapeo\n",
    "else:\n",
    "    df_combinado_destinos=df_destinos_totales #si no existe fichero previo, entonces, crea uno con el obtenido en el escrapeo\n",
    "df_combinado_destinos.drop_duplicates(inplace=True)\n",
    "df_combinado_destinos.to_pickle(ARCHIVO_GUARDAR_ESCRAPEO_DESTINOS) #guarda el fichero en formato formato pickle"
   ]
  },
  {
   "cell_type": "code",
   "execution_count": 8,
   "metadata": {},
   "outputs": [
    {
     "name": "stdout",
     "output_type": "stream",
     "text": [
      "Albania\n",
      "Alemania\n",
      "Antigua\n",
      "Argentina\n",
      "Aruba\n",
      "Australia\n",
      "Austria\n",
      "Bahamas\n",
      "Barbados\n",
      "Bélgica\n",
      "Belice\n",
      "Bolivia\n",
      "Botsuana\n",
      "Brasil\n",
      "Bulgaria\n",
      "Bután\n",
      "Cabo Verde\n",
      "Camboya\n",
      "Canadá\n",
      "Chile\n",
      "China\n",
      "Chipre\n",
      "Colombia\n",
      "Corea Del Sur\n",
      "Costa Rica\n",
      "Croacia\n",
      "Curaçao\n",
      "Dinamarca\n",
      "Dominica\n",
      "Ecuador\n",
      "Egipto\n",
      "El Salvador\n",
      "Emiratos Árabes Unidos\n",
      "Eslovaquia\n",
      "Eslovenia\n",
      "España\n",
      "Estados Unidos\n",
      "Estonia\n",
      "Fiji\n",
      "Filipinas\n",
      "Finlandia\n",
      "Francia\n",
      "Georgia\n",
      "Granada\n",
      "Grecia\n",
      "Guadalupe\n",
      "Guatemala\n",
      "Honduras\n",
      "Hungría\n",
      "India\n",
      "Indonesia\n",
      "Irlanda\n",
      "Islandia\n",
      "Islas Caimán\n",
      "Islas Cook\n",
      "Islas Feroe\n",
      "Italia\n",
      "Jamaica\n",
      "Japón\n",
      "Jordania\n",
      "Kenia\n",
      "Laos\n",
      "Letonia\n",
      "Lituania\n",
      "Madagascar\n",
      "Malasia\n",
      "Maldivas\n",
      "Malta\n",
      "Marruecos\n",
      "Martinica\n",
      "Mauricio\n",
      "México\n",
      "Mongolia\n",
      "Montenegro\n",
      "Namibia\n",
      "Nepal\n",
      "Nicaragua\n",
      "Noruega\n",
      "Nueva Caledonia\n",
      "Nueva Zelanda\n",
      "Omán\n",
      "Países Bajos\n",
      "Panamá\n",
      "Papúa Nueva Guinea\n",
      "Perú\n",
      "Polinesia Francesa\n",
      "Polonia\n",
      "Portugal\n",
      "Puerto Rico\n",
      "Qatar\n",
      "Reino Unido\n",
      "República Checa\n",
      "República Dominicana\n",
      "Reunión\n",
      "Riviera Maya\n",
      "Ruanda\n",
      "Rumanía\n",
      "Saint Martin\n",
      "Samoa\n",
      "Santa Lucía\n",
      "Serbia\n",
      "Seychelles\n",
      "Singapur\n",
      "Sri Lanka\n",
      "Sudáfrica\n",
      "Suecia\n",
      "Suiza\n",
      "Tailandia\n",
      "Taiwán\n",
      "Tanzania\n",
      "Túnez\n",
      "Turks and Caicos\n",
      "Turquía\n",
      "Uganda\n",
      "Uruguay\n",
      "Uzbekistán\n",
      "Vietnam\n",
      "Zanzíbar\n",
      "Zimbabue\n",
      "El escrapeo ha finalizado, la extracción de la información de todos los destinos ha sido obtenida\n"
     ]
    }
   ],
   "source": [
    "viajes_totales_destinos = es.viajes_totales_destinos(destinos_totales) #escrapeo los viajes totales de todos  los destinos "
   ]
  },
  {
   "cell_type": "code",
   "execution_count": 9,
   "metadata": {},
   "outputs": [
    {
     "data": {
      "application/vnd.microsoft.datawrangler.viewer.v0+json": {
       "columns": [
        {
         "name": "index",
         "rawType": "int64",
         "type": "integer"
        },
        {
         "name": "pais",
         "rawType": "object",
         "type": "string"
        },
        {
         "name": "nombre_viaje",
         "rawType": "object",
         "type": "string"
        },
        {
         "name": "duracion_viaje",
         "rawType": "object",
         "type": "string"
        },
        {
         "name": "itinerario",
         "rawType": "object",
         "type": "string"
        },
        {
         "name": "precio",
         "rawType": "int64",
         "type": "integer"
        },
        {
         "name": "fecha_escrapeo",
         "rawType": "object",
         "type": "unknown"
        }
       ],
       "conversionMethod": "pd.DataFrame",
       "ref": "6fd824a5-9271-48b1-bf9d-25a20c602608",
       "rows": [
        [
         "0",
         "Albania",
         "Albania y Montenegro",
         "8 Días / 7 Noches",
         "Tirana, Dürres, Berat, Kruja, Shkodër, Petrovac, Budva, Cetinje y Bar",
         "1755",
         "2025-04-08"
        ],
        [
         "1",
         "Alemania",
         "Berlín",
         "4 Días / 3 Noches",
         "Berlín",
         "708",
         "2025-04-08"
        ],
        [
         "2",
         "Alemania",
         "Fly & Drive Austria, Entre Lagos y Montañas",
         "8 Días / 7 Noches",
         "Salzburgo, Gmunden, Linz, Melk, Viena, Graz, Hallstatt, St. Wolfgang, St. Johann in Tirol e Innsbruck.",
         "827",
         "2025-04-08"
        ],
        [
         "3",
         "Alemania",
         "Fly & Drive Carlomagno a su aire",
         "10 Días / 9 Noches",
         "Bruselas, Durbuy, Lieja, Aquisgrán, Colonia, Bonn, Königswinter, Coblenza, Boppard, Cochem, Tréveris, Luxemburgo, Dinant, Gante, Brujas, Lovaina, Malinas y Amberes",
         "857",
         "2025-04-08"
        ],
        [
         "4",
         "Alemania",
         "Fly & Drive Tirol al Completo",
         "8 Días / 7 Noches",
         "sbruck, Cataratas Krimml, Vipiteno, Bresanona, Bolzano, Trento, Marmolada, Canazei, Cortina D’Ampezzo y Brunico.",
         "894",
         "2025-04-08"
        ]
       ],
       "shape": {
        "columns": 6,
        "rows": 5
       }
      },
      "text/html": [
       "<div>\n",
       "<style scoped>\n",
       "    .dataframe tbody tr th:only-of-type {\n",
       "        vertical-align: middle;\n",
       "    }\n",
       "\n",
       "    .dataframe tbody tr th {\n",
       "        vertical-align: top;\n",
       "    }\n",
       "\n",
       "    .dataframe thead th {\n",
       "        text-align: right;\n",
       "    }\n",
       "</style>\n",
       "<table border=\"1\" class=\"dataframe\">\n",
       "  <thead>\n",
       "    <tr style=\"text-align: right;\">\n",
       "      <th></th>\n",
       "      <th>pais</th>\n",
       "      <th>nombre_viaje</th>\n",
       "      <th>duracion_viaje</th>\n",
       "      <th>itinerario</th>\n",
       "      <th>precio</th>\n",
       "      <th>fecha_escrapeo</th>\n",
       "    </tr>\n",
       "  </thead>\n",
       "  <tbody>\n",
       "    <tr>\n",
       "      <th>0</th>\n",
       "      <td>Albania</td>\n",
       "      <td>Albania y Montenegro</td>\n",
       "      <td>8 Días / 7 Noches</td>\n",
       "      <td>Tirana, Dürres, Berat, Kruja, Shkodër, Petrova...</td>\n",
       "      <td>1755</td>\n",
       "      <td>2025-04-08</td>\n",
       "    </tr>\n",
       "    <tr>\n",
       "      <th>1</th>\n",
       "      <td>Alemania</td>\n",
       "      <td>Berlín</td>\n",
       "      <td>4 Días / 3 Noches</td>\n",
       "      <td>Berlín</td>\n",
       "      <td>708</td>\n",
       "      <td>2025-04-08</td>\n",
       "    </tr>\n",
       "    <tr>\n",
       "      <th>2</th>\n",
       "      <td>Alemania</td>\n",
       "      <td>Fly &amp; Drive Austria, Entre Lagos y Montañas</td>\n",
       "      <td>8 Días / 7 Noches</td>\n",
       "      <td>Salzburgo, Gmunden, Linz, Melk, Viena, Graz, H...</td>\n",
       "      <td>827</td>\n",
       "      <td>2025-04-08</td>\n",
       "    </tr>\n",
       "    <tr>\n",
       "      <th>3</th>\n",
       "      <td>Alemania</td>\n",
       "      <td>Fly &amp; Drive Carlomagno a su aire</td>\n",
       "      <td>10 Días / 9 Noches</td>\n",
       "      <td>Bruselas, Durbuy, Lieja, Aquisgrán, Colonia, B...</td>\n",
       "      <td>857</td>\n",
       "      <td>2025-04-08</td>\n",
       "    </tr>\n",
       "    <tr>\n",
       "      <th>4</th>\n",
       "      <td>Alemania</td>\n",
       "      <td>Fly &amp; Drive Tirol al Completo</td>\n",
       "      <td>8 Días / 7 Noches</td>\n",
       "      <td>sbruck, Cataratas Krimml, Vipiteno, Bresanona,...</td>\n",
       "      <td>894</td>\n",
       "      <td>2025-04-08</td>\n",
       "    </tr>\n",
       "  </tbody>\n",
       "</table>\n",
       "</div>"
      ],
      "text/plain": [
       "       pais                                 nombre_viaje      duracion_viaje  \\\n",
       "0   Albania                         Albania y Montenegro   8 Días / 7 Noches   \n",
       "1  Alemania                                       Berlín   4 Días / 3 Noches   \n",
       "2  Alemania  Fly & Drive Austria, Entre Lagos y Montañas   8 Días / 7 Noches   \n",
       "3  Alemania             Fly & Drive Carlomagno a su aire  10 Días / 9 Noches   \n",
       "4  Alemania                Fly & Drive Tirol al Completo   8 Días / 7 Noches   \n",
       "\n",
       "                                          itinerario  precio fecha_escrapeo  \n",
       "0  Tirana, Dürres, Berat, Kruja, Shkodër, Petrova...    1755     2025-04-08  \n",
       "1                                             Berlín     708     2025-04-08  \n",
       "2  Salzburgo, Gmunden, Linz, Melk, Viena, Graz, H...     827     2025-04-08  \n",
       "3  Bruselas, Durbuy, Lieja, Aquisgrán, Colonia, B...     857     2025-04-08  \n",
       "4  sbruck, Cataratas Krimml, Vipiteno, Bresanona,...     894     2025-04-08  "
      ]
     },
     "execution_count": 9,
     "metadata": {},
     "output_type": "execute_result"
    }
   ],
   "source": [
    "df_viajes_totales_destinos= pd.DataFrame(viajes_totales_destinos)\n",
    "df_viajes_totales_destinos.head()"
   ]
  },
  {
   "cell_type": "code",
   "execution_count": 10,
   "metadata": {},
   "outputs": [],
   "source": [
    "#añado los viajes actuales a los viajes anteriores y guardo el DF con los viajes totales de todos los destinos acumulados\n",
    "ARCHIVO_GUARDAR_ESCRAPEO_VIAJES = os.getenv(\"ARCHIVO_GUARDAR_ESCRAPEO_VIAJES\")\n",
    "if os.path.exists(ARCHIVO_GUARDAR_ESCRAPEO_VIAJES): #comprueba si existe un fichero ya con viajes\n",
    "    df_existente_viajes_totales= pd.read_pickle(ARCHIVO_GUARDAR_ESCRAPEO_VIAJES)#en caso de existir lo importa\n",
    "    df_combinado_viajes_totales = pd.concat([df_existente_viajes_totales,df_viajes_totales_destinos], ignore_index=True) #combina el fichero anterior con el nuevo obtenido en el escrapeo\n",
    "else:\n",
    "    df_combinado_viajes_totales=df_viajes_totales_destinos  #si no existe fichero previo, entonces, crea uno con el obtenido en el escrapeo\n",
    "df_combinado_viajes_totales.drop_duplicates(inplace=True)\n",
    "df_combinado_viajes_totales.to_pickle(ARCHIVO_GUARDAR_ESCRAPEO_VIAJES) #guarda el fichero en formato pickle"
   ]
  },
  {
   "cell_type": "code",
   "execution_count": 13,
   "metadata": {},
   "outputs": [
    {
     "data": {
      "text/plain": [
       "(2056, 6)"
      ]
     },
     "execution_count": 13,
     "metadata": {},
     "output_type": "execute_result"
    }
   ],
   "source": [
    "df_combinado_viajes_totales.shape"
   ]
  }
 ],
 "metadata": {
  "kernelspec": {
   "display_name": "venv",
   "language": "python",
   "name": "python3"
  },
  "language_info": {
   "codemirror_mode": {
    "name": "ipython",
    "version": 3
   },
   "file_extension": ".py",
   "mimetype": "text/x-python",
   "name": "python",
   "nbconvert_exporter": "python",
   "pygments_lexer": "ipython3",
   "version": "3.12.5"
  }
 },
 "nbformat": 4,
 "nbformat_minor": 2
}
