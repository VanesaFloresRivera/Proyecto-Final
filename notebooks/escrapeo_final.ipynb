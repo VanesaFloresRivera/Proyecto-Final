{
 "cells": [
  {
   "cell_type": "code",
   "execution_count": 1,
   "metadata": {},
   "outputs": [],
   "source": [
    "import pandas as pd\n",
    "import requests as rq\n",
    "import numpy as np\n",
    "import pyarrow\n",
    "from bs4 import BeautifulSoup as bs\n",
    "import os\n",
    "from dotenv import load_dotenv\n",
    "import time\n",
    "from datetime import datetime\n",
    "import sys #permite navegar por el sistema\n",
    "sys.path.append(\"../\") #solo aplica al soporte\n",
    "from src.etl import extract as ex"
   ]
  },
  {
   "cell_type": "code",
   "execution_count": 2,
   "metadata": {},
   "outputs": [
    {
     "data": {
      "text/plain": [
       "True"
      ]
     },
     "execution_count": 2,
     "metadata": {},
     "output_type": "execute_result"
    }
   ],
   "source": [
    "load_dotenv()"
   ]
  },
  {
   "cell_type": "code",
   "execution_count": 3,
   "metadata": {},
   "outputs": [],
   "source": [
    "RUTA_SERVICE = os.getenv(\"RUTA_SERVICE\")\n",
    "URL_ESCRAPEO_INICIAL = os.getenv(\"URL_ESCRAPEO_INICIAL\")"
   ]
  },
  {
   "cell_type": "code",
   "execution_count": 4,
   "metadata": {},
   "outputs": [
    {
     "name": "stdout",
     "output_type": "stream",
     "text": [
      "Existen 119 destinos diferentes\n"
     ]
    }
   ],
   "source": [
    "url_destinos= URL_ESCRAPEO_INICIAL #url destinos totales\n",
    "sopa_destinos = ex.crear_sopa(url_destinos) #creamos la sopa\n",
    "#Extraemos todos los contenidos de la clase landing-destination-title\n",
    "clase_landing_destination_title=sopa_destinos.find_all(\"div\", {\"class\":\"landing-destination-title\"})\n",
    "print(f'Existen {len(clase_landing_destination_title)} destinos diferentes')"
   ]
  },
  {
   "cell_type": "code",
   "execution_count": 5,
   "metadata": {},
   "outputs": [
    {
     "data": {
      "application/vnd.microsoft.datawrangler.viewer.v0+json": {
       "columns": [
        {
         "name": "index",
         "rawType": "int64",
         "type": "integer"
        },
        {
         "name": "nombre_pais",
         "rawType": "object",
         "type": "string"
        },
        {
         "name": "num_viajes_ofertados",
         "rawType": "int64",
         "type": "integer"
        },
        {
         "name": "url_destino",
         "rawType": "object",
         "type": "string"
        },
        {
         "name": "fecha_escrapeo",
         "rawType": "datetime64[ns]",
         "type": "datetime"
        }
       ],
       "conversionMethod": "pd.DataFrame",
       "ref": "e7662931-5369-435e-bc6b-5d3511865004",
       "rows": [
        [
         "0",
         "Albania",
         "1",
         "https://es.tui.com/viajes/albania",
         "2025-04-20 00:00:00"
        ],
        [
         "1",
         "Alemania",
         "11",
         "https://es.tui.com/viajes/alemania",
         "2025-04-20 00:00:00"
        ],
        [
         "2",
         "Antigua",
         "2",
         "https://es.tui.com/viajes/antiguacaribe",
         "2025-04-20 00:00:00"
        ],
        [
         "3",
         "Argentina",
         "23",
         "https://es.tui.com/viajes/argentina",
         "2025-04-20 00:00:00"
        ],
        [
         "4",
         "Aruba",
         "3",
         "https://es.tui.com/viajes/aruba",
         "2025-04-20 00:00:00"
        ]
       ],
       "shape": {
        "columns": 4,
        "rows": 5
       }
      },
      "text/html": [
       "<div>\n",
       "<style scoped>\n",
       "    .dataframe tbody tr th:only-of-type {\n",
       "        vertical-align: middle;\n",
       "    }\n",
       "\n",
       "    .dataframe tbody tr th {\n",
       "        vertical-align: top;\n",
       "    }\n",
       "\n",
       "    .dataframe thead th {\n",
       "        text-align: right;\n",
       "    }\n",
       "</style>\n",
       "<table border=\"1\" class=\"dataframe\">\n",
       "  <thead>\n",
       "    <tr style=\"text-align: right;\">\n",
       "      <th></th>\n",
       "      <th>nombre_pais</th>\n",
       "      <th>num_viajes_ofertados</th>\n",
       "      <th>url_destino</th>\n",
       "      <th>fecha_escrapeo</th>\n",
       "    </tr>\n",
       "  </thead>\n",
       "  <tbody>\n",
       "    <tr>\n",
       "      <th>0</th>\n",
       "      <td>Albania</td>\n",
       "      <td>1</td>\n",
       "      <td>https://es.tui.com/viajes/albania</td>\n",
       "      <td>2025-04-20</td>\n",
       "    </tr>\n",
       "    <tr>\n",
       "      <th>1</th>\n",
       "      <td>Alemania</td>\n",
       "      <td>11</td>\n",
       "      <td>https://es.tui.com/viajes/alemania</td>\n",
       "      <td>2025-04-20</td>\n",
       "    </tr>\n",
       "    <tr>\n",
       "      <th>2</th>\n",
       "      <td>Antigua</td>\n",
       "      <td>2</td>\n",
       "      <td>https://es.tui.com/viajes/antiguacaribe</td>\n",
       "      <td>2025-04-20</td>\n",
       "    </tr>\n",
       "    <tr>\n",
       "      <th>3</th>\n",
       "      <td>Argentina</td>\n",
       "      <td>23</td>\n",
       "      <td>https://es.tui.com/viajes/argentina</td>\n",
       "      <td>2025-04-20</td>\n",
       "    </tr>\n",
       "    <tr>\n",
       "      <th>4</th>\n",
       "      <td>Aruba</td>\n",
       "      <td>3</td>\n",
       "      <td>https://es.tui.com/viajes/aruba</td>\n",
       "      <td>2025-04-20</td>\n",
       "    </tr>\n",
       "  </tbody>\n",
       "</table>\n",
       "</div>"
      ],
      "text/plain": [
       "  nombre_pais  num_viajes_ofertados                              url_destino  \\\n",
       "0     Albania                     1        https://es.tui.com/viajes/albania   \n",
       "1    Alemania                    11       https://es.tui.com/viajes/alemania   \n",
       "2     Antigua                     2  https://es.tui.com/viajes/antiguacaribe   \n",
       "3   Argentina                    23      https://es.tui.com/viajes/argentina   \n",
       "4       Aruba                     3          https://es.tui.com/viajes/aruba   \n",
       "\n",
       "  fecha_escrapeo  \n",
       "0     2025-04-20  \n",
       "1     2025-04-20  \n",
       "2     2025-04-20  \n",
       "3     2025-04-20  \n",
       "4     2025-04-20  "
      ]
     },
     "execution_count": 5,
     "metadata": {},
     "output_type": "execute_result"
    }
   ],
   "source": [
    "df_destinos_totales = ex.extracción_destinos_con_url(sopa_destinos) #escrapeo los destinos totales\n",
    "df_destinos_totales.head()"
   ]
  },
  {
   "cell_type": "code",
   "execution_count": 6,
   "metadata": {},
   "outputs": [
    {
     "name": "stdout",
     "output_type": "stream",
     "text": [
      "<class 'pandas.core.frame.DataFrame'>\n",
      "RangeIndex: 119 entries, 0 to 118\n",
      "Data columns (total 4 columns):\n",
      " #   Column                Non-Null Count  Dtype         \n",
      "---  ------                --------------  -----         \n",
      " 0   nombre_pais           119 non-null    object        \n",
      " 1   num_viajes_ofertados  119 non-null    int64         \n",
      " 2   url_destino           119 non-null    object        \n",
      " 3   fecha_escrapeo        119 non-null    datetime64[ns]\n",
      "dtypes: datetime64[ns](1), int64(1), object(2)\n",
      "memory usage: 3.8+ KB\n"
     ]
    }
   ],
   "source": [
    "df_destinos_totales.info()"
   ]
  },
  {
   "cell_type": "code",
   "execution_count": 7,
   "metadata": {},
   "outputs": [],
   "source": [
    "#añado los destinos actuales a los destinos anteriores y guardo el DF con los destinos totales acumulados\n",
    "ARCHIVO_GUARDAR_ESCRAPEO_DESTINOS = os.getenv(\"ARCHIVO_GUARDAR_ESCRAPEO_DESTINOS\")\n",
    "if os.path.exists(ARCHIVO_GUARDAR_ESCRAPEO_DESTINOS): #comprueba si existe un fichero ya con destinos\n",
    "    df_existente_destinos = pd.read_pickle(ARCHIVO_GUARDAR_ESCRAPEO_DESTINOS) #en caso de existir lo importa\n",
    "    df_combinado_destinos = pd.concat([df_existente_destinos,df_destinos_totales], ignore_index=True) #combina el fichero anterior con el nuevo obtenido en el escrapeo\n",
    "else:\n",
    "    df_combinado_destinos=df_destinos_totales #si no existe fichero previo, entonces, crea uno con el obtenido en el escrapeo\n",
    "df_combinado_destinos.drop_duplicates(inplace=True)\n",
    "df_combinado_destinos.to_pickle(ARCHIVO_GUARDAR_ESCRAPEO_DESTINOS) #guarda el fichero en formato formato pickle"
   ]
  },
  {
   "cell_type": "code",
   "execution_count": 8,
   "metadata": {},
   "outputs": [
    {
     "data": {
      "text/plain": [
       "(1545, 4)"
      ]
     },
     "execution_count": 8,
     "metadata": {},
     "output_type": "execute_result"
    }
   ],
   "source": [
    "df_combinado_destinos.shape"
   ]
  },
  {
   "cell_type": "code",
   "execution_count": 9,
   "metadata": {},
   "outputs": [
    {
     "name": "stdout",
     "output_type": "stream",
     "text": [
      "<class 'pandas.core.frame.DataFrame'>\n",
      "Index: 1545 entries, 0 to 1544\n",
      "Data columns (total 4 columns):\n",
      " #   Column                Non-Null Count  Dtype         \n",
      "---  ------                --------------  -----         \n",
      " 0   nombre_pais           1545 non-null   object        \n",
      " 1   num_viajes_ofertados  1545 non-null   int64         \n",
      " 2   url_destino           1545 non-null   object        \n",
      " 3   fecha_escrapeo        1545 non-null   datetime64[ns]\n",
      "dtypes: datetime64[ns](1), int64(1), object(2)\n",
      "memory usage: 60.4+ KB\n"
     ]
    }
   ],
   "source": [
    "df_combinado_destinos.info()"
   ]
  },
  {
   "cell_type": "code",
   "execution_count": 10,
   "metadata": {},
   "outputs": [
    {
     "name": "stdout",
     "output_type": "stream",
     "text": [
      " Para Albania en Europa se ha encontrado 1 viajes diferentes\n",
      " Para Alemania en Europa se ha encontrado 11 viajes diferentes\n",
      " Para Antigua en Caribe se ha encontrado 2 viajes diferentes\n",
      " Para Argentina en América se ha encontrado 23 viajes diferentes\n",
      " Para Aruba en Caribe se ha encontrado 3 viajes diferentes\n",
      " Para Australia en Oceanía se ha encontrado 16 viajes diferentes\n",
      " Para Austria en Europa se ha encontrado 14 viajes diferentes\n",
      " Para Bahamas en Caribe se ha encontrado 5 viajes diferentes\n",
      " Para Barbados en Caribe se ha encontrado 2 viajes diferentes\n",
      " Para Bélgica en Europa se ha encontrado 5 viajes diferentes\n",
      " Para Belice en América se ha encontrado 1 viajes diferentes\n",
      " Para Bolivia en América se ha encontrado 2 viajes diferentes\n",
      " Para Botsuana en África se ha encontrado 8 viajes diferentes\n",
      " Para Brasil en América se ha encontrado 9 viajes diferentes\n",
      " Para Bulgaria en Europa se ha encontrado 4 viajes diferentes\n",
      " Para Bután en Asia se ha encontrado 6 viajes diferentes\n",
      " Para Cabo Verde en África se ha encontrado 1 viajes diferentes\n",
      " Para Camboya en Asia se ha encontrado 7 viajes diferentes\n",
      " Para Canadá en América se ha encontrado 35 viajes diferentes\n",
      " Para Chile en América se ha encontrado 19 viajes diferentes\n",
      " Para China en Asia se ha encontrado 19 viajes diferentes\n",
      " Para Chipre en Europa se ha encontrado 2 viajes diferentes\n",
      " Para Colombia en América se ha encontrado 18 viajes diferentes\n",
      " Para Corea Del Sur en Asia se ha encontrado 4 viajes diferentes\n",
      " Para Costa Rica en América se ha encontrado 27 viajes diferentes\n",
      " Para Croacia en Europa se ha encontrado 2 viajes diferentes\n",
      " Para Curaçao en Caribe se ha encontrado 2 viajes diferentes\n",
      " Para Dinamarca en Europa se ha encontrado 5 viajes diferentes\n",
      " Para Dominica en Caribe se ha encontrado 1 viajes diferentes\n",
      " Para Ecuador en América se ha encontrado 4 viajes diferentes\n",
      " Para Egipto en África se ha encontrado 14 viajes diferentes\n",
      " Para El Salvador en América se ha encontrado 2 viajes diferentes\n",
      " Para Emiratos Árabes Unidos en Oriente Medio se ha encontrado 10 viajes diferentes\n",
      " Para Eslovaquia en Europa se ha encontrado 6 viajes diferentes\n",
      " Para Eslovenia en Europa se ha encontrado 2 viajes diferentes\n",
      " Para España en Europa se ha encontrado 8 viajes diferentes\n",
      " Para Estados Unidos en América se ha encontrado 121 viajes diferentes\n",
      " Para Estonia en Europa se ha encontrado 5 viajes diferentes\n",
      " Para Fiji en Islas Exóticas se ha encontrado 3 viajes diferentes\n",
      " Para Filipinas en Asia se ha encontrado 3 viajes diferentes\n",
      " Para Finlandia en Europa se ha encontrado 5 viajes diferentes\n",
      " Para Francia en Europa se ha encontrado 9 viajes diferentes\n",
      " Para Georgia en Oriente Medio se ha encontrado 1 viajes diferentes\n",
      " Para Granada en Caribe se ha encontrado 2 viajes diferentes\n",
      " Para Grecia en Europa se ha encontrado 13 viajes diferentes\n",
      " Para Guadalupe en Caribe se ha encontrado 2 viajes diferentes\n",
      " Para Guatemala en América se ha encontrado 11 viajes diferentes\n",
      " Para Honduras en América se ha encontrado 1 viajes diferentes\n",
      " Para Hungría en Europa se ha encontrado 10 viajes diferentes\n",
      " Para India en Asia se ha encontrado 17 viajes diferentes\n",
      " Para Indonesia en Asia se ha encontrado 10 viajes diferentes\n",
      " Para Irlanda en Europa se ha encontrado 6 viajes diferentes\n",
      " Para Islandia en Europa se ha encontrado 10 viajes diferentes\n",
      " Para Islas Caimán en Caribe se ha encontrado 2 viajes diferentes\n",
      " Para Islas Cook en Islas Exóticas se ha encontrado 3 viajes diferentes\n",
      " Para Islas Feroe en Europa se ha encontrado 1 viajes diferentes\n",
      " Para Italia en Europa se ha encontrado 30 viajes diferentes\n",
      " Para Jamaica en Caribe se ha encontrado 5 viajes diferentes\n",
      " Para Japón en Asia se ha encontrado 20 viajes diferentes\n",
      " Para Jordania en Oriente Medio se ha encontrado 7 viajes diferentes\n",
      " Para Kenia en África se ha encontrado 32 viajes diferentes\n",
      " Para Laos en Asia se ha encontrado 2 viajes diferentes\n",
      " Para Letonia en Europa se ha encontrado 5 viajes diferentes\n",
      " Para Lituania en Europa se ha encontrado 5 viajes diferentes\n",
      " Para Madagascar en África se ha encontrado 4 viajes diferentes\n",
      " Para Malasia en Asia se ha encontrado 8 viajes diferentes\n",
      " Para Maldivas en Islas Exóticas se ha encontrado 8 viajes diferentes\n",
      " Para Malta en Europa se ha encontrado 2 viajes diferentes\n",
      " Para Marruecos en África se ha encontrado 6 viajes diferentes\n",
      " Para Martinica en Caribe se ha encontrado 2 viajes diferentes\n",
      " Para Mauricio en Islas Exóticas se ha encontrado 4 viajes diferentes\n",
      " Para México en América se ha encontrado 35 viajes diferentes\n",
      " Para Mongolia en Asia se ha encontrado 1 viajes diferentes\n",
      " Para Montenegro en Europa se ha encontrado 2 viajes diferentes\n",
      " Para Namibia en África se ha encontrado 14 viajes diferentes\n",
      " Para Nepal en Asia se ha encontrado 6 viajes diferentes\n",
      " Para Nicaragua en América se ha encontrado 2 viajes diferentes\n",
      " Para Noruega en Europa se ha encontrado 11 viajes diferentes\n",
      " Para Nueva Caledonia en Islas Exóticas se ha encontrado 1 viajes diferentes\n",
      " Para Nueva Zelanda en Oceanía se ha encontrado 15 viajes diferentes\n",
      " Para Omán en Oriente Medio se ha encontrado 1 viajes diferentes\n",
      " Para Países Bajos en Europa se ha encontrado 6 viajes diferentes\n",
      " Para Panamá en América se ha encontrado 11 viajes diferentes\n",
      " Para Papúa Nueva Guinea en Oceanía se ha encontrado 1 viajes diferentes\n",
      " Para Perú en América se ha encontrado 13 viajes diferentes\n",
      " Para Polinesia Francesa en Islas Exóticas se ha encontrado 8 viajes diferentes\n",
      " Para Polonia en Europa se ha encontrado 4 viajes diferentes\n",
      " Para Portugal en Europa se ha encontrado 5 viajes diferentes\n",
      " Para Puerto Rico en Caribe se ha encontrado 7 viajes diferentes\n",
      " Para Qatar en Oriente Medio se ha encontrado 2 viajes diferentes\n",
      " Para Reino Unido en Europa se ha encontrado 13 viajes diferentes\n",
      " Para República Checa en Europa se ha encontrado 6 viajes diferentes\n",
      " Para República Dominicana en Caribe se ha encontrado 10 viajes diferentes\n",
      " Para Reunión en África se ha encontrado 2 viajes diferentes\n",
      " Para Riviera Maya en Caribe se ha encontrado 28 viajes diferentes\n",
      " Para Ruanda en África se ha encontrado 1 viajes diferentes\n",
      " Para Rumanía en Europa se ha encontrado 3 viajes diferentes\n",
      " Para Saint Martin en Caribe se ha encontrado 2 viajes diferentes\n",
      " Para Samoa en Islas Exóticas se ha encontrado 1 viajes diferentes\n",
      " Para Santa Lucía en Caribe se ha encontrado 2 viajes diferentes\n",
      " Para Serbia en Europa se ha encontrado 2 viajes diferentes\n",
      " Para Seychelles en Islas Exóticas se ha encontrado 1 viajes diferentes\n",
      " Para Singapur en Asia se ha encontrado 6 viajes diferentes\n",
      " Para Sri Lanka en Asia se ha encontrado 12 viajes diferentes\n",
      " Para Sudáfrica en África se ha encontrado 21 viajes diferentes\n",
      " Para Suecia en Europa se ha encontrado 8 viajes diferentes\n",
      " Para Suiza en Europa se ha encontrado 3 viajes diferentes\n",
      " Para Tailandia en Asia se ha encontrado 22 viajes diferentes\n",
      " Para Taiwán en Asia se ha encontrado 1 viajes diferentes\n",
      " Para Tanzania en África se ha encontrado 30 viajes diferentes\n",
      " Para Túnez en África se ha encontrado 3 viajes diferentes\n",
      " Para Turks and Caicos en Caribe se ha encontrado 2 viajes diferentes\n",
      " Para Turquía en Oriente Medio se ha encontrado 10 viajes diferentes\n",
      " Para Uganda en África se ha encontrado 7 viajes diferentes\n",
      " Para Uruguay en América se ha encontrado 1 viajes diferentes\n",
      " Para Uzbekistán en Asia se ha encontrado 2 viajes diferentes\n",
      " Para Vietnam en Asia se ha encontrado 16 viajes diferentes\n",
      " Para Zanzíbar en Islas Exóticas se ha encontrado 13 viajes diferentes\n",
      " Para Zimbabue en África se ha encontrado 10 viajes diferentes\n",
      "El escrapeo ha finalizado, la extracción de la información de todos los destinos ha sido obtenida\n"
     ]
    }
   ],
   "source": [
    "df_viajes_totales_destinos, df_continentes, df_opciones = ex.continentes_viajes_totales_destinos_url_y_opciones_1(df_destinos_totales)"
   ]
  },
  {
   "cell_type": "code",
   "execution_count": 11,
   "metadata": {},
   "outputs": [
    {
     "data": {
      "application/vnd.microsoft.datawrangler.viewer.v0+json": {
       "columns": [
        {
         "name": "index",
         "rawType": "int64",
         "type": "integer"
        },
        {
         "name": "pais",
         "rawType": "object",
         "type": "string"
        },
        {
         "name": "nombre_viaje",
         "rawType": "object",
         "type": "string"
        },
        {
         "name": "duracion_viaje",
         "rawType": "object",
         "type": "string"
        },
        {
         "name": "itinerario",
         "rawType": "object",
         "type": "string"
        },
        {
         "name": "precio",
         "rawType": "int64",
         "type": "integer"
        },
        {
         "name": "url",
         "rawType": "object",
         "type": "string"
        },
        {
         "name": "fecha_escrapeo",
         "rawType": "datetime64[ns]",
         "type": "datetime"
        }
       ],
       "conversionMethod": "pd.DataFrame",
       "ref": "538faa56-8e55-49f5-a494-6a355e9c2ee0",
       "rows": [
        [
         "0",
         "Albania",
         "Albania y Montenegro",
         "8 Días / 7 Noches",
         "Tirana, Dürres, Berat, Kruja, Shkodër, Petrovac, Budva, Cetinje y Bar",
         "1755",
         "https://es.tui.com/viaje/albania-y-montenegro",
         "2025-04-20 00:00:00"
        ],
        [
         "1",
         "Alemania",
         "Berlín",
         "4 Días / 3 Noches",
         "Berlín",
         "708",
         "https://viajeonline.es.tui.com/es/idea/14630257/berlin",
         "2025-04-20 00:00:00"
        ],
        [
         "2",
         "Alemania",
         "Fly & Drive Austria, Entre Lagos y Montañas",
         "8 Días / 7 Noches",
         "Salzburgo, Gmunden, Linz, Melk, Viena, Graz, Hallstatt, St. Wolfgang, St. Johann in Tirol e Innsbruck.",
         "827",
         "https://viajeonline.es.tui.com/es/idea/7897512/fly-drive-austria-entre-lagos-y-montanas-",
         "2025-04-20 00:00:00"
        ],
        [
         "3",
         "Alemania",
         "Fly & Drive Carlomagno a su aire",
         "10 Días / 9 Noches",
         "Bruselas, Durbuy, Lieja, Aquisgrán, Colonia, Bonn, Königswinter, Coblenza, Boppard, Cochem, Tréveris, Luxemburgo, Dinant, Gante, Brujas, Lovaina, Malinas y Amberes",
         "857",
         "https://viajeonline.es.tui.com/es/idea/8404511/-fly-drive-carlomagno-a-su-aire?tripId=2",
         "2025-04-20 00:00:00"
        ],
        [
         "4",
         "Alemania",
         "Fly & Drive Tirol al Completo",
         "8 Días / 7 Noches",
         "sbruck, Cataratas Krimml, Vipiteno, Bresanona, Bolzano, Trento, Marmolada, Canazei, Cortina D’Ampezzo y Brunico.",
         "894",
         "https://viajeonline.es.tui.com/es/idea/7906930/-fly-drive-tirol-al-completo-",
         "2025-04-20 00:00:00"
        ]
       ],
       "shape": {
        "columns": 7,
        "rows": 5
       }
      },
      "text/html": [
       "<div>\n",
       "<style scoped>\n",
       "    .dataframe tbody tr th:only-of-type {\n",
       "        vertical-align: middle;\n",
       "    }\n",
       "\n",
       "    .dataframe tbody tr th {\n",
       "        vertical-align: top;\n",
       "    }\n",
       "\n",
       "    .dataframe thead th {\n",
       "        text-align: right;\n",
       "    }\n",
       "</style>\n",
       "<table border=\"1\" class=\"dataframe\">\n",
       "  <thead>\n",
       "    <tr style=\"text-align: right;\">\n",
       "      <th></th>\n",
       "      <th>pais</th>\n",
       "      <th>nombre_viaje</th>\n",
       "      <th>duracion_viaje</th>\n",
       "      <th>itinerario</th>\n",
       "      <th>precio</th>\n",
       "      <th>url</th>\n",
       "      <th>fecha_escrapeo</th>\n",
       "    </tr>\n",
       "  </thead>\n",
       "  <tbody>\n",
       "    <tr>\n",
       "      <th>0</th>\n",
       "      <td>Albania</td>\n",
       "      <td>Albania y Montenegro</td>\n",
       "      <td>8 Días / 7 Noches</td>\n",
       "      <td>Tirana, Dürres, Berat, Kruja, Shkodër, Petrova...</td>\n",
       "      <td>1755</td>\n",
       "      <td>https://es.tui.com/viaje/albania-y-montenegro</td>\n",
       "      <td>2025-04-20</td>\n",
       "    </tr>\n",
       "    <tr>\n",
       "      <th>1</th>\n",
       "      <td>Alemania</td>\n",
       "      <td>Berlín</td>\n",
       "      <td>4 Días / 3 Noches</td>\n",
       "      <td>Berlín</td>\n",
       "      <td>708</td>\n",
       "      <td>https://viajeonline.es.tui.com/es/idea/1463025...</td>\n",
       "      <td>2025-04-20</td>\n",
       "    </tr>\n",
       "    <tr>\n",
       "      <th>2</th>\n",
       "      <td>Alemania</td>\n",
       "      <td>Fly &amp; Drive Austria, Entre Lagos y Montañas</td>\n",
       "      <td>8 Días / 7 Noches</td>\n",
       "      <td>Salzburgo, Gmunden, Linz, Melk, Viena, Graz, H...</td>\n",
       "      <td>827</td>\n",
       "      <td>https://viajeonline.es.tui.com/es/idea/7897512...</td>\n",
       "      <td>2025-04-20</td>\n",
       "    </tr>\n",
       "    <tr>\n",
       "      <th>3</th>\n",
       "      <td>Alemania</td>\n",
       "      <td>Fly &amp; Drive Carlomagno a su aire</td>\n",
       "      <td>10 Días / 9 Noches</td>\n",
       "      <td>Bruselas, Durbuy, Lieja, Aquisgrán, Colonia, B...</td>\n",
       "      <td>857</td>\n",
       "      <td>https://viajeonline.es.tui.com/es/idea/8404511...</td>\n",
       "      <td>2025-04-20</td>\n",
       "    </tr>\n",
       "    <tr>\n",
       "      <th>4</th>\n",
       "      <td>Alemania</td>\n",
       "      <td>Fly &amp; Drive Tirol al Completo</td>\n",
       "      <td>8 Días / 7 Noches</td>\n",
       "      <td>sbruck, Cataratas Krimml, Vipiteno, Bresanona,...</td>\n",
       "      <td>894</td>\n",
       "      <td>https://viajeonline.es.tui.com/es/idea/7906930...</td>\n",
       "      <td>2025-04-20</td>\n",
       "    </tr>\n",
       "  </tbody>\n",
       "</table>\n",
       "</div>"
      ],
      "text/plain": [
       "       pais                                 nombre_viaje      duracion_viaje  \\\n",
       "0   Albania                         Albania y Montenegro   8 Días / 7 Noches   \n",
       "1  Alemania                                       Berlín   4 Días / 3 Noches   \n",
       "2  Alemania  Fly & Drive Austria, Entre Lagos y Montañas   8 Días / 7 Noches   \n",
       "3  Alemania             Fly & Drive Carlomagno a su aire  10 Días / 9 Noches   \n",
       "4  Alemania                Fly & Drive Tirol al Completo   8 Días / 7 Noches   \n",
       "\n",
       "                                          itinerario  precio  \\\n",
       "0  Tirana, Dürres, Berat, Kruja, Shkodër, Petrova...    1755   \n",
       "1                                             Berlín     708   \n",
       "2  Salzburgo, Gmunden, Linz, Melk, Viena, Graz, H...     827   \n",
       "3  Bruselas, Durbuy, Lieja, Aquisgrán, Colonia, B...     857   \n",
       "4  sbruck, Cataratas Krimml, Vipiteno, Bresanona,...     894   \n",
       "\n",
       "                                                 url fecha_escrapeo  \n",
       "0      https://es.tui.com/viaje/albania-y-montenegro     2025-04-20  \n",
       "1  https://viajeonline.es.tui.com/es/idea/1463025...     2025-04-20  \n",
       "2  https://viajeonline.es.tui.com/es/idea/7897512...     2025-04-20  \n",
       "3  https://viajeonline.es.tui.com/es/idea/8404511...     2025-04-20  \n",
       "4  https://viajeonline.es.tui.com/es/idea/7906930...     2025-04-20  "
      ]
     },
     "execution_count": 11,
     "metadata": {},
     "output_type": "execute_result"
    }
   ],
   "source": [
    "df_viajes_totales_destinos.head()"
   ]
  },
  {
   "cell_type": "code",
   "execution_count": 12,
   "metadata": {},
   "outputs": [
    {
     "name": "stdout",
     "output_type": "stream",
     "text": [
      "<class 'pandas.core.frame.DataFrame'>\n",
      "RangeIndex: 1058 entries, 0 to 1057\n",
      "Data columns (total 7 columns):\n",
      " #   Column          Non-Null Count  Dtype         \n",
      "---  ------          --------------  -----         \n",
      " 0   pais            1058 non-null   object        \n",
      " 1   nombre_viaje    1058 non-null   object        \n",
      " 2   duracion_viaje  1058 non-null   object        \n",
      " 3   itinerario      1058 non-null   object        \n",
      " 4   precio          1058 non-null   int64         \n",
      " 5   url             1058 non-null   object        \n",
      " 6   fecha_escrapeo  1058 non-null   datetime64[ns]\n",
      "dtypes: datetime64[ns](1), int64(1), object(5)\n",
      "memory usage: 58.0+ KB\n"
     ]
    }
   ],
   "source": [
    "df_viajes_totales_destinos.info()"
   ]
  },
  {
   "cell_type": "code",
   "execution_count": 13,
   "metadata": {},
   "outputs": [],
   "source": [
    "#añado los viajes actuales a los viajes anteriores y guardo el DF con los viajes totales de todos los destinos acumulados\n",
    "ARCHIVO_GUARDAR_ESCRAPEO_VIAJES = os.getenv(\"ARCHIVO_GUARDAR_ESCRAPEO_VIAJES\")\n",
    "if os.path.exists(ARCHIVO_GUARDAR_ESCRAPEO_VIAJES): #comprueba si existe un fichero ya con viajes\n",
    "    df_existente_viajes_totales= pd.read_pickle(ARCHIVO_GUARDAR_ESCRAPEO_VIAJES)#en caso de existir lo importa\n",
    "    df_combinado_viajes_totales = pd.concat([df_existente_viajes_totales,df_viajes_totales_destinos], ignore_index=True) #combina el fichero anterior con el nuevo obtenido en el escrapeo\n",
    "else:\n",
    "    df_combinado_viajes_totales=df_viajes_totales_destinos  #si no existe fichero previo, entonces, crea uno con el obtenido en el escrapeo\n",
    "df_combinado_viajes_totales.drop_duplicates(inplace=True)\n",
    "df_combinado_viajes_totales.to_pickle(ARCHIVO_GUARDAR_ESCRAPEO_VIAJES) #guarda el fichero en formato pickle"
   ]
  },
  {
   "cell_type": "code",
   "execution_count": 14,
   "metadata": {},
   "outputs": [
    {
     "data": {
      "text/plain": [
       "(13475, 7)"
      ]
     },
     "execution_count": 14,
     "metadata": {},
     "output_type": "execute_result"
    }
   ],
   "source": [
    "df_combinado_viajes_totales.shape"
   ]
  },
  {
   "cell_type": "code",
   "execution_count": 15,
   "metadata": {},
   "outputs": [
    {
     "name": "stdout",
     "output_type": "stream",
     "text": [
      "<class 'pandas.core.frame.DataFrame'>\n",
      "Index: 13475 entries, 0 to 13474\n",
      "Data columns (total 7 columns):\n",
      " #   Column          Non-Null Count  Dtype         \n",
      "---  ------          --------------  -----         \n",
      " 0   pais            13475 non-null  object        \n",
      " 1   nombre_viaje    13475 non-null  object        \n",
      " 2   duracion_viaje  13475 non-null  object        \n",
      " 3   itinerario      13475 non-null  object        \n",
      " 4   precio          13475 non-null  int64         \n",
      " 5   url             13412 non-null  object        \n",
      " 6   fecha_escrapeo  13475 non-null  datetime64[ns]\n",
      "dtypes: datetime64[ns](1), int64(1), object(5)\n",
      "memory usage: 842.2+ KB\n"
     ]
    }
   ],
   "source": [
    "df_combinado_viajes_totales.info()"
   ]
  },
  {
   "cell_type": "code",
   "execution_count": 16,
   "metadata": {},
   "outputs": [
    {
     "data": {
      "application/vnd.microsoft.datawrangler.viewer.v0+json": {
       "columns": [
        {
         "name": "index",
         "rawType": "int64",
         "type": "integer"
        },
        {
         "name": "continente",
         "rawType": "object",
         "type": "string"
        },
        {
         "name": "pais",
         "rawType": "object",
         "type": "string"
        },
        {
         "name": "fecha_escrapeo",
         "rawType": "datetime64[ns]",
         "type": "datetime"
        }
       ],
       "conversionMethod": "pd.DataFrame",
       "ref": "a601efe5-c5e4-465e-aef6-51fbeedde991",
       "rows": [
        [
         "0",
         "Europa",
         "Albania",
         "2025-04-20 00:00:00"
        ],
        [
         "1",
         "Europa",
         "Alemania",
         "2025-04-20 00:00:00"
        ],
        [
         "2",
         "Caribe",
         "Antigua",
         "2025-04-20 00:00:00"
        ],
        [
         "3",
         "América",
         "Argentina",
         "2025-04-20 00:00:00"
        ],
        [
         "4",
         "Caribe",
         "Aruba",
         "2025-04-20 00:00:00"
        ]
       ],
       "shape": {
        "columns": 3,
        "rows": 5
       }
      },
      "text/html": [
       "<div>\n",
       "<style scoped>\n",
       "    .dataframe tbody tr th:only-of-type {\n",
       "        vertical-align: middle;\n",
       "    }\n",
       "\n",
       "    .dataframe tbody tr th {\n",
       "        vertical-align: top;\n",
       "    }\n",
       "\n",
       "    .dataframe thead th {\n",
       "        text-align: right;\n",
       "    }\n",
       "</style>\n",
       "<table border=\"1\" class=\"dataframe\">\n",
       "  <thead>\n",
       "    <tr style=\"text-align: right;\">\n",
       "      <th></th>\n",
       "      <th>continente</th>\n",
       "      <th>pais</th>\n",
       "      <th>fecha_escrapeo</th>\n",
       "    </tr>\n",
       "  </thead>\n",
       "  <tbody>\n",
       "    <tr>\n",
       "      <th>0</th>\n",
       "      <td>Europa</td>\n",
       "      <td>Albania</td>\n",
       "      <td>2025-04-20</td>\n",
       "    </tr>\n",
       "    <tr>\n",
       "      <th>1</th>\n",
       "      <td>Europa</td>\n",
       "      <td>Alemania</td>\n",
       "      <td>2025-04-20</td>\n",
       "    </tr>\n",
       "    <tr>\n",
       "      <th>2</th>\n",
       "      <td>Caribe</td>\n",
       "      <td>Antigua</td>\n",
       "      <td>2025-04-20</td>\n",
       "    </tr>\n",
       "    <tr>\n",
       "      <th>3</th>\n",
       "      <td>América</td>\n",
       "      <td>Argentina</td>\n",
       "      <td>2025-04-20</td>\n",
       "    </tr>\n",
       "    <tr>\n",
       "      <th>4</th>\n",
       "      <td>Caribe</td>\n",
       "      <td>Aruba</td>\n",
       "      <td>2025-04-20</td>\n",
       "    </tr>\n",
       "  </tbody>\n",
       "</table>\n",
       "</div>"
      ],
      "text/plain": [
       "  continente       pais fecha_escrapeo\n",
       "0     Europa    Albania     2025-04-20\n",
       "1     Europa   Alemania     2025-04-20\n",
       "2     Caribe    Antigua     2025-04-20\n",
       "3    América  Argentina     2025-04-20\n",
       "4     Caribe      Aruba     2025-04-20"
      ]
     },
     "execution_count": 16,
     "metadata": {},
     "output_type": "execute_result"
    }
   ],
   "source": [
    "df_continentes.head()"
   ]
  },
  {
   "cell_type": "code",
   "execution_count": 17,
   "metadata": {},
   "outputs": [
    {
     "name": "stdout",
     "output_type": "stream",
     "text": [
      "<class 'pandas.core.frame.DataFrame'>\n",
      "RangeIndex: 119 entries, 0 to 118\n",
      "Data columns (total 3 columns):\n",
      " #   Column          Non-Null Count  Dtype         \n",
      "---  ------          --------------  -----         \n",
      " 0   continente      119 non-null    object        \n",
      " 1   pais            119 non-null    object        \n",
      " 2   fecha_escrapeo  119 non-null    datetime64[ns]\n",
      "dtypes: datetime64[ns](1), object(2)\n",
      "memory usage: 2.9+ KB\n"
     ]
    }
   ],
   "source": [
    "df_continentes.info()"
   ]
  },
  {
   "cell_type": "code",
   "execution_count": 18,
   "metadata": {},
   "outputs": [],
   "source": [
    "#añado los continentes actuales a los continentes anteriores y guardo el DF con los continentes totales de todos los destinos acumulados\n",
    "ARCHIVO_GUARDAR_CONTINENTES = os.getenv(\"ARCHIVO_GUARDAR_CONTINENTES\")\n",
    "if os.path.exists(ARCHIVO_GUARDAR_CONTINENTES): #comprueba si existe un fichero ya con continentes\n",
    "    df_existente_continentes= pd.read_pickle(ARCHIVO_GUARDAR_CONTINENTES)#en caso de existir lo importa\n",
    "    df_combinado_continentes = pd.concat([df_existente_continentes,df_continentes], ignore_index=True) #combina el fichero anterior con el nuevo obtenido en el escrapeo\n",
    "else:\n",
    "    df_combinado_continentes=df_continentes  #si no existe fichero previo, entonces, crea uno con el obtenido en el escrapeo\n",
    "df_combinado_continentes.drop_duplicates(inplace=True)\n",
    "df_combinado_continentes.to_pickle(ARCHIVO_GUARDAR_CONTINENTES) #guarda el fichero en formato pickle"
   ]
  },
  {
   "cell_type": "code",
   "execution_count": 19,
   "metadata": {},
   "outputs": [
    {
     "name": "stdout",
     "output_type": "stream",
     "text": [
      "<class 'pandas.core.frame.DataFrame'>\n",
      "Index: 725 entries, 0 to 724\n",
      "Data columns (total 3 columns):\n",
      " #   Column          Non-Null Count  Dtype         \n",
      "---  ------          --------------  -----         \n",
      " 0   continente      725 non-null    object        \n",
      " 1   pais            725 non-null    object        \n",
      " 2   fecha_escrapeo  725 non-null    datetime64[ns]\n",
      "dtypes: datetime64[ns](1), object(2)\n",
      "memory usage: 22.7+ KB\n"
     ]
    }
   ],
   "source": [
    "df_combinado_continentes.info()"
   ]
  },
  {
   "cell_type": "code",
   "execution_count": 20,
   "metadata": {},
   "outputs": [
    {
     "data": {
      "application/vnd.microsoft.datawrangler.viewer.v0+json": {
       "columns": [
        {
         "name": "index",
         "rawType": "int64",
         "type": "integer"
        },
        {
         "name": "pais",
         "rawType": "object",
         "type": "string"
        },
        {
         "name": "nombre_viaje",
         "rawType": "object",
         "type": "string"
        },
        {
         "name": "opcion",
         "rawType": "object",
         "type": "string"
        },
        {
         "name": "precio",
         "rawType": "int64",
         "type": "integer"
        },
        {
         "name": "url_opcion",
         "rawType": "object",
         "type": "string"
        },
        {
         "name": "fecha_escrapeo",
         "rawType": "datetime64[ns]",
         "type": "datetime"
        }
       ],
       "conversionMethod": "pd.DataFrame",
       "ref": "73756f29-4efe-4bc6-9794-6936bf62659f",
       "rows": [
        [
         "0",
         "Alemania",
         "Encantos del Rin y Valle del Mosela",
         "Salida desde Madrid",
         "1835",
         "https://es.tui.com/viaje/encantos-del-rin-y-valle-del-mosela-Salida-desde-Madrid",
         "2025-04-20 00:00:00"
        ],
        [
         "1",
         "Alemania",
         "Encantos del Rin y Valle del Mosela",
         "Salida desde Barcelona",
         "1930",
         "https://es.tui.com/viaje/encantos-del-rin-y-valle-del-mosela-Salida-desde-Barcelona",
         "2025-04-20 00:00:00"
        ],
        [
         "2",
         "Alemania",
         "Encantos del Rin y Valle del Mosela",
         "Salida desde Bilbao",
         "1952",
         "https://es.tui.com/viaje/encantos-del-rin-y-valle-del-mosela-Salida-desde-Bilbao",
         "2025-04-20 00:00:00"
        ],
        [
         "3",
         "Alemania",
         "Lo Mejor del Rin y Países Bajos",
         "Salida desde Madrid",
         "1949",
         "https://es.tui.com/viaje/lo-mejor-del-rin-y-paises-bajos-Salida-desde-Madrid",
         "2025-04-20 00:00:00"
        ],
        [
         "4",
         "Alemania",
         "Lo Mejor del Rin y Países Bajos",
         "Salida desde Barcelona",
         "2040",
         "https://es.tui.com/viaje/lo-mejor-del-rin-y-paises-bajos-Salida-desde-Barcelona",
         "2025-04-20 00:00:00"
        ]
       ],
       "shape": {
        "columns": 6,
        "rows": 5
       }
      },
      "text/html": [
       "<div>\n",
       "<style scoped>\n",
       "    .dataframe tbody tr th:only-of-type {\n",
       "        vertical-align: middle;\n",
       "    }\n",
       "\n",
       "    .dataframe tbody tr th {\n",
       "        vertical-align: top;\n",
       "    }\n",
       "\n",
       "    .dataframe thead th {\n",
       "        text-align: right;\n",
       "    }\n",
       "</style>\n",
       "<table border=\"1\" class=\"dataframe\">\n",
       "  <thead>\n",
       "    <tr style=\"text-align: right;\">\n",
       "      <th></th>\n",
       "      <th>pais</th>\n",
       "      <th>nombre_viaje</th>\n",
       "      <th>opcion</th>\n",
       "      <th>precio</th>\n",
       "      <th>url_opcion</th>\n",
       "      <th>fecha_escrapeo</th>\n",
       "    </tr>\n",
       "  </thead>\n",
       "  <tbody>\n",
       "    <tr>\n",
       "      <th>0</th>\n",
       "      <td>Alemania</td>\n",
       "      <td>Encantos del Rin y Valle del Mosela</td>\n",
       "      <td>Salida desde Madrid</td>\n",
       "      <td>1835</td>\n",
       "      <td>https://es.tui.com/viaje/encantos-del-rin-y-va...</td>\n",
       "      <td>2025-04-20</td>\n",
       "    </tr>\n",
       "    <tr>\n",
       "      <th>1</th>\n",
       "      <td>Alemania</td>\n",
       "      <td>Encantos del Rin y Valle del Mosela</td>\n",
       "      <td>Salida desde Barcelona</td>\n",
       "      <td>1930</td>\n",
       "      <td>https://es.tui.com/viaje/encantos-del-rin-y-va...</td>\n",
       "      <td>2025-04-20</td>\n",
       "    </tr>\n",
       "    <tr>\n",
       "      <th>2</th>\n",
       "      <td>Alemania</td>\n",
       "      <td>Encantos del Rin y Valle del Mosela</td>\n",
       "      <td>Salida desde Bilbao</td>\n",
       "      <td>1952</td>\n",
       "      <td>https://es.tui.com/viaje/encantos-del-rin-y-va...</td>\n",
       "      <td>2025-04-20</td>\n",
       "    </tr>\n",
       "    <tr>\n",
       "      <th>3</th>\n",
       "      <td>Alemania</td>\n",
       "      <td>Lo Mejor del Rin y Países Bajos</td>\n",
       "      <td>Salida desde Madrid</td>\n",
       "      <td>1949</td>\n",
       "      <td>https://es.tui.com/viaje/lo-mejor-del-rin-y-pa...</td>\n",
       "      <td>2025-04-20</td>\n",
       "    </tr>\n",
       "    <tr>\n",
       "      <th>4</th>\n",
       "      <td>Alemania</td>\n",
       "      <td>Lo Mejor del Rin y Países Bajos</td>\n",
       "      <td>Salida desde Barcelona</td>\n",
       "      <td>2040</td>\n",
       "      <td>https://es.tui.com/viaje/lo-mejor-del-rin-y-pa...</td>\n",
       "      <td>2025-04-20</td>\n",
       "    </tr>\n",
       "  </tbody>\n",
       "</table>\n",
       "</div>"
      ],
      "text/plain": [
       "       pais                         nombre_viaje                  opcion  \\\n",
       "0  Alemania  Encantos del Rin y Valle del Mosela     Salida desde Madrid   \n",
       "1  Alemania  Encantos del Rin y Valle del Mosela  Salida desde Barcelona   \n",
       "2  Alemania  Encantos del Rin y Valle del Mosela     Salida desde Bilbao   \n",
       "3  Alemania      Lo Mejor del Rin y Países Bajos     Salida desde Madrid   \n",
       "4  Alemania      Lo Mejor del Rin y Países Bajos  Salida desde Barcelona   \n",
       "\n",
       "   precio                                         url_opcion fecha_escrapeo  \n",
       "0    1835  https://es.tui.com/viaje/encantos-del-rin-y-va...     2025-04-20  \n",
       "1    1930  https://es.tui.com/viaje/encantos-del-rin-y-va...     2025-04-20  \n",
       "2    1952  https://es.tui.com/viaje/encantos-del-rin-y-va...     2025-04-20  \n",
       "3    1949  https://es.tui.com/viaje/lo-mejor-del-rin-y-pa...     2025-04-20  \n",
       "4    2040  https://es.tui.com/viaje/lo-mejor-del-rin-y-pa...     2025-04-20  "
      ]
     },
     "execution_count": 20,
     "metadata": {},
     "output_type": "execute_result"
    }
   ],
   "source": [
    "df_opciones.head()"
   ]
  },
  {
   "cell_type": "code",
   "execution_count": 21,
   "metadata": {},
   "outputs": [
    {
     "name": "stdout",
     "output_type": "stream",
     "text": [
      "<class 'pandas.core.frame.DataFrame'>\n",
      "RangeIndex: 823 entries, 0 to 822\n",
      "Data columns (total 6 columns):\n",
      " #   Column          Non-Null Count  Dtype         \n",
      "---  ------          --------------  -----         \n",
      " 0   pais            823 non-null    object        \n",
      " 1   nombre_viaje    823 non-null    object        \n",
      " 2   opcion          823 non-null    object        \n",
      " 3   precio          823 non-null    int64         \n",
      " 4   url_opcion      823 non-null    object        \n",
      " 5   fecha_escrapeo  823 non-null    datetime64[ns]\n",
      "dtypes: datetime64[ns](1), int64(1), object(4)\n",
      "memory usage: 38.7+ KB\n"
     ]
    }
   ],
   "source": [
    "df_opciones.info()"
   ]
  },
  {
   "cell_type": "code",
   "execution_count": 22,
   "metadata": {},
   "outputs": [],
   "source": [
    "#añado las opciones actuales a las opciones anteriores y guardo el DF con las opciones totales de todos los destinos acumulados\n",
    "ARCHIVO_GUARDAR_OPCIONES_VIAJES = os.getenv(\"ARCHIVO_GUARDAR_OPCIONES_VIAJES\")\n",
    "if os.path.exists(ARCHIVO_GUARDAR_OPCIONES_VIAJES): #comprueba si existe un fichero ya con continentes\n",
    "    df_existente_opciones= pd.read_pickle(ARCHIVO_GUARDAR_OPCIONES_VIAJES)#en caso de existir lo importa\n",
    "    df_combinado_opciones_viajes = pd.concat([df_existente_opciones,df_opciones], ignore_index=True) #combina el fichero anterior con el nuevo obtenido en el escrapeo\n",
    "else:\n",
    "    df_combinado_opciones_viajes=df_opciones  #si no existe fichero previo, entonces, crea uno con el obtenido en el escrapeo\n",
    "df_combinado_opciones_viajes.drop_duplicates(inplace=True)\n",
    "df_combinado_opciones_viajes.to_pickle(ARCHIVO_GUARDAR_OPCIONES_VIAJES) #guarda el fichero en formato pickle"
   ]
  },
  {
   "cell_type": "code",
   "execution_count": 23,
   "metadata": {},
   "outputs": [
    {
     "name": "stdout",
     "output_type": "stream",
     "text": [
      "<class 'pandas.core.frame.DataFrame'>\n",
      "Index: 4101 entries, 0 to 4100\n",
      "Data columns (total 6 columns):\n",
      " #   Column          Non-Null Count  Dtype         \n",
      "---  ------          --------------  -----         \n",
      " 0   pais            4101 non-null   object        \n",
      " 1   nombre_viaje    4101 non-null   object        \n",
      " 2   opcion          4101 non-null   object        \n",
      " 3   precio          4101 non-null   int64         \n",
      " 4   url_opcion      4101 non-null   object        \n",
      " 5   fecha_escrapeo  4101 non-null   datetime64[ns]\n",
      "dtypes: datetime64[ns](1), int64(1), object(4)\n",
      "memory usage: 224.3+ KB\n"
     ]
    }
   ],
   "source": [
    "df_combinado_opciones_viajes.info()"
   ]
  }
 ],
 "metadata": {
  "kernelspec": {
   "display_name": "venv",
   "language": "python",
   "name": "python3"
  },
  "language_info": {
   "codemirror_mode": {
    "name": "ipython",
    "version": 3
   },
   "file_extension": ".py",
   "mimetype": "text/x-python",
   "name": "python",
   "nbconvert_exporter": "python",
   "pygments_lexer": "ipython3",
   "version": "3.12.5"
  }
 },
 "nbformat": 4,
 "nbformat_minor": 2
}
