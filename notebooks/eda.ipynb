{
 "cells": [
  {
   "cell_type": "code",
   "execution_count": 69,
   "id": "73505a05",
   "metadata": {},
   "outputs": [],
   "source": [
    "import pandas as pd\n",
    "import numpy as np\n",
    "import psycopg2\n",
    "import os\n",
    "from dotenv import load_dotenv\n",
    "import sys #permite navegar por el sistema\n",
    "sys.path.append(\"../\") #solo aplica al soporte\n",
    "import os\n",
    "from dotenv import load_dotenv\n",
    "import unicodedata\n",
    "from src.etl import load as lo #con jupyter\n",
    "from src.eda import explore as exp  #con jupyter\n",
    "from src.etl import extract as ex #con jupyter"
   ]
  },
  {
   "cell_type": "code",
   "execution_count": 70,
   "id": "de3d590b",
   "metadata": {},
   "outputs": [
    {
     "data": {
      "text/plain": [
       "True"
      ]
     },
     "execution_count": 70,
     "metadata": {},
     "output_type": "execute_result"
    }
   ],
   "source": [
    "load_dotenv()"
   ]
  },
  {
   "cell_type": "code",
   "execution_count": 71,
   "id": "da72d569",
   "metadata": {},
   "outputs": [],
   "source": [
    "#Llamamos a la variable de entorno\n",
    "DB_NAME = os.getenv(\"DB_NAME\")\n",
    "DB_USER=os.getenv(\"DB_USER\")\n",
    "DB_PASSWORD = os.getenv(\"DB_PASSWORD\")\n",
    "DB_HOST= os.getenv(\"DB_HOST\")\n",
    "DB_PORT = os.getenv(\"DB_PORT\")"
   ]
  },
  {
   "cell_type": "code",
   "execution_count": 72,
   "id": "772bed61",
   "metadata": {},
   "outputs": [],
   "source": [
    "conn, cur = lo.crear_conexión()\n",
    "#Comprobamos que la conexión está bien realizada:\n",
    "cur.execute(\"SELECT version();\")\n",
    "cur.fetchone() #para que muestre el resultado de la query anterior\n",
    "lo.cerrar_conexion(conn, cur)"
   ]
  },
  {
   "cell_type": "markdown",
   "id": "0b707ad7",
   "metadata": {},
   "source": [
    "# 1. Extracción de los datos de la BBDD"
   ]
  },
  {
   "cell_type": "markdown",
   "id": "cd60b59f",
   "metadata": {},
   "source": [
    "## Paises"
   ]
  },
  {
   "cell_type": "code",
   "execution_count": 73,
   "id": "d8c8b067",
   "metadata": {},
   "outputs": [],
   "source": [
    "query_extraccion = '''SELECT *\n",
    "                                    FROM pais_destino'''        "
   ]
  },
  {
   "cell_type": "code",
   "execution_count": 74,
   "id": "b82d14a4",
   "metadata": {},
   "outputs": [
    {
     "data": {
      "application/vnd.microsoft.datawrangler.viewer.v0+json": {
       "columns": [
        {
         "name": "index",
         "rawType": "int64",
         "type": "integer"
        },
        {
         "name": "id_pais_destino",
         "rawType": "int64",
         "type": "integer"
        },
        {
         "name": "nombre_pais_destino",
         "rawType": "object",
         "type": "string"
        },
        {
         "name": "nombre_continente",
         "rawType": "object",
         "type": "string"
        }
       ],
       "conversionMethod": "pd.DataFrame",
       "ref": "0e6e3350-bbed-4653-a8b4-98c7ff42fe7e",
       "rows": [
        [
         "0",
         "1",
         "Albania",
         "Europa"
        ],
        [
         "1",
         "2",
         "Alemania",
         "Europa"
        ],
        [
         "2",
         "3",
         "Andorra",
         "Europa"
        ],
        [
         "3",
         "4",
         "Angola",
         "África"
        ],
        [
         "4",
         "5",
         "Antigua",
         "América"
        ],
        [
         "5",
         "6",
         "Arabia Saudi",
         "Asia"
        ],
        [
         "6",
         "7",
         "Argelia",
         "África"
        ],
        [
         "7",
         "8",
         "Argentina",
         "América"
        ],
        [
         "8",
         "9",
         "Armenia",
         "Asia"
        ],
        [
         "9",
         "10",
         "Aruba",
         "América"
        ],
        [
         "10",
         "11",
         "Australia",
         "Oceanía"
        ],
        [
         "11",
         "12",
         "Austria",
         "Europa"
        ],
        [
         "12",
         "13",
         "Azerbaiyan",
         "Asia"
        ],
        [
         "13",
         "14",
         "Bahamas",
         "América"
        ],
        [
         "14",
         "15",
         "Bahrein",
         "Asia"
        ],
        [
         "15",
         "16",
         "Bangladesh",
         "Asia"
        ],
        [
         "16",
         "17",
         "Barbados",
         "América"
        ],
        [
         "17",
         "18",
         "Belarus",
         "Europa"
        ],
        [
         "18",
         "19",
         "Belgica",
         "Europa"
        ],
        [
         "19",
         "20",
         "Belice",
         "América"
        ],
        [
         "20",
         "21",
         "Benin",
         "África"
        ],
        [
         "21",
         "22",
         "Bolivia",
         "América"
        ],
        [
         "22",
         "23",
         "Bosnia Y Herzegovina",
         "Europa"
        ],
        [
         "23",
         "24",
         "Botsuana",
         "África"
        ],
        [
         "24",
         "25",
         "Brasil",
         "América"
        ],
        [
         "25",
         "26",
         "Bulgaria",
         "Europa"
        ],
        [
         "26",
         "27",
         "Burkina Faso",
         "África"
        ],
        [
         "27",
         "28",
         "Butan",
         "Asia"
        ],
        [
         "28",
         "29",
         "Cabo Verde",
         "África"
        ],
        [
         "29",
         "30",
         "Camboya",
         "Asia"
        ],
        [
         "30",
         "31",
         "Camerun",
         "África"
        ],
        [
         "31",
         "32",
         "Canada",
         "América"
        ],
        [
         "32",
         "33",
         "Catar",
         "Asia"
        ],
        [
         "33",
         "34",
         "Chad",
         "África"
        ],
        [
         "34",
         "35",
         "Chequia",
         "Europa"
        ],
        [
         "35",
         "36",
         "Chile",
         "América"
        ],
        [
         "36",
         "37",
         "China",
         "Asia"
        ],
        [
         "37",
         "38",
         "Chipre",
         "Europa"
        ],
        [
         "38",
         "39",
         "Colombia",
         "América"
        ],
        [
         "39",
         "40",
         "Corea Del Sur",
         "Asia"
        ],
        [
         "40",
         "41",
         "Costa De Marfil",
         "África"
        ],
        [
         "41",
         "42",
         "Costa Rica",
         "América"
        ],
        [
         "42",
         "43",
         "Croacia",
         "Europa"
        ],
        [
         "43",
         "44",
         "Cuba",
         "América"
        ],
        [
         "44",
         "45",
         "Curacao",
         "América"
        ],
        [
         "45",
         "46",
         "Dinamarca",
         "Europa"
        ],
        [
         "46",
         "47",
         "Djibouti",
         "África"
        ],
        [
         "47",
         "48",
         "Dominica",
         "América"
        ],
        [
         "48",
         "49",
         "Ecuador",
         "América"
        ],
        [
         "49",
         "50",
         "Egipto",
         "África"
        ]
       ],
       "shape": {
        "columns": 3,
        "rows": 188
       }
      },
      "text/html": [
       "<div>\n",
       "<style scoped>\n",
       "    .dataframe tbody tr th:only-of-type {\n",
       "        vertical-align: middle;\n",
       "    }\n",
       "\n",
       "    .dataframe tbody tr th {\n",
       "        vertical-align: top;\n",
       "    }\n",
       "\n",
       "    .dataframe thead th {\n",
       "        text-align: right;\n",
       "    }\n",
       "</style>\n",
       "<table border=\"1\" class=\"dataframe\">\n",
       "  <thead>\n",
       "    <tr style=\"text-align: right;\">\n",
       "      <th></th>\n",
       "      <th>id_pais_destino</th>\n",
       "      <th>nombre_pais_destino</th>\n",
       "      <th>nombre_continente</th>\n",
       "    </tr>\n",
       "  </thead>\n",
       "  <tbody>\n",
       "    <tr>\n",
       "      <th>0</th>\n",
       "      <td>1</td>\n",
       "      <td>Albania</td>\n",
       "      <td>Europa</td>\n",
       "    </tr>\n",
       "    <tr>\n",
       "      <th>1</th>\n",
       "      <td>2</td>\n",
       "      <td>Alemania</td>\n",
       "      <td>Europa</td>\n",
       "    </tr>\n",
       "    <tr>\n",
       "      <th>2</th>\n",
       "      <td>3</td>\n",
       "      <td>Andorra</td>\n",
       "      <td>Europa</td>\n",
       "    </tr>\n",
       "    <tr>\n",
       "      <th>3</th>\n",
       "      <td>4</td>\n",
       "      <td>Angola</td>\n",
       "      <td>África</td>\n",
       "    </tr>\n",
       "    <tr>\n",
       "      <th>4</th>\n",
       "      <td>5</td>\n",
       "      <td>Antigua</td>\n",
       "      <td>América</td>\n",
       "    </tr>\n",
       "    <tr>\n",
       "      <th>...</th>\n",
       "      <td>...</td>\n",
       "      <td>...</td>\n",
       "      <td>...</td>\n",
       "    </tr>\n",
       "    <tr>\n",
       "      <th>183</th>\n",
       "      <td>184</td>\n",
       "      <td>Vietnam</td>\n",
       "      <td>Asia</td>\n",
       "    </tr>\n",
       "    <tr>\n",
       "      <th>184</th>\n",
       "      <td>185</td>\n",
       "      <td>Yemen</td>\n",
       "      <td>Asia</td>\n",
       "    </tr>\n",
       "    <tr>\n",
       "      <th>185</th>\n",
       "      <td>186</td>\n",
       "      <td>Zambia</td>\n",
       "      <td>África</td>\n",
       "    </tr>\n",
       "    <tr>\n",
       "      <th>186</th>\n",
       "      <td>187</td>\n",
       "      <td>Zanzibar</td>\n",
       "      <td>África</td>\n",
       "    </tr>\n",
       "    <tr>\n",
       "      <th>187</th>\n",
       "      <td>188</td>\n",
       "      <td>Zimbabue</td>\n",
       "      <td>África</td>\n",
       "    </tr>\n",
       "  </tbody>\n",
       "</table>\n",
       "<p>188 rows × 3 columns</p>\n",
       "</div>"
      ],
      "text/plain": [
       "     id_pais_destino nombre_pais_destino nombre_continente\n",
       "0                  1             Albania            Europa\n",
       "1                  2            Alemania            Europa\n",
       "2                  3             Andorra            Europa\n",
       "3                  4              Angola            África\n",
       "4                  5             Antigua           América\n",
       "..               ...                 ...               ...\n",
       "183              184             Vietnam              Asia\n",
       "184              185               Yemen              Asia\n",
       "185              186              Zambia            África\n",
       "186              187            Zanzibar            África\n",
       "187              188            Zimbabue            África\n",
       "\n",
       "[188 rows x 3 columns]"
      ]
     },
     "execution_count": 74,
     "metadata": {},
     "output_type": "execute_result"
    }
   ],
   "source": [
    "lista_columnas = ['id_pais_destino','nombre_pais_destino', 'nombre_continente']\n",
    "df_paises = exp.extraer_datos_bbdd_y_convertir_en_df(lista_columnas,query_extraccion)\n",
    "df_paises"
   ]
  },
  {
   "cell_type": "markdown",
   "id": "94da530a",
   "metadata": {},
   "source": [
    "## Viajes localizados según página web"
   ]
  },
  {
   "cell_type": "code",
   "execution_count": 75,
   "id": "3cc7e333",
   "metadata": {},
   "outputs": [],
   "source": [
    "query_extraccion = '''SELECT pd.*,\n",
    "                                                        v.*\n",
    "                                                    FROM viaje v\n",
    "                                                    LEFT JOIN combinacion_destino_viaje cdv ON v.id_viaje = cdv.id_viaje\n",
    "                                                    LEFT JOIN pais_destino pd ON cdv.id_pais_destino =pd.id_pais_destino'''     "
   ]
  },
  {
   "cell_type": "code",
   "execution_count": 76,
   "id": "d8c54cac",
   "metadata": {},
   "outputs": [],
   "source": [
    "lista_columnas = ['id_pais_destino', 'nombre_pais_destino', 'nombre_continente', 'id_viaje', 'url_viaje', \n",
    "                  'nombre_viaje','duracion_dias', 'duracion_noches', 'id_itinerario', 'viaje_activo']"
   ]
  },
  {
   "cell_type": "code",
   "execution_count": 77,
   "id": "2c828af4",
   "metadata": {},
   "outputs": [
    {
     "data": {
      "application/vnd.microsoft.datawrangler.viewer.v0+json": {
       "columns": [
        {
         "name": "index",
         "rawType": "int64",
         "type": "integer"
        },
        {
         "name": "id_pais_destino",
         "rawType": "int64",
         "type": "integer"
        },
        {
         "name": "nombre_pais_destino",
         "rawType": "object",
         "type": "string"
        },
        {
         "name": "nombre_continente",
         "rawType": "object",
         "type": "string"
        },
        {
         "name": "id_viaje",
         "rawType": "int64",
         "type": "integer"
        },
        {
         "name": "url_viaje",
         "rawType": "object",
         "type": "string"
        },
        {
         "name": "nombre_viaje",
         "rawType": "object",
         "type": "string"
        },
        {
         "name": "duracion_dias",
         "rawType": "int64",
         "type": "integer"
        },
        {
         "name": "duracion_noches",
         "rawType": "int64",
         "type": "integer"
        },
        {
         "name": "id_itinerario",
         "rawType": "float64",
         "type": "float"
        },
        {
         "name": "viaje_activo",
         "rawType": "bool",
         "type": "boolean"
        }
       ],
       "conversionMethod": "pd.DataFrame",
       "ref": "abe89741-010b-433d-834f-4f572190c34b",
       "rows": [
        [
         "0",
         "1",
         "Albania",
         "Europa",
         "1",
         "https://es.tui.com/viaje/albania-y-montenegro",
         "Albania y Montenegro",
         "8",
         "7",
         "1027.0",
         "True"
        ],
        [
         "1",
         "2",
         "Alemania",
         "Europa",
         "2",
         "https://viajeonline.es.tui.com/es/idea/14630257/berlin",
         "Berlín",
         "4",
         "3",
         "146.0",
         "True"
        ],
        [
         "2",
         "2",
         "Alemania",
         "Europa",
         "3",
         "https://viajeonline.es.tui.com/es/idea/7897512/fly-drive-austria-entre-lagos-y-montanas-",
         "Fly & Drive Austria, Entre Lagos y Montañas",
         "8",
         "7",
         "872.0",
         "True"
        ],
        [
         "3",
         "2",
         "Alemania",
         "Europa",
         "4",
         "https://viajeonline.es.tui.com/es/idea/8404511/-fly-drive-carlomagno-a-su-aire?tripId=2",
         "Fly & Drive Carlomagno a su aire",
         "10",
         "9",
         "166.0",
         "True"
        ],
        [
         "4",
         "2",
         "Alemania",
         "Europa",
         "5",
         "https://viajeonline.es.tui.com/es/idea/7906930/-fly-drive-tirol-al-completo-",
         "Fly & Drive Tirol al Completo",
         "8",
         "7",
         "1145.0",
         "True"
        ],
        [
         "5",
         "2",
         "Alemania",
         "Europa",
         "6",
         "https://viajeonline.es.tui.com/es/idea/21553157/-fly-drive-ciudades-hanseaticas-a-su-aire?tripId=9",
         "Fly & Drive Ciudades Hanseáticas",
         "8",
         "7",
         "425.0",
         "True"
        ],
        [
         "6",
         "2",
         "Alemania",
         "Europa",
         "7",
         "https://es.tui.com/viaje/alsacia-y-selva-negra",
         "Alsacia y Selva Negra",
         "8",
         "7",
         "412.0",
         "True"
        ],
        [
         "7",
         "8",
         "Argentina",
         "América",
         "8",
         "https://es.tui.com/viaje/triangulo-argentino",
         "Triángulo Argentino",
         "10",
         "7",
         "183.0",
         "True"
        ],
        [
         "8",
         "8",
         "Argentina",
         "América",
         "9",
         "https://es.tui.com/viaje/patagonia-a-tu-alcance",
         "Patagonia a tu alcance",
         "12",
         "9",
         "194.0",
         "True"
        ],
        [
         "9",
         "8",
         "Argentina",
         "América",
         "10",
         "https://es.tui.com/viaje/ballenas-glaciares-y-cataratas",
         "Ballenas, Glaciares y Cataratas",
         "12",
         "9",
         "188.0",
         "True"
        ],
        [
         "10",
         "8",
         "Argentina",
         "América",
         "11",
         "https://es.tui.com/viaje/buenos-aires-el-calafate-e-iguazu",
         "Buenos Aires, El Calafate e Iguazú",
         "11",
         "8",
         "183.0",
         "True"
        ],
        [
         "11",
         "8",
         "Argentina",
         "América",
         "12",
         "https://es.tui.com/viaje/argentina-y-brasil",
         "Argentina y Brasil",
         "14",
         "11",
         "184.0",
         "True"
        ],
        [
         "12",
         "8",
         "Argentina",
         "América",
         "13",
         "https://es.tui.com/viaje/argentina-magica",
         "Argentina Mágica",
         "14",
         "11",
         "193.0",
         "True"
        ],
        [
         "13",
         "8",
         "Argentina",
         "América",
         "14",
         "https://es.tui.com/viaje/argentina-a-tu-alcance",
         "Argentina a tu alcance",
         "14",
         "11",
         "190.0",
         "True"
        ],
        [
         "14",
         "8",
         "Argentina",
         "América",
         "15",
         "https://es.tui.com/viaje/lagos-glaciares-y-cataratas",
         "Lagos, Glaciares y Cataratas",
         "13",
         "10",
         "182.0",
         "True"
        ],
        [
         "15",
         "8",
         "Argentina",
         "América",
         "16",
         "https://es.tui.com/viaje/argentina-clasica",
         "Argentina Clásica",
         "13",
         "10",
         "194.0",
         "True"
        ],
        [
         "16",
         "8",
         "Argentina",
         "América",
         "17",
         "https://es.tui.com/viaje/contrastes-de-argentina",
         "Contrastes de Argentina",
         "13",
         "10",
         "186.0",
         "True"
        ],
        [
         "17",
         "8",
         "Argentina",
         "América",
         "18",
         "https://es.tui.com/viaje/argentina-espectacular",
         "Argentina Espectacular",
         "16",
         "13",
         "189.0",
         "True"
        ],
        [
         "18",
         "8",
         "Argentina",
         "América",
         "19",
         "https://es.tui.com/viaje/patagonia-fascinante",
         "Patagonia Fascinante",
         "15",
         "12",
         "193.0",
         "True"
        ],
        [
         "19",
         "8",
         "Argentina",
         "América",
         "20",
         "https://es.tui.com/viaje/patagonia-con-iguazu",
         "Patagonia con Iguazú",
         "15",
         "12",
         "190.0",
         "True"
        ],
        [
         "20",
         "8",
         "Argentina",
         "América",
         "21",
         "https://es.tui.com/viaje/lo-mejor-de-argentina",
         "Lo Mejor de Argentina",
         "17",
         "14",
         "189.0",
         "True"
        ],
        [
         "21",
         "8",
         "Argentina",
         "América",
         "22",
         "https://es.tui.com/viaje/argentina-para-dos",
         "Argentina para Dos",
         "13",
         "10",
         "194.0",
         "True"
        ],
        [
         "22",
         "8",
         "Argentina",
         "América",
         "23",
         "https://es.tui.com/viaje/patagonia-argentina-y-chilena",
         "Patagonia Argentina y Chilena",
         "16",
         "13",
         "196.0",
         "True"
        ],
        [
         "23",
         "8",
         "Argentina",
         "América",
         "24",
         "https://es.tui.com/viaje/lagos-glaciares-y-cataratas-con-extension-cruce-andino",
         "Lagos, Glaciares y Cataratas con Extensión Cruce Andino",
         "16",
         "13",
         "181.0",
         "True"
        ],
        [
         "24",
         "8",
         "Argentina",
         "América",
         "25",
         "https://es.tui.com/viaje/gran-tour-de-argentina",
         "Gran Tour de Argentina",
         "17",
         "14",
         "191.0",
         "True"
        ],
        [
         "25",
         "8",
         "Argentina",
         "América",
         "26",
         "https://es.tui.com/viaje/al-sur-del-sur-con-australis",
         "Al Sur del Sur con Australis",
         "15",
         "12",
         "192.0",
         "True"
        ],
        [
         "26",
         "8",
         "Argentina",
         "América",
         "27",
         "https://es.tui.com/viaje/las-dos-patagonias-con-australis",
         "Las Dos Patagonias con Australis",
         "15",
         "12",
         "187.0",
         "True"
        ],
        [
         "27",
         "8",
         "Argentina",
         "América",
         "28",
         "https://es.tui.com/viaje/confines-del-mundo-con-australis",
         "Confines del Mundo con Australis",
         "16",
         "13",
         "951.0",
         "True"
        ],
        [
         "28",
         "8",
         "Argentina",
         "América",
         "29",
         "https://es.tui.com/viaje/argentina-y-chile-con-australis",
         "Argentina y Chile con Australis",
         "17",
         "14",
         "952.0",
         "True"
        ],
        [
         "29",
         "8",
         "Argentina",
         "América",
         "30",
         "https://es.tui.com/viaje/chile-y-argentina-con-skorpios-iii",
         "Chile y Argentina con Skorpios III",
         "18",
         "15",
         "950.0",
         "True"
        ],
        [
         "30",
         "10",
         "Aruba",
         "América",
         "31",
         "https://viajeonline.es.tui.com/es/idea/7244961/aruba",
         "Aruba",
         "9",
         "7",
         "820.0",
         "True"
        ],
        [
         "31",
         "10",
         "Aruba",
         "América",
         "32",
         "https://viajeonline.es.tui.com/es/idea/7245405/-nueva-york-y-aruba",
         "Nueva York y Aruba",
         "9",
         "7",
         "707.0",
         "True"
        ],
        [
         "32",
         "10",
         "Aruba",
         "América",
         "33",
         "https://viajeonline.es.tui.com/es/idea/17583770/aruba-en-riu-resorts",
         "Aruba en RIU Resorts",
         "6",
         "5",
         "33.0",
         "True"
        ],
        [
         "33",
         "11",
         "Australia",
         "Oceanía",
         "34",
         "https://es.tui.com/viaje/australia-en-autocaravana-ruta-a",
         "Australia en autocaravana - Ruta A",
         "16",
         "12",
         "18.0",
         "True"
        ],
        [
         "34",
         "11",
         "Australia",
         "Oceanía",
         "35",
         "https://es.tui.com/viaje/australia-romantica",
         "Australia Romántica",
         "12",
         "9",
         "995.0",
         "True"
        ],
        [
         "35",
         "11",
         "Australia",
         "Oceanía",
         "36",
         "https://es.tui.com/viaje/australia-a-tu-alcance",
         "Australia a tu alcance",
         "12",
         "9",
         "657.0",
         "True"
        ],
        [
         "36",
         "11",
         "Australia",
         "Oceanía",
         "37",
         "https://es.tui.com/viaje/todo-australia",
         "Todo Australia",
         "11",
         "8",
         "991.0",
         "True"
        ],
        [
         "37",
         "11",
         "Australia",
         "Oceanía",
         "38",
         "https://es.tui.com/viaje/australia-kangaroo",
         "Australia Kangaroo",
         "18",
         "14",
         "996.0",
         "True"
        ],
        [
         "38",
         "11",
         "Australia",
         "Oceanía",
         "39",
         "https://es.tui.com/viaje/experiencia-australiana",
         "Experiencia Australiana",
         "12",
         "9",
         "994.0",
         "True"
        ],
        [
         "39",
         "11",
         "Australia",
         "Oceanía",
         "40",
         "https://es.tui.com/viaje/gran-australia",
         "Gran Australia",
         "15",
         "11",
         "992.0",
         "True"
        ],
        [
         "40",
         "11",
         "Australia",
         "Oceanía",
         "41",
         "https://viajeonline.es.tui.com/ES/idea/7142063/fly-drive-costa-este-australiana",
         "Fly & Drive Costa Este Australiana",
         "19",
         "15",
         "997.0",
         "True"
        ],
        [
         "41",
         "11",
         "Australia",
         "Oceanía",
         "42",
         "https://es.tui.com/viaje/luna-de-miel-en-australia",
         "Luna de Miel en Australia",
         "15",
         "12",
         "655.0",
         "True"
        ],
        [
         "42",
         "11",
         "Australia",
         "Oceanía",
         "43",
         "https://viajeonline.es.tui.com/es/idea/14349142/australia-magica",
         "Australia Mágica",
         "15",
         "12",
         "990.0",
         "True"
        ],
        [
         "43",
         "11",
         "Australia",
         "Oceanía",
         "44",
         "https://es.tui.com/viaje/capitales-australianas",
         "Capitales Australianas",
         "12",
         "9",
         "657.0",
         "True"
        ],
        [
         "44",
         "11",
         "Australia",
         "Oceanía",
         "45",
         "https://es.tui.com/viaje/contrastes-de-australia",
         "Contrastes de Australia",
         "20",
         "17",
         "656.0",
         "True"
        ],
        [
         "45",
         "11",
         "Australia",
         "Oceanía",
         "46",
         "https://es.tui.com/viaje/iconos-de-nueva-zelanda-y-australia",
         "Iconos de Nueva Zelanda y Australia",
         "17",
         "13",
         "73.0",
         "True"
        ],
        [
         "46",
         "11",
         "Australia",
         "Oceanía",
         "47",
         "https://es.tui.com/viaje/tres-continentes",
         "Tres Continentes",
         "20",
         "16",
         "115.0",
         "True"
        ],
        [
         "47",
         "11",
         "Australia",
         "Oceanía",
         "48",
         "https://es.tui.com/viaje/kiwis-y-koalas",
         "Kiwis y Koalas",
         "21",
         "17",
         "70.0",
         "True"
        ],
        [
         "48",
         "12",
         "Austria",
         "Europa",
         "49",
         "https://viajeonline.es.tui.com/es/idea/6948716/viena",
         "Viena",
         "4",
         "3",
         "1097.0",
         "True"
        ],
        [
         "49",
         "12",
         "Austria",
         "Europa",
         "3",
         "https://viajeonline.es.tui.com/es/idea/7897512/fly-drive-austria-entre-lagos-y-montanas-",
         "Fly & Drive Austria, Entre Lagos y Montañas",
         "8",
         "7",
         "872.0",
         "True"
        ]
       ],
       "shape": {
        "columns": 10,
        "rows": 1770
       }
      },
      "text/html": [
       "<div>\n",
       "<style scoped>\n",
       "    .dataframe tbody tr th:only-of-type {\n",
       "        vertical-align: middle;\n",
       "    }\n",
       "\n",
       "    .dataframe tbody tr th {\n",
       "        vertical-align: top;\n",
       "    }\n",
       "\n",
       "    .dataframe thead th {\n",
       "        text-align: right;\n",
       "    }\n",
       "</style>\n",
       "<table border=\"1\" class=\"dataframe\">\n",
       "  <thead>\n",
       "    <tr style=\"text-align: right;\">\n",
       "      <th></th>\n",
       "      <th>id_pais_destino</th>\n",
       "      <th>nombre_pais_destino</th>\n",
       "      <th>nombre_continente</th>\n",
       "      <th>id_viaje</th>\n",
       "      <th>url_viaje</th>\n",
       "      <th>nombre_viaje</th>\n",
       "      <th>duracion_dias</th>\n",
       "      <th>duracion_noches</th>\n",
       "      <th>id_itinerario</th>\n",
       "      <th>viaje_activo</th>\n",
       "    </tr>\n",
       "  </thead>\n",
       "  <tbody>\n",
       "    <tr>\n",
       "      <th>0</th>\n",
       "      <td>1</td>\n",
       "      <td>Albania</td>\n",
       "      <td>Europa</td>\n",
       "      <td>1</td>\n",
       "      <td>https://es.tui.com/viaje/albania-y-montenegro</td>\n",
       "      <td>Albania y Montenegro</td>\n",
       "      <td>8</td>\n",
       "      <td>7</td>\n",
       "      <td>1027.0</td>\n",
       "      <td>True</td>\n",
       "    </tr>\n",
       "    <tr>\n",
       "      <th>1</th>\n",
       "      <td>2</td>\n",
       "      <td>Alemania</td>\n",
       "      <td>Europa</td>\n",
       "      <td>2</td>\n",
       "      <td>https://viajeonline.es.tui.com/es/idea/1463025...</td>\n",
       "      <td>Berlín</td>\n",
       "      <td>4</td>\n",
       "      <td>3</td>\n",
       "      <td>146.0</td>\n",
       "      <td>True</td>\n",
       "    </tr>\n",
       "    <tr>\n",
       "      <th>2</th>\n",
       "      <td>2</td>\n",
       "      <td>Alemania</td>\n",
       "      <td>Europa</td>\n",
       "      <td>3</td>\n",
       "      <td>https://viajeonline.es.tui.com/es/idea/7897512...</td>\n",
       "      <td>Fly &amp; Drive Austria, Entre Lagos y Montañas</td>\n",
       "      <td>8</td>\n",
       "      <td>7</td>\n",
       "      <td>872.0</td>\n",
       "      <td>True</td>\n",
       "    </tr>\n",
       "    <tr>\n",
       "      <th>3</th>\n",
       "      <td>2</td>\n",
       "      <td>Alemania</td>\n",
       "      <td>Europa</td>\n",
       "      <td>4</td>\n",
       "      <td>https://viajeonline.es.tui.com/es/idea/8404511...</td>\n",
       "      <td>Fly &amp; Drive Carlomagno a su aire</td>\n",
       "      <td>10</td>\n",
       "      <td>9</td>\n",
       "      <td>166.0</td>\n",
       "      <td>True</td>\n",
       "    </tr>\n",
       "    <tr>\n",
       "      <th>4</th>\n",
       "      <td>2</td>\n",
       "      <td>Alemania</td>\n",
       "      <td>Europa</td>\n",
       "      <td>5</td>\n",
       "      <td>https://viajeonline.es.tui.com/es/idea/7906930...</td>\n",
       "      <td>Fly &amp; Drive Tirol al Completo</td>\n",
       "      <td>8</td>\n",
       "      <td>7</td>\n",
       "      <td>1145.0</td>\n",
       "      <td>True</td>\n",
       "    </tr>\n",
       "    <tr>\n",
       "      <th>...</th>\n",
       "      <td>...</td>\n",
       "      <td>...</td>\n",
       "      <td>...</td>\n",
       "      <td>...</td>\n",
       "      <td>...</td>\n",
       "      <td>...</td>\n",
       "      <td>...</td>\n",
       "      <td>...</td>\n",
       "      <td>...</td>\n",
       "      <td>...</td>\n",
       "    </tr>\n",
       "    <tr>\n",
       "      <th>1765</th>\n",
       "      <td>97</td>\n",
       "      <td>Laponia</td>\n",
       "      <td>Europa</td>\n",
       "      <td>1449</td>\n",
       "      <td>https://viajeonline.es.tui.com/es/idea/2607847...</td>\n",
       "      <td>Laponia - Puente de Diciembre en Levi - desde ...</td>\n",
       "      <td>5</td>\n",
       "      <td>4</td>\n",
       "      <td>570.0</td>\n",
       "      <td>True</td>\n",
       "    </tr>\n",
       "    <tr>\n",
       "      <th>1766</th>\n",
       "      <td>97</td>\n",
       "      <td>Laponia</td>\n",
       "      <td>Europa</td>\n",
       "      <td>1450</td>\n",
       "      <td>https://viajeonline.es.tui.com/es/idea/2607811...</td>\n",
       "      <td>Laponia - Puente de Diciembre en Levi - desde ...</td>\n",
       "      <td>5</td>\n",
       "      <td>4</td>\n",
       "      <td>570.0</td>\n",
       "      <td>True</td>\n",
       "    </tr>\n",
       "    <tr>\n",
       "      <th>1767</th>\n",
       "      <td>115</td>\n",
       "      <td>Mexico</td>\n",
       "      <td>América</td>\n",
       "      <td>1451</td>\n",
       "      <td>https://viajeonline.es.tui.com/es/idea/2700326...</td>\n",
       "      <td>Ciudad de México y Holbox</td>\n",
       "      <td>9</td>\n",
       "      <td>7</td>\n",
       "      <td>273.0</td>\n",
       "      <td>True</td>\n",
       "    </tr>\n",
       "    <tr>\n",
       "      <th>1768</th>\n",
       "      <td>149</td>\n",
       "      <td>Riviera Maya</td>\n",
       "      <td>América</td>\n",
       "      <td>1451</td>\n",
       "      <td>https://viajeonline.es.tui.com/es/idea/2700326...</td>\n",
       "      <td>Ciudad de México y Holbox</td>\n",
       "      <td>9</td>\n",
       "      <td>7</td>\n",
       "      <td>273.0</td>\n",
       "      <td>True</td>\n",
       "    </tr>\n",
       "    <tr>\n",
       "      <th>1769</th>\n",
       "      <td>77</td>\n",
       "      <td>India</td>\n",
       "      <td>Asia</td>\n",
       "      <td>1452</td>\n",
       "      <td>https://es.tui.com/viaje/india-y-maldivas-a-tu...</td>\n",
       "      <td>India y maldivas a tu alcance</td>\n",
       "      <td>11</td>\n",
       "      <td>9</td>\n",
       "      <td>343.0</td>\n",
       "      <td>True</td>\n",
       "    </tr>\n",
       "  </tbody>\n",
       "</table>\n",
       "<p>1770 rows × 10 columns</p>\n",
       "</div>"
      ],
      "text/plain": [
       "      id_pais_destino nombre_pais_destino nombre_continente  id_viaje  \\\n",
       "0                   1             Albania            Europa         1   \n",
       "1                   2            Alemania            Europa         2   \n",
       "2                   2            Alemania            Europa         3   \n",
       "3                   2            Alemania            Europa         4   \n",
       "4                   2            Alemania            Europa         5   \n",
       "...               ...                 ...               ...       ...   \n",
       "1765               97             Laponia            Europa      1449   \n",
       "1766               97             Laponia            Europa      1450   \n",
       "1767              115              Mexico           América      1451   \n",
       "1768              149        Riviera Maya           América      1451   \n",
       "1769               77               India              Asia      1452   \n",
       "\n",
       "                                              url_viaje  \\\n",
       "0         https://es.tui.com/viaje/albania-y-montenegro   \n",
       "1     https://viajeonline.es.tui.com/es/idea/1463025...   \n",
       "2     https://viajeonline.es.tui.com/es/idea/7897512...   \n",
       "3     https://viajeonline.es.tui.com/es/idea/8404511...   \n",
       "4     https://viajeonline.es.tui.com/es/idea/7906930...   \n",
       "...                                                 ...   \n",
       "1765  https://viajeonline.es.tui.com/es/idea/2607847...   \n",
       "1766  https://viajeonline.es.tui.com/es/idea/2607811...   \n",
       "1767  https://viajeonline.es.tui.com/es/idea/2700326...   \n",
       "1768  https://viajeonline.es.tui.com/es/idea/2700326...   \n",
       "1769  https://es.tui.com/viaje/india-y-maldivas-a-tu...   \n",
       "\n",
       "                                           nombre_viaje  duracion_dias  \\\n",
       "0                                  Albania y Montenegro              8   \n",
       "1                                                Berlín              4   \n",
       "2           Fly & Drive Austria, Entre Lagos y Montañas              8   \n",
       "3                      Fly & Drive Carlomagno a su aire             10   \n",
       "4                         Fly & Drive Tirol al Completo              8   \n",
       "...                                                 ...            ...   \n",
       "1765  Laponia - Puente de Diciembre en Levi - desde ...              5   \n",
       "1766  Laponia - Puente de Diciembre en Levi - desde ...              5   \n",
       "1767                          Ciudad de México y Holbox              9   \n",
       "1768                          Ciudad de México y Holbox              9   \n",
       "1769                      India y maldivas a tu alcance             11   \n",
       "\n",
       "      duracion_noches  id_itinerario  viaje_activo  \n",
       "0                   7         1027.0          True  \n",
       "1                   3          146.0          True  \n",
       "2                   7          872.0          True  \n",
       "3                   9          166.0          True  \n",
       "4                   7         1145.0          True  \n",
       "...               ...            ...           ...  \n",
       "1765                4          570.0          True  \n",
       "1766                4          570.0          True  \n",
       "1767                7          273.0          True  \n",
       "1768                7          273.0          True  \n",
       "1769                9          343.0          True  \n",
       "\n",
       "[1770 rows x 10 columns]"
      ]
     },
     "execution_count": 77,
     "metadata": {},
     "output_type": "execute_result"
    }
   ],
   "source": [
    "df_viajes_localizacion_pag_web = exp.extraer_datos_bbdd_y_convertir_en_df(lista_columnas,query_extraccion)\n",
    "df_viajes_localizacion_pag_web"
   ]
  },
  {
   "cell_type": "code",
   "execution_count": 78,
   "id": "73484fd5",
   "metadata": {},
   "outputs": [
    {
     "data": {
      "application/vnd.microsoft.datawrangler.viewer.v0+json": {
       "columns": [
        {
         "name": "index",
         "rawType": "int64",
         "type": "integer"
        },
        {
         "name": "id_pais_destino",
         "rawType": "int64",
         "type": "integer"
        },
        {
         "name": "id_viaje",
         "rawType": "int64",
         "type": "integer"
        }
       ],
       "conversionMethod": "pd.DataFrame",
       "ref": "3f168b76-7fcf-4187-a60d-9c622baad617",
       "rows": [
        [
         "0",
         "1",
         "5"
        ],
        [
         "1",
         "2",
         "20"
        ],
        [
         "2",
         "5",
         "2"
        ],
        [
         "3",
         "6",
         "1"
        ],
        [
         "4",
         "8",
         "26"
        ],
        [
         "5",
         "9",
         "3"
        ],
        [
         "6",
         "10",
         "3"
        ],
        [
         "7",
         "11",
         "17"
        ],
        [
         "8",
         "12",
         "21"
        ],
        [
         "9",
         "14",
         "7"
        ],
        [
         "10",
         "17",
         "2"
        ],
        [
         "11",
         "19",
         "5"
        ],
        [
         "12",
         "20",
         "2"
        ],
        [
         "13",
         "22",
         "3"
        ],
        [
         "14",
         "23",
         "3"
        ],
        [
         "15",
         "24",
         "12"
        ],
        [
         "16",
         "25",
         "11"
        ],
        [
         "17",
         "26",
         "4"
        ],
        [
         "18",
         "28",
         "6"
        ],
        [
         "19",
         "29",
         "3"
        ],
        [
         "20",
         "30",
         "16"
        ],
        [
         "21",
         "32",
         "59"
        ],
        [
         "22",
         "36",
         "21"
        ],
        [
         "23",
         "37",
         "31"
        ],
        [
         "24",
         "38",
         "2"
        ],
        [
         "25",
         "39",
         "19"
        ],
        [
         "26",
         "40",
         "5"
        ],
        [
         "27",
         "42",
         "60"
        ],
        [
         "28",
         "43",
         "7"
        ],
        [
         "29",
         "45",
         "2"
        ],
        [
         "30",
         "46",
         "5"
        ],
        [
         "31",
         "48",
         "1"
        ],
        [
         "32",
         "49",
         "6"
        ],
        [
         "33",
         "50",
         "37"
        ],
        [
         "34",
         "51",
         "2"
        ],
        [
         "35",
         "52",
         "10"
        ],
        [
         "36",
         "53",
         "9"
        ],
        [
         "37",
         "54",
         "5"
        ],
        [
         "38",
         "55",
         "10"
        ],
        [
         "39",
         "56",
         "159"
        ],
        [
         "40",
         "57",
         "6"
        ],
        [
         "41",
         "59",
         "3"
        ],
        [
         "42",
         "60",
         "7"
        ],
        [
         "43",
         "61",
         "24"
        ],
        [
         "44",
         "62",
         "11"
        ],
        [
         "45",
         "65",
         "3"
        ],
        [
         "46",
         "67",
         "2"
        ],
        [
         "47",
         "68",
         "26"
        ],
        [
         "48",
         "69",
         "2"
        ],
        [
         "49",
         "70",
         "11"
        ]
       ],
       "shape": {
        "columns": 2,
        "rows": 126
       }
      },
      "text/html": [
       "<div>\n",
       "<style scoped>\n",
       "    .dataframe tbody tr th:only-of-type {\n",
       "        vertical-align: middle;\n",
       "    }\n",
       "\n",
       "    .dataframe tbody tr th {\n",
       "        vertical-align: top;\n",
       "    }\n",
       "\n",
       "    .dataframe thead th {\n",
       "        text-align: right;\n",
       "    }\n",
       "</style>\n",
       "<table border=\"1\" class=\"dataframe\">\n",
       "  <thead>\n",
       "    <tr style=\"text-align: right;\">\n",
       "      <th></th>\n",
       "      <th>id_pais_destino</th>\n",
       "      <th>id_viaje</th>\n",
       "    </tr>\n",
       "  </thead>\n",
       "  <tbody>\n",
       "    <tr>\n",
       "      <th>0</th>\n",
       "      <td>1</td>\n",
       "      <td>5</td>\n",
       "    </tr>\n",
       "    <tr>\n",
       "      <th>1</th>\n",
       "      <td>2</td>\n",
       "      <td>20</td>\n",
       "    </tr>\n",
       "    <tr>\n",
       "      <th>2</th>\n",
       "      <td>5</td>\n",
       "      <td>2</td>\n",
       "    </tr>\n",
       "    <tr>\n",
       "      <th>3</th>\n",
       "      <td>6</td>\n",
       "      <td>1</td>\n",
       "    </tr>\n",
       "    <tr>\n",
       "      <th>4</th>\n",
       "      <td>8</td>\n",
       "      <td>26</td>\n",
       "    </tr>\n",
       "    <tr>\n",
       "      <th>...</th>\n",
       "      <td>...</td>\n",
       "      <td>...</td>\n",
       "    </tr>\n",
       "    <tr>\n",
       "      <th>121</th>\n",
       "      <td>181</td>\n",
       "      <td>1</td>\n",
       "    </tr>\n",
       "    <tr>\n",
       "      <th>122</th>\n",
       "      <td>182</td>\n",
       "      <td>4</td>\n",
       "    </tr>\n",
       "    <tr>\n",
       "      <th>123</th>\n",
       "      <td>184</td>\n",
       "      <td>43</td>\n",
       "    </tr>\n",
       "    <tr>\n",
       "      <th>124</th>\n",
       "      <td>187</td>\n",
       "      <td>23</td>\n",
       "    </tr>\n",
       "    <tr>\n",
       "      <th>125</th>\n",
       "      <td>188</td>\n",
       "      <td>15</td>\n",
       "    </tr>\n",
       "  </tbody>\n",
       "</table>\n",
       "<p>126 rows × 2 columns</p>\n",
       "</div>"
      ],
      "text/plain": [
       "     id_pais_destino  id_viaje\n",
       "0                  1         5\n",
       "1                  2        20\n",
       "2                  5         2\n",
       "3                  6         1\n",
       "4                  8        26\n",
       "..               ...       ...\n",
       "121              181         1\n",
       "122              182         4\n",
       "123              184        43\n",
       "124              187        23\n",
       "125              188        15\n",
       "\n",
       "[126 rows x 2 columns]"
      ]
     },
     "execution_count": 78,
     "metadata": {},
     "output_type": "execute_result"
    }
   ],
   "source": [
    "df_viajes_localizacion_pag_web_agrupado_pais = df_viajes_localizacion_pag_web.groupby('id_pais_destino')[['id_viaje']].count().reset_index()\n",
    "df_viajes_localizacion_pag_web_agrupado_pais"
   ]
  },
  {
   "cell_type": "code",
   "execution_count": 79,
   "id": "c457d6c7",
   "metadata": {},
   "outputs": [
    {
     "data": {
      "text/plain": [
       "126"
      ]
     },
     "execution_count": 79,
     "metadata": {},
     "output_type": "execute_result"
    }
   ],
   "source": [
    "len(df_viajes_localizacion_pag_web.id_pais_destino.unique())"
   ]
  },
  {
   "cell_type": "markdown",
   "id": "4d4fab06",
   "metadata": {},
   "source": [
    "## Viajes según localización ciudades"
   ]
  },
  {
   "cell_type": "code",
   "execution_count": 80,
   "id": "b062af65",
   "metadata": {},
   "outputs": [],
   "source": [
    "query_extraccion = '''SELECT pd.*,\n",
    "\tv.*,\n",
    "\tc.id_ciudad,\n",
    "\tc.nombre_ciudad\n",
    "FROM viaje v\n",
    "INNER JOIN itinerario i ON v.id_itinerario = i.id_itinerario\n",
    "INNER JOIN ciudad_itinerario ci ON i.id_itinerario = ci.id_itinerario\n",
    "INNER JOIN ciudad c ON ci.id_ciudad = c.id_ciudad\n",
    "INNER JOIN pais_destino pd ON c.id_pais_destino =pd.id_pais_destino'''\n"
   ]
  },
  {
   "cell_type": "code",
   "execution_count": 81,
   "id": "eae59d7c",
   "metadata": {},
   "outputs": [],
   "source": [
    "lista_columnas = ['id_pais_destino', 'nombre_pais_destino', 'nombre_continente', 'id_viaje', 'url_viaje', \n",
    "                  'nombre_viaje','duracion_dias', 'duracion_noches', 'id_itinerario', 'viaje_activo', 'id_ciudad', 'nombre_ciudad']"
   ]
  },
  {
   "cell_type": "code",
   "execution_count": 82,
   "id": "f65a94a4",
   "metadata": {},
   "outputs": [
    {
     "data": {
      "application/vnd.microsoft.datawrangler.viewer.v0+json": {
       "columns": [
        {
         "name": "index",
         "rawType": "int64",
         "type": "integer"
        },
        {
         "name": "id_pais_destino",
         "rawType": "int64",
         "type": "integer"
        },
        {
         "name": "nombre_pais_destino",
         "rawType": "object",
         "type": "string"
        },
        {
         "name": "nombre_continente",
         "rawType": "object",
         "type": "string"
        },
        {
         "name": "id_viaje",
         "rawType": "int64",
         "type": "integer"
        },
        {
         "name": "url_viaje",
         "rawType": "object",
         "type": "string"
        },
        {
         "name": "nombre_viaje",
         "rawType": "object",
         "type": "string"
        },
        {
         "name": "duracion_dias",
         "rawType": "int64",
         "type": "integer"
        },
        {
         "name": "duracion_noches",
         "rawType": "int64",
         "type": "integer"
        },
        {
         "name": "id_itinerario",
         "rawType": "int64",
         "type": "integer"
        },
        {
         "name": "viaje_activo",
         "rawType": "bool",
         "type": "boolean"
        },
        {
         "name": "id_ciudad",
         "rawType": "int64",
         "type": "integer"
        },
        {
         "name": "nombre_ciudad",
         "rawType": "object",
         "type": "string"
        }
       ],
       "conversionMethod": "pd.DataFrame",
       "ref": "89f8b070-c2b3-4d6c-baea-71a162117f97",
       "rows": [
        [
         "0",
         "119",
         "Montenegro",
         "Europa",
         "1",
         "https://es.tui.com/viaje/albania-y-montenegro",
         "Albania y Montenegro",
         "8",
         "7",
         "1027",
         "True",
         "9",
         "Bar"
        ],
        [
         "1",
         "119",
         "Montenegro",
         "Europa",
         "1",
         "https://es.tui.com/viaje/albania-y-montenegro",
         "Albania y Montenegro",
         "8",
         "7",
         "1027",
         "True",
         "8",
         "Cetinje"
        ],
        [
         "2",
         "119",
         "Montenegro",
         "Europa",
         "1",
         "https://es.tui.com/viaje/albania-y-montenegro",
         "Albania y Montenegro",
         "8",
         "7",
         "1027",
         "True",
         "7",
         "Budva"
        ],
        [
         "3",
         "119",
         "Montenegro",
         "Europa",
         "1",
         "https://es.tui.com/viaje/albania-y-montenegro",
         "Albania y Montenegro",
         "8",
         "7",
         "1027",
         "True",
         "6",
         "Petrovac"
        ],
        [
         "4",
         "1",
         "Albania",
         "Europa",
         "1",
         "https://es.tui.com/viaje/albania-y-montenegro",
         "Albania y Montenegro",
         "8",
         "7",
         "1027",
         "True",
         "5",
         "Shkoder"
        ],
        [
         "5",
         "1",
         "Albania",
         "Europa",
         "1",
         "https://es.tui.com/viaje/albania-y-montenegro",
         "Albania y Montenegro",
         "8",
         "7",
         "1027",
         "True",
         "4",
         "Kruja"
        ],
        [
         "6",
         "1",
         "Albania",
         "Europa",
         "1",
         "https://es.tui.com/viaje/albania-y-montenegro",
         "Albania y Montenegro",
         "8",
         "7",
         "1027",
         "True",
         "3",
         "Berat"
        ],
        [
         "7",
         "1",
         "Albania",
         "Europa",
         "1",
         "https://es.tui.com/viaje/albania-y-montenegro",
         "Albania y Montenegro",
         "8",
         "7",
         "1027",
         "True",
         "2",
         "Durres"
        ],
        [
         "8",
         "1",
         "Albania",
         "Europa",
         "1",
         "https://es.tui.com/viaje/albania-y-montenegro",
         "Albania y Montenegro",
         "8",
         "7",
         "1027",
         "True",
         "1",
         "Tirana"
        ],
        [
         "9",
         "2",
         "Alemania",
         "Europa",
         "2",
         "https://viajeonline.es.tui.com/es/idea/14630257/berlin",
         "Berlín",
         "4",
         "3",
         "146",
         "True",
         "10",
         "Berlin"
        ],
        [
         "10",
         "12",
         "Austria",
         "Europa",
         "3",
         "https://viajeonline.es.tui.com/es/idea/7897512/fly-drive-austria-entre-lagos-y-montanas-",
         "Fly & Drive Austria, Entre Lagos y Montañas",
         "8",
         "7",
         "872",
         "True",
         "20",
         "Innsbruck"
        ],
        [
         "11",
         "12",
         "Austria",
         "Europa",
         "3",
         "https://viajeonline.es.tui.com/es/idea/7897512/fly-drive-austria-entre-lagos-y-montanas-",
         "Fly & Drive Austria, Entre Lagos y Montañas",
         "8",
         "7",
         "872",
         "True",
         "19",
         "St Johann In Tirol"
        ],
        [
         "12",
         "2",
         "Alemania",
         "Europa",
         "3",
         "https://viajeonline.es.tui.com/es/idea/7897512/fly-drive-austria-entre-lagos-y-montanas-",
         "Fly & Drive Austria, Entre Lagos y Montañas",
         "8",
         "7",
         "872",
         "True",
         "18",
         "St Wolfgang"
        ],
        [
         "13",
         "12",
         "Austria",
         "Europa",
         "3",
         "https://viajeonline.es.tui.com/es/idea/7897512/fly-drive-austria-entre-lagos-y-montanas-",
         "Fly & Drive Austria, Entre Lagos y Montañas",
         "8",
         "7",
         "872",
         "True",
         "17",
         "Hallstatt"
        ],
        [
         "14",
         "12",
         "Austria",
         "Europa",
         "3",
         "https://viajeonline.es.tui.com/es/idea/7897512/fly-drive-austria-entre-lagos-y-montanas-",
         "Fly & Drive Austria, Entre Lagos y Montañas",
         "8",
         "7",
         "872",
         "True",
         "16",
         "Graz"
        ],
        [
         "15",
         "12",
         "Austria",
         "Europa",
         "3",
         "https://viajeonline.es.tui.com/es/idea/7897512/fly-drive-austria-entre-lagos-y-montanas-",
         "Fly & Drive Austria, Entre Lagos y Montañas",
         "8",
         "7",
         "872",
         "True",
         "15",
         "Viena"
        ],
        [
         "16",
         "12",
         "Austria",
         "Europa",
         "3",
         "https://viajeonline.es.tui.com/es/idea/7897512/fly-drive-austria-entre-lagos-y-montanas-",
         "Fly & Drive Austria, Entre Lagos y Montañas",
         "8",
         "7",
         "872",
         "True",
         "14",
         "Melk"
        ],
        [
         "17",
         "12",
         "Austria",
         "Europa",
         "3",
         "https://viajeonline.es.tui.com/es/idea/7897512/fly-drive-austria-entre-lagos-y-montanas-",
         "Fly & Drive Austria, Entre Lagos y Montañas",
         "8",
         "7",
         "872",
         "True",
         "13",
         "Linz"
        ],
        [
         "18",
         "12",
         "Austria",
         "Europa",
         "3",
         "https://viajeonline.es.tui.com/es/idea/7897512/fly-drive-austria-entre-lagos-y-montanas-",
         "Fly & Drive Austria, Entre Lagos y Montañas",
         "8",
         "7",
         "872",
         "True",
         "12",
         "Gmunden"
        ],
        [
         "19",
         "12",
         "Austria",
         "Europa",
         "3",
         "https://viajeonline.es.tui.com/es/idea/7897512/fly-drive-austria-entre-lagos-y-montanas-",
         "Fly & Drive Austria, Entre Lagos y Montañas",
         "8",
         "7",
         "872",
         "True",
         "11",
         "Salzburgo"
        ],
        [
         "20",
         "19",
         "Belgica",
         "Europa",
         "4",
         "https://viajeonline.es.tui.com/es/idea/8404511/-fly-drive-carlomagno-a-su-aire?tripId=2",
         "Fly & Drive Carlomagno a su aire",
         "10",
         "9",
         "166",
         "True",
         "38",
         "Amberes"
        ],
        [
         "21",
         "19",
         "Belgica",
         "Europa",
         "4",
         "https://viajeonline.es.tui.com/es/idea/8404511/-fly-drive-carlomagno-a-su-aire?tripId=2",
         "Fly & Drive Carlomagno a su aire",
         "10",
         "9",
         "166",
         "True",
         "37",
         "Malinas"
        ],
        [
         "22",
         "19",
         "Belgica",
         "Europa",
         "4",
         "https://viajeonline.es.tui.com/es/idea/8404511/-fly-drive-carlomagno-a-su-aire?tripId=2",
         "Fly & Drive Carlomagno a su aire",
         "10",
         "9",
         "166",
         "True",
         "36",
         "Lovaina"
        ],
        [
         "23",
         "19",
         "Belgica",
         "Europa",
         "4",
         "https://viajeonline.es.tui.com/es/idea/8404511/-fly-drive-carlomagno-a-su-aire?tripId=2",
         "Fly & Drive Carlomagno a su aire",
         "10",
         "9",
         "166",
         "True",
         "35",
         "Brujas"
        ],
        [
         "24",
         "19",
         "Belgica",
         "Europa",
         "4",
         "https://viajeonline.es.tui.com/es/idea/8404511/-fly-drive-carlomagno-a-su-aire?tripId=2",
         "Fly & Drive Carlomagno a su aire",
         "10",
         "9",
         "166",
         "True",
         "34",
         "Gante"
        ],
        [
         "25",
         "19",
         "Belgica",
         "Europa",
         "4",
         "https://viajeonline.es.tui.com/es/idea/8404511/-fly-drive-carlomagno-a-su-aire?tripId=2",
         "Fly & Drive Carlomagno a su aire",
         "10",
         "9",
         "166",
         "True",
         "33",
         "Dinant"
        ],
        [
         "26",
         "19",
         "Belgica",
         "Europa",
         "4",
         "https://viajeonline.es.tui.com/es/idea/8404511/-fly-drive-carlomagno-a-su-aire?tripId=2",
         "Fly & Drive Carlomagno a su aire",
         "10",
         "9",
         "166",
         "True",
         "32",
         "Luxemburgo"
        ],
        [
         "27",
         "2",
         "Alemania",
         "Europa",
         "4",
         "https://viajeonline.es.tui.com/es/idea/8404511/-fly-drive-carlomagno-a-su-aire?tripId=2",
         "Fly & Drive Carlomagno a su aire",
         "10",
         "9",
         "166",
         "True",
         "31",
         "Treveris"
        ],
        [
         "28",
         "2",
         "Alemania",
         "Europa",
         "4",
         "https://viajeonline.es.tui.com/es/idea/8404511/-fly-drive-carlomagno-a-su-aire?tripId=2",
         "Fly & Drive Carlomagno a su aire",
         "10",
         "9",
         "166",
         "True",
         "30",
         "Cochem"
        ],
        [
         "29",
         "2",
         "Alemania",
         "Europa",
         "4",
         "https://viajeonline.es.tui.com/es/idea/8404511/-fly-drive-carlomagno-a-su-aire?tripId=2",
         "Fly & Drive Carlomagno a su aire",
         "10",
         "9",
         "166",
         "True",
         "29",
         "Boppard"
        ],
        [
         "30",
         "2",
         "Alemania",
         "Europa",
         "4",
         "https://viajeonline.es.tui.com/es/idea/8404511/-fly-drive-carlomagno-a-su-aire?tripId=2",
         "Fly & Drive Carlomagno a su aire",
         "10",
         "9",
         "166",
         "True",
         "28",
         "Coblenza"
        ],
        [
         "31",
         "2",
         "Alemania",
         "Europa",
         "4",
         "https://viajeonline.es.tui.com/es/idea/8404511/-fly-drive-carlomagno-a-su-aire?tripId=2",
         "Fly & Drive Carlomagno a su aire",
         "10",
         "9",
         "166",
         "True",
         "27",
         "Konigswinter"
        ],
        [
         "32",
         "2",
         "Alemania",
         "Europa",
         "4",
         "https://viajeonline.es.tui.com/es/idea/8404511/-fly-drive-carlomagno-a-su-aire?tripId=2",
         "Fly & Drive Carlomagno a su aire",
         "10",
         "9",
         "166",
         "True",
         "26",
         "Bonn"
        ],
        [
         "33",
         "62",
         "Francia",
         "Europa",
         "4",
         "https://viajeonline.es.tui.com/es/idea/8404511/-fly-drive-carlomagno-a-su-aire?tripId=2",
         "Fly & Drive Carlomagno a su aire",
         "10",
         "9",
         "166",
         "True",
         "25",
         "Colonia"
        ],
        [
         "34",
         "2",
         "Alemania",
         "Europa",
         "4",
         "https://viajeonline.es.tui.com/es/idea/8404511/-fly-drive-carlomagno-a-su-aire?tripId=2",
         "Fly & Drive Carlomagno a su aire",
         "10",
         "9",
         "166",
         "True",
         "24",
         "Aquisgran"
        ],
        [
         "35",
         "19",
         "Belgica",
         "Europa",
         "4",
         "https://viajeonline.es.tui.com/es/idea/8404511/-fly-drive-carlomagno-a-su-aire?tripId=2",
         "Fly & Drive Carlomagno a su aire",
         "10",
         "9",
         "166",
         "True",
         "23",
         "Lieja"
        ],
        [
         "36",
         "19",
         "Belgica",
         "Europa",
         "4",
         "https://viajeonline.es.tui.com/es/idea/8404511/-fly-drive-carlomagno-a-su-aire?tripId=2",
         "Fly & Drive Carlomagno a su aire",
         "10",
         "9",
         "166",
         "True",
         "22",
         "Durbuy"
        ],
        [
         "37",
         "19",
         "Belgica",
         "Europa",
         "4",
         "https://viajeonline.es.tui.com/es/idea/8404511/-fly-drive-carlomagno-a-su-aire?tripId=2",
         "Fly & Drive Carlomagno a su aire",
         "10",
         "9",
         "166",
         "True",
         "21",
         "Bruselas"
        ],
        [
         "38",
         "87",
         "Italia",
         "Europa",
         "5",
         "https://viajeonline.es.tui.com/es/idea/7906930/-fly-drive-tirol-al-completo-",
         "Fly & Drive Tirol al Completo",
         "8",
         "7",
         "1145",
         "True",
         "48",
         "Brunico"
        ],
        [
         "39",
         "87",
         "Italia",
         "Europa",
         "5",
         "https://viajeonline.es.tui.com/es/idea/7906930/-fly-drive-tirol-al-completo-",
         "Fly & Drive Tirol al Completo",
         "8",
         "7",
         "1145",
         "True",
         "47",
         "Cortina Dampezzo"
        ],
        [
         "40",
         "87",
         "Italia",
         "Europa",
         "5",
         "https://viajeonline.es.tui.com/es/idea/7906930/-fly-drive-tirol-al-completo-",
         "Fly & Drive Tirol al Completo",
         "8",
         "7",
         "1145",
         "True",
         "46",
         "Canazei"
        ],
        [
         "41",
         "87",
         "Italia",
         "Europa",
         "5",
         "https://viajeonline.es.tui.com/es/idea/7906930/-fly-drive-tirol-al-completo-",
         "Fly & Drive Tirol al Completo",
         "8",
         "7",
         "1145",
         "True",
         "45",
         "Marmolada"
        ],
        [
         "42",
         "87",
         "Italia",
         "Europa",
         "5",
         "https://viajeonline.es.tui.com/es/idea/7906930/-fly-drive-tirol-al-completo-",
         "Fly & Drive Tirol al Completo",
         "8",
         "7",
         "1145",
         "True",
         "44",
         "Trento"
        ],
        [
         "43",
         "87",
         "Italia",
         "Europa",
         "5",
         "https://viajeonline.es.tui.com/es/idea/7906930/-fly-drive-tirol-al-completo-",
         "Fly & Drive Tirol al Completo",
         "8",
         "7",
         "1145",
         "True",
         "43",
         "Bolzano"
        ],
        [
         "44",
         "87",
         "Italia",
         "Europa",
         "5",
         "https://viajeonline.es.tui.com/es/idea/7906930/-fly-drive-tirol-al-completo-",
         "Fly & Drive Tirol al Completo",
         "8",
         "7",
         "1145",
         "True",
         "42",
         "Bresanona"
        ],
        [
         "45",
         "87",
         "Italia",
         "Europa",
         "5",
         "https://viajeonline.es.tui.com/es/idea/7906930/-fly-drive-tirol-al-completo-",
         "Fly & Drive Tirol al Completo",
         "8",
         "7",
         "1145",
         "True",
         "41",
         "Vipiteno"
        ],
        [
         "46",
         "12",
         "Austria",
         "Europa",
         "5",
         "https://viajeonline.es.tui.com/es/idea/7906930/-fly-drive-tirol-al-completo-",
         "Fly & Drive Tirol al Completo",
         "8",
         "7",
         "1145",
         "True",
         "40",
         "Cataratas Krimml"
        ],
        [
         "47",
         "87",
         "Italia",
         "Europa",
         "5",
         "https://viajeonline.es.tui.com/es/idea/7906930/-fly-drive-tirol-al-completo-",
         "Fly & Drive Tirol al Completo",
         "8",
         "7",
         "1145",
         "True",
         "39",
         "Sbruck"
        ],
        [
         "48",
         "2",
         "Alemania",
         "Europa",
         "6",
         "https://viajeonline.es.tui.com/es/idea/21553157/-fly-drive-ciudades-hanseaticas-a-su-aire?tripId=9",
         "Fly & Drive Ciudades Hanseáticas",
         "8",
         "7",
         "425",
         "True",
         "55",
         "Lubeck"
        ],
        [
         "49",
         "2",
         "Alemania",
         "Europa",
         "6",
         "https://viajeonline.es.tui.com/es/idea/21553157/-fly-drive-ciudades-hanseaticas-a-su-aire?tripId=9",
         "Fly & Drive Ciudades Hanseáticas",
         "8",
         "7",
         "425",
         "True",
         "54",
         "Wismar"
        ]
       ],
       "shape": {
        "columns": 12,
        "rows": 9115
       }
      },
      "text/html": [
       "<div>\n",
       "<style scoped>\n",
       "    .dataframe tbody tr th:only-of-type {\n",
       "        vertical-align: middle;\n",
       "    }\n",
       "\n",
       "    .dataframe tbody tr th {\n",
       "        vertical-align: top;\n",
       "    }\n",
       "\n",
       "    .dataframe thead th {\n",
       "        text-align: right;\n",
       "    }\n",
       "</style>\n",
       "<table border=\"1\" class=\"dataframe\">\n",
       "  <thead>\n",
       "    <tr style=\"text-align: right;\">\n",
       "      <th></th>\n",
       "      <th>id_pais_destino</th>\n",
       "      <th>nombre_pais_destino</th>\n",
       "      <th>nombre_continente</th>\n",
       "      <th>id_viaje</th>\n",
       "      <th>url_viaje</th>\n",
       "      <th>nombre_viaje</th>\n",
       "      <th>duracion_dias</th>\n",
       "      <th>duracion_noches</th>\n",
       "      <th>id_itinerario</th>\n",
       "      <th>viaje_activo</th>\n",
       "      <th>id_ciudad</th>\n",
       "      <th>nombre_ciudad</th>\n",
       "    </tr>\n",
       "  </thead>\n",
       "  <tbody>\n",
       "    <tr>\n",
       "      <th>0</th>\n",
       "      <td>119</td>\n",
       "      <td>Montenegro</td>\n",
       "      <td>Europa</td>\n",
       "      <td>1</td>\n",
       "      <td>https://es.tui.com/viaje/albania-y-montenegro</td>\n",
       "      <td>Albania y Montenegro</td>\n",
       "      <td>8</td>\n",
       "      <td>7</td>\n",
       "      <td>1027</td>\n",
       "      <td>True</td>\n",
       "      <td>9</td>\n",
       "      <td>Bar</td>\n",
       "    </tr>\n",
       "    <tr>\n",
       "      <th>1</th>\n",
       "      <td>119</td>\n",
       "      <td>Montenegro</td>\n",
       "      <td>Europa</td>\n",
       "      <td>1</td>\n",
       "      <td>https://es.tui.com/viaje/albania-y-montenegro</td>\n",
       "      <td>Albania y Montenegro</td>\n",
       "      <td>8</td>\n",
       "      <td>7</td>\n",
       "      <td>1027</td>\n",
       "      <td>True</td>\n",
       "      <td>8</td>\n",
       "      <td>Cetinje</td>\n",
       "    </tr>\n",
       "    <tr>\n",
       "      <th>2</th>\n",
       "      <td>119</td>\n",
       "      <td>Montenegro</td>\n",
       "      <td>Europa</td>\n",
       "      <td>1</td>\n",
       "      <td>https://es.tui.com/viaje/albania-y-montenegro</td>\n",
       "      <td>Albania y Montenegro</td>\n",
       "      <td>8</td>\n",
       "      <td>7</td>\n",
       "      <td>1027</td>\n",
       "      <td>True</td>\n",
       "      <td>7</td>\n",
       "      <td>Budva</td>\n",
       "    </tr>\n",
       "    <tr>\n",
       "      <th>3</th>\n",
       "      <td>119</td>\n",
       "      <td>Montenegro</td>\n",
       "      <td>Europa</td>\n",
       "      <td>1</td>\n",
       "      <td>https://es.tui.com/viaje/albania-y-montenegro</td>\n",
       "      <td>Albania y Montenegro</td>\n",
       "      <td>8</td>\n",
       "      <td>7</td>\n",
       "      <td>1027</td>\n",
       "      <td>True</td>\n",
       "      <td>6</td>\n",
       "      <td>Petrovac</td>\n",
       "    </tr>\n",
       "    <tr>\n",
       "      <th>4</th>\n",
       "      <td>1</td>\n",
       "      <td>Albania</td>\n",
       "      <td>Europa</td>\n",
       "      <td>1</td>\n",
       "      <td>https://es.tui.com/viaje/albania-y-montenegro</td>\n",
       "      <td>Albania y Montenegro</td>\n",
       "      <td>8</td>\n",
       "      <td>7</td>\n",
       "      <td>1027</td>\n",
       "      <td>True</td>\n",
       "      <td>5</td>\n",
       "      <td>Shkoder</td>\n",
       "    </tr>\n",
       "    <tr>\n",
       "      <th>...</th>\n",
       "      <td>...</td>\n",
       "      <td>...</td>\n",
       "      <td>...</td>\n",
       "      <td>...</td>\n",
       "      <td>...</td>\n",
       "      <td>...</td>\n",
       "      <td>...</td>\n",
       "      <td>...</td>\n",
       "      <td>...</td>\n",
       "      <td>...</td>\n",
       "      <td>...</td>\n",
       "      <td>...</td>\n",
       "    </tr>\n",
       "    <tr>\n",
       "      <th>9110</th>\n",
       "      <td>77</td>\n",
       "      <td>India</td>\n",
       "      <td>Asia</td>\n",
       "      <td>1452</td>\n",
       "      <td>https://es.tui.com/viaje/india-y-maldivas-a-tu...</td>\n",
       "      <td>India y maldivas a tu alcance</td>\n",
       "      <td>11</td>\n",
       "      <td>9</td>\n",
       "      <td>343</td>\n",
       "      <td>True</td>\n",
       "      <td>264</td>\n",
       "      <td>Agra</td>\n",
       "    </tr>\n",
       "    <tr>\n",
       "      <th>9111</th>\n",
       "      <td>77</td>\n",
       "      <td>India</td>\n",
       "      <td>Asia</td>\n",
       "      <td>1452</td>\n",
       "      <td>https://es.tui.com/viaje/india-y-maldivas-a-tu...</td>\n",
       "      <td>India y maldivas a tu alcance</td>\n",
       "      <td>11</td>\n",
       "      <td>9</td>\n",
       "      <td>343</td>\n",
       "      <td>True</td>\n",
       "      <td>263</td>\n",
       "      <td>Fatehpur Sikri</td>\n",
       "    </tr>\n",
       "    <tr>\n",
       "      <th>9112</th>\n",
       "      <td>77</td>\n",
       "      <td>India</td>\n",
       "      <td>Asia</td>\n",
       "      <td>1452</td>\n",
       "      <td>https://es.tui.com/viaje/india-y-maldivas-a-tu...</td>\n",
       "      <td>India y maldivas a tu alcance</td>\n",
       "      <td>11</td>\n",
       "      <td>9</td>\n",
       "      <td>343</td>\n",
       "      <td>True</td>\n",
       "      <td>261</td>\n",
       "      <td>Jaipur</td>\n",
       "    </tr>\n",
       "    <tr>\n",
       "      <th>9113</th>\n",
       "      <td>77</td>\n",
       "      <td>India</td>\n",
       "      <td>Asia</td>\n",
       "      <td>1452</td>\n",
       "      <td>https://es.tui.com/viaje/india-y-maldivas-a-tu...</td>\n",
       "      <td>India y maldivas a tu alcance</td>\n",
       "      <td>11</td>\n",
       "      <td>9</td>\n",
       "      <td>343</td>\n",
       "      <td>True</td>\n",
       "      <td>900</td>\n",
       "      <td>Shahpura</td>\n",
       "    </tr>\n",
       "    <tr>\n",
       "      <th>9114</th>\n",
       "      <td>77</td>\n",
       "      <td>India</td>\n",
       "      <td>Asia</td>\n",
       "      <td>1452</td>\n",
       "      <td>https://es.tui.com/viaje/india-y-maldivas-a-tu...</td>\n",
       "      <td>India y maldivas a tu alcance</td>\n",
       "      <td>11</td>\n",
       "      <td>9</td>\n",
       "      <td>343</td>\n",
       "      <td>True</td>\n",
       "      <td>260</td>\n",
       "      <td>Delhi</td>\n",
       "    </tr>\n",
       "  </tbody>\n",
       "</table>\n",
       "<p>9115 rows × 12 columns</p>\n",
       "</div>"
      ],
      "text/plain": [
       "      id_pais_destino nombre_pais_destino nombre_continente  id_viaje  \\\n",
       "0                 119          Montenegro            Europa         1   \n",
       "1                 119          Montenegro            Europa         1   \n",
       "2                 119          Montenegro            Europa         1   \n",
       "3                 119          Montenegro            Europa         1   \n",
       "4                   1             Albania            Europa         1   \n",
       "...               ...                 ...               ...       ...   \n",
       "9110               77               India              Asia      1452   \n",
       "9111               77               India              Asia      1452   \n",
       "9112               77               India              Asia      1452   \n",
       "9113               77               India              Asia      1452   \n",
       "9114               77               India              Asia      1452   \n",
       "\n",
       "                                              url_viaje  \\\n",
       "0         https://es.tui.com/viaje/albania-y-montenegro   \n",
       "1         https://es.tui.com/viaje/albania-y-montenegro   \n",
       "2         https://es.tui.com/viaje/albania-y-montenegro   \n",
       "3         https://es.tui.com/viaje/albania-y-montenegro   \n",
       "4         https://es.tui.com/viaje/albania-y-montenegro   \n",
       "...                                                 ...   \n",
       "9110  https://es.tui.com/viaje/india-y-maldivas-a-tu...   \n",
       "9111  https://es.tui.com/viaje/india-y-maldivas-a-tu...   \n",
       "9112  https://es.tui.com/viaje/india-y-maldivas-a-tu...   \n",
       "9113  https://es.tui.com/viaje/india-y-maldivas-a-tu...   \n",
       "9114  https://es.tui.com/viaje/india-y-maldivas-a-tu...   \n",
       "\n",
       "                       nombre_viaje  duracion_dias  duracion_noches  \\\n",
       "0              Albania y Montenegro              8                7   \n",
       "1              Albania y Montenegro              8                7   \n",
       "2              Albania y Montenegro              8                7   \n",
       "3              Albania y Montenegro              8                7   \n",
       "4              Albania y Montenegro              8                7   \n",
       "...                             ...            ...              ...   \n",
       "9110  India y maldivas a tu alcance             11                9   \n",
       "9111  India y maldivas a tu alcance             11                9   \n",
       "9112  India y maldivas a tu alcance             11                9   \n",
       "9113  India y maldivas a tu alcance             11                9   \n",
       "9114  India y maldivas a tu alcance             11                9   \n",
       "\n",
       "      id_itinerario  viaje_activo  id_ciudad   nombre_ciudad  \n",
       "0              1027          True          9             Bar  \n",
       "1              1027          True          8         Cetinje  \n",
       "2              1027          True          7           Budva  \n",
       "3              1027          True          6        Petrovac  \n",
       "4              1027          True          5         Shkoder  \n",
       "...             ...           ...        ...             ...  \n",
       "9110            343          True        264            Agra  \n",
       "9111            343          True        263  Fatehpur Sikri  \n",
       "9112            343          True        261          Jaipur  \n",
       "9113            343          True        900        Shahpura  \n",
       "9114            343          True        260           Delhi  \n",
       "\n",
       "[9115 rows x 12 columns]"
      ]
     },
     "execution_count": 82,
     "metadata": {},
     "output_type": "execute_result"
    }
   ],
   "source": [
    "df_viajes_localizacion_ciudad = exp.extraer_datos_bbdd_y_convertir_en_df(lista_columnas,query_extraccion)\n",
    "df_viajes_localizacion_ciudad"
   ]
  },
  {
   "cell_type": "code",
   "execution_count": 83,
   "id": "4204990b",
   "metadata": {},
   "outputs": [
    {
     "data": {
      "text/plain": [
       "116"
      ]
     },
     "execution_count": 83,
     "metadata": {},
     "output_type": "execute_result"
    }
   ],
   "source": [
    "len(df_viajes_localizacion_ciudad.nombre_pais_destino.unique())"
   ]
  },
  {
   "cell_type": "code",
   "execution_count": 84,
   "id": "4e5e14be",
   "metadata": {},
   "outputs": [
    {
     "data": {
      "application/vnd.microsoft.datawrangler.viewer.v0+json": {
       "columns": [
        {
         "name": "index",
         "rawType": "int64",
         "type": "integer"
        },
        {
         "name": "id_pais_destino",
         "rawType": "int64",
         "type": "integer"
        },
        {
         "name": "id_viaje",
         "rawType": "int64",
         "type": "integer"
        }
       ],
       "conversionMethod": "pd.DataFrame",
       "ref": "59b38d0a-9e9a-48a4-8105-627545cf9c3c",
       "rows": [
        [
         "0",
         "1",
         "19"
        ],
        [
         "1",
         "2",
         "84"
        ],
        [
         "2",
         "6",
         "7"
        ],
        [
         "3",
         "8",
         "116"
        ],
        [
         "4",
         "9",
         "19"
        ],
        [
         "5",
         "10",
         "3"
        ],
        [
         "6",
         "11",
         "86"
        ],
        [
         "7",
         "12",
         "83"
        ],
        [
         "8",
         "14",
         "8"
        ],
        [
         "9",
         "17",
         "2"
        ],
        [
         "10",
         "19",
         "32"
        ],
        [
         "11",
         "20",
         "15"
        ],
        [
         "12",
         "22",
         "32"
        ],
        [
         "13",
         "23",
         "9"
        ],
        [
         "14",
         "24",
         "13"
        ],
        [
         "15",
         "25",
         "50"
        ],
        [
         "16",
         "26",
         "25"
        ],
        [
         "17",
         "28",
         "25"
        ],
        [
         "18",
         "29",
         "4"
        ],
        [
         "19",
         "30",
         "76"
        ],
        [
         "20",
         "32",
         "450"
        ],
        [
         "21",
         "33",
         "2"
        ],
        [
         "22",
         "36",
         "95"
        ],
        [
         "23",
         "37",
         "128"
        ],
        [
         "24",
         "38",
         "11"
        ],
        [
         "25",
         "39",
         "82"
        ],
        [
         "26",
         "40",
         "13"
        ],
        [
         "27",
         "42",
         "242"
        ],
        [
         "28",
         "43",
         "24"
        ],
        [
         "29",
         "46",
         "19"
        ],
        [
         "30",
         "48",
         "1"
        ],
        [
         "31",
         "49",
         "42"
        ],
        [
         "32",
         "50",
         "388"
        ],
        [
         "33",
         "51",
         "11"
        ],
        [
         "34",
         "52",
         "17"
        ],
        [
         "35",
         "53",
         "24"
        ],
        [
         "36",
         "54",
         "34"
        ],
        [
         "37",
         "55",
         "11"
        ],
        [
         "38",
         "56",
         "466"
        ],
        [
         "39",
         "57",
         "10"
        ],
        [
         "40",
         "59",
         "41"
        ],
        [
         "41",
         "60",
         "24"
        ],
        [
         "42",
         "61",
         "29"
        ],
        [
         "43",
         "62",
         "147"
        ],
        [
         "44",
         "65",
         "11"
        ],
        [
         "45",
         "67",
         "4"
        ],
        [
         "46",
         "68",
         "131"
        ],
        [
         "47",
         "70",
         "45"
        ],
        [
         "48",
         "75",
         "1"
        ],
        [
         "49",
         "76",
         "48"
        ]
       ],
       "shape": {
        "columns": 2,
        "rows": 116
       }
      },
      "text/html": [
       "<div>\n",
       "<style scoped>\n",
       "    .dataframe tbody tr th:only-of-type {\n",
       "        vertical-align: middle;\n",
       "    }\n",
       "\n",
       "    .dataframe tbody tr th {\n",
       "        vertical-align: top;\n",
       "    }\n",
       "\n",
       "    .dataframe thead th {\n",
       "        text-align: right;\n",
       "    }\n",
       "</style>\n",
       "<table border=\"1\" class=\"dataframe\">\n",
       "  <thead>\n",
       "    <tr style=\"text-align: right;\">\n",
       "      <th></th>\n",
       "      <th>id_pais_destino</th>\n",
       "      <th>id_viaje</th>\n",
       "    </tr>\n",
       "  </thead>\n",
       "  <tbody>\n",
       "    <tr>\n",
       "      <th>0</th>\n",
       "      <td>1</td>\n",
       "      <td>19</td>\n",
       "    </tr>\n",
       "    <tr>\n",
       "      <th>1</th>\n",
       "      <td>2</td>\n",
       "      <td>84</td>\n",
       "    </tr>\n",
       "    <tr>\n",
       "      <th>2</th>\n",
       "      <td>6</td>\n",
       "      <td>7</td>\n",
       "    </tr>\n",
       "    <tr>\n",
       "      <th>3</th>\n",
       "      <td>8</td>\n",
       "      <td>116</td>\n",
       "    </tr>\n",
       "    <tr>\n",
       "      <th>4</th>\n",
       "      <td>9</td>\n",
       "      <td>19</td>\n",
       "    </tr>\n",
       "    <tr>\n",
       "      <th>...</th>\n",
       "      <td>...</td>\n",
       "      <td>...</td>\n",
       "    </tr>\n",
       "    <tr>\n",
       "      <th>111</th>\n",
       "      <td>180</td>\n",
       "      <td>49</td>\n",
       "    </tr>\n",
       "    <tr>\n",
       "      <th>112</th>\n",
       "      <td>181</td>\n",
       "      <td>3</td>\n",
       "    </tr>\n",
       "    <tr>\n",
       "      <th>113</th>\n",
       "      <td>182</td>\n",
       "      <td>18</td>\n",
       "    </tr>\n",
       "    <tr>\n",
       "      <th>114</th>\n",
       "      <td>184</td>\n",
       "      <td>349</td>\n",
       "    </tr>\n",
       "    <tr>\n",
       "      <th>115</th>\n",
       "      <td>188</td>\n",
       "      <td>60</td>\n",
       "    </tr>\n",
       "  </tbody>\n",
       "</table>\n",
       "<p>116 rows × 2 columns</p>\n",
       "</div>"
      ],
      "text/plain": [
       "     id_pais_destino  id_viaje\n",
       "0                  1        19\n",
       "1                  2        84\n",
       "2                  6         7\n",
       "3                  8       116\n",
       "4                  9        19\n",
       "..               ...       ...\n",
       "111              180        49\n",
       "112              181         3\n",
       "113              182        18\n",
       "114              184       349\n",
       "115              188        60\n",
       "\n",
       "[116 rows x 2 columns]"
      ]
     },
     "execution_count": 84,
     "metadata": {},
     "output_type": "execute_result"
    }
   ],
   "source": [
    "df_viajes_localizacion_ciudad_agrupado_pais = df_viajes_localizacion_ciudad.groupby('id_pais_destino')[['id_viaje']].count().reset_index()\n",
    "df_viajes_localizacion_ciudad_agrupado_pais"
   ]
  },
  {
   "cell_type": "markdown",
   "id": "406c0244",
   "metadata": {},
   "source": [
    "## Ciudad"
   ]
  },
  {
   "cell_type": "code",
   "execution_count": 85,
   "id": "196dab47",
   "metadata": {},
   "outputs": [
    {
     "data": {
      "application/vnd.microsoft.datawrangler.viewer.v0+json": {
       "columns": [
        {
         "name": "index",
         "rawType": "int64",
         "type": "integer"
        },
        {
         "name": "id_ciudad",
         "rawType": "int64",
         "type": "integer"
        },
        {
         "name": "nombre_ciudad",
         "rawType": "object",
         "type": "string"
        },
        {
         "name": "id_pais_destino",
         "rawType": "int64",
         "type": "integer"
        }
       ],
       "conversionMethod": "pd.DataFrame",
       "ref": "ffabf140-074c-49a3-8f02-9eb2f7545de1",
       "rows": [
        [
         "0",
         "1",
         "Tirana",
         "1"
        ],
        [
         "1",
         "2",
         "Durres",
         "1"
        ],
        [
         "2",
         "3",
         "Berat",
         "1"
        ],
        [
         "3",
         "4",
         "Kruja",
         "1"
        ],
        [
         "4",
         "5",
         "Shkoder",
         "1"
        ],
        [
         "5",
         "6",
         "Petrovac",
         "119"
        ],
        [
         "6",
         "7",
         "Budva",
         "119"
        ],
        [
         "7",
         "8",
         "Cetinje",
         "119"
        ],
        [
         "8",
         "9",
         "Bar",
         "119"
        ],
        [
         "9",
         "10",
         "Berlin",
         "2"
        ],
        [
         "10",
         "11",
         "Salzburgo",
         "12"
        ],
        [
         "11",
         "12",
         "Gmunden",
         "12"
        ],
        [
         "12",
         "13",
         "Linz",
         "12"
        ],
        [
         "13",
         "14",
         "Melk",
         "12"
        ],
        [
         "14",
         "15",
         "Viena",
         "12"
        ],
        [
         "15",
         "16",
         "Graz",
         "12"
        ],
        [
         "16",
         "17",
         "Hallstatt",
         "12"
        ],
        [
         "17",
         "18",
         "St Wolfgang",
         "2"
        ],
        [
         "18",
         "19",
         "St Johann In Tirol",
         "12"
        ],
        [
         "19",
         "20",
         "Innsbruck",
         "12"
        ],
        [
         "20",
         "21",
         "Bruselas",
         "19"
        ],
        [
         "21",
         "22",
         "Durbuy",
         "19"
        ],
        [
         "22",
         "23",
         "Lieja",
         "19"
        ],
        [
         "23",
         "24",
         "Aquisgran",
         "2"
        ],
        [
         "24",
         "25",
         "Colonia",
         "62"
        ],
        [
         "25",
         "26",
         "Bonn",
         "2"
        ],
        [
         "26",
         "27",
         "Konigswinter",
         "2"
        ],
        [
         "27",
         "28",
         "Coblenza",
         "2"
        ],
        [
         "28",
         "29",
         "Boppard",
         "2"
        ],
        [
         "29",
         "30",
         "Cochem",
         "2"
        ],
        [
         "30",
         "31",
         "Treveris",
         "2"
        ],
        [
         "31",
         "32",
         "Luxemburgo",
         "19"
        ],
        [
         "32",
         "33",
         "Dinant",
         "19"
        ],
        [
         "33",
         "34",
         "Gante",
         "19"
        ],
        [
         "34",
         "35",
         "Brujas",
         "19"
        ],
        [
         "35",
         "36",
         "Lovaina",
         "19"
        ],
        [
         "36",
         "37",
         "Malinas",
         "19"
        ],
        [
         "37",
         "38",
         "Amberes",
         "19"
        ],
        [
         "38",
         "39",
         "Sbruck",
         "87"
        ],
        [
         "39",
         "40",
         "Cataratas Krimml",
         "12"
        ],
        [
         "40",
         "41",
         "Vipiteno",
         "87"
        ],
        [
         "41",
         "42",
         "Bresanona",
         "87"
        ],
        [
         "42",
         "43",
         "Bolzano",
         "87"
        ],
        [
         "43",
         "44",
         "Trento",
         "87"
        ],
        [
         "44",
         "45",
         "Marmolada",
         "87"
        ],
        [
         "45",
         "46",
         "Canazei",
         "87"
        ],
        [
         "46",
         "47",
         "Cortina Dampezzo",
         "87"
        ],
        [
         "47",
         "48",
         "Brunico",
         "87"
        ],
        [
         "48",
         "49",
         "Hamburgo",
         "2"
        ],
        [
         "49",
         "50",
         "Stade",
         "2"
        ]
       ],
       "shape": {
        "columns": 3,
        "rows": 2075
       }
      },
      "text/html": [
       "<div>\n",
       "<style scoped>\n",
       "    .dataframe tbody tr th:only-of-type {\n",
       "        vertical-align: middle;\n",
       "    }\n",
       "\n",
       "    .dataframe tbody tr th {\n",
       "        vertical-align: top;\n",
       "    }\n",
       "\n",
       "    .dataframe thead th {\n",
       "        text-align: right;\n",
       "    }\n",
       "</style>\n",
       "<table border=\"1\" class=\"dataframe\">\n",
       "  <thead>\n",
       "    <tr style=\"text-align: right;\">\n",
       "      <th></th>\n",
       "      <th>id_ciudad</th>\n",
       "      <th>nombre_ciudad</th>\n",
       "      <th>id_pais_destino</th>\n",
       "    </tr>\n",
       "  </thead>\n",
       "  <tbody>\n",
       "    <tr>\n",
       "      <th>0</th>\n",
       "      <td>1</td>\n",
       "      <td>Tirana</td>\n",
       "      <td>1</td>\n",
       "    </tr>\n",
       "    <tr>\n",
       "      <th>1</th>\n",
       "      <td>2</td>\n",
       "      <td>Durres</td>\n",
       "      <td>1</td>\n",
       "    </tr>\n",
       "    <tr>\n",
       "      <th>2</th>\n",
       "      <td>3</td>\n",
       "      <td>Berat</td>\n",
       "      <td>1</td>\n",
       "    </tr>\n",
       "    <tr>\n",
       "      <th>3</th>\n",
       "      <td>4</td>\n",
       "      <td>Kruja</td>\n",
       "      <td>1</td>\n",
       "    </tr>\n",
       "    <tr>\n",
       "      <th>4</th>\n",
       "      <td>5</td>\n",
       "      <td>Shkoder</td>\n",
       "      <td>1</td>\n",
       "    </tr>\n",
       "    <tr>\n",
       "      <th>...</th>\n",
       "      <td>...</td>\n",
       "      <td>...</td>\n",
       "      <td>...</td>\n",
       "    </tr>\n",
       "    <tr>\n",
       "      <th>2070</th>\n",
       "      <td>2071</td>\n",
       "      <td>Dilijan</td>\n",
       "      <td>9</td>\n",
       "    </tr>\n",
       "    <tr>\n",
       "      <th>2071</th>\n",
       "      <td>2072</td>\n",
       "      <td>Sanahin Tbilisi</td>\n",
       "      <td>65</td>\n",
       "    </tr>\n",
       "    <tr>\n",
       "      <th>2072</th>\n",
       "      <td>2073</td>\n",
       "      <td>Baku</td>\n",
       "      <td>65</td>\n",
       "    </tr>\n",
       "    <tr>\n",
       "      <th>2073</th>\n",
       "      <td>2074</td>\n",
       "      <td>Gobustan</td>\n",
       "      <td>56</td>\n",
       "    </tr>\n",
       "    <tr>\n",
       "      <th>2074</th>\n",
       "      <td>2075</td>\n",
       "      <td>Laponia</td>\n",
       "      <td>61</td>\n",
       "    </tr>\n",
       "  </tbody>\n",
       "</table>\n",
       "<p>2075 rows × 3 columns</p>\n",
       "</div>"
      ],
      "text/plain": [
       "      id_ciudad    nombre_ciudad  id_pais_destino\n",
       "0             1           Tirana                1\n",
       "1             2           Durres                1\n",
       "2             3            Berat                1\n",
       "3             4            Kruja                1\n",
       "4             5          Shkoder                1\n",
       "...         ...              ...              ...\n",
       "2070       2071          Dilijan                9\n",
       "2071       2072  Sanahin Tbilisi               65\n",
       "2072       2073             Baku               65\n",
       "2073       2074         Gobustan               56\n",
       "2074       2075          Laponia               61\n",
       "\n",
       "[2075 rows x 3 columns]"
      ]
     },
     "execution_count": 85,
     "metadata": {},
     "output_type": "execute_result"
    }
   ],
   "source": [
    "query_extraccion = '''SELECT *\n",
    "FROM ciudad c'''\n",
    "\n",
    "lista_columnas = ['id_ciudad', 'nombre_ciudad','id_pais_destino']\n",
    "df_ciudad = exp.extraer_datos_bbdd_y_convertir_en_df(lista_columnas,query_extraccion)\n",
    "df_ciudad"
   ]
  },
  {
   "cell_type": "code",
   "execution_count": 86,
   "id": "57125a68",
   "metadata": {},
   "outputs": [],
   "source": [
    "df_ciudad_sin_pais = df_ciudad[pd.isnull(df_ciudad.id_pais_destino)].copy()\n",
    "df_ciudad_sin_pais['nombre_pais_destino']=None"
   ]
  },
  {
   "cell_type": "code",
   "execution_count": 87,
   "id": "10da40ba",
   "metadata": {},
   "outputs": [],
   "source": [
    "# Hay 10 ciudades que no tienen pais asociado en la BBDD - Corregir en próximos pasos"
   ]
  },
  {
   "cell_type": "code",
   "execution_count": 88,
   "id": "4b5372d1",
   "metadata": {},
   "outputs": [],
   "source": [
    "df_opencague = pd.read_pickle('../data/data_raw/geolocalizacion_api_total_ciudades.pkl')"
   ]
  },
  {
   "cell_type": "code",
   "execution_count": 89,
   "id": "1dedd125",
   "metadata": {},
   "outputs": [
    {
     "data": {
      "application/vnd.microsoft.datawrangler.viewer.v0+json": {
       "columns": [
        {
         "name": "index",
         "rawType": "int64",
         "type": "integer"
        },
        {
         "name": "nombre_ciudad",
         "rawType": "object",
         "type": "string"
        },
        {
         "name": "continente_api",
         "rawType": "object",
         "type": "unknown"
        },
        {
         "name": "pais_api",
         "rawType": "object",
         "type": "unknown"
        },
        {
         "name": "latitud",
         "rawType": "object",
         "type": "unknown"
        },
        {
         "name": "longitud",
         "rawType": "object",
         "type": "unknown"
        }
       ],
       "conversionMethod": "pd.DataFrame",
       "ref": "bad4e63f-b42d-4b23-bb46-e1314a7818e6",
       "rows": [
        [
         "0",
         "Tirana",
         "Europe",
         "Albania",
         "41.3281482",
         "19.8184435"
        ],
        [
         "1",
         "Dürres",
         "Europe",
         "Albania",
         "41.313255",
         "19.4462348"
        ],
        [
         "2",
         "Berat",
         "Europe",
         "Albania",
         "40.7018636",
         "19.9580758"
        ],
        [
         "3",
         "Kruja",
         "Europe",
         "Albania",
         "41.511251",
         "19.792852"
        ],
        [
         "4",
         "Shkodër",
         "Europe",
         "Albania",
         "42.0681371",
         "19.5121437"
        ],
        [
         "5",
         "Petrovac",
         "Europe",
         "Montenegro",
         "42.2068358",
         "18.9428248"
        ],
        [
         "6",
         "Budva",
         "Europe",
         "Montenegro",
         "42.2885656",
         "18.8419505"
        ],
        [
         "7",
         "Cetinje",
         "Europe",
         "Montenegro",
         "42.389633",
         "18.9246085"
        ],
        [
         "8",
         "Bar",
         "Europe",
         "Montenegro",
         "42.0979745",
         "19.0954528"
        ],
        [
         "9",
         "Salzburgo",
         "Europe",
         "Austria",
         "47.7981346",
         "13.0464806"
        ],
        [
         "10",
         "Gmunden",
         "Europe",
         "Austria",
         "47.9185855",
         "13.8003048"
        ],
        [
         "11",
         "Linz",
         "Europe",
         "Austria",
         "48.3059078",
         "14.286198"
        ],
        [
         "12",
         "Melk",
         "Europe",
         "Austria",
         "48.2272068",
         "15.3369992"
        ],
        [
         "13",
         "Viena",
         "Europe",
         "Austria",
         "48.2083537",
         "16.3725042"
        ],
        [
         "14",
         "Graz",
         "Europe",
         "Austria",
         "47.0708678",
         "15.4382786"
        ],
        [
         "15",
         "Hallstatt",
         "Europe",
         "Austria",
         "47.5621698",
         "13.6486697"
        ],
        [
         "16",
         "St Wolfgang",
         "Europe",
         "Alemania",
         "48.2192116",
         "12.1344678"
        ],
        [
         "17",
         "St Johann in Tirol",
         "Europe",
         "Austria",
         "47.5224141",
         "12.4286809"
        ],
        [
         "18",
         "Innsbruck",
         "Europe",
         "Austria",
         "47.2654296",
         "11.3927685"
        ],
        [
         "19",
         "Bruselas",
         "Europe",
         "Bélgica",
         "50.8465573",
         "4.351697"
        ],
        [
         "20",
         "Durbuy",
         "Europe",
         "Bélgica",
         "50.3524116",
         "5.456248"
        ],
        [
         "21",
         "Lieja",
         "Europe",
         "Bélgica",
         "50.6450944",
         "5.5736112"
        ],
        [
         "22",
         "Aquisgrán",
         "Europe",
         "Alemania",
         "50.776351",
         "6.083862"
        ],
        [
         "23",
         "Colonia",
         "South America",
         "Uruguay",
         "-34.4698592",
         "-57.8433679"
        ],
        [
         "24",
         "Bonn",
         "Europe",
         "Alemania",
         "50.7352621",
         "7.1024635"
        ],
        [
         "25",
         "Königswinter",
         "Europe",
         "Alemania",
         "50.6739719",
         "7.1930989"
        ],
        [
         "26",
         "Coblenza",
         "Europe",
         "Alemania",
         "50.3533278",
         "7.5943951"
        ],
        [
         "27",
         "Boppard",
         "Europe",
         "Alemania",
         "50.2312823",
         "7.5885884"
        ],
        [
         "28",
         "Cochem",
         "Europe",
         "Alemania",
         "50.1483916",
         "7.1663195"
        ],
        [
         "29",
         "Tréveris",
         "Europe",
         "Alemania",
         "49.7596208",
         "6.6441878"
        ],
        [
         "30",
         "Luxemburgo",
         "Europe",
         "Luxemburgo",
         "49.8158683",
         "6.1296751"
        ],
        [
         "31",
         "Dinant",
         "Europe",
         "Bélgica",
         "50.2591813",
         "4.9130588"
        ],
        [
         "32",
         "Gante",
         "Europe",
         "Bélgica",
         "51.0538286",
         "3.7250121"
        ],
        [
         "33",
         "Brujas",
         "Europe",
         "Bélgica",
         "51.2085526",
         "3.226772"
        ],
        [
         "34",
         "Lovaina",
         "Europe",
         "Bélgica",
         "50.879202",
         "4.7011675"
        ],
        [
         "35",
         "Malinas",
         "Europe",
         "Bélgica",
         "51.0281381",
         "4.4803453"
        ],
        [
         "36",
         "Amberes",
         "Europe",
         "Bélgica",
         "51.2211097",
         "4.3997081"
        ],
        [
         "37",
         "sbruck",
         "Información desconocida",
         "Información desconocida",
         "Información desconocida",
         "Información desconocida"
        ],
        [
         "38",
         "Cataratas Krimml",
         "Europe",
         "Austria",
         "47.21667",
         "12.18333"
        ],
        [
         "39",
         "Vipiteno",
         "Europe",
         "Italia",
         "46.8963235",
         "11.4319398"
        ],
        [
         "40",
         "Bresanona",
         "Europe",
         "Italia",
         "46.71503",
         "11.65598"
        ],
        [
         "41",
         "Bolzano",
         "Europe",
         "Italia",
         "46.6559455",
         "11.2302129"
        ],
        [
         "42",
         "Trento",
         "Europe",
         "Italia",
         "46.1029536",
         "11.1297425"
        ],
        [
         "43",
         "Marmolada",
         "Europe",
         "Italia",
         "46.4243637",
         "11.8467159"
        ],
        [
         "44",
         "Canazei",
         "Europe",
         "Italia",
         "46.4768809",
         "11.7710748"
        ],
        [
         "45",
         "Cortina D’Ampezzo",
         "Europe",
         "Italia",
         "46.5383332",
         "12.1373506"
        ],
        [
         "46",
         "Brunico",
         "Europe",
         "Italia",
         "46.7963194",
         "11.9355121"
        ],
        [
         "47",
         "Frankfurt",
         "Europe",
         "Alemania",
         "50.1106444",
         "8.6820917"
        ],
        [
         "48",
         "Baden-Baden",
         "Europe",
         "Alemania",
         "48.7610716",
         "8.239959"
        ],
        [
         "49",
         "Estrasburgo",
         "Europe",
         "Francia",
         "48.584614",
         "7.7507127"
        ]
       ],
       "shape": {
        "columns": 5,
        "rows": 2101
       }
      },
      "text/html": [
       "<div>\n",
       "<style scoped>\n",
       "    .dataframe tbody tr th:only-of-type {\n",
       "        vertical-align: middle;\n",
       "    }\n",
       "\n",
       "    .dataframe tbody tr th {\n",
       "        vertical-align: top;\n",
       "    }\n",
       "\n",
       "    .dataframe thead th {\n",
       "        text-align: right;\n",
       "    }\n",
       "</style>\n",
       "<table border=\"1\" class=\"dataframe\">\n",
       "  <thead>\n",
       "    <tr style=\"text-align: right;\">\n",
       "      <th></th>\n",
       "      <th>nombre_ciudad</th>\n",
       "      <th>continente_api</th>\n",
       "      <th>pais_api</th>\n",
       "      <th>latitud</th>\n",
       "      <th>longitud</th>\n",
       "    </tr>\n",
       "  </thead>\n",
       "  <tbody>\n",
       "    <tr>\n",
       "      <th>0</th>\n",
       "      <td>Tirana</td>\n",
       "      <td>Europe</td>\n",
       "      <td>Albania</td>\n",
       "      <td>41.328148</td>\n",
       "      <td>19.818444</td>\n",
       "    </tr>\n",
       "    <tr>\n",
       "      <th>1</th>\n",
       "      <td>Dürres</td>\n",
       "      <td>Europe</td>\n",
       "      <td>Albania</td>\n",
       "      <td>41.313255</td>\n",
       "      <td>19.446235</td>\n",
       "    </tr>\n",
       "    <tr>\n",
       "      <th>2</th>\n",
       "      <td>Berat</td>\n",
       "      <td>Europe</td>\n",
       "      <td>Albania</td>\n",
       "      <td>40.701864</td>\n",
       "      <td>19.958076</td>\n",
       "    </tr>\n",
       "    <tr>\n",
       "      <th>3</th>\n",
       "      <td>Kruja</td>\n",
       "      <td>Europe</td>\n",
       "      <td>Albania</td>\n",
       "      <td>41.511251</td>\n",
       "      <td>19.792852</td>\n",
       "    </tr>\n",
       "    <tr>\n",
       "      <th>4</th>\n",
       "      <td>Shkodër</td>\n",
       "      <td>Europe</td>\n",
       "      <td>Albania</td>\n",
       "      <td>42.068137</td>\n",
       "      <td>19.512144</td>\n",
       "    </tr>\n",
       "    <tr>\n",
       "      <th>...</th>\n",
       "      <td>...</td>\n",
       "      <td>...</td>\n",
       "      <td>...</td>\n",
       "      <td>...</td>\n",
       "      <td>...</td>\n",
       "    </tr>\n",
       "    <tr>\n",
       "      <th>1471</th>\n",
       "      <td>Mesa Verde</td>\n",
       "      <td>North America</td>\n",
       "      <td>Estados Unidos de América</td>\n",
       "      <td>33.605858</td>\n",
       "      <td>-114.731072</td>\n",
       "    </tr>\n",
       "    <tr>\n",
       "      <th>1472</th>\n",
       "      <td>Great Sand</td>\n",
       "      <td>Oceania</td>\n",
       "      <td>Australia</td>\n",
       "      <td>-38.262747</td>\n",
       "      <td>144.775661</td>\n",
       "    </tr>\n",
       "    <tr>\n",
       "      <th>1473</th>\n",
       "      <td>Dunes</td>\n",
       "      <td>Europe</td>\n",
       "      <td>Francia</td>\n",
       "      <td>44.087932</td>\n",
       "      <td>0.769998</td>\n",
       "    </tr>\n",
       "    <tr>\n",
       "      <th>1474</th>\n",
       "      <td>Pueblo</td>\n",
       "      <td>North America</td>\n",
       "      <td>Estados Unidos de América</td>\n",
       "      <td>38.263995</td>\n",
       "      <td>-104.614187</td>\n",
       "    </tr>\n",
       "    <tr>\n",
       "      <th>1475</th>\n",
       "      <td>Jeju</td>\n",
       "      <td>Asia</td>\n",
       "      <td>Corea del Sur</td>\n",
       "      <td>33.488774</td>\n",
       "      <td>126.498708</td>\n",
       "    </tr>\n",
       "  </tbody>\n",
       "</table>\n",
       "<p>2101 rows × 5 columns</p>\n",
       "</div>"
      ],
      "text/plain": [
       "     nombre_ciudad continente_api                   pais_api    latitud  \\\n",
       "0           Tirana         Europe                    Albania  41.328148   \n",
       "1           Dürres         Europe                    Albania  41.313255   \n",
       "2            Berat         Europe                    Albania  40.701864   \n",
       "3            Kruja         Europe                    Albania  41.511251   \n",
       "4          Shkodër         Europe                    Albania  42.068137   \n",
       "...            ...            ...                        ...        ...   \n",
       "1471    Mesa Verde  North America  Estados Unidos de América  33.605858   \n",
       "1472    Great Sand        Oceania                  Australia -38.262747   \n",
       "1473         Dunes         Europe                    Francia  44.087932   \n",
       "1474        Pueblo  North America  Estados Unidos de América  38.263995   \n",
       "1475          Jeju           Asia              Corea del Sur  33.488774   \n",
       "\n",
       "        longitud  \n",
       "0      19.818444  \n",
       "1      19.446235  \n",
       "2      19.958076  \n",
       "3      19.792852  \n",
       "4      19.512144  \n",
       "...          ...  \n",
       "1471 -114.731072  \n",
       "1472  144.775661  \n",
       "1473    0.769998  \n",
       "1474 -104.614187  \n",
       "1475  126.498708  \n",
       "\n",
       "[2101 rows x 5 columns]"
      ]
     },
     "execution_count": 89,
     "metadata": {},
     "output_type": "execute_result"
    }
   ],
   "source": [
    "df_opencague=df_opencague.rename(columns={'ciudad':'nombre_ciudad'})\n",
    "df_opencague"
   ]
  },
  {
   "cell_type": "code",
   "execution_count": 90,
   "id": "d5b89ee9",
   "metadata": {},
   "outputs": [],
   "source": [
    "ex.incorporar_información_df_original(df_ciudad_sin_pais,df_opencague,'nombre_ciudad','pais_api', 'nombre_pais_destino')"
   ]
  },
  {
   "cell_type": "code",
   "execution_count": 91,
   "id": "7e9e77fb",
   "metadata": {},
   "outputs": [
    {
     "data": {
      "application/vnd.microsoft.datawrangler.viewer.v0+json": {
       "columns": [
        {
         "name": "index",
         "rawType": "int64",
         "type": "integer"
        },
        {
         "name": "id_ciudad",
         "rawType": "int64",
         "type": "integer"
        },
        {
         "name": "nombre_ciudad",
         "rawType": "object",
         "type": "string"
        },
        {
         "name": "id_pais_destino",
         "rawType": "int64",
         "type": "integer"
        },
        {
         "name": "nombre_pais_destino",
         "rawType": "object",
         "type": "string"
        }
       ],
       "conversionMethod": "pd.DataFrame",
       "ref": "395da871-c079-4fc3-8d6e-672b4ca18b7b",
       "rows": [],
       "shape": {
        "columns": 4,
        "rows": 0
       }
      },
      "text/html": [
       "<div>\n",
       "<style scoped>\n",
       "    .dataframe tbody tr th:only-of-type {\n",
       "        vertical-align: middle;\n",
       "    }\n",
       "\n",
       "    .dataframe tbody tr th {\n",
       "        vertical-align: top;\n",
       "    }\n",
       "\n",
       "    .dataframe thead th {\n",
       "        text-align: right;\n",
       "    }\n",
       "</style>\n",
       "<table border=\"1\" class=\"dataframe\">\n",
       "  <thead>\n",
       "    <tr style=\"text-align: right;\">\n",
       "      <th></th>\n",
       "      <th>id_ciudad</th>\n",
       "      <th>nombre_ciudad</th>\n",
       "      <th>id_pais_destino</th>\n",
       "      <th>nombre_pais_destino</th>\n",
       "    </tr>\n",
       "  </thead>\n",
       "  <tbody>\n",
       "  </tbody>\n",
       "</table>\n",
       "</div>"
      ],
      "text/plain": [
       "Empty DataFrame\n",
       "Columns: [id_ciudad, nombre_ciudad, id_pais_destino, nombre_pais_destino]\n",
       "Index: []"
      ]
     },
     "execution_count": 91,
     "metadata": {},
     "output_type": "execute_result"
    }
   ],
   "source": [
    "df_ciudad_sin_pais"
   ]
  },
  {
   "cell_type": "code",
   "execution_count": 92,
   "id": "c449cd0c",
   "metadata": {},
   "outputs": [],
   "source": [
    "query_extraccion = \"SELECT nombre_pais_destino, id_pais_destino FROM pais_destino\"\n",
    "df_pais_destino=exp.extraer_datos_bbdd_y_convertir_en_df(['nombre_pais_destino','id_pais_destino'],query_extraccion)"
   ]
  },
  {
   "cell_type": "code",
   "execution_count": 93,
   "id": "91ee7ecf",
   "metadata": {},
   "outputs": [
    {
     "data": {
      "application/vnd.microsoft.datawrangler.viewer.v0+json": {
       "columns": [
        {
         "name": "index",
         "rawType": "int64",
         "type": "integer"
        },
        {
         "name": "nombre_pais_destino",
         "rawType": "object",
         "type": "string"
        },
        {
         "name": "id_pais_destino",
         "rawType": "int64",
         "type": "integer"
        }
       ],
       "conversionMethod": "pd.DataFrame",
       "ref": "0b91bde3-acc7-4a40-b6da-9ccb6786c76b",
       "rows": [
        [
         "0",
         "Albania",
         "1"
        ],
        [
         "1",
         "Alemania",
         "2"
        ],
        [
         "2",
         "Andorra",
         "3"
        ],
        [
         "3",
         "Angola",
         "4"
        ],
        [
         "4",
         "Antigua",
         "5"
        ],
        [
         "5",
         "Arabia Saudi",
         "6"
        ],
        [
         "6",
         "Argelia",
         "7"
        ],
        [
         "7",
         "Argentina",
         "8"
        ],
        [
         "8",
         "Armenia",
         "9"
        ],
        [
         "9",
         "Aruba",
         "10"
        ],
        [
         "10",
         "Australia",
         "11"
        ],
        [
         "11",
         "Austria",
         "12"
        ],
        [
         "12",
         "Azerbaiyan",
         "13"
        ],
        [
         "13",
         "Bahamas",
         "14"
        ],
        [
         "14",
         "Bahrein",
         "15"
        ],
        [
         "15",
         "Bangladesh",
         "16"
        ],
        [
         "16",
         "Barbados",
         "17"
        ],
        [
         "17",
         "Belarus",
         "18"
        ],
        [
         "18",
         "Belgica",
         "19"
        ],
        [
         "19",
         "Belice",
         "20"
        ],
        [
         "20",
         "Benin",
         "21"
        ],
        [
         "21",
         "Bolivia",
         "22"
        ],
        [
         "22",
         "Bosnia Y Herzegovina",
         "23"
        ],
        [
         "23",
         "Botsuana",
         "24"
        ],
        [
         "24",
         "Brasil",
         "25"
        ],
        [
         "25",
         "Bulgaria",
         "26"
        ],
        [
         "26",
         "Burkina Faso",
         "27"
        ],
        [
         "27",
         "Butan",
         "28"
        ],
        [
         "28",
         "Cabo Verde",
         "29"
        ],
        [
         "29",
         "Camboya",
         "30"
        ],
        [
         "30",
         "Camerun",
         "31"
        ],
        [
         "31",
         "Canada",
         "32"
        ],
        [
         "32",
         "Catar",
         "33"
        ],
        [
         "33",
         "Chad",
         "34"
        ],
        [
         "34",
         "Chequia",
         "35"
        ],
        [
         "35",
         "Chile",
         "36"
        ],
        [
         "36",
         "China",
         "37"
        ],
        [
         "37",
         "Chipre",
         "38"
        ],
        [
         "38",
         "Colombia",
         "39"
        ],
        [
         "39",
         "Corea Del Sur",
         "40"
        ],
        [
         "40",
         "Costa De Marfil",
         "41"
        ],
        [
         "41",
         "Costa Rica",
         "42"
        ],
        [
         "42",
         "Croacia",
         "43"
        ],
        [
         "43",
         "Cuba",
         "44"
        ],
        [
         "44",
         "Curacao",
         "45"
        ],
        [
         "45",
         "Dinamarca",
         "46"
        ],
        [
         "46",
         "Djibouti",
         "47"
        ],
        [
         "47",
         "Dominica",
         "48"
        ],
        [
         "48",
         "Ecuador",
         "49"
        ],
        [
         "49",
         "Egipto",
         "50"
        ]
       ],
       "shape": {
        "columns": 2,
        "rows": 188
       }
      },
      "text/html": [
       "<div>\n",
       "<style scoped>\n",
       "    .dataframe tbody tr th:only-of-type {\n",
       "        vertical-align: middle;\n",
       "    }\n",
       "\n",
       "    .dataframe tbody tr th {\n",
       "        vertical-align: top;\n",
       "    }\n",
       "\n",
       "    .dataframe thead th {\n",
       "        text-align: right;\n",
       "    }\n",
       "</style>\n",
       "<table border=\"1\" class=\"dataframe\">\n",
       "  <thead>\n",
       "    <tr style=\"text-align: right;\">\n",
       "      <th></th>\n",
       "      <th>nombre_pais_destino</th>\n",
       "      <th>id_pais_destino</th>\n",
       "    </tr>\n",
       "  </thead>\n",
       "  <tbody>\n",
       "    <tr>\n",
       "      <th>0</th>\n",
       "      <td>Albania</td>\n",
       "      <td>1</td>\n",
       "    </tr>\n",
       "    <tr>\n",
       "      <th>1</th>\n",
       "      <td>Alemania</td>\n",
       "      <td>2</td>\n",
       "    </tr>\n",
       "    <tr>\n",
       "      <th>2</th>\n",
       "      <td>Andorra</td>\n",
       "      <td>3</td>\n",
       "    </tr>\n",
       "    <tr>\n",
       "      <th>3</th>\n",
       "      <td>Angola</td>\n",
       "      <td>4</td>\n",
       "    </tr>\n",
       "    <tr>\n",
       "      <th>4</th>\n",
       "      <td>Antigua</td>\n",
       "      <td>5</td>\n",
       "    </tr>\n",
       "    <tr>\n",
       "      <th>...</th>\n",
       "      <td>...</td>\n",
       "      <td>...</td>\n",
       "    </tr>\n",
       "    <tr>\n",
       "      <th>183</th>\n",
       "      <td>Vietnam</td>\n",
       "      <td>184</td>\n",
       "    </tr>\n",
       "    <tr>\n",
       "      <th>184</th>\n",
       "      <td>Yemen</td>\n",
       "      <td>185</td>\n",
       "    </tr>\n",
       "    <tr>\n",
       "      <th>185</th>\n",
       "      <td>Zambia</td>\n",
       "      <td>186</td>\n",
       "    </tr>\n",
       "    <tr>\n",
       "      <th>186</th>\n",
       "      <td>Zanzibar</td>\n",
       "      <td>187</td>\n",
       "    </tr>\n",
       "    <tr>\n",
       "      <th>187</th>\n",
       "      <td>Zimbabue</td>\n",
       "      <td>188</td>\n",
       "    </tr>\n",
       "  </tbody>\n",
       "</table>\n",
       "<p>188 rows × 2 columns</p>\n",
       "</div>"
      ],
      "text/plain": [
       "    nombre_pais_destino  id_pais_destino\n",
       "0               Albania                1\n",
       "1              Alemania                2\n",
       "2               Andorra                3\n",
       "3                Angola                4\n",
       "4               Antigua                5\n",
       "..                  ...              ...\n",
       "183             Vietnam              184\n",
       "184               Yemen              185\n",
       "185              Zambia              186\n",
       "186            Zanzibar              187\n",
       "187            Zimbabue              188\n",
       "\n",
       "[188 rows x 2 columns]"
      ]
     },
     "execution_count": 93,
     "metadata": {},
     "output_type": "execute_result"
    }
   ],
   "source": [
    "df_pais_destino"
   ]
  },
  {
   "cell_type": "code",
   "execution_count": 94,
   "id": "20f12721",
   "metadata": {},
   "outputs": [],
   "source": [
    "ex.incorporar_información_df_original(df_ciudad_sin_pais,df_pais_destino,'nombre_pais_destino','id_pais_destino', 'id_pais_destino')"
   ]
  },
  {
   "cell_type": "code",
   "execution_count": 95,
   "id": "407a1a7b",
   "metadata": {},
   "outputs": [
    {
     "data": {
      "application/vnd.microsoft.datawrangler.viewer.v0+json": {
       "columns": [
        {
         "name": "index",
         "rawType": "int64",
         "type": "integer"
        },
        {
         "name": "id_ciudad",
         "rawType": "int64",
         "type": "integer"
        },
        {
         "name": "nombre_ciudad",
         "rawType": "object",
         "type": "string"
        },
        {
         "name": "id_pais_destino",
         "rawType": "int64",
         "type": "integer"
        },
        {
         "name": "nombre_pais_destino",
         "rawType": "object",
         "type": "string"
        }
       ],
       "conversionMethod": "pd.DataFrame",
       "ref": "dcb2d46f-6021-4f08-97c7-57aed43d8038",
       "rows": [],
       "shape": {
        "columns": 4,
        "rows": 0
       }
      },
      "text/html": [
       "<div>\n",
       "<style scoped>\n",
       "    .dataframe tbody tr th:only-of-type {\n",
       "        vertical-align: middle;\n",
       "    }\n",
       "\n",
       "    .dataframe tbody tr th {\n",
       "        vertical-align: top;\n",
       "    }\n",
       "\n",
       "    .dataframe thead th {\n",
       "        text-align: right;\n",
       "    }\n",
       "</style>\n",
       "<table border=\"1\" class=\"dataframe\">\n",
       "  <thead>\n",
       "    <tr style=\"text-align: right;\">\n",
       "      <th></th>\n",
       "      <th>id_ciudad</th>\n",
       "      <th>nombre_ciudad</th>\n",
       "      <th>id_pais_destino</th>\n",
       "      <th>nombre_pais_destino</th>\n",
       "    </tr>\n",
       "  </thead>\n",
       "  <tbody>\n",
       "  </tbody>\n",
       "</table>\n",
       "</div>"
      ],
      "text/plain": [
       "Empty DataFrame\n",
       "Columns: [id_ciudad, nombre_ciudad, id_pais_destino, nombre_pais_destino]\n",
       "Index: []"
      ]
     },
     "execution_count": 95,
     "metadata": {},
     "output_type": "execute_result"
    }
   ],
   "source": [
    "df_ciudad_sin_pais"
   ]
  },
  {
   "cell_type": "markdown",
   "id": "a4736caa",
   "metadata": {},
   "source": [
    "## Itinerario_ciudad"
   ]
  },
  {
   "cell_type": "code",
   "execution_count": 96,
   "id": "7a43a094",
   "metadata": {},
   "outputs": [
    {
     "data": {
      "application/vnd.microsoft.datawrangler.viewer.v0+json": {
       "columns": [
        {
         "name": "index",
         "rawType": "int64",
         "type": "integer"
        },
        {
         "name": "id_ciudad",
         "rawType": "int64",
         "type": "integer"
        },
        {
         "name": "id_itinerario",
         "rawType": "int64",
         "type": "integer"
        }
       ],
       "conversionMethod": "pd.DataFrame",
       "ref": "f9f5fdfe-b52d-4c87-a1c8-425fb5584eaa",
       "rows": [
        [
         "0",
         "1",
         "1027"
        ],
        [
         "1",
         "2",
         "1027"
        ],
        [
         "2",
         "3",
         "1027"
        ],
        [
         "3",
         "4",
         "1027"
        ],
        [
         "4",
         "5",
         "1027"
        ],
        [
         "5",
         "6",
         "1027"
        ],
        [
         "6",
         "7",
         "1027"
        ],
        [
         "7",
         "8",
         "1027"
        ],
        [
         "8",
         "9",
         "1027"
        ],
        [
         "9",
         "10",
         "146"
        ],
        [
         "10",
         "11",
         "872"
        ],
        [
         "11",
         "12",
         "872"
        ],
        [
         "12",
         "13",
         "872"
        ],
        [
         "13",
         "14",
         "872"
        ],
        [
         "14",
         "15",
         "872"
        ],
        [
         "15",
         "16",
         "872"
        ],
        [
         "16",
         "17",
         "872"
        ],
        [
         "17",
         "18",
         "872"
        ],
        [
         "18",
         "19",
         "872"
        ],
        [
         "19",
         "20",
         "872"
        ],
        [
         "20",
         "21",
         "166"
        ],
        [
         "21",
         "22",
         "166"
        ],
        [
         "22",
         "23",
         "166"
        ],
        [
         "23",
         "24",
         "166"
        ],
        [
         "24",
         "25",
         "166"
        ],
        [
         "25",
         "26",
         "166"
        ],
        [
         "26",
         "27",
         "166"
        ],
        [
         "27",
         "28",
         "166"
        ],
        [
         "28",
         "29",
         "166"
        ],
        [
         "29",
         "30",
         "166"
        ],
        [
         "30",
         "31",
         "166"
        ],
        [
         "31",
         "32",
         "166"
        ],
        [
         "32",
         "33",
         "166"
        ],
        [
         "33",
         "34",
         "166"
        ],
        [
         "34",
         "35",
         "166"
        ],
        [
         "35",
         "36",
         "166"
        ],
        [
         "36",
         "37",
         "166"
        ],
        [
         "37",
         "38",
         "166"
        ],
        [
         "38",
         "39",
         "1145"
        ],
        [
         "39",
         "40",
         "1145"
        ],
        [
         "40",
         "41",
         "1145"
        ],
        [
         "41",
         "42",
         "1145"
        ],
        [
         "42",
         "43",
         "1145"
        ],
        [
         "43",
         "44",
         "1145"
        ],
        [
         "44",
         "45",
         "1145"
        ],
        [
         "45",
         "46",
         "1145"
        ],
        [
         "46",
         "47",
         "1145"
        ],
        [
         "47",
         "48",
         "1145"
        ],
        [
         "48",
         "49",
         "425"
        ],
        [
         "49",
         "50",
         "425"
        ]
       ],
       "shape": {
        "columns": 2,
        "rows": 7535
       }
      },
      "text/html": [
       "<div>\n",
       "<style scoped>\n",
       "    .dataframe tbody tr th:only-of-type {\n",
       "        vertical-align: middle;\n",
       "    }\n",
       "\n",
       "    .dataframe tbody tr th {\n",
       "        vertical-align: top;\n",
       "    }\n",
       "\n",
       "    .dataframe thead th {\n",
       "        text-align: right;\n",
       "    }\n",
       "</style>\n",
       "<table border=\"1\" class=\"dataframe\">\n",
       "  <thead>\n",
       "    <tr style=\"text-align: right;\">\n",
       "      <th></th>\n",
       "      <th>id_ciudad</th>\n",
       "      <th>id_itinerario</th>\n",
       "    </tr>\n",
       "  </thead>\n",
       "  <tbody>\n",
       "    <tr>\n",
       "      <th>0</th>\n",
       "      <td>1</td>\n",
       "      <td>1027</td>\n",
       "    </tr>\n",
       "    <tr>\n",
       "      <th>1</th>\n",
       "      <td>2</td>\n",
       "      <td>1027</td>\n",
       "    </tr>\n",
       "    <tr>\n",
       "      <th>2</th>\n",
       "      <td>3</td>\n",
       "      <td>1027</td>\n",
       "    </tr>\n",
       "    <tr>\n",
       "      <th>3</th>\n",
       "      <td>4</td>\n",
       "      <td>1027</td>\n",
       "    </tr>\n",
       "    <tr>\n",
       "      <th>4</th>\n",
       "      <td>5</td>\n",
       "      <td>1027</td>\n",
       "    </tr>\n",
       "    <tr>\n",
       "      <th>...</th>\n",
       "      <td>...</td>\n",
       "      <td>...</td>\n",
       "    </tr>\n",
       "    <tr>\n",
       "      <th>7530</th>\n",
       "      <td>900</td>\n",
       "      <td>343</td>\n",
       "    </tr>\n",
       "    <tr>\n",
       "      <th>7531</th>\n",
       "      <td>261</td>\n",
       "      <td>343</td>\n",
       "    </tr>\n",
       "    <tr>\n",
       "      <th>7532</th>\n",
       "      <td>263</td>\n",
       "      <td>343</td>\n",
       "    </tr>\n",
       "    <tr>\n",
       "      <th>7533</th>\n",
       "      <td>264</td>\n",
       "      <td>343</td>\n",
       "    </tr>\n",
       "    <tr>\n",
       "      <th>7534</th>\n",
       "      <td>519</td>\n",
       "      <td>343</td>\n",
       "    </tr>\n",
       "  </tbody>\n",
       "</table>\n",
       "<p>7535 rows × 2 columns</p>\n",
       "</div>"
      ],
      "text/plain": [
       "      id_ciudad  id_itinerario\n",
       "0             1           1027\n",
       "1             2           1027\n",
       "2             3           1027\n",
       "3             4           1027\n",
       "4             5           1027\n",
       "...         ...            ...\n",
       "7530        900            343\n",
       "7531        261            343\n",
       "7532        263            343\n",
       "7533        264            343\n",
       "7534        519            343\n",
       "\n",
       "[7535 rows x 2 columns]"
      ]
     },
     "execution_count": 96,
     "metadata": {},
     "output_type": "execute_result"
    }
   ],
   "source": [
    "query_extraccion = '''SELECT *\n",
    "FROM ciudad_itinerario'''\n",
    "\n",
    "lista_columnas = ['id_ciudad', 'id_itinerario']\n",
    "df_ciudad_itinerario = exp.extraer_datos_bbdd_y_convertir_en_df(lista_columnas,query_extraccion)\n",
    "df_ciudad_itinerario"
   ]
  },
  {
   "cell_type": "code",
   "execution_count": 97,
   "id": "d7ac7432",
   "metadata": {},
   "outputs": [
    {
     "data": {
      "application/vnd.microsoft.datawrangler.viewer.v0+json": {
       "columns": [
        {
         "name": "index",
         "rawType": "int64",
         "type": "integer"
        },
        {
         "name": "id_ciudad",
         "rawType": "int64",
         "type": "integer"
        },
        {
         "name": "id_itinerario",
         "rawType": "int64",
         "type": "integer"
        }
       ],
       "conversionMethod": "pd.DataFrame",
       "ref": "e9355468-4d00-40d8-abab-672f4c772f81",
       "rows": [
        [
         "1669",
         "739",
         "857"
        ],
        [
         "7517",
         "739",
         "570"
        ]
       ],
       "shape": {
        "columns": 2,
        "rows": 2
       }
      },
      "text/html": [
       "<div>\n",
       "<style scoped>\n",
       "    .dataframe tbody tr th:only-of-type {\n",
       "        vertical-align: middle;\n",
       "    }\n",
       "\n",
       "    .dataframe tbody tr th {\n",
       "        vertical-align: top;\n",
       "    }\n",
       "\n",
       "    .dataframe thead th {\n",
       "        text-align: right;\n",
       "    }\n",
       "</style>\n",
       "<table border=\"1\" class=\"dataframe\">\n",
       "  <thead>\n",
       "    <tr style=\"text-align: right;\">\n",
       "      <th></th>\n",
       "      <th>id_ciudad</th>\n",
       "      <th>id_itinerario</th>\n",
       "    </tr>\n",
       "  </thead>\n",
       "  <tbody>\n",
       "    <tr>\n",
       "      <th>1669</th>\n",
       "      <td>739</td>\n",
       "      <td>857</td>\n",
       "    </tr>\n",
       "    <tr>\n",
       "      <th>7517</th>\n",
       "      <td>739</td>\n",
       "      <td>570</td>\n",
       "    </tr>\n",
       "  </tbody>\n",
       "</table>\n",
       "</div>"
      ],
      "text/plain": [
       "      id_ciudad  id_itinerario\n",
       "1669        739            857\n",
       "7517        739            570"
      ]
     },
     "execution_count": 97,
     "metadata": {},
     "output_type": "execute_result"
    }
   ],
   "source": [
    "df_ciudad_itinerario[df_ciudad_itinerario.id_ciudad == 739]"
   ]
  },
  {
   "cell_type": "markdown",
   "id": "fd50ab82",
   "metadata": {},
   "source": [
    "## Viajes"
   ]
  },
  {
   "cell_type": "code",
   "execution_count": 98,
   "id": "3a9f9c8d",
   "metadata": {},
   "outputs": [
    {
     "data": {
      "application/vnd.microsoft.datawrangler.viewer.v0+json": {
       "columns": [
        {
         "name": "index",
         "rawType": "int64",
         "type": "integer"
        },
        {
         "name": "id_viaje",
         "rawType": "int64",
         "type": "integer"
        },
        {
         "name": "url_viaje",
         "rawType": "object",
         "type": "string"
        },
        {
         "name": "nombre_viaje",
         "rawType": "object",
         "type": "string"
        },
        {
         "name": "duracion_dias",
         "rawType": "int64",
         "type": "integer"
        },
        {
         "name": "duracion_noches",
         "rawType": "int64",
         "type": "integer"
        },
        {
         "name": "id_itinerario",
         "rawType": "float64",
         "type": "float"
        },
        {
         "name": "viaje_activo",
         "rawType": "bool",
         "type": "boolean"
        }
       ],
       "conversionMethod": "pd.DataFrame",
       "ref": "24a38408-070f-4fd1-8f89-f2414959313b",
       "rows": [
        [
         "0",
         "1",
         "https://es.tui.com/viaje/albania-y-montenegro",
         "Albania y Montenegro",
         "8",
         "7",
         "1027.0",
         "True"
        ],
        [
         "1",
         "2",
         "https://viajeonline.es.tui.com/es/idea/14630257/berlin",
         "Berlín",
         "4",
         "3",
         "146.0",
         "True"
        ],
        [
         "2",
         "3",
         "https://viajeonline.es.tui.com/es/idea/7897512/fly-drive-austria-entre-lagos-y-montanas-",
         "Fly & Drive Austria, Entre Lagos y Montañas",
         "8",
         "7",
         "872.0",
         "True"
        ],
        [
         "3",
         "4",
         "https://viajeonline.es.tui.com/es/idea/8404511/-fly-drive-carlomagno-a-su-aire?tripId=2",
         "Fly & Drive Carlomagno a su aire",
         "10",
         "9",
         "166.0",
         "True"
        ],
        [
         "4",
         "5",
         "https://viajeonline.es.tui.com/es/idea/7906930/-fly-drive-tirol-al-completo-",
         "Fly & Drive Tirol al Completo",
         "8",
         "7",
         "1145.0",
         "True"
        ],
        [
         "5",
         "6",
         "https://viajeonline.es.tui.com/es/idea/21553157/-fly-drive-ciudades-hanseaticas-a-su-aire?tripId=9",
         "Fly & Drive Ciudades Hanseáticas",
         "8",
         "7",
         "425.0",
         "True"
        ],
        [
         "6",
         "7",
         "https://es.tui.com/viaje/alsacia-y-selva-negra",
         "Alsacia y Selva Negra",
         "8",
         "7",
         "412.0",
         "True"
        ],
        [
         "7",
         "8",
         "https://es.tui.com/viaje/triangulo-argentino",
         "Triángulo Argentino",
         "10",
         "7",
         "183.0",
         "True"
        ],
        [
         "8",
         "9",
         "https://es.tui.com/viaje/patagonia-a-tu-alcance",
         "Patagonia a tu alcance",
         "12",
         "9",
         "194.0",
         "True"
        ],
        [
         "9",
         "10",
         "https://es.tui.com/viaje/ballenas-glaciares-y-cataratas",
         "Ballenas, Glaciares y Cataratas",
         "12",
         "9",
         "188.0",
         "True"
        ],
        [
         "10",
         "11",
         "https://es.tui.com/viaje/buenos-aires-el-calafate-e-iguazu",
         "Buenos Aires, El Calafate e Iguazú",
         "11",
         "8",
         "183.0",
         "True"
        ],
        [
         "11",
         "12",
         "https://es.tui.com/viaje/argentina-y-brasil",
         "Argentina y Brasil",
         "14",
         "11",
         "184.0",
         "True"
        ],
        [
         "12",
         "13",
         "https://es.tui.com/viaje/argentina-magica",
         "Argentina Mágica",
         "14",
         "11",
         "193.0",
         "True"
        ],
        [
         "13",
         "14",
         "https://es.tui.com/viaje/argentina-a-tu-alcance",
         "Argentina a tu alcance",
         "14",
         "11",
         "190.0",
         "True"
        ],
        [
         "14",
         "15",
         "https://es.tui.com/viaje/lagos-glaciares-y-cataratas",
         "Lagos, Glaciares y Cataratas",
         "13",
         "10",
         "182.0",
         "True"
        ],
        [
         "15",
         "16",
         "https://es.tui.com/viaje/argentina-clasica",
         "Argentina Clásica",
         "13",
         "10",
         "194.0",
         "True"
        ],
        [
         "16",
         "17",
         "https://es.tui.com/viaje/contrastes-de-argentina",
         "Contrastes de Argentina",
         "13",
         "10",
         "186.0",
         "True"
        ],
        [
         "17",
         "18",
         "https://es.tui.com/viaje/argentina-espectacular",
         "Argentina Espectacular",
         "16",
         "13",
         "189.0",
         "True"
        ],
        [
         "18",
         "19",
         "https://es.tui.com/viaje/patagonia-fascinante",
         "Patagonia Fascinante",
         "15",
         "12",
         "193.0",
         "True"
        ],
        [
         "19",
         "20",
         "https://es.tui.com/viaje/patagonia-con-iguazu",
         "Patagonia con Iguazú",
         "15",
         "12",
         "190.0",
         "True"
        ],
        [
         "20",
         "21",
         "https://es.tui.com/viaje/lo-mejor-de-argentina",
         "Lo Mejor de Argentina",
         "17",
         "14",
         "189.0",
         "True"
        ],
        [
         "21",
         "22",
         "https://es.tui.com/viaje/argentina-para-dos",
         "Argentina para Dos",
         "13",
         "10",
         "194.0",
         "True"
        ],
        [
         "22",
         "23",
         "https://es.tui.com/viaje/patagonia-argentina-y-chilena",
         "Patagonia Argentina y Chilena",
         "16",
         "13",
         "196.0",
         "True"
        ],
        [
         "23",
         "24",
         "https://es.tui.com/viaje/lagos-glaciares-y-cataratas-con-extension-cruce-andino",
         "Lagos, Glaciares y Cataratas con Extensión Cruce Andino",
         "16",
         "13",
         "181.0",
         "True"
        ],
        [
         "24",
         "25",
         "https://es.tui.com/viaje/gran-tour-de-argentina",
         "Gran Tour de Argentina",
         "17",
         "14",
         "191.0",
         "True"
        ],
        [
         "25",
         "26",
         "https://es.tui.com/viaje/al-sur-del-sur-con-australis",
         "Al Sur del Sur con Australis",
         "15",
         "12",
         "192.0",
         "True"
        ],
        [
         "26",
         "27",
         "https://es.tui.com/viaje/las-dos-patagonias-con-australis",
         "Las Dos Patagonias con Australis",
         "15",
         "12",
         "187.0",
         "True"
        ],
        [
         "27",
         "28",
         "https://es.tui.com/viaje/confines-del-mundo-con-australis",
         "Confines del Mundo con Australis",
         "16",
         "13",
         "951.0",
         "True"
        ],
        [
         "28",
         "29",
         "https://es.tui.com/viaje/argentina-y-chile-con-australis",
         "Argentina y Chile con Australis",
         "17",
         "14",
         "952.0",
         "True"
        ],
        [
         "29",
         "30",
         "https://es.tui.com/viaje/chile-y-argentina-con-skorpios-iii",
         "Chile y Argentina con Skorpios III",
         "18",
         "15",
         "950.0",
         "True"
        ],
        [
         "30",
         "31",
         "https://viajeonline.es.tui.com/es/idea/7244961/aruba",
         "Aruba",
         "9",
         "7",
         "820.0",
         "True"
        ],
        [
         "31",
         "32",
         "https://viajeonline.es.tui.com/es/idea/7245405/-nueva-york-y-aruba",
         "Nueva York y Aruba",
         "9",
         "7",
         "707.0",
         "True"
        ],
        [
         "32",
         "33",
         "https://viajeonline.es.tui.com/es/idea/17583770/aruba-en-riu-resorts",
         "Aruba en RIU Resorts",
         "6",
         "5",
         "33.0",
         "True"
        ],
        [
         "33",
         "34",
         "https://es.tui.com/viaje/australia-en-autocaravana-ruta-a",
         "Australia en autocaravana - Ruta A",
         "16",
         "12",
         "18.0",
         "True"
        ],
        [
         "34",
         "35",
         "https://es.tui.com/viaje/australia-romantica",
         "Australia Romántica",
         "12",
         "9",
         "995.0",
         "True"
        ],
        [
         "35",
         "36",
         "https://es.tui.com/viaje/australia-a-tu-alcance",
         "Australia a tu alcance",
         "12",
         "9",
         "657.0",
         "True"
        ],
        [
         "36",
         "37",
         "https://es.tui.com/viaje/todo-australia",
         "Todo Australia",
         "11",
         "8",
         "991.0",
         "True"
        ],
        [
         "37",
         "38",
         "https://es.tui.com/viaje/australia-kangaroo",
         "Australia Kangaroo",
         "18",
         "14",
         "996.0",
         "True"
        ],
        [
         "38",
         "39",
         "https://es.tui.com/viaje/experiencia-australiana",
         "Experiencia Australiana",
         "12",
         "9",
         "994.0",
         "True"
        ],
        [
         "39",
         "40",
         "https://es.tui.com/viaje/gran-australia",
         "Gran Australia",
         "15",
         "11",
         "992.0",
         "True"
        ],
        [
         "40",
         "41",
         "https://viajeonline.es.tui.com/ES/idea/7142063/fly-drive-costa-este-australiana",
         "Fly & Drive Costa Este Australiana",
         "19",
         "15",
         "997.0",
         "True"
        ],
        [
         "41",
         "42",
         "https://es.tui.com/viaje/luna-de-miel-en-australia",
         "Luna de Miel en Australia",
         "15",
         "12",
         "655.0",
         "True"
        ],
        [
         "42",
         "43",
         "https://viajeonline.es.tui.com/es/idea/14349142/australia-magica",
         "Australia Mágica",
         "15",
         "12",
         "990.0",
         "True"
        ],
        [
         "43",
         "44",
         "https://es.tui.com/viaje/capitales-australianas",
         "Capitales Australianas",
         "12",
         "9",
         "657.0",
         "True"
        ],
        [
         "44",
         "45",
         "https://es.tui.com/viaje/contrastes-de-australia",
         "Contrastes de Australia",
         "20",
         "17",
         "656.0",
         "True"
        ],
        [
         "45",
         "46",
         "https://es.tui.com/viaje/iconos-de-nueva-zelanda-y-australia",
         "Iconos de Nueva Zelanda y Australia",
         "17",
         "13",
         "73.0",
         "True"
        ],
        [
         "46",
         "47",
         "https://es.tui.com/viaje/tres-continentes",
         "Tres Continentes",
         "20",
         "16",
         "115.0",
         "True"
        ],
        [
         "47",
         "48",
         "https://es.tui.com/viaje/kiwis-y-koalas",
         "Kiwis y Koalas",
         "21",
         "17",
         "70.0",
         "True"
        ],
        [
         "48",
         "49",
         "https://viajeonline.es.tui.com/es/idea/6948716/viena",
         "Viena",
         "4",
         "3",
         "1097.0",
         "True"
        ],
        [
         "49",
         "50",
         "https://viajeonline.es.tui.com/es/idea/7975788/-fly-drive-viena-salzburgo-y-el-tirol-",
         "Fly & Drive Viena, Salzburgo y el Tirol",
         "8",
         "7",
         "1096.0",
         "True"
        ]
       ],
       "shape": {
        "columns": 7,
        "rows": 1452
       }
      },
      "text/html": [
       "<div>\n",
       "<style scoped>\n",
       "    .dataframe tbody tr th:only-of-type {\n",
       "        vertical-align: middle;\n",
       "    }\n",
       "\n",
       "    .dataframe tbody tr th {\n",
       "        vertical-align: top;\n",
       "    }\n",
       "\n",
       "    .dataframe thead th {\n",
       "        text-align: right;\n",
       "    }\n",
       "</style>\n",
       "<table border=\"1\" class=\"dataframe\">\n",
       "  <thead>\n",
       "    <tr style=\"text-align: right;\">\n",
       "      <th></th>\n",
       "      <th>id_viaje</th>\n",
       "      <th>url_viaje</th>\n",
       "      <th>nombre_viaje</th>\n",
       "      <th>duracion_dias</th>\n",
       "      <th>duracion_noches</th>\n",
       "      <th>id_itinerario</th>\n",
       "      <th>viaje_activo</th>\n",
       "    </tr>\n",
       "  </thead>\n",
       "  <tbody>\n",
       "    <tr>\n",
       "      <th>0</th>\n",
       "      <td>1</td>\n",
       "      <td>https://es.tui.com/viaje/albania-y-montenegro</td>\n",
       "      <td>Albania y Montenegro</td>\n",
       "      <td>8</td>\n",
       "      <td>7</td>\n",
       "      <td>1027.0</td>\n",
       "      <td>True</td>\n",
       "    </tr>\n",
       "    <tr>\n",
       "      <th>1</th>\n",
       "      <td>2</td>\n",
       "      <td>https://viajeonline.es.tui.com/es/idea/1463025...</td>\n",
       "      <td>Berlín</td>\n",
       "      <td>4</td>\n",
       "      <td>3</td>\n",
       "      <td>146.0</td>\n",
       "      <td>True</td>\n",
       "    </tr>\n",
       "    <tr>\n",
       "      <th>2</th>\n",
       "      <td>3</td>\n",
       "      <td>https://viajeonline.es.tui.com/es/idea/7897512...</td>\n",
       "      <td>Fly &amp; Drive Austria, Entre Lagos y Montañas</td>\n",
       "      <td>8</td>\n",
       "      <td>7</td>\n",
       "      <td>872.0</td>\n",
       "      <td>True</td>\n",
       "    </tr>\n",
       "    <tr>\n",
       "      <th>3</th>\n",
       "      <td>4</td>\n",
       "      <td>https://viajeonline.es.tui.com/es/idea/8404511...</td>\n",
       "      <td>Fly &amp; Drive Carlomagno a su aire</td>\n",
       "      <td>10</td>\n",
       "      <td>9</td>\n",
       "      <td>166.0</td>\n",
       "      <td>True</td>\n",
       "    </tr>\n",
       "    <tr>\n",
       "      <th>4</th>\n",
       "      <td>5</td>\n",
       "      <td>https://viajeonline.es.tui.com/es/idea/7906930...</td>\n",
       "      <td>Fly &amp; Drive Tirol al Completo</td>\n",
       "      <td>8</td>\n",
       "      <td>7</td>\n",
       "      <td>1145.0</td>\n",
       "      <td>True</td>\n",
       "    </tr>\n",
       "    <tr>\n",
       "      <th>...</th>\n",
       "      <td>...</td>\n",
       "      <td>...</td>\n",
       "      <td>...</td>\n",
       "      <td>...</td>\n",
       "      <td>...</td>\n",
       "      <td>...</td>\n",
       "      <td>...</td>\n",
       "    </tr>\n",
       "    <tr>\n",
       "      <th>1447</th>\n",
       "      <td>1448</td>\n",
       "      <td>https://viajeonline.es.tui.com/es/idea/2607664...</td>\n",
       "      <td>Laponia - Puente de Diciembre en Levi - desde ...</td>\n",
       "      <td>5</td>\n",
       "      <td>4</td>\n",
       "      <td>570.0</td>\n",
       "      <td>True</td>\n",
       "    </tr>\n",
       "    <tr>\n",
       "      <th>1448</th>\n",
       "      <td>1449</td>\n",
       "      <td>https://viajeonline.es.tui.com/es/idea/2607847...</td>\n",
       "      <td>Laponia - Puente de Diciembre en Levi - desde ...</td>\n",
       "      <td>5</td>\n",
       "      <td>4</td>\n",
       "      <td>570.0</td>\n",
       "      <td>True</td>\n",
       "    </tr>\n",
       "    <tr>\n",
       "      <th>1449</th>\n",
       "      <td>1450</td>\n",
       "      <td>https://viajeonline.es.tui.com/es/idea/2607811...</td>\n",
       "      <td>Laponia - Puente de Diciembre en Levi - desde ...</td>\n",
       "      <td>5</td>\n",
       "      <td>4</td>\n",
       "      <td>570.0</td>\n",
       "      <td>True</td>\n",
       "    </tr>\n",
       "    <tr>\n",
       "      <th>1450</th>\n",
       "      <td>1451</td>\n",
       "      <td>https://viajeonline.es.tui.com/es/idea/2700326...</td>\n",
       "      <td>Ciudad de México y Holbox</td>\n",
       "      <td>9</td>\n",
       "      <td>7</td>\n",
       "      <td>273.0</td>\n",
       "      <td>True</td>\n",
       "    </tr>\n",
       "    <tr>\n",
       "      <th>1451</th>\n",
       "      <td>1452</td>\n",
       "      <td>https://es.tui.com/viaje/india-y-maldivas-a-tu...</td>\n",
       "      <td>India y maldivas a tu alcance</td>\n",
       "      <td>11</td>\n",
       "      <td>9</td>\n",
       "      <td>343.0</td>\n",
       "      <td>True</td>\n",
       "    </tr>\n",
       "  </tbody>\n",
       "</table>\n",
       "<p>1452 rows × 7 columns</p>\n",
       "</div>"
      ],
      "text/plain": [
       "      id_viaje                                          url_viaje  \\\n",
       "0            1      https://es.tui.com/viaje/albania-y-montenegro   \n",
       "1            2  https://viajeonline.es.tui.com/es/idea/1463025...   \n",
       "2            3  https://viajeonline.es.tui.com/es/idea/7897512...   \n",
       "3            4  https://viajeonline.es.tui.com/es/idea/8404511...   \n",
       "4            5  https://viajeonline.es.tui.com/es/idea/7906930...   \n",
       "...        ...                                                ...   \n",
       "1447      1448  https://viajeonline.es.tui.com/es/idea/2607664...   \n",
       "1448      1449  https://viajeonline.es.tui.com/es/idea/2607847...   \n",
       "1449      1450  https://viajeonline.es.tui.com/es/idea/2607811...   \n",
       "1450      1451  https://viajeonline.es.tui.com/es/idea/2700326...   \n",
       "1451      1452  https://es.tui.com/viaje/india-y-maldivas-a-tu...   \n",
       "\n",
       "                                           nombre_viaje  duracion_dias  \\\n",
       "0                                  Albania y Montenegro              8   \n",
       "1                                                Berlín              4   \n",
       "2           Fly & Drive Austria, Entre Lagos y Montañas              8   \n",
       "3                      Fly & Drive Carlomagno a su aire             10   \n",
       "4                         Fly & Drive Tirol al Completo              8   \n",
       "...                                                 ...            ...   \n",
       "1447  Laponia - Puente de Diciembre en Levi - desde ...              5   \n",
       "1448  Laponia - Puente de Diciembre en Levi - desde ...              5   \n",
       "1449  Laponia - Puente de Diciembre en Levi - desde ...              5   \n",
       "1450                          Ciudad de México y Holbox              9   \n",
       "1451                      India y maldivas a tu alcance             11   \n",
       "\n",
       "      duracion_noches  id_itinerario  viaje_activo  \n",
       "0                   7         1027.0          True  \n",
       "1                   3          146.0          True  \n",
       "2                   7          872.0          True  \n",
       "3                   9          166.0          True  \n",
       "4                   7         1145.0          True  \n",
       "...               ...            ...           ...  \n",
       "1447                4          570.0          True  \n",
       "1448                4          570.0          True  \n",
       "1449                4          570.0          True  \n",
       "1450                7          273.0          True  \n",
       "1451                9          343.0          True  \n",
       "\n",
       "[1452 rows x 7 columns]"
      ]
     },
     "execution_count": 98,
     "metadata": {},
     "output_type": "execute_result"
    }
   ],
   "source": [
    "query_extraccion = '''SELECT *\n",
    "FROM viaje v'''\n",
    "\n",
    "lista_columnas = ['id_viaje', 'url_viaje', 'nombre_viaje', 'duracion_dias', \n",
    "                  'duracion_noches','id_itinerario', 'viaje_activo']\n",
    "df_viajes = exp.extraer_datos_bbdd_y_convertir_en_df(lista_columnas,query_extraccion)\n",
    "df_viajes"
   ]
  },
  {
   "cell_type": "markdown",
   "id": "85b2ff10",
   "metadata": {},
   "source": [
    "## Precio de los viajes"
   ]
  },
  {
   "cell_type": "code",
   "execution_count": 99,
   "id": "f761b933",
   "metadata": {},
   "outputs": [],
   "source": [
    "query_extraccion = '''SELECT v.*,\n",
    "\tprecio_viaje,\n",
    "\tfecha_precio_viaje\n",
    "FROM viaje v\n",
    "INNER JOIN precio_viaje pv ON v.id_viaje = pv.id_viaje'''"
   ]
  },
  {
   "cell_type": "code",
   "execution_count": 100,
   "id": "801e92d9",
   "metadata": {},
   "outputs": [],
   "source": [
    "lista_columnas = [ 'id_viaje', 'url_viaje', 'nombre_viaje','duracion_dias', 'duracion_noches', 'id_itinerario', \n",
    "                  'viaje_activo', 'precio_viaje', 'fecha_precio_viaje']"
   ]
  },
  {
   "cell_type": "code",
   "execution_count": 101,
   "id": "aa50f760",
   "metadata": {},
   "outputs": [
    {
     "data": {
      "application/vnd.microsoft.datawrangler.viewer.v0+json": {
       "columns": [
        {
         "name": "index",
         "rawType": "int64",
         "type": "integer"
        },
        {
         "name": "id_viaje",
         "rawType": "int64",
         "type": "integer"
        },
        {
         "name": "url_viaje",
         "rawType": "object",
         "type": "string"
        },
        {
         "name": "nombre_viaje",
         "rawType": "object",
         "type": "string"
        },
        {
         "name": "duracion_dias",
         "rawType": "int64",
         "type": "integer"
        },
        {
         "name": "duracion_noches",
         "rawType": "int64",
         "type": "integer"
        },
        {
         "name": "id_itinerario",
         "rawType": "float64",
         "type": "float"
        },
        {
         "name": "viaje_activo",
         "rawType": "bool",
         "type": "boolean"
        },
        {
         "name": "precio_viaje",
         "rawType": "int64",
         "type": "integer"
        },
        {
         "name": "fecha_precio_viaje",
         "rawType": "object",
         "type": "unknown"
        }
       ],
       "conversionMethod": "pd.DataFrame",
       "ref": "2a5d9a25-bb27-41b8-9c8e-8f04d1421c78",
       "rows": [
        [
         "0",
         "1",
         "https://es.tui.com/viaje/albania-y-montenegro",
         "Albania y Montenegro",
         "8",
         "7",
         "1027.0",
         "True",
         "1755",
         "2025-04-07"
        ],
        [
         "1",
         "2",
         "https://viajeonline.es.tui.com/es/idea/14630257/berlin",
         "Berlín",
         "4",
         "3",
         "146.0",
         "True",
         "708",
         "2025-04-07"
        ],
        [
         "2",
         "3",
         "https://viajeonline.es.tui.com/es/idea/7897512/fly-drive-austria-entre-lagos-y-montanas-",
         "Fly & Drive Austria, Entre Lagos y Montañas",
         "8",
         "7",
         "872.0",
         "True",
         "827",
         "2025-04-07"
        ],
        [
         "3",
         "4",
         "https://viajeonline.es.tui.com/es/idea/8404511/-fly-drive-carlomagno-a-su-aire?tripId=2",
         "Fly & Drive Carlomagno a su aire",
         "10",
         "9",
         "166.0",
         "True",
         "857",
         "2025-04-07"
        ],
        [
         "4",
         "5",
         "https://viajeonline.es.tui.com/es/idea/7906930/-fly-drive-tirol-al-completo-",
         "Fly & Drive Tirol al Completo",
         "8",
         "7",
         "1145.0",
         "True",
         "894",
         "2025-04-07"
        ],
        [
         "5",
         "6",
         "https://viajeonline.es.tui.com/es/idea/21553157/-fly-drive-ciudades-hanseaticas-a-su-aire?tripId=9",
         "Fly & Drive Ciudades Hanseáticas",
         "8",
         "7",
         "425.0",
         "True",
         "959",
         "2025-04-07"
        ],
        [
         "6",
         "7",
         "https://es.tui.com/viaje/alsacia-y-selva-negra",
         "Alsacia y Selva Negra",
         "8",
         "7",
         "412.0",
         "True",
         "1735",
         "2025-04-07"
        ],
        [
         "7",
         "8",
         "https://es.tui.com/viaje/triangulo-argentino",
         "Triángulo Argentino",
         "10",
         "7",
         "183.0",
         "True",
         "2265",
         "2025-04-07"
        ],
        [
         "8",
         "9",
         "https://es.tui.com/viaje/patagonia-a-tu-alcance",
         "Patagonia a tu alcance",
         "12",
         "9",
         "194.0",
         "True",
         "2695",
         "2025-04-07"
        ],
        [
         "9",
         "10",
         "https://es.tui.com/viaje/ballenas-glaciares-y-cataratas",
         "Ballenas, Glaciares y Cataratas",
         "12",
         "9",
         "188.0",
         "True",
         "2755",
         "2025-04-07"
        ],
        [
         "10",
         "11",
         "https://es.tui.com/viaje/buenos-aires-el-calafate-e-iguazu",
         "Buenos Aires, El Calafate e Iguazú",
         "11",
         "8",
         "183.0",
         "True",
         "2865",
         "2025-04-07"
        ],
        [
         "11",
         "12",
         "https://es.tui.com/viaje/argentina-y-brasil",
         "Argentina y Brasil",
         "14",
         "11",
         "184.0",
         "True",
         "2965",
         "2025-04-07"
        ],
        [
         "12",
         "13",
         "https://es.tui.com/viaje/argentina-magica",
         "Argentina Mágica",
         "14",
         "11",
         "193.0",
         "True",
         "3055",
         "2025-04-07"
        ],
        [
         "13",
         "14",
         "https://es.tui.com/viaje/argentina-a-tu-alcance",
         "Argentina a tu alcance",
         "14",
         "11",
         "190.0",
         "True",
         "3150",
         "2025-04-07"
        ],
        [
         "14",
         "15",
         "https://es.tui.com/viaje/lagos-glaciares-y-cataratas",
         "Lagos, Glaciares y Cataratas",
         "13",
         "10",
         "182.0",
         "True",
         "3295",
         "2025-04-07"
        ],
        [
         "15",
         "16",
         "https://es.tui.com/viaje/argentina-clasica",
         "Argentina Clásica",
         "13",
         "10",
         "194.0",
         "True",
         "3325",
         "2025-04-07"
        ],
        [
         "16",
         "17",
         "https://es.tui.com/viaje/contrastes-de-argentina",
         "Contrastes de Argentina",
         "13",
         "10",
         "186.0",
         "True",
         "3395",
         "2025-04-07"
        ],
        [
         "17",
         "18",
         "https://es.tui.com/viaje/argentina-espectacular",
         "Argentina Espectacular",
         "16",
         "13",
         "189.0",
         "True",
         "3495",
         "2025-04-07"
        ],
        [
         "18",
         "19",
         "https://es.tui.com/viaje/patagonia-fascinante",
         "Patagonia Fascinante",
         "15",
         "12",
         "193.0",
         "True",
         "3695",
         "2025-04-07"
        ],
        [
         "19",
         "20",
         "https://es.tui.com/viaje/patagonia-con-iguazu",
         "Patagonia con Iguazú",
         "15",
         "12",
         "190.0",
         "True",
         "3725",
         "2025-04-07"
        ],
        [
         "20",
         "21",
         "https://es.tui.com/viaje/lo-mejor-de-argentina",
         "Lo Mejor de Argentina",
         "17",
         "14",
         "189.0",
         "True",
         "4025",
         "2025-04-07"
        ],
        [
         "21",
         "22",
         "https://es.tui.com/viaje/argentina-para-dos",
         "Argentina para Dos",
         "13",
         "10",
         "194.0",
         "True",
         "4095",
         "2025-04-07"
        ],
        [
         "22",
         "23",
         "https://es.tui.com/viaje/patagonia-argentina-y-chilena",
         "Patagonia Argentina y Chilena",
         "16",
         "13",
         "196.0",
         "True",
         "4385",
         "2025-04-07"
        ],
        [
         "23",
         "24",
         "https://es.tui.com/viaje/lagos-glaciares-y-cataratas-con-extension-cruce-andino",
         "Lagos, Glaciares y Cataratas con Extensión Cruce Andino",
         "16",
         "13",
         "181.0",
         "True",
         "4750",
         "2025-04-07"
        ],
        [
         "24",
         "25",
         "https://es.tui.com/viaje/gran-tour-de-argentina",
         "Gran Tour de Argentina",
         "17",
         "14",
         "191.0",
         "True",
         "5235",
         "2025-04-07"
        ],
        [
         "25",
         "26",
         "https://es.tui.com/viaje/al-sur-del-sur-con-australis",
         "Al Sur del Sur con Australis",
         "15",
         "12",
         "192.0",
         "True",
         "5545",
         "2025-04-07"
        ],
        [
         "26",
         "27",
         "https://es.tui.com/viaje/las-dos-patagonias-con-australis",
         "Las Dos Patagonias con Australis",
         "15",
         "12",
         "187.0",
         "True",
         "5585",
         "2025-04-07"
        ],
        [
         "27",
         "28",
         "https://es.tui.com/viaje/confines-del-mundo-con-australis",
         "Confines del Mundo con Australis",
         "16",
         "13",
         "951.0",
         "True",
         "5825",
         "2025-04-07"
        ],
        [
         "28",
         "29",
         "https://es.tui.com/viaje/argentina-y-chile-con-australis",
         "Argentina y Chile con Australis",
         "17",
         "14",
         "952.0",
         "True",
         "5895",
         "2025-04-07"
        ],
        [
         "29",
         "30",
         "https://es.tui.com/viaje/chile-y-argentina-con-skorpios-iii",
         "Chile y Argentina con Skorpios III",
         "18",
         "15",
         "950.0",
         "True",
         "6745",
         "2025-04-07"
        ],
        [
         "30",
         "31",
         "https://viajeonline.es.tui.com/es/idea/7244961/aruba",
         "Aruba",
         "9",
         "7",
         "820.0",
         "True",
         "1965",
         "2025-04-07"
        ],
        [
         "31",
         "32",
         "https://viajeonline.es.tui.com/es/idea/7245405/-nueva-york-y-aruba",
         "Nueva York y Aruba",
         "9",
         "7",
         "707.0",
         "True",
         "2402",
         "2025-04-07"
        ],
        [
         "32",
         "33",
         "https://viajeonline.es.tui.com/es/idea/17583770/aruba-en-riu-resorts",
         "Aruba en RIU Resorts",
         "6",
         "5",
         "33.0",
         "True",
         "3472",
         "2025-04-07"
        ],
        [
         "33",
         "34",
         "https://es.tui.com/viaje/australia-en-autocaravana-ruta-a",
         "Australia en autocaravana - Ruta A",
         "16",
         "12",
         "18.0",
         "True",
         "2699",
         "2025-04-07"
        ],
        [
         "34",
         "35",
         "https://es.tui.com/viaje/australia-romantica",
         "Australia Romántica",
         "12",
         "9",
         "995.0",
         "True",
         "3245",
         "2025-04-07"
        ],
        [
         "35",
         "36",
         "https://es.tui.com/viaje/australia-a-tu-alcance",
         "Australia a tu alcance",
         "12",
         "9",
         "657.0",
         "True",
         "3255",
         "2025-04-07"
        ],
        [
         "36",
         "37",
         "https://es.tui.com/viaje/todo-australia",
         "Todo Australia",
         "11",
         "8",
         "991.0",
         "True",
         "3255",
         "2025-04-07"
        ],
        [
         "37",
         "38",
         "https://es.tui.com/viaje/australia-kangaroo",
         "Australia Kangaroo",
         "18",
         "14",
         "996.0",
         "True",
         "3755",
         "2025-04-07"
        ],
        [
         "38",
         "39",
         "https://es.tui.com/viaje/experiencia-australiana",
         "Experiencia Australiana",
         "12",
         "9",
         "994.0",
         "True",
         "3809",
         "2025-04-07"
        ],
        [
         "39",
         "40",
         "https://es.tui.com/viaje/gran-australia",
         "Gran Australia",
         "15",
         "11",
         "992.0",
         "True",
         "3895",
         "2025-04-07"
        ],
        [
         "40",
         "41",
         "https://viajeonline.es.tui.com/ES/idea/7142063/fly-drive-costa-este-australiana",
         "Fly & Drive Costa Este Australiana",
         "19",
         "15",
         "997.0",
         "True",
         "4108",
         "2025-04-07"
        ],
        [
         "41",
         "42",
         "https://es.tui.com/viaje/luna-de-miel-en-australia",
         "Luna de Miel en Australia",
         "15",
         "12",
         "655.0",
         "True",
         "4229",
         "2025-04-07"
        ],
        [
         "42",
         "43",
         "https://viajeonline.es.tui.com/es/idea/14349142/australia-magica",
         "Australia Mágica",
         "15",
         "12",
         "990.0",
         "True",
         "4645",
         "2025-04-07"
        ],
        [
         "43",
         "44",
         "https://es.tui.com/viaje/capitales-australianas",
         "Capitales Australianas",
         "12",
         "9",
         "657.0",
         "True",
         "5075",
         "2025-04-07"
        ],
        [
         "44",
         "45",
         "https://es.tui.com/viaje/contrastes-de-australia",
         "Contrastes de Australia",
         "20",
         "17",
         "656.0",
         "True",
         "5665",
         "2025-04-07"
        ],
        [
         "45",
         "46",
         "https://es.tui.com/viaje/iconos-de-nueva-zelanda-y-australia",
         "Iconos de Nueva Zelanda y Australia",
         "17",
         "13",
         "73.0",
         "True",
         "5799",
         "2025-04-07"
        ],
        [
         "46",
         "47",
         "https://es.tui.com/viaje/tres-continentes",
         "Tres Continentes",
         "20",
         "16",
         "115.0",
         "True",
         "6575",
         "2025-04-07"
        ],
        [
         "47",
         "48",
         "https://es.tui.com/viaje/kiwis-y-koalas",
         "Kiwis y Koalas",
         "21",
         "17",
         "70.0",
         "True",
         "8195",
         "2025-04-07"
        ],
        [
         "48",
         "49",
         "https://viajeonline.es.tui.com/es/idea/6948716/viena",
         "Viena",
         "4",
         "3",
         "1097.0",
         "True",
         "815",
         "2025-04-07"
        ],
        [
         "49",
         "50",
         "https://viajeonline.es.tui.com/es/idea/7975788/-fly-drive-viena-salzburgo-y-el-tirol-",
         "Fly & Drive Viena, Salzburgo y el Tirol",
         "8",
         "7",
         "1096.0",
         "True",
         "897",
         "2025-04-07"
        ]
       ],
       "shape": {
        "columns": 9,
        "rows": 48631
       }
      },
      "text/html": [
       "<div>\n",
       "<style scoped>\n",
       "    .dataframe tbody tr th:only-of-type {\n",
       "        vertical-align: middle;\n",
       "    }\n",
       "\n",
       "    .dataframe tbody tr th {\n",
       "        vertical-align: top;\n",
       "    }\n",
       "\n",
       "    .dataframe thead th {\n",
       "        text-align: right;\n",
       "    }\n",
       "</style>\n",
       "<table border=\"1\" class=\"dataframe\">\n",
       "  <thead>\n",
       "    <tr style=\"text-align: right;\">\n",
       "      <th></th>\n",
       "      <th>id_viaje</th>\n",
       "      <th>url_viaje</th>\n",
       "      <th>nombre_viaje</th>\n",
       "      <th>duracion_dias</th>\n",
       "      <th>duracion_noches</th>\n",
       "      <th>id_itinerario</th>\n",
       "      <th>viaje_activo</th>\n",
       "      <th>precio_viaje</th>\n",
       "      <th>fecha_precio_viaje</th>\n",
       "    </tr>\n",
       "  </thead>\n",
       "  <tbody>\n",
       "    <tr>\n",
       "      <th>0</th>\n",
       "      <td>1</td>\n",
       "      <td>https://es.tui.com/viaje/albania-y-montenegro</td>\n",
       "      <td>Albania y Montenegro</td>\n",
       "      <td>8</td>\n",
       "      <td>7</td>\n",
       "      <td>1027.0</td>\n",
       "      <td>True</td>\n",
       "      <td>1755</td>\n",
       "      <td>2025-04-07</td>\n",
       "    </tr>\n",
       "    <tr>\n",
       "      <th>1</th>\n",
       "      <td>2</td>\n",
       "      <td>https://viajeonline.es.tui.com/es/idea/1463025...</td>\n",
       "      <td>Berlín</td>\n",
       "      <td>4</td>\n",
       "      <td>3</td>\n",
       "      <td>146.0</td>\n",
       "      <td>True</td>\n",
       "      <td>708</td>\n",
       "      <td>2025-04-07</td>\n",
       "    </tr>\n",
       "    <tr>\n",
       "      <th>2</th>\n",
       "      <td>3</td>\n",
       "      <td>https://viajeonline.es.tui.com/es/idea/7897512...</td>\n",
       "      <td>Fly &amp; Drive Austria, Entre Lagos y Montañas</td>\n",
       "      <td>8</td>\n",
       "      <td>7</td>\n",
       "      <td>872.0</td>\n",
       "      <td>True</td>\n",
       "      <td>827</td>\n",
       "      <td>2025-04-07</td>\n",
       "    </tr>\n",
       "    <tr>\n",
       "      <th>3</th>\n",
       "      <td>4</td>\n",
       "      <td>https://viajeonline.es.tui.com/es/idea/8404511...</td>\n",
       "      <td>Fly &amp; Drive Carlomagno a su aire</td>\n",
       "      <td>10</td>\n",
       "      <td>9</td>\n",
       "      <td>166.0</td>\n",
       "      <td>True</td>\n",
       "      <td>857</td>\n",
       "      <td>2025-04-07</td>\n",
       "    </tr>\n",
       "    <tr>\n",
       "      <th>4</th>\n",
       "      <td>5</td>\n",
       "      <td>https://viajeonline.es.tui.com/es/idea/7906930...</td>\n",
       "      <td>Fly &amp; Drive Tirol al Completo</td>\n",
       "      <td>8</td>\n",
       "      <td>7</td>\n",
       "      <td>1145.0</td>\n",
       "      <td>True</td>\n",
       "      <td>894</td>\n",
       "      <td>2025-04-07</td>\n",
       "    </tr>\n",
       "    <tr>\n",
       "      <th>...</th>\n",
       "      <td>...</td>\n",
       "      <td>...</td>\n",
       "      <td>...</td>\n",
       "      <td>...</td>\n",
       "      <td>...</td>\n",
       "      <td>...</td>\n",
       "      <td>...</td>\n",
       "      <td>...</td>\n",
       "      <td>...</td>\n",
       "    </tr>\n",
       "    <tr>\n",
       "      <th>48626</th>\n",
       "      <td>1381</td>\n",
       "      <td>https://es.tui.com/viaje/paisajes-y-tribus-de-...</td>\n",
       "      <td>Paisajes y Tribus de Vietnam y Camboya</td>\n",
       "      <td>17</td>\n",
       "      <td>14</td>\n",
       "      <td>458.0</td>\n",
       "      <td>True</td>\n",
       "      <td>3284</td>\n",
       "      <td>2025-05-20</td>\n",
       "    </tr>\n",
       "    <tr>\n",
       "      <th>48627</th>\n",
       "      <td>1382</td>\n",
       "      <td>https://es.tui.com/viaje/paisajes-y-tribus-de-...</td>\n",
       "      <td>Paisajes y Tribus de Vietnam y Phu Quoc</td>\n",
       "      <td>17</td>\n",
       "      <td>14</td>\n",
       "      <td>452.0</td>\n",
       "      <td>True</td>\n",
       "      <td>3310</td>\n",
       "      <td>2025-05-20</td>\n",
       "    </tr>\n",
       "    <tr>\n",
       "      <th>48628</th>\n",
       "      <td>1383</td>\n",
       "      <td>https://es.tui.com/viaje/paisajes-y-tribus-de-...</td>\n",
       "      <td>Paisajes y Tribus de Vietnam y Nha Trang</td>\n",
       "      <td>17</td>\n",
       "      <td>14</td>\n",
       "      <td>451.0</td>\n",
       "      <td>True</td>\n",
       "      <td>3450</td>\n",
       "      <td>2025-05-20</td>\n",
       "    </tr>\n",
       "    <tr>\n",
       "      <th>48629</th>\n",
       "      <td>1384</td>\n",
       "      <td>https://es.tui.com/viaje/zimbabue-salvaje</td>\n",
       "      <td>Zimbabue Salvaje</td>\n",
       "      <td>11</td>\n",
       "      <td>8</td>\n",
       "      <td>234.0</td>\n",
       "      <td>True</td>\n",
       "      <td>6539</td>\n",
       "      <td>2025-05-20</td>\n",
       "    </tr>\n",
       "    <tr>\n",
       "      <th>48630</th>\n",
       "      <td>1385</td>\n",
       "      <td>https://es.tui.com/viaje/zimbabue-salvaje-y-la...</td>\n",
       "      <td>Zimbabue Salvaje y Lago Kariba</td>\n",
       "      <td>14</td>\n",
       "      <td>11</td>\n",
       "      <td>235.0</td>\n",
       "      <td>True</td>\n",
       "      <td>9228</td>\n",
       "      <td>2025-05-20</td>\n",
       "    </tr>\n",
       "  </tbody>\n",
       "</table>\n",
       "<p>48631 rows × 9 columns</p>\n",
       "</div>"
      ],
      "text/plain": [
       "       id_viaje                                          url_viaje  \\\n",
       "0             1      https://es.tui.com/viaje/albania-y-montenegro   \n",
       "1             2  https://viajeonline.es.tui.com/es/idea/1463025...   \n",
       "2             3  https://viajeonline.es.tui.com/es/idea/7897512...   \n",
       "3             4  https://viajeonline.es.tui.com/es/idea/8404511...   \n",
       "4             5  https://viajeonline.es.tui.com/es/idea/7906930...   \n",
       "...         ...                                                ...   \n",
       "48626      1381  https://es.tui.com/viaje/paisajes-y-tribus-de-...   \n",
       "48627      1382  https://es.tui.com/viaje/paisajes-y-tribus-de-...   \n",
       "48628      1383  https://es.tui.com/viaje/paisajes-y-tribus-de-...   \n",
       "48629      1384          https://es.tui.com/viaje/zimbabue-salvaje   \n",
       "48630      1385  https://es.tui.com/viaje/zimbabue-salvaje-y-la...   \n",
       "\n",
       "                                      nombre_viaje  duracion_dias  \\\n",
       "0                             Albania y Montenegro              8   \n",
       "1                                           Berlín              4   \n",
       "2      Fly & Drive Austria, Entre Lagos y Montañas              8   \n",
       "3                 Fly & Drive Carlomagno a su aire             10   \n",
       "4                    Fly & Drive Tirol al Completo              8   \n",
       "...                                            ...            ...   \n",
       "48626       Paisajes y Tribus de Vietnam y Camboya             17   \n",
       "48627      Paisajes y Tribus de Vietnam y Phu Quoc             17   \n",
       "48628     Paisajes y Tribus de Vietnam y Nha Trang             17   \n",
       "48629                             Zimbabue Salvaje             11   \n",
       "48630               Zimbabue Salvaje y Lago Kariba             14   \n",
       "\n",
       "       duracion_noches  id_itinerario  viaje_activo  precio_viaje  \\\n",
       "0                    7         1027.0          True          1755   \n",
       "1                    3          146.0          True           708   \n",
       "2                    7          872.0          True           827   \n",
       "3                    9          166.0          True           857   \n",
       "4                    7         1145.0          True           894   \n",
       "...                ...            ...           ...           ...   \n",
       "48626               14          458.0          True          3284   \n",
       "48627               14          452.0          True          3310   \n",
       "48628               14          451.0          True          3450   \n",
       "48629                8          234.0          True          6539   \n",
       "48630               11          235.0          True          9228   \n",
       "\n",
       "      fecha_precio_viaje  \n",
       "0             2025-04-07  \n",
       "1             2025-04-07  \n",
       "2             2025-04-07  \n",
       "3             2025-04-07  \n",
       "4             2025-04-07  \n",
       "...                  ...  \n",
       "48626         2025-05-20  \n",
       "48627         2025-05-20  \n",
       "48628         2025-05-20  \n",
       "48629         2025-05-20  \n",
       "48630         2025-05-20  \n",
       "\n",
       "[48631 rows x 9 columns]"
      ]
     },
     "execution_count": 101,
     "metadata": {},
     "output_type": "execute_result"
    }
   ],
   "source": [
    "df_viaje_precios = exp.extraer_datos_bbdd_y_convertir_en_df(lista_columnas,query_extraccion)\n",
    "df_viaje_precios"
   ]
  },
  {
   "cell_type": "markdown",
   "id": "ffb21b10",
   "metadata": {},
   "source": [
    "## Viajes con cambios de precios"
   ]
  },
  {
   "cell_type": "code",
   "execution_count": 102,
   "id": "eaabf9d9",
   "metadata": {},
   "outputs": [],
   "source": [
    "query_extraccion = '''SELECT v.id_viaje,\n",
    "\tcount(DISTINCT precio_viaje) as num_precios_ofertados\n",
    "FROM viaje v\n",
    "INNER JOIN precio_viaje pv ON v.id_viaje = pv.id_viaje\n",
    "GROUP BY v.id_viaje\n",
    "HAVING count(DISTINCT precio_viaje)>1;'''"
   ]
  },
  {
   "cell_type": "code",
   "execution_count": 103,
   "id": "fa7ce2ad",
   "metadata": {},
   "outputs": [],
   "source": [
    "lista_columnas = [ 'id_viaje', 'num_precios_ofertados']"
   ]
  },
  {
   "cell_type": "code",
   "execution_count": 104,
   "id": "47c8b199",
   "metadata": {},
   "outputs": [
    {
     "data": {
      "application/vnd.microsoft.datawrangler.viewer.v0+json": {
       "columns": [
        {
         "name": "index",
         "rawType": "int64",
         "type": "integer"
        },
        {
         "name": "id_viaje",
         "rawType": "int64",
         "type": "integer"
        },
        {
         "name": "num_precios_ofertados",
         "rawType": "int64",
         "type": "integer"
        }
       ],
       "conversionMethod": "pd.DataFrame",
       "ref": "4fbfdb75-cb2a-4a27-9ee6-3045c7a5b85e",
       "rows": [
        [
         "0",
         "11",
         "2"
        ],
        [
         "1",
         "12",
         "2"
        ],
        [
         "2",
         "15",
         "2"
        ],
        [
         "3",
         "16",
         "2"
        ],
        [
         "4",
         "17",
         "2"
        ],
        [
         "5",
         "19",
         "2"
        ],
        [
         "6",
         "20",
         "2"
        ],
        [
         "7",
         "21",
         "2"
        ],
        [
         "8",
         "23",
         "2"
        ],
        [
         "9",
         "24",
         "2"
        ],
        [
         "10",
         "25",
         "2"
        ],
        [
         "11",
         "26",
         "2"
        ],
        [
         "12",
         "30",
         "2"
        ],
        [
         "13",
         "112",
         "2"
        ],
        [
         "14",
         "113",
         "2"
        ],
        [
         "15",
         "114",
         "2"
        ],
        [
         "16",
         "115",
         "2"
        ],
        [
         "17",
         "116",
         "2"
        ],
        [
         "18",
         "117",
         "2"
        ],
        [
         "19",
         "118",
         "2"
        ],
        [
         "20",
         "120",
         "2"
        ],
        [
         "21",
         "121",
         "2"
        ],
        [
         "22",
         "122",
         "2"
        ],
        [
         "23",
         "224",
         "2"
        ],
        [
         "24",
         "250",
         "2"
        ],
        [
         "25",
         "271",
         "2"
        ],
        [
         "26",
         "298",
         "2"
        ],
        [
         "27",
         "397",
         "2"
        ],
        [
         "28",
         "471",
         "2"
        ],
        [
         "29",
         "563",
         "2"
        ],
        [
         "30",
         "604",
         "2"
        ],
        [
         "31",
         "632",
         "2"
        ],
        [
         "32",
         "642",
         "2"
        ],
        [
         "33",
         "648",
         "2"
        ],
        [
         "34",
         "657",
         "2"
        ],
        [
         "35",
         "658",
         "2"
        ],
        [
         "36",
         "659",
         "2"
        ],
        [
         "37",
         "673",
         "2"
        ],
        [
         "38",
         "682",
         "2"
        ],
        [
         "39",
         "862",
         "2"
        ],
        [
         "40",
         "866",
         "2"
        ],
        [
         "41",
         "1036",
         "2"
        ],
        [
         "42",
         "1343",
         "2"
        ],
        [
         "43",
         "1344",
         "2"
        ],
        [
         "44",
         "1345",
         "2"
        ],
        [
         "45",
         "1388",
         "2"
        ],
        [
         "46",
         "1389",
         "2"
        ],
        [
         "47",
         "1407",
         "3"
        ]
       ],
       "shape": {
        "columns": 2,
        "rows": 48
       }
      },
      "text/html": [
       "<div>\n",
       "<style scoped>\n",
       "    .dataframe tbody tr th:only-of-type {\n",
       "        vertical-align: middle;\n",
       "    }\n",
       "\n",
       "    .dataframe tbody tr th {\n",
       "        vertical-align: top;\n",
       "    }\n",
       "\n",
       "    .dataframe thead th {\n",
       "        text-align: right;\n",
       "    }\n",
       "</style>\n",
       "<table border=\"1\" class=\"dataframe\">\n",
       "  <thead>\n",
       "    <tr style=\"text-align: right;\">\n",
       "      <th></th>\n",
       "      <th>id_viaje</th>\n",
       "      <th>num_precios_ofertados</th>\n",
       "    </tr>\n",
       "  </thead>\n",
       "  <tbody>\n",
       "    <tr>\n",
       "      <th>0</th>\n",
       "      <td>11</td>\n",
       "      <td>2</td>\n",
       "    </tr>\n",
       "    <tr>\n",
       "      <th>1</th>\n",
       "      <td>12</td>\n",
       "      <td>2</td>\n",
       "    </tr>\n",
       "    <tr>\n",
       "      <th>2</th>\n",
       "      <td>15</td>\n",
       "      <td>2</td>\n",
       "    </tr>\n",
       "    <tr>\n",
       "      <th>3</th>\n",
       "      <td>16</td>\n",
       "      <td>2</td>\n",
       "    </tr>\n",
       "    <tr>\n",
       "      <th>4</th>\n",
       "      <td>17</td>\n",
       "      <td>2</td>\n",
       "    </tr>\n",
       "    <tr>\n",
       "      <th>5</th>\n",
       "      <td>19</td>\n",
       "      <td>2</td>\n",
       "    </tr>\n",
       "    <tr>\n",
       "      <th>6</th>\n",
       "      <td>20</td>\n",
       "      <td>2</td>\n",
       "    </tr>\n",
       "    <tr>\n",
       "      <th>7</th>\n",
       "      <td>21</td>\n",
       "      <td>2</td>\n",
       "    </tr>\n",
       "    <tr>\n",
       "      <th>8</th>\n",
       "      <td>23</td>\n",
       "      <td>2</td>\n",
       "    </tr>\n",
       "    <tr>\n",
       "      <th>9</th>\n",
       "      <td>24</td>\n",
       "      <td>2</td>\n",
       "    </tr>\n",
       "    <tr>\n",
       "      <th>10</th>\n",
       "      <td>25</td>\n",
       "      <td>2</td>\n",
       "    </tr>\n",
       "    <tr>\n",
       "      <th>11</th>\n",
       "      <td>26</td>\n",
       "      <td>2</td>\n",
       "    </tr>\n",
       "    <tr>\n",
       "      <th>12</th>\n",
       "      <td>30</td>\n",
       "      <td>2</td>\n",
       "    </tr>\n",
       "    <tr>\n",
       "      <th>13</th>\n",
       "      <td>112</td>\n",
       "      <td>2</td>\n",
       "    </tr>\n",
       "    <tr>\n",
       "      <th>14</th>\n",
       "      <td>113</td>\n",
       "      <td>2</td>\n",
       "    </tr>\n",
       "    <tr>\n",
       "      <th>15</th>\n",
       "      <td>114</td>\n",
       "      <td>2</td>\n",
       "    </tr>\n",
       "    <tr>\n",
       "      <th>16</th>\n",
       "      <td>115</td>\n",
       "      <td>2</td>\n",
       "    </tr>\n",
       "    <tr>\n",
       "      <th>17</th>\n",
       "      <td>116</td>\n",
       "      <td>2</td>\n",
       "    </tr>\n",
       "    <tr>\n",
       "      <th>18</th>\n",
       "      <td>117</td>\n",
       "      <td>2</td>\n",
       "    </tr>\n",
       "    <tr>\n",
       "      <th>19</th>\n",
       "      <td>118</td>\n",
       "      <td>2</td>\n",
       "    </tr>\n",
       "    <tr>\n",
       "      <th>20</th>\n",
       "      <td>120</td>\n",
       "      <td>2</td>\n",
       "    </tr>\n",
       "    <tr>\n",
       "      <th>21</th>\n",
       "      <td>121</td>\n",
       "      <td>2</td>\n",
       "    </tr>\n",
       "    <tr>\n",
       "      <th>22</th>\n",
       "      <td>122</td>\n",
       "      <td>2</td>\n",
       "    </tr>\n",
       "    <tr>\n",
       "      <th>23</th>\n",
       "      <td>224</td>\n",
       "      <td>2</td>\n",
       "    </tr>\n",
       "    <tr>\n",
       "      <th>24</th>\n",
       "      <td>250</td>\n",
       "      <td>2</td>\n",
       "    </tr>\n",
       "    <tr>\n",
       "      <th>25</th>\n",
       "      <td>271</td>\n",
       "      <td>2</td>\n",
       "    </tr>\n",
       "    <tr>\n",
       "      <th>26</th>\n",
       "      <td>298</td>\n",
       "      <td>2</td>\n",
       "    </tr>\n",
       "    <tr>\n",
       "      <th>27</th>\n",
       "      <td>397</td>\n",
       "      <td>2</td>\n",
       "    </tr>\n",
       "    <tr>\n",
       "      <th>28</th>\n",
       "      <td>471</td>\n",
       "      <td>2</td>\n",
       "    </tr>\n",
       "    <tr>\n",
       "      <th>29</th>\n",
       "      <td>563</td>\n",
       "      <td>2</td>\n",
       "    </tr>\n",
       "    <tr>\n",
       "      <th>30</th>\n",
       "      <td>604</td>\n",
       "      <td>2</td>\n",
       "    </tr>\n",
       "    <tr>\n",
       "      <th>31</th>\n",
       "      <td>632</td>\n",
       "      <td>2</td>\n",
       "    </tr>\n",
       "    <tr>\n",
       "      <th>32</th>\n",
       "      <td>642</td>\n",
       "      <td>2</td>\n",
       "    </tr>\n",
       "    <tr>\n",
       "      <th>33</th>\n",
       "      <td>648</td>\n",
       "      <td>2</td>\n",
       "    </tr>\n",
       "    <tr>\n",
       "      <th>34</th>\n",
       "      <td>657</td>\n",
       "      <td>2</td>\n",
       "    </tr>\n",
       "    <tr>\n",
       "      <th>35</th>\n",
       "      <td>658</td>\n",
       "      <td>2</td>\n",
       "    </tr>\n",
       "    <tr>\n",
       "      <th>36</th>\n",
       "      <td>659</td>\n",
       "      <td>2</td>\n",
       "    </tr>\n",
       "    <tr>\n",
       "      <th>37</th>\n",
       "      <td>673</td>\n",
       "      <td>2</td>\n",
       "    </tr>\n",
       "    <tr>\n",
       "      <th>38</th>\n",
       "      <td>682</td>\n",
       "      <td>2</td>\n",
       "    </tr>\n",
       "    <tr>\n",
       "      <th>39</th>\n",
       "      <td>862</td>\n",
       "      <td>2</td>\n",
       "    </tr>\n",
       "    <tr>\n",
       "      <th>40</th>\n",
       "      <td>866</td>\n",
       "      <td>2</td>\n",
       "    </tr>\n",
       "    <tr>\n",
       "      <th>41</th>\n",
       "      <td>1036</td>\n",
       "      <td>2</td>\n",
       "    </tr>\n",
       "    <tr>\n",
       "      <th>42</th>\n",
       "      <td>1343</td>\n",
       "      <td>2</td>\n",
       "    </tr>\n",
       "    <tr>\n",
       "      <th>43</th>\n",
       "      <td>1344</td>\n",
       "      <td>2</td>\n",
       "    </tr>\n",
       "    <tr>\n",
       "      <th>44</th>\n",
       "      <td>1345</td>\n",
       "      <td>2</td>\n",
       "    </tr>\n",
       "    <tr>\n",
       "      <th>45</th>\n",
       "      <td>1388</td>\n",
       "      <td>2</td>\n",
       "    </tr>\n",
       "    <tr>\n",
       "      <th>46</th>\n",
       "      <td>1389</td>\n",
       "      <td>2</td>\n",
       "    </tr>\n",
       "    <tr>\n",
       "      <th>47</th>\n",
       "      <td>1407</td>\n",
       "      <td>3</td>\n",
       "    </tr>\n",
       "  </tbody>\n",
       "</table>\n",
       "</div>"
      ],
      "text/plain": [
       "    id_viaje  num_precios_ofertados\n",
       "0         11                      2\n",
       "1         12                      2\n",
       "2         15                      2\n",
       "3         16                      2\n",
       "4         17                      2\n",
       "5         19                      2\n",
       "6         20                      2\n",
       "7         21                      2\n",
       "8         23                      2\n",
       "9         24                      2\n",
       "10        25                      2\n",
       "11        26                      2\n",
       "12        30                      2\n",
       "13       112                      2\n",
       "14       113                      2\n",
       "15       114                      2\n",
       "16       115                      2\n",
       "17       116                      2\n",
       "18       117                      2\n",
       "19       118                      2\n",
       "20       120                      2\n",
       "21       121                      2\n",
       "22       122                      2\n",
       "23       224                      2\n",
       "24       250                      2\n",
       "25       271                      2\n",
       "26       298                      2\n",
       "27       397                      2\n",
       "28       471                      2\n",
       "29       563                      2\n",
       "30       604                      2\n",
       "31       632                      2\n",
       "32       642                      2\n",
       "33       648                      2\n",
       "34       657                      2\n",
       "35       658                      2\n",
       "36       659                      2\n",
       "37       673                      2\n",
       "38       682                      2\n",
       "39       862                      2\n",
       "40       866                      2\n",
       "41      1036                      2\n",
       "42      1343                      2\n",
       "43      1344                      2\n",
       "44      1345                      2\n",
       "45      1388                      2\n",
       "46      1389                      2\n",
       "47      1407                      3"
      ]
     },
     "execution_count": 104,
     "metadata": {},
     "output_type": "execute_result"
    }
   ],
   "source": [
    "df_viaje_con_precios_distintos = exp.extraer_datos_bbdd_y_convertir_en_df(lista_columnas,query_extraccion)\n",
    "df_viaje_con_precios_distintos"
   ]
  },
  {
   "cell_type": "markdown",
   "id": "1e0e81fc",
   "metadata": {},
   "source": [
    "## Turismo emisor"
   ]
  },
  {
   "cell_type": "code",
   "execution_count": 105,
   "id": "5d3559ee",
   "metadata": {},
   "outputs": [],
   "source": [
    "query_extraccion = '''SELECT pd.*,\n",
    "\tccaa_origen,\n",
    "\tnum_turistas,\n",
    "\tnum_pernoctaciones,\n",
    "\tano,\n",
    "\tmes\n",
    "FROM turismo_emisor te \n",
    "INNER JOIN pais_destino pd ON te.id_pais_destino = pd.id_pais_destino\n",
    "ORDER BY ano,mes ;'''"
   ]
  },
  {
   "cell_type": "code",
   "execution_count": 106,
   "id": "bed61adc",
   "metadata": {},
   "outputs": [],
   "source": [
    "lista_columnas = [ 'id_pais_destino', 'nombre_pais_destino', 'nombre_continente', 'ccaa_origen','num_turistas', 'num_pernoctaciones', 'ano', 'mes']"
   ]
  },
  {
   "cell_type": "code",
   "execution_count": 107,
   "id": "10a69c06",
   "metadata": {},
   "outputs": [
    {
     "data": {
      "application/vnd.microsoft.datawrangler.viewer.v0+json": {
       "columns": [
        {
         "name": "index",
         "rawType": "int64",
         "type": "integer"
        },
        {
         "name": "id_pais_destino",
         "rawType": "int64",
         "type": "integer"
        },
        {
         "name": "nombre_pais_destino",
         "rawType": "object",
         "type": "string"
        },
        {
         "name": "nombre_continente",
         "rawType": "object",
         "type": "string"
        },
        {
         "name": "ccaa_origen",
         "rawType": "object",
         "type": "string"
        },
        {
         "name": "num_turistas",
         "rawType": "int64",
         "type": "integer"
        },
        {
         "name": "num_pernoctaciones",
         "rawType": "int64",
         "type": "integer"
        },
        {
         "name": "ano",
         "rawType": "int64",
         "type": "integer"
        },
        {
         "name": "mes",
         "rawType": "int64",
         "type": "integer"
        }
       ],
       "conversionMethod": "pd.DataFrame",
       "ref": "74793bab-5afe-44f9-b0bd-f40133beb3f0",
       "rows": [
        [
         "0",
         "8",
         "Argentina",
         "América",
         "Andalucía",
         "419",
         "3616",
         "2019",
         "7"
        ],
        [
         "1",
         "22",
         "Bolivia",
         "América",
         "Andalucía",
         "61",
         "486",
         "2019",
         "7"
        ],
        [
         "2",
         "25",
         "Brasil",
         "América",
         "Andalucía",
         "277",
         "2214",
         "2019",
         "7"
        ],
        [
         "3",
         "32",
         "Canada",
         "América",
         "Andalucía",
         "483",
         "6159",
         "2019",
         "7"
        ],
        [
         "4",
         "36",
         "Chile",
         "América",
         "Andalucía",
         "242",
         "2068",
         "2019",
         "7"
        ],
        [
         "5",
         "39",
         "Colombia",
         "América",
         "Andalucía",
         "423",
         "3575",
         "2019",
         "7"
        ],
        [
         "6",
         "42",
         "Costa Rica",
         "América",
         "Andalucía",
         "139",
         "1200",
         "2019",
         "7"
        ],
        [
         "7",
         "44",
         "Cuba",
         "América",
         "Andalucía",
         "694",
         "5859",
         "2019",
         "7"
        ],
        [
         "8",
         "49",
         "Ecuador",
         "América",
         "Andalucía",
         "142",
         "1301",
         "2019",
         "7"
        ],
        [
         "9",
         "51",
         "El Salvador",
         "América",
         "Andalucía",
         "31",
         "256",
         "2019",
         "7"
        ],
        [
         "10",
         "56",
         "Estados Unidos",
         "América",
         "Andalucía",
         "6768",
         "67796",
         "2019",
         "7"
        ],
        [
         "11",
         "70",
         "Guatemala",
         "América",
         "Andalucía",
         "44",
         "311",
         "2019",
         "7"
        ],
        [
         "12",
         "115",
         "Mexico",
         "América",
         "Andalucía",
         "1025",
         "7295",
         "2019",
         "7"
        ],
        [
         "13",
         "134",
         "Panama",
         "América",
         "Andalucía",
         "72",
         "514",
         "2019",
         "7"
        ],
        [
         "14",
         "136",
         "Paraguay",
         "América",
         "Andalucía",
         "52",
         "400",
         "2019",
         "7"
        ],
        [
         "15",
         "137",
         "Peru",
         "América",
         "Andalucía",
         "430",
         "3989",
         "2019",
         "7"
        ],
        [
         "16",
         "146",
         "Republica Dominicana",
         "América",
         "Andalucía",
         "1139",
         "9139",
         "2019",
         "7"
        ],
        [
         "17",
         "181",
         "Uruguay",
         "América",
         "Andalucía",
         "39",
         "345",
         "2019",
         "7"
        ],
        [
         "18",
         "183",
         "Venezuela",
         "América",
         "Andalucía",
         "39",
         "265",
         "2019",
         "7"
        ],
        [
         "19",
         "6",
         "Arabia Saudi",
         "Asia",
         "Andalucía",
         "118",
         "850",
         "2019",
         "7"
        ],
        [
         "20",
         "30",
         "Camboya",
         "Asia",
         "Andalucía",
         "35",
         "248",
         "2019",
         "7"
        ],
        [
         "21",
         "37",
         "China",
         "Asia",
         "Andalucía",
         "563",
         "4192",
         "2019",
         "7"
        ],
        [
         "22",
         "40",
         "Corea Del Sur",
         "Asia",
         "Andalucía",
         "50",
         "253",
         "2019",
         "7"
        ],
        [
         "23",
         "52",
         "Emiratos Arabes Unidos",
         "Asia",
         "Andalucía",
         "521",
         "4242",
         "2019",
         "7"
        ],
        [
         "24",
         "60",
         "Filipinas",
         "Asia",
         "Andalucía",
         "56",
         "419",
         "2019",
         "7"
        ],
        [
         "25",
         "77",
         "India",
         "Asia",
         "Andalucía",
         "167",
         "1307",
         "2019",
         "7"
        ],
        [
         "26",
         "78",
         "Indonesia",
         "Asia",
         "Andalucía",
         "227",
         "2505",
         "2019",
         "7"
        ],
        [
         "27",
         "79",
         "Iran",
         "Asia",
         "Andalucía",
         "39",
         "441",
         "2019",
         "7"
        ],
        [
         "28",
         "86",
         "Israel",
         "Asia",
         "Andalucía",
         "751",
         "5849",
         "2019",
         "7"
        ],
        [
         "29",
         "89",
         "Japon",
         "Asia",
         "Andalucía",
         "566",
         "6150",
         "2019",
         "7"
        ],
        [
         "30",
         "90",
         "Jordania",
         "Asia",
         "Andalucía",
         "125",
         "723",
         "2019",
         "7"
        ],
        [
         "31",
         "99",
         "Libano",
         "Asia",
         "Andalucía",
         "52",
         "339",
         "2019",
         "7"
        ],
        [
         "32",
         "107",
         "Malasia",
         "Asia",
         "Andalucía",
         "76",
         "890",
         "2019",
         "7"
        ],
        [
         "33",
         "108",
         "Maldivas",
         "Asia",
         "Andalucía",
         "156",
         "1325",
         "2019",
         "7"
        ],
        [
         "34",
         "123",
         "Nepal",
         "Asia",
         "Andalucía",
         "36",
         "468",
         "2019",
         "7"
        ],
        [
         "35",
         "142",
         "Qatar",
         "Asia",
         "Andalucía",
         "326",
         "1216",
         "2019",
         "7"
        ],
        [
         "36",
         "161",
         "Singapur",
         "Asia",
         "Andalucía",
         "57",
         "402",
         "2019",
         "7"
        ],
        [
         "37",
         "164",
         "Sri Lanka",
         "Asia",
         "Andalucía",
         "39",
         "361",
         "2019",
         "7"
        ],
        [
         "38",
         "169",
         "Tailandia",
         "Asia",
         "Andalucía",
         "347",
         "3190",
         "2019",
         "7"
        ],
        [
         "39",
         "184",
         "Vietnam",
         "Asia",
         "Andalucía",
         "157",
         "1740",
         "2019",
         "7"
        ],
        [
         "40",
         "1",
         "Albania",
         "Europa",
         "Andalucía",
         "78",
         "682",
         "2019",
         "7"
        ],
        [
         "41",
         "2",
         "Alemania",
         "Europa",
         "Andalucía",
         "16448",
         "106953",
         "2019",
         "7"
        ],
        [
         "42",
         "3",
         "Andorra",
         "Europa",
         "Andalucía",
         "1281",
         "6337",
         "2019",
         "7"
        ],
        [
         "43",
         "9",
         "Armenia",
         "Asia",
         "Andalucía",
         "60",
         "691",
         "2019",
         "7"
        ],
        [
         "44",
         "12",
         "Austria",
         "Europa",
         "Andalucía",
         "2971",
         "19934",
         "2019",
         "7"
        ],
        [
         "45",
         "23",
         "Bosnia Y Herzegovina",
         "Europa",
         "Andalucía",
         "61",
         "469",
         "2019",
         "7"
        ],
        [
         "46",
         "26",
         "Bulgaria",
         "Europa",
         "Andalucía",
         "683",
         "6421",
         "2019",
         "7"
        ],
        [
         "47",
         "19",
         "Belgica",
         "Europa",
         "Andalucía",
         "6050",
         "39538",
         "2019",
         "7"
        ],
        [
         "48",
         "38",
         "Chipre",
         "Europa",
         "Andalucía",
         "77",
         "661",
         "2019",
         "7"
        ],
        [
         "49",
         "43",
         "Croacia",
         "Europa",
         "Andalucía",
         "2164",
         "19939",
         "2019",
         "7"
        ]
       ],
       "shape": {
        "columns": 8,
        "rows": 71097
       }
      },
      "text/html": [
       "<div>\n",
       "<style scoped>\n",
       "    .dataframe tbody tr th:only-of-type {\n",
       "        vertical-align: middle;\n",
       "    }\n",
       "\n",
       "    .dataframe tbody tr th {\n",
       "        vertical-align: top;\n",
       "    }\n",
       "\n",
       "    .dataframe thead th {\n",
       "        text-align: right;\n",
       "    }\n",
       "</style>\n",
       "<table border=\"1\" class=\"dataframe\">\n",
       "  <thead>\n",
       "    <tr style=\"text-align: right;\">\n",
       "      <th></th>\n",
       "      <th>id_pais_destino</th>\n",
       "      <th>nombre_pais_destino</th>\n",
       "      <th>nombre_continente</th>\n",
       "      <th>ccaa_origen</th>\n",
       "      <th>num_turistas</th>\n",
       "      <th>num_pernoctaciones</th>\n",
       "      <th>ano</th>\n",
       "      <th>mes</th>\n",
       "    </tr>\n",
       "  </thead>\n",
       "  <tbody>\n",
       "    <tr>\n",
       "      <th>0</th>\n",
       "      <td>8</td>\n",
       "      <td>Argentina</td>\n",
       "      <td>América</td>\n",
       "      <td>Andalucía</td>\n",
       "      <td>419</td>\n",
       "      <td>3616</td>\n",
       "      <td>2019</td>\n",
       "      <td>7</td>\n",
       "    </tr>\n",
       "    <tr>\n",
       "      <th>1</th>\n",
       "      <td>22</td>\n",
       "      <td>Bolivia</td>\n",
       "      <td>América</td>\n",
       "      <td>Andalucía</td>\n",
       "      <td>61</td>\n",
       "      <td>486</td>\n",
       "      <td>2019</td>\n",
       "      <td>7</td>\n",
       "    </tr>\n",
       "    <tr>\n",
       "      <th>2</th>\n",
       "      <td>25</td>\n",
       "      <td>Brasil</td>\n",
       "      <td>América</td>\n",
       "      <td>Andalucía</td>\n",
       "      <td>277</td>\n",
       "      <td>2214</td>\n",
       "      <td>2019</td>\n",
       "      <td>7</td>\n",
       "    </tr>\n",
       "    <tr>\n",
       "      <th>3</th>\n",
       "      <td>32</td>\n",
       "      <td>Canada</td>\n",
       "      <td>América</td>\n",
       "      <td>Andalucía</td>\n",
       "      <td>483</td>\n",
       "      <td>6159</td>\n",
       "      <td>2019</td>\n",
       "      <td>7</td>\n",
       "    </tr>\n",
       "    <tr>\n",
       "      <th>4</th>\n",
       "      <td>36</td>\n",
       "      <td>Chile</td>\n",
       "      <td>América</td>\n",
       "      <td>Andalucía</td>\n",
       "      <td>242</td>\n",
       "      <td>2068</td>\n",
       "      <td>2019</td>\n",
       "      <td>7</td>\n",
       "    </tr>\n",
       "    <tr>\n",
       "      <th>...</th>\n",
       "      <td>...</td>\n",
       "      <td>...</td>\n",
       "      <td>...</td>\n",
       "      <td>...</td>\n",
       "      <td>...</td>\n",
       "      <td>...</td>\n",
       "      <td>...</td>\n",
       "      <td>...</td>\n",
       "    </tr>\n",
       "    <tr>\n",
       "      <th>71092</th>\n",
       "      <td>159</td>\n",
       "      <td>Seychelles</td>\n",
       "      <td>África</td>\n",
       "      <td>Total Nacional</td>\n",
       "      <td>146</td>\n",
       "      <td>1105</td>\n",
       "      <td>2024</td>\n",
       "      <td>12</td>\n",
       "    </tr>\n",
       "    <tr>\n",
       "      <th>71093</th>\n",
       "      <td>165</td>\n",
       "      <td>Sudafrica</td>\n",
       "      <td>África</td>\n",
       "      <td>Total Nacional</td>\n",
       "      <td>986</td>\n",
       "      <td>9019</td>\n",
       "      <td>2024</td>\n",
       "      <td>12</td>\n",
       "    </tr>\n",
       "    <tr>\n",
       "      <th>71094</th>\n",
       "      <td>171</td>\n",
       "      <td>Tanzania</td>\n",
       "      <td>África</td>\n",
       "      <td>Total Nacional</td>\n",
       "      <td>590</td>\n",
       "      <td>5237</td>\n",
       "      <td>2024</td>\n",
       "      <td>12</td>\n",
       "    </tr>\n",
       "    <tr>\n",
       "      <th>71095</th>\n",
       "      <td>175</td>\n",
       "      <td>Tunez</td>\n",
       "      <td>África</td>\n",
       "      <td>Total Nacional</td>\n",
       "      <td>975</td>\n",
       "      <td>5012</td>\n",
       "      <td>2024</td>\n",
       "      <td>12</td>\n",
       "    </tr>\n",
       "    <tr>\n",
       "      <th>71096</th>\n",
       "      <td>180</td>\n",
       "      <td>Uganda</td>\n",
       "      <td>África</td>\n",
       "      <td>Total Nacional</td>\n",
       "      <td>69</td>\n",
       "      <td>843</td>\n",
       "      <td>2024</td>\n",
       "      <td>12</td>\n",
       "    </tr>\n",
       "  </tbody>\n",
       "</table>\n",
       "<p>71097 rows × 8 columns</p>\n",
       "</div>"
      ],
      "text/plain": [
       "       id_pais_destino nombre_pais_destino nombre_continente     ccaa_origen  \\\n",
       "0                    8           Argentina           América       Andalucía   \n",
       "1                   22             Bolivia           América       Andalucía   \n",
       "2                   25              Brasil           América       Andalucía   \n",
       "3                   32              Canada           América       Andalucía   \n",
       "4                   36               Chile           América       Andalucía   \n",
       "...                ...                 ...               ...             ...   \n",
       "71092              159          Seychelles            África  Total Nacional   \n",
       "71093              165           Sudafrica            África  Total Nacional   \n",
       "71094              171            Tanzania            África  Total Nacional   \n",
       "71095              175               Tunez            África  Total Nacional   \n",
       "71096              180              Uganda            África  Total Nacional   \n",
       "\n",
       "       num_turistas  num_pernoctaciones   ano  mes  \n",
       "0               419                3616  2019    7  \n",
       "1                61                 486  2019    7  \n",
       "2               277                2214  2019    7  \n",
       "3               483                6159  2019    7  \n",
       "4               242                2068  2019    7  \n",
       "...             ...                 ...   ...  ...  \n",
       "71092           146                1105  2024   12  \n",
       "71093           986                9019  2024   12  \n",
       "71094           590                5237  2024   12  \n",
       "71095           975                5012  2024   12  \n",
       "71096            69                 843  2024   12  \n",
       "\n",
       "[71097 rows x 8 columns]"
      ]
     },
     "execution_count": 107,
     "metadata": {},
     "output_type": "execute_result"
    }
   ],
   "source": [
    "df_turismo_emisor = exp.extraer_datos_bbdd_y_convertir_en_df(lista_columnas,query_extraccion)\n",
    "df_turismo_emisor"
   ]
  },
  {
   "cell_type": "code",
   "execution_count": 108,
   "id": "bb4d0c65",
   "metadata": {},
   "outputs": [],
   "source": [
    "#conn.rollback()"
   ]
  },
  {
   "cell_type": "code",
   "execution_count": 109,
   "id": "6456bce2",
   "metadata": {},
   "outputs": [
    {
     "data": {
      "application/vnd.microsoft.datawrangler.viewer.v0+json": {
       "columns": [
        {
         "name": "nombre_pais_destino",
         "rawType": "object",
         "type": "string"
        },
        {
         "name": "num_turistas",
         "rawType": "int64",
         "type": "integer"
        },
        {
         "name": "num_pernoctaciones",
         "rawType": "int64",
         "type": "integer"
        }
       ],
       "conversionMethod": "pd.DataFrame",
       "ref": "a7735a07-6445-4cfc-96ad-df705259d892",
       "rows": [
        [
         "Albania",
         "180212",
         "1115910"
        ],
        [
         "Alemania",
         "11949860",
         "68516775"
        ],
        [
         "Andorra",
         "9323631",
         "24769193"
        ],
        [
         "Angola",
         "9669",
         "79896"
        ],
        [
         "Antigua",
         "220",
         "1900"
        ],
        [
         "Arabia Saudi",
         "150581",
         "970902"
        ],
        [
         "Argelia",
         "128466",
         "760959"
        ],
        [
         "Argentina",
         "615534",
         "6812392"
        ],
        [
         "Armenia",
         "17238",
         "121690"
        ],
        [
         "Australia",
         "89860",
         "1047125"
        ],
        [
         "Austria",
         "2122148",
         "10722269"
        ],
        [
         "Azerbaiyan",
         "8510",
         "49956"
        ],
        [
         "Bahamas",
         "8778",
         "73412"
        ],
        [
         "Bahrein",
         "4783",
         "27400"
        ],
        [
         "Bangladesh",
         "7417",
         "51555"
        ],
        [
         "Barbados",
         "88",
         "464"
        ],
        [
         "Belarus",
         "7958",
         "66935"
        ],
        [
         "Belgica",
         "4404844",
         "21455895"
        ],
        [
         "Belice",
         "370",
         "3444"
        ],
        [
         "Benin",
         "2289",
         "21851"
        ],
        [
         "Bolivia",
         "72984",
         "867552"
        ],
        [
         "Bosnia Y Herzegovina",
         "44002",
         "265285"
        ],
        [
         "Botsuana",
         "8000",
         "74034"
        ],
        [
         "Brasil",
         "489211",
         "4434801"
        ],
        [
         "Bulgaria",
         "704904",
         "6837015"
        ],
        [
         "Burkina Faso",
         "530",
         "4513"
        ],
        [
         "Butan",
         "2076",
         "17576"
        ],
        [
         "Cabo Verde",
         "66925",
         "509686"
        ],
        [
         "Camboya",
         "14574",
         "130507"
        ],
        [
         "Camerun",
         "3730",
         "29219"
        ],
        [
         "Canada",
         "292459",
         "2742709"
        ],
        [
         "Chad",
         "128",
         "434"
        ],
        [
         "Chile",
         "249898",
         "2354051"
        ],
        [
         "China",
         "394304",
         "3442994"
        ],
        [
         "Chipre",
         "91540",
         "701163"
        ],
        [
         "Colombia",
         "791653",
         "6763141"
        ],
        [
         "Corea Del Sur",
         "60035",
         "521964"
        ],
        [
         "Costa De Marfil",
         "14691",
         "110872"
        ],
        [
         "Costa Rica",
         "216158",
         "2088236"
        ],
        [
         "Croacia",
         "859599",
         "6477885"
        ],
        [
         "Cuba",
         "305892",
         "2936729"
        ],
        [
         "Dinamarca",
         "1205088",
         "6023625"
        ],
        [
         "Djibouti",
         "385",
         "3280"
        ],
        [
         "Ecuador",
         "225256",
         "2240201"
        ],
        [
         "Egipto",
         "522583",
         "3484845"
        ],
        [
         "El Salvador",
         "18814",
         "146730"
        ],
        [
         "Emiratos Arabes Unidos",
         "688472",
         "4503807"
        ],
        [
         "Eslovenia",
         "245955",
         "1641577"
        ],
        [
         "Estados Unidos",
         "5347456",
         "49522145"
        ],
        [
         "Estonia",
         "115789",
         "807288"
        ]
       ],
       "shape": {
        "columns": 2,
        "rows": 158
       }
      },
      "text/html": [
       "<div>\n",
       "<style scoped>\n",
       "    .dataframe tbody tr th:only-of-type {\n",
       "        vertical-align: middle;\n",
       "    }\n",
       "\n",
       "    .dataframe tbody tr th {\n",
       "        vertical-align: top;\n",
       "    }\n",
       "\n",
       "    .dataframe thead th {\n",
       "        text-align: right;\n",
       "    }\n",
       "</style>\n",
       "<table border=\"1\" class=\"dataframe\">\n",
       "  <thead>\n",
       "    <tr style=\"text-align: right;\">\n",
       "      <th></th>\n",
       "      <th>num_turistas</th>\n",
       "      <th>num_pernoctaciones</th>\n",
       "    </tr>\n",
       "    <tr>\n",
       "      <th>nombre_pais_destino</th>\n",
       "      <th></th>\n",
       "      <th></th>\n",
       "    </tr>\n",
       "  </thead>\n",
       "  <tbody>\n",
       "    <tr>\n",
       "      <th>Albania</th>\n",
       "      <td>180212</td>\n",
       "      <td>1115910</td>\n",
       "    </tr>\n",
       "    <tr>\n",
       "      <th>Alemania</th>\n",
       "      <td>11949860</td>\n",
       "      <td>68516775</td>\n",
       "    </tr>\n",
       "    <tr>\n",
       "      <th>Andorra</th>\n",
       "      <td>9323631</td>\n",
       "      <td>24769193</td>\n",
       "    </tr>\n",
       "    <tr>\n",
       "      <th>Angola</th>\n",
       "      <td>9669</td>\n",
       "      <td>79896</td>\n",
       "    </tr>\n",
       "    <tr>\n",
       "      <th>Antigua</th>\n",
       "      <td>220</td>\n",
       "      <td>1900</td>\n",
       "    </tr>\n",
       "    <tr>\n",
       "      <th>...</th>\n",
       "      <td>...</td>\n",
       "      <td>...</td>\n",
       "    </tr>\n",
       "    <tr>\n",
       "      <th>Venezuela</th>\n",
       "      <td>106829</td>\n",
       "      <td>803330</td>\n",
       "    </tr>\n",
       "    <tr>\n",
       "      <th>Vietnam</th>\n",
       "      <td>130169</td>\n",
       "      <td>1477676</td>\n",
       "    </tr>\n",
       "    <tr>\n",
       "      <th>Yemen</th>\n",
       "      <td>222</td>\n",
       "      <td>2128</td>\n",
       "    </tr>\n",
       "    <tr>\n",
       "      <th>Zambia</th>\n",
       "      <td>382</td>\n",
       "      <td>2881</td>\n",
       "    </tr>\n",
       "    <tr>\n",
       "      <th>Zimbabue</th>\n",
       "      <td>3364</td>\n",
       "      <td>34893</td>\n",
       "    </tr>\n",
       "  </tbody>\n",
       "</table>\n",
       "<p>158 rows × 2 columns</p>\n",
       "</div>"
      ],
      "text/plain": [
       "                     num_turistas  num_pernoctaciones\n",
       "nombre_pais_destino                                  \n",
       "Albania                    180212             1115910\n",
       "Alemania                 11949860            68516775\n",
       "Andorra                   9323631            24769193\n",
       "Angola                       9669               79896\n",
       "Antigua                       220                1900\n",
       "...                           ...                 ...\n",
       "Venezuela                  106829              803330\n",
       "Vietnam                    130169             1477676\n",
       "Yemen                         222                2128\n",
       "Zambia                        382                2881\n",
       "Zimbabue                     3364               34893\n",
       "\n",
       "[158 rows x 2 columns]"
      ]
     },
     "execution_count": 109,
     "metadata": {},
     "output_type": "execute_result"
    }
   ],
   "source": [
    "df_turismo_emisor_agrupado = df_turismo_emisor.groupby('nombre_pais_destino')[['num_turistas', 'num_pernoctaciones']].sum()\n",
    "df_turismo_emisor_agrupado"
   ]
  },
  {
   "cell_type": "markdown",
   "id": "3c062e1f",
   "metadata": {},
   "source": [
    "\n",
    "## Consulta por paises con los viajes demandados por el turismo Español y el num. viajes ofertados por TUI con la localización de la pag. web para ellos."
   ]
  },
  {
   "cell_type": "code",
   "execution_count": 110,
   "id": "6f081d9a",
   "metadata": {},
   "outputs": [
    {
     "data": {
      "application/vnd.microsoft.datawrangler.viewer.v0+json": {
       "columns": [
        {
         "name": "index",
         "rawType": "int64",
         "type": "integer"
        },
        {
         "name": "nombre_continente",
         "rawType": "object",
         "type": "string"
        },
        {
         "name": "nombre_pais_destino",
         "rawType": "object",
         "type": "string"
        },
        {
         "name": "suma_turistas",
         "rawType": "int64",
         "type": "integer"
        },
        {
         "name": "suma_pernoctaciones",
         "rawType": "int64",
         "type": "integer"
        },
        {
         "name": "promedio_pernoctaciones_turismo_emisor",
         "rawType": "int64",
         "type": "integer"
        },
        {
         "name": "num_viajes_ofertados_tui",
         "rawType": "int64",
         "type": "integer"
        },
        {
         "name": "promedio_pernoctaciones_viajes_tui",
         "rawType": "object",
         "type": "unknown"
        }
       ],
       "conversionMethod": "pd.DataFrame",
       "ref": "50c1624f-6482-4dfa-b2de-dc28005455de",
       "rows": [
        [
         "0",
         "Europa",
         "Albania",
         "180212",
         "1115910",
         "6",
         "5",
         "9"
        ],
        [
         "1",
         "Europa",
         "Alemania",
         "11949860",
         "68516775",
         "5",
         "20",
         "7"
        ],
        [
         "2",
         "Europa",
         "Andorra",
         "9323631",
         "24769193",
         "2",
         "0",
         null
        ],
        [
         "3",
         "África",
         "Angola",
         "9669",
         "79896",
         "8",
         "0",
         null
        ],
        [
         "4",
         "América",
         "Antigua",
         "220",
         "1900",
         "8",
         "2",
         "7"
        ],
        [
         "5",
         "Asia",
         "Arabia Saudi",
         "150581",
         "970902",
         "6",
         "1",
         "7"
        ],
        [
         "6",
         "África",
         "Argelia",
         "128466",
         "760959",
         "5",
         "0",
         null
        ],
        [
         "7",
         "América",
         "Argentina",
         "615534",
         "6812392",
         "11",
         "26",
         "11"
        ],
        [
         "8",
         "Asia",
         "Armenia",
         "17238",
         "121690",
         "7",
         "3",
         "8"
        ],
        [
         "9",
         "Oceanía",
         "Australia",
         "89860",
         "1047125",
         "11",
         "17",
         "12"
        ],
        [
         "10",
         "Europa",
         "Austria",
         "2122148",
         "10722269",
         "5",
         "21",
         "7"
        ],
        [
         "11",
         "Asia",
         "Azerbaiyan",
         "8510",
         "49956",
         "5",
         "0",
         null
        ],
        [
         "12",
         "América",
         "Bahamas",
         "8778",
         "73412",
         "8",
         "7",
         "6"
        ],
        [
         "13",
         "Asia",
         "Bahrein",
         "4783",
         "27400",
         "5",
         "0",
         null
        ],
        [
         "14",
         "Asia",
         "Bangladesh",
         "7417",
         "51555",
         "6",
         "0",
         null
        ],
        [
         "15",
         "América",
         "Barbados",
         "88",
         "464",
         "5",
         "2",
         "7"
        ],
        [
         "16",
         "Europa",
         "Belarus",
         "7958",
         "66935",
         "8",
         "0",
         null
        ],
        [
         "17",
         "Europa",
         "Belgica",
         "4404844",
         "21455895",
         "4",
         "5",
         "7"
        ],
        [
         "18",
         "América",
         "Belice",
         "370",
         "3444",
         "9",
         "2",
         "8"
        ],
        [
         "19",
         "África",
         "Benin",
         "2289",
         "21851",
         "9",
         "0",
         null
        ],
        [
         "20",
         "América",
         "Bolivia",
         "72984",
         "867552",
         "11",
         "3",
         "14"
        ],
        [
         "21",
         "Europa",
         "Bosnia Y Herzegovina",
         "44002",
         "265285",
         "6",
         "3",
         "12"
        ],
        [
         "22",
         "África",
         "Botsuana",
         "8000",
         "74034",
         "9",
         "12",
         "12"
        ],
        [
         "23",
         "América",
         "Brasil",
         "489211",
         "4434801",
         "9",
         "11",
         "10"
        ],
        [
         "24",
         "Europa",
         "Bulgaria",
         "704904",
         "6837015",
         "9",
         "4",
         "7"
        ],
        [
         "25",
         "África",
         "Burkina Faso",
         "530",
         "4513",
         "8",
         "0",
         null
        ],
        [
         "26",
         "Asia",
         "Butan",
         "2076",
         "17576",
         "8",
         "6",
         "9"
        ],
        [
         "27",
         "África",
         "Cabo Verde",
         "66925",
         "509686",
         "7",
         "3",
         "7"
        ],
        [
         "28",
         "Asia",
         "Camboya",
         "14574",
         "130507",
         "8",
         "16",
         "12"
        ],
        [
         "29",
         "África",
         "Camerun",
         "3730",
         "29219",
         "7",
         "0",
         null
        ],
        [
         "30",
         "América",
         "Canada",
         "292459",
         "2742709",
         "9",
         "59",
         "9"
        ],
        [
         "31",
         "África",
         "Chad",
         "128",
         "434",
         "3",
         "0",
         null
        ],
        [
         "32",
         "América",
         "Chile",
         "249898",
         "2354051",
         "9",
         "21",
         "11"
        ],
        [
         "33",
         "Asia",
         "China",
         "394304",
         "3442994",
         "8",
         "31",
         "9"
        ],
        [
         "34",
         "Europa",
         "Chipre",
         "91540",
         "701163",
         "7",
         "2",
         "5"
        ],
        [
         "35",
         "América",
         "Colombia",
         "791653",
         "6763141",
         "8",
         "19",
         "9"
        ],
        [
         "36",
         "Asia",
         "Corea Del Sur",
         "60035",
         "521964",
         "8",
         "5",
         "9"
        ],
        [
         "37",
         "África",
         "Costa De Marfil",
         "14691",
         "110872",
         "7",
         "0",
         null
        ],
        [
         "38",
         "América",
         "Costa Rica",
         "216158",
         "2088236",
         "9",
         "60",
         "10"
        ],
        [
         "39",
         "Europa",
         "Croacia",
         "859599",
         "6477885",
         "7",
         "7",
         "10"
        ],
        [
         "40",
         "América",
         "Cuba",
         "305892",
         "2936729",
         "9",
         "0",
         null
        ],
        [
         "41",
         "Europa",
         "Dinamarca",
         "1205088",
         "6023625",
         "4",
         "5",
         "8"
        ],
        [
         "42",
         "África",
         "Djibouti",
         "385",
         "3280",
         "8",
         "0",
         null
        ],
        [
         "43",
         "América",
         "Ecuador",
         "225256",
         "2240201",
         "9",
         "6",
         "10"
        ],
        [
         "44",
         "África",
         "Egipto",
         "522583",
         "3484845",
         "6",
         "37",
         "8"
        ],
        [
         "45",
         "América",
         "El Salvador",
         "18814",
         "146730",
         "7",
         "2",
         "9"
        ],
        [
         "46",
         "Asia",
         "Emiratos Arabes Unidos",
         "688472",
         "4503807",
         "6",
         "10",
         "6"
        ],
        [
         "47",
         "Europa",
         "Eslovenia",
         "245955",
         "1641577",
         "6",
         "5",
         "8"
        ],
        [
         "48",
         "América",
         "Estados Unidos",
         "5347456",
         "49522145",
         "9",
         "159",
         "8"
        ],
        [
         "49",
         "Europa",
         "Estonia",
         "115789",
         "807288",
         "6",
         "6",
         "8"
        ]
       ],
       "shape": {
        "columns": 7,
        "rows": 158
       }
      },
      "text/html": [
       "<div>\n",
       "<style scoped>\n",
       "    .dataframe tbody tr th:only-of-type {\n",
       "        vertical-align: middle;\n",
       "    }\n",
       "\n",
       "    .dataframe tbody tr th {\n",
       "        vertical-align: top;\n",
       "    }\n",
       "\n",
       "    .dataframe thead th {\n",
       "        text-align: right;\n",
       "    }\n",
       "</style>\n",
       "<table border=\"1\" class=\"dataframe\">\n",
       "  <thead>\n",
       "    <tr style=\"text-align: right;\">\n",
       "      <th></th>\n",
       "      <th>nombre_continente</th>\n",
       "      <th>nombre_pais_destino</th>\n",
       "      <th>suma_turistas</th>\n",
       "      <th>suma_pernoctaciones</th>\n",
       "      <th>promedio_pernoctaciones_turismo_emisor</th>\n",
       "      <th>num_viajes_ofertados_tui</th>\n",
       "      <th>promedio_pernoctaciones_viajes_tui</th>\n",
       "    </tr>\n",
       "  </thead>\n",
       "  <tbody>\n",
       "    <tr>\n",
       "      <th>0</th>\n",
       "      <td>Europa</td>\n",
       "      <td>Albania</td>\n",
       "      <td>180212</td>\n",
       "      <td>1115910</td>\n",
       "      <td>6</td>\n",
       "      <td>5</td>\n",
       "      <td>9</td>\n",
       "    </tr>\n",
       "    <tr>\n",
       "      <th>1</th>\n",
       "      <td>Europa</td>\n",
       "      <td>Alemania</td>\n",
       "      <td>11949860</td>\n",
       "      <td>68516775</td>\n",
       "      <td>5</td>\n",
       "      <td>20</td>\n",
       "      <td>7</td>\n",
       "    </tr>\n",
       "    <tr>\n",
       "      <th>2</th>\n",
       "      <td>Europa</td>\n",
       "      <td>Andorra</td>\n",
       "      <td>9323631</td>\n",
       "      <td>24769193</td>\n",
       "      <td>2</td>\n",
       "      <td>0</td>\n",
       "      <td>None</td>\n",
       "    </tr>\n",
       "    <tr>\n",
       "      <th>3</th>\n",
       "      <td>África</td>\n",
       "      <td>Angola</td>\n",
       "      <td>9669</td>\n",
       "      <td>79896</td>\n",
       "      <td>8</td>\n",
       "      <td>0</td>\n",
       "      <td>None</td>\n",
       "    </tr>\n",
       "    <tr>\n",
       "      <th>4</th>\n",
       "      <td>América</td>\n",
       "      <td>Antigua</td>\n",
       "      <td>220</td>\n",
       "      <td>1900</td>\n",
       "      <td>8</td>\n",
       "      <td>2</td>\n",
       "      <td>7</td>\n",
       "    </tr>\n",
       "    <tr>\n",
       "      <th>...</th>\n",
       "      <td>...</td>\n",
       "      <td>...</td>\n",
       "      <td>...</td>\n",
       "      <td>...</td>\n",
       "      <td>...</td>\n",
       "      <td>...</td>\n",
       "      <td>...</td>\n",
       "    </tr>\n",
       "    <tr>\n",
       "      <th>153</th>\n",
       "      <td>América</td>\n",
       "      <td>Venezuela</td>\n",
       "      <td>106829</td>\n",
       "      <td>803330</td>\n",
       "      <td>7</td>\n",
       "      <td>0</td>\n",
       "      <td>None</td>\n",
       "    </tr>\n",
       "    <tr>\n",
       "      <th>154</th>\n",
       "      <td>Asia</td>\n",
       "      <td>Vietnam</td>\n",
       "      <td>130169</td>\n",
       "      <td>1477676</td>\n",
       "      <td>11</td>\n",
       "      <td>43</td>\n",
       "      <td>11</td>\n",
       "    </tr>\n",
       "    <tr>\n",
       "      <th>155</th>\n",
       "      <td>Asia</td>\n",
       "      <td>Yemen</td>\n",
       "      <td>222</td>\n",
       "      <td>2128</td>\n",
       "      <td>9</td>\n",
       "      <td>0</td>\n",
       "      <td>None</td>\n",
       "    </tr>\n",
       "    <tr>\n",
       "      <th>156</th>\n",
       "      <td>África</td>\n",
       "      <td>Zambia</td>\n",
       "      <td>382</td>\n",
       "      <td>2881</td>\n",
       "      <td>7</td>\n",
       "      <td>0</td>\n",
       "      <td>None</td>\n",
       "    </tr>\n",
       "    <tr>\n",
       "      <th>157</th>\n",
       "      <td>África</td>\n",
       "      <td>Zimbabue</td>\n",
       "      <td>3364</td>\n",
       "      <td>34893</td>\n",
       "      <td>10</td>\n",
       "      <td>15</td>\n",
       "      <td>12</td>\n",
       "    </tr>\n",
       "  </tbody>\n",
       "</table>\n",
       "<p>158 rows × 7 columns</p>\n",
       "</div>"
      ],
      "text/plain": [
       "    nombre_continente nombre_pais_destino  suma_turistas  suma_pernoctaciones  \\\n",
       "0              Europa             Albania         180212              1115910   \n",
       "1              Europa            Alemania       11949860             68516775   \n",
       "2              Europa             Andorra        9323631             24769193   \n",
       "3              África              Angola           9669                79896   \n",
       "4             América             Antigua            220                 1900   \n",
       "..                ...                 ...            ...                  ...   \n",
       "153           América           Venezuela         106829               803330   \n",
       "154              Asia             Vietnam         130169              1477676   \n",
       "155              Asia               Yemen            222                 2128   \n",
       "156            África              Zambia            382                 2881   \n",
       "157            África            Zimbabue           3364                34893   \n",
       "\n",
       "     promedio_pernoctaciones_turismo_emisor  num_viajes_ofertados_tui  \\\n",
       "0                                         6                         5   \n",
       "1                                         5                        20   \n",
       "2                                         2                         0   \n",
       "3                                         8                         0   \n",
       "4                                         8                         2   \n",
       "..                                      ...                       ...   \n",
       "153                                       7                         0   \n",
       "154                                      11                        43   \n",
       "155                                       9                         0   \n",
       "156                                       7                         0   \n",
       "157                                      10                        15   \n",
       "\n",
       "    promedio_pernoctaciones_viajes_tui  \n",
       "0                                    9  \n",
       "1                                    7  \n",
       "2                                 None  \n",
       "3                                 None  \n",
       "4                                    7  \n",
       "..                                 ...  \n",
       "153                               None  \n",
       "154                                 11  \n",
       "155                               None  \n",
       "156                               None  \n",
       "157                                 12  \n",
       "\n",
       "[158 rows x 7 columns]"
      ]
     },
     "execution_count": 110,
     "metadata": {},
     "output_type": "execute_result"
    }
   ],
   "source": [
    "query_extraccion = '''WITH cte_turismo_emisor_resumen AS (\n",
    "  SELECT \n",
    "    id_pais_destino,\n",
    "    SUM(num_turistas) AS suma_turistas,\n",
    "    SUM(num_pernoctaciones) AS suma_pernoctaciones\n",
    "  FROM turismo_emisor\n",
    "  GROUP BY id_pais_destino\n",
    ")\n",
    "\n",
    "SELECT pd.nombre_continente AS continente,\n",
    "\tpd.nombre_pais_destino AS pais_destino, \n",
    "  te.suma_turistas,\n",
    "  te.suma_pernoctaciones,\n",
    "   (te.suma_pernoctaciones / te.suma_turistas) AS promedio_pernoctaciones_turismo_emisor,\n",
    "\tcount(DISTINCT v.id_viaje) AS num_viajes_ofertados_tui,\n",
    "\tround(avg(v.duracion_noches),0) AS promedio_pernoctaciones_viajes_tui\t\n",
    "FROM cte_turismo_emisor_resumen te \n",
    "LEFT JOIN pais_destino pd ON te.id_pais_destino =pd.id_pais_destino\n",
    "LEFT JOIN combinacion_destino_viaje cdv ON pd.id_pais_destino =cdv.id_pais_destino\n",
    "LEFT JOIN viaje v ON cdv.id_viaje = v.id_viaje \n",
    "GROUP BY 1,2,3,4,5\n",
    "ORDER BY pais_destino;'''\n",
    "lista_columnas = [ 'nombre_continente', 'nombre_pais_destino', 'suma_turistas', 'suma_pernoctaciones','promedio_pernoctaciones_turismo_emisor', 'num_viajes_ofertados_tui', 'promedio_pernoctaciones_viajes_tui']\n",
    "df_combi_tur_emisor_tui_web= exp.extraer_datos_bbdd_y_convertir_en_df(lista_columnas,query_extraccion)\n",
    "df_combi_tur_emisor_tui_web"
   ]
  },
  {
   "cell_type": "markdown",
   "id": "8cdc9498",
   "metadata": {},
   "source": [
    "## Consulta por paises con los viajes demandados por el turismo Español y el num. viajes ofertados por TUI pero teniendo en cuenta las ciudades:"
   ]
  },
  {
   "cell_type": "code",
   "execution_count": 111,
   "id": "21ed6b87",
   "metadata": {},
   "outputs": [
    {
     "data": {
      "application/vnd.microsoft.datawrangler.viewer.v0+json": {
       "columns": [
        {
         "name": "index",
         "rawType": "int64",
         "type": "integer"
        },
        {
         "name": "nombre_continente",
         "rawType": "object",
         "type": "string"
        },
        {
         "name": "nombre_pais_destino",
         "rawType": "object",
         "type": "string"
        },
        {
         "name": "suma_turistas",
         "rawType": "int64",
         "type": "integer"
        },
        {
         "name": "suma_pernoctaciones",
         "rawType": "int64",
         "type": "integer"
        },
        {
         "name": "promedio_pernoctaciones_turismo_emisor",
         "rawType": "int64",
         "type": "integer"
        },
        {
         "name": "num_viajes_ofertados_tui",
         "rawType": "int64",
         "type": "integer"
        },
        {
         "name": "promedio_pernoctaciones_viajes_tui",
         "rawType": "object",
         "type": "unknown"
        }
       ],
       "conversionMethod": "pd.DataFrame",
       "ref": "775c760c-5e40-451e-91ce-448042d3c1d6",
       "rows": [
        [
         "0",
         "Europa",
         "Albania",
         "180212",
         "1115910",
         "6",
         "5",
         "8"
        ],
        [
         "1",
         "Europa",
         "Alemania",
         "11949860",
         "68516775",
         "5",
         "19",
         "7"
        ],
        [
         "2",
         "Europa",
         "Andorra",
         "9323631",
         "24769193",
         "2",
         "0",
         null
        ],
        [
         "3",
         "África",
         "Angola",
         "9669",
         "79896",
         "8",
         "0",
         null
        ],
        [
         "4",
         "América",
         "Antigua",
         "220",
         "1900",
         "8",
         "0",
         null
        ],
        [
         "5",
         "Asia",
         "Arabia Saudi",
         "150581",
         "970902",
         "6",
         "2",
         "7"
        ],
        [
         "6",
         "África",
         "Argelia",
         "128466",
         "760959",
         "5",
         "0",
         null
        ],
        [
         "7",
         "América",
         "Argentina",
         "615534",
         "6812392",
         "11",
         "31",
         "12"
        ],
        [
         "8",
         "Asia",
         "Armenia",
         "17238",
         "121690",
         "7",
         "3",
         "8"
        ],
        [
         "9",
         "Oceanía",
         "Australia",
         "89860",
         "1047125",
         "11",
         "17",
         "13"
        ],
        [
         "10",
         "Europa",
         "Austria",
         "2122148",
         "10722269",
         "5",
         "21",
         "7"
        ],
        [
         "11",
         "Asia",
         "Azerbaiyan",
         "8510",
         "49956",
         "5",
         "0",
         null
        ],
        [
         "12",
         "América",
         "Bahamas",
         "8778",
         "73412",
         "8",
         "6",
         "7"
        ],
        [
         "13",
         "Asia",
         "Bahrein",
         "4783",
         "27400",
         "5",
         "0",
         null
        ],
        [
         "14",
         "Asia",
         "Bangladesh",
         "7417",
         "51555",
         "6",
         "0",
         null
        ],
        [
         "15",
         "América",
         "Barbados",
         "88",
         "464",
         "5",
         "2",
         "7"
        ],
        [
         "16",
         "Europa",
         "Belarus",
         "7958",
         "66935",
         "8",
         "0",
         null
        ],
        [
         "17",
         "Europa",
         "Belgica",
         "4404844",
         "21455895",
         "4",
         "5",
         "7"
        ],
        [
         "18",
         "América",
         "Belice",
         "370",
         "3444",
         "9",
         "13",
         "7"
        ],
        [
         "19",
         "África",
         "Benin",
         "2289",
         "21851",
         "9",
         "0",
         null
        ],
        [
         "20",
         "América",
         "Bolivia",
         "72984",
         "867552",
         "11",
         "5",
         "13"
        ],
        [
         "21",
         "Europa",
         "Bosnia Y Herzegovina",
         "44002",
         "265285",
         "6",
         "4",
         "11"
        ],
        [
         "22",
         "África",
         "Botsuana",
         "8000",
         "74034",
         "9",
         "7",
         "12"
        ],
        [
         "23",
         "América",
         "Brasil",
         "489211",
         "4434801",
         "9",
         "12",
         "10"
        ],
        [
         "24",
         "Europa",
         "Bulgaria",
         "704904",
         "6837015",
         "9",
         "5",
         "7"
        ],
        [
         "25",
         "África",
         "Burkina Faso",
         "530",
         "4513",
         "8",
         "0",
         null
        ],
        [
         "26",
         "Asia",
         "Butan",
         "2076",
         "17576",
         "8",
         "6",
         "9"
        ],
        [
         "27",
         "África",
         "Cabo Verde",
         "66925",
         "509686",
         "7",
         "3",
         "7"
        ],
        [
         "28",
         "Asia",
         "Camboya",
         "14574",
         "130507",
         "8",
         "56",
         "11"
        ],
        [
         "29",
         "África",
         "Camerun",
         "3730",
         "29219",
         "7",
         "0",
         null
        ],
        [
         "30",
         "América",
         "Canada",
         "292459",
         "2742709",
         "9",
         "146",
         "9"
        ],
        [
         "31",
         "África",
         "Chad",
         "128",
         "434",
         "3",
         "0",
         null
        ],
        [
         "32",
         "América",
         "Chile",
         "249898",
         "2354051",
         "9",
         "21",
         "11"
        ],
        [
         "33",
         "Asia",
         "China",
         "394304",
         "3442994",
         "8",
         "32",
         "10"
        ],
        [
         "34",
         "Europa",
         "Chipre",
         "91540",
         "701163",
         "7",
         "2",
         "7"
        ],
        [
         "35",
         "América",
         "Colombia",
         "791653",
         "6763141",
         "8",
         "19",
         "9"
        ],
        [
         "36",
         "Asia",
         "Corea Del Sur",
         "60035",
         "521964",
         "8",
         "2",
         "12"
        ],
        [
         "37",
         "África",
         "Costa De Marfil",
         "14691",
         "110872",
         "7",
         "0",
         null
        ],
        [
         "38",
         "América",
         "Costa Rica",
         "216158",
         "2088236",
         "9",
         "64",
         "10"
        ],
        [
         "39",
         "Europa",
         "Croacia",
         "859599",
         "6477885",
         "7",
         "7",
         "10"
        ],
        [
         "40",
         "América",
         "Cuba",
         "305892",
         "2936729",
         "9",
         "0",
         null
        ],
        [
         "41",
         "Europa",
         "Dinamarca",
         "1205088",
         "6023625",
         "4",
         "5",
         "8"
        ],
        [
         "42",
         "África",
         "Djibouti",
         "385",
         "3280",
         "8",
         "0",
         null
        ],
        [
         "43",
         "América",
         "Ecuador",
         "225256",
         "2240201",
         "9",
         "6",
         "10"
        ],
        [
         "44",
         "África",
         "Egipto",
         "522583",
         "3484845",
         "6",
         "37",
         "8"
        ],
        [
         "45",
         "América",
         "El Salvador",
         "18814",
         "146730",
         "7",
         "2",
         "8"
        ],
        [
         "46",
         "Asia",
         "Emiratos Arabes Unidos",
         "688472",
         "4503807",
         "6",
         "9",
         "6"
        ],
        [
         "47",
         "Europa",
         "Eslovenia",
         "245955",
         "1641577",
         "6",
         "5",
         "8"
        ],
        [
         "48",
         "América",
         "Estados Unidos",
         "5347456",
         "49522145",
         "9",
         "114",
         "11"
        ],
        [
         "49",
         "Europa",
         "Estonia",
         "115789",
         "807288",
         "6",
         "6",
         "8"
        ]
       ],
       "shape": {
        "columns": 7,
        "rows": 158
       }
      },
      "text/html": [
       "<div>\n",
       "<style scoped>\n",
       "    .dataframe tbody tr th:only-of-type {\n",
       "        vertical-align: middle;\n",
       "    }\n",
       "\n",
       "    .dataframe tbody tr th {\n",
       "        vertical-align: top;\n",
       "    }\n",
       "\n",
       "    .dataframe thead th {\n",
       "        text-align: right;\n",
       "    }\n",
       "</style>\n",
       "<table border=\"1\" class=\"dataframe\">\n",
       "  <thead>\n",
       "    <tr style=\"text-align: right;\">\n",
       "      <th></th>\n",
       "      <th>nombre_continente</th>\n",
       "      <th>nombre_pais_destino</th>\n",
       "      <th>suma_turistas</th>\n",
       "      <th>suma_pernoctaciones</th>\n",
       "      <th>promedio_pernoctaciones_turismo_emisor</th>\n",
       "      <th>num_viajes_ofertados_tui</th>\n",
       "      <th>promedio_pernoctaciones_viajes_tui</th>\n",
       "    </tr>\n",
       "  </thead>\n",
       "  <tbody>\n",
       "    <tr>\n",
       "      <th>0</th>\n",
       "      <td>Europa</td>\n",
       "      <td>Albania</td>\n",
       "      <td>180212</td>\n",
       "      <td>1115910</td>\n",
       "      <td>6</td>\n",
       "      <td>5</td>\n",
       "      <td>8</td>\n",
       "    </tr>\n",
       "    <tr>\n",
       "      <th>1</th>\n",
       "      <td>Europa</td>\n",
       "      <td>Alemania</td>\n",
       "      <td>11949860</td>\n",
       "      <td>68516775</td>\n",
       "      <td>5</td>\n",
       "      <td>19</td>\n",
       "      <td>7</td>\n",
       "    </tr>\n",
       "    <tr>\n",
       "      <th>2</th>\n",
       "      <td>Europa</td>\n",
       "      <td>Andorra</td>\n",
       "      <td>9323631</td>\n",
       "      <td>24769193</td>\n",
       "      <td>2</td>\n",
       "      <td>0</td>\n",
       "      <td>None</td>\n",
       "    </tr>\n",
       "    <tr>\n",
       "      <th>3</th>\n",
       "      <td>África</td>\n",
       "      <td>Angola</td>\n",
       "      <td>9669</td>\n",
       "      <td>79896</td>\n",
       "      <td>8</td>\n",
       "      <td>0</td>\n",
       "      <td>None</td>\n",
       "    </tr>\n",
       "    <tr>\n",
       "      <th>4</th>\n",
       "      <td>América</td>\n",
       "      <td>Antigua</td>\n",
       "      <td>220</td>\n",
       "      <td>1900</td>\n",
       "      <td>8</td>\n",
       "      <td>0</td>\n",
       "      <td>None</td>\n",
       "    </tr>\n",
       "    <tr>\n",
       "      <th>...</th>\n",
       "      <td>...</td>\n",
       "      <td>...</td>\n",
       "      <td>...</td>\n",
       "      <td>...</td>\n",
       "      <td>...</td>\n",
       "      <td>...</td>\n",
       "      <td>...</td>\n",
       "    </tr>\n",
       "    <tr>\n",
       "      <th>153</th>\n",
       "      <td>América</td>\n",
       "      <td>Venezuela</td>\n",
       "      <td>106829</td>\n",
       "      <td>803330</td>\n",
       "      <td>7</td>\n",
       "      <td>0</td>\n",
       "      <td>None</td>\n",
       "    </tr>\n",
       "    <tr>\n",
       "      <th>154</th>\n",
       "      <td>Asia</td>\n",
       "      <td>Vietnam</td>\n",
       "      <td>130169</td>\n",
       "      <td>1477676</td>\n",
       "      <td>11</td>\n",
       "      <td>43</td>\n",
       "      <td>12</td>\n",
       "    </tr>\n",
       "    <tr>\n",
       "      <th>155</th>\n",
       "      <td>Asia</td>\n",
       "      <td>Yemen</td>\n",
       "      <td>222</td>\n",
       "      <td>2128</td>\n",
       "      <td>9</td>\n",
       "      <td>0</td>\n",
       "      <td>None</td>\n",
       "    </tr>\n",
       "    <tr>\n",
       "      <th>156</th>\n",
       "      <td>África</td>\n",
       "      <td>Zambia</td>\n",
       "      <td>382</td>\n",
       "      <td>2881</td>\n",
       "      <td>7</td>\n",
       "      <td>0</td>\n",
       "      <td>None</td>\n",
       "    </tr>\n",
       "    <tr>\n",
       "      <th>157</th>\n",
       "      <td>África</td>\n",
       "      <td>Zimbabue</td>\n",
       "      <td>3364</td>\n",
       "      <td>34893</td>\n",
       "      <td>10</td>\n",
       "      <td>49</td>\n",
       "      <td>11</td>\n",
       "    </tr>\n",
       "  </tbody>\n",
       "</table>\n",
       "<p>158 rows × 7 columns</p>\n",
       "</div>"
      ],
      "text/plain": [
       "    nombre_continente nombre_pais_destino  suma_turistas  suma_pernoctaciones  \\\n",
       "0              Europa             Albania         180212              1115910   \n",
       "1              Europa            Alemania       11949860             68516775   \n",
       "2              Europa             Andorra        9323631             24769193   \n",
       "3              África              Angola           9669                79896   \n",
       "4             América             Antigua            220                 1900   \n",
       "..                ...                 ...            ...                  ...   \n",
       "153           América           Venezuela         106829               803330   \n",
       "154              Asia             Vietnam         130169              1477676   \n",
       "155              Asia               Yemen            222                 2128   \n",
       "156            África              Zambia            382                 2881   \n",
       "157            África            Zimbabue           3364                34893   \n",
       "\n",
       "     promedio_pernoctaciones_turismo_emisor  num_viajes_ofertados_tui  \\\n",
       "0                                         6                         5   \n",
       "1                                         5                        19   \n",
       "2                                         2                         0   \n",
       "3                                         8                         0   \n",
       "4                                         8                         0   \n",
       "..                                      ...                       ...   \n",
       "153                                       7                         0   \n",
       "154                                      11                        43   \n",
       "155                                       9                         0   \n",
       "156                                       7                         0   \n",
       "157                                      10                        49   \n",
       "\n",
       "    promedio_pernoctaciones_viajes_tui  \n",
       "0                                    8  \n",
       "1                                    7  \n",
       "2                                 None  \n",
       "3                                 None  \n",
       "4                                 None  \n",
       "..                                 ...  \n",
       "153                               None  \n",
       "154                                 12  \n",
       "155                               None  \n",
       "156                               None  \n",
       "157                                 11  \n",
       "\n",
       "[158 rows x 7 columns]"
      ]
     },
     "execution_count": 111,
     "metadata": {},
     "output_type": "execute_result"
    }
   ],
   "source": [
    "query_extraccion = '''WITH cte_turismo_emisor_resumen AS (\n",
    "  SELECT \n",
    "    id_pais_destino,\n",
    "    SUM(num_turistas) AS suma_turistas,\n",
    "    SUM(num_pernoctaciones) AS suma_pernoctaciones\n",
    "  FROM turismo_emisor\n",
    "  GROUP BY id_pais_destino\n",
    ")\n",
    "\n",
    "\n",
    "SELECT pd.nombre_continente AS continente,\n",
    "\tpd.nombre_pais_destino AS pais_destino, \n",
    "  te.suma_turistas,\n",
    "  te.suma_pernoctaciones,\n",
    "   (te.suma_pernoctaciones / te.suma_turistas) AS promedio_pernoctaciones_turismo_emisor,\n",
    "\tcount(DISTINCT v.id_viaje) AS num_viajes_ofertados_tui,\n",
    "\tround(avg(v.duracion_noches),0) AS promedio_pernoctaciones_viajes_tui\t\n",
    "FROM cte_turismo_emisor_resumen te \n",
    "LEFT JOIN pais_destino pd ON te.id_pais_destino =pd.id_pais_destino\n",
    "LEFT JOIN ciudad c  ON pd.id_pais_destino =c.id_pais_destino\n",
    "LEFT JOIN ciudad_itinerario ci ON c.id_ciudad =ci.id_ciudad\n",
    "LEFT JOIN itinerario i ON ci.id_itinerario = i.id_itinerario\n",
    "LEFT JOIN viaje v ON i.id_itinerario  = v.id_itinerario \n",
    "GROUP BY 1,2,3,4,5\n",
    "ORDER BY pais_destino;'''\n",
    "lista_columnas = [ 'nombre_continente', 'nombre_pais_destino', 'suma_turistas', 'suma_pernoctaciones','promedio_pernoctaciones_turismo_emisor', 'num_viajes_ofertados_tui', 'promedio_pernoctaciones_viajes_tui']\n",
    "df_combi_tur_emisor_tui_ciudad= exp.extraer_datos_bbdd_y_convertir_en_df(lista_columnas,query_extraccion)\n",
    "df_combi_tur_emisor_tui_ciudad"
   ]
  },
  {
   "cell_type": "markdown",
   "id": "4e7a3d8f",
   "metadata": {},
   "source": [
    "## Consulta por paises con los viajes ofertados por tui y los demandados por el turismo Español teniendo en cuenta las ciudades:"
   ]
  },
  {
   "cell_type": "code",
   "execution_count": 112,
   "id": "5acf1a8f",
   "metadata": {},
   "outputs": [
    {
     "data": {
      "application/vnd.microsoft.datawrangler.viewer.v0+json": {
       "columns": [
        {
         "name": "index",
         "rawType": "int64",
         "type": "integer"
        },
        {
         "name": "nombre_continente",
         "rawType": "object",
         "type": "unknown"
        },
        {
         "name": "nombre_pais_destino",
         "rawType": "object",
         "type": "unknown"
        },
        {
         "name": "num_viajes_ofertados_tui",
         "rawType": "int64",
         "type": "integer"
        },
        {
         "name": "promedio_pernoctaciones_viajes_tui",
         "rawType": "object",
         "type": "unknown"
        },
        {
         "name": "suma_turistas",
         "rawType": "float64",
         "type": "float"
        },
        {
         "name": "suma_pernoctaciones",
         "rawType": "float64",
         "type": "float"
        },
        {
         "name": "promedio_pernoctaciones_turismo_emisor",
         "rawType": "float64",
         "type": "float"
        }
       ],
       "conversionMethod": "pd.DataFrame",
       "ref": "2ff4dba5-4830-4c29-b550-4cb60e399a24",
       "rows": [
        [
         "0",
         "Europa",
         "Albania",
         "5",
         "9",
         "180212.0",
         "1115910.0",
         "6.0"
        ],
        [
         "1",
         "Europa",
         "Alemania",
         "24",
         "8",
         "11949860.0",
         "68516775.0",
         "5.0"
        ],
        [
         "2",
         "América",
         "Argentina",
         "10",
         "14",
         "615534.0",
         "6812392.0",
         "11.0"
        ],
        [
         "3",
         "América",
         "Aruba",
         "6",
         "9",
         null,
         null,
         null
        ],
        [
         "4",
         "Oceanía",
         "Australia",
         "63",
         "10",
         "89860.0",
         "1047125.0",
         "11.0"
        ],
        [
         "5",
         "Europa",
         "Austria",
         "17",
         "6",
         "2122148.0",
         "10722269.0",
         "5.0"
        ],
        [
         "6",
         "América",
         "Bahamas",
         "4",
         "6",
         "8778.0",
         "73412.0",
         "8.0"
        ],
        [
         "7",
         "América",
         "Barbados",
         "1",
         "9",
         "88.0",
         "464.0",
         "5.0"
        ],
        [
         "8",
         "Europa",
         "Belgica",
         "10",
         "7",
         "4404844.0",
         "21455895.0",
         "4.0"
        ],
        [
         "9",
         "América",
         "Belice",
         "1",
         "7",
         "370.0",
         "3444.0",
         "9.0"
        ],
        [
         "10",
         "América",
         "Bolivia",
         "12",
         "7",
         "72984.0",
         "867552.0",
         "11.0"
        ],
        [
         "11",
         "África",
         "Botsuana",
         "11",
         "11",
         "8000.0",
         "74034.0",
         "9.0"
        ],
        [
         "12",
         "América",
         "Brasil",
         "31",
         "8",
         "489211.0",
         "4434801.0",
         "9.0"
        ],
        [
         "13",
         "Europa",
         "Bulgaria",
         "12",
         "10",
         "704904.0",
         "6837015.0",
         "9.0"
        ],
        [
         "14",
         "Asia",
         "Butan",
         "7",
         "10",
         "2076.0",
         "17576.0",
         "8.0"
        ],
        [
         "15",
         "África",
         "Cabo Verde",
         "1",
         "11",
         "66925.0",
         "509686.0",
         "7.0"
        ],
        [
         "16",
         "Asia",
         "Camboya",
         "7",
         "7",
         "14574.0",
         "130507.0",
         "8.0"
        ],
        [
         "17",
         "América",
         "Canada",
         "26",
         "9",
         "292459.0",
         "2742709.0",
         "9.0"
        ],
        [
         "18",
         "América",
         "Chile",
         "21",
         "8",
         "249898.0",
         "2354051.0",
         "9.0"
        ],
        [
         "19",
         "Asia",
         "China",
         "18",
         "9",
         "394304.0",
         "3442994.0",
         "8.0"
        ],
        [
         "20",
         "Europa",
         "Chipre",
         "13",
         "8",
         "91540.0",
         "701163.0",
         "7.0"
        ],
        [
         "21",
         "América",
         "Colombia",
         "22",
         "8",
         "791653.0",
         "6763141.0",
         "8.0"
        ],
        [
         "22",
         "Asia",
         "Corea Del Sur",
         "14",
         "10",
         "60035.0",
         "521964.0",
         "8.0"
        ],
        [
         "23",
         "América",
         "Costa Rica",
         "12",
         "8",
         "216158.0",
         "2088236.0",
         "9.0"
        ],
        [
         "24",
         "Europa",
         "Croacia",
         "7",
         "7",
         "859599.0",
         "6477885.0",
         "7.0"
        ],
        [
         "25",
         "Europa",
         "Dinamarca",
         "12",
         "12",
         "1205088.0",
         "6023625.0",
         "4.0"
        ],
        [
         "26",
         "América",
         "Dominica",
         "1",
         "11",
         null,
         null,
         null
        ],
        [
         "27",
         "América",
         "Ecuador",
         "11",
         "10",
         "225256.0",
         "2240201.0",
         "9.0"
        ],
        [
         "28",
         "África",
         "Egipto",
         "25",
         "11",
         "522583.0",
         "3484845.0",
         "6.0"
        ],
        [
         "29",
         "América",
         "El Salvador",
         "9",
         "9",
         "18814.0",
         "146730.0",
         "7.0"
        ],
        [
         "30",
         "Asia",
         "Emiratos Arabes Unidos",
         "8",
         "8",
         "688472.0",
         "4503807.0",
         "6.0"
        ],
        [
         "31",
         "Europa",
         "Eslovaquia",
         "11",
         "10",
         null,
         null,
         null
        ],
        [
         "32",
         "Europa",
         "Eslovenia",
         "9",
         "7",
         "245955.0",
         "1641577.0",
         "6.0"
        ],
        [
         "33",
         "Europa",
         "Espana",
         "8",
         "7",
         null,
         null,
         null
        ],
        [
         "34",
         "América",
         "Estados Unidos",
         "195",
         "7",
         "5347456.0",
         "49522145.0",
         "9.0"
        ],
        [
         "35",
         "Europa",
         "Estonia",
         "4",
         "8",
         "115789.0",
         "807288.0",
         "6.0"
        ],
        [
         "36",
         "Oceanía",
         "Fiji",
         "6",
         "11",
         "182.0",
         "1510.0",
         "8.0"
        ],
        [
         "37",
         "Asia",
         "Filipinas",
         "8",
         "8",
         "74609.0",
         "869801.0",
         "11.0"
        ],
        [
         "38",
         "Europa",
         "Finlandia",
         "17",
         "7",
         "553826.0",
         "3463308.0",
         "6.0"
        ],
        [
         "39",
         "Europa",
         "Francia",
         "94",
         "9",
         "66090285.0",
         "232898635.0",
         "3.0"
        ],
        [
         "40",
         "América",
         "Granada",
         "1",
         "7",
         null,
         null,
         null
        ],
        [
         "41",
         "Europa",
         "Grecia",
         "64",
         "8",
         "2315484.0",
         "16882657.0",
         "7.0"
        ],
        [
         "42",
         "América",
         "Guatemala",
         "12",
         "7",
         "70691.0",
         "593772.0",
         "8.0"
        ],
        [
         "43",
         "América",
         "Honduras",
         "1",
         "11",
         "58503.0",
         "607217.0",
         "10.0"
        ],
        [
         "44",
         "Europa",
         "Hungria",
         "23",
         "10",
         "1594942.0",
         "7299426.0",
         "4.0"
        ],
        [
         "45",
         "Asia",
         "India",
         "26",
         "10",
         "218931.0",
         "1839234.0",
         "8.0"
        ],
        [
         "46",
         "Asia",
         "Indonesia",
         "22",
         "8",
         "149681.0",
         "1699199.0",
         "11.0"
        ],
        [
         "47",
         "Europa",
         "Irlanda",
         "26",
         "11",
         "2141452.0",
         "14457487.0",
         "6.0"
        ],
        [
         "48",
         "Europa",
         "Islandia",
         "25",
         "11",
         "448244.0",
         "3623388.0",
         "8.0"
        ],
        [
         "49",
         "América",
         "Islas Caiman",
         "2",
         "8",
         null,
         null,
         null
        ]
       ],
       "shape": {
        "columns": 7,
        "rows": 94
       }
      },
      "text/html": [
       "<div>\n",
       "<style scoped>\n",
       "    .dataframe tbody tr th:only-of-type {\n",
       "        vertical-align: middle;\n",
       "    }\n",
       "\n",
       "    .dataframe tbody tr th {\n",
       "        vertical-align: top;\n",
       "    }\n",
       "\n",
       "    .dataframe thead th {\n",
       "        text-align: right;\n",
       "    }\n",
       "</style>\n",
       "<table border=\"1\" class=\"dataframe\">\n",
       "  <thead>\n",
       "    <tr style=\"text-align: right;\">\n",
       "      <th></th>\n",
       "      <th>nombre_continente</th>\n",
       "      <th>nombre_pais_destino</th>\n",
       "      <th>num_viajes_ofertados_tui</th>\n",
       "      <th>promedio_pernoctaciones_viajes_tui</th>\n",
       "      <th>suma_turistas</th>\n",
       "      <th>suma_pernoctaciones</th>\n",
       "      <th>promedio_pernoctaciones_turismo_emisor</th>\n",
       "    </tr>\n",
       "  </thead>\n",
       "  <tbody>\n",
       "    <tr>\n",
       "      <th>0</th>\n",
       "      <td>Europa</td>\n",
       "      <td>Albania</td>\n",
       "      <td>5</td>\n",
       "      <td>9</td>\n",
       "      <td>180212.0</td>\n",
       "      <td>1115910.0</td>\n",
       "      <td>6.0</td>\n",
       "    </tr>\n",
       "    <tr>\n",
       "      <th>1</th>\n",
       "      <td>Europa</td>\n",
       "      <td>Alemania</td>\n",
       "      <td>24</td>\n",
       "      <td>8</td>\n",
       "      <td>11949860.0</td>\n",
       "      <td>68516775.0</td>\n",
       "      <td>5.0</td>\n",
       "    </tr>\n",
       "    <tr>\n",
       "      <th>2</th>\n",
       "      <td>América</td>\n",
       "      <td>Argentina</td>\n",
       "      <td>10</td>\n",
       "      <td>14</td>\n",
       "      <td>615534.0</td>\n",
       "      <td>6812392.0</td>\n",
       "      <td>11.0</td>\n",
       "    </tr>\n",
       "    <tr>\n",
       "      <th>3</th>\n",
       "      <td>América</td>\n",
       "      <td>Aruba</td>\n",
       "      <td>6</td>\n",
       "      <td>9</td>\n",
       "      <td>NaN</td>\n",
       "      <td>NaN</td>\n",
       "      <td>NaN</td>\n",
       "    </tr>\n",
       "    <tr>\n",
       "      <th>4</th>\n",
       "      <td>Oceanía</td>\n",
       "      <td>Australia</td>\n",
       "      <td>63</td>\n",
       "      <td>10</td>\n",
       "      <td>89860.0</td>\n",
       "      <td>1047125.0</td>\n",
       "      <td>11.0</td>\n",
       "    </tr>\n",
       "    <tr>\n",
       "      <th>...</th>\n",
       "      <td>...</td>\n",
       "      <td>...</td>\n",
       "      <td>...</td>\n",
       "      <td>...</td>\n",
       "      <td>...</td>\n",
       "      <td>...</td>\n",
       "      <td>...</td>\n",
       "    </tr>\n",
       "    <tr>\n",
       "      <th>89</th>\n",
       "      <td>América</td>\n",
       "      <td>Turks And Caicos</td>\n",
       "      <td>1</td>\n",
       "      <td>7</td>\n",
       "      <td>NaN</td>\n",
       "      <td>NaN</td>\n",
       "      <td>NaN</td>\n",
       "    </tr>\n",
       "    <tr>\n",
       "      <th>90</th>\n",
       "      <td>Asia</td>\n",
       "      <td>Turquia</td>\n",
       "      <td>3</td>\n",
       "      <td>9</td>\n",
       "      <td>2122162.0</td>\n",
       "      <td>11685594.0</td>\n",
       "      <td>5.0</td>\n",
       "    </tr>\n",
       "    <tr>\n",
       "      <th>91</th>\n",
       "      <td>Asia</td>\n",
       "      <td>Vietnam</td>\n",
       "      <td>6</td>\n",
       "      <td>9</td>\n",
       "      <td>130169.0</td>\n",
       "      <td>1477676.0</td>\n",
       "      <td>11.0</td>\n",
       "    </tr>\n",
       "    <tr>\n",
       "      <th>92</th>\n",
       "      <td>África</td>\n",
       "      <td>Zimbabue</td>\n",
       "      <td>7</td>\n",
       "      <td>10</td>\n",
       "      <td>3364.0</td>\n",
       "      <td>34893.0</td>\n",
       "      <td>10.0</td>\n",
       "    </tr>\n",
       "    <tr>\n",
       "      <th>93</th>\n",
       "      <td>None</td>\n",
       "      <td>None</td>\n",
       "      <td>3</td>\n",
       "      <td>14</td>\n",
       "      <td>NaN</td>\n",
       "      <td>NaN</td>\n",
       "      <td>NaN</td>\n",
       "    </tr>\n",
       "  </tbody>\n",
       "</table>\n",
       "<p>94 rows × 7 columns</p>\n",
       "</div>"
      ],
      "text/plain": [
       "   nombre_continente nombre_pais_destino  num_viajes_ofertados_tui  \\\n",
       "0             Europa             Albania                         5   \n",
       "1             Europa            Alemania                        24   \n",
       "2            América           Argentina                        10   \n",
       "3            América               Aruba                         6   \n",
       "4            Oceanía           Australia                        63   \n",
       "..               ...                 ...                       ...   \n",
       "89           América    Turks And Caicos                         1   \n",
       "90              Asia             Turquia                         3   \n",
       "91              Asia             Vietnam                         6   \n",
       "92            África            Zimbabue                         7   \n",
       "93              None                None                         3   \n",
       "\n",
       "   promedio_pernoctaciones_viajes_tui  suma_turistas  suma_pernoctaciones  \\\n",
       "0                                   9       180212.0            1115910.0   \n",
       "1                                   8     11949860.0           68516775.0   \n",
       "2                                  14       615534.0            6812392.0   \n",
       "3                                   9            NaN                  NaN   \n",
       "4                                  10        89860.0            1047125.0   \n",
       "..                                ...            ...                  ...   \n",
       "89                                  7            NaN                  NaN   \n",
       "90                                  9      2122162.0           11685594.0   \n",
       "91                                  9       130169.0            1477676.0   \n",
       "92                                 10         3364.0              34893.0   \n",
       "93                                 14            NaN                  NaN   \n",
       "\n",
       "    promedio_pernoctaciones_turismo_emisor  \n",
       "0                                      6.0  \n",
       "1                                      5.0  \n",
       "2                                     11.0  \n",
       "3                                      NaN  \n",
       "4                                     11.0  \n",
       "..                                     ...  \n",
       "89                                     NaN  \n",
       "90                                     5.0  \n",
       "91                                    11.0  \n",
       "92                                    10.0  \n",
       "93                                     NaN  \n",
       "\n",
       "[94 rows x 7 columns]"
      ]
     },
     "execution_count": 112,
     "metadata": {},
     "output_type": "execute_result"
    }
   ],
   "source": [
    "query_extraccion = '''\n",
    "WITH cte_turismo_emisor_resumen AS (\n",
    "  SELECT \n",
    "    id_pais_destino,\n",
    "    SUM(num_turistas) AS suma_turistas,\n",
    "    SUM(num_pernoctaciones) AS suma_pernoctaciones\n",
    "  FROM turismo_emisor\n",
    "  GROUP BY id_pais_destino\n",
    ")\n",
    "\n",
    "SELECT pd.nombre_continente AS continente,\n",
    "\tpd.nombre_pais_destino AS pais_destino, \n",
    "\tcount(DISTINCT v.id_viaje) AS num_viajes_ofertados_tui,\n",
    "\tround(avg(v.duracion_noches),0) AS promedio_pernoctaciones_viajes_tui,\n",
    "    te.suma_turistas,\n",
    "  te.suma_pernoctaciones,\n",
    "  (te.suma_pernoctaciones / te.suma_turistas) AS promedio_pernoctaciones_turismo_emisor\n",
    "FROM viaje v \n",
    "LEFT JOIN itinerario i ON v.id_itinerario = i.id_itinerario\n",
    "LEFT JOIN ciudad_itinerario ci  ON i.id_itinerario = ci.id_ciudad \n",
    "LEFT JOIN ciudad c ON ci.id_ciudad = c.id_ciudad\n",
    "LEFT JOIN pais_destino pd ON c.id_pais_destino = pd.id_pais_destino\n",
    "LEFT JOIN cte_turismo_emisor_resumen te ON pd.id_pais_destino = te.id_pais_destino\n",
    "GROUP BY 1,2,5,6,7\n",
    "ORDER BY pais_destino ASC;'''\n",
    "lista_columnas = [ 'nombre_continente', 'nombre_pais_destino', 'num_viajes_ofertados_tui', 'promedio_pernoctaciones_viajes_tui','suma_turistas', 'suma_pernoctaciones', 'promedio_pernoctaciones_turismo_emisor']\n",
    "df_combi_tui_ciudad_tur_emisor= exp.extraer_datos_bbdd_y_convertir_en_df(lista_columnas,query_extraccion)\n",
    "df_combi_tui_ciudad_tur_emisor"
   ]
  },
  {
   "cell_type": "markdown",
   "id": "0e848f3e",
   "metadata": {},
   "source": [
    "## Consulta por paises con los viajes ofertados por tui y los demandados por el turismo Español según están registrados en la página de TUI:"
   ]
  },
  {
   "cell_type": "code",
   "execution_count": 113,
   "id": "8cb94b37",
   "metadata": {},
   "outputs": [
    {
     "data": {
      "application/vnd.microsoft.datawrangler.viewer.v0+json": {
       "columns": [
        {
         "name": "index",
         "rawType": "int64",
         "type": "integer"
        },
        {
         "name": "nombre_continente",
         "rawType": "object",
         "type": "string"
        },
        {
         "name": "nombre_pais_destino",
         "rawType": "object",
         "type": "string"
        },
        {
         "name": "num_viajes_ofertados_tui",
         "rawType": "int64",
         "type": "integer"
        },
        {
         "name": "promedio_pernoctaciones_viajes_tui",
         "rawType": "object",
         "type": "unknown"
        },
        {
         "name": "suma_turistas",
         "rawType": "float64",
         "type": "float"
        },
        {
         "name": "suma_pernoctaciones",
         "rawType": "float64",
         "type": "float"
        },
        {
         "name": "promedio_pernoctaciones_turismo_emisor",
         "rawType": "float64",
         "type": "float"
        }
       ],
       "conversionMethod": "pd.DataFrame",
       "ref": "076829a1-805c-4f3c-b37d-e28a267a8e05",
       "rows": [
        [
         "0",
         "Europa",
         "Albania",
         "5",
         "9",
         "180212.0",
         "1115910.0",
         "6.0"
        ],
        [
         "1",
         "Europa",
         "Alemania",
         "20",
         "7",
         "11949860.0",
         "68516775.0",
         "5.0"
        ],
        [
         "2",
         "América",
         "Antigua",
         "2",
         "7",
         "220.0",
         "1900.0",
         "8.0"
        ],
        [
         "3",
         "Asia",
         "Arabia Saudi",
         "1",
         "7",
         "150581.0",
         "970902.0",
         "6.0"
        ],
        [
         "4",
         "América",
         "Argentina",
         "26",
         "11",
         "615534.0",
         "6812392.0",
         "11.0"
        ],
        [
         "5",
         "Asia",
         "Armenia",
         "3",
         "8",
         "17238.0",
         "121690.0",
         "7.0"
        ],
        [
         "6",
         "América",
         "Aruba",
         "3",
         "6",
         null,
         null,
         null
        ],
        [
         "7",
         "Oceanía",
         "Australia",
         "17",
         "12",
         "89860.0",
         "1047125.0",
         "11.0"
        ],
        [
         "8",
         "Europa",
         "Austria",
         "21",
         "7",
         "2122148.0",
         "10722269.0",
         "5.0"
        ],
        [
         "9",
         "América",
         "Bahamas",
         "7",
         "6",
         "8778.0",
         "73412.0",
         "8.0"
        ],
        [
         "10",
         "América",
         "Barbados",
         "2",
         "7",
         "88.0",
         "464.0",
         "5.0"
        ],
        [
         "11",
         "Europa",
         "Belgica",
         "5",
         "7",
         "4404844.0",
         "21455895.0",
         "4.0"
        ],
        [
         "12",
         "América",
         "Belice",
         "2",
         "8",
         "370.0",
         "3444.0",
         "9.0"
        ],
        [
         "13",
         "América",
         "Bolivia",
         "3",
         "14",
         "72984.0",
         "867552.0",
         "11.0"
        ],
        [
         "14",
         "Europa",
         "Bosnia Y Herzegovina",
         "3",
         "12",
         "44002.0",
         "265285.0",
         "6.0"
        ],
        [
         "15",
         "África",
         "Botsuana",
         "12",
         "12",
         "8000.0",
         "74034.0",
         "9.0"
        ],
        [
         "16",
         "América",
         "Brasil",
         "11",
         "10",
         "489211.0",
         "4434801.0",
         "9.0"
        ],
        [
         "17",
         "Europa",
         "Bulgaria",
         "4",
         "7",
         "704904.0",
         "6837015.0",
         "9.0"
        ],
        [
         "18",
         "Asia",
         "Butan",
         "6",
         "9",
         "2076.0",
         "17576.0",
         "8.0"
        ],
        [
         "19",
         "África",
         "Cabo Verde",
         "3",
         "7",
         "66925.0",
         "509686.0",
         "7.0"
        ],
        [
         "20",
         "Asia",
         "Camboya",
         "16",
         "12",
         "14574.0",
         "130507.0",
         "8.0"
        ],
        [
         "21",
         "América",
         "Canada",
         "59",
         "9",
         "292459.0",
         "2742709.0",
         "9.0"
        ],
        [
         "22",
         "América",
         "Chile",
         "21",
         "11",
         "249898.0",
         "2354051.0",
         "9.0"
        ],
        [
         "23",
         "Asia",
         "China",
         "31",
         "9",
         "394304.0",
         "3442994.0",
         "8.0"
        ],
        [
         "24",
         "Europa",
         "Chipre",
         "2",
         "5",
         "91540.0",
         "701163.0",
         "7.0"
        ],
        [
         "25",
         "América",
         "Colombia",
         "19",
         "9",
         "791653.0",
         "6763141.0",
         "8.0"
        ],
        [
         "26",
         "Asia",
         "Corea Del Sur",
         "5",
         "9",
         "60035.0",
         "521964.0",
         "8.0"
        ],
        [
         "27",
         "América",
         "Costa Rica",
         "60",
         "10",
         "216158.0",
         "2088236.0",
         "9.0"
        ],
        [
         "28",
         "Europa",
         "Croacia",
         "7",
         "10",
         "859599.0",
         "6477885.0",
         "7.0"
        ],
        [
         "29",
         "América",
         "Curacao",
         "2",
         "7",
         null,
         null,
         null
        ],
        [
         "30",
         "Europa",
         "Dinamarca",
         "5",
         "8",
         "1205088.0",
         "6023625.0",
         "4.0"
        ],
        [
         "31",
         "América",
         "Dominica",
         "1",
         "7",
         null,
         null,
         null
        ],
        [
         "32",
         "América",
         "Ecuador",
         "6",
         "10",
         "225256.0",
         "2240201.0",
         "9.0"
        ],
        [
         "33",
         "África",
         "Egipto",
         "37",
         "8",
         "522583.0",
         "3484845.0",
         "6.0"
        ],
        [
         "34",
         "América",
         "El Salvador",
         "2",
         "9",
         "18814.0",
         "146730.0",
         "7.0"
        ],
        [
         "35",
         "Asia",
         "Emiratos Arabes Unidos",
         "10",
         "6",
         "688472.0",
         "4503807.0",
         "6.0"
        ],
        [
         "36",
         "Europa",
         "Eslovaquia",
         "9",
         "7",
         null,
         null,
         null
        ],
        [
         "37",
         "Europa",
         "Eslovenia",
         "5",
         "8",
         "245955.0",
         "1641577.0",
         "6.0"
        ],
        [
         "38",
         "Europa",
         "Espana",
         "10",
         "4",
         null,
         null,
         null
        ],
        [
         "39",
         "América",
         "Estados Unidos",
         "159",
         "8",
         "5347456.0",
         "49522145.0",
         "9.0"
        ],
        [
         "40",
         "Europa",
         "Estonia",
         "6",
         "8",
         "115789.0",
         "807288.0",
         "6.0"
        ],
        [
         "41",
         "Oceanía",
         "Fiji",
         "3",
         "12",
         "182.0",
         "1510.0",
         "8.0"
        ],
        [
         "42",
         "Asia",
         "Filipinas",
         "7",
         "7",
         "74609.0",
         "869801.0",
         "11.0"
        ],
        [
         "43",
         "Europa",
         "Finlandia",
         "24",
         "5",
         "553826.0",
         "3463308.0",
         "6.0"
        ],
        [
         "44",
         "Europa",
         "Francia",
         "11",
         "6",
         "66090285.0",
         "232898635.0",
         "3.0"
        ],
        [
         "45",
         "Asia",
         "Georgia",
         "3",
         "8",
         "38270.0",
         "256203.0",
         "6.0"
        ],
        [
         "46",
         "América",
         "Granada",
         "2",
         "7",
         null,
         null,
         null
        ],
        [
         "47",
         "Europa",
         "Grecia",
         "26",
         "7",
         "2315484.0",
         "16882657.0",
         "7.0"
        ],
        [
         "48",
         "América",
         "Guadalupe",
         "2",
         "7",
         null,
         null,
         null
        ],
        [
         "49",
         "América",
         "Guatemala",
         "11",
         "11",
         "70691.0",
         "593772.0",
         "8.0"
        ]
       ],
       "shape": {
        "columns": 7,
        "rows": 126
       }
      },
      "text/html": [
       "<div>\n",
       "<style scoped>\n",
       "    .dataframe tbody tr th:only-of-type {\n",
       "        vertical-align: middle;\n",
       "    }\n",
       "\n",
       "    .dataframe tbody tr th {\n",
       "        vertical-align: top;\n",
       "    }\n",
       "\n",
       "    .dataframe thead th {\n",
       "        text-align: right;\n",
       "    }\n",
       "</style>\n",
       "<table border=\"1\" class=\"dataframe\">\n",
       "  <thead>\n",
       "    <tr style=\"text-align: right;\">\n",
       "      <th></th>\n",
       "      <th>nombre_continente</th>\n",
       "      <th>nombre_pais_destino</th>\n",
       "      <th>num_viajes_ofertados_tui</th>\n",
       "      <th>promedio_pernoctaciones_viajes_tui</th>\n",
       "      <th>suma_turistas</th>\n",
       "      <th>suma_pernoctaciones</th>\n",
       "      <th>promedio_pernoctaciones_turismo_emisor</th>\n",
       "    </tr>\n",
       "  </thead>\n",
       "  <tbody>\n",
       "    <tr>\n",
       "      <th>0</th>\n",
       "      <td>Europa</td>\n",
       "      <td>Albania</td>\n",
       "      <td>5</td>\n",
       "      <td>9</td>\n",
       "      <td>180212.0</td>\n",
       "      <td>1115910.0</td>\n",
       "      <td>6.0</td>\n",
       "    </tr>\n",
       "    <tr>\n",
       "      <th>1</th>\n",
       "      <td>Europa</td>\n",
       "      <td>Alemania</td>\n",
       "      <td>20</td>\n",
       "      <td>7</td>\n",
       "      <td>11949860.0</td>\n",
       "      <td>68516775.0</td>\n",
       "      <td>5.0</td>\n",
       "    </tr>\n",
       "    <tr>\n",
       "      <th>2</th>\n",
       "      <td>América</td>\n",
       "      <td>Antigua</td>\n",
       "      <td>2</td>\n",
       "      <td>7</td>\n",
       "      <td>220.0</td>\n",
       "      <td>1900.0</td>\n",
       "      <td>8.0</td>\n",
       "    </tr>\n",
       "    <tr>\n",
       "      <th>3</th>\n",
       "      <td>Asia</td>\n",
       "      <td>Arabia Saudi</td>\n",
       "      <td>1</td>\n",
       "      <td>7</td>\n",
       "      <td>150581.0</td>\n",
       "      <td>970902.0</td>\n",
       "      <td>6.0</td>\n",
       "    </tr>\n",
       "    <tr>\n",
       "      <th>4</th>\n",
       "      <td>América</td>\n",
       "      <td>Argentina</td>\n",
       "      <td>26</td>\n",
       "      <td>11</td>\n",
       "      <td>615534.0</td>\n",
       "      <td>6812392.0</td>\n",
       "      <td>11.0</td>\n",
       "    </tr>\n",
       "    <tr>\n",
       "      <th>...</th>\n",
       "      <td>...</td>\n",
       "      <td>...</td>\n",
       "      <td>...</td>\n",
       "      <td>...</td>\n",
       "      <td>...</td>\n",
       "      <td>...</td>\n",
       "      <td>...</td>\n",
       "    </tr>\n",
       "    <tr>\n",
       "      <th>121</th>\n",
       "      <td>América</td>\n",
       "      <td>Uruguay</td>\n",
       "      <td>1</td>\n",
       "      <td>7</td>\n",
       "      <td>84503.0</td>\n",
       "      <td>897617.0</td>\n",
       "      <td>10.0</td>\n",
       "    </tr>\n",
       "    <tr>\n",
       "      <th>122</th>\n",
       "      <td>Asia</td>\n",
       "      <td>Uzbekistan</td>\n",
       "      <td>4</td>\n",
       "      <td>7</td>\n",
       "      <td>41950.0</td>\n",
       "      <td>314907.0</td>\n",
       "      <td>7.0</td>\n",
       "    </tr>\n",
       "    <tr>\n",
       "      <th>123</th>\n",
       "      <td>Asia</td>\n",
       "      <td>Vietnam</td>\n",
       "      <td>43</td>\n",
       "      <td>11</td>\n",
       "      <td>130169.0</td>\n",
       "      <td>1477676.0</td>\n",
       "      <td>11.0</td>\n",
       "    </tr>\n",
       "    <tr>\n",
       "      <th>124</th>\n",
       "      <td>África</td>\n",
       "      <td>Zanzibar</td>\n",
       "      <td>23</td>\n",
       "      <td>8</td>\n",
       "      <td>NaN</td>\n",
       "      <td>NaN</td>\n",
       "      <td>NaN</td>\n",
       "    </tr>\n",
       "    <tr>\n",
       "      <th>125</th>\n",
       "      <td>África</td>\n",
       "      <td>Zimbabue</td>\n",
       "      <td>15</td>\n",
       "      <td>12</td>\n",
       "      <td>3364.0</td>\n",
       "      <td>34893.0</td>\n",
       "      <td>10.0</td>\n",
       "    </tr>\n",
       "  </tbody>\n",
       "</table>\n",
       "<p>126 rows × 7 columns</p>\n",
       "</div>"
      ],
      "text/plain": [
       "    nombre_continente nombre_pais_destino  num_viajes_ofertados_tui  \\\n",
       "0              Europa             Albania                         5   \n",
       "1              Europa            Alemania                        20   \n",
       "2             América             Antigua                         2   \n",
       "3                Asia        Arabia Saudi                         1   \n",
       "4             América           Argentina                        26   \n",
       "..                ...                 ...                       ...   \n",
       "121           América             Uruguay                         1   \n",
       "122              Asia          Uzbekistan                         4   \n",
       "123              Asia             Vietnam                        43   \n",
       "124            África            Zanzibar                        23   \n",
       "125            África            Zimbabue                        15   \n",
       "\n",
       "    promedio_pernoctaciones_viajes_tui  suma_turistas  suma_pernoctaciones  \\\n",
       "0                                    9       180212.0            1115910.0   \n",
       "1                                    7     11949860.0           68516775.0   \n",
       "2                                    7          220.0               1900.0   \n",
       "3                                    7       150581.0             970902.0   \n",
       "4                                   11       615534.0            6812392.0   \n",
       "..                                 ...            ...                  ...   \n",
       "121                                  7        84503.0             897617.0   \n",
       "122                                  7        41950.0             314907.0   \n",
       "123                                 11       130169.0            1477676.0   \n",
       "124                                  8            NaN                  NaN   \n",
       "125                                 12         3364.0              34893.0   \n",
       "\n",
       "     promedio_pernoctaciones_turismo_emisor  \n",
       "0                                       6.0  \n",
       "1                                       5.0  \n",
       "2                                       8.0  \n",
       "3                                       6.0  \n",
       "4                                      11.0  \n",
       "..                                      ...  \n",
       "121                                    10.0  \n",
       "122                                     7.0  \n",
       "123                                    11.0  \n",
       "124                                     NaN  \n",
       "125                                    10.0  \n",
       "\n",
       "[126 rows x 7 columns]"
      ]
     },
     "execution_count": 113,
     "metadata": {},
     "output_type": "execute_result"
    }
   ],
   "source": [
    "query_extraccion = '''\n",
    "WITH cte_turismo_emisor_resumen AS (\n",
    "  SELECT \n",
    "    id_pais_destino,\n",
    "    SUM(num_turistas) AS suma_turistas,\n",
    "    SUM(num_pernoctaciones) AS suma_pernoctaciones\n",
    "  FROM turismo_emisor\n",
    "  GROUP BY id_pais_destino\n",
    ")\n",
    "\n",
    "-- EJECUTO LA CONSULTA\n",
    "SELECT \n",
    "  pd.nombre_continente AS continente,\n",
    "  pd.nombre_pais_destino AS pais_destino, \n",
    "  COUNT(DISTINCT v.id_viaje) AS num_viajes_ofertados_tui,\n",
    "  ROUND(AVG(v.duracion_noches), 0) AS promedio_pernoctaciones_viajes_tui,\n",
    "  te.suma_turistas,\n",
    "  te.suma_pernoctaciones,\n",
    "   (te.suma_pernoctaciones / te.suma_turistas) AS promedio_pernoctaciones_turismo_emisor\n",
    "FROM viaje v\n",
    "LEFT JOIN combinacion_destino_viaje cdv ON v.id_viaje = cdv.id_viaje\n",
    "LEFT JOIN pais_destino pd ON cdv.id_pais_destino = pd.id_pais_destino\n",
    "LEFT JOIN cte_turismo_emisor_resumen te ON pd.id_pais_destino = te.id_pais_destino\n",
    "GROUP BY 1, 2, 5, 6, 7\n",
    "ORDER BY pais_destino;'''\n",
    "lista_columnas = [ 'nombre_continente', 'nombre_pais_destino', 'num_viajes_ofertados_tui', 'promedio_pernoctaciones_viajes_tui','suma_turistas', 'suma_pernoctaciones', 'promedio_pernoctaciones_turismo_emisor']\n",
    "df_combi_tui_web_tur_emisor_ciudad= exp.extraer_datos_bbdd_y_convertir_en_df(lista_columnas,query_extraccion)\n",
    "df_combi_tui_web_tur_emisor_ciudad"
   ]
  },
  {
   "cell_type": "markdown",
   "id": "9a908420",
   "metadata": {},
   "source": [
    "# Creo DF con los paises el num. de viajes por web y el num viajes por ciudad (agrupando por pais)."
   ]
  },
  {
   "cell_type": "code",
   "execution_count": 114,
   "id": "b205756f",
   "metadata": {},
   "outputs": [],
   "source": [
    "df_paises_con_viajes_y_turismo = df_paises.copy()"
   ]
  },
  {
   "cell_type": "code",
   "execution_count": 115,
   "id": "bbd66707",
   "metadata": {},
   "outputs": [
    {
     "data": {
      "application/vnd.microsoft.datawrangler.viewer.v0+json": {
       "columns": [
        {
         "name": "index",
         "rawType": "int64",
         "type": "integer"
        },
        {
         "name": "id_pais_destino",
         "rawType": "int64",
         "type": "integer"
        },
        {
         "name": "nombre_pais_destino",
         "rawType": "object",
         "type": "string"
        },
        {
         "name": "nombre_continente",
         "rawType": "object",
         "type": "string"
        }
       ],
       "conversionMethod": "pd.DataFrame",
       "ref": "140a665c-c417-4f50-88cd-2981fedd6862",
       "rows": [
        [
         "0",
         "1",
         "Albania",
         "Europa"
        ],
        [
         "1",
         "2",
         "Alemania",
         "Europa"
        ],
        [
         "2",
         "3",
         "Andorra",
         "Europa"
        ],
        [
         "3",
         "4",
         "Angola",
         "África"
        ],
        [
         "4",
         "5",
         "Antigua",
         "América"
        ],
        [
         "5",
         "6",
         "Arabia Saudi",
         "Asia"
        ],
        [
         "6",
         "7",
         "Argelia",
         "África"
        ],
        [
         "7",
         "8",
         "Argentina",
         "América"
        ],
        [
         "8",
         "9",
         "Armenia",
         "Asia"
        ],
        [
         "9",
         "10",
         "Aruba",
         "América"
        ],
        [
         "10",
         "11",
         "Australia",
         "Oceanía"
        ],
        [
         "11",
         "12",
         "Austria",
         "Europa"
        ],
        [
         "12",
         "13",
         "Azerbaiyan",
         "Asia"
        ],
        [
         "13",
         "14",
         "Bahamas",
         "América"
        ],
        [
         "14",
         "15",
         "Bahrein",
         "Asia"
        ],
        [
         "15",
         "16",
         "Bangladesh",
         "Asia"
        ],
        [
         "16",
         "17",
         "Barbados",
         "América"
        ],
        [
         "17",
         "18",
         "Belarus",
         "Europa"
        ],
        [
         "18",
         "19",
         "Belgica",
         "Europa"
        ],
        [
         "19",
         "20",
         "Belice",
         "América"
        ],
        [
         "20",
         "21",
         "Benin",
         "África"
        ],
        [
         "21",
         "22",
         "Bolivia",
         "América"
        ],
        [
         "22",
         "23",
         "Bosnia Y Herzegovina",
         "Europa"
        ],
        [
         "23",
         "24",
         "Botsuana",
         "África"
        ],
        [
         "24",
         "25",
         "Brasil",
         "América"
        ],
        [
         "25",
         "26",
         "Bulgaria",
         "Europa"
        ],
        [
         "26",
         "27",
         "Burkina Faso",
         "África"
        ],
        [
         "27",
         "28",
         "Butan",
         "Asia"
        ],
        [
         "28",
         "29",
         "Cabo Verde",
         "África"
        ],
        [
         "29",
         "30",
         "Camboya",
         "Asia"
        ],
        [
         "30",
         "31",
         "Camerun",
         "África"
        ],
        [
         "31",
         "32",
         "Canada",
         "América"
        ],
        [
         "32",
         "33",
         "Catar",
         "Asia"
        ],
        [
         "33",
         "34",
         "Chad",
         "África"
        ],
        [
         "34",
         "35",
         "Chequia",
         "Europa"
        ],
        [
         "35",
         "36",
         "Chile",
         "América"
        ],
        [
         "36",
         "37",
         "China",
         "Asia"
        ],
        [
         "37",
         "38",
         "Chipre",
         "Europa"
        ],
        [
         "38",
         "39",
         "Colombia",
         "América"
        ],
        [
         "39",
         "40",
         "Corea Del Sur",
         "Asia"
        ],
        [
         "40",
         "41",
         "Costa De Marfil",
         "África"
        ],
        [
         "41",
         "42",
         "Costa Rica",
         "América"
        ],
        [
         "42",
         "43",
         "Croacia",
         "Europa"
        ],
        [
         "43",
         "44",
         "Cuba",
         "América"
        ],
        [
         "44",
         "45",
         "Curacao",
         "América"
        ],
        [
         "45",
         "46",
         "Dinamarca",
         "Europa"
        ],
        [
         "46",
         "47",
         "Djibouti",
         "África"
        ],
        [
         "47",
         "48",
         "Dominica",
         "América"
        ],
        [
         "48",
         "49",
         "Ecuador",
         "América"
        ],
        [
         "49",
         "50",
         "Egipto",
         "África"
        ]
       ],
       "shape": {
        "columns": 3,
        "rows": 188
       }
      },
      "text/html": [
       "<div>\n",
       "<style scoped>\n",
       "    .dataframe tbody tr th:only-of-type {\n",
       "        vertical-align: middle;\n",
       "    }\n",
       "\n",
       "    .dataframe tbody tr th {\n",
       "        vertical-align: top;\n",
       "    }\n",
       "\n",
       "    .dataframe thead th {\n",
       "        text-align: right;\n",
       "    }\n",
       "</style>\n",
       "<table border=\"1\" class=\"dataframe\">\n",
       "  <thead>\n",
       "    <tr style=\"text-align: right;\">\n",
       "      <th></th>\n",
       "      <th>id_pais_destino</th>\n",
       "      <th>nombre_pais_destino</th>\n",
       "      <th>nombre_continente</th>\n",
       "    </tr>\n",
       "  </thead>\n",
       "  <tbody>\n",
       "    <tr>\n",
       "      <th>0</th>\n",
       "      <td>1</td>\n",
       "      <td>Albania</td>\n",
       "      <td>Europa</td>\n",
       "    </tr>\n",
       "    <tr>\n",
       "      <th>1</th>\n",
       "      <td>2</td>\n",
       "      <td>Alemania</td>\n",
       "      <td>Europa</td>\n",
       "    </tr>\n",
       "    <tr>\n",
       "      <th>2</th>\n",
       "      <td>3</td>\n",
       "      <td>Andorra</td>\n",
       "      <td>Europa</td>\n",
       "    </tr>\n",
       "    <tr>\n",
       "      <th>3</th>\n",
       "      <td>4</td>\n",
       "      <td>Angola</td>\n",
       "      <td>África</td>\n",
       "    </tr>\n",
       "    <tr>\n",
       "      <th>4</th>\n",
       "      <td>5</td>\n",
       "      <td>Antigua</td>\n",
       "      <td>América</td>\n",
       "    </tr>\n",
       "    <tr>\n",
       "      <th>...</th>\n",
       "      <td>...</td>\n",
       "      <td>...</td>\n",
       "      <td>...</td>\n",
       "    </tr>\n",
       "    <tr>\n",
       "      <th>183</th>\n",
       "      <td>184</td>\n",
       "      <td>Vietnam</td>\n",
       "      <td>Asia</td>\n",
       "    </tr>\n",
       "    <tr>\n",
       "      <th>184</th>\n",
       "      <td>185</td>\n",
       "      <td>Yemen</td>\n",
       "      <td>Asia</td>\n",
       "    </tr>\n",
       "    <tr>\n",
       "      <th>185</th>\n",
       "      <td>186</td>\n",
       "      <td>Zambia</td>\n",
       "      <td>África</td>\n",
       "    </tr>\n",
       "    <tr>\n",
       "      <th>186</th>\n",
       "      <td>187</td>\n",
       "      <td>Zanzibar</td>\n",
       "      <td>África</td>\n",
       "    </tr>\n",
       "    <tr>\n",
       "      <th>187</th>\n",
       "      <td>188</td>\n",
       "      <td>Zimbabue</td>\n",
       "      <td>África</td>\n",
       "    </tr>\n",
       "  </tbody>\n",
       "</table>\n",
       "<p>188 rows × 3 columns</p>\n",
       "</div>"
      ],
      "text/plain": [
       "     id_pais_destino nombre_pais_destino nombre_continente\n",
       "0                  1             Albania            Europa\n",
       "1                  2            Alemania            Europa\n",
       "2                  3             Andorra            Europa\n",
       "3                  4              Angola            África\n",
       "4                  5             Antigua           América\n",
       "..               ...                 ...               ...\n",
       "183              184             Vietnam              Asia\n",
       "184              185               Yemen              Asia\n",
       "185              186              Zambia            África\n",
       "186              187            Zanzibar            África\n",
       "187              188            Zimbabue            África\n",
       "\n",
       "[188 rows x 3 columns]"
      ]
     },
     "execution_count": 115,
     "metadata": {},
     "output_type": "execute_result"
    }
   ],
   "source": [
    "df_paises_con_viajes_y_turismo"
   ]
  },
  {
   "cell_type": "code",
   "execution_count": 116,
   "id": "587796f2",
   "metadata": {},
   "outputs": [],
   "source": [
    "df_paises_con_viajes_y_turismo[['num_viajes_tui_web', 'num_viajes_segun_viaje_itinerario', \n",
    "                                'total_turistas','total_pernoctaciones']] = None"
   ]
  },
  {
   "cell_type": "code",
   "execution_count": 117,
   "id": "386445df",
   "metadata": {},
   "outputs": [
    {
     "data": {
      "application/vnd.microsoft.datawrangler.viewer.v0+json": {
       "columns": [
        {
         "name": "index",
         "rawType": "int64",
         "type": "integer"
        },
        {
         "name": "id_pais_destino",
         "rawType": "int64",
         "type": "integer"
        },
        {
         "name": "nombre_pais_destino",
         "rawType": "object",
         "type": "string"
        },
        {
         "name": "nombre_continente",
         "rawType": "object",
         "type": "string"
        },
        {
         "name": "num_viajes_tui_web",
         "rawType": "object",
         "type": "unknown"
        },
        {
         "name": "num_viajes_segun_viaje_itinerario",
         "rawType": "object",
         "type": "unknown"
        },
        {
         "name": "total_turistas",
         "rawType": "object",
         "type": "unknown"
        },
        {
         "name": "total_pernoctaciones",
         "rawType": "object",
         "type": "unknown"
        }
       ],
       "conversionMethod": "pd.DataFrame",
       "ref": "7dacd8f7-7fe3-44bd-99a4-31c9c40a519b",
       "rows": [
        [
         "0",
         "1",
         "Albania",
         "Europa",
         null,
         null,
         null,
         null
        ],
        [
         "1",
         "2",
         "Alemania",
         "Europa",
         null,
         null,
         null,
         null
        ],
        [
         "2",
         "3",
         "Andorra",
         "Europa",
         null,
         null,
         null,
         null
        ],
        [
         "3",
         "4",
         "Angola",
         "África",
         null,
         null,
         null,
         null
        ],
        [
         "4",
         "5",
         "Antigua",
         "América",
         null,
         null,
         null,
         null
        ],
        [
         "5",
         "6",
         "Arabia Saudi",
         "Asia",
         null,
         null,
         null,
         null
        ],
        [
         "6",
         "7",
         "Argelia",
         "África",
         null,
         null,
         null,
         null
        ],
        [
         "7",
         "8",
         "Argentina",
         "América",
         null,
         null,
         null,
         null
        ],
        [
         "8",
         "9",
         "Armenia",
         "Asia",
         null,
         null,
         null,
         null
        ],
        [
         "9",
         "10",
         "Aruba",
         "América",
         null,
         null,
         null,
         null
        ],
        [
         "10",
         "11",
         "Australia",
         "Oceanía",
         null,
         null,
         null,
         null
        ],
        [
         "11",
         "12",
         "Austria",
         "Europa",
         null,
         null,
         null,
         null
        ],
        [
         "12",
         "13",
         "Azerbaiyan",
         "Asia",
         null,
         null,
         null,
         null
        ],
        [
         "13",
         "14",
         "Bahamas",
         "América",
         null,
         null,
         null,
         null
        ],
        [
         "14",
         "15",
         "Bahrein",
         "Asia",
         null,
         null,
         null,
         null
        ],
        [
         "15",
         "16",
         "Bangladesh",
         "Asia",
         null,
         null,
         null,
         null
        ],
        [
         "16",
         "17",
         "Barbados",
         "América",
         null,
         null,
         null,
         null
        ],
        [
         "17",
         "18",
         "Belarus",
         "Europa",
         null,
         null,
         null,
         null
        ],
        [
         "18",
         "19",
         "Belgica",
         "Europa",
         null,
         null,
         null,
         null
        ],
        [
         "19",
         "20",
         "Belice",
         "América",
         null,
         null,
         null,
         null
        ],
        [
         "20",
         "21",
         "Benin",
         "África",
         null,
         null,
         null,
         null
        ],
        [
         "21",
         "22",
         "Bolivia",
         "América",
         null,
         null,
         null,
         null
        ],
        [
         "22",
         "23",
         "Bosnia Y Herzegovina",
         "Europa",
         null,
         null,
         null,
         null
        ],
        [
         "23",
         "24",
         "Botsuana",
         "África",
         null,
         null,
         null,
         null
        ],
        [
         "24",
         "25",
         "Brasil",
         "América",
         null,
         null,
         null,
         null
        ],
        [
         "25",
         "26",
         "Bulgaria",
         "Europa",
         null,
         null,
         null,
         null
        ],
        [
         "26",
         "27",
         "Burkina Faso",
         "África",
         null,
         null,
         null,
         null
        ],
        [
         "27",
         "28",
         "Butan",
         "Asia",
         null,
         null,
         null,
         null
        ],
        [
         "28",
         "29",
         "Cabo Verde",
         "África",
         null,
         null,
         null,
         null
        ],
        [
         "29",
         "30",
         "Camboya",
         "Asia",
         null,
         null,
         null,
         null
        ],
        [
         "30",
         "31",
         "Camerun",
         "África",
         null,
         null,
         null,
         null
        ],
        [
         "31",
         "32",
         "Canada",
         "América",
         null,
         null,
         null,
         null
        ],
        [
         "32",
         "33",
         "Catar",
         "Asia",
         null,
         null,
         null,
         null
        ],
        [
         "33",
         "34",
         "Chad",
         "África",
         null,
         null,
         null,
         null
        ],
        [
         "34",
         "35",
         "Chequia",
         "Europa",
         null,
         null,
         null,
         null
        ],
        [
         "35",
         "36",
         "Chile",
         "América",
         null,
         null,
         null,
         null
        ],
        [
         "36",
         "37",
         "China",
         "Asia",
         null,
         null,
         null,
         null
        ],
        [
         "37",
         "38",
         "Chipre",
         "Europa",
         null,
         null,
         null,
         null
        ],
        [
         "38",
         "39",
         "Colombia",
         "América",
         null,
         null,
         null,
         null
        ],
        [
         "39",
         "40",
         "Corea Del Sur",
         "Asia",
         null,
         null,
         null,
         null
        ],
        [
         "40",
         "41",
         "Costa De Marfil",
         "África",
         null,
         null,
         null,
         null
        ],
        [
         "41",
         "42",
         "Costa Rica",
         "América",
         null,
         null,
         null,
         null
        ],
        [
         "42",
         "43",
         "Croacia",
         "Europa",
         null,
         null,
         null,
         null
        ],
        [
         "43",
         "44",
         "Cuba",
         "América",
         null,
         null,
         null,
         null
        ],
        [
         "44",
         "45",
         "Curacao",
         "América",
         null,
         null,
         null,
         null
        ],
        [
         "45",
         "46",
         "Dinamarca",
         "Europa",
         null,
         null,
         null,
         null
        ],
        [
         "46",
         "47",
         "Djibouti",
         "África",
         null,
         null,
         null,
         null
        ],
        [
         "47",
         "48",
         "Dominica",
         "América",
         null,
         null,
         null,
         null
        ],
        [
         "48",
         "49",
         "Ecuador",
         "América",
         null,
         null,
         null,
         null
        ],
        [
         "49",
         "50",
         "Egipto",
         "África",
         null,
         null,
         null,
         null
        ]
       ],
       "shape": {
        "columns": 7,
        "rows": 188
       }
      },
      "text/html": [
       "<div>\n",
       "<style scoped>\n",
       "    .dataframe tbody tr th:only-of-type {\n",
       "        vertical-align: middle;\n",
       "    }\n",
       "\n",
       "    .dataframe tbody tr th {\n",
       "        vertical-align: top;\n",
       "    }\n",
       "\n",
       "    .dataframe thead th {\n",
       "        text-align: right;\n",
       "    }\n",
       "</style>\n",
       "<table border=\"1\" class=\"dataframe\">\n",
       "  <thead>\n",
       "    <tr style=\"text-align: right;\">\n",
       "      <th></th>\n",
       "      <th>id_pais_destino</th>\n",
       "      <th>nombre_pais_destino</th>\n",
       "      <th>nombre_continente</th>\n",
       "      <th>num_viajes_tui_web</th>\n",
       "      <th>num_viajes_segun_viaje_itinerario</th>\n",
       "      <th>total_turistas</th>\n",
       "      <th>total_pernoctaciones</th>\n",
       "    </tr>\n",
       "  </thead>\n",
       "  <tbody>\n",
       "    <tr>\n",
       "      <th>0</th>\n",
       "      <td>1</td>\n",
       "      <td>Albania</td>\n",
       "      <td>Europa</td>\n",
       "      <td>None</td>\n",
       "      <td>None</td>\n",
       "      <td>None</td>\n",
       "      <td>None</td>\n",
       "    </tr>\n",
       "    <tr>\n",
       "      <th>1</th>\n",
       "      <td>2</td>\n",
       "      <td>Alemania</td>\n",
       "      <td>Europa</td>\n",
       "      <td>None</td>\n",
       "      <td>None</td>\n",
       "      <td>None</td>\n",
       "      <td>None</td>\n",
       "    </tr>\n",
       "    <tr>\n",
       "      <th>2</th>\n",
       "      <td>3</td>\n",
       "      <td>Andorra</td>\n",
       "      <td>Europa</td>\n",
       "      <td>None</td>\n",
       "      <td>None</td>\n",
       "      <td>None</td>\n",
       "      <td>None</td>\n",
       "    </tr>\n",
       "    <tr>\n",
       "      <th>3</th>\n",
       "      <td>4</td>\n",
       "      <td>Angola</td>\n",
       "      <td>África</td>\n",
       "      <td>None</td>\n",
       "      <td>None</td>\n",
       "      <td>None</td>\n",
       "      <td>None</td>\n",
       "    </tr>\n",
       "    <tr>\n",
       "      <th>4</th>\n",
       "      <td>5</td>\n",
       "      <td>Antigua</td>\n",
       "      <td>América</td>\n",
       "      <td>None</td>\n",
       "      <td>None</td>\n",
       "      <td>None</td>\n",
       "      <td>None</td>\n",
       "    </tr>\n",
       "    <tr>\n",
       "      <th>...</th>\n",
       "      <td>...</td>\n",
       "      <td>...</td>\n",
       "      <td>...</td>\n",
       "      <td>...</td>\n",
       "      <td>...</td>\n",
       "      <td>...</td>\n",
       "      <td>...</td>\n",
       "    </tr>\n",
       "    <tr>\n",
       "      <th>183</th>\n",
       "      <td>184</td>\n",
       "      <td>Vietnam</td>\n",
       "      <td>Asia</td>\n",
       "      <td>None</td>\n",
       "      <td>None</td>\n",
       "      <td>None</td>\n",
       "      <td>None</td>\n",
       "    </tr>\n",
       "    <tr>\n",
       "      <th>184</th>\n",
       "      <td>185</td>\n",
       "      <td>Yemen</td>\n",
       "      <td>Asia</td>\n",
       "      <td>None</td>\n",
       "      <td>None</td>\n",
       "      <td>None</td>\n",
       "      <td>None</td>\n",
       "    </tr>\n",
       "    <tr>\n",
       "      <th>185</th>\n",
       "      <td>186</td>\n",
       "      <td>Zambia</td>\n",
       "      <td>África</td>\n",
       "      <td>None</td>\n",
       "      <td>None</td>\n",
       "      <td>None</td>\n",
       "      <td>None</td>\n",
       "    </tr>\n",
       "    <tr>\n",
       "      <th>186</th>\n",
       "      <td>187</td>\n",
       "      <td>Zanzibar</td>\n",
       "      <td>África</td>\n",
       "      <td>None</td>\n",
       "      <td>None</td>\n",
       "      <td>None</td>\n",
       "      <td>None</td>\n",
       "    </tr>\n",
       "    <tr>\n",
       "      <th>187</th>\n",
       "      <td>188</td>\n",
       "      <td>Zimbabue</td>\n",
       "      <td>África</td>\n",
       "      <td>None</td>\n",
       "      <td>None</td>\n",
       "      <td>None</td>\n",
       "      <td>None</td>\n",
       "    </tr>\n",
       "  </tbody>\n",
       "</table>\n",
       "<p>188 rows × 7 columns</p>\n",
       "</div>"
      ],
      "text/plain": [
       "     id_pais_destino nombre_pais_destino nombre_continente num_viajes_tui_web  \\\n",
       "0                  1             Albania            Europa               None   \n",
       "1                  2            Alemania            Europa               None   \n",
       "2                  3             Andorra            Europa               None   \n",
       "3                  4              Angola            África               None   \n",
       "4                  5             Antigua           América               None   \n",
       "..               ...                 ...               ...                ...   \n",
       "183              184             Vietnam              Asia               None   \n",
       "184              185               Yemen              Asia               None   \n",
       "185              186              Zambia            África               None   \n",
       "186              187            Zanzibar            África               None   \n",
       "187              188            Zimbabue            África               None   \n",
       "\n",
       "    num_viajes_segun_viaje_itinerario total_turistas total_pernoctaciones  \n",
       "0                                None           None                 None  \n",
       "1                                None           None                 None  \n",
       "2                                None           None                 None  \n",
       "3                                None           None                 None  \n",
       "4                                None           None                 None  \n",
       "..                                ...            ...                  ...  \n",
       "183                              None           None                 None  \n",
       "184                              None           None                 None  \n",
       "185                              None           None                 None  \n",
       "186                              None           None                 None  \n",
       "187                              None           None                 None  \n",
       "\n",
       "[188 rows x 7 columns]"
      ]
     },
     "execution_count": 117,
     "metadata": {},
     "output_type": "execute_result"
    }
   ],
   "source": [
    "df_paises_con_viajes_y_turismo"
   ]
  },
  {
   "cell_type": "code",
   "execution_count": 118,
   "id": "632f1785",
   "metadata": {},
   "outputs": [],
   "source": [
    "ex.incorporar_información_df_original(df_paises_con_viajes_y_turismo,\n",
    "                                                                      df_viajes_localizacion_pag_web_agrupado_pais,'id_pais_destino','id_viaje','num_viajes_tui_web')"
   ]
  },
  {
   "cell_type": "code",
   "execution_count": 119,
   "id": "f84c904c",
   "metadata": {},
   "outputs": [
    {
     "data": {
      "application/vnd.microsoft.datawrangler.viewer.v0+json": {
       "columns": [
        {
         "name": "index",
         "rawType": "int64",
         "type": "integer"
        },
        {
         "name": "id_pais_destino",
         "rawType": "int64",
         "type": "integer"
        },
        {
         "name": "nombre_pais_destino",
         "rawType": "object",
         "type": "string"
        },
        {
         "name": "nombre_continente",
         "rawType": "object",
         "type": "string"
        },
        {
         "name": "num_viajes_tui_web",
         "rawType": "float64",
         "type": "float"
        },
        {
         "name": "num_viajes_segun_viaje_itinerario",
         "rawType": "object",
         "type": "unknown"
        },
        {
         "name": "total_turistas",
         "rawType": "object",
         "type": "unknown"
        },
        {
         "name": "total_pernoctaciones",
         "rawType": "object",
         "type": "unknown"
        }
       ],
       "conversionMethod": "pd.DataFrame",
       "ref": "6252c0e1-4f80-47d1-b9b7-58dba191c524",
       "rows": [
        [
         "0",
         "1",
         "Albania",
         "Europa",
         "5.0",
         null,
         null,
         null
        ],
        [
         "1",
         "2",
         "Alemania",
         "Europa",
         "20.0",
         null,
         null,
         null
        ],
        [
         "2",
         "3",
         "Andorra",
         "Europa",
         null,
         null,
         null,
         null
        ],
        [
         "3",
         "4",
         "Angola",
         "África",
         null,
         null,
         null,
         null
        ],
        [
         "4",
         "5",
         "Antigua",
         "América",
         "2.0",
         null,
         null,
         null
        ],
        [
         "5",
         "6",
         "Arabia Saudi",
         "Asia",
         "1.0",
         null,
         null,
         null
        ],
        [
         "6",
         "7",
         "Argelia",
         "África",
         null,
         null,
         null,
         null
        ],
        [
         "7",
         "8",
         "Argentina",
         "América",
         "26.0",
         null,
         null,
         null
        ],
        [
         "8",
         "9",
         "Armenia",
         "Asia",
         "3.0",
         null,
         null,
         null
        ],
        [
         "9",
         "10",
         "Aruba",
         "América",
         "3.0",
         null,
         null,
         null
        ],
        [
         "10",
         "11",
         "Australia",
         "Oceanía",
         "17.0",
         null,
         null,
         null
        ],
        [
         "11",
         "12",
         "Austria",
         "Europa",
         "21.0",
         null,
         null,
         null
        ],
        [
         "12",
         "13",
         "Azerbaiyan",
         "Asia",
         null,
         null,
         null,
         null
        ],
        [
         "13",
         "14",
         "Bahamas",
         "América",
         "7.0",
         null,
         null,
         null
        ],
        [
         "14",
         "15",
         "Bahrein",
         "Asia",
         null,
         null,
         null,
         null
        ],
        [
         "15",
         "16",
         "Bangladesh",
         "Asia",
         null,
         null,
         null,
         null
        ],
        [
         "16",
         "17",
         "Barbados",
         "América",
         "2.0",
         null,
         null,
         null
        ],
        [
         "17",
         "18",
         "Belarus",
         "Europa",
         null,
         null,
         null,
         null
        ],
        [
         "18",
         "19",
         "Belgica",
         "Europa",
         "5.0",
         null,
         null,
         null
        ],
        [
         "19",
         "20",
         "Belice",
         "América",
         "2.0",
         null,
         null,
         null
        ],
        [
         "20",
         "21",
         "Benin",
         "África",
         null,
         null,
         null,
         null
        ],
        [
         "21",
         "22",
         "Bolivia",
         "América",
         "3.0",
         null,
         null,
         null
        ],
        [
         "22",
         "23",
         "Bosnia Y Herzegovina",
         "Europa",
         "3.0",
         null,
         null,
         null
        ],
        [
         "23",
         "24",
         "Botsuana",
         "África",
         "12.0",
         null,
         null,
         null
        ],
        [
         "24",
         "25",
         "Brasil",
         "América",
         "11.0",
         null,
         null,
         null
        ],
        [
         "25",
         "26",
         "Bulgaria",
         "Europa",
         "4.0",
         null,
         null,
         null
        ],
        [
         "26",
         "27",
         "Burkina Faso",
         "África",
         null,
         null,
         null,
         null
        ],
        [
         "27",
         "28",
         "Butan",
         "Asia",
         "6.0",
         null,
         null,
         null
        ],
        [
         "28",
         "29",
         "Cabo Verde",
         "África",
         "3.0",
         null,
         null,
         null
        ],
        [
         "29",
         "30",
         "Camboya",
         "Asia",
         "16.0",
         null,
         null,
         null
        ],
        [
         "30",
         "31",
         "Camerun",
         "África",
         null,
         null,
         null,
         null
        ],
        [
         "31",
         "32",
         "Canada",
         "América",
         "59.0",
         null,
         null,
         null
        ],
        [
         "32",
         "33",
         "Catar",
         "Asia",
         null,
         null,
         null,
         null
        ],
        [
         "33",
         "34",
         "Chad",
         "África",
         null,
         null,
         null,
         null
        ],
        [
         "34",
         "35",
         "Chequia",
         "Europa",
         null,
         null,
         null,
         null
        ],
        [
         "35",
         "36",
         "Chile",
         "América",
         "21.0",
         null,
         null,
         null
        ],
        [
         "36",
         "37",
         "China",
         "Asia",
         "31.0",
         null,
         null,
         null
        ],
        [
         "37",
         "38",
         "Chipre",
         "Europa",
         "2.0",
         null,
         null,
         null
        ],
        [
         "38",
         "39",
         "Colombia",
         "América",
         "19.0",
         null,
         null,
         null
        ],
        [
         "39",
         "40",
         "Corea Del Sur",
         "Asia",
         "5.0",
         null,
         null,
         null
        ],
        [
         "40",
         "41",
         "Costa De Marfil",
         "África",
         null,
         null,
         null,
         null
        ],
        [
         "41",
         "42",
         "Costa Rica",
         "América",
         "60.0",
         null,
         null,
         null
        ],
        [
         "42",
         "43",
         "Croacia",
         "Europa",
         "7.0",
         null,
         null,
         null
        ],
        [
         "43",
         "44",
         "Cuba",
         "América",
         null,
         null,
         null,
         null
        ],
        [
         "44",
         "45",
         "Curacao",
         "América",
         "2.0",
         null,
         null,
         null
        ],
        [
         "45",
         "46",
         "Dinamarca",
         "Europa",
         "5.0",
         null,
         null,
         null
        ],
        [
         "46",
         "47",
         "Djibouti",
         "África",
         null,
         null,
         null,
         null
        ],
        [
         "47",
         "48",
         "Dominica",
         "América",
         "1.0",
         null,
         null,
         null
        ],
        [
         "48",
         "49",
         "Ecuador",
         "América",
         "6.0",
         null,
         null,
         null
        ],
        [
         "49",
         "50",
         "Egipto",
         "África",
         "37.0",
         null,
         null,
         null
        ]
       ],
       "shape": {
        "columns": 7,
        "rows": 188
       }
      },
      "text/html": [
       "<div>\n",
       "<style scoped>\n",
       "    .dataframe tbody tr th:only-of-type {\n",
       "        vertical-align: middle;\n",
       "    }\n",
       "\n",
       "    .dataframe tbody tr th {\n",
       "        vertical-align: top;\n",
       "    }\n",
       "\n",
       "    .dataframe thead th {\n",
       "        text-align: right;\n",
       "    }\n",
       "</style>\n",
       "<table border=\"1\" class=\"dataframe\">\n",
       "  <thead>\n",
       "    <tr style=\"text-align: right;\">\n",
       "      <th></th>\n",
       "      <th>id_pais_destino</th>\n",
       "      <th>nombre_pais_destino</th>\n",
       "      <th>nombre_continente</th>\n",
       "      <th>num_viajes_tui_web</th>\n",
       "      <th>num_viajes_segun_viaje_itinerario</th>\n",
       "      <th>total_turistas</th>\n",
       "      <th>total_pernoctaciones</th>\n",
       "    </tr>\n",
       "  </thead>\n",
       "  <tbody>\n",
       "    <tr>\n",
       "      <th>0</th>\n",
       "      <td>1</td>\n",
       "      <td>Albania</td>\n",
       "      <td>Europa</td>\n",
       "      <td>5.0</td>\n",
       "      <td>None</td>\n",
       "      <td>None</td>\n",
       "      <td>None</td>\n",
       "    </tr>\n",
       "    <tr>\n",
       "      <th>1</th>\n",
       "      <td>2</td>\n",
       "      <td>Alemania</td>\n",
       "      <td>Europa</td>\n",
       "      <td>20.0</td>\n",
       "      <td>None</td>\n",
       "      <td>None</td>\n",
       "      <td>None</td>\n",
       "    </tr>\n",
       "    <tr>\n",
       "      <th>2</th>\n",
       "      <td>3</td>\n",
       "      <td>Andorra</td>\n",
       "      <td>Europa</td>\n",
       "      <td>NaN</td>\n",
       "      <td>None</td>\n",
       "      <td>None</td>\n",
       "      <td>None</td>\n",
       "    </tr>\n",
       "    <tr>\n",
       "      <th>3</th>\n",
       "      <td>4</td>\n",
       "      <td>Angola</td>\n",
       "      <td>África</td>\n",
       "      <td>NaN</td>\n",
       "      <td>None</td>\n",
       "      <td>None</td>\n",
       "      <td>None</td>\n",
       "    </tr>\n",
       "    <tr>\n",
       "      <th>4</th>\n",
       "      <td>5</td>\n",
       "      <td>Antigua</td>\n",
       "      <td>América</td>\n",
       "      <td>2.0</td>\n",
       "      <td>None</td>\n",
       "      <td>None</td>\n",
       "      <td>None</td>\n",
       "    </tr>\n",
       "    <tr>\n",
       "      <th>...</th>\n",
       "      <td>...</td>\n",
       "      <td>...</td>\n",
       "      <td>...</td>\n",
       "      <td>...</td>\n",
       "      <td>...</td>\n",
       "      <td>...</td>\n",
       "      <td>...</td>\n",
       "    </tr>\n",
       "    <tr>\n",
       "      <th>183</th>\n",
       "      <td>184</td>\n",
       "      <td>Vietnam</td>\n",
       "      <td>Asia</td>\n",
       "      <td>43.0</td>\n",
       "      <td>None</td>\n",
       "      <td>None</td>\n",
       "      <td>None</td>\n",
       "    </tr>\n",
       "    <tr>\n",
       "      <th>184</th>\n",
       "      <td>185</td>\n",
       "      <td>Yemen</td>\n",
       "      <td>Asia</td>\n",
       "      <td>NaN</td>\n",
       "      <td>None</td>\n",
       "      <td>None</td>\n",
       "      <td>None</td>\n",
       "    </tr>\n",
       "    <tr>\n",
       "      <th>185</th>\n",
       "      <td>186</td>\n",
       "      <td>Zambia</td>\n",
       "      <td>África</td>\n",
       "      <td>NaN</td>\n",
       "      <td>None</td>\n",
       "      <td>None</td>\n",
       "      <td>None</td>\n",
       "    </tr>\n",
       "    <tr>\n",
       "      <th>186</th>\n",
       "      <td>187</td>\n",
       "      <td>Zanzibar</td>\n",
       "      <td>África</td>\n",
       "      <td>23.0</td>\n",
       "      <td>None</td>\n",
       "      <td>None</td>\n",
       "      <td>None</td>\n",
       "    </tr>\n",
       "    <tr>\n",
       "      <th>187</th>\n",
       "      <td>188</td>\n",
       "      <td>Zimbabue</td>\n",
       "      <td>África</td>\n",
       "      <td>15.0</td>\n",
       "      <td>None</td>\n",
       "      <td>None</td>\n",
       "      <td>None</td>\n",
       "    </tr>\n",
       "  </tbody>\n",
       "</table>\n",
       "<p>188 rows × 7 columns</p>\n",
       "</div>"
      ],
      "text/plain": [
       "     id_pais_destino nombre_pais_destino nombre_continente  \\\n",
       "0                  1             Albania            Europa   \n",
       "1                  2            Alemania            Europa   \n",
       "2                  3             Andorra            Europa   \n",
       "3                  4              Angola            África   \n",
       "4                  5             Antigua           América   \n",
       "..               ...                 ...               ...   \n",
       "183              184             Vietnam              Asia   \n",
       "184              185               Yemen              Asia   \n",
       "185              186              Zambia            África   \n",
       "186              187            Zanzibar            África   \n",
       "187              188            Zimbabue            África   \n",
       "\n",
       "     num_viajes_tui_web num_viajes_segun_viaje_itinerario total_turistas  \\\n",
       "0                   5.0                              None           None   \n",
       "1                  20.0                              None           None   \n",
       "2                   NaN                              None           None   \n",
       "3                   NaN                              None           None   \n",
       "4                   2.0                              None           None   \n",
       "..                  ...                               ...            ...   \n",
       "183                43.0                              None           None   \n",
       "184                 NaN                              None           None   \n",
       "185                 NaN                              None           None   \n",
       "186                23.0                              None           None   \n",
       "187                15.0                              None           None   \n",
       "\n",
       "    total_pernoctaciones  \n",
       "0                   None  \n",
       "1                   None  \n",
       "2                   None  \n",
       "3                   None  \n",
       "4                   None  \n",
       "..                   ...  \n",
       "183                 None  \n",
       "184                 None  \n",
       "185                 None  \n",
       "186                 None  \n",
       "187                 None  \n",
       "\n",
       "[188 rows x 7 columns]"
      ]
     },
     "execution_count": 119,
     "metadata": {},
     "output_type": "execute_result"
    }
   ],
   "source": [
    "df_paises_con_viajes_y_turismo"
   ]
  },
  {
   "cell_type": "code",
   "execution_count": 120,
   "id": "3a094fcf",
   "metadata": {},
   "outputs": [
    {
     "data": {
      "application/vnd.microsoft.datawrangler.viewer.v0+json": {
       "columns": [
        {
         "name": "index",
         "rawType": "int64",
         "type": "integer"
        },
        {
         "name": "id_pais_destino",
         "rawType": "int64",
         "type": "integer"
        },
        {
         "name": "id_viaje",
         "rawType": "int64",
         "type": "integer"
        }
       ],
       "conversionMethod": "pd.DataFrame",
       "ref": "8ad80144-89fa-42a0-9a8f-b4867f668d53",
       "rows": [
        [
         "0",
         "1",
         "19"
        ],
        [
         "1",
         "2",
         "84"
        ],
        [
         "2",
         "6",
         "7"
        ],
        [
         "3",
         "8",
         "116"
        ],
        [
         "4",
         "9",
         "19"
        ],
        [
         "5",
         "10",
         "3"
        ],
        [
         "6",
         "11",
         "86"
        ],
        [
         "7",
         "12",
         "83"
        ],
        [
         "8",
         "14",
         "8"
        ],
        [
         "9",
         "17",
         "2"
        ],
        [
         "10",
         "19",
         "32"
        ],
        [
         "11",
         "20",
         "15"
        ],
        [
         "12",
         "22",
         "32"
        ],
        [
         "13",
         "23",
         "9"
        ],
        [
         "14",
         "24",
         "13"
        ],
        [
         "15",
         "25",
         "50"
        ],
        [
         "16",
         "26",
         "25"
        ],
        [
         "17",
         "28",
         "25"
        ],
        [
         "18",
         "29",
         "4"
        ],
        [
         "19",
         "30",
         "76"
        ],
        [
         "20",
         "32",
         "450"
        ],
        [
         "21",
         "33",
         "2"
        ],
        [
         "22",
         "36",
         "95"
        ],
        [
         "23",
         "37",
         "128"
        ],
        [
         "24",
         "38",
         "11"
        ],
        [
         "25",
         "39",
         "82"
        ],
        [
         "26",
         "40",
         "13"
        ],
        [
         "27",
         "42",
         "242"
        ],
        [
         "28",
         "43",
         "24"
        ],
        [
         "29",
         "46",
         "19"
        ],
        [
         "30",
         "48",
         "1"
        ],
        [
         "31",
         "49",
         "42"
        ],
        [
         "32",
         "50",
         "388"
        ],
        [
         "33",
         "51",
         "11"
        ],
        [
         "34",
         "52",
         "17"
        ],
        [
         "35",
         "53",
         "24"
        ],
        [
         "36",
         "54",
         "34"
        ],
        [
         "37",
         "55",
         "11"
        ],
        [
         "38",
         "56",
         "466"
        ],
        [
         "39",
         "57",
         "10"
        ],
        [
         "40",
         "59",
         "41"
        ],
        [
         "41",
         "60",
         "24"
        ],
        [
         "42",
         "61",
         "29"
        ],
        [
         "43",
         "62",
         "147"
        ],
        [
         "44",
         "65",
         "11"
        ],
        [
         "45",
         "67",
         "4"
        ],
        [
         "46",
         "68",
         "131"
        ],
        [
         "47",
         "70",
         "45"
        ],
        [
         "48",
         "75",
         "1"
        ],
        [
         "49",
         "76",
         "48"
        ]
       ],
       "shape": {
        "columns": 2,
        "rows": 116
       }
      },
      "text/html": [
       "<div>\n",
       "<style scoped>\n",
       "    .dataframe tbody tr th:only-of-type {\n",
       "        vertical-align: middle;\n",
       "    }\n",
       "\n",
       "    .dataframe tbody tr th {\n",
       "        vertical-align: top;\n",
       "    }\n",
       "\n",
       "    .dataframe thead th {\n",
       "        text-align: right;\n",
       "    }\n",
       "</style>\n",
       "<table border=\"1\" class=\"dataframe\">\n",
       "  <thead>\n",
       "    <tr style=\"text-align: right;\">\n",
       "      <th></th>\n",
       "      <th>id_pais_destino</th>\n",
       "      <th>id_viaje</th>\n",
       "    </tr>\n",
       "  </thead>\n",
       "  <tbody>\n",
       "    <tr>\n",
       "      <th>0</th>\n",
       "      <td>1</td>\n",
       "      <td>19</td>\n",
       "    </tr>\n",
       "    <tr>\n",
       "      <th>1</th>\n",
       "      <td>2</td>\n",
       "      <td>84</td>\n",
       "    </tr>\n",
       "    <tr>\n",
       "      <th>2</th>\n",
       "      <td>6</td>\n",
       "      <td>7</td>\n",
       "    </tr>\n",
       "    <tr>\n",
       "      <th>3</th>\n",
       "      <td>8</td>\n",
       "      <td>116</td>\n",
       "    </tr>\n",
       "    <tr>\n",
       "      <th>4</th>\n",
       "      <td>9</td>\n",
       "      <td>19</td>\n",
       "    </tr>\n",
       "    <tr>\n",
       "      <th>...</th>\n",
       "      <td>...</td>\n",
       "      <td>...</td>\n",
       "    </tr>\n",
       "    <tr>\n",
       "      <th>111</th>\n",
       "      <td>180</td>\n",
       "      <td>49</td>\n",
       "    </tr>\n",
       "    <tr>\n",
       "      <th>112</th>\n",
       "      <td>181</td>\n",
       "      <td>3</td>\n",
       "    </tr>\n",
       "    <tr>\n",
       "      <th>113</th>\n",
       "      <td>182</td>\n",
       "      <td>18</td>\n",
       "    </tr>\n",
       "    <tr>\n",
       "      <th>114</th>\n",
       "      <td>184</td>\n",
       "      <td>349</td>\n",
       "    </tr>\n",
       "    <tr>\n",
       "      <th>115</th>\n",
       "      <td>188</td>\n",
       "      <td>60</td>\n",
       "    </tr>\n",
       "  </tbody>\n",
       "</table>\n",
       "<p>116 rows × 2 columns</p>\n",
       "</div>"
      ],
      "text/plain": [
       "     id_pais_destino  id_viaje\n",
       "0                  1        19\n",
       "1                  2        84\n",
       "2                  6         7\n",
       "3                  8       116\n",
       "4                  9        19\n",
       "..               ...       ...\n",
       "111              180        49\n",
       "112              181         3\n",
       "113              182        18\n",
       "114              184       349\n",
       "115              188        60\n",
       "\n",
       "[116 rows x 2 columns]"
      ]
     },
     "execution_count": 120,
     "metadata": {},
     "output_type": "execute_result"
    }
   ],
   "source": [
    "df_viajes_localizacion_ciudad_agrupado_pais"
   ]
  },
  {
   "cell_type": "code",
   "execution_count": 121,
   "id": "5c126e9f",
   "metadata": {},
   "outputs": [],
   "source": [
    "ex.incorporar_información_df_original(df_paises_con_viajes_y_turismo,\n",
    "                                                                      df_viajes_localizacion_ciudad_agrupado_pais,'id_pais_destino','id_viaje','num_viajes_segun_viaje_itinerario')"
   ]
  },
  {
   "cell_type": "code",
   "execution_count": 122,
   "id": "5352193c",
   "metadata": {},
   "outputs": [],
   "source": [
    "df_turismo_emisor_agrupado_pais= df_turismo_emisor.groupby('id_pais_destino')[['num_turistas','num_pernoctaciones']].sum().reset_index()"
   ]
  },
  {
   "cell_type": "code",
   "execution_count": 123,
   "id": "491e91e4",
   "metadata": {},
   "outputs": [
    {
     "data": {
      "application/vnd.microsoft.datawrangler.viewer.v0+json": {
       "columns": [
        {
         "name": "index",
         "rawType": "int64",
         "type": "integer"
        },
        {
         "name": "id_pais_destino",
         "rawType": "int64",
         "type": "integer"
        },
        {
         "name": "num_turistas",
         "rawType": "int64",
         "type": "integer"
        },
        {
         "name": "num_pernoctaciones",
         "rawType": "int64",
         "type": "integer"
        }
       ],
       "conversionMethod": "pd.DataFrame",
       "ref": "7fe147c0-e437-420a-9bce-f6368b66f8fd",
       "rows": [
        [
         "0",
         "1",
         "180212",
         "1115910"
        ],
        [
         "1",
         "2",
         "11949860",
         "68516775"
        ],
        [
         "2",
         "3",
         "9323631",
         "24769193"
        ],
        [
         "3",
         "4",
         "9669",
         "79896"
        ],
        [
         "4",
         "5",
         "220",
         "1900"
        ],
        [
         "5",
         "6",
         "150581",
         "970902"
        ],
        [
         "6",
         "7",
         "128466",
         "760959"
        ],
        [
         "7",
         "8",
         "615534",
         "6812392"
        ],
        [
         "8",
         "9",
         "17238",
         "121690"
        ],
        [
         "9",
         "11",
         "89860",
         "1047125"
        ],
        [
         "10",
         "12",
         "2122148",
         "10722269"
        ],
        [
         "11",
         "13",
         "8510",
         "49956"
        ],
        [
         "12",
         "14",
         "8778",
         "73412"
        ],
        [
         "13",
         "15",
         "4783",
         "27400"
        ],
        [
         "14",
         "16",
         "7417",
         "51555"
        ],
        [
         "15",
         "17",
         "88",
         "464"
        ],
        [
         "16",
         "18",
         "7958",
         "66935"
        ],
        [
         "17",
         "19",
         "4404844",
         "21455895"
        ],
        [
         "18",
         "20",
         "370",
         "3444"
        ],
        [
         "19",
         "21",
         "2289",
         "21851"
        ],
        [
         "20",
         "22",
         "72984",
         "867552"
        ],
        [
         "21",
         "23",
         "44002",
         "265285"
        ],
        [
         "22",
         "24",
         "8000",
         "74034"
        ],
        [
         "23",
         "25",
         "489211",
         "4434801"
        ],
        [
         "24",
         "26",
         "704904",
         "6837015"
        ],
        [
         "25",
         "27",
         "530",
         "4513"
        ],
        [
         "26",
         "28",
         "2076",
         "17576"
        ],
        [
         "27",
         "29",
         "66925",
         "509686"
        ],
        [
         "28",
         "30",
         "14574",
         "130507"
        ],
        [
         "29",
         "31",
         "3730",
         "29219"
        ],
        [
         "30",
         "32",
         "292459",
         "2742709"
        ],
        [
         "31",
         "34",
         "128",
         "434"
        ],
        [
         "32",
         "36",
         "249898",
         "2354051"
        ],
        [
         "33",
         "37",
         "394304",
         "3442994"
        ],
        [
         "34",
         "38",
         "91540",
         "701163"
        ],
        [
         "35",
         "39",
         "791653",
         "6763141"
        ],
        [
         "36",
         "40",
         "60035",
         "521964"
        ],
        [
         "37",
         "41",
         "14691",
         "110872"
        ],
        [
         "38",
         "42",
         "216158",
         "2088236"
        ],
        [
         "39",
         "43",
         "859599",
         "6477885"
        ],
        [
         "40",
         "44",
         "305892",
         "2936729"
        ],
        [
         "41",
         "46",
         "1205088",
         "6023625"
        ],
        [
         "42",
         "47",
         "385",
         "3280"
        ],
        [
         "43",
         "49",
         "225256",
         "2240201"
        ],
        [
         "44",
         "50",
         "522583",
         "3484845"
        ],
        [
         "45",
         "51",
         "18814",
         "146730"
        ],
        [
         "46",
         "52",
         "688472",
         "4503807"
        ],
        [
         "47",
         "54",
         "245955",
         "1641577"
        ],
        [
         "48",
         "56",
         "5347456",
         "49522145"
        ],
        [
         "49",
         "57",
         "115789",
         "807288"
        ]
       ],
       "shape": {
        "columns": 3,
        "rows": 158
       }
      },
      "text/html": [
       "<div>\n",
       "<style scoped>\n",
       "    .dataframe tbody tr th:only-of-type {\n",
       "        vertical-align: middle;\n",
       "    }\n",
       "\n",
       "    .dataframe tbody tr th {\n",
       "        vertical-align: top;\n",
       "    }\n",
       "\n",
       "    .dataframe thead th {\n",
       "        text-align: right;\n",
       "    }\n",
       "</style>\n",
       "<table border=\"1\" class=\"dataframe\">\n",
       "  <thead>\n",
       "    <tr style=\"text-align: right;\">\n",
       "      <th></th>\n",
       "      <th>id_pais_destino</th>\n",
       "      <th>num_turistas</th>\n",
       "      <th>num_pernoctaciones</th>\n",
       "    </tr>\n",
       "  </thead>\n",
       "  <tbody>\n",
       "    <tr>\n",
       "      <th>0</th>\n",
       "      <td>1</td>\n",
       "      <td>180212</td>\n",
       "      <td>1115910</td>\n",
       "    </tr>\n",
       "    <tr>\n",
       "      <th>1</th>\n",
       "      <td>2</td>\n",
       "      <td>11949860</td>\n",
       "      <td>68516775</td>\n",
       "    </tr>\n",
       "    <tr>\n",
       "      <th>2</th>\n",
       "      <td>3</td>\n",
       "      <td>9323631</td>\n",
       "      <td>24769193</td>\n",
       "    </tr>\n",
       "    <tr>\n",
       "      <th>3</th>\n",
       "      <td>4</td>\n",
       "      <td>9669</td>\n",
       "      <td>79896</td>\n",
       "    </tr>\n",
       "    <tr>\n",
       "      <th>4</th>\n",
       "      <td>5</td>\n",
       "      <td>220</td>\n",
       "      <td>1900</td>\n",
       "    </tr>\n",
       "    <tr>\n",
       "      <th>...</th>\n",
       "      <td>...</td>\n",
       "      <td>...</td>\n",
       "      <td>...</td>\n",
       "    </tr>\n",
       "    <tr>\n",
       "      <th>153</th>\n",
       "      <td>183</td>\n",
       "      <td>106829</td>\n",
       "      <td>803330</td>\n",
       "    </tr>\n",
       "    <tr>\n",
       "      <th>154</th>\n",
       "      <td>184</td>\n",
       "      <td>130169</td>\n",
       "      <td>1477676</td>\n",
       "    </tr>\n",
       "    <tr>\n",
       "      <th>155</th>\n",
       "      <td>185</td>\n",
       "      <td>222</td>\n",
       "      <td>2128</td>\n",
       "    </tr>\n",
       "    <tr>\n",
       "      <th>156</th>\n",
       "      <td>186</td>\n",
       "      <td>382</td>\n",
       "      <td>2881</td>\n",
       "    </tr>\n",
       "    <tr>\n",
       "      <th>157</th>\n",
       "      <td>188</td>\n",
       "      <td>3364</td>\n",
       "      <td>34893</td>\n",
       "    </tr>\n",
       "  </tbody>\n",
       "</table>\n",
       "<p>158 rows × 3 columns</p>\n",
       "</div>"
      ],
      "text/plain": [
       "     id_pais_destino  num_turistas  num_pernoctaciones\n",
       "0                  1        180212             1115910\n",
       "1                  2      11949860            68516775\n",
       "2                  3       9323631            24769193\n",
       "3                  4          9669               79896\n",
       "4                  5           220                1900\n",
       "..               ...           ...                 ...\n",
       "153              183        106829              803330\n",
       "154              184        130169             1477676\n",
       "155              185           222                2128\n",
       "156              186           382                2881\n",
       "157              188          3364               34893\n",
       "\n",
       "[158 rows x 3 columns]"
      ]
     },
     "execution_count": 123,
     "metadata": {},
     "output_type": "execute_result"
    }
   ],
   "source": [
    "df_turismo_emisor_agrupado_pais"
   ]
  },
  {
   "cell_type": "code",
   "execution_count": 124,
   "id": "d819a1eb",
   "metadata": {},
   "outputs": [],
   "source": [
    "ex.incorporar_información_df_original(df_paises_con_viajes_y_turismo,\n",
    "                                                                      df_turismo_emisor,'id_pais_destino','num_turistas','total_turistas')"
   ]
  },
  {
   "cell_type": "code",
   "execution_count": 125,
   "id": "d3be00b9",
   "metadata": {},
   "outputs": [],
   "source": [
    "ex.incorporar_información_df_original(df_paises_con_viajes_y_turismo,\n",
    "                                                                      df_turismo_emisor,'id_pais_destino','num_pernoctaciones','total_pernoctaciones')"
   ]
  },
  {
   "cell_type": "code",
   "execution_count": 126,
   "id": "efdcf95c",
   "metadata": {},
   "outputs": [
    {
     "name": "stdout",
     "output_type": "stream",
     "text": [
      "<class 'pandas.core.frame.DataFrame'>\n",
      "RangeIndex: 188 entries, 0 to 187\n",
      "Data columns (total 7 columns):\n",
      " #   Column                             Non-Null Count  Dtype  \n",
      "---  ------                             --------------  -----  \n",
      " 0   id_pais_destino                    188 non-null    int64  \n",
      " 1   nombre_pais_destino                188 non-null    object \n",
      " 2   nombre_continente                  188 non-null    object \n",
      " 3   num_viajes_tui_web                 126 non-null    float64\n",
      " 4   num_viajes_segun_viaje_itinerario  116 non-null    float64\n",
      " 5   total_turistas                     158 non-null    float64\n",
      " 6   total_pernoctaciones               158 non-null    float64\n",
      "dtypes: float64(4), int64(1), object(2)\n",
      "memory usage: 10.4+ KB\n"
     ]
    }
   ],
   "source": [
    "df_paises_con_viajes_y_turismo.info()"
   ]
  },
  {
   "cell_type": "code",
   "execution_count": 127,
   "id": "bd330e77",
   "metadata": {},
   "outputs": [
    {
     "data": {
      "application/vnd.microsoft.datawrangler.viewer.v0+json": {
       "columns": [
        {
         "name": "index",
         "rawType": "int64",
         "type": "integer"
        },
        {
         "name": "id_pais_destino",
         "rawType": "int64",
         "type": "integer"
        },
        {
         "name": "nombre_pais_destino",
         "rawType": "object",
         "type": "string"
        },
        {
         "name": "nombre_continente",
         "rawType": "object",
         "type": "string"
        },
        {
         "name": "num_viajes_tui_web",
         "rawType": "float64",
         "type": "float"
        },
        {
         "name": "num_viajes_segun_viaje_itinerario",
         "rawType": "float64",
         "type": "float"
        },
        {
         "name": "total_turistas",
         "rawType": "float64",
         "type": "float"
        },
        {
         "name": "total_pernoctaciones",
         "rawType": "float64",
         "type": "float"
        }
       ],
       "conversionMethod": "pd.DataFrame",
       "ref": "8cf6e7db-58d2-4a25-a52c-28a7aac5a644",
       "rows": [
        [
         "0",
         "1",
         "Albania",
         "Europa",
         "5.0",
         "19.0",
         "1410.0",
         "5359.0"
        ],
        [
         "1",
         "2",
         "Alemania",
         "Europa",
         "20.0",
         "84.0",
         "179330.0",
         "976543.0"
        ],
        [
         "2",
         "3",
         "Andorra",
         "Europa",
         null,
         null,
         "120980.0",
         "273540.0"
        ],
        [
         "3",
         "4",
         "Angola",
         "África",
         null,
         null,
         "96.0",
         "714.0"
        ],
        [
         "4",
         "5",
         "Antigua",
         "América",
         "2.0",
         null,
         "38.0",
         "344.0"
        ],
        [
         "5",
         "6",
         "Arabia Saudi",
         "Asia",
         "1.0",
         "7.0",
         "2283.0",
         "14171.0"
        ],
        [
         "6",
         "7",
         "Argelia",
         "África",
         null,
         null,
         "1800.0",
         "10150.0"
        ],
        [
         "7",
         "8",
         "Argentina",
         "América",
         "26.0",
         "116.0",
         "13610.0",
         "137440.0"
        ],
        [
         "8",
         "9",
         "Armenia",
         "Asia",
         "3.0",
         "19.0",
         "229.0",
         "1115.0"
        ],
        [
         "9",
         "10",
         "Aruba",
         "América",
         "3.0",
         "3.0",
         null,
         null
        ],
        [
         "10",
         "11",
         "Australia",
         "Oceanía",
         "17.0",
         "86.0",
         "1559.0",
         "19066.0"
        ],
        [
         "11",
         "12",
         "Austria",
         "Europa",
         "21.0",
         "83.0",
         "41158.0",
         "168736.0"
        ],
        [
         "12",
         "13",
         "Azerbaiyan",
         "Asia",
         null,
         null,
         "174.0",
         "794.0"
        ],
        [
         "13",
         "14",
         "Bahamas",
         "América",
         "7.0",
         "8.0",
         "137.0",
         "998.0"
        ],
        [
         "14",
         "15",
         "Bahrein",
         "Asia",
         null,
         null,
         "106.0",
         "564.0"
        ],
        [
         "15",
         "16",
         "Bangladesh",
         "Asia",
         null,
         null,
         "83.0",
         "604.0"
        ],
        [
         "16",
         "17",
         "Barbados",
         "América",
         "2.0",
         "2.0",
         "52.0",
         "218.0"
        ],
        [
         "17",
         "18",
         "Belarus",
         "Europa",
         null,
         null,
         "85.0",
         "630.0"
        ],
        [
         "18",
         "19",
         "Belgica",
         "Europa",
         "5.0",
         "32.0",
         "68924.0",
         "282143.0"
        ],
        [
         "19",
         "20",
         "Belice",
         "América",
         "2.0",
         "15.0",
         "38.0",
         "266.0"
        ],
        [
         "20",
         "21",
         "Benin",
         "África",
         null,
         null,
         "64.0",
         "513.0"
        ],
        [
         "21",
         "22",
         "Bolivia",
         "América",
         "3.0",
         "32.0",
         "1100.0",
         "11858.0"
        ],
        [
         "22",
         "23",
         "Bosnia Y Herzegovina",
         "Europa",
         "3.0",
         "9.0",
         "183.0",
         "901.0"
        ],
        [
         "23",
         "24",
         "Botsuana",
         "África",
         "12.0",
         "13.0",
         "84.0",
         "681.0"
        ],
        [
         "24",
         "25",
         "Brasil",
         "América",
         "11.0",
         "50.0",
         "8239.0",
         "63826.0"
        ],
        [
         "25",
         "26",
         "Bulgaria",
         "Europa",
         "4.0",
         "25.0",
         "8554.0",
         "47899.0"
        ],
        [
         "26",
         "27",
         "Burkina Faso",
         "África",
         null,
         null,
         "53.0",
         "293.0"
        ],
        [
         "27",
         "28",
         "Butan",
         "Asia",
         "6.0",
         "25.0",
         "83.0",
         "555.0"
        ],
        [
         "28",
         "29",
         "Cabo Verde",
         "África",
         "3.0",
         "4.0",
         "677.0",
         "5146.0"
        ],
        [
         "29",
         "30",
         "Camboya",
         "Asia",
         "16.0",
         "76.0",
         "276.0",
         "2105.0"
        ],
        [
         "30",
         "31",
         "Camerun",
         "África",
         null,
         null,
         "106.0",
         "1183.0"
        ],
        [
         "31",
         "32",
         "Canada",
         "América",
         "59.0",
         "450.0",
         "2126.0",
         "14175.0"
        ],
        [
         "32",
         "33",
         "Catar",
         "Asia",
         null,
         "2.0",
         null,
         null
        ],
        [
         "33",
         "34",
         "Chad",
         "África",
         null,
         null,
         "64.0",
         "217.0"
        ],
        [
         "34",
         "35",
         "Chequia",
         "Europa",
         null,
         null,
         null,
         null
        ],
        [
         "35",
         "36",
         "Chile",
         "América",
         "21.0",
         "95.0",
         "3818.0",
         "37433.0"
        ],
        [
         "36",
         "37",
         "China",
         "Asia",
         "31.0",
         "128.0",
         "6639.0",
         "50793.0"
        ],
        [
         "37",
         "38",
         "Chipre",
         "Europa",
         "2.0",
         "11.0",
         "850.0",
         "5754.0"
        ],
        [
         "38",
         "39",
         "Colombia",
         "América",
         "19.0",
         "82.0",
         "13435.0",
         "96604.0"
        ],
        [
         "39",
         "40",
         "Corea Del Sur",
         "Asia",
         "5.0",
         "13.0",
         "567.0",
         "5071.0"
        ],
        [
         "40",
         "41",
         "Costa De Marfil",
         "África",
         null,
         null,
         "196.0",
         "1413.0"
        ],
        [
         "41",
         "42",
         "Costa Rica",
         "América",
         "60.0",
         "242.0",
         "2003.0",
         "15922.0"
        ],
        [
         "42",
         "43",
         "Croacia",
         "Europa",
         "7.0",
         "24.0",
         "2320.0",
         "12430.0"
        ],
        [
         "43",
         "44",
         "Cuba",
         "América",
         null,
         null,
         "1977.0",
         "18488.0"
        ],
        [
         "44",
         "45",
         "Curacao",
         "América",
         "2.0",
         null,
         null,
         null
        ],
        [
         "45",
         "46",
         "Dinamarca",
         "Europa",
         "5.0",
         "19.0",
         "17061.0",
         "76528.0"
        ],
        [
         "46",
         "47",
         "Djibouti",
         "África",
         null,
         null,
         "53.0",
         "1001.0"
        ],
        [
         "47",
         "48",
         "Dominica",
         "América",
         "1.0",
         "1.0",
         null,
         null
        ],
        [
         "48",
         "49",
         "Ecuador",
         "América",
         "6.0",
         "42.0",
         "3203.0",
         "23464.0"
        ],
        [
         "49",
         "50",
         "Egipto",
         "África",
         "37.0",
         "388.0",
         "5215.0",
         "33456.0"
        ]
       ],
       "shape": {
        "columns": 7,
        "rows": 188
       }
      },
      "text/html": [
       "<div>\n",
       "<style scoped>\n",
       "    .dataframe tbody tr th:only-of-type {\n",
       "        vertical-align: middle;\n",
       "    }\n",
       "\n",
       "    .dataframe tbody tr th {\n",
       "        vertical-align: top;\n",
       "    }\n",
       "\n",
       "    .dataframe thead th {\n",
       "        text-align: right;\n",
       "    }\n",
       "</style>\n",
       "<table border=\"1\" class=\"dataframe\">\n",
       "  <thead>\n",
       "    <tr style=\"text-align: right;\">\n",
       "      <th></th>\n",
       "      <th>id_pais_destino</th>\n",
       "      <th>nombre_pais_destino</th>\n",
       "      <th>nombre_continente</th>\n",
       "      <th>num_viajes_tui_web</th>\n",
       "      <th>num_viajes_segun_viaje_itinerario</th>\n",
       "      <th>total_turistas</th>\n",
       "      <th>total_pernoctaciones</th>\n",
       "    </tr>\n",
       "  </thead>\n",
       "  <tbody>\n",
       "    <tr>\n",
       "      <th>0</th>\n",
       "      <td>1</td>\n",
       "      <td>Albania</td>\n",
       "      <td>Europa</td>\n",
       "      <td>5.0</td>\n",
       "      <td>19.0</td>\n",
       "      <td>1410.0</td>\n",
       "      <td>5359.0</td>\n",
       "    </tr>\n",
       "    <tr>\n",
       "      <th>1</th>\n",
       "      <td>2</td>\n",
       "      <td>Alemania</td>\n",
       "      <td>Europa</td>\n",
       "      <td>20.0</td>\n",
       "      <td>84.0</td>\n",
       "      <td>179330.0</td>\n",
       "      <td>976543.0</td>\n",
       "    </tr>\n",
       "    <tr>\n",
       "      <th>2</th>\n",
       "      <td>3</td>\n",
       "      <td>Andorra</td>\n",
       "      <td>Europa</td>\n",
       "      <td>NaN</td>\n",
       "      <td>NaN</td>\n",
       "      <td>120980.0</td>\n",
       "      <td>273540.0</td>\n",
       "    </tr>\n",
       "    <tr>\n",
       "      <th>3</th>\n",
       "      <td>4</td>\n",
       "      <td>Angola</td>\n",
       "      <td>África</td>\n",
       "      <td>NaN</td>\n",
       "      <td>NaN</td>\n",
       "      <td>96.0</td>\n",
       "      <td>714.0</td>\n",
       "    </tr>\n",
       "    <tr>\n",
       "      <th>4</th>\n",
       "      <td>5</td>\n",
       "      <td>Antigua</td>\n",
       "      <td>América</td>\n",
       "      <td>2.0</td>\n",
       "      <td>NaN</td>\n",
       "      <td>38.0</td>\n",
       "      <td>344.0</td>\n",
       "    </tr>\n",
       "    <tr>\n",
       "      <th>...</th>\n",
       "      <td>...</td>\n",
       "      <td>...</td>\n",
       "      <td>...</td>\n",
       "      <td>...</td>\n",
       "      <td>...</td>\n",
       "      <td>...</td>\n",
       "      <td>...</td>\n",
       "    </tr>\n",
       "    <tr>\n",
       "      <th>183</th>\n",
       "      <td>184</td>\n",
       "      <td>Vietnam</td>\n",
       "      <td>Asia</td>\n",
       "      <td>43.0</td>\n",
       "      <td>349.0</td>\n",
       "      <td>1486.0</td>\n",
       "      <td>15438.0</td>\n",
       "    </tr>\n",
       "    <tr>\n",
       "      <th>184</th>\n",
       "      <td>185</td>\n",
       "      <td>Yemen</td>\n",
       "      <td>Asia</td>\n",
       "      <td>NaN</td>\n",
       "      <td>NaN</td>\n",
       "      <td>111.0</td>\n",
       "      <td>1064.0</td>\n",
       "    </tr>\n",
       "    <tr>\n",
       "      <th>185</th>\n",
       "      <td>186</td>\n",
       "      <td>Zambia</td>\n",
       "      <td>África</td>\n",
       "      <td>NaN</td>\n",
       "      <td>NaN</td>\n",
       "      <td>51.0</td>\n",
       "      <td>330.0</td>\n",
       "    </tr>\n",
       "    <tr>\n",
       "      <th>186</th>\n",
       "      <td>187</td>\n",
       "      <td>Zanzibar</td>\n",
       "      <td>África</td>\n",
       "      <td>23.0</td>\n",
       "      <td>NaN</td>\n",
       "      <td>NaN</td>\n",
       "      <td>NaN</td>\n",
       "    </tr>\n",
       "    <tr>\n",
       "      <th>187</th>\n",
       "      <td>188</td>\n",
       "      <td>Zimbabue</td>\n",
       "      <td>África</td>\n",
       "      <td>15.0</td>\n",
       "      <td>60.0</td>\n",
       "      <td>34.0</td>\n",
       "      <td>279.0</td>\n",
       "    </tr>\n",
       "  </tbody>\n",
       "</table>\n",
       "<p>188 rows × 7 columns</p>\n",
       "</div>"
      ],
      "text/plain": [
       "     id_pais_destino nombre_pais_destino nombre_continente  \\\n",
       "0                  1             Albania            Europa   \n",
       "1                  2            Alemania            Europa   \n",
       "2                  3             Andorra            Europa   \n",
       "3                  4              Angola            África   \n",
       "4                  5             Antigua           América   \n",
       "..               ...                 ...               ...   \n",
       "183              184             Vietnam              Asia   \n",
       "184              185               Yemen              Asia   \n",
       "185              186              Zambia            África   \n",
       "186              187            Zanzibar            África   \n",
       "187              188            Zimbabue            África   \n",
       "\n",
       "     num_viajes_tui_web  num_viajes_segun_viaje_itinerario  total_turistas  \\\n",
       "0                   5.0                               19.0          1410.0   \n",
       "1                  20.0                               84.0        179330.0   \n",
       "2                   NaN                                NaN        120980.0   \n",
       "3                   NaN                                NaN            96.0   \n",
       "4                   2.0                                NaN            38.0   \n",
       "..                  ...                                ...             ...   \n",
       "183                43.0                              349.0          1486.0   \n",
       "184                 NaN                                NaN           111.0   \n",
       "185                 NaN                                NaN            51.0   \n",
       "186                23.0                                NaN             NaN   \n",
       "187                15.0                               60.0            34.0   \n",
       "\n",
       "     total_pernoctaciones  \n",
       "0                  5359.0  \n",
       "1                976543.0  \n",
       "2                273540.0  \n",
       "3                   714.0  \n",
       "4                   344.0  \n",
       "..                    ...  \n",
       "183               15438.0  \n",
       "184                1064.0  \n",
       "185                 330.0  \n",
       "186                   NaN  \n",
       "187                 279.0  \n",
       "\n",
       "[188 rows x 7 columns]"
      ]
     },
     "execution_count": 127,
     "metadata": {},
     "output_type": "execute_result"
    }
   ],
   "source": [
    "df_paises_con_viajes_y_turismo"
   ]
  },
  {
   "cell_type": "code",
   "execution_count": 135,
   "id": "d4174452",
   "metadata": {},
   "outputs": [
    {
     "data": {
      "application/vnd.microsoft.datawrangler.viewer.v0+json": {
       "columns": [
        {
         "name": "index",
         "rawType": "int64",
         "type": "integer"
        },
        {
         "name": "('nombre_continente', '')",
         "rawType": "object",
         "type": "string"
        },
        {
         "name": "('num_viajes_tui_web', 'mean')",
         "rawType": "float64",
         "type": "float"
        },
        {
         "name": "('num_viajes_tui_web', 'sum')",
         "rawType": "float64",
         "type": "float"
        },
        {
         "name": "('num_viajes_tui_web', 'count')",
         "rawType": "int64",
         "type": "integer"
        },
        {
         "name": "('num_viajes_segun_viaje_itinerario', 'mean')",
         "rawType": "float64",
         "type": "float"
        },
        {
         "name": "('num_viajes_segun_viaje_itinerario', 'sum')",
         "rawType": "float64",
         "type": "float"
        },
        {
         "name": "('num_viajes_segun_viaje_itinerario', 'count')",
         "rawType": "int64",
         "type": "integer"
        },
        {
         "name": "('total_turistas', 'mean')",
         "rawType": "float64",
         "type": "float"
        },
        {
         "name": "('total_turistas', 'sum')",
         "rawType": "float64",
         "type": "float"
        },
        {
         "name": "('total_turistas', 'count')",
         "rawType": "int64",
         "type": "integer"
        },
        {
         "name": "('total_pernoctaciones', 'mean')",
         "rawType": "float64",
         "type": "float"
        },
        {
         "name": "('total_pernoctaciones', 'sum')",
         "rawType": "float64",
         "type": "float"
        },
        {
         "name": "('total_pernoctaciones', 'count')",
         "rawType": "int64",
         "type": "integer"
        },
        {
         "name": "('Peso_categoria', '')",
         "rawType": "float64",
         "type": "float"
        },
        {
         "name": "('Peso_total_valor_recaudado', '')",
         "rawType": "float64",
         "type": "float"
        }
       ],
       "conversionMethod": "pd.DataFrame",
       "ref": "33b49365-3aee-4c5f-9f94-fc0f7b298f9d",
       "rows": [
        [
         "0",
         "América",
         "16.41176470588235",
         "558.0",
         "34",
         "84.89285714285714",
         "2377.0",
         "28",
         "5575.964285714285",
         "156127.0",
         "28",
         "46838.46428571428",
         "1311477.0",
         "28",
         "26.98",
         "31.53"
        ],
        [
         "1",
         "Asia",
         "15.925925925925926",
         "430.0",
         "27",
         "97.57142857142857",
         "2732.0",
         "28",
         "1671.9761904761904",
         "70223.0",
         "42",
         "11454.190476190477",
         "481076.0",
         "42",
         "21.43",
         "24.29"
        ],
        [
         "2",
         "Europa",
         "8.85",
         "354.0",
         "40",
         "49.86486486486486",
         "1845.0",
         "37",
         "61470.07142857143",
         "2581743.0",
         "42",
         "222217.83333333334",
         "9333149.0",
         "42",
         "31.75",
         "20.0"
        ],
        [
         "3",
         "No Existe Resultado",
         null,
         "0.0",
         "0",
         "14.0",
         "14.0",
         "1",
         null,
         "0.0",
         "0",
         null,
         "0.0",
         "0",
         "0.0",
         "0.0"
        ],
        [
         "4",
         "Oceanía",
         "5.857142857142857",
         "41.0",
         "7",
         "43.333333333333336",
         "260.0",
         "6",
         "736.6666666666666",
         "2210.0",
         "3",
         "9484.666666666666",
         "28454.0",
         "3",
         "5.56",
         "2.32"
        ],
        [
         "5",
         "África",
         "21.5",
         "387.0",
         "18",
         "117.9375",
         "1887.0",
         "16",
         "2819.4651162790697",
         "121237.0",
         "43",
         "10085.511627906977",
         "433677.0",
         "43",
         "14.29",
         "21.86"
        ]
       ],
       "shape": {
        "columns": 15,
        "rows": 6
       }
      },
      "text/html": [
       "<div>\n",
       "<style scoped>\n",
       "    .dataframe tbody tr th:only-of-type {\n",
       "        vertical-align: middle;\n",
       "    }\n",
       "\n",
       "    .dataframe tbody tr th {\n",
       "        vertical-align: top;\n",
       "    }\n",
       "\n",
       "    .dataframe thead tr th {\n",
       "        text-align: left;\n",
       "    }\n",
       "</style>\n",
       "<table border=\"1\" class=\"dataframe\">\n",
       "  <thead>\n",
       "    <tr>\n",
       "      <th></th>\n",
       "      <th>nombre_continente</th>\n",
       "      <th colspan=\"3\" halign=\"left\">num_viajes_tui_web</th>\n",
       "      <th colspan=\"3\" halign=\"left\">num_viajes_segun_viaje_itinerario</th>\n",
       "      <th colspan=\"3\" halign=\"left\">total_turistas</th>\n",
       "      <th colspan=\"3\" halign=\"left\">total_pernoctaciones</th>\n",
       "      <th>Peso_categoria</th>\n",
       "      <th>Peso_total_valor_recaudado</th>\n",
       "    </tr>\n",
       "    <tr>\n",
       "      <th></th>\n",
       "      <th></th>\n",
       "      <th>mean</th>\n",
       "      <th>sum</th>\n",
       "      <th>count</th>\n",
       "      <th>mean</th>\n",
       "      <th>sum</th>\n",
       "      <th>count</th>\n",
       "      <th>mean</th>\n",
       "      <th>sum</th>\n",
       "      <th>count</th>\n",
       "      <th>mean</th>\n",
       "      <th>sum</th>\n",
       "      <th>count</th>\n",
       "      <th></th>\n",
       "      <th></th>\n",
       "    </tr>\n",
       "  </thead>\n",
       "  <tbody>\n",
       "    <tr>\n",
       "      <th>0</th>\n",
       "      <td>América</td>\n",
       "      <td>16.411765</td>\n",
       "      <td>558.0</td>\n",
       "      <td>34</td>\n",
       "      <td>84.892857</td>\n",
       "      <td>2377.0</td>\n",
       "      <td>28</td>\n",
       "      <td>5575.964286</td>\n",
       "      <td>156127.0</td>\n",
       "      <td>28</td>\n",
       "      <td>46838.464286</td>\n",
       "      <td>1311477.0</td>\n",
       "      <td>28</td>\n",
       "      <td>26.98</td>\n",
       "      <td>31.53</td>\n",
       "    </tr>\n",
       "    <tr>\n",
       "      <th>1</th>\n",
       "      <td>Asia</td>\n",
       "      <td>15.925926</td>\n",
       "      <td>430.0</td>\n",
       "      <td>27</td>\n",
       "      <td>97.571429</td>\n",
       "      <td>2732.0</td>\n",
       "      <td>28</td>\n",
       "      <td>1671.976190</td>\n",
       "      <td>70223.0</td>\n",
       "      <td>42</td>\n",
       "      <td>11454.190476</td>\n",
       "      <td>481076.0</td>\n",
       "      <td>42</td>\n",
       "      <td>21.43</td>\n",
       "      <td>24.29</td>\n",
       "    </tr>\n",
       "    <tr>\n",
       "      <th>2</th>\n",
       "      <td>Europa</td>\n",
       "      <td>8.850000</td>\n",
       "      <td>354.0</td>\n",
       "      <td>40</td>\n",
       "      <td>49.864865</td>\n",
       "      <td>1845.0</td>\n",
       "      <td>37</td>\n",
       "      <td>61470.071429</td>\n",
       "      <td>2581743.0</td>\n",
       "      <td>42</td>\n",
       "      <td>222217.833333</td>\n",
       "      <td>9333149.0</td>\n",
       "      <td>42</td>\n",
       "      <td>31.75</td>\n",
       "      <td>20.00</td>\n",
       "    </tr>\n",
       "    <tr>\n",
       "      <th>3</th>\n",
       "      <td>No Existe Resultado</td>\n",
       "      <td>NaN</td>\n",
       "      <td>0.0</td>\n",
       "      <td>0</td>\n",
       "      <td>14.000000</td>\n",
       "      <td>14.0</td>\n",
       "      <td>1</td>\n",
       "      <td>NaN</td>\n",
       "      <td>0.0</td>\n",
       "      <td>0</td>\n",
       "      <td>NaN</td>\n",
       "      <td>0.0</td>\n",
       "      <td>0</td>\n",
       "      <td>0.00</td>\n",
       "      <td>0.00</td>\n",
       "    </tr>\n",
       "    <tr>\n",
       "      <th>4</th>\n",
       "      <td>Oceanía</td>\n",
       "      <td>5.857143</td>\n",
       "      <td>41.0</td>\n",
       "      <td>7</td>\n",
       "      <td>43.333333</td>\n",
       "      <td>260.0</td>\n",
       "      <td>6</td>\n",
       "      <td>736.666667</td>\n",
       "      <td>2210.0</td>\n",
       "      <td>3</td>\n",
       "      <td>9484.666667</td>\n",
       "      <td>28454.0</td>\n",
       "      <td>3</td>\n",
       "      <td>5.56</td>\n",
       "      <td>2.32</td>\n",
       "    </tr>\n",
       "    <tr>\n",
       "      <th>5</th>\n",
       "      <td>África</td>\n",
       "      <td>21.500000</td>\n",
       "      <td>387.0</td>\n",
       "      <td>18</td>\n",
       "      <td>117.937500</td>\n",
       "      <td>1887.0</td>\n",
       "      <td>16</td>\n",
       "      <td>2819.465116</td>\n",
       "      <td>121237.0</td>\n",
       "      <td>43</td>\n",
       "      <td>10085.511628</td>\n",
       "      <td>433677.0</td>\n",
       "      <td>43</td>\n",
       "      <td>14.29</td>\n",
       "      <td>21.86</td>\n",
       "    </tr>\n",
       "  </tbody>\n",
       "</table>\n",
       "</div>"
      ],
      "text/plain": [
       "     nombre_continente num_viajes_tui_web               \\\n",
       "                                     mean    sum count   \n",
       "0              América          16.411765  558.0    34   \n",
       "1                 Asia          15.925926  430.0    27   \n",
       "2               Europa           8.850000  354.0    40   \n",
       "3  No Existe Resultado                NaN    0.0     0   \n",
       "4              Oceanía           5.857143   41.0     7   \n",
       "5               África          21.500000  387.0    18   \n",
       "\n",
       "  num_viajes_segun_viaje_itinerario               total_turistas             \\\n",
       "                               mean     sum count           mean        sum   \n",
       "0                         84.892857  2377.0    28    5575.964286   156127.0   \n",
       "1                         97.571429  2732.0    28    1671.976190    70223.0   \n",
       "2                         49.864865  1845.0    37   61470.071429  2581743.0   \n",
       "3                         14.000000    14.0     1            NaN        0.0   \n",
       "4                         43.333333   260.0     6     736.666667     2210.0   \n",
       "5                        117.937500  1887.0    16    2819.465116   121237.0   \n",
       "\n",
       "        total_pernoctaciones                  Peso_categoria  \\\n",
       "  count                 mean        sum count                  \n",
       "0    28         46838.464286  1311477.0    28          26.98   \n",
       "1    42         11454.190476   481076.0    42          21.43   \n",
       "2    42        222217.833333  9333149.0    42          31.75   \n",
       "3     0                  NaN        0.0     0           0.00   \n",
       "4     3          9484.666667    28454.0     3           5.56   \n",
       "5    43         10085.511628   433677.0    43          14.29   \n",
       "\n",
       "  Peso_total_valor_recaudado  \n",
       "                              \n",
       "0                      31.53  \n",
       "1                      24.29  \n",
       "2                      20.00  \n",
       "3                       0.00  \n",
       "4                       2.32  \n",
       "5                      21.86  "
      ]
     },
     "execution_count": 135,
     "metadata": {},
     "output_type": "execute_result"
    }
   ],
   "source": [
    "df_importes_agrupación_competencia_nombrehotel= df_paises_con_viajes_y_turismo.groupby(['nombre_continente'])[['num_viajes_tui_web','num_viajes_segun_viaje_itinerario','total_turistas','total_pernoctaciones']].agg([\"mean\", \"sum\", \"count\"]).reset_index()\n",
    "df_importes_agrupación_competencia_nombrehotel['Peso_categoria']=round(df_importes_agrupación_competencia_nombrehotel.iloc[:,3]/df_importes_agrupación_competencia_nombrehotel.iloc[:,3].sum()*100,2)\n",
    "df_importes_agrupación_competencia_nombrehotel['Peso_total_valor_recaudado']=round(df_importes_agrupación_competencia_nombrehotel.iloc[:,2]/df_importes_agrupación_competencia_nombrehotel.iloc[:,2].sum()*100,2)\n",
    "df_importes_agrupación_competencia_nombrehotel"
   ]
  }
 ],
 "metadata": {
  "kernelspec": {
   "display_name": "venv",
   "language": "python",
   "name": "python3"
  },
  "language_info": {
   "codemirror_mode": {
    "name": "ipython",
    "version": 3
   },
   "file_extension": ".py",
   "mimetype": "text/x-python",
   "name": "python",
   "nbconvert_exporter": "python",
   "pygments_lexer": "ipython3",
   "version": "3.12.5"
  }
 },
 "nbformat": 4,
 "nbformat_minor": 5
}
