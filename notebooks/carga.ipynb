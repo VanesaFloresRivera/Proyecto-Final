{
 "cells": [
  {
   "cell_type": "code",
   "execution_count": 1,
   "id": "973ef613",
   "metadata": {},
   "outputs": [],
   "source": [
    "import pandas as pd\n",
    "import numpy as np\n",
    "import psycopg2\n",
    "import os\n",
    "from dotenv import load_dotenv\n",
    "import sys #permite navegar por el sistema\n",
    "sys.path.append(\"../\") #solo aplica al soporte\n",
    "import os\n",
    "from dotenv import load_dotenv\n",
    "from src.etl import load as lo #con jupyter\n",
    "import unicodedata"
   ]
  },
  {
   "cell_type": "code",
   "execution_count": 2,
   "id": "51552726",
   "metadata": {},
   "outputs": [
    {
     "data": {
      "text/plain": [
       "True"
      ]
     },
     "execution_count": 2,
     "metadata": {},
     "output_type": "execute_result"
    }
   ],
   "source": [
    "load_dotenv()"
   ]
  },
  {
   "cell_type": "code",
   "execution_count": 3,
   "id": "f8d7fcad",
   "metadata": {},
   "outputs": [],
   "source": [
    "#Llamamos a la variable de entorno\n",
    "DB_NAME = os.getenv(\"DB_NAME\")\n",
    "DB_USER=os.getenv(\"DB_USER\")\n",
    "DB_PASSWORD = os.getenv(\"DB_PASSWORD\")\n",
    "DB_HOST= os.getenv(\"DB_HOST\")\n",
    "DB_PORT = os.getenv(\"DB_PORT\")"
   ]
  },
  {
   "cell_type": "code",
   "execution_count": 4,
   "id": "9f2343eb",
   "metadata": {},
   "outputs": [],
   "source": [
    "conn, cur = lo.crear_conexión()"
   ]
  },
  {
   "cell_type": "code",
   "execution_count": 5,
   "id": "7d1f0395",
   "metadata": {},
   "outputs": [
    {
     "data": {
      "text/plain": [
       "('PostgreSQL 16.4, compiled by Visual C++ build 1940, 64-bit',)"
      ]
     },
     "execution_count": 5,
     "metadata": {},
     "output_type": "execute_result"
    }
   ],
   "source": [
    "#Comprobamos que la conexión está bien realizada:\n",
    "cur.execute(\"SELECT version();\")\n",
    "cur.fetchone() #para que muestre el resultado de la query anterior"
   ]
  },
  {
   "cell_type": "markdown",
   "id": "495d1d61",
   "metadata": {},
   "source": [
    "# Creación de los datos para las tablas:"
   ]
  },
  {
   "cell_type": "code",
   "execution_count": 6,
   "id": "c76983be",
   "metadata": {},
   "outputs": [],
   "source": [
    "#Importo los df procesados:\n",
    "ARCHIVO_GUARDAR_ESCRAPEO_VIAJES_PROCESADOS=os.getenv('ARCHIVO_GUARDAR_ESCRAPEO_VIAJES_PROCESADOS')\n",
    "ARCHIVO_GUARDAR_CONTINENTES_PROCESADOS =os.getenv('ARCHIVO_GUARDAR_CONTINENTES_PROCESADOS')\n",
    "ARCHIVO_GUARDAR_ITINERARIOS_PROCESADOS=os.getenv('ARCHIVO_GUARDAR_ITINERARIOS_PROCESADOS')\n",
    "ARCHIVO_GUARDAR_DATOS_API_PROCESADOS=os.getenv('ARCHIVO_GUARDAR_DATOS_API_PROCESADOS')\n",
    "ARCHIVO_GUARDAR_ESCRAPEO_API_OPENCAGE=os.getenv('ARCHIVO_GUARDAR_ESCRAPEO_API_OPENCAGE')"
   ]
  },
  {
   "cell_type": "markdown",
   "id": "1cbb8b63",
   "metadata": {},
   "source": [
    "## 1. Tabla pais_destino"
   ]
  },
  {
   "cell_type": "markdown",
   "id": "6803d681",
   "metadata": {},
   "source": [
    "###  1.1 Preparación de los datos: Unión de los paises y continentes tanto escrapeados como obtenidos de la API de turismo emisor"
   ]
  },
  {
   "cell_type": "markdown",
   "id": "76ae276a",
   "metadata": {},
   "source": [
    "#### a) Turismo emisor"
   ]
  },
  {
   "cell_type": "code",
   "execution_count": 7,
   "id": "f97538ea",
   "metadata": {},
   "outputs": [
    {
     "data": {
      "text/plain": [
       "Index(['Unnamed: 0', 'AÑO', 'MES', 'CCAA_ORIGEN', 'CONTINENTE_DESTINO',\n",
       "       'PAIS_DESTINO', 'TURISTAS', 'PERNOCTACIONES', 'ESTANCIA_MEDIA'],\n",
       "      dtype='object')"
      ]
     },
     "execution_count": 7,
     "metadata": {},
     "output_type": "execute_result"
    }
   ],
   "source": [
    "df_turismo_emisor_procesado=pd.read_csv(ARCHIVO_GUARDAR_DATOS_API_PROCESADOS)\n",
    "df_turismo_emisor_procesado.columns"
   ]
  },
  {
   "cell_type": "code",
   "execution_count": 8,
   "id": "3c723773",
   "metadata": {},
   "outputs": [
    {
     "data": {
      "application/vnd.microsoft.datawrangler.viewer.v0+json": {
       "columns": [
        {
         "name": "index",
         "rawType": "int64",
         "type": "integer"
        },
        {
         "name": "Unnamed: 0",
         "rawType": "int64",
         "type": "integer"
        },
        {
         "name": "AÑO",
         "rawType": "int64",
         "type": "integer"
        },
        {
         "name": "MES",
         "rawType": "int64",
         "type": "integer"
        },
        {
         "name": "CCAA_ORIGEN",
         "rawType": "object",
         "type": "string"
        },
        {
         "name": "CONTINENTE_DESTINO",
         "rawType": "object",
         "type": "string"
        },
        {
         "name": "PAIS_DESTINO",
         "rawType": "object",
         "type": "string"
        },
        {
         "name": "TURISTAS",
         "rawType": "object",
         "type": "string"
        },
        {
         "name": "PERNOCTACIONES",
         "rawType": "object",
         "type": "string"
        },
        {
         "name": "ESTANCIA_MEDIA",
         "rawType": "object",
         "type": "string"
        }
       ],
       "conversionMethod": "pd.DataFrame",
       "ref": "027c358a-0e9a-47c6-b163-7a4bc61b1643",
       "rows": [
        [
         "0",
         "0",
         "2019",
         "7",
         "Andalucía",
         "América",
         "Argentina",
         "419,0",
         "3616,0",
         "8,6"
        ],
        [
         "1",
         "1",
         "2019",
         "7",
         "Andalucía",
         "América",
         "Bolivia",
         "61,0",
         "486,0",
         "8,0"
        ],
        [
         "2",
         "2",
         "2019",
         "7",
         "Andalucía",
         "América",
         "Brasil",
         "277,0",
         "2214,0",
         "8,0"
        ],
        [
         "3",
         "3",
         "2019",
         "7",
         "Andalucía",
         "América",
         "Canadá",
         "483,0",
         "6159,0",
         "12,8"
        ],
        [
         "4",
         "4",
         "2019",
         "7",
         "Andalucía",
         "América",
         "Chile",
         "242,0",
         "2068,0",
         "8,5"
        ]
       ],
       "shape": {
        "columns": 9,
        "rows": 5
       }
      },
      "text/html": [
       "<div>\n",
       "<style scoped>\n",
       "    .dataframe tbody tr th:only-of-type {\n",
       "        vertical-align: middle;\n",
       "    }\n",
       "\n",
       "    .dataframe tbody tr th {\n",
       "        vertical-align: top;\n",
       "    }\n",
       "\n",
       "    .dataframe thead th {\n",
       "        text-align: right;\n",
       "    }\n",
       "</style>\n",
       "<table border=\"1\" class=\"dataframe\">\n",
       "  <thead>\n",
       "    <tr style=\"text-align: right;\">\n",
       "      <th></th>\n",
       "      <th>Unnamed: 0</th>\n",
       "      <th>AÑO</th>\n",
       "      <th>MES</th>\n",
       "      <th>CCAA_ORIGEN</th>\n",
       "      <th>CONTINENTE_DESTINO</th>\n",
       "      <th>PAIS_DESTINO</th>\n",
       "      <th>TURISTAS</th>\n",
       "      <th>PERNOCTACIONES</th>\n",
       "      <th>ESTANCIA_MEDIA</th>\n",
       "    </tr>\n",
       "  </thead>\n",
       "  <tbody>\n",
       "    <tr>\n",
       "      <th>0</th>\n",
       "      <td>0</td>\n",
       "      <td>2019</td>\n",
       "      <td>7</td>\n",
       "      <td>Andalucía</td>\n",
       "      <td>América</td>\n",
       "      <td>Argentina</td>\n",
       "      <td>419,0</td>\n",
       "      <td>3616,0</td>\n",
       "      <td>8,6</td>\n",
       "    </tr>\n",
       "    <tr>\n",
       "      <th>1</th>\n",
       "      <td>1</td>\n",
       "      <td>2019</td>\n",
       "      <td>7</td>\n",
       "      <td>Andalucía</td>\n",
       "      <td>América</td>\n",
       "      <td>Bolivia</td>\n",
       "      <td>61,0</td>\n",
       "      <td>486,0</td>\n",
       "      <td>8,0</td>\n",
       "    </tr>\n",
       "    <tr>\n",
       "      <th>2</th>\n",
       "      <td>2</td>\n",
       "      <td>2019</td>\n",
       "      <td>7</td>\n",
       "      <td>Andalucía</td>\n",
       "      <td>América</td>\n",
       "      <td>Brasil</td>\n",
       "      <td>277,0</td>\n",
       "      <td>2214,0</td>\n",
       "      <td>8,0</td>\n",
       "    </tr>\n",
       "    <tr>\n",
       "      <th>3</th>\n",
       "      <td>3</td>\n",
       "      <td>2019</td>\n",
       "      <td>7</td>\n",
       "      <td>Andalucía</td>\n",
       "      <td>América</td>\n",
       "      <td>Canadá</td>\n",
       "      <td>483,0</td>\n",
       "      <td>6159,0</td>\n",
       "      <td>12,8</td>\n",
       "    </tr>\n",
       "    <tr>\n",
       "      <th>4</th>\n",
       "      <td>4</td>\n",
       "      <td>2019</td>\n",
       "      <td>7</td>\n",
       "      <td>Andalucía</td>\n",
       "      <td>América</td>\n",
       "      <td>Chile</td>\n",
       "      <td>242,0</td>\n",
       "      <td>2068,0</td>\n",
       "      <td>8,5</td>\n",
       "    </tr>\n",
       "  </tbody>\n",
       "</table>\n",
       "</div>"
      ],
      "text/plain": [
       "   Unnamed: 0   AÑO  MES CCAA_ORIGEN CONTINENTE_DESTINO PAIS_DESTINO TURISTAS  \\\n",
       "0           0  2019    7   Andalucía            América    Argentina    419,0   \n",
       "1           1  2019    7   Andalucía            América      Bolivia     61,0   \n",
       "2           2  2019    7   Andalucía            América       Brasil    277,0   \n",
       "3           3  2019    7   Andalucía            América       Canadá    483,0   \n",
       "4           4  2019    7   Andalucía            América        Chile    242,0   \n",
       "\n",
       "  PERNOCTACIONES ESTANCIA_MEDIA  \n",
       "0         3616,0            8,6  \n",
       "1          486,0            8,0  \n",
       "2         2214,0            8,0  \n",
       "3         6159,0           12,8  \n",
       "4         2068,0            8,5  "
      ]
     },
     "execution_count": 8,
     "metadata": {},
     "output_type": "execute_result"
    }
   ],
   "source": [
    "df_turismo_emisor_procesado.head()"
   ]
  },
  {
   "cell_type": "code",
   "execution_count": 9,
   "id": "2f0ef722",
   "metadata": {},
   "outputs": [
    {
     "data": {
      "text/plain": [
       "array(['América', 'Asia', 'Europa', 'Oceanía', 'África'], dtype=object)"
      ]
     },
     "execution_count": 9,
     "metadata": {},
     "output_type": "execute_result"
    }
   ],
   "source": [
    "df_paises_continentes_turismos_emisor=df_turismo_emisor_procesado[['PAIS_DESTINO','CONTINENTE_DESTINO']]\n",
    "df_paises_continentes_turismos_emisor=df_paises_continentes_turismos_emisor.drop_duplicates()\n",
    "df_paises_continentes_turismos_emisor.CONTINENTE_DESTINO.unique()"
   ]
  },
  {
   "cell_type": "code",
   "execution_count": 10,
   "id": "373aa98c",
   "metadata": {},
   "outputs": [
    {
     "data": {
      "text/plain": [
       "Index(['PAIS_DESTINO', 'CONTINENTE_DESTINO'], dtype='object')"
      ]
     },
     "execution_count": 10,
     "metadata": {},
     "output_type": "execute_result"
    }
   ],
   "source": [
    "df_paises_continentes_turismos_emisor.columns"
   ]
  },
  {
   "cell_type": "code",
   "execution_count": 11,
   "id": "bdd9172e",
   "metadata": {},
   "outputs": [],
   "source": [
    "df_paises_continentes_turismos_emisor= df_paises_continentes_turismos_emisor.rename(\n",
    "    columns={'PAIS_DESTINO':'nombre_pais_destino', 'CONTINENTE_DESTINO':'nombre_continente'})\n",
    "df_paises_continentes_turismos_emisor= df_paises_continentes_turismos_emisor.sort_values(by='nombre_pais_destino').reset_index(drop=True)"
   ]
  },
  {
   "cell_type": "code",
   "execution_count": 12,
   "id": "e301f365",
   "metadata": {},
   "outputs": [
    {
     "data": {
      "application/vnd.microsoft.datawrangler.viewer.v0+json": {
       "columns": [
        {
         "name": "index",
         "rawType": "int64",
         "type": "integer"
        },
        {
         "name": "nombre_pais_destino",
         "rawType": "object",
         "type": "string"
        },
        {
         "name": "nombre_continente",
         "rawType": "object",
         "type": "string"
        }
       ],
       "conversionMethod": "pd.DataFrame",
       "ref": "04cacef8-e146-4b0d-b01f-faa693f19b51",
       "rows": [
        [
         "0",
         "Albania",
         "Europa"
        ],
        [
         "1",
         "Alemania",
         "Europa"
        ],
        [
         "2",
         "Andorra",
         "Europa"
        ],
        [
         "3",
         "Angola",
         "África"
        ],
        [
         "4",
         "Antigua",
         "América"
        ],
        [
         "5",
         "Arabia Saudí",
         "Asia"
        ],
        [
         "6",
         "Argelia",
         "África"
        ],
        [
         "7",
         "Argentina",
         "América"
        ],
        [
         "8",
         "Armenia",
         "Europa"
        ],
        [
         "9",
         "Australia",
         "Oceanía"
        ],
        [
         "10",
         "Austria",
         "Europa"
        ],
        [
         "11",
         "Azerbaiyán",
         "Asia"
        ],
        [
         "12",
         "Bahamas",
         "América"
        ],
        [
         "13",
         "Bahréin",
         "Asia"
        ],
        [
         "14",
         "Bangladesh",
         "Asia"
        ],
        [
         "15",
         "Barbados",
         "América"
        ],
        [
         "16",
         "Belarús",
         "Europa"
        ],
        [
         "17",
         "Belice",
         "América"
        ],
        [
         "18",
         "Benin",
         "África"
        ],
        [
         "19",
         "Bolivia",
         "América"
        ],
        [
         "20",
         "Bosnia y Herzegovina",
         "Europa"
        ],
        [
         "21",
         "Botswana",
         "África"
        ],
        [
         "22",
         "Brasil",
         "América"
        ],
        [
         "23",
         "Bulgaria",
         "Europa"
        ],
        [
         "24",
         "Burkina Faso",
         "África"
        ],
        [
         "25",
         "Bután",
         "Asia"
        ],
        [
         "26",
         "Bélgica",
         "Europa"
        ],
        [
         "27",
         "Cabo Verde",
         "África"
        ],
        [
         "28",
         "Camboya",
         "Asia"
        ],
        [
         "29",
         "Camerún",
         "África"
        ],
        [
         "30",
         "Canadá",
         "América"
        ],
        [
         "31",
         "Chad",
         "África"
        ],
        [
         "32",
         "Chile",
         "América"
        ],
        [
         "33",
         "China",
         "Asia"
        ],
        [
         "34",
         "Chipre",
         "Europa"
        ],
        [
         "35",
         "Colombia",
         "América"
        ],
        [
         "36",
         "Corea Del Sur",
         "Asia"
        ],
        [
         "37",
         "Costa Rica",
         "América"
        ],
        [
         "38",
         "Costa de Marfil",
         "África"
        ],
        [
         "39",
         "Croacia",
         "Europa"
        ],
        [
         "40",
         "Cuba",
         "América"
        ],
        [
         "41",
         "Dinamarca",
         "Europa"
        ],
        [
         "42",
         "Djibouti",
         "África"
        ],
        [
         "43",
         "Ecuador",
         "América"
        ],
        [
         "44",
         "Egipto",
         "África"
        ],
        [
         "45",
         "El Salvador",
         "América"
        ],
        [
         "46",
         "Emiratos Árabes Unidos",
         "Asia"
        ],
        [
         "47",
         "Eslovenia",
         "Europa"
        ],
        [
         "48",
         "Estados Unidos",
         "América"
        ],
        [
         "49",
         "Estonia",
         "Europa"
        ]
       ],
       "shape": {
        "columns": 2,
        "rows": 158
       }
      },
      "text/html": [
       "<div>\n",
       "<style scoped>\n",
       "    .dataframe tbody tr th:only-of-type {\n",
       "        vertical-align: middle;\n",
       "    }\n",
       "\n",
       "    .dataframe tbody tr th {\n",
       "        vertical-align: top;\n",
       "    }\n",
       "\n",
       "    .dataframe thead th {\n",
       "        text-align: right;\n",
       "    }\n",
       "</style>\n",
       "<table border=\"1\" class=\"dataframe\">\n",
       "  <thead>\n",
       "    <tr style=\"text-align: right;\">\n",
       "      <th></th>\n",
       "      <th>nombre_pais_destino</th>\n",
       "      <th>nombre_continente</th>\n",
       "    </tr>\n",
       "  </thead>\n",
       "  <tbody>\n",
       "    <tr>\n",
       "      <th>0</th>\n",
       "      <td>Albania</td>\n",
       "      <td>Europa</td>\n",
       "    </tr>\n",
       "    <tr>\n",
       "      <th>1</th>\n",
       "      <td>Alemania</td>\n",
       "      <td>Europa</td>\n",
       "    </tr>\n",
       "    <tr>\n",
       "      <th>2</th>\n",
       "      <td>Andorra</td>\n",
       "      <td>Europa</td>\n",
       "    </tr>\n",
       "    <tr>\n",
       "      <th>3</th>\n",
       "      <td>Angola</td>\n",
       "      <td>África</td>\n",
       "    </tr>\n",
       "    <tr>\n",
       "      <th>4</th>\n",
       "      <td>Antigua</td>\n",
       "      <td>América</td>\n",
       "    </tr>\n",
       "    <tr>\n",
       "      <th>...</th>\n",
       "      <td>...</td>\n",
       "      <td>...</td>\n",
       "    </tr>\n",
       "    <tr>\n",
       "      <th>153</th>\n",
       "      <td>Venezuela</td>\n",
       "      <td>América</td>\n",
       "    </tr>\n",
       "    <tr>\n",
       "      <th>154</th>\n",
       "      <td>Vietnam</td>\n",
       "      <td>Asia</td>\n",
       "    </tr>\n",
       "    <tr>\n",
       "      <th>155</th>\n",
       "      <td>Yemen</td>\n",
       "      <td>Asia</td>\n",
       "    </tr>\n",
       "    <tr>\n",
       "      <th>156</th>\n",
       "      <td>Zambia</td>\n",
       "      <td>África</td>\n",
       "    </tr>\n",
       "    <tr>\n",
       "      <th>157</th>\n",
       "      <td>Zimbabue</td>\n",
       "      <td>África</td>\n",
       "    </tr>\n",
       "  </tbody>\n",
       "</table>\n",
       "<p>158 rows × 2 columns</p>\n",
       "</div>"
      ],
      "text/plain": [
       "    nombre_pais_destino nombre_continente\n",
       "0               Albania            Europa\n",
       "1              Alemania            Europa\n",
       "2               Andorra            Europa\n",
       "3                Angola            África\n",
       "4               Antigua           América\n",
       "..                  ...               ...\n",
       "153           Venezuela           América\n",
       "154             Vietnam              Asia\n",
       "155               Yemen              Asia\n",
       "156              Zambia            África\n",
       "157            Zimbabue            África\n",
       "\n",
       "[158 rows x 2 columns]"
      ]
     },
     "execution_count": 12,
     "metadata": {},
     "output_type": "execute_result"
    }
   ],
   "source": [
    "df_paises_continentes_turismos_emisor"
   ]
  },
  {
   "cell_type": "markdown",
   "id": "4b9b9f11",
   "metadata": {},
   "source": [
    "#### b) Paises escrapeados"
   ]
  },
  {
   "cell_type": "code",
   "execution_count": 13,
   "id": "83bd2617",
   "metadata": {},
   "outputs": [
    {
     "data": {
      "text/plain": [
       "Index(['continente', 'pais', 'fecha_escrapeo', 'en_ultimo_escrapeo'], dtype='object')"
      ]
     },
     "execution_count": 13,
     "metadata": {},
     "output_type": "execute_result"
    }
   ],
   "source": [
    "df_paises_continentes_escrapeo = pd.read_pickle(ARCHIVO_GUARDAR_CONTINENTES_PROCESADOS)\n",
    "df_paises_continentes_escrapeo.columns"
   ]
  },
  {
   "cell_type": "code",
   "execution_count": 14,
   "id": "9d4c0d34",
   "metadata": {},
   "outputs": [
    {
     "data": {
      "application/vnd.microsoft.datawrangler.viewer.v0+json": {
       "columns": [
        {
         "name": "index",
         "rawType": "int64",
         "type": "integer"
        },
        {
         "name": "continente",
         "rawType": "object",
         "type": "string"
        },
        {
         "name": "pais",
         "rawType": "object",
         "type": "string"
        },
        {
         "name": "fecha_escrapeo",
         "rawType": "datetime64[ns]",
         "type": "datetime"
        },
        {
         "name": "en_ultimo_escrapeo",
         "rawType": "object",
         "type": "string"
        }
       ],
       "conversionMethod": "pd.DataFrame",
       "ref": "c9509b76-0e5f-4295-ab6e-c06b03c971ca",
       "rows": [
        [
         "0",
         "Europa",
         "Albania",
         "2025-04-14 00:00:00",
         "Si"
        ],
        [
         "1",
         "Europa",
         "Alemania",
         "2025-04-14 00:00:00",
         "Si"
        ],
        [
         "2",
         "América",
         "Antigua",
         "2025-04-14 00:00:00",
         "Si"
        ],
        [
         "3",
         "América",
         "Argentina",
         "2025-04-14 00:00:00",
         "Si"
        ],
        [
         "4",
         "América",
         "Aruba",
         "2025-04-14 00:00:00",
         "Si"
        ]
       ],
       "shape": {
        "columns": 4,
        "rows": 5
       }
      },
      "text/html": [
       "<div>\n",
       "<style scoped>\n",
       "    .dataframe tbody tr th:only-of-type {\n",
       "        vertical-align: middle;\n",
       "    }\n",
       "\n",
       "    .dataframe tbody tr th {\n",
       "        vertical-align: top;\n",
       "    }\n",
       "\n",
       "    .dataframe thead th {\n",
       "        text-align: right;\n",
       "    }\n",
       "</style>\n",
       "<table border=\"1\" class=\"dataframe\">\n",
       "  <thead>\n",
       "    <tr style=\"text-align: right;\">\n",
       "      <th></th>\n",
       "      <th>continente</th>\n",
       "      <th>pais</th>\n",
       "      <th>fecha_escrapeo</th>\n",
       "      <th>en_ultimo_escrapeo</th>\n",
       "    </tr>\n",
       "  </thead>\n",
       "  <tbody>\n",
       "    <tr>\n",
       "      <th>0</th>\n",
       "      <td>Europa</td>\n",
       "      <td>Albania</td>\n",
       "      <td>2025-04-14</td>\n",
       "      <td>Si</td>\n",
       "    </tr>\n",
       "    <tr>\n",
       "      <th>1</th>\n",
       "      <td>Europa</td>\n",
       "      <td>Alemania</td>\n",
       "      <td>2025-04-14</td>\n",
       "      <td>Si</td>\n",
       "    </tr>\n",
       "    <tr>\n",
       "      <th>2</th>\n",
       "      <td>América</td>\n",
       "      <td>Antigua</td>\n",
       "      <td>2025-04-14</td>\n",
       "      <td>Si</td>\n",
       "    </tr>\n",
       "    <tr>\n",
       "      <th>3</th>\n",
       "      <td>América</td>\n",
       "      <td>Argentina</td>\n",
       "      <td>2025-04-14</td>\n",
       "      <td>Si</td>\n",
       "    </tr>\n",
       "    <tr>\n",
       "      <th>4</th>\n",
       "      <td>América</td>\n",
       "      <td>Aruba</td>\n",
       "      <td>2025-04-14</td>\n",
       "      <td>Si</td>\n",
       "    </tr>\n",
       "  </tbody>\n",
       "</table>\n",
       "</div>"
      ],
      "text/plain": [
       "  continente       pais fecha_escrapeo en_ultimo_escrapeo\n",
       "0     Europa    Albania     2025-04-14                 Si\n",
       "1     Europa   Alemania     2025-04-14                 Si\n",
       "2    América    Antigua     2025-04-14                 Si\n",
       "3    América  Argentina     2025-04-14                 Si\n",
       "4    América      Aruba     2025-04-14                 Si"
      ]
     },
     "execution_count": 14,
     "metadata": {},
     "output_type": "execute_result"
    }
   ],
   "source": [
    "df_paises_continentes_escrapeo.head()"
   ]
  },
  {
   "cell_type": "code",
   "execution_count": 15,
   "id": "bbbb5306",
   "metadata": {},
   "outputs": [],
   "source": [
    "df_paises_continentes_escrapeo=df_paises_continentes_escrapeo[['pais','continente']]\n",
    "df_paises_continentes_escrapeo= df_paises_continentes_escrapeo.drop_duplicates()"
   ]
  },
  {
   "cell_type": "code",
   "execution_count": 16,
   "id": "5e30c975",
   "metadata": {},
   "outputs": [],
   "source": [
    "df_paises_continentes_escrapeo= df_paises_continentes_escrapeo.rename(\n",
    "    columns={'pais':'nombre_pais_destino', 'continente':'nombre_continente'})"
   ]
  },
  {
   "cell_type": "code",
   "execution_count": 17,
   "id": "da6f612f",
   "metadata": {},
   "outputs": [
    {
     "data": {
      "application/vnd.microsoft.datawrangler.viewer.v0+json": {
       "columns": [
        {
         "name": "index",
         "rawType": "int64",
         "type": "integer"
        },
        {
         "name": "nombre_pais_destino",
         "rawType": "object",
         "type": "string"
        },
        {
         "name": "nombre_continente",
         "rawType": "object",
         "type": "string"
        }
       ],
       "conversionMethod": "pd.DataFrame",
       "ref": "4b49a2f6-3bc1-45b7-a5ca-1e50429b7e54",
       "rows": [
        [
         "0",
         "Albania",
         "Europa"
        ],
        [
         "1",
         "Alemania",
         "Europa"
        ],
        [
         "2",
         "Antigua",
         "América"
        ],
        [
         "3",
         "Arabia Saudí",
         "Asia"
        ],
        [
         "4",
         "Argentina",
         "América"
        ],
        [
         "5",
         "Armenia",
         "Asia"
        ],
        [
         "6",
         "Aruba",
         "América"
        ],
        [
         "7",
         "Australia",
         "Oceanía"
        ],
        [
         "8",
         "Austria",
         "Europa"
        ],
        [
         "9",
         "Bahamas",
         "América"
        ],
        [
         "10",
         "Barbados",
         "América"
        ],
        [
         "11",
         "Belice",
         "América"
        ],
        [
         "12",
         "Bolivia",
         "América"
        ],
        [
         "13",
         "Bosnia y Herzegovina",
         "Europa"
        ],
        [
         "14",
         "Botsuana",
         "África"
        ],
        [
         "15",
         "Brasil",
         "América"
        ],
        [
         "16",
         "Bulgaria",
         "Europa"
        ],
        [
         "17",
         "Bután",
         "Asia"
        ],
        [
         "18",
         "Bélgica",
         "Europa"
        ],
        [
         "19",
         "Cabo Verde",
         "África"
        ],
        [
         "20",
         "Camboya",
         "Asia"
        ],
        [
         "21",
         "Canadá",
         "América"
        ],
        [
         "22",
         "Chile",
         "América"
        ],
        [
         "23",
         "China",
         "Asia"
        ],
        [
         "24",
         "Chipre",
         "Europa"
        ],
        [
         "25",
         "Colombia",
         "América"
        ],
        [
         "26",
         "Corea Del Sur",
         "Asia"
        ],
        [
         "27",
         "Costa Rica",
         "América"
        ],
        [
         "28",
         "Croacia",
         "Europa"
        ],
        [
         "29",
         "Curaçao",
         "América"
        ],
        [
         "30",
         "Dinamarca",
         "Europa"
        ],
        [
         "31",
         "Dominica",
         "América"
        ],
        [
         "32",
         "Ecuador",
         "América"
        ],
        [
         "33",
         "Egipto",
         "África"
        ],
        [
         "34",
         "El Salvador",
         "América"
        ],
        [
         "35",
         "Emiratos Árabes Unidos",
         "Asia"
        ],
        [
         "36",
         "Eslovaquia",
         "Europa"
        ],
        [
         "37",
         "Eslovenia",
         "Europa"
        ],
        [
         "38",
         "España",
         "Europa"
        ],
        [
         "39",
         "Estados Unidos",
         "América"
        ],
        [
         "40",
         "Estonia",
         "Europa"
        ],
        [
         "41",
         "Fiji",
         "Oceanía"
        ],
        [
         "42",
         "Filipinas",
         "Asia"
        ],
        [
         "43",
         "Finlandia",
         "Europa"
        ],
        [
         "44",
         "Francia",
         "Europa"
        ],
        [
         "45",
         "Georgia",
         "América"
        ],
        [
         "46",
         "Granada",
         "América"
        ],
        [
         "47",
         "Grecia",
         "Europa"
        ],
        [
         "48",
         "Guadalupe",
         "América"
        ],
        [
         "49",
         "Guatemala",
         "América"
        ]
       ],
       "shape": {
        "columns": 2,
        "rows": 125
       }
      },
      "text/html": [
       "<div>\n",
       "<style scoped>\n",
       "    .dataframe tbody tr th:only-of-type {\n",
       "        vertical-align: middle;\n",
       "    }\n",
       "\n",
       "    .dataframe tbody tr th {\n",
       "        vertical-align: top;\n",
       "    }\n",
       "\n",
       "    .dataframe thead th {\n",
       "        text-align: right;\n",
       "    }\n",
       "</style>\n",
       "<table border=\"1\" class=\"dataframe\">\n",
       "  <thead>\n",
       "    <tr style=\"text-align: right;\">\n",
       "      <th></th>\n",
       "      <th>nombre_pais_destino</th>\n",
       "      <th>nombre_continente</th>\n",
       "    </tr>\n",
       "  </thead>\n",
       "  <tbody>\n",
       "    <tr>\n",
       "      <th>0</th>\n",
       "      <td>Albania</td>\n",
       "      <td>Europa</td>\n",
       "    </tr>\n",
       "    <tr>\n",
       "      <th>1</th>\n",
       "      <td>Alemania</td>\n",
       "      <td>Europa</td>\n",
       "    </tr>\n",
       "    <tr>\n",
       "      <th>2</th>\n",
       "      <td>Antigua</td>\n",
       "      <td>América</td>\n",
       "    </tr>\n",
       "    <tr>\n",
       "      <th>3</th>\n",
       "      <td>Arabia Saudí</td>\n",
       "      <td>Asia</td>\n",
       "    </tr>\n",
       "    <tr>\n",
       "      <th>4</th>\n",
       "      <td>Argentina</td>\n",
       "      <td>América</td>\n",
       "    </tr>\n",
       "    <tr>\n",
       "      <th>...</th>\n",
       "      <td>...</td>\n",
       "      <td>...</td>\n",
       "    </tr>\n",
       "    <tr>\n",
       "      <th>120</th>\n",
       "      <td>Uruguay</td>\n",
       "      <td>América</td>\n",
       "    </tr>\n",
       "    <tr>\n",
       "      <th>121</th>\n",
       "      <td>Uzbekistán</td>\n",
       "      <td>Asia</td>\n",
       "    </tr>\n",
       "    <tr>\n",
       "      <th>122</th>\n",
       "      <td>Vietnam</td>\n",
       "      <td>Asia</td>\n",
       "    </tr>\n",
       "    <tr>\n",
       "      <th>123</th>\n",
       "      <td>Zanzíbar</td>\n",
       "      <td>África</td>\n",
       "    </tr>\n",
       "    <tr>\n",
       "      <th>124</th>\n",
       "      <td>Zimbabue</td>\n",
       "      <td>África</td>\n",
       "    </tr>\n",
       "  </tbody>\n",
       "</table>\n",
       "<p>125 rows × 2 columns</p>\n",
       "</div>"
      ],
      "text/plain": [
       "    nombre_pais_destino nombre_continente\n",
       "0               Albania            Europa\n",
       "1              Alemania            Europa\n",
       "2               Antigua           América\n",
       "3          Arabia Saudí              Asia\n",
       "4             Argentina           América\n",
       "..                  ...               ...\n",
       "120             Uruguay           América\n",
       "121          Uzbekistán              Asia\n",
       "122             Vietnam              Asia\n",
       "123            Zanzíbar            África\n",
       "124            Zimbabue            África\n",
       "\n",
       "[125 rows x 2 columns]"
      ]
     },
     "execution_count": 17,
     "metadata": {},
     "output_type": "execute_result"
    }
   ],
   "source": [
    "df_paises_continentes_escrapeo= df_paises_continentes_escrapeo.sort_values(by='nombre_pais_destino').reset_index(drop=True)\n",
    "df_paises_continentes_escrapeo"
   ]
  },
  {
   "cell_type": "markdown",
   "id": "46c77f5d",
   "metadata": {},
   "source": [
    "#### c) Paises en itinerarios ciudades"
   ]
  },
  {
   "cell_type": "code",
   "execution_count": 18,
   "id": "71582731",
   "metadata": {},
   "outputs": [
    {
     "data": {
      "text/plain": [
       "Index(['itinerario_modificado_para_dividir', 'ciudad', 'pais_correcto'], dtype='object')"
      ]
     },
     "execution_count": 18,
     "metadata": {},
     "output_type": "execute_result"
    }
   ],
   "source": [
    "df_itinerarios_ciudades = pd.read_pickle(ARCHIVO_GUARDAR_ITINERARIOS_PROCESADOS)\n",
    "df_itinerarios_ciudades.columns"
   ]
  },
  {
   "cell_type": "code",
   "execution_count": 19,
   "id": "b1429557",
   "metadata": {},
   "outputs": [],
   "source": [
    "df_itinerarios_ciudades_pais_continentes = pd.DataFrame()\n",
    "df_itinerarios_ciudades_pais_continentes['pais'] = df_itinerarios_ciudades['pais_correcto'].drop_duplicates().reset_index(drop=True)"
   ]
  },
  {
   "cell_type": "code",
   "execution_count": 23,
   "id": "725dd463",
   "metadata": {},
   "outputs": [
    {
     "data": {
      "application/vnd.microsoft.datawrangler.viewer.v0+json": {
       "columns": [
        {
         "name": "index",
         "rawType": "int64",
         "type": "integer"
        },
        {
         "name": "pais",
         "rawType": "object",
         "type": "string"
        }
       ],
       "conversionMethod": "pd.DataFrame",
       "ref": "43cc509c-8986-4d35-9eaa-1f5c463ca25b",
       "rows": [
        [
         "0",
         "Alemania"
        ],
        [
         "1",
         "Argentina"
        ],
        [
         "2",
         "Aruba"
        ],
        [
         "3",
         "Australia"
        ],
        [
         "4",
         "Austria"
        ],
        [
         "5",
         "Bahamas"
        ],
        [
         "6",
         "Barbados"
        ],
        [
         "7",
         "Bolivia"
        ],
        [
         "8",
         "Brasil"
        ],
        [
         "9",
         "Bulgaria"
        ],
        [
         "10",
         "Cabo Verde"
        ],
        [
         "11",
         "Camboya"
        ],
        [
         "12",
         "Canada"
        ],
        [
         "13",
         "Chile"
        ],
        [
         "14",
         "China"
        ],
        [
         "15",
         "Chipre"
        ],
        [
         "16",
         "Colombia"
        ],
        [
         "17",
         "Corea Del Sur"
        ],
        [
         "18",
         "Costa Rica"
        ],
        [
         "19",
         "Croacia"
        ],
        [
         "20",
         "Curacao"
        ],
        [
         "21",
         "Dinamarca"
        ],
        [
         "22",
         "Dominica"
        ],
        [
         "23",
         "Ecuador"
        ],
        [
         "24",
         "Egipto"
        ],
        [
         "25",
         "El Salvador"
        ],
        [
         "26",
         "Emiratos Arabes Unidos"
        ],
        [
         "27",
         "Eslovaquia"
        ],
        [
         "28",
         "Eslovenia"
        ],
        [
         "29",
         "Espana"
        ],
        [
         "30",
         "Estados Unidos"
        ],
        [
         "31",
         "Fiji"
        ],
        [
         "32",
         "Filipinas"
        ],
        [
         "33",
         "Finlandia"
        ],
        [
         "34",
         "Francia"
        ],
        [
         "35",
         "Grecia"
        ],
        [
         "36",
         "Guadalupe"
        ],
        [
         "37",
         "Guatemala"
        ],
        [
         "38",
         "Honduras"
        ],
        [
         "39",
         "Hungria"
        ],
        [
         "40",
         "India"
        ],
        [
         "41",
         "Indonesia"
        ],
        [
         "42",
         "Irlanda"
        ],
        [
         "43",
         "Islandia"
        ],
        [
         "44",
         "Islas Caiman"
        ],
        [
         "45",
         "Islas Cook"
        ],
        [
         "46",
         "Islas Feroe"
        ],
        [
         "47",
         "Italia"
        ],
        [
         "48",
         "Jamaica"
        ],
        [
         "49",
         "Japon"
        ]
       ],
       "shape": {
        "columns": 1,
        "rows": 128
       }
      },
      "text/html": [
       "<div>\n",
       "<style scoped>\n",
       "    .dataframe tbody tr th:only-of-type {\n",
       "        vertical-align: middle;\n",
       "    }\n",
       "\n",
       "    .dataframe tbody tr th {\n",
       "        vertical-align: top;\n",
       "    }\n",
       "\n",
       "    .dataframe thead th {\n",
       "        text-align: right;\n",
       "    }\n",
       "</style>\n",
       "<table border=\"1\" class=\"dataframe\">\n",
       "  <thead>\n",
       "    <tr style=\"text-align: right;\">\n",
       "      <th></th>\n",
       "      <th>pais</th>\n",
       "    </tr>\n",
       "  </thead>\n",
       "  <tbody>\n",
       "    <tr>\n",
       "      <th>0</th>\n",
       "      <td>Alemania</td>\n",
       "    </tr>\n",
       "    <tr>\n",
       "      <th>1</th>\n",
       "      <td>Argentina</td>\n",
       "    </tr>\n",
       "    <tr>\n",
       "      <th>2</th>\n",
       "      <td>Aruba</td>\n",
       "    </tr>\n",
       "    <tr>\n",
       "      <th>3</th>\n",
       "      <td>Australia</td>\n",
       "    </tr>\n",
       "    <tr>\n",
       "      <th>4</th>\n",
       "      <td>Austria</td>\n",
       "    </tr>\n",
       "    <tr>\n",
       "      <th>...</th>\n",
       "      <td>...</td>\n",
       "    </tr>\n",
       "    <tr>\n",
       "      <th>123</th>\n",
       "      <td>Macedonia Del Norte</td>\n",
       "    </tr>\n",
       "    <tr>\n",
       "      <th>124</th>\n",
       "      <td>Bosnia Y Herzegovina</td>\n",
       "    </tr>\n",
       "    <tr>\n",
       "      <th>125</th>\n",
       "      <td>Belice</td>\n",
       "    </tr>\n",
       "    <tr>\n",
       "      <th>126</th>\n",
       "      <td>Nigeria</td>\n",
       "    </tr>\n",
       "    <tr>\n",
       "      <th>127</th>\n",
       "      <td>Azerbaiyan</td>\n",
       "    </tr>\n",
       "  </tbody>\n",
       "</table>\n",
       "<p>128 rows × 1 columns</p>\n",
       "</div>"
      ],
      "text/plain": [
       "                     pais\n",
       "0                Alemania\n",
       "1               Argentina\n",
       "2                   Aruba\n",
       "3               Australia\n",
       "4                 Austria\n",
       "..                    ...\n",
       "123   Macedonia Del Norte\n",
       "124  Bosnia Y Herzegovina\n",
       "125                Belice\n",
       "126               Nigeria\n",
       "127            Azerbaiyan\n",
       "\n",
       "[128 rows x 1 columns]"
      ]
     },
     "execution_count": 23,
     "metadata": {},
     "output_type": "execute_result"
    }
   ],
   "source": [
    "df_itinerarios_ciudades_pais_continentes"
   ]
  },
  {
   "cell_type": "code",
   "execution_count": 24,
   "id": "0a45f286",
   "metadata": {},
   "outputs": [
    {
     "data": {
      "text/plain": [
       "Index(['pais', 'continente_api', 'pais_api', 'latitud', 'longitud', 'ciudad'], dtype='object')"
      ]
     },
     "execution_count": 24,
     "metadata": {},
     "output_type": "execute_result"
    }
   ],
   "source": [
    "df_opencage = pd.read_pickle(ARCHIVO_GUARDAR_ESCRAPEO_API_OPENCAGE)\n",
    "df_opencage.columns"
   ]
  },
  {
   "cell_type": "code",
   "execution_count": 25,
   "id": "e1a96d01",
   "metadata": {},
   "outputs": [
    {
     "data": {
      "application/vnd.microsoft.datawrangler.viewer.v0+json": {
       "columns": [
        {
         "name": "index",
         "rawType": "int64",
         "type": "integer"
        },
        {
         "name": "pais",
         "rawType": "object",
         "type": "unknown"
        },
        {
         "name": "continente_api",
         "rawType": "object",
         "type": "string"
        },
        {
         "name": "pais_api",
         "rawType": "object",
         "type": "string"
        },
        {
         "name": "latitud",
         "rawType": "object",
         "type": "unknown"
        },
        {
         "name": "longitud",
         "rawType": "object",
         "type": "unknown"
        },
        {
         "name": "ciudad",
         "rawType": "object",
         "type": "unknown"
        }
       ],
       "conversionMethod": "pd.DataFrame",
       "ref": "9e8c5000-f952-4dd4-9006-d05178009adf",
       "rows": [
        [
         "0",
         "Antigua",
         "América",
         "Antigua y Barbuda",
         "17.1037151",
         "-61.7904505",
         null
        ],
        [
         "1",
         "Aruba",
         "América",
         "Aruba",
         "12.5013629",
         "-69.9618475",
         null
        ],
        [
         "2",
         "Bahamas",
         "América",
         "Bahamas",
         "24.7736546",
         "-78.0000547",
         null
        ],
        [
         "3",
         "Barbados",
         "América",
         "Barbados",
         "13.1500331",
         "-59.5250305",
         null
        ],
        [
         "4",
         "Curaçao",
         "América",
         "Curazao",
         "12.1176488",
         "-68.9309263",
         null
        ],
        [
         "5",
         "Dominica",
         "América",
         "Dominica",
         "15.4113138",
         "-61.3653618",
         null
        ],
        [
         "6",
         "Emiratos Árabes Unidos",
         "Asia",
         "Emiratos Árabes Unidos",
         "24.0002488",
         "53.9994829",
         null
        ],
        [
         "7",
         "Fiji",
         "Oceanía",
         "Fiyi",
         "-18.1239696",
         "179.0122737",
         null
        ],
        [
         "8",
         "Georgia",
         "América",
         "Estados Unidos de América",
         "32.3293809",
         "-83.1137366",
         null
        ],
        [
         "9",
         "Granada",
         "América",
         "Granada",
         "12.1360374",
         "-61.6904045",
         null
        ],
        [
         "10",
         "Guadalupe",
         "América",
         "Francia",
         "16.2528827",
         "-61.5686855",
         null
        ],
        [
         "11",
         "Islas Caimán",
         "América",
         "Islas Caimán",
         "19.7031822",
         "-79.9174627",
         null
        ],
        [
         "12",
         "Islas Cook",
         "Oceanía",
         "Islas Cook",
         "-19.9969716",
         "-157.7858714",
         null
        ],
        [
         "13",
         "Jamaica",
         "América",
         "Jamaica",
         "18.1850507",
         "-77.3947693",
         null
        ],
        [
         "14",
         "Jordania",
         "Asia",
         "Jordania",
         "31.1667049",
         "36.941628",
         null
        ],
        [
         "15",
         "Maldivas",
         "Asia",
         "Maldivas",
         "3.7203503",
         "73.2244152",
         null
        ],
        [
         "16",
         "Martinica",
         "América",
         "Francia",
         "14.6113732",
         "-60.9620777",
         null
        ],
        [
         "17",
         "Mauricio",
         "África",
         "Mauricio",
         "-20.2759451",
         "57.5703566",
         null
        ],
        [
         "18",
         "Nueva Caledonia",
         "Oceanía",
         "Francia",
         "-21.3019905",
         "165.4880773",
         null
        ],
        [
         "19",
         "Omán",
         "Asia",
         "Omán",
         "21.0000287",
         "57.0036901",
         null
        ],
        [
         "20",
         "Polinesia Francesa",
         "Europa",
         "Francia",
         "-17.0243749",
         "-144.6434898",
         null
        ],
        [
         "21",
         "Puerto Rico",
         "América",
         "Estados Unidos de América",
         "18.2247706",
         "-66.4858295",
         null
        ],
        [
         "22",
         "Qatar",
         "Asia",
         "Catar",
         "25.3336984",
         "51.2295295",
         null
        ],
        [
         "23",
         "República Dominicana",
         "América",
         "República Dominicana",
         "19.0974031",
         "-70.3028026",
         null
        ],
        [
         "24",
         "Saint Martin",
         "Europa",
         "Francia",
         "48.3500473",
         "7.2904854",
         null
        ],
        [
         "25",
         "Samoa",
         "Oceanía",
         "Samoa",
         "-13.7693895",
         "-172.12005",
         null
        ],
        [
         "26",
         "Santa Lucía",
         "América",
         "Santa Lucía",
         "13.8250489",
         "-60.975036",
         null
        ],
        [
         "27",
         "Seychelles",
         "África",
         "Seychelles",
         "-4.6574977",
         "55.4540146",
         null
        ],
        [
         "28",
         "Turks and Caicos",
         "América",
         "Islas Turcas y Caicos",
         "21.721746",
         "-71.5527809",
         null
        ],
        [
         "29",
         "Turquía",
         "Asia",
         "Turquía",
         "39.294076",
         "35.2316631",
         null
        ],
        [
         "30",
         "Zanzíbar",
         "África",
         "Tanzania",
         "-6.1664908",
         "39.2074312",
         null
        ],
        [
         "31",
         "Riviera Maya",
         "América",
         "Estados Unidos de América",
         "40.4182456",
         "-86.8343675",
         null
        ],
        [
         "32",
         "Armenia",
         "Asia",
         "Armenia",
         "40.7696272",
         "44.6736646",
         null
        ],
        [
         "33",
         "Arabia Saudí",
         "Asia",
         "Arabia Saudita",
         "24.217621",
         "44.3222148",
         null
        ],
        [
         "34",
         null,
         "Europa",
         "Albania",
         "41.3281482",
         "19.8184435",
         "Tirana"
        ],
        [
         "35",
         null,
         "Europa",
         "Albania",
         "41.313255",
         "19.4462348",
         "Dürres"
        ],
        [
         "36",
         null,
         "Europa",
         "Albania",
         "40.7018636",
         "19.9580758",
         "Berat"
        ],
        [
         "37",
         null,
         "Europa",
         "Albania",
         "41.511251",
         "19.792852",
         "Kruja"
        ],
        [
         "38",
         null,
         "Europa",
         "Albania",
         "42.0681371",
         "19.5121437",
         "Shkodër"
        ],
        [
         "39",
         null,
         "Europa",
         "Austria",
         "47.9185855",
         "13.8003048",
         "Gmunden"
        ],
        [
         "40",
         null,
         "Europa",
         "Austria",
         "48.3059078",
         "14.286198",
         "Linz"
        ],
        [
         "41",
         null,
         "Europa",
         "Austria",
         "47.5621698",
         "13.6486697",
         "Hallstatt"
        ],
        [
         "42",
         null,
         "Europa",
         "Alemania",
         "48.2192116",
         "12.1344678",
         "St Wolfgang"
        ],
        [
         "43",
         null,
         "Europa",
         "Austria",
         "47.5224141",
         "12.4286809",
         "St Johann in Tirol"
        ],
        [
         "44",
         null,
         "Europa",
         "Bélgica",
         "50.8465573",
         "4.351697",
         "Bruselas"
        ],
        [
         "45",
         null,
         "Europa",
         "Bélgica",
         "50.3524116",
         "5.456248",
         "Durbuy"
        ],
        [
         "46",
         null,
         "Europa",
         "Bélgica",
         "50.6450944",
         "5.5736112",
         "Lieja"
        ],
        [
         "47",
         null,
         "Europa",
         "Alemania",
         "50.776351",
         "6.083862",
         "Aquisgrán"
        ],
        [
         "48",
         null,
         "América",
         "Uruguay",
         "-34.4698592",
         "-57.8433679",
         "Colonia"
        ],
        [
         "49",
         null,
         "Europa",
         "Alemania",
         "50.7352621",
         "7.1024635",
         "Bonn"
        ]
       ],
       "shape": {
        "columns": 6,
        "rows": 385
       }
      },
      "text/html": [
       "<div>\n",
       "<style scoped>\n",
       "    .dataframe tbody tr th:only-of-type {\n",
       "        vertical-align: middle;\n",
       "    }\n",
       "\n",
       "    .dataframe tbody tr th {\n",
       "        vertical-align: top;\n",
       "    }\n",
       "\n",
       "    .dataframe thead th {\n",
       "        text-align: right;\n",
       "    }\n",
       "</style>\n",
       "<table border=\"1\" class=\"dataframe\">\n",
       "  <thead>\n",
       "    <tr style=\"text-align: right;\">\n",
       "      <th></th>\n",
       "      <th>pais</th>\n",
       "      <th>continente_api</th>\n",
       "      <th>pais_api</th>\n",
       "      <th>latitud</th>\n",
       "      <th>longitud</th>\n",
       "      <th>ciudad</th>\n",
       "    </tr>\n",
       "  </thead>\n",
       "  <tbody>\n",
       "    <tr>\n",
       "      <th>0</th>\n",
       "      <td>Antigua</td>\n",
       "      <td>América</td>\n",
       "      <td>Antigua y Barbuda</td>\n",
       "      <td>17.103715</td>\n",
       "      <td>-61.79045</td>\n",
       "      <td>None</td>\n",
       "    </tr>\n",
       "    <tr>\n",
       "      <th>1</th>\n",
       "      <td>Aruba</td>\n",
       "      <td>América</td>\n",
       "      <td>Aruba</td>\n",
       "      <td>12.501363</td>\n",
       "      <td>-69.961848</td>\n",
       "      <td>None</td>\n",
       "    </tr>\n",
       "    <tr>\n",
       "      <th>2</th>\n",
       "      <td>Bahamas</td>\n",
       "      <td>América</td>\n",
       "      <td>Bahamas</td>\n",
       "      <td>24.773655</td>\n",
       "      <td>-78.000055</td>\n",
       "      <td>None</td>\n",
       "    </tr>\n",
       "    <tr>\n",
       "      <th>3</th>\n",
       "      <td>Barbados</td>\n",
       "      <td>América</td>\n",
       "      <td>Barbados</td>\n",
       "      <td>13.150033</td>\n",
       "      <td>-59.52503</td>\n",
       "      <td>None</td>\n",
       "    </tr>\n",
       "    <tr>\n",
       "      <th>4</th>\n",
       "      <td>Curaçao</td>\n",
       "      <td>América</td>\n",
       "      <td>Curazao</td>\n",
       "      <td>12.117649</td>\n",
       "      <td>-68.930926</td>\n",
       "      <td>None</td>\n",
       "    </tr>\n",
       "    <tr>\n",
       "      <th>...</th>\n",
       "      <td>...</td>\n",
       "      <td>...</td>\n",
       "      <td>...</td>\n",
       "      <td>...</td>\n",
       "      <td>...</td>\n",
       "      <td>...</td>\n",
       "    </tr>\n",
       "    <tr>\n",
       "      <th>380</th>\n",
       "      <td>NaN</td>\n",
       "      <td>Información desconocida</td>\n",
       "      <td>Información desconocida</td>\n",
       "      <td>Información desconocida</td>\n",
       "      <td>Información desconocida</td>\n",
       "      <td>Yllas</td>\n",
       "    </tr>\n",
       "    <tr>\n",
       "      <th>381</th>\n",
       "      <td>NaN</td>\n",
       "      <td>Europa</td>\n",
       "      <td>Eslovenia</td>\n",
       "      <td>46.67196</td>\n",
       "      <td>15.92369</td>\n",
       "      <td>Parque Nacional De Plitvice</td>\n",
       "    </tr>\n",
       "    <tr>\n",
       "      <th>382</th>\n",
       "      <td>NaN</td>\n",
       "      <td>Europa</td>\n",
       "      <td>Alemania</td>\n",
       "      <td>51.225402</td>\n",
       "      <td>6.776314</td>\n",
       "      <td>Dusseldorf</td>\n",
       "    </tr>\n",
       "    <tr>\n",
       "      <th>383</th>\n",
       "      <td>NaN</td>\n",
       "      <td>Información desconocida</td>\n",
       "      <td>Información desconocida</td>\n",
       "      <td>Información desconocida</td>\n",
       "      <td>Información desconocida</td>\n",
       "      <td>Delta De Okavango</td>\n",
       "    </tr>\n",
       "    <tr>\n",
       "      <th>384</th>\n",
       "      <td>NaN</td>\n",
       "      <td>África</td>\n",
       "      <td>Kenia</td>\n",
       "      <td>0.684929</td>\n",
       "      <td>37.783634</td>\n",
       "      <td>Samburu-shaba</td>\n",
       "    </tr>\n",
       "  </tbody>\n",
       "</table>\n",
       "<p>385 rows × 6 columns</p>\n",
       "</div>"
      ],
      "text/plain": [
       "         pais           continente_api                 pais_api  \\\n",
       "0     Antigua                  América        Antigua y Barbuda   \n",
       "1       Aruba                  América                    Aruba   \n",
       "2     Bahamas                  América                  Bahamas   \n",
       "3    Barbados                  América                 Barbados   \n",
       "4     Curaçao                  América                  Curazao   \n",
       "..        ...                      ...                      ...   \n",
       "380       NaN  Información desconocida  Información desconocida   \n",
       "381       NaN                   Europa                Eslovenia   \n",
       "382       NaN                   Europa                 Alemania   \n",
       "383       NaN  Información desconocida  Información desconocida   \n",
       "384       NaN                   África                    Kenia   \n",
       "\n",
       "                     latitud                 longitud  \\\n",
       "0                  17.103715                -61.79045   \n",
       "1                  12.501363               -69.961848   \n",
       "2                  24.773655               -78.000055   \n",
       "3                  13.150033                -59.52503   \n",
       "4                  12.117649               -68.930926   \n",
       "..                       ...                      ...   \n",
       "380  Información desconocida  Información desconocida   \n",
       "381                 46.67196                 15.92369   \n",
       "382                51.225402                 6.776314   \n",
       "383  Información desconocida  Información desconocida   \n",
       "384                 0.684929                37.783634   \n",
       "\n",
       "                          ciudad  \n",
       "0                           None  \n",
       "1                           None  \n",
       "2                           None  \n",
       "3                           None  \n",
       "4                           None  \n",
       "..                           ...  \n",
       "380                        Yllas  \n",
       "381  Parque Nacional De Plitvice  \n",
       "382                   Dusseldorf  \n",
       "383            Delta De Okavango  \n",
       "384                Samburu-shaba  \n",
       "\n",
       "[385 rows x 6 columns]"
      ]
     },
     "execution_count": 25,
     "metadata": {},
     "output_type": "execute_result"
    }
   ],
   "source": [
    "df_opencage"
   ]
  },
  {
   "cell_type": "code",
   "execution_count": 26,
   "id": "5bc16b8f",
   "metadata": {},
   "outputs": [
    {
     "name": "stdout",
     "output_type": "stream",
     "text": [
      "Canada ERROR\n",
      "Curacao ERROR\n",
      "Emiratos Arabes Unidos ERROR\n",
      "Espana ERROR\n",
      "Hungria ERROR\n",
      "Islas Caiman ERROR\n",
      "Japon ERROR\n",
      "Mexico ERROR\n",
      "Paises Bajos ERROR\n",
      "Panama ERROR\n",
      "Papua Nueva Guinea ERROR\n",
      "Peru ERROR\n",
      "Republica Checa ERROR\n",
      "Republica Dominicana ERROR\n",
      "Reunion ERROR\n",
      "Rumania ERROR\n",
      "Santa Lucia ERROR\n",
      "Sudafrica ERROR\n",
      "Tunez ERROR\n",
      "Turks And Caicos ERROR\n",
      "Turquia ERROR\n",
      "Uzbekistan ERROR\n",
      "Arabia Saudi ERROR\n",
      "Taiwan ERROR\n",
      "Belgica ERROR\n",
      "Informacion Desconocida ERROR\n",
      "Butan ERROR\n",
      "Oman ERROR\n",
      "Macedonia Del Norte ERROR\n",
      "Bosnia Y Herzegovina ERROR\n",
      "Azerbaiyan ERROR\n"
     ]
    },
    {
     "data": {
      "application/vnd.microsoft.datawrangler.viewer.v0+json": {
       "columns": [
        {
         "name": "index",
         "rawType": "int64",
         "type": "integer"
        },
        {
         "name": "pais",
         "rawType": "object",
         "type": "string"
        },
        {
         "name": "continente",
         "rawType": "object",
         "type": "string"
        }
       ],
       "conversionMethod": "pd.DataFrame",
       "ref": "0a8fbcf3-3a4f-4b67-aca9-9e128dab0d9a",
       "rows": [
        [
         "0",
         "Chequia",
         "Europa"
        ]
       ],
       "shape": {
        "columns": 2,
        "rows": 1
       }
      },
      "text/html": [
       "<div>\n",
       "<style scoped>\n",
       "    .dataframe tbody tr th:only-of-type {\n",
       "        vertical-align: middle;\n",
       "    }\n",
       "\n",
       "    .dataframe tbody tr th {\n",
       "        vertical-align: top;\n",
       "    }\n",
       "\n",
       "    .dataframe thead th {\n",
       "        text-align: right;\n",
       "    }\n",
       "</style>\n",
       "<table border=\"1\" class=\"dataframe\">\n",
       "  <thead>\n",
       "    <tr style=\"text-align: right;\">\n",
       "      <th></th>\n",
       "      <th>pais</th>\n",
       "      <th>continente</th>\n",
       "    </tr>\n",
       "  </thead>\n",
       "  <tbody>\n",
       "    <tr>\n",
       "      <th>0</th>\n",
       "      <td>Chequia</td>\n",
       "      <td>Europa</td>\n",
       "    </tr>\n",
       "  </tbody>\n",
       "</table>\n",
       "</div>"
      ],
      "text/plain": [
       "      pais continente\n",
       "0  Chequia     Europa"
      ]
     },
     "execution_count": 26,
     "metadata": {},
     "output_type": "execute_result"
    }
   ],
   "source": [
    "dict_paises_continentes_ciudades = {'pais':[], 'continente':[]}\n",
    "for pais in df_itinerarios_ciudades_pais_continentes.pais:\n",
    "    if pais in df_paises_continentes_escrapeo.nombre_pais_destino.tolist():\n",
    "        pass\n",
    "    else:\n",
    "        if pais in df_paises_continentes_turismos_emisor.nombre_pais_destino.tolist():\n",
    "           pass\n",
    "        else:\n",
    "           if pais in df_opencage.pais_api.tolist():\n",
    "            #print(f'{pais} ya está en continentes opencage')\n",
    "            dict_paises_continentes_ciudades['pais'].append(pais)\n",
    "            continente = (df_opencage[df_opencage.pais_api == pais]).continente_api.unique()[0]\n",
    "            dict_paises_continentes_ciudades['continente'].append(continente)\n",
    "           else:\n",
    "                print(f'{pais} ERROR')\n",
    "df_paises_continentes_ciudades = pd.DataFrame(dict_paises_continentes_ciudades)\n",
    "df_paises_continentes_ciudades"
   ]
  },
  {
   "cell_type": "code",
   "execution_count": 23,
   "id": "10fd45b2",
   "metadata": {},
   "outputs": [],
   "source": [
    "df_paises_continentes_ciudades= df_paises_continentes_ciudades.rename(\n",
    "    columns={'pais':'nombre_pais_destino', 'continente':'nombre_continente'})"
   ]
  },
  {
   "cell_type": "code",
   "execution_count": 24,
   "id": "4dfdb812",
   "metadata": {},
   "outputs": [
    {
     "data": {
      "application/vnd.microsoft.datawrangler.viewer.v0+json": {
       "columns": [
        {
         "name": "index",
         "rawType": "int64",
         "type": "integer"
        },
        {
         "name": "nombre_pais_destino",
         "rawType": "object",
         "type": "string"
        },
        {
         "name": "nombre_continente",
         "rawType": "object",
         "type": "string"
        }
       ],
       "conversionMethod": "pd.DataFrame",
       "ref": "ff2263b8-596f-4a8e-a1be-0db816cb4929",
       "rows": [
        [
         "0",
         "Chequia",
         "Europa"
        ]
       ],
       "shape": {
        "columns": 2,
        "rows": 1
       }
      },
      "text/html": [
       "<div>\n",
       "<style scoped>\n",
       "    .dataframe tbody tr th:only-of-type {\n",
       "        vertical-align: middle;\n",
       "    }\n",
       "\n",
       "    .dataframe tbody tr th {\n",
       "        vertical-align: top;\n",
       "    }\n",
       "\n",
       "    .dataframe thead th {\n",
       "        text-align: right;\n",
       "    }\n",
       "</style>\n",
       "<table border=\"1\" class=\"dataframe\">\n",
       "  <thead>\n",
       "    <tr style=\"text-align: right;\">\n",
       "      <th></th>\n",
       "      <th>nombre_pais_destino</th>\n",
       "      <th>nombre_continente</th>\n",
       "    </tr>\n",
       "  </thead>\n",
       "  <tbody>\n",
       "    <tr>\n",
       "      <th>0</th>\n",
       "      <td>Chequia</td>\n",
       "      <td>Europa</td>\n",
       "    </tr>\n",
       "  </tbody>\n",
       "</table>\n",
       "</div>"
      ],
      "text/plain": [
       "  nombre_pais_destino nombre_continente\n",
       "0             Chequia            Europa"
      ]
     },
     "execution_count": 24,
     "metadata": {},
     "output_type": "execute_result"
    }
   ],
   "source": [
    "df_paises_continentes_ciudades"
   ]
  },
  {
   "cell_type": "markdown",
   "id": "affb9937",
   "metadata": {},
   "source": [
    "#### d) Uno los 3 DF para conseguir una única tabla con todos los paises y continentes"
   ]
  },
  {
   "cell_type": "code",
   "execution_count": 25,
   "id": "04d62bc9",
   "metadata": {},
   "outputs": [
    {
     "data": {
      "application/vnd.microsoft.datawrangler.viewer.v0+json": {
       "columns": [
        {
         "name": "index",
         "rawType": "int64",
         "type": "integer"
        },
        {
         "name": "nombre_pais_destino",
         "rawType": "object",
         "type": "string"
        },
        {
         "name": "nombre_continente",
         "rawType": "object",
         "type": "string"
        }
       ],
       "conversionMethod": "pd.DataFrame",
       "ref": "cda89bca-ddd9-49b0-b298-0f9fb96b9325",
       "rows": [
        [
         "0",
         "Albania",
         "Europa"
        ],
        [
         "1",
         "Alemania",
         "Europa"
        ],
        [
         "2",
         "Andorra",
         "Europa"
        ],
        [
         "3",
         "Angola",
         "Africa"
        ],
        [
         "4",
         "Antigua",
         "America"
        ],
        [
         "5",
         "Arabia Saudi",
         "Asia"
        ],
        [
         "6",
         "Argelia",
         "Africa"
        ],
        [
         "7",
         "Argentina",
         "America"
        ],
        [
         "8",
         "Armenia",
         "Europa"
        ],
        [
         "9",
         "Australia",
         "Oceania"
        ],
        [
         "10",
         "Austria",
         "Europa"
        ],
        [
         "11",
         "Azerbaiyan",
         "Asia"
        ],
        [
         "12",
         "Bahamas",
         "America"
        ],
        [
         "13",
         "Bahrein",
         "Asia"
        ],
        [
         "14",
         "Bangladesh",
         "Asia"
        ],
        [
         "15",
         "Barbados",
         "America"
        ],
        [
         "16",
         "Belarus",
         "Europa"
        ],
        [
         "17",
         "Belgica",
         "Europa"
        ],
        [
         "18",
         "Belice",
         "America"
        ],
        [
         "19",
         "Benin",
         "Africa"
        ],
        [
         "20",
         "Bolivia",
         "America"
        ],
        [
         "21",
         "Bosnia Y Herzegovina",
         "Europa"
        ],
        [
         "22",
         "Botswana",
         "Africa"
        ],
        [
         "23",
         "Brasil",
         "America"
        ],
        [
         "24",
         "Bulgaria",
         "Europa"
        ],
        [
         "25",
         "Burkina Faso",
         "Africa"
        ],
        [
         "26",
         "Butan",
         "Asia"
        ],
        [
         "27",
         "Cabo Verde",
         "Africa"
        ],
        [
         "28",
         "Camboya",
         "Asia"
        ],
        [
         "29",
         "Camerun",
         "Africa"
        ],
        [
         "30",
         "Canada",
         "America"
        ],
        [
         "31",
         "Chad",
         "Africa"
        ],
        [
         "32",
         "Chile",
         "America"
        ],
        [
         "33",
         "China",
         "Asia"
        ],
        [
         "34",
         "Chipre",
         "Europa"
        ],
        [
         "35",
         "Colombia",
         "America"
        ],
        [
         "36",
         "Corea Del Sur",
         "Asia"
        ],
        [
         "37",
         "Costa De Marfil",
         "Africa"
        ],
        [
         "38",
         "Costa Rica",
         "America"
        ],
        [
         "39",
         "Croacia",
         "Europa"
        ],
        [
         "40",
         "Cuba",
         "America"
        ],
        [
         "41",
         "Dinamarca",
         "Europa"
        ],
        [
         "42",
         "Djibouti",
         "Africa"
        ],
        [
         "43",
         "Ecuador",
         "America"
        ],
        [
         "44",
         "Egipto",
         "Africa"
        ],
        [
         "45",
         "El Salvador",
         "America"
        ],
        [
         "46",
         "Emiratos Arabes Unidos",
         "Asia"
        ],
        [
         "47",
         "Eslovenia",
         "Europa"
        ],
        [
         "48",
         "Estados Unidos",
         "America"
        ],
        [
         "49",
         "Estonia",
         "Europa"
        ]
       ],
       "shape": {
        "columns": 2,
        "rows": 188
       }
      },
      "text/html": [
       "<div>\n",
       "<style scoped>\n",
       "    .dataframe tbody tr th:only-of-type {\n",
       "        vertical-align: middle;\n",
       "    }\n",
       "\n",
       "    .dataframe tbody tr th {\n",
       "        vertical-align: top;\n",
       "    }\n",
       "\n",
       "    .dataframe thead th {\n",
       "        text-align: right;\n",
       "    }\n",
       "</style>\n",
       "<table border=\"1\" class=\"dataframe\">\n",
       "  <thead>\n",
       "    <tr style=\"text-align: right;\">\n",
       "      <th></th>\n",
       "      <th>nombre_pais_destino</th>\n",
       "      <th>nombre_continente</th>\n",
       "    </tr>\n",
       "  </thead>\n",
       "  <tbody>\n",
       "    <tr>\n",
       "      <th>0</th>\n",
       "      <td>Albania</td>\n",
       "      <td>Europa</td>\n",
       "    </tr>\n",
       "    <tr>\n",
       "      <th>1</th>\n",
       "      <td>Alemania</td>\n",
       "      <td>Europa</td>\n",
       "    </tr>\n",
       "    <tr>\n",
       "      <th>2</th>\n",
       "      <td>Andorra</td>\n",
       "      <td>Europa</td>\n",
       "    </tr>\n",
       "    <tr>\n",
       "      <th>3</th>\n",
       "      <td>Angola</td>\n",
       "      <td>Africa</td>\n",
       "    </tr>\n",
       "    <tr>\n",
       "      <th>4</th>\n",
       "      <td>Antigua</td>\n",
       "      <td>America</td>\n",
       "    </tr>\n",
       "    <tr>\n",
       "      <th>...</th>\n",
       "      <td>...</td>\n",
       "      <td>...</td>\n",
       "    </tr>\n",
       "    <tr>\n",
       "      <th>183</th>\n",
       "      <td>Taiwan</td>\n",
       "      <td>Asia</td>\n",
       "    </tr>\n",
       "    <tr>\n",
       "      <th>184</th>\n",
       "      <td>Turks And Caicos</td>\n",
       "      <td>America</td>\n",
       "    </tr>\n",
       "    <tr>\n",
       "      <th>185</th>\n",
       "      <td>Turquia</td>\n",
       "      <td>Asia</td>\n",
       "    </tr>\n",
       "    <tr>\n",
       "      <th>186</th>\n",
       "      <td>Zanzibar</td>\n",
       "      <td>Africa</td>\n",
       "    </tr>\n",
       "    <tr>\n",
       "      <th>187</th>\n",
       "      <td>Chequia</td>\n",
       "      <td>Europa</td>\n",
       "    </tr>\n",
       "  </tbody>\n",
       "</table>\n",
       "<p>188 rows × 2 columns</p>\n",
       "</div>"
      ],
      "text/plain": [
       "    nombre_pais_destino nombre_continente\n",
       "0               Albania            Europa\n",
       "1              Alemania            Europa\n",
       "2               Andorra            Europa\n",
       "3                Angola            Africa\n",
       "4               Antigua           America\n",
       "..                  ...               ...\n",
       "183              Taiwan              Asia\n",
       "184    Turks And Caicos           America\n",
       "185             Turquia              Asia\n",
       "186            Zanzibar            Africa\n",
       "187             Chequia            Europa\n",
       "\n",
       "[188 rows x 2 columns]"
      ]
     },
     "execution_count": 25,
     "metadata": {},
     "output_type": "execute_result"
    }
   ],
   "source": [
    "df_paises_continentes_totales=pd.concat(\n",
    "    [df_paises_continentes_turismos_emisor,df_paises_continentes_escrapeo, df_paises_continentes_ciudades], axis=0)\n",
    "df_paises_continentes_totales = df_paises_continentes_totales.drop_duplicates(['nombre_pais_destino', 'nombre_continente']).reset_index(drop=True)\n",
    "df_paises_continentes_totales\n",
    "\n"
   ]
  },
  {
   "cell_type": "code",
   "execution_count": 26,
   "id": "de72f4e2",
   "metadata": {},
   "outputs": [
    {
     "data": {
      "application/vnd.microsoft.datawrangler.viewer.v0+json": {
       "columns": [
        {
         "name": "index",
         "rawType": "int64",
         "type": "integer"
        },
        {
         "name": "nombre_pais_destino",
         "rawType": "object",
         "type": "string"
        },
        {
         "name": "count",
         "rawType": "int64",
         "type": "integer"
        }
       ],
       "conversionMethod": "pd.DataFrame",
       "ref": "c482977b-a2c0-4da2-850d-599af72f654f",
       "rows": [
        [
         "0",
         "Armenia",
         "2"
        ],
        [
         "1",
         "Turquia",
         "2"
        ],
        [
         "2",
         "Georgia",
         "2"
        ]
       ],
       "shape": {
        "columns": 2,
        "rows": 3
       }
      },
      "text/html": [
       "<div>\n",
       "<style scoped>\n",
       "    .dataframe tbody tr th:only-of-type {\n",
       "        vertical-align: middle;\n",
       "    }\n",
       "\n",
       "    .dataframe tbody tr th {\n",
       "        vertical-align: top;\n",
       "    }\n",
       "\n",
       "    .dataframe thead th {\n",
       "        text-align: right;\n",
       "    }\n",
       "</style>\n",
       "<table border=\"1\" class=\"dataframe\">\n",
       "  <thead>\n",
       "    <tr style=\"text-align: right;\">\n",
       "      <th></th>\n",
       "      <th>nombre_pais_destino</th>\n",
       "      <th>count</th>\n",
       "    </tr>\n",
       "  </thead>\n",
       "  <tbody>\n",
       "    <tr>\n",
       "      <th>0</th>\n",
       "      <td>Armenia</td>\n",
       "      <td>2</td>\n",
       "    </tr>\n",
       "    <tr>\n",
       "      <th>1</th>\n",
       "      <td>Turquia</td>\n",
       "      <td>2</td>\n",
       "    </tr>\n",
       "    <tr>\n",
       "      <th>2</th>\n",
       "      <td>Georgia</td>\n",
       "      <td>2</td>\n",
       "    </tr>\n",
       "  </tbody>\n",
       "</table>\n",
       "</div>"
      ],
      "text/plain": [
       "  nombre_pais_destino  count\n",
       "0             Armenia      2\n",
       "1             Turquia      2\n",
       "2             Georgia      2"
      ]
     },
     "execution_count": 26,
     "metadata": {},
     "output_type": "execute_result"
    }
   ],
   "source": [
    "#reviso los paises que aparecen asociados a más de un continente:\n",
    "df_contador_paises_duplicados = pd.DataFrame(df_paises_continentes_totales.nombre_pais_destino.value_counts()).reset_index()\n",
    "df_contador_paises_duplicados =df_contador_paises_duplicados[df_contador_paises_duplicados['count']>1]\n",
    "df_contador_paises_duplicados"
   ]
  },
  {
   "cell_type": "code",
   "execution_count": 27,
   "id": "4e375578",
   "metadata": {},
   "outputs": [
    {
     "data": {
      "text/plain": [
       "['Armenia', 'Turquia', 'Georgia']"
      ]
     },
     "execution_count": 27,
     "metadata": {},
     "output_type": "execute_result"
    }
   ],
   "source": [
    "lista_paises_duplicados = df_contador_paises_duplicados.nombre_pais_destino.tolist()\n",
    "lista_paises_duplicados"
   ]
  },
  {
   "cell_type": "code",
   "execution_count": 28,
   "id": "cda25910",
   "metadata": {},
   "outputs": [],
   "source": [
    "#Elimino los indices incorrectos:\n",
    "lista_indices_eliminar = []\n",
    "for indice,pais in enumerate(df_paises_continentes_totales.nombre_pais_destino):\n",
    "    if pais in lista_paises_duplicados:\n",
    "        df_paises_continentes_totales.loc[indice, \"nombre_continente\"]  = 'Asia'\n",
    "\n",
    "df_paises_continentes_totales = df_paises_continentes_totales.drop_duplicates()"
   ]
  },
  {
   "cell_type": "code",
   "execution_count": 29,
   "id": "eefdb938",
   "metadata": {},
   "outputs": [
    {
     "data": {
      "text/plain": [
       "nombre_pais_destino\n",
       "Albania             1\n",
       "Alemania            1\n",
       "Andorra             1\n",
       "Angola              1\n",
       "Antigua             1\n",
       "                   ..\n",
       "Santa Lucia         1\n",
       "Taiwan              1\n",
       "Turks And Caicos    1\n",
       "Zanzibar            1\n",
       "Chequia             1\n",
       "Name: count, Length: 185, dtype: int64"
      ]
     },
     "execution_count": 29,
     "metadata": {},
     "output_type": "execute_result"
    }
   ],
   "source": [
    "df_paises_continentes_totales.nombre_pais_destino.value_counts()"
   ]
  },
  {
   "cell_type": "markdown",
   "id": "b2f680b7",
   "metadata": {},
   "source": [
    "## 1.2 Carga en BBDD"
   ]
  },
  {
   "cell_type": "markdown",
   "id": "ca089fc3",
   "metadata": {},
   "source": [
    "La tabla pais_destino tiene que tener los siguientes campos:\n",
    "- id_pais_destino SERIAL PRIMARY KEY,\n",
    "- nombre_pais_destino TEXT UNIQUE,\n",
    "- nombre_continente TEXT"
   ]
  },
  {
   "cell_type": "code",
   "execution_count": 30,
   "id": "581e339b",
   "metadata": {},
   "outputs": [],
   "source": [
    "#Extraigo la información de la BBDD\n",
    "query_extraccion = \"SELECT nombre_pais_destino, id_pais_destino FROM pais_destino\"\n",
    "pais_destino_dict=lo.extraer_datos_de_BBDD(query_extraccion)"
   ]
  },
  {
   "cell_type": "code",
   "execution_count": 31,
   "id": "ed82d990",
   "metadata": {},
   "outputs": [],
   "source": [
    "#Creo los datos para insertarlos en la BBDD:\n",
    "data_to_insert=[]\n",
    "for _,row in df_paises_continentes_totales.iterrows():\n",
    "    nombre_pais_destino = row[\"nombre_pais_destino\"]\n",
    "    if nombre_pais_destino in  pais_destino_dict.keys():\n",
    "        pass\n",
    "    else: \n",
    "        nombre_continente = row[\"nombre_continente\"]\n",
    "        data_to_insert.append([nombre_pais_destino, nombre_continente])"
   ]
  },
  {
   "cell_type": "code",
   "execution_count": 32,
   "id": "309b227b",
   "metadata": {},
   "outputs": [
    {
     "name": "stdout",
     "output_type": "stream",
     "text": [
      "Se han añadido 0 paises en la tabla pais_destino\n"
     ]
    }
   ],
   "source": [
    "#Subo la información a la BBDD:\n",
    "insert_query = \"\"\"\n",
    "INSERT INTO pais_destino(nombre_pais_destino, nombre_continente)\n",
    "VALUES (%s, %s)\n",
    "\"\"\"\n",
    "lo.insertar_datos_en_BBDD(insert_query, data_to_insert)\n",
    "\n",
    "print(f'Se han añadido {len(data_to_insert)} paises en la tabla pais_destino')"
   ]
  },
  {
   "cell_type": "code",
   "execution_count": null,
   "id": "ed114a88",
   "metadata": {},
   "outputs": [],
   "source": [
    "#conn.rollback()"
   ]
  },
  {
   "cell_type": "markdown",
   "id": "5dbbd21f",
   "metadata": {},
   "source": [
    "## 2. Tabla itinerario"
   ]
  },
  {
   "cell_type": "markdown",
   "id": "ae10ad20",
   "metadata": {},
   "source": [
    "### 2.1 Extraigo la información del df_itinerario_ciudades y me quedo con los itinerarios sin duplicados:"
   ]
  },
  {
   "cell_type": "code",
   "execution_count": 33,
   "id": "c62b4143",
   "metadata": {},
   "outputs": [
    {
     "data": {
      "application/vnd.microsoft.datawrangler.viewer.v0+json": {
       "columns": [
        {
         "name": "index",
         "rawType": "int64",
         "type": "integer"
        },
        {
         "name": "itinerario_modificado_para_dividir",
         "rawType": "object",
         "type": "string"
        },
        {
         "name": "ciudad",
         "rawType": "object",
         "type": "string"
        },
        {
         "name": "pais_correcto",
         "rawType": "object",
         "type": "string"
        }
       ],
       "conversionMethod": "pd.DataFrame",
       "ref": "46014318-44e2-4406-be05-8f6418112890",
       "rows": [
        [
         "0",
         "Berlin",
         "Berlin",
         "Alemania"
        ],
        [
         "1",
         "Hamburgo, Stade, Bremen, Luneburg, Schwerin, Wismar , Lubeck",
         "Hamburgo",
         "Alemania"
        ],
        [
         "1",
         "Hamburgo, Stade, Bremen, Luneburg, Schwerin, Wismar , Lubeck",
         "Stade",
         "Alemania"
        ],
        [
         "1",
         "Hamburgo, Stade, Bremen, Luneburg, Schwerin, Wismar , Lubeck",
         "Bremen",
         "Alemania"
        ],
        [
         "1",
         "Hamburgo, Stade, Bremen, Luneburg, Schwerin, Wismar , Lubeck",
         "Luneburg",
         "Alemania"
        ]
       ],
       "shape": {
        "columns": 3,
        "rows": 5
       }
      },
      "text/html": [
       "<div>\n",
       "<style scoped>\n",
       "    .dataframe tbody tr th:only-of-type {\n",
       "        vertical-align: middle;\n",
       "    }\n",
       "\n",
       "    .dataframe tbody tr th {\n",
       "        vertical-align: top;\n",
       "    }\n",
       "\n",
       "    .dataframe thead th {\n",
       "        text-align: right;\n",
       "    }\n",
       "</style>\n",
       "<table border=\"1\" class=\"dataframe\">\n",
       "  <thead>\n",
       "    <tr style=\"text-align: right;\">\n",
       "      <th></th>\n",
       "      <th>itinerario_modificado_para_dividir</th>\n",
       "      <th>ciudad</th>\n",
       "      <th>pais_correcto</th>\n",
       "    </tr>\n",
       "  </thead>\n",
       "  <tbody>\n",
       "    <tr>\n",
       "      <th>0</th>\n",
       "      <td>Berlin</td>\n",
       "      <td>Berlin</td>\n",
       "      <td>Alemania</td>\n",
       "    </tr>\n",
       "    <tr>\n",
       "      <th>1</th>\n",
       "      <td>Hamburgo, Stade, Bremen, Luneburg, Schwerin, W...</td>\n",
       "      <td>Hamburgo</td>\n",
       "      <td>Alemania</td>\n",
       "    </tr>\n",
       "    <tr>\n",
       "      <th>1</th>\n",
       "      <td>Hamburgo, Stade, Bremen, Luneburg, Schwerin, W...</td>\n",
       "      <td>Stade</td>\n",
       "      <td>Alemania</td>\n",
       "    </tr>\n",
       "    <tr>\n",
       "      <th>1</th>\n",
       "      <td>Hamburgo, Stade, Bremen, Luneburg, Schwerin, W...</td>\n",
       "      <td>Bremen</td>\n",
       "      <td>Alemania</td>\n",
       "    </tr>\n",
       "    <tr>\n",
       "      <th>1</th>\n",
       "      <td>Hamburgo, Stade, Bremen, Luneburg, Schwerin, W...</td>\n",
       "      <td>Luneburg</td>\n",
       "      <td>Alemania</td>\n",
       "    </tr>\n",
       "  </tbody>\n",
       "</table>\n",
       "</div>"
      ],
      "text/plain": [
       "                  itinerario_modificado_para_dividir    ciudad pais_correcto\n",
       "0                                             Berlin    Berlin      Alemania\n",
       "1  Hamburgo, Stade, Bremen, Luneburg, Schwerin, W...  Hamburgo      Alemania\n",
       "1  Hamburgo, Stade, Bremen, Luneburg, Schwerin, W...     Stade      Alemania\n",
       "1  Hamburgo, Stade, Bremen, Luneburg, Schwerin, W...    Bremen      Alemania\n",
       "1  Hamburgo, Stade, Bremen, Luneburg, Schwerin, W...  Luneburg      Alemania"
      ]
     },
     "execution_count": 33,
     "metadata": {},
     "output_type": "execute_result"
    }
   ],
   "source": [
    "df_itinerarios_ciudades = pd.read_pickle(ARCHIVO_GUARDAR_ITINERARIOS_PROCESADOS)\n",
    "df_itinerarios_ciudades.head()"
   ]
  },
  {
   "cell_type": "code",
   "execution_count": 34,
   "id": "6c304424",
   "metadata": {},
   "outputs": [
    {
     "data": {
      "text/plain": [
       "1131"
      ]
     },
     "execution_count": 34,
     "metadata": {},
     "output_type": "execute_result"
    }
   ],
   "source": [
    "lista_itinerarios_unicos = df_itinerarios_ciudades.itinerario_modificado_para_dividir.sort_values().unique()\n",
    "len(lista_itinerarios_unicos)"
   ]
  },
  {
   "cell_type": "markdown",
   "id": "328fa0cd",
   "metadata": {},
   "source": [
    "### 2.2 Hago la carga en la BBDD:"
   ]
  },
  {
   "cell_type": "markdown",
   "id": "a84fc9c6",
   "metadata": {},
   "source": [
    "La tabla itinerario tiene que tener los siguientes campos:\n",
    "- id_itinerario SERIAL PRIMARY KEY\n",
    "- detalle_itinerario TEXT UNIQUE"
   ]
  },
  {
   "cell_type": "code",
   "execution_count": 35,
   "id": "59cb3b41",
   "metadata": {},
   "outputs": [],
   "source": [
    "#Extraigo la información de la BBDD\n",
    "query_extraccion = \"SELECT detalle_itinerario, id_itinerario FROM itinerario\"\n",
    "itinerario_dict=lo.extraer_datos_de_BBDD(query_extraccion)"
   ]
  },
  {
   "cell_type": "code",
   "execution_count": 36,
   "id": "ff1ccc51",
   "metadata": {},
   "outputs": [],
   "source": [
    "#Creo los datos para insertarlos en la BBDD:\n",
    "data_to_insert=[]\n",
    "for itinerario in lista_itinerarios_unicos:\n",
    "    if itinerario in itinerario_dict.keys():\n",
    "        pass\n",
    "    else: \n",
    "        data_to_insert.append((itinerario,))  "
   ]
  },
  {
   "cell_type": "code",
   "execution_count": 37,
   "id": "3a443a23",
   "metadata": {},
   "outputs": [
    {
     "name": "stdout",
     "output_type": "stream",
     "text": [
      "Se han añadido 0 itinerarios nuevos en la tabla pais_destino\n"
     ]
    }
   ],
   "source": [
    "#Subo la información a la BBDD:\n",
    "insert_query = \"\"\"\n",
    "INSERT INTO itinerario(detalle_itinerario)\n",
    "VALUES (%s)\n",
    "\"\"\"\n",
    "lo.insertar_datos_en_BBDD(insert_query, data_to_insert)\n",
    "\n",
    "print(f'Se han añadido {len(data_to_insert)} itinerarios nuevos en la tabla pais_destino')"
   ]
  },
  {
   "cell_type": "markdown",
   "id": "79d73d03",
   "metadata": {},
   "source": [
    "## 3. Tabla ciudad"
   ]
  },
  {
   "cell_type": "markdown",
   "id": "14438635",
   "metadata": {},
   "source": [
    "### 3.1 Extraigo la información del df_itinerario_ciudades y me quedo con las ciudades sin duplicados:"
   ]
  },
  {
   "cell_type": "code",
   "execution_count": 38,
   "id": "9a98df4f",
   "metadata": {},
   "outputs": [
    {
     "data": {
      "application/vnd.microsoft.datawrangler.viewer.v0+json": {
       "columns": [
        {
         "name": "index",
         "rawType": "int64",
         "type": "integer"
        },
        {
         "name": "itinerario_modificado_para_dividir",
         "rawType": "object",
         "type": "string"
        },
        {
         "name": "ciudad",
         "rawType": "object",
         "type": "string"
        },
        {
         "name": "pais_correcto",
         "rawType": "object",
         "type": "string"
        }
       ],
       "conversionMethod": "pd.DataFrame",
       "ref": "4568f07c-9138-4c60-adb6-7d5e5f09a05e",
       "rows": [
        [
         "0",
         "Berlin",
         "Berlin",
         "Alemania"
        ],
        [
         "1",
         "Hamburgo, Stade, Bremen, Luneburg, Schwerin, Wismar , Lubeck",
         "Hamburgo",
         "Alemania"
        ],
        [
         "1",
         "Hamburgo, Stade, Bremen, Luneburg, Schwerin, Wismar , Lubeck",
         "Stade",
         "Alemania"
        ],
        [
         "1",
         "Hamburgo, Stade, Bremen, Luneburg, Schwerin, Wismar , Lubeck",
         "Bremen",
         "Alemania"
        ],
        [
         "1",
         "Hamburgo, Stade, Bremen, Luneburg, Schwerin, Wismar , Lubeck",
         "Luneburg",
         "Alemania"
        ]
       ],
       "shape": {
        "columns": 3,
        "rows": 5
       }
      },
      "text/html": [
       "<div>\n",
       "<style scoped>\n",
       "    .dataframe tbody tr th:only-of-type {\n",
       "        vertical-align: middle;\n",
       "    }\n",
       "\n",
       "    .dataframe tbody tr th {\n",
       "        vertical-align: top;\n",
       "    }\n",
       "\n",
       "    .dataframe thead th {\n",
       "        text-align: right;\n",
       "    }\n",
       "</style>\n",
       "<table border=\"1\" class=\"dataframe\">\n",
       "  <thead>\n",
       "    <tr style=\"text-align: right;\">\n",
       "      <th></th>\n",
       "      <th>itinerario_modificado_para_dividir</th>\n",
       "      <th>ciudad</th>\n",
       "      <th>pais_correcto</th>\n",
       "    </tr>\n",
       "  </thead>\n",
       "  <tbody>\n",
       "    <tr>\n",
       "      <th>0</th>\n",
       "      <td>Berlin</td>\n",
       "      <td>Berlin</td>\n",
       "      <td>Alemania</td>\n",
       "    </tr>\n",
       "    <tr>\n",
       "      <th>1</th>\n",
       "      <td>Hamburgo, Stade, Bremen, Luneburg, Schwerin, W...</td>\n",
       "      <td>Hamburgo</td>\n",
       "      <td>Alemania</td>\n",
       "    </tr>\n",
       "    <tr>\n",
       "      <th>1</th>\n",
       "      <td>Hamburgo, Stade, Bremen, Luneburg, Schwerin, W...</td>\n",
       "      <td>Stade</td>\n",
       "      <td>Alemania</td>\n",
       "    </tr>\n",
       "    <tr>\n",
       "      <th>1</th>\n",
       "      <td>Hamburgo, Stade, Bremen, Luneburg, Schwerin, W...</td>\n",
       "      <td>Bremen</td>\n",
       "      <td>Alemania</td>\n",
       "    </tr>\n",
       "    <tr>\n",
       "      <th>1</th>\n",
       "      <td>Hamburgo, Stade, Bremen, Luneburg, Schwerin, W...</td>\n",
       "      <td>Luneburg</td>\n",
       "      <td>Alemania</td>\n",
       "    </tr>\n",
       "  </tbody>\n",
       "</table>\n",
       "</div>"
      ],
      "text/plain": [
       "                  itinerario_modificado_para_dividir    ciudad pais_correcto\n",
       "0                                             Berlin    Berlin      Alemania\n",
       "1  Hamburgo, Stade, Bremen, Luneburg, Schwerin, W...  Hamburgo      Alemania\n",
       "1  Hamburgo, Stade, Bremen, Luneburg, Schwerin, W...     Stade      Alemania\n",
       "1  Hamburgo, Stade, Bremen, Luneburg, Schwerin, W...    Bremen      Alemania\n",
       "1  Hamburgo, Stade, Bremen, Luneburg, Schwerin, W...  Luneburg      Alemania"
      ]
     },
     "execution_count": 38,
     "metadata": {},
     "output_type": "execute_result"
    }
   ],
   "source": [
    "df_itinerarios_ciudades = pd.read_pickle(ARCHIVO_GUARDAR_ITINERARIOS_PROCESADOS)\n",
    "df_itinerarios_ciudades.head()"
   ]
  },
  {
   "cell_type": "code",
   "execution_count": 39,
   "id": "f9dabd24",
   "metadata": {},
   "outputs": [
    {
     "name": "stdout",
     "output_type": "stream",
     "text": [
      "<class 'pandas.core.frame.DataFrame'>\n",
      "Index: 9282 entries, 0 to 3346\n",
      "Data columns (total 3 columns):\n",
      " #   Column                              Non-Null Count  Dtype \n",
      "---  ------                              --------------  ----- \n",
      " 0   itinerario_modificado_para_dividir  9282 non-null   object\n",
      " 1   ciudad                              9282 non-null   object\n",
      " 2   pais_correcto                       9282 non-null   object\n",
      "dtypes: object(3)\n",
      "memory usage: 290.1+ KB\n"
     ]
    }
   ],
   "source": [
    "df_itinerarios_ciudades.info()"
   ]
  },
  {
   "cell_type": "code",
   "execution_count": 40,
   "id": "b9ee7a09",
   "metadata": {},
   "outputs": [
    {
     "data": {
      "text/plain": [
       "2040"
      ]
     },
     "execution_count": 40,
     "metadata": {},
     "output_type": "execute_result"
    }
   ],
   "source": [
    "lista_ciudades_unicas = df_itinerarios_ciudades.ciudad.sort_values().unique()\n",
    "len(lista_ciudades_unicas)"
   ]
  },
  {
   "cell_type": "code",
   "execution_count": 41,
   "id": "2d998144",
   "metadata": {},
   "outputs": [
    {
     "data": {
      "application/vnd.microsoft.datawrangler.viewer.v0+json": {
       "columns": [
        {
         "name": "index",
         "rawType": "int64",
         "type": "integer"
        },
        {
         "name": "ciudad",
         "rawType": "object",
         "type": "string"
        },
        {
         "name": "pais_correcto",
         "rawType": "object",
         "type": "string"
        }
       ],
       "conversionMethod": "pd.DataFrame",
       "ref": "c14e50a4-16cc-4898-96d9-1af5bb44a59c",
       "rows": [
        [
         "0",
         "Berlin",
         "Alemania"
        ],
        [
         "1",
         "Hamburgo",
         "Alemania"
        ],
        [
         "2",
         "Stade",
         "Alemania"
        ],
        [
         "3",
         "Bremen",
         "Alemania"
        ],
        [
         "4",
         "Luneburg",
         "Alemania"
        ],
        [
         "5",
         "Schwerin",
         "Alemania"
        ],
        [
         "6",
         "Wismar",
         "Alemania"
        ],
        [
         "7",
         "Lubeck",
         "Alemania"
        ],
        [
         "8",
         "Buenos Aires",
         "Argentina"
        ],
        [
         "9",
         "El Calafate",
         "Argentina"
        ],
        [
         "10",
         "Iguazu",
         "Argentina"
        ],
        [
         "11",
         "Ushuaia",
         "Argentina"
        ],
        [
         "12",
         "Puerto Madryn",
         "Argentina"
        ],
        [
         "13",
         "Bariloche",
         "Argentina"
        ],
        [
         "14",
         "Salta",
         "Argentina"
        ],
        [
         "15",
         "Cafayate",
         "Argentina"
        ],
        [
         "16",
         "Quebrada De Humahuaca",
         "Argentina"
        ],
        [
         "17",
         "Playas De Aruba",
         "Aruba"
        ],
        [
         "18",
         "Aruba",
         "Aruba"
        ],
        [
         "19",
         "Adelaida",
         "Australia"
        ],
        [
         "20",
         "Robe",
         "Australia"
        ],
        [
         "21",
         "Port Campbell",
         "Australia"
        ],
        [
         "22",
         "Melbourne",
         "Australia"
        ],
        [
         "23",
         "P N Wilsons Promontory",
         "Australia"
        ],
        [
         "24",
         "Lakes Entrance",
         "Australia"
        ],
        [
         "25",
         "Mallacoota",
         "Australia"
        ],
        [
         "26",
         "Narooma",
         "Australia"
        ],
        [
         "27",
         "Jervis Bay",
         "Australia"
        ],
        [
         "28",
         "Sydney",
         "Australia"
        ],
        [
         "29",
         "Cairns",
         "Australia"
        ],
        [
         "30",
         "Ayers Rock",
         "Australia"
        ],
        [
         "31",
         "Townsville",
         "Australia"
        ],
        [
         "32",
         "Airlie Beach",
         "Australia"
        ],
        [
         "33",
         "Hervey Bay",
         "Australia"
        ],
        [
         "34",
         "Brisbane",
         "Australia"
        ],
        [
         "35",
         "Darwin",
         "Australia"
        ],
        [
         "36",
         "Pn Kakadu",
         "Australia"
        ],
        [
         "37",
         "Hunter Valley",
         "Australia"
        ],
        [
         "38",
         "Port Macquarie",
         "Australia"
        ],
        [
         "39",
         "Coffs Harbour",
         "Australia"
        ],
        [
         "40",
         "Byron Bay",
         "Australia"
        ],
        [
         "41",
         "Gold Coast",
         "Australia"
        ],
        [
         "42",
         "Bundaberg",
         "Australia"
        ],
        [
         "43",
         "Rockhampton",
         "Australia"
        ],
        [
         "44",
         "Mackay",
         "Australia"
        ],
        [
         "45",
         "Kangaroo Island",
         "Australia"
        ],
        [
         "46",
         "Alice Springs",
         "Australia"
        ],
        [
         "47",
         "Apollo Bay",
         "Australia"
        ],
        [
         "48",
         "Port Fairy",
         "Australia"
        ],
        [
         "49",
         "Pn De Grampians",
         "Australia"
        ]
       ],
       "shape": {
        "columns": 2,
        "rows": 2103
       }
      },
      "text/html": [
       "<div>\n",
       "<style scoped>\n",
       "    .dataframe tbody tr th:only-of-type {\n",
       "        vertical-align: middle;\n",
       "    }\n",
       "\n",
       "    .dataframe tbody tr th {\n",
       "        vertical-align: top;\n",
       "    }\n",
       "\n",
       "    .dataframe thead th {\n",
       "        text-align: right;\n",
       "    }\n",
       "</style>\n",
       "<table border=\"1\" class=\"dataframe\">\n",
       "  <thead>\n",
       "    <tr style=\"text-align: right;\">\n",
       "      <th></th>\n",
       "      <th>ciudad</th>\n",
       "      <th>pais_correcto</th>\n",
       "    </tr>\n",
       "  </thead>\n",
       "  <tbody>\n",
       "    <tr>\n",
       "      <th>0</th>\n",
       "      <td>Berlin</td>\n",
       "      <td>Alemania</td>\n",
       "    </tr>\n",
       "    <tr>\n",
       "      <th>1</th>\n",
       "      <td>Hamburgo</td>\n",
       "      <td>Alemania</td>\n",
       "    </tr>\n",
       "    <tr>\n",
       "      <th>2</th>\n",
       "      <td>Stade</td>\n",
       "      <td>Alemania</td>\n",
       "    </tr>\n",
       "    <tr>\n",
       "      <th>3</th>\n",
       "      <td>Bremen</td>\n",
       "      <td>Alemania</td>\n",
       "    </tr>\n",
       "    <tr>\n",
       "      <th>4</th>\n",
       "      <td>Luneburg</td>\n",
       "      <td>Alemania</td>\n",
       "    </tr>\n",
       "    <tr>\n",
       "      <th>...</th>\n",
       "      <td>...</td>\n",
       "      <td>...</td>\n",
       "    </tr>\n",
       "    <tr>\n",
       "      <th>2098</th>\n",
       "      <td>Dilijan</td>\n",
       "      <td>Armenia</td>\n",
       "    </tr>\n",
       "    <tr>\n",
       "      <th>2099</th>\n",
       "      <td>Sanahin Tbilisi</td>\n",
       "      <td>Georgia</td>\n",
       "    </tr>\n",
       "    <tr>\n",
       "      <th>2100</th>\n",
       "      <td>Baku</td>\n",
       "      <td>Azerbaiyan</td>\n",
       "    </tr>\n",
       "    <tr>\n",
       "      <th>2101</th>\n",
       "      <td>Gobustan</td>\n",
       "      <td>Azerbaiyan</td>\n",
       "    </tr>\n",
       "    <tr>\n",
       "      <th>2102</th>\n",
       "      <td>Laponia</td>\n",
       "      <td>Argentina</td>\n",
       "    </tr>\n",
       "  </tbody>\n",
       "</table>\n",
       "<p>2103 rows × 2 columns</p>\n",
       "</div>"
      ],
      "text/plain": [
       "               ciudad pais_correcto\n",
       "0              Berlin      Alemania\n",
       "1            Hamburgo      Alemania\n",
       "2               Stade      Alemania\n",
       "3              Bremen      Alemania\n",
       "4            Luneburg      Alemania\n",
       "...               ...           ...\n",
       "2098          Dilijan       Armenia\n",
       "2099  Sanahin Tbilisi       Georgia\n",
       "2100             Baku    Azerbaiyan\n",
       "2101         Gobustan    Azerbaiyan\n",
       "2102          Laponia     Argentina\n",
       "\n",
       "[2103 rows x 2 columns]"
      ]
     },
     "execution_count": 41,
     "metadata": {},
     "output_type": "execute_result"
    }
   ],
   "source": [
    "#creo el DF con la ciudad el pais para preparar los datos para la carga y elimino duplicados:\n",
    "df_ciudad_pais_unicos = df_itinerarios_ciudades[['ciudad','pais_correcto']].drop_duplicates().reset_index(drop=True)\n",
    "df_ciudad_pais_unicos"
   ]
  },
  {
   "cell_type": "code",
   "execution_count": 42,
   "id": "2b4f3799",
   "metadata": {},
   "outputs": [
    {
     "name": "stdout",
     "output_type": "stream",
     "text": [
      "La ciudad Iguazu aparece en los paises Argentina, Brasil\n",
      "La ciudad La Paz aparece en los paises Bolivia, Mexico\n",
      "La ciudad Lago Titicaca aparece en los paises Bolivia, Peru\n",
      "La ciudad Sofia aparece en los paises Bulgaria, Rumania\n",
      "La ciudad Monasterio De Rila aparece en los paises Bulgaria, Rumania\n",
      "La ciudad Plovdiv aparece en los paises Bulgaria, Rumania\n",
      "La ciudad Veliko Tarnovo aparece en los paises Bulgaria, Rumania\n",
      "La ciudad Siem Reap aparece en los paises Bulgaria, Tailandia, Vietnam\n",
      "La ciudad Montreal aparece en los paises Canada, Estados Unidos\n",
      "La ciudad Quebec aparece en los paises Canada, Estados Unidos\n",
      "La ciudad Ottawa aparece en los paises Canada, Estados Unidos\n",
      "La ciudad Niagara aparece en los paises Canada, Estados Unidos\n",
      "La ciudad Toronto aparece en los paises Canada, Estados Unidos\n",
      "La ciudad Mil Islas aparece en los paises Canada, Estados Unidos\n",
      "La ciudad Victoria aparece en los paises Canada, Malta\n",
      "La ciudad Hong Kong aparece en los paises China, Taiwan\n",
      "La ciudad Orlando aparece en los paises Estados Unidos, Riviera Maya\n",
      "La ciudad Nueva York aparece en los paises Estados Unidos, Riviera Maya\n",
      "La ciudad  aparece en los paises Estados Unidos, Grecia, Montenegro\n",
      "La ciudad St Louis aparece en los paises Estados Unidos, Senegal\n",
      "La ciudad Niagara Falls aparece en los paises Estados Unidos, Canada\n",
      "La ciudad Punta Cana aparece en los paises Estados Unidos, Republica Dominicana\n",
      "La ciudad Los Cabos aparece en los paises Estados Unidos, Mexico\n",
      "La ciudad Fiji aparece en los paises Fiji, Japon\n",
      "La ciudad Kusadasi aparece en los paises Grecia, Turquia\n",
      "La ciudad Antigua aparece en los paises Guatemala, Antigua\n",
      "La ciudad Tierras Altas aparece en los paises Islandia, Reino Unido\n",
      "La ciudad Maldivas aparece en los paises Islandia, Tanzania, Vietnam , Sudafrica\n",
      "La ciudad Medina aparece en los paises Malta, Arabia Saudi\n",
      "La ciudad Rabat aparece en los paises Malta, Marruecos\n",
      "La ciudad Mauricio aparece en los paises Malta, Kenia, Sudafrica\n",
      "La ciudad Katmandu aparece en los paises Nepal, India\n",
      "La ciudad Manchester aparece en los paises Reino Unido, Estados Unidos\n",
      "La ciudad Praga aparece en los paises Republica Checa, Austria\n",
      "La ciudad Karlovy Vary aparece en los paises Republica Checa, Austria\n",
      "La ciudad Santa Lucia aparece en los paises Santa Lucia, Sudafrica\n",
      "La ciudad Ciudad Del Cabo aparece en los paises Sudafrica, Namibia\n",
      "La ciudad Phuket aparece en los paises Sudafrica, Japon, Vietnam , Tailandia\n",
      "La ciudad Koh Samui aparece en los paises Tailandia, Japon\n",
      "La ciudad Pn Bwindi aparece en los paises Uganda, Kenia\n",
      "La ciudad Riviera Maya aparece en los paises Riviera Maya, Peru\n",
      "La ciudad Bali aparece en los paises China, Japon\n",
      "La ciudad Zanzibar aparece en los paises China, Tanzania, Uganda\n",
      "La ciudad Seychelles aparece en los paises Kenia, Sudafrica\n",
      "La ciudad Cataratas Victoria aparece en los paises Kenia, Sudafrica, Zimbabue , Kenia\n",
      "La ciudad Mozambique aparece en los paises Namibia, Sudafrica\n"
     ]
    }
   ],
   "source": [
    "#Comprueba las ciudades duplicadas\n",
    "ciudades_duplicadas = []\n",
    "for ciudad in df_ciudad_pais_unicos.ciudad.unique():\n",
    "    df_filtrado = df_ciudad_pais_unicos[df_ciudad_pais_unicos.ciudad == ciudad]\n",
    "    if len(df_filtrado.pais_correcto.unique()) >1:\n",
    "        ciudades_duplicadas.append(ciudad)\n",
    "        if len(df_filtrado.pais_correcto.unique()) ==2:\n",
    "            pais1= df_filtrado.pais_correcto.unique()[-2]\n",
    "            pais2=df_filtrado.pais_correcto.unique()[-1]\n",
    "            print(f'La ciudad {ciudad} aparece en los paises {pais1}, {pais2}')\n",
    "        elif len(df_filtrado.pais_correcto.unique()) ==3:\n",
    "            pais3= df_filtrado.pais_correcto.unique()[-3]\n",
    "            pais2= df_filtrado.pais_correcto.unique()[-2]\n",
    "            pais3=df_filtrado.pais_correcto.unique()[-1]\n",
    "            print(f'La ciudad {ciudad} aparece en los paises {pais1}, {pais2}, {pais3}')\n",
    "        else: \n",
    "            pais4= df_filtrado.pais_correcto.unique()[-4]\n",
    "            pais3= df_filtrado.pais_correcto.unique()[-3]\n",
    "            pais2= df_filtrado.pais_correcto.unique()[-2]\n",
    "            pais3=df_filtrado.pais_correcto.unique()[-1]\n",
    "            print(f'La ciudad {ciudad} aparece en los paises {pais1}, {pais2}, {pais3} , {pais4}')\n"
   ]
  },
  {
   "cell_type": "code",
   "execution_count": 43,
   "id": "56426261",
   "metadata": {},
   "outputs": [
    {
     "data": {
      "text/plain": [
       "['Iguazu',\n",
       " 'La Paz',\n",
       " 'Lago Titicaca',\n",
       " 'Sofia',\n",
       " 'Monasterio De Rila',\n",
       " 'Plovdiv',\n",
       " 'Veliko Tarnovo',\n",
       " 'Siem Reap',\n",
       " 'Montreal',\n",
       " 'Quebec',\n",
       " 'Ottawa',\n",
       " 'Niagara',\n",
       " 'Toronto',\n",
       " 'Mil Islas',\n",
       " 'Victoria',\n",
       " 'Hong Kong',\n",
       " 'Orlando',\n",
       " 'Nueva York',\n",
       " '',\n",
       " 'St Louis',\n",
       " 'Niagara Falls',\n",
       " 'Punta Cana',\n",
       " 'Los Cabos',\n",
       " 'Fiji',\n",
       " 'Kusadasi',\n",
       " 'Antigua',\n",
       " 'Tierras Altas',\n",
       " 'Maldivas',\n",
       " 'Medina',\n",
       " 'Rabat',\n",
       " 'Mauricio',\n",
       " 'Katmandu',\n",
       " 'Manchester',\n",
       " 'Praga',\n",
       " 'Karlovy Vary',\n",
       " 'Santa Lucia',\n",
       " 'Ciudad Del Cabo',\n",
       " 'Phuket',\n",
       " 'Koh Samui',\n",
       " 'Pn Bwindi',\n",
       " 'Riviera Maya',\n",
       " 'Bali',\n",
       " 'Zanzibar',\n",
       " 'Seychelles',\n",
       " 'Cataratas Victoria',\n",
       " 'Mozambique']"
      ]
     },
     "execution_count": 43,
     "metadata": {},
     "output_type": "execute_result"
    }
   ],
   "source": [
    "ciudades_duplicadas"
   ]
  },
  {
   "cell_type": "markdown",
   "id": "689e9b9b",
   "metadata": {},
   "source": [
    "### 3.2 Hago la carga en la BBDD:"
   ]
  },
  {
   "cell_type": "markdown",
   "id": "3ab94c1f",
   "metadata": {},
   "source": [
    "La tabla ciudad tiene que tener los siguientes campos:\n",
    "- id_ciudad SERIAL PRIMARY KEY,\n",
    "- nombre_ciudad TEXT UNIQUE,\n",
    "- id_pais_destino INT REFERENCES pais_destino(id_pais_destino) ON DELETE CASCADE"
   ]
  },
  {
   "cell_type": "code",
   "execution_count": null,
   "id": "8d182a89",
   "metadata": {},
   "outputs": [],
   "source": [
    "#Extraigo el id_pais_destino de la tabla pais_destino de la BBDD:\n",
    "cur.execute(\"SELECT nombre_ciudad, id_ciudad FROM ciudad\")\n",
    "ciudad_dict=dict(cur.fetchall())\n",
    "ciudad_dict"
   ]
  }
 ],
 "metadata": {
  "kernelspec": {
   "display_name": "venv",
   "language": "python",
   "name": "python3"
  },
  "language_info": {
   "codemirror_mode": {
    "name": "ipython",
    "version": 3
   },
   "file_extension": ".py",
   "mimetype": "text/x-python",
   "name": "python",
   "nbconvert_exporter": "python",
   "pygments_lexer": "ipython3",
   "version": "3.12.5"
  }
 },
 "nbformat": 4,
 "nbformat_minor": 5
}
