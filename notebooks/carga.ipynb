{
 "cells": [
  {
   "cell_type": "code",
   "execution_count": 1,
   "id": "973ef613",
   "metadata": {},
   "outputs": [],
   "source": [
    "import pandas as pd\n",
    "import numpy as np\n",
    "import psycopg2\n",
    "import os\n",
    "from dotenv import load_dotenv\n",
    "import sys #permite navegar por el sistema\n",
    "sys.path.append(\"../\") #solo aplica al soporte\n",
    "import os\n",
    "from dotenv import load_dotenv"
   ]
  },
  {
   "cell_type": "code",
   "execution_count": 2,
   "id": "51552726",
   "metadata": {},
   "outputs": [
    {
     "data": {
      "text/plain": [
       "True"
      ]
     },
     "execution_count": 2,
     "metadata": {},
     "output_type": "execute_result"
    }
   ],
   "source": [
    "load_dotenv()"
   ]
  },
  {
   "cell_type": "code",
   "execution_count": 3,
   "id": "f8d7fcad",
   "metadata": {},
   "outputs": [],
   "source": [
    "#Llamamos a la variable de entorno\n",
    "DB_NAME = os.getenv(\"DB_NAME\")\n",
    "DB_USER=os.getenv(\"DB_USER\")\n",
    "DB_PASSWORD = os.getenv(\"DB_PASSWORD\")\n",
    "DB_HOST= os.getenv(\"DB_HOST\")\n",
    "DB_PORT = os.getenv(\"DB_PORT\")"
   ]
  },
  {
   "cell_type": "code",
   "execution_count": 4,
   "id": "16c65847",
   "metadata": {},
   "outputs": [],
   "source": [
    "conn = psycopg2.connect(\n",
    "    dbname=DB_NAME,\n",
    "    user=DB_USER,\n",
    "    password=DB_PASSWORD,\n",
    "    host=DB_HOST,\n",
    "    port=DB_PORT\n",
    ")\n",
    "\n",
    "#Creamos el cursor:\n",
    "cur= conn.cursor()"
   ]
  },
  {
   "cell_type": "code",
   "execution_count": 5,
   "id": "7d1f0395",
   "metadata": {},
   "outputs": [
    {
     "data": {
      "text/plain": [
       "('PostgreSQL 16.4, compiled by Visual C++ build 1940, 64-bit',)"
      ]
     },
     "execution_count": 5,
     "metadata": {},
     "output_type": "execute_result"
    }
   ],
   "source": [
    "#Comprobamos que la conexión está bien realizada:\n",
    "cur.execute(\"SELECT version();\")\n",
    "cur.fetchone() #para que muestre el resultado de la query anterior"
   ]
  },
  {
   "cell_type": "markdown",
   "id": "495d1d61",
   "metadata": {},
   "source": [
    "# Creación de los datos para las tablas:"
   ]
  },
  {
   "cell_type": "code",
   "execution_count": 6,
   "id": "c76983be",
   "metadata": {},
   "outputs": [],
   "source": [
    "#Importo los df procesados:\n",
    "ARCHIVO_GUARDAR_ESCRAPEO_VIAJES_PROCESADOS=os.getenv('ARCHIVO_GUARDAR_ESCRAPEO_VIAJES_PROCESADOS')\n",
    "ARCHIVO_GUARDAR_CONTINENTES_PROCESADOS =os.getenv('ARCHIVO_GUARDAR_CONTINENTES_PROCESADOS')\n",
    "ARCHIVO_GUARDAR_ITINERARIOS_PROCESADOS=os.getenv('ARCHIVO_GUARDAR_ITINERARIOS_PROCESADOS')\n",
    "ARCHIVO_GUARDAR_DATOS_API_PROCESADOS=os.getenv('ARCHIVO_GUARDAR_DATOS_API_PROCESADOS')\n",
    "ARCHIVO_GUARDAR_ESCRAPEO_API_OPENCAGE=os.getenv('ARCHIVO_GUARDAR_ESCRAPEO_API_OPENCAGE')"
   ]
  },
  {
   "cell_type": "markdown",
   "id": "1cbb8b63",
   "metadata": {},
   "source": [
    "## 1. Tabla pais_destino"
   ]
  },
  {
   "cell_type": "markdown",
   "id": "6803d681",
   "metadata": {},
   "source": [
    "### Unión de los paises y continentes tanto escrapeados como obtenidos de la API de turismo emisor"
   ]
  },
  {
   "cell_type": "markdown",
   "id": "76ae276a",
   "metadata": {},
   "source": [
    "#### a) Turismo emisor"
   ]
  },
  {
   "cell_type": "code",
   "execution_count": 7,
   "id": "f97538ea",
   "metadata": {},
   "outputs": [
    {
     "data": {
      "text/plain": [
       "Index(['Unnamed: 0', 'AÑO', 'MES', 'CCAA_ORIGEN', 'CONTINENTE_DESTINO',\n",
       "       'PAIS_DESTINO', 'TURISTAS', 'PERNOCTACIONES', 'ESTANCIA_MEDIA'],\n",
       "      dtype='object')"
      ]
     },
     "execution_count": 7,
     "metadata": {},
     "output_type": "execute_result"
    }
   ],
   "source": [
    "df_turismo_emisor_procesado=pd.read_csv(ARCHIVO_GUARDAR_DATOS_API_PROCESADOS)\n",
    "df_turismo_emisor_procesado.columns"
   ]
  },
  {
   "cell_type": "code",
   "execution_count": 8,
   "id": "3c723773",
   "metadata": {},
   "outputs": [
    {
     "data": {
      "application/vnd.microsoft.datawrangler.viewer.v0+json": {
       "columns": [
        {
         "name": "index",
         "rawType": "int64",
         "type": "integer"
        },
        {
         "name": "Unnamed: 0",
         "rawType": "int64",
         "type": "integer"
        },
        {
         "name": "AÑO",
         "rawType": "int64",
         "type": "integer"
        },
        {
         "name": "MES",
         "rawType": "int64",
         "type": "integer"
        },
        {
         "name": "CCAA_ORIGEN",
         "rawType": "object",
         "type": "string"
        },
        {
         "name": "CONTINENTE_DESTINO",
         "rawType": "object",
         "type": "string"
        },
        {
         "name": "PAIS_DESTINO",
         "rawType": "object",
         "type": "string"
        },
        {
         "name": "TURISTAS",
         "rawType": "object",
         "type": "string"
        },
        {
         "name": "PERNOCTACIONES",
         "rawType": "object",
         "type": "string"
        },
        {
         "name": "ESTANCIA_MEDIA",
         "rawType": "object",
         "type": "string"
        }
       ],
       "conversionMethod": "pd.DataFrame",
       "ref": "6fe488a3-e169-4a5f-8b79-1cb0547d7cd3",
       "rows": [
        [
         "0",
         "0",
         "2019",
         "7",
         "Andalucía",
         "América",
         "Argentina",
         "419,0",
         "3616,0",
         "8,6"
        ],
        [
         "1",
         "1",
         "2019",
         "7",
         "Andalucía",
         "América",
         "Bolivia",
         "61,0",
         "486,0",
         "8,0"
        ],
        [
         "2",
         "2",
         "2019",
         "7",
         "Andalucía",
         "América",
         "Brasil",
         "277,0",
         "2214,0",
         "8,0"
        ],
        [
         "3",
         "3",
         "2019",
         "7",
         "Andalucía",
         "América",
         "Canadá",
         "483,0",
         "6159,0",
         "12,8"
        ],
        [
         "4",
         "4",
         "2019",
         "7",
         "Andalucía",
         "América",
         "Chile",
         "242,0",
         "2068,0",
         "8,5"
        ]
       ],
       "shape": {
        "columns": 9,
        "rows": 5
       }
      },
      "text/html": [
       "<div>\n",
       "<style scoped>\n",
       "    .dataframe tbody tr th:only-of-type {\n",
       "        vertical-align: middle;\n",
       "    }\n",
       "\n",
       "    .dataframe tbody tr th {\n",
       "        vertical-align: top;\n",
       "    }\n",
       "\n",
       "    .dataframe thead th {\n",
       "        text-align: right;\n",
       "    }\n",
       "</style>\n",
       "<table border=\"1\" class=\"dataframe\">\n",
       "  <thead>\n",
       "    <tr style=\"text-align: right;\">\n",
       "      <th></th>\n",
       "      <th>Unnamed: 0</th>\n",
       "      <th>AÑO</th>\n",
       "      <th>MES</th>\n",
       "      <th>CCAA_ORIGEN</th>\n",
       "      <th>CONTINENTE_DESTINO</th>\n",
       "      <th>PAIS_DESTINO</th>\n",
       "      <th>TURISTAS</th>\n",
       "      <th>PERNOCTACIONES</th>\n",
       "      <th>ESTANCIA_MEDIA</th>\n",
       "    </tr>\n",
       "  </thead>\n",
       "  <tbody>\n",
       "    <tr>\n",
       "      <th>0</th>\n",
       "      <td>0</td>\n",
       "      <td>2019</td>\n",
       "      <td>7</td>\n",
       "      <td>Andalucía</td>\n",
       "      <td>América</td>\n",
       "      <td>Argentina</td>\n",
       "      <td>419,0</td>\n",
       "      <td>3616,0</td>\n",
       "      <td>8,6</td>\n",
       "    </tr>\n",
       "    <tr>\n",
       "      <th>1</th>\n",
       "      <td>1</td>\n",
       "      <td>2019</td>\n",
       "      <td>7</td>\n",
       "      <td>Andalucía</td>\n",
       "      <td>América</td>\n",
       "      <td>Bolivia</td>\n",
       "      <td>61,0</td>\n",
       "      <td>486,0</td>\n",
       "      <td>8,0</td>\n",
       "    </tr>\n",
       "    <tr>\n",
       "      <th>2</th>\n",
       "      <td>2</td>\n",
       "      <td>2019</td>\n",
       "      <td>7</td>\n",
       "      <td>Andalucía</td>\n",
       "      <td>América</td>\n",
       "      <td>Brasil</td>\n",
       "      <td>277,0</td>\n",
       "      <td>2214,0</td>\n",
       "      <td>8,0</td>\n",
       "    </tr>\n",
       "    <tr>\n",
       "      <th>3</th>\n",
       "      <td>3</td>\n",
       "      <td>2019</td>\n",
       "      <td>7</td>\n",
       "      <td>Andalucía</td>\n",
       "      <td>América</td>\n",
       "      <td>Canadá</td>\n",
       "      <td>483,0</td>\n",
       "      <td>6159,0</td>\n",
       "      <td>12,8</td>\n",
       "    </tr>\n",
       "    <tr>\n",
       "      <th>4</th>\n",
       "      <td>4</td>\n",
       "      <td>2019</td>\n",
       "      <td>7</td>\n",
       "      <td>Andalucía</td>\n",
       "      <td>América</td>\n",
       "      <td>Chile</td>\n",
       "      <td>242,0</td>\n",
       "      <td>2068,0</td>\n",
       "      <td>8,5</td>\n",
       "    </tr>\n",
       "  </tbody>\n",
       "</table>\n",
       "</div>"
      ],
      "text/plain": [
       "   Unnamed: 0   AÑO  MES CCAA_ORIGEN CONTINENTE_DESTINO PAIS_DESTINO TURISTAS  \\\n",
       "0           0  2019    7   Andalucía            América    Argentina    419,0   \n",
       "1           1  2019    7   Andalucía            América      Bolivia     61,0   \n",
       "2           2  2019    7   Andalucía            América       Brasil    277,0   \n",
       "3           3  2019    7   Andalucía            América       Canadá    483,0   \n",
       "4           4  2019    7   Andalucía            América        Chile    242,0   \n",
       "\n",
       "  PERNOCTACIONES ESTANCIA_MEDIA  \n",
       "0         3616,0            8,6  \n",
       "1          486,0            8,0  \n",
       "2         2214,0            8,0  \n",
       "3         6159,0           12,8  \n",
       "4         2068,0            8,5  "
      ]
     },
     "execution_count": 8,
     "metadata": {},
     "output_type": "execute_result"
    }
   ],
   "source": [
    "df_turismo_emisor_procesado.head()"
   ]
  },
  {
   "cell_type": "code",
   "execution_count": 9,
   "id": "2f0ef722",
   "metadata": {},
   "outputs": [
    {
     "data": {
      "text/plain": [
       "array(['América', 'Asia', 'Europa', 'Oceanía', 'África'], dtype=object)"
      ]
     },
     "execution_count": 9,
     "metadata": {},
     "output_type": "execute_result"
    }
   ],
   "source": [
    "df_paises_continentes_turismos_emisor=df_turismo_emisor_procesado[['PAIS_DESTINO','CONTINENTE_DESTINO']]\n",
    "df_paises_continentes_turismos_emisor=df_paises_continentes_turismos_emisor.drop_duplicates()\n",
    "df_paises_continentes_turismos_emisor.CONTINENTE_DESTINO.unique()"
   ]
  },
  {
   "cell_type": "code",
   "execution_count": 10,
   "id": "373aa98c",
   "metadata": {},
   "outputs": [
    {
     "data": {
      "text/plain": [
       "Index(['PAIS_DESTINO', 'CONTINENTE_DESTINO'], dtype='object')"
      ]
     },
     "execution_count": 10,
     "metadata": {},
     "output_type": "execute_result"
    }
   ],
   "source": [
    "df_paises_continentes_turismos_emisor.columns"
   ]
  },
  {
   "cell_type": "code",
   "execution_count": 11,
   "id": "bdd9172e",
   "metadata": {},
   "outputs": [],
   "source": [
    "df_paises_continentes_turismos_emisor= df_paises_continentes_turismos_emisor.rename(\n",
    "    columns={'PAIS_DESTINO':'nombre_pais_destino', 'CONTINENTE_DESTINO':'nombre_continente'})\n",
    "df_paises_continentes_turismos_emisor= df_paises_continentes_turismos_emisor.sort_values(by='nombre_pais_destino').reset_index(drop=True)"
   ]
  },
  {
   "cell_type": "code",
   "execution_count": 12,
   "id": "e301f365",
   "metadata": {},
   "outputs": [
    {
     "data": {
      "application/vnd.microsoft.datawrangler.viewer.v0+json": {
       "columns": [
        {
         "name": "index",
         "rawType": "int64",
         "type": "integer"
        },
        {
         "name": "nombre_pais_destino",
         "rawType": "object",
         "type": "string"
        },
        {
         "name": "nombre_continente",
         "rawType": "object",
         "type": "string"
        }
       ],
       "conversionMethod": "pd.DataFrame",
       "ref": "105b8c43-24b7-4255-ab9c-4b2eea6bb7fc",
       "rows": [
        [
         "0",
         "Albania",
         "Europa"
        ],
        [
         "1",
         "Alemania",
         "Europa"
        ],
        [
         "2",
         "Andorra",
         "Europa"
        ],
        [
         "3",
         "Angola",
         "África"
        ],
        [
         "4",
         "Antigua",
         "América"
        ],
        [
         "5",
         "Arabia Saudí",
         "Asia"
        ],
        [
         "6",
         "Argelia",
         "África"
        ],
        [
         "7",
         "Argentina",
         "América"
        ],
        [
         "8",
         "Armenia",
         "Europa"
        ],
        [
         "9",
         "Australia",
         "Oceanía"
        ],
        [
         "10",
         "Austria",
         "Europa"
        ],
        [
         "11",
         "Azerbaiyán",
         "Asia"
        ],
        [
         "12",
         "Bahamas",
         "América"
        ],
        [
         "13",
         "Bahréin",
         "Asia"
        ],
        [
         "14",
         "Bangladesh",
         "Asia"
        ],
        [
         "15",
         "Barbados",
         "América"
        ],
        [
         "16",
         "Belarús",
         "Europa"
        ],
        [
         "17",
         "Belice",
         "América"
        ],
        [
         "18",
         "Benin",
         "África"
        ],
        [
         "19",
         "Bolivia",
         "América"
        ],
        [
         "20",
         "Bosnia y Herzegovina",
         "Europa"
        ],
        [
         "21",
         "Botswana",
         "África"
        ],
        [
         "22",
         "Brasil",
         "América"
        ],
        [
         "23",
         "Bulgaria",
         "Europa"
        ],
        [
         "24",
         "Burkina Faso",
         "África"
        ],
        [
         "25",
         "Bután",
         "Asia"
        ],
        [
         "26",
         "Bélgica",
         "Europa"
        ],
        [
         "27",
         "Cabo Verde",
         "África"
        ],
        [
         "28",
         "Camboya",
         "Asia"
        ],
        [
         "29",
         "Camerún",
         "África"
        ],
        [
         "30",
         "Canadá",
         "América"
        ],
        [
         "31",
         "Chad",
         "África"
        ],
        [
         "32",
         "Chile",
         "América"
        ],
        [
         "33",
         "China",
         "Asia"
        ],
        [
         "34",
         "Chipre",
         "Europa"
        ],
        [
         "35",
         "Colombia",
         "América"
        ],
        [
         "36",
         "Corea Del Sur",
         "Asia"
        ],
        [
         "37",
         "Costa Rica",
         "América"
        ],
        [
         "38",
         "Costa de Marfil",
         "África"
        ],
        [
         "39",
         "Croacia",
         "Europa"
        ],
        [
         "40",
         "Cuba",
         "América"
        ],
        [
         "41",
         "Dinamarca",
         "Europa"
        ],
        [
         "42",
         "Djibouti",
         "África"
        ],
        [
         "43",
         "Ecuador",
         "América"
        ],
        [
         "44",
         "Egipto",
         "África"
        ],
        [
         "45",
         "El Salvador",
         "América"
        ],
        [
         "46",
         "Emiratos Árabes Unidos",
         "Asia"
        ],
        [
         "47",
         "Eslovenia",
         "Europa"
        ],
        [
         "48",
         "Estados Unidos",
         "América"
        ],
        [
         "49",
         "Estonia",
         "Europa"
        ]
       ],
       "shape": {
        "columns": 2,
        "rows": 158
       }
      },
      "text/html": [
       "<div>\n",
       "<style scoped>\n",
       "    .dataframe tbody tr th:only-of-type {\n",
       "        vertical-align: middle;\n",
       "    }\n",
       "\n",
       "    .dataframe tbody tr th {\n",
       "        vertical-align: top;\n",
       "    }\n",
       "\n",
       "    .dataframe thead th {\n",
       "        text-align: right;\n",
       "    }\n",
       "</style>\n",
       "<table border=\"1\" class=\"dataframe\">\n",
       "  <thead>\n",
       "    <tr style=\"text-align: right;\">\n",
       "      <th></th>\n",
       "      <th>nombre_pais_destino</th>\n",
       "      <th>nombre_continente</th>\n",
       "    </tr>\n",
       "  </thead>\n",
       "  <tbody>\n",
       "    <tr>\n",
       "      <th>0</th>\n",
       "      <td>Albania</td>\n",
       "      <td>Europa</td>\n",
       "    </tr>\n",
       "    <tr>\n",
       "      <th>1</th>\n",
       "      <td>Alemania</td>\n",
       "      <td>Europa</td>\n",
       "    </tr>\n",
       "    <tr>\n",
       "      <th>2</th>\n",
       "      <td>Andorra</td>\n",
       "      <td>Europa</td>\n",
       "    </tr>\n",
       "    <tr>\n",
       "      <th>3</th>\n",
       "      <td>Angola</td>\n",
       "      <td>África</td>\n",
       "    </tr>\n",
       "    <tr>\n",
       "      <th>4</th>\n",
       "      <td>Antigua</td>\n",
       "      <td>América</td>\n",
       "    </tr>\n",
       "    <tr>\n",
       "      <th>...</th>\n",
       "      <td>...</td>\n",
       "      <td>...</td>\n",
       "    </tr>\n",
       "    <tr>\n",
       "      <th>153</th>\n",
       "      <td>Venezuela</td>\n",
       "      <td>América</td>\n",
       "    </tr>\n",
       "    <tr>\n",
       "      <th>154</th>\n",
       "      <td>Vietnam</td>\n",
       "      <td>Asia</td>\n",
       "    </tr>\n",
       "    <tr>\n",
       "      <th>155</th>\n",
       "      <td>Yemen</td>\n",
       "      <td>Asia</td>\n",
       "    </tr>\n",
       "    <tr>\n",
       "      <th>156</th>\n",
       "      <td>Zambia</td>\n",
       "      <td>África</td>\n",
       "    </tr>\n",
       "    <tr>\n",
       "      <th>157</th>\n",
       "      <td>Zimbabue</td>\n",
       "      <td>África</td>\n",
       "    </tr>\n",
       "  </tbody>\n",
       "</table>\n",
       "<p>158 rows × 2 columns</p>\n",
       "</div>"
      ],
      "text/plain": [
       "    nombre_pais_destino nombre_continente\n",
       "0               Albania            Europa\n",
       "1              Alemania            Europa\n",
       "2               Andorra            Europa\n",
       "3                Angola            África\n",
       "4               Antigua           América\n",
       "..                  ...               ...\n",
       "153           Venezuela           América\n",
       "154             Vietnam              Asia\n",
       "155               Yemen              Asia\n",
       "156              Zambia            África\n",
       "157            Zimbabue            África\n",
       "\n",
       "[158 rows x 2 columns]"
      ]
     },
     "execution_count": 12,
     "metadata": {},
     "output_type": "execute_result"
    }
   ],
   "source": [
    "df_paises_continentes_turismos_emisor"
   ]
  },
  {
   "cell_type": "markdown",
   "id": "4b9b9f11",
   "metadata": {},
   "source": [
    "#### b) Paises escrapeados"
   ]
  },
  {
   "cell_type": "code",
   "execution_count": 13,
   "id": "83bd2617",
   "metadata": {},
   "outputs": [
    {
     "data": {
      "text/plain": [
       "Index(['continente', 'pais', 'fecha_escrapeo', 'en_ultimo_escrapeo'], dtype='object')"
      ]
     },
     "execution_count": 13,
     "metadata": {},
     "output_type": "execute_result"
    }
   ],
   "source": [
    "df_paises_continentes_escrapeo = pd.read_pickle(ARCHIVO_GUARDAR_CONTINENTES_PROCESADOS)\n",
    "df_paises_continentes_escrapeo.columns"
   ]
  },
  {
   "cell_type": "code",
   "execution_count": 14,
   "id": "9d4c0d34",
   "metadata": {},
   "outputs": [
    {
     "data": {
      "application/vnd.microsoft.datawrangler.viewer.v0+json": {
       "columns": [
        {
         "name": "index",
         "rawType": "int64",
         "type": "integer"
        },
        {
         "name": "continente",
         "rawType": "object",
         "type": "string"
        },
        {
         "name": "pais",
         "rawType": "object",
         "type": "string"
        },
        {
         "name": "fecha_escrapeo",
         "rawType": "datetime64[ns]",
         "type": "datetime"
        },
        {
         "name": "en_ultimo_escrapeo",
         "rawType": "object",
         "type": "string"
        }
       ],
       "conversionMethod": "pd.DataFrame",
       "ref": "23f7b58c-c0b6-4b10-a2ab-38db2c29da89",
       "rows": [
        [
         "0",
         "Europa",
         "Albania",
         "2025-04-14 00:00:00",
         "Si"
        ],
        [
         "1",
         "Europa",
         "Alemania",
         "2025-04-14 00:00:00",
         "Si"
        ],
        [
         "2",
         "América",
         "Antigua",
         "2025-04-14 00:00:00",
         "Si"
        ],
        [
         "3",
         "América",
         "Argentina",
         "2025-04-14 00:00:00",
         "Si"
        ],
        [
         "4",
         "América",
         "Aruba",
         "2025-04-14 00:00:00",
         "Si"
        ]
       ],
       "shape": {
        "columns": 4,
        "rows": 5
       }
      },
      "text/html": [
       "<div>\n",
       "<style scoped>\n",
       "    .dataframe tbody tr th:only-of-type {\n",
       "        vertical-align: middle;\n",
       "    }\n",
       "\n",
       "    .dataframe tbody tr th {\n",
       "        vertical-align: top;\n",
       "    }\n",
       "\n",
       "    .dataframe thead th {\n",
       "        text-align: right;\n",
       "    }\n",
       "</style>\n",
       "<table border=\"1\" class=\"dataframe\">\n",
       "  <thead>\n",
       "    <tr style=\"text-align: right;\">\n",
       "      <th></th>\n",
       "      <th>continente</th>\n",
       "      <th>pais</th>\n",
       "      <th>fecha_escrapeo</th>\n",
       "      <th>en_ultimo_escrapeo</th>\n",
       "    </tr>\n",
       "  </thead>\n",
       "  <tbody>\n",
       "    <tr>\n",
       "      <th>0</th>\n",
       "      <td>Europa</td>\n",
       "      <td>Albania</td>\n",
       "      <td>2025-04-14</td>\n",
       "      <td>Si</td>\n",
       "    </tr>\n",
       "    <tr>\n",
       "      <th>1</th>\n",
       "      <td>Europa</td>\n",
       "      <td>Alemania</td>\n",
       "      <td>2025-04-14</td>\n",
       "      <td>Si</td>\n",
       "    </tr>\n",
       "    <tr>\n",
       "      <th>2</th>\n",
       "      <td>América</td>\n",
       "      <td>Antigua</td>\n",
       "      <td>2025-04-14</td>\n",
       "      <td>Si</td>\n",
       "    </tr>\n",
       "    <tr>\n",
       "      <th>3</th>\n",
       "      <td>América</td>\n",
       "      <td>Argentina</td>\n",
       "      <td>2025-04-14</td>\n",
       "      <td>Si</td>\n",
       "    </tr>\n",
       "    <tr>\n",
       "      <th>4</th>\n",
       "      <td>América</td>\n",
       "      <td>Aruba</td>\n",
       "      <td>2025-04-14</td>\n",
       "      <td>Si</td>\n",
       "    </tr>\n",
       "  </tbody>\n",
       "</table>\n",
       "</div>"
      ],
      "text/plain": [
       "  continente       pais fecha_escrapeo en_ultimo_escrapeo\n",
       "0     Europa    Albania     2025-04-14                 Si\n",
       "1     Europa   Alemania     2025-04-14                 Si\n",
       "2    América    Antigua     2025-04-14                 Si\n",
       "3    América  Argentina     2025-04-14                 Si\n",
       "4    América      Aruba     2025-04-14                 Si"
      ]
     },
     "execution_count": 14,
     "metadata": {},
     "output_type": "execute_result"
    }
   ],
   "source": [
    "df_paises_continentes_escrapeo.head()"
   ]
  },
  {
   "cell_type": "code",
   "execution_count": 15,
   "id": "bbbb5306",
   "metadata": {},
   "outputs": [],
   "source": [
    "df_paises_continentes_escrapeo=df_paises_continentes_escrapeo[['pais','continente']]\n",
    "df_paises_continentes_escrapeo= df_paises_continentes_escrapeo.drop_duplicates()"
   ]
  },
  {
   "cell_type": "code",
   "execution_count": 16,
   "id": "5e30c975",
   "metadata": {},
   "outputs": [],
   "source": [
    "df_paises_continentes_escrapeo= df_paises_continentes_escrapeo.rename(\n",
    "    columns={'pais':'nombre_pais_destino', 'continente':'nombre_continente'})"
   ]
  },
  {
   "cell_type": "code",
   "execution_count": 17,
   "id": "da6f612f",
   "metadata": {},
   "outputs": [
    {
     "data": {
      "application/vnd.microsoft.datawrangler.viewer.v0+json": {
       "columns": [
        {
         "name": "index",
         "rawType": "int64",
         "type": "integer"
        },
        {
         "name": "nombre_pais_destino",
         "rawType": "object",
         "type": "string"
        },
        {
         "name": "nombre_continente",
         "rawType": "object",
         "type": "string"
        }
       ],
       "conversionMethod": "pd.DataFrame",
       "ref": "710d914f-179c-4ec6-b293-040a69e85905",
       "rows": [
        [
         "0",
         "Albania",
         "Europa"
        ],
        [
         "1",
         "Alemania",
         "Europa"
        ],
        [
         "2",
         "Antigua",
         "América"
        ],
        [
         "3",
         "Arabia Saudí",
         "Asia"
        ],
        [
         "4",
         "Argentina",
         "América"
        ],
        [
         "5",
         "Armenia",
         "Asia"
        ],
        [
         "6",
         "Aruba",
         "América"
        ],
        [
         "7",
         "Australia",
         "Oceanía"
        ],
        [
         "8",
         "Austria",
         "Europa"
        ],
        [
         "9",
         "Bahamas",
         "América"
        ],
        [
         "10",
         "Barbados",
         "América"
        ],
        [
         "11",
         "Belice",
         "América"
        ],
        [
         "12",
         "Bolivia",
         "América"
        ],
        [
         "13",
         "Bosnia y Herzegovina",
         "Europa"
        ],
        [
         "14",
         "Botsuana",
         "África"
        ],
        [
         "15",
         "Brasil",
         "América"
        ],
        [
         "16",
         "Bulgaria",
         "Europa"
        ],
        [
         "17",
         "Bután",
         "Asia"
        ],
        [
         "18",
         "Bélgica",
         "Europa"
        ],
        [
         "19",
         "Cabo Verde",
         "África"
        ],
        [
         "20",
         "Camboya",
         "Asia"
        ],
        [
         "21",
         "Canadá",
         "América"
        ],
        [
         "22",
         "Chile",
         "América"
        ],
        [
         "23",
         "China",
         "Asia"
        ],
        [
         "24",
         "Chipre",
         "Europa"
        ],
        [
         "25",
         "Colombia",
         "América"
        ],
        [
         "26",
         "Corea Del Sur",
         "Asia"
        ],
        [
         "27",
         "Costa Rica",
         "América"
        ],
        [
         "28",
         "Croacia",
         "Europa"
        ],
        [
         "29",
         "Curaçao",
         "América"
        ],
        [
         "30",
         "Dinamarca",
         "Europa"
        ],
        [
         "31",
         "Dominica",
         "América"
        ],
        [
         "32",
         "Ecuador",
         "América"
        ],
        [
         "33",
         "Egipto",
         "África"
        ],
        [
         "34",
         "El Salvador",
         "América"
        ],
        [
         "35",
         "Emiratos Árabes Unidos",
         "Asia"
        ],
        [
         "36",
         "Eslovaquia",
         "Europa"
        ],
        [
         "37",
         "Eslovenia",
         "Europa"
        ],
        [
         "38",
         "España",
         "Europa"
        ],
        [
         "39",
         "Estados Unidos",
         "América"
        ],
        [
         "40",
         "Estonia",
         "Europa"
        ],
        [
         "41",
         "Fiji",
         "Oceanía"
        ],
        [
         "42",
         "Filipinas",
         "Asia"
        ],
        [
         "43",
         "Finlandia",
         "Europa"
        ],
        [
         "44",
         "Francia",
         "Europa"
        ],
        [
         "45",
         "Georgia",
         "América"
        ],
        [
         "46",
         "Granada",
         "América"
        ],
        [
         "47",
         "Grecia",
         "Europa"
        ],
        [
         "48",
         "Guadalupe",
         "América"
        ],
        [
         "49",
         "Guatemala",
         "América"
        ]
       ],
       "shape": {
        "columns": 2,
        "rows": 125
       }
      },
      "text/html": [
       "<div>\n",
       "<style scoped>\n",
       "    .dataframe tbody tr th:only-of-type {\n",
       "        vertical-align: middle;\n",
       "    }\n",
       "\n",
       "    .dataframe tbody tr th {\n",
       "        vertical-align: top;\n",
       "    }\n",
       "\n",
       "    .dataframe thead th {\n",
       "        text-align: right;\n",
       "    }\n",
       "</style>\n",
       "<table border=\"1\" class=\"dataframe\">\n",
       "  <thead>\n",
       "    <tr style=\"text-align: right;\">\n",
       "      <th></th>\n",
       "      <th>nombre_pais_destino</th>\n",
       "      <th>nombre_continente</th>\n",
       "    </tr>\n",
       "  </thead>\n",
       "  <tbody>\n",
       "    <tr>\n",
       "      <th>0</th>\n",
       "      <td>Albania</td>\n",
       "      <td>Europa</td>\n",
       "    </tr>\n",
       "    <tr>\n",
       "      <th>1</th>\n",
       "      <td>Alemania</td>\n",
       "      <td>Europa</td>\n",
       "    </tr>\n",
       "    <tr>\n",
       "      <th>2</th>\n",
       "      <td>Antigua</td>\n",
       "      <td>América</td>\n",
       "    </tr>\n",
       "    <tr>\n",
       "      <th>3</th>\n",
       "      <td>Arabia Saudí</td>\n",
       "      <td>Asia</td>\n",
       "    </tr>\n",
       "    <tr>\n",
       "      <th>4</th>\n",
       "      <td>Argentina</td>\n",
       "      <td>América</td>\n",
       "    </tr>\n",
       "    <tr>\n",
       "      <th>...</th>\n",
       "      <td>...</td>\n",
       "      <td>...</td>\n",
       "    </tr>\n",
       "    <tr>\n",
       "      <th>120</th>\n",
       "      <td>Uruguay</td>\n",
       "      <td>América</td>\n",
       "    </tr>\n",
       "    <tr>\n",
       "      <th>121</th>\n",
       "      <td>Uzbekistán</td>\n",
       "      <td>Asia</td>\n",
       "    </tr>\n",
       "    <tr>\n",
       "      <th>122</th>\n",
       "      <td>Vietnam</td>\n",
       "      <td>Asia</td>\n",
       "    </tr>\n",
       "    <tr>\n",
       "      <th>123</th>\n",
       "      <td>Zanzíbar</td>\n",
       "      <td>África</td>\n",
       "    </tr>\n",
       "    <tr>\n",
       "      <th>124</th>\n",
       "      <td>Zimbabue</td>\n",
       "      <td>África</td>\n",
       "    </tr>\n",
       "  </tbody>\n",
       "</table>\n",
       "<p>125 rows × 2 columns</p>\n",
       "</div>"
      ],
      "text/plain": [
       "    nombre_pais_destino nombre_continente\n",
       "0               Albania            Europa\n",
       "1              Alemania            Europa\n",
       "2               Antigua           América\n",
       "3          Arabia Saudí              Asia\n",
       "4             Argentina           América\n",
       "..                  ...               ...\n",
       "120             Uruguay           América\n",
       "121          Uzbekistán              Asia\n",
       "122             Vietnam              Asia\n",
       "123            Zanzíbar            África\n",
       "124            Zimbabue            África\n",
       "\n",
       "[125 rows x 2 columns]"
      ]
     },
     "execution_count": 17,
     "metadata": {},
     "output_type": "execute_result"
    }
   ],
   "source": [
    "df_paises_continentes_escrapeo= df_paises_continentes_escrapeo.sort_values(by='nombre_pais_destino').reset_index(drop=True)\n",
    "df_paises_continentes_escrapeo"
   ]
  },
  {
   "cell_type": "markdown",
   "id": "46c77f5d",
   "metadata": {},
   "source": [
    "#### c) Paises en itinerarios ciudades"
   ]
  },
  {
   "cell_type": "code",
   "execution_count": 18,
   "id": "71582731",
   "metadata": {},
   "outputs": [
    {
     "data": {
      "text/plain": [
       "Index(['itinerario_modificado_para_dividir', 'ciudad', 'pais_correcto'], dtype='object')"
      ]
     },
     "execution_count": 18,
     "metadata": {},
     "output_type": "execute_result"
    }
   ],
   "source": [
    "df_itinerarios_ciudades = pd.read_pickle(ARCHIVO_GUARDAR_ITINERARIOS_PROCESADOS)\n",
    "df_itinerarios_ciudades.columns"
   ]
  },
  {
   "cell_type": "code",
   "execution_count": 19,
   "id": "b1429557",
   "metadata": {},
   "outputs": [],
   "source": [
    "df_itinerarios_ciudades_pais_continentes = pd.DataFrame()\n",
    "df_itinerarios_ciudades_pais_continentes['pais'] = df_itinerarios_ciudades['pais_correcto'].drop_duplicates().reset_index(drop=True)"
   ]
  },
  {
   "cell_type": "code",
   "execution_count": 20,
   "id": "725dd463",
   "metadata": {},
   "outputs": [
    {
     "data": {
      "application/vnd.microsoft.datawrangler.viewer.v0+json": {
       "columns": [
        {
         "name": "index",
         "rawType": "int64",
         "type": "integer"
        },
        {
         "name": "pais",
         "rawType": "object",
         "type": "string"
        }
       ],
       "conversionMethod": "pd.DataFrame",
       "ref": "5380a225-d052-482b-98e2-ae8a075d3761",
       "rows": [
        [
         "0",
         "Alemania"
        ],
        [
         "1",
         "Argentina"
        ],
        [
         "2",
         "Aruba"
        ],
        [
         "3",
         "Australia"
        ],
        [
         "4",
         "Austria"
        ],
        [
         "5",
         "Bahamas"
        ],
        [
         "6",
         "Barbados"
        ],
        [
         "7",
         "Bolivia"
        ],
        [
         "8",
         "Brasil"
        ],
        [
         "9",
         "Bulgaria"
        ],
        [
         "10",
         "Cabo Verde"
        ],
        [
         "11",
         "Camboya"
        ],
        [
         "12",
         "Canadá"
        ],
        [
         "13",
         "Chile"
        ],
        [
         "14",
         "China"
        ],
        [
         "15",
         "Chipre"
        ],
        [
         "16",
         "Colombia"
        ],
        [
         "17",
         "Corea Del Sur"
        ],
        [
         "18",
         "Costa Rica"
        ],
        [
         "19",
         "Croacia"
        ],
        [
         "20",
         "Curaçao"
        ],
        [
         "21",
         "Dinamarca"
        ],
        [
         "22",
         "Dominica"
        ],
        [
         "23",
         "Ecuador"
        ],
        [
         "24",
         "Egipto"
        ],
        [
         "25",
         "El Salvador"
        ],
        [
         "26",
         "Emiratos Árabes Unidos"
        ],
        [
         "27",
         "Eslovaquia"
        ],
        [
         "28",
         "Eslovenia"
        ],
        [
         "29",
         "España"
        ],
        [
         "30",
         "Estados Unidos"
        ],
        [
         "31",
         "Fiji"
        ],
        [
         "32",
         "Filipinas"
        ],
        [
         "33",
         "Finlandia"
        ],
        [
         "34",
         "Francia"
        ],
        [
         "35",
         "Grecia"
        ],
        [
         "36",
         "Guadalupe"
        ],
        [
         "37",
         "Guatemala"
        ],
        [
         "38",
         "Honduras"
        ],
        [
         "39",
         "Hungría"
        ],
        [
         "40",
         "India"
        ],
        [
         "41",
         "Indonesia"
        ],
        [
         "42",
         "Irlanda"
        ],
        [
         "43",
         "Islandia"
        ],
        [
         "44",
         "Islas Caimán"
        ],
        [
         "45",
         "Islas Cook"
        ],
        [
         "46",
         "Islas Feroe"
        ],
        [
         "47",
         "Italia"
        ],
        [
         "48",
         "Jamaica"
        ],
        [
         "49",
         "Japón"
        ]
       ],
       "shape": {
        "columns": 1,
        "rows": 128
       }
      },
      "text/html": [
       "<div>\n",
       "<style scoped>\n",
       "    .dataframe tbody tr th:only-of-type {\n",
       "        vertical-align: middle;\n",
       "    }\n",
       "\n",
       "    .dataframe tbody tr th {\n",
       "        vertical-align: top;\n",
       "    }\n",
       "\n",
       "    .dataframe thead th {\n",
       "        text-align: right;\n",
       "    }\n",
       "</style>\n",
       "<table border=\"1\" class=\"dataframe\">\n",
       "  <thead>\n",
       "    <tr style=\"text-align: right;\">\n",
       "      <th></th>\n",
       "      <th>pais</th>\n",
       "    </tr>\n",
       "  </thead>\n",
       "  <tbody>\n",
       "    <tr>\n",
       "      <th>0</th>\n",
       "      <td>Alemania</td>\n",
       "    </tr>\n",
       "    <tr>\n",
       "      <th>1</th>\n",
       "      <td>Argentina</td>\n",
       "    </tr>\n",
       "    <tr>\n",
       "      <th>2</th>\n",
       "      <td>Aruba</td>\n",
       "    </tr>\n",
       "    <tr>\n",
       "      <th>3</th>\n",
       "      <td>Australia</td>\n",
       "    </tr>\n",
       "    <tr>\n",
       "      <th>4</th>\n",
       "      <td>Austria</td>\n",
       "    </tr>\n",
       "    <tr>\n",
       "      <th>...</th>\n",
       "      <td>...</td>\n",
       "    </tr>\n",
       "    <tr>\n",
       "      <th>123</th>\n",
       "      <td>Macedonia del Norte</td>\n",
       "    </tr>\n",
       "    <tr>\n",
       "      <th>124</th>\n",
       "      <td>Bosnia y Herzegovina</td>\n",
       "    </tr>\n",
       "    <tr>\n",
       "      <th>125</th>\n",
       "      <td>Belice</td>\n",
       "    </tr>\n",
       "    <tr>\n",
       "      <th>126</th>\n",
       "      <td>Nigeria</td>\n",
       "    </tr>\n",
       "    <tr>\n",
       "      <th>127</th>\n",
       "      <td>Azerbaiyán</td>\n",
       "    </tr>\n",
       "  </tbody>\n",
       "</table>\n",
       "<p>128 rows × 1 columns</p>\n",
       "</div>"
      ],
      "text/plain": [
       "                     pais\n",
       "0                Alemania\n",
       "1               Argentina\n",
       "2                   Aruba\n",
       "3               Australia\n",
       "4                 Austria\n",
       "..                    ...\n",
       "123   Macedonia del Norte\n",
       "124  Bosnia y Herzegovina\n",
       "125                Belice\n",
       "126               Nigeria\n",
       "127            Azerbaiyán\n",
       "\n",
       "[128 rows x 1 columns]"
      ]
     },
     "execution_count": 20,
     "metadata": {},
     "output_type": "execute_result"
    }
   ],
   "source": [
    "df_itinerarios_ciudades_pais_continentes"
   ]
  },
  {
   "cell_type": "code",
   "execution_count": 21,
   "id": "0a45f286",
   "metadata": {},
   "outputs": [
    {
     "data": {
      "text/plain": [
       "Index(['pais', 'continente_api', 'pais_api', 'latitud', 'longitud', 'ciudad'], dtype='object')"
      ]
     },
     "execution_count": 21,
     "metadata": {},
     "output_type": "execute_result"
    }
   ],
   "source": [
    "df_opencage = pd.read_pickle(ARCHIVO_GUARDAR_ESCRAPEO_API_OPENCAGE)\n",
    "df_opencage.columns"
   ]
  },
  {
   "cell_type": "code",
   "execution_count": 22,
   "id": "5bc16b8f",
   "metadata": {},
   "outputs": [
    {
     "data": {
      "application/vnd.microsoft.datawrangler.viewer.v0+json": {
       "columns": [
        {
         "name": "index",
         "rawType": "int64",
         "type": "integer"
        },
        {
         "name": "pais",
         "rawType": "object",
         "type": "string"
        },
        {
         "name": "continente",
         "rawType": "object",
         "type": "string"
        }
       ],
       "conversionMethod": "pd.DataFrame",
       "ref": "4b2314d6-8574-4bab-847b-0a34dbfb3b85",
       "rows": [
        [
         "0",
         "Información desconocida",
         "Información desconocida"
        ],
        [
         "1",
         "Chequia",
         "Europa"
        ]
       ],
       "shape": {
        "columns": 2,
        "rows": 2
       }
      },
      "text/html": [
       "<div>\n",
       "<style scoped>\n",
       "    .dataframe tbody tr th:only-of-type {\n",
       "        vertical-align: middle;\n",
       "    }\n",
       "\n",
       "    .dataframe tbody tr th {\n",
       "        vertical-align: top;\n",
       "    }\n",
       "\n",
       "    .dataframe thead th {\n",
       "        text-align: right;\n",
       "    }\n",
       "</style>\n",
       "<table border=\"1\" class=\"dataframe\">\n",
       "  <thead>\n",
       "    <tr style=\"text-align: right;\">\n",
       "      <th></th>\n",
       "      <th>pais</th>\n",
       "      <th>continente</th>\n",
       "    </tr>\n",
       "  </thead>\n",
       "  <tbody>\n",
       "    <tr>\n",
       "      <th>0</th>\n",
       "      <td>Información desconocida</td>\n",
       "      <td>Información desconocida</td>\n",
       "    </tr>\n",
       "    <tr>\n",
       "      <th>1</th>\n",
       "      <td>Chequia</td>\n",
       "      <td>Europa</td>\n",
       "    </tr>\n",
       "  </tbody>\n",
       "</table>\n",
       "</div>"
      ],
      "text/plain": [
       "                      pais               continente\n",
       "0  Información desconocida  Información desconocida\n",
       "1                  Chequia                   Europa"
      ]
     },
     "execution_count": 22,
     "metadata": {},
     "output_type": "execute_result"
    }
   ],
   "source": [
    "dict_paises_continentes_ciudades = {'pais':[], 'continente':[]}\n",
    "for pais in df_itinerarios_ciudades_pais_continentes.pais:\n",
    "    if pais in df_paises_continentes_escrapeo.nombre_pais_destino.tolist():\n",
    "        pass\n",
    "    else:\n",
    "        if pais in df_paises_continentes_turismos_emisor.nombre_pais_destino.tolist():\n",
    "           pass\n",
    "        else:\n",
    "           if pais in df_opencage.pais_api.tolist():\n",
    "            #print(f'{pais} ya está en continentes opencage')\n",
    "            dict_paises_continentes_ciudades['pais'].append(pais)\n",
    "            continente = (df_opencage[df_opencage.pais_api == pais]).continente_api.unique()[0]\n",
    "            dict_paises_continentes_ciudades['continente'].append(continente)\n",
    "           else:\n",
    "                print(f'{pais} ERROR')\n",
    "df_paises_continentes_ciudades = pd.DataFrame(dict_paises_continentes_ciudades)\n",
    "df_paises_continentes_ciudades"
   ]
  },
  {
   "cell_type": "code",
   "execution_count": 23,
   "id": "10fd45b2",
   "metadata": {},
   "outputs": [],
   "source": [
    "df_paises_continentes_ciudades= df_paises_continentes_ciudades.rename(\n",
    "    columns={'pais':'nombre_pais_destino', 'continente':'nombre_continente'})"
   ]
  },
  {
   "cell_type": "code",
   "execution_count": 24,
   "id": "4dfdb812",
   "metadata": {},
   "outputs": [
    {
     "data": {
      "application/vnd.microsoft.datawrangler.viewer.v0+json": {
       "columns": [
        {
         "name": "index",
         "rawType": "int64",
         "type": "integer"
        },
        {
         "name": "nombre_pais_destino",
         "rawType": "object",
         "type": "string"
        },
        {
         "name": "nombre_continente",
         "rawType": "object",
         "type": "string"
        }
       ],
       "conversionMethod": "pd.DataFrame",
       "ref": "f7e14ae9-899f-4166-94e9-6bf9660fed44",
       "rows": [
        [
         "0",
         "Información desconocida",
         "Información desconocida"
        ],
        [
         "1",
         "Chequia",
         "Europa"
        ]
       ],
       "shape": {
        "columns": 2,
        "rows": 2
       }
      },
      "text/html": [
       "<div>\n",
       "<style scoped>\n",
       "    .dataframe tbody tr th:only-of-type {\n",
       "        vertical-align: middle;\n",
       "    }\n",
       "\n",
       "    .dataframe tbody tr th {\n",
       "        vertical-align: top;\n",
       "    }\n",
       "\n",
       "    .dataframe thead th {\n",
       "        text-align: right;\n",
       "    }\n",
       "</style>\n",
       "<table border=\"1\" class=\"dataframe\">\n",
       "  <thead>\n",
       "    <tr style=\"text-align: right;\">\n",
       "      <th></th>\n",
       "      <th>nombre_pais_destino</th>\n",
       "      <th>nombre_continente</th>\n",
       "    </tr>\n",
       "  </thead>\n",
       "  <tbody>\n",
       "    <tr>\n",
       "      <th>0</th>\n",
       "      <td>Información desconocida</td>\n",
       "      <td>Información desconocida</td>\n",
       "    </tr>\n",
       "    <tr>\n",
       "      <th>1</th>\n",
       "      <td>Chequia</td>\n",
       "      <td>Europa</td>\n",
       "    </tr>\n",
       "  </tbody>\n",
       "</table>\n",
       "</div>"
      ],
      "text/plain": [
       "       nombre_pais_destino        nombre_continente\n",
       "0  Información desconocida  Información desconocida\n",
       "1                  Chequia                   Europa"
      ]
     },
     "execution_count": 24,
     "metadata": {},
     "output_type": "execute_result"
    }
   ],
   "source": [
    "df_paises_continentes_ciudades"
   ]
  },
  {
   "cell_type": "markdown",
   "id": "affb9937",
   "metadata": {},
   "source": [
    "#### d) Uno los 3 DF para conseguir una única tabla con todos los paises y continentes"
   ]
  },
  {
   "cell_type": "code",
   "execution_count": 25,
   "id": "04d62bc9",
   "metadata": {},
   "outputs": [
    {
     "data": {
      "application/vnd.microsoft.datawrangler.viewer.v0+json": {
       "columns": [
        {
         "name": "index",
         "rawType": "int64",
         "type": "integer"
        },
        {
         "name": "nombre_pais_destino",
         "rawType": "object",
         "type": "string"
        },
        {
         "name": "nombre_continente",
         "rawType": "object",
         "type": "string"
        }
       ],
       "conversionMethod": "pd.DataFrame",
       "ref": "68399601-0c23-4529-967f-55af25b53c29",
       "rows": [
        [
         "0",
         "Albania",
         "Europa"
        ],
        [
         "1",
         "Alemania",
         "Europa"
        ],
        [
         "2",
         "Andorra",
         "Europa"
        ],
        [
         "3",
         "Angola",
         "África"
        ],
        [
         "4",
         "Antigua",
         "América"
        ],
        [
         "5",
         "Arabia Saudí",
         "Asia"
        ],
        [
         "6",
         "Argelia",
         "África"
        ],
        [
         "7",
         "Argentina",
         "América"
        ],
        [
         "8",
         "Armenia",
         "Europa"
        ],
        [
         "9",
         "Australia",
         "Oceanía"
        ],
        [
         "10",
         "Austria",
         "Europa"
        ],
        [
         "11",
         "Azerbaiyán",
         "Asia"
        ],
        [
         "12",
         "Bahamas",
         "América"
        ],
        [
         "13",
         "Bahréin",
         "Asia"
        ],
        [
         "14",
         "Bangladesh",
         "Asia"
        ],
        [
         "15",
         "Barbados",
         "América"
        ],
        [
         "16",
         "Belarús",
         "Europa"
        ],
        [
         "17",
         "Belice",
         "América"
        ],
        [
         "18",
         "Benin",
         "África"
        ],
        [
         "19",
         "Bolivia",
         "América"
        ],
        [
         "20",
         "Bosnia y Herzegovina",
         "Europa"
        ],
        [
         "21",
         "Botswana",
         "África"
        ],
        [
         "22",
         "Brasil",
         "América"
        ],
        [
         "23",
         "Bulgaria",
         "Europa"
        ],
        [
         "24",
         "Burkina Faso",
         "África"
        ],
        [
         "25",
         "Bután",
         "Asia"
        ],
        [
         "26",
         "Bélgica",
         "Europa"
        ],
        [
         "27",
         "Cabo Verde",
         "África"
        ],
        [
         "28",
         "Camboya",
         "Asia"
        ],
        [
         "29",
         "Camerún",
         "África"
        ],
        [
         "30",
         "Canadá",
         "América"
        ],
        [
         "31",
         "Chad",
         "África"
        ],
        [
         "32",
         "Chile",
         "América"
        ],
        [
         "33",
         "China",
         "Asia"
        ],
        [
         "34",
         "Chipre",
         "Europa"
        ],
        [
         "35",
         "Colombia",
         "América"
        ],
        [
         "36",
         "Corea Del Sur",
         "Asia"
        ],
        [
         "37",
         "Costa Rica",
         "América"
        ],
        [
         "38",
         "Costa de Marfil",
         "África"
        ],
        [
         "39",
         "Croacia",
         "Europa"
        ],
        [
         "40",
         "Cuba",
         "América"
        ],
        [
         "41",
         "Dinamarca",
         "Europa"
        ],
        [
         "42",
         "Djibouti",
         "África"
        ],
        [
         "43",
         "Ecuador",
         "América"
        ],
        [
         "44",
         "Egipto",
         "África"
        ],
        [
         "45",
         "El Salvador",
         "América"
        ],
        [
         "46",
         "Emiratos Árabes Unidos",
         "Asia"
        ],
        [
         "47",
         "Eslovenia",
         "Europa"
        ],
        [
         "48",
         "Estados Unidos",
         "América"
        ],
        [
         "49",
         "Estonia",
         "Europa"
        ]
       ],
       "shape": {
        "columns": 2,
        "rows": 189
       }
      },
      "text/html": [
       "<div>\n",
       "<style scoped>\n",
       "    .dataframe tbody tr th:only-of-type {\n",
       "        vertical-align: middle;\n",
       "    }\n",
       "\n",
       "    .dataframe tbody tr th {\n",
       "        vertical-align: top;\n",
       "    }\n",
       "\n",
       "    .dataframe thead th {\n",
       "        text-align: right;\n",
       "    }\n",
       "</style>\n",
       "<table border=\"1\" class=\"dataframe\">\n",
       "  <thead>\n",
       "    <tr style=\"text-align: right;\">\n",
       "      <th></th>\n",
       "      <th>nombre_pais_destino</th>\n",
       "      <th>nombre_continente</th>\n",
       "    </tr>\n",
       "  </thead>\n",
       "  <tbody>\n",
       "    <tr>\n",
       "      <th>0</th>\n",
       "      <td>Albania</td>\n",
       "      <td>Europa</td>\n",
       "    </tr>\n",
       "    <tr>\n",
       "      <th>1</th>\n",
       "      <td>Alemania</td>\n",
       "      <td>Europa</td>\n",
       "    </tr>\n",
       "    <tr>\n",
       "      <th>2</th>\n",
       "      <td>Andorra</td>\n",
       "      <td>Europa</td>\n",
       "    </tr>\n",
       "    <tr>\n",
       "      <th>3</th>\n",
       "      <td>Angola</td>\n",
       "      <td>África</td>\n",
       "    </tr>\n",
       "    <tr>\n",
       "      <th>4</th>\n",
       "      <td>Antigua</td>\n",
       "      <td>América</td>\n",
       "    </tr>\n",
       "    <tr>\n",
       "      <th>...</th>\n",
       "      <td>...</td>\n",
       "      <td>...</td>\n",
       "    </tr>\n",
       "    <tr>\n",
       "      <th>184</th>\n",
       "      <td>Turks and Caicos</td>\n",
       "      <td>América</td>\n",
       "    </tr>\n",
       "    <tr>\n",
       "      <th>185</th>\n",
       "      <td>Turquía</td>\n",
       "      <td>Asia</td>\n",
       "    </tr>\n",
       "    <tr>\n",
       "      <th>186</th>\n",
       "      <td>Zanzíbar</td>\n",
       "      <td>África</td>\n",
       "    </tr>\n",
       "    <tr>\n",
       "      <th>187</th>\n",
       "      <td>Información desconocida</td>\n",
       "      <td>Información desconocida</td>\n",
       "    </tr>\n",
       "    <tr>\n",
       "      <th>188</th>\n",
       "      <td>Chequia</td>\n",
       "      <td>Europa</td>\n",
       "    </tr>\n",
       "  </tbody>\n",
       "</table>\n",
       "<p>189 rows × 2 columns</p>\n",
       "</div>"
      ],
      "text/plain": [
       "         nombre_pais_destino        nombre_continente\n",
       "0                    Albania                   Europa\n",
       "1                   Alemania                   Europa\n",
       "2                    Andorra                   Europa\n",
       "3                     Angola                   África\n",
       "4                    Antigua                  América\n",
       "..                       ...                      ...\n",
       "184         Turks and Caicos                  América\n",
       "185                  Turquía                     Asia\n",
       "186                 Zanzíbar                   África\n",
       "187  Información desconocida  Información desconocida\n",
       "188                  Chequia                   Europa\n",
       "\n",
       "[189 rows x 2 columns]"
      ]
     },
     "execution_count": 25,
     "metadata": {},
     "output_type": "execute_result"
    }
   ],
   "source": [
    "df_paises_continentes_totales=pd.concat(\n",
    "    [df_paises_continentes_turismos_emisor,df_paises_continentes_escrapeo, df_paises_continentes_ciudades], axis=0)\n",
    "df_paises_continentes_totales = df_paises_continentes_totales.drop_duplicates(['nombre_pais_destino', 'nombre_continente']).reset_index(drop=True)\n",
    "df_paises_continentes_totales\n",
    "\n"
   ]
  }
 ],
 "metadata": {
  "kernelspec": {
   "display_name": "venv",
   "language": "python",
   "name": "python3"
  },
  "language_info": {
   "codemirror_mode": {
    "name": "ipython",
    "version": 3
   },
   "file_extension": ".py",
   "mimetype": "text/x-python",
   "name": "python",
   "nbconvert_exporter": "python",
   "pygments_lexer": "ipython3",
   "version": "3.12.5"
  }
 },
 "nbformat": 4,
 "nbformat_minor": 5
}
