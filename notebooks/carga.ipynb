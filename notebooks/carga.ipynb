{
 "cells": [
  {
   "cell_type": "code",
   "execution_count": 1,
   "id": "973ef613",
   "metadata": {},
   "outputs": [],
   "source": [
    "import pandas as pd\n",
    "import numpy as np\n",
    "import psycopg2\n",
    "import os\n",
    "from dotenv import load_dotenv\n",
    "import sys #permite navegar por el sistema\n",
    "sys.path.append(\"../\") #solo aplica al soporte\n",
    "import os\n",
    "from dotenv import load_dotenv\n",
    "from src.etl import load as lo #con jupyter\n",
    "import unicodedata"
   ]
  },
  {
   "cell_type": "code",
   "execution_count": 2,
   "id": "51552726",
   "metadata": {},
   "outputs": [
    {
     "data": {
      "text/plain": [
       "True"
      ]
     },
     "execution_count": 2,
     "metadata": {},
     "output_type": "execute_result"
    }
   ],
   "source": [
    "load_dotenv()"
   ]
  },
  {
   "cell_type": "code",
   "execution_count": 3,
   "id": "f8d7fcad",
   "metadata": {},
   "outputs": [],
   "source": [
    "#Llamamos a la variable de entorno\n",
    "DB_NAME = os.getenv(\"DB_NAME\")\n",
    "DB_USER=os.getenv(\"DB_USER\")\n",
    "DB_PASSWORD = os.getenv(\"DB_PASSWORD\")\n",
    "DB_HOST= os.getenv(\"DB_HOST\")\n",
    "DB_PORT = os.getenv(\"DB_PORT\")"
   ]
  },
  {
   "cell_type": "code",
   "execution_count": 4,
   "id": "9f2343eb",
   "metadata": {},
   "outputs": [],
   "source": [
    "conn, cur = lo.crear_conexión()"
   ]
  },
  {
   "cell_type": "code",
   "execution_count": 5,
   "id": "7d1f0395",
   "metadata": {},
   "outputs": [
    {
     "data": {
      "text/plain": [
       "('PostgreSQL 16.4, compiled by Visual C++ build 1940, 64-bit',)"
      ]
     },
     "execution_count": 5,
     "metadata": {},
     "output_type": "execute_result"
    }
   ],
   "source": [
    "#Comprobamos que la conexión está bien realizada:\n",
    "cur.execute(\"SELECT version();\")\n",
    "cur.fetchone() #para que muestre el resultado de la query anterior"
   ]
  },
  {
   "cell_type": "markdown",
   "id": "495d1d61",
   "metadata": {},
   "source": [
    "# Creación de los datos para las tablas:"
   ]
  },
  {
   "cell_type": "code",
   "execution_count": 6,
   "id": "c76983be",
   "metadata": {},
   "outputs": [],
   "source": [
    "#Importo los df procesados:\n",
    "ARCHIVO_GUARDAR_ESCRAPEO_VIAJES_PROCESADOS=os.getenv('ARCHIVO_GUARDAR_ESCRAPEO_VIAJES_PROCESADOS')\n",
    "ARCHIVO_GUARDAR_CONTINENTES_PROCESADOS =os.getenv('ARCHIVO_GUARDAR_CONTINENTES_PROCESADOS')\n",
    "ARCHIVO_GUARDAR_ITINERARIOS_PROCESADOS=os.getenv('ARCHIVO_GUARDAR_ITINERARIOS_PROCESADOS')\n",
    "ARCHIVO_GUARDAR_DATOS_API_PROCESADOS=os.getenv('ARCHIVO_GUARDAR_DATOS_API_PROCESADOS')\n",
    "ARCHIVO_GUARDAR_ESCRAPEO_API_OPENCAGE=os.getenv('ARCHIVO_GUARDAR_ESCRAPEO_API_OPENCAGE')"
   ]
  },
  {
   "cell_type": "markdown",
   "id": "1cbb8b63",
   "metadata": {},
   "source": [
    "## 1. Tabla pais_destino"
   ]
  },
  {
   "cell_type": "markdown",
   "id": "6803d681",
   "metadata": {},
   "source": [
    "###  1.1 Preparación de los datos: Unión de los paises y continentes tanto escrapeados como obtenidos de la API de turismo emisor"
   ]
  },
  {
   "cell_type": "markdown",
   "id": "76ae276a",
   "metadata": {},
   "source": [
    "#### a) Turismo emisor"
   ]
  },
  {
   "cell_type": "code",
   "execution_count": 7,
   "id": "f97538ea",
   "metadata": {},
   "outputs": [
    {
     "data": {
      "text/plain": [
       "Index(['Unnamed: 0', 'AÑO', 'MES', 'CCAA_ORIGEN', 'CONTINENTE_DESTINO',\n",
       "       'PAIS_DESTINO', 'TURISTAS', 'PERNOCTACIONES', 'ESTANCIA_MEDIA'],\n",
       "      dtype='object')"
      ]
     },
     "execution_count": 7,
     "metadata": {},
     "output_type": "execute_result"
    }
   ],
   "source": [
    "df_turismo_emisor_procesado=pd.read_csv(ARCHIVO_GUARDAR_DATOS_API_PROCESADOS)\n",
    "df_turismo_emisor_procesado.columns"
   ]
  },
  {
   "cell_type": "code",
   "execution_count": 8,
   "id": "3c723773",
   "metadata": {},
   "outputs": [
    {
     "data": {
      "application/vnd.microsoft.datawrangler.viewer.v0+json": {
       "columns": [
        {
         "name": "index",
         "rawType": "int64",
         "type": "integer"
        },
        {
         "name": "Unnamed: 0",
         "rawType": "int64",
         "type": "integer"
        },
        {
         "name": "AÑO",
         "rawType": "int64",
         "type": "integer"
        },
        {
         "name": "MES",
         "rawType": "int64",
         "type": "integer"
        },
        {
         "name": "CCAA_ORIGEN",
         "rawType": "object",
         "type": "string"
        },
        {
         "name": "CONTINENTE_DESTINO",
         "rawType": "object",
         "type": "string"
        },
        {
         "name": "PAIS_DESTINO",
         "rawType": "object",
         "type": "string"
        },
        {
         "name": "TURISTAS",
         "rawType": "object",
         "type": "string"
        },
        {
         "name": "PERNOCTACIONES",
         "rawType": "object",
         "type": "string"
        },
        {
         "name": "ESTANCIA_MEDIA",
         "rawType": "object",
         "type": "string"
        }
       ],
       "conversionMethod": "pd.DataFrame",
       "ref": "5c6a753c-15ac-4ec6-91c7-e030102fdcd3",
       "rows": [
        [
         "0",
         "0",
         "2019",
         "7",
         "Andalucia",
         "America",
         "Argentina",
         "419,0",
         "3616,0",
         "8,6"
        ],
        [
         "1",
         "1",
         "2019",
         "7",
         "Andalucia",
         "America",
         "Bolivia",
         "61,0",
         "486,0",
         "8,0"
        ],
        [
         "2",
         "2",
         "2019",
         "7",
         "Andalucia",
         "America",
         "Brasil",
         "277,0",
         "2214,0",
         "8,0"
        ],
        [
         "3",
         "3",
         "2019",
         "7",
         "Andalucia",
         "America",
         "Canada",
         "483,0",
         "6159,0",
         "12,8"
        ],
        [
         "4",
         "4",
         "2019",
         "7",
         "Andalucia",
         "America",
         "Chile",
         "242,0",
         "2068,0",
         "8,5"
        ]
       ],
       "shape": {
        "columns": 9,
        "rows": 5
       }
      },
      "text/html": [
       "<div>\n",
       "<style scoped>\n",
       "    .dataframe tbody tr th:only-of-type {\n",
       "        vertical-align: middle;\n",
       "    }\n",
       "\n",
       "    .dataframe tbody tr th {\n",
       "        vertical-align: top;\n",
       "    }\n",
       "\n",
       "    .dataframe thead th {\n",
       "        text-align: right;\n",
       "    }\n",
       "</style>\n",
       "<table border=\"1\" class=\"dataframe\">\n",
       "  <thead>\n",
       "    <tr style=\"text-align: right;\">\n",
       "      <th></th>\n",
       "      <th>Unnamed: 0</th>\n",
       "      <th>AÑO</th>\n",
       "      <th>MES</th>\n",
       "      <th>CCAA_ORIGEN</th>\n",
       "      <th>CONTINENTE_DESTINO</th>\n",
       "      <th>PAIS_DESTINO</th>\n",
       "      <th>TURISTAS</th>\n",
       "      <th>PERNOCTACIONES</th>\n",
       "      <th>ESTANCIA_MEDIA</th>\n",
       "    </tr>\n",
       "  </thead>\n",
       "  <tbody>\n",
       "    <tr>\n",
       "      <th>0</th>\n",
       "      <td>0</td>\n",
       "      <td>2019</td>\n",
       "      <td>7</td>\n",
       "      <td>Andalucia</td>\n",
       "      <td>America</td>\n",
       "      <td>Argentina</td>\n",
       "      <td>419,0</td>\n",
       "      <td>3616,0</td>\n",
       "      <td>8,6</td>\n",
       "    </tr>\n",
       "    <tr>\n",
       "      <th>1</th>\n",
       "      <td>1</td>\n",
       "      <td>2019</td>\n",
       "      <td>7</td>\n",
       "      <td>Andalucia</td>\n",
       "      <td>America</td>\n",
       "      <td>Bolivia</td>\n",
       "      <td>61,0</td>\n",
       "      <td>486,0</td>\n",
       "      <td>8,0</td>\n",
       "    </tr>\n",
       "    <tr>\n",
       "      <th>2</th>\n",
       "      <td>2</td>\n",
       "      <td>2019</td>\n",
       "      <td>7</td>\n",
       "      <td>Andalucia</td>\n",
       "      <td>America</td>\n",
       "      <td>Brasil</td>\n",
       "      <td>277,0</td>\n",
       "      <td>2214,0</td>\n",
       "      <td>8,0</td>\n",
       "    </tr>\n",
       "    <tr>\n",
       "      <th>3</th>\n",
       "      <td>3</td>\n",
       "      <td>2019</td>\n",
       "      <td>7</td>\n",
       "      <td>Andalucia</td>\n",
       "      <td>America</td>\n",
       "      <td>Canada</td>\n",
       "      <td>483,0</td>\n",
       "      <td>6159,0</td>\n",
       "      <td>12,8</td>\n",
       "    </tr>\n",
       "    <tr>\n",
       "      <th>4</th>\n",
       "      <td>4</td>\n",
       "      <td>2019</td>\n",
       "      <td>7</td>\n",
       "      <td>Andalucia</td>\n",
       "      <td>America</td>\n",
       "      <td>Chile</td>\n",
       "      <td>242,0</td>\n",
       "      <td>2068,0</td>\n",
       "      <td>8,5</td>\n",
       "    </tr>\n",
       "  </tbody>\n",
       "</table>\n",
       "</div>"
      ],
      "text/plain": [
       "   Unnamed: 0   AÑO  MES CCAA_ORIGEN CONTINENTE_DESTINO PAIS_DESTINO TURISTAS  \\\n",
       "0           0  2019    7   Andalucia            America    Argentina    419,0   \n",
       "1           1  2019    7   Andalucia            America      Bolivia     61,0   \n",
       "2           2  2019    7   Andalucia            America       Brasil    277,0   \n",
       "3           3  2019    7   Andalucia            America       Canada    483,0   \n",
       "4           4  2019    7   Andalucia            America        Chile    242,0   \n",
       "\n",
       "  PERNOCTACIONES ESTANCIA_MEDIA  \n",
       "0         3616,0            8,6  \n",
       "1          486,0            8,0  \n",
       "2         2214,0            8,0  \n",
       "3         6159,0           12,8  \n",
       "4         2068,0            8,5  "
      ]
     },
     "execution_count": 8,
     "metadata": {},
     "output_type": "execute_result"
    }
   ],
   "source": [
    "df_turismo_emisor_procesado.head()"
   ]
  },
  {
   "cell_type": "code",
   "execution_count": 9,
   "id": "2f0ef722",
   "metadata": {},
   "outputs": [
    {
     "data": {
      "text/plain": [
       "array(['America', 'Asia', 'Europa', 'Oceania', 'Africa'], dtype=object)"
      ]
     },
     "execution_count": 9,
     "metadata": {},
     "output_type": "execute_result"
    }
   ],
   "source": [
    "df_paises_continentes_turismos_emisor=df_turismo_emisor_procesado[['PAIS_DESTINO','CONTINENTE_DESTINO']]\n",
    "df_paises_continentes_turismos_emisor=df_paises_continentes_turismos_emisor.drop_duplicates()\n",
    "df_paises_continentes_turismos_emisor.CONTINENTE_DESTINO.unique()"
   ]
  },
  {
   "cell_type": "code",
   "execution_count": 10,
   "id": "373aa98c",
   "metadata": {},
   "outputs": [
    {
     "data": {
      "text/plain": [
       "Index(['PAIS_DESTINO', 'CONTINENTE_DESTINO'], dtype='object')"
      ]
     },
     "execution_count": 10,
     "metadata": {},
     "output_type": "execute_result"
    }
   ],
   "source": [
    "df_paises_continentes_turismos_emisor.columns"
   ]
  },
  {
   "cell_type": "code",
   "execution_count": 11,
   "id": "bdd9172e",
   "metadata": {},
   "outputs": [],
   "source": [
    "df_paises_continentes_turismos_emisor= df_paises_continentes_turismos_emisor.rename(\n",
    "    columns={'PAIS_DESTINO':'nombre_pais_destino', 'CONTINENTE_DESTINO':'nombre_continente'})\n",
    "df_paises_continentes_turismos_emisor= df_paises_continentes_turismos_emisor.sort_values(by='nombre_pais_destino').reset_index(drop=True)"
   ]
  },
  {
   "cell_type": "code",
   "execution_count": 12,
   "id": "e301f365",
   "metadata": {},
   "outputs": [
    {
     "data": {
      "application/vnd.microsoft.datawrangler.viewer.v0+json": {
       "columns": [
        {
         "name": "index",
         "rawType": "int64",
         "type": "integer"
        },
        {
         "name": "nombre_pais_destino",
         "rawType": "object",
         "type": "string"
        },
        {
         "name": "nombre_continente",
         "rawType": "object",
         "type": "string"
        }
       ],
       "conversionMethod": "pd.DataFrame",
       "ref": "759d47a2-47b5-462d-b1d1-c59ebef7cd9a",
       "rows": [
        [
         "0",
         "Albania",
         "Europa"
        ],
        [
         "1",
         "Alemania",
         "Europa"
        ],
        [
         "2",
         "Andorra",
         "Europa"
        ],
        [
         "3",
         "Angola",
         "Africa"
        ],
        [
         "4",
         "Antigua",
         "America"
        ],
        [
         "5",
         "Arabia Saudi",
         "Asia"
        ],
        [
         "6",
         "Argelia",
         "Africa"
        ],
        [
         "7",
         "Argentina",
         "America"
        ],
        [
         "8",
         "Armenia",
         "Europa"
        ],
        [
         "9",
         "Australia",
         "Oceania"
        ],
        [
         "10",
         "Austria",
         "Europa"
        ],
        [
         "11",
         "Azerbaiyan",
         "Asia"
        ],
        [
         "12",
         "Bahamas",
         "America"
        ],
        [
         "13",
         "Bahrein",
         "Asia"
        ],
        [
         "14",
         "Bangladesh",
         "Asia"
        ],
        [
         "15",
         "Barbados",
         "America"
        ],
        [
         "16",
         "Belarus",
         "Europa"
        ],
        [
         "17",
         "Belgica",
         "Europa"
        ],
        [
         "18",
         "Belice",
         "America"
        ],
        [
         "19",
         "Benin",
         "Africa"
        ],
        [
         "20",
         "Bolivia",
         "America"
        ],
        [
         "21",
         "Bosnia Y Herzegovina",
         "Europa"
        ],
        [
         "22",
         "Botswana",
         "Africa"
        ],
        [
         "23",
         "Brasil",
         "America"
        ],
        [
         "24",
         "Bulgaria",
         "Europa"
        ],
        [
         "25",
         "Burkina Faso",
         "Africa"
        ],
        [
         "26",
         "Butan",
         "Asia"
        ],
        [
         "27",
         "Cabo Verde",
         "Africa"
        ],
        [
         "28",
         "Camboya",
         "Asia"
        ],
        [
         "29",
         "Camerun",
         "Africa"
        ],
        [
         "30",
         "Canada",
         "America"
        ],
        [
         "31",
         "Chad",
         "Africa"
        ],
        [
         "32",
         "Chile",
         "America"
        ],
        [
         "33",
         "China",
         "Asia"
        ],
        [
         "34",
         "Chipre",
         "Europa"
        ],
        [
         "35",
         "Colombia",
         "America"
        ],
        [
         "36",
         "Corea Del Sur",
         "Asia"
        ],
        [
         "37",
         "Costa De Marfil",
         "Africa"
        ],
        [
         "38",
         "Costa Rica",
         "America"
        ],
        [
         "39",
         "Croacia",
         "Europa"
        ],
        [
         "40",
         "Cuba",
         "America"
        ],
        [
         "41",
         "Dinamarca",
         "Europa"
        ],
        [
         "42",
         "Djibouti",
         "Africa"
        ],
        [
         "43",
         "Ecuador",
         "America"
        ],
        [
         "44",
         "Egipto",
         "Africa"
        ],
        [
         "45",
         "El Salvador",
         "America"
        ],
        [
         "46",
         "Emiratos Arabes Unidos",
         "Asia"
        ],
        [
         "47",
         "Eslovenia",
         "Europa"
        ],
        [
         "48",
         "Estados Unidos",
         "America"
        ],
        [
         "49",
         "Estonia",
         "Europa"
        ]
       ],
       "shape": {
        "columns": 2,
        "rows": 158
       }
      },
      "text/html": [
       "<div>\n",
       "<style scoped>\n",
       "    .dataframe tbody tr th:only-of-type {\n",
       "        vertical-align: middle;\n",
       "    }\n",
       "\n",
       "    .dataframe tbody tr th {\n",
       "        vertical-align: top;\n",
       "    }\n",
       "\n",
       "    .dataframe thead th {\n",
       "        text-align: right;\n",
       "    }\n",
       "</style>\n",
       "<table border=\"1\" class=\"dataframe\">\n",
       "  <thead>\n",
       "    <tr style=\"text-align: right;\">\n",
       "      <th></th>\n",
       "      <th>nombre_pais_destino</th>\n",
       "      <th>nombre_continente</th>\n",
       "    </tr>\n",
       "  </thead>\n",
       "  <tbody>\n",
       "    <tr>\n",
       "      <th>0</th>\n",
       "      <td>Albania</td>\n",
       "      <td>Europa</td>\n",
       "    </tr>\n",
       "    <tr>\n",
       "      <th>1</th>\n",
       "      <td>Alemania</td>\n",
       "      <td>Europa</td>\n",
       "    </tr>\n",
       "    <tr>\n",
       "      <th>2</th>\n",
       "      <td>Andorra</td>\n",
       "      <td>Europa</td>\n",
       "    </tr>\n",
       "    <tr>\n",
       "      <th>3</th>\n",
       "      <td>Angola</td>\n",
       "      <td>Africa</td>\n",
       "    </tr>\n",
       "    <tr>\n",
       "      <th>4</th>\n",
       "      <td>Antigua</td>\n",
       "      <td>America</td>\n",
       "    </tr>\n",
       "    <tr>\n",
       "      <th>...</th>\n",
       "      <td>...</td>\n",
       "      <td>...</td>\n",
       "    </tr>\n",
       "    <tr>\n",
       "      <th>153</th>\n",
       "      <td>Venezuela</td>\n",
       "      <td>America</td>\n",
       "    </tr>\n",
       "    <tr>\n",
       "      <th>154</th>\n",
       "      <td>Vietnam</td>\n",
       "      <td>Asia</td>\n",
       "    </tr>\n",
       "    <tr>\n",
       "      <th>155</th>\n",
       "      <td>Yemen</td>\n",
       "      <td>Asia</td>\n",
       "    </tr>\n",
       "    <tr>\n",
       "      <th>156</th>\n",
       "      <td>Zambia</td>\n",
       "      <td>Africa</td>\n",
       "    </tr>\n",
       "    <tr>\n",
       "      <th>157</th>\n",
       "      <td>Zimbabue</td>\n",
       "      <td>Africa</td>\n",
       "    </tr>\n",
       "  </tbody>\n",
       "</table>\n",
       "<p>158 rows × 2 columns</p>\n",
       "</div>"
      ],
      "text/plain": [
       "    nombre_pais_destino nombre_continente\n",
       "0               Albania            Europa\n",
       "1              Alemania            Europa\n",
       "2               Andorra            Europa\n",
       "3                Angola            Africa\n",
       "4               Antigua           America\n",
       "..                  ...               ...\n",
       "153           Venezuela           America\n",
       "154             Vietnam              Asia\n",
       "155               Yemen              Asia\n",
       "156              Zambia            Africa\n",
       "157            Zimbabue            Africa\n",
       "\n",
       "[158 rows x 2 columns]"
      ]
     },
     "execution_count": 12,
     "metadata": {},
     "output_type": "execute_result"
    }
   ],
   "source": [
    "df_paises_continentes_turismos_emisor"
   ]
  },
  {
   "cell_type": "markdown",
   "id": "4b9b9f11",
   "metadata": {},
   "source": [
    "#### b) Paises escrapeados"
   ]
  },
  {
   "cell_type": "code",
   "execution_count": 13,
   "id": "83bd2617",
   "metadata": {},
   "outputs": [
    {
     "data": {
      "text/plain": [
       "Index(['continente', 'pais', 'fecha_escrapeo', 'en_ultimo_escrapeo'], dtype='object')"
      ]
     },
     "execution_count": 13,
     "metadata": {},
     "output_type": "execute_result"
    }
   ],
   "source": [
    "df_paises_continentes_escrapeo = pd.read_pickle(ARCHIVO_GUARDAR_CONTINENTES_PROCESADOS)\n",
    "df_paises_continentes_escrapeo.columns"
   ]
  },
  {
   "cell_type": "code",
   "execution_count": 14,
   "id": "9d4c0d34",
   "metadata": {},
   "outputs": [
    {
     "data": {
      "application/vnd.microsoft.datawrangler.viewer.v0+json": {
       "columns": [
        {
         "name": "index",
         "rawType": "int64",
         "type": "integer"
        },
        {
         "name": "continente",
         "rawType": "object",
         "type": "string"
        },
        {
         "name": "pais",
         "rawType": "object",
         "type": "string"
        },
        {
         "name": "fecha_escrapeo",
         "rawType": "datetime64[ns]",
         "type": "datetime"
        },
        {
         "name": "en_ultimo_escrapeo",
         "rawType": "object",
         "type": "string"
        }
       ],
       "conversionMethod": "pd.DataFrame",
       "ref": "1b54c8f4-6324-47f4-b6c7-d08a69c2f7bf",
       "rows": [
        [
         "0",
         "Europa",
         "Albania",
         "2025-04-14 00:00:00",
         "Si"
        ],
        [
         "1",
         "Europa",
         "Alemania",
         "2025-04-14 00:00:00",
         "Si"
        ],
        [
         "2",
         "America",
         "Antigua",
         "2025-04-14 00:00:00",
         "Si"
        ],
        [
         "3",
         "America",
         "Argentina",
         "2025-04-14 00:00:00",
         "Si"
        ],
        [
         "4",
         "America",
         "Aruba",
         "2025-04-14 00:00:00",
         "Si"
        ]
       ],
       "shape": {
        "columns": 4,
        "rows": 5
       }
      },
      "text/html": [
       "<div>\n",
       "<style scoped>\n",
       "    .dataframe tbody tr th:only-of-type {\n",
       "        vertical-align: middle;\n",
       "    }\n",
       "\n",
       "    .dataframe tbody tr th {\n",
       "        vertical-align: top;\n",
       "    }\n",
       "\n",
       "    .dataframe thead th {\n",
       "        text-align: right;\n",
       "    }\n",
       "</style>\n",
       "<table border=\"1\" class=\"dataframe\">\n",
       "  <thead>\n",
       "    <tr style=\"text-align: right;\">\n",
       "      <th></th>\n",
       "      <th>continente</th>\n",
       "      <th>pais</th>\n",
       "      <th>fecha_escrapeo</th>\n",
       "      <th>en_ultimo_escrapeo</th>\n",
       "    </tr>\n",
       "  </thead>\n",
       "  <tbody>\n",
       "    <tr>\n",
       "      <th>0</th>\n",
       "      <td>Europa</td>\n",
       "      <td>Albania</td>\n",
       "      <td>2025-04-14</td>\n",
       "      <td>Si</td>\n",
       "    </tr>\n",
       "    <tr>\n",
       "      <th>1</th>\n",
       "      <td>Europa</td>\n",
       "      <td>Alemania</td>\n",
       "      <td>2025-04-14</td>\n",
       "      <td>Si</td>\n",
       "    </tr>\n",
       "    <tr>\n",
       "      <th>2</th>\n",
       "      <td>America</td>\n",
       "      <td>Antigua</td>\n",
       "      <td>2025-04-14</td>\n",
       "      <td>Si</td>\n",
       "    </tr>\n",
       "    <tr>\n",
       "      <th>3</th>\n",
       "      <td>America</td>\n",
       "      <td>Argentina</td>\n",
       "      <td>2025-04-14</td>\n",
       "      <td>Si</td>\n",
       "    </tr>\n",
       "    <tr>\n",
       "      <th>4</th>\n",
       "      <td>America</td>\n",
       "      <td>Aruba</td>\n",
       "      <td>2025-04-14</td>\n",
       "      <td>Si</td>\n",
       "    </tr>\n",
       "  </tbody>\n",
       "</table>\n",
       "</div>"
      ],
      "text/plain": [
       "  continente       pais fecha_escrapeo en_ultimo_escrapeo\n",
       "0     Europa    Albania     2025-04-14                 Si\n",
       "1     Europa   Alemania     2025-04-14                 Si\n",
       "2    America    Antigua     2025-04-14                 Si\n",
       "3    America  Argentina     2025-04-14                 Si\n",
       "4    America      Aruba     2025-04-14                 Si"
      ]
     },
     "execution_count": 14,
     "metadata": {},
     "output_type": "execute_result"
    }
   ],
   "source": [
    "df_paises_continentes_escrapeo.head()"
   ]
  },
  {
   "cell_type": "code",
   "execution_count": 15,
   "id": "bbbb5306",
   "metadata": {},
   "outputs": [],
   "source": [
    "df_paises_continentes_escrapeo=df_paises_continentes_escrapeo[['pais','continente']]\n",
    "df_paises_continentes_escrapeo= df_paises_continentes_escrapeo.drop_duplicates()"
   ]
  },
  {
   "cell_type": "code",
   "execution_count": 16,
   "id": "5e30c975",
   "metadata": {},
   "outputs": [],
   "source": [
    "df_paises_continentes_escrapeo= df_paises_continentes_escrapeo.rename(\n",
    "    columns={'pais':'nombre_pais_destino', 'continente':'nombre_continente'})"
   ]
  },
  {
   "cell_type": "code",
   "execution_count": 17,
   "id": "da6f612f",
   "metadata": {},
   "outputs": [
    {
     "data": {
      "application/vnd.microsoft.datawrangler.viewer.v0+json": {
       "columns": [
        {
         "name": "index",
         "rawType": "int64",
         "type": "integer"
        },
        {
         "name": "nombre_pais_destino",
         "rawType": "object",
         "type": "string"
        },
        {
         "name": "nombre_continente",
         "rawType": "object",
         "type": "string"
        }
       ],
       "conversionMethod": "pd.DataFrame",
       "ref": "66df0978-b103-4d03-a7a9-4bf9c429780c",
       "rows": [
        [
         "0",
         "Albania",
         "Europa"
        ],
        [
         "1",
         "Alemania",
         "Europa"
        ],
        [
         "2",
         "Antigua",
         "America"
        ],
        [
         "3",
         "Arabia Saudi",
         "Asia"
        ],
        [
         "4",
         "Argentina",
         "America"
        ],
        [
         "5",
         "Armenia",
         "Asia"
        ],
        [
         "6",
         "Aruba",
         "America"
        ],
        [
         "7",
         "Australia",
         "Oceania"
        ],
        [
         "8",
         "Austria",
         "Europa"
        ],
        [
         "9",
         "Bahamas",
         "America"
        ],
        [
         "10",
         "Barbados",
         "America"
        ],
        [
         "11",
         "Belgica",
         "Europa"
        ],
        [
         "12",
         "Belice",
         "America"
        ],
        [
         "13",
         "Bolivia",
         "America"
        ],
        [
         "14",
         "Bosnia Y Herzegovina",
         "Europa"
        ],
        [
         "15",
         "Botsuana",
         "Africa"
        ],
        [
         "16",
         "Brasil",
         "America"
        ],
        [
         "17",
         "Bulgaria",
         "Europa"
        ],
        [
         "18",
         "Butan",
         "Asia"
        ],
        [
         "19",
         "Cabo Verde",
         "Africa"
        ],
        [
         "20",
         "Camboya",
         "Asia"
        ],
        [
         "21",
         "Canada",
         "America"
        ],
        [
         "22",
         "Chile",
         "America"
        ],
        [
         "23",
         "China",
         "Asia"
        ],
        [
         "24",
         "Chipre",
         "Europa"
        ],
        [
         "25",
         "Colombia",
         "America"
        ],
        [
         "26",
         "Corea Del Sur",
         "Asia"
        ],
        [
         "27",
         "Costa Rica",
         "America"
        ],
        [
         "28",
         "Croacia",
         "Europa"
        ],
        [
         "29",
         "Curacao",
         "America"
        ],
        [
         "30",
         "Dinamarca",
         "Europa"
        ],
        [
         "31",
         "Dominica",
         "America"
        ],
        [
         "32",
         "Ecuador",
         "America"
        ],
        [
         "33",
         "Egipto",
         "Africa"
        ],
        [
         "34",
         "El Salvador",
         "America"
        ],
        [
         "35",
         "Emiratos Arabes Unidos",
         "Asia"
        ],
        [
         "36",
         "Eslovaquia",
         "Europa"
        ],
        [
         "37",
         "Eslovenia",
         "Europa"
        ],
        [
         "38",
         "Espana",
         "Europa"
        ],
        [
         "39",
         "Estados Unidos",
         "America"
        ],
        [
         "40",
         "Estonia",
         "Europa"
        ],
        [
         "41",
         "Fiji",
         "Oceania"
        ],
        [
         "42",
         "Filipinas",
         "Asia"
        ],
        [
         "43",
         "Finlandia",
         "Europa"
        ],
        [
         "44",
         "Francia",
         "Europa"
        ],
        [
         "45",
         "Georgia",
         "America"
        ],
        [
         "46",
         "Granada",
         "America"
        ],
        [
         "47",
         "Grecia",
         "Europa"
        ],
        [
         "48",
         "Guadalupe",
         "America"
        ],
        [
         "49",
         "Guatemala",
         "America"
        ]
       ],
       "shape": {
        "columns": 2,
        "rows": 125
       }
      },
      "text/html": [
       "<div>\n",
       "<style scoped>\n",
       "    .dataframe tbody tr th:only-of-type {\n",
       "        vertical-align: middle;\n",
       "    }\n",
       "\n",
       "    .dataframe tbody tr th {\n",
       "        vertical-align: top;\n",
       "    }\n",
       "\n",
       "    .dataframe thead th {\n",
       "        text-align: right;\n",
       "    }\n",
       "</style>\n",
       "<table border=\"1\" class=\"dataframe\">\n",
       "  <thead>\n",
       "    <tr style=\"text-align: right;\">\n",
       "      <th></th>\n",
       "      <th>nombre_pais_destino</th>\n",
       "      <th>nombre_continente</th>\n",
       "    </tr>\n",
       "  </thead>\n",
       "  <tbody>\n",
       "    <tr>\n",
       "      <th>0</th>\n",
       "      <td>Albania</td>\n",
       "      <td>Europa</td>\n",
       "    </tr>\n",
       "    <tr>\n",
       "      <th>1</th>\n",
       "      <td>Alemania</td>\n",
       "      <td>Europa</td>\n",
       "    </tr>\n",
       "    <tr>\n",
       "      <th>2</th>\n",
       "      <td>Antigua</td>\n",
       "      <td>America</td>\n",
       "    </tr>\n",
       "    <tr>\n",
       "      <th>3</th>\n",
       "      <td>Arabia Saudi</td>\n",
       "      <td>Asia</td>\n",
       "    </tr>\n",
       "    <tr>\n",
       "      <th>4</th>\n",
       "      <td>Argentina</td>\n",
       "      <td>America</td>\n",
       "    </tr>\n",
       "    <tr>\n",
       "      <th>...</th>\n",
       "      <td>...</td>\n",
       "      <td>...</td>\n",
       "    </tr>\n",
       "    <tr>\n",
       "      <th>120</th>\n",
       "      <td>Uruguay</td>\n",
       "      <td>America</td>\n",
       "    </tr>\n",
       "    <tr>\n",
       "      <th>121</th>\n",
       "      <td>Uzbekistan</td>\n",
       "      <td>Asia</td>\n",
       "    </tr>\n",
       "    <tr>\n",
       "      <th>122</th>\n",
       "      <td>Vietnam</td>\n",
       "      <td>Asia</td>\n",
       "    </tr>\n",
       "    <tr>\n",
       "      <th>123</th>\n",
       "      <td>Zanzibar</td>\n",
       "      <td>Africa</td>\n",
       "    </tr>\n",
       "    <tr>\n",
       "      <th>124</th>\n",
       "      <td>Zimbabue</td>\n",
       "      <td>Africa</td>\n",
       "    </tr>\n",
       "  </tbody>\n",
       "</table>\n",
       "<p>125 rows × 2 columns</p>\n",
       "</div>"
      ],
      "text/plain": [
       "    nombre_pais_destino nombre_continente\n",
       "0               Albania            Europa\n",
       "1              Alemania            Europa\n",
       "2               Antigua           America\n",
       "3          Arabia Saudi              Asia\n",
       "4             Argentina           America\n",
       "..                  ...               ...\n",
       "120             Uruguay           America\n",
       "121          Uzbekistan              Asia\n",
       "122             Vietnam              Asia\n",
       "123            Zanzibar            Africa\n",
       "124            Zimbabue            Africa\n",
       "\n",
       "[125 rows x 2 columns]"
      ]
     },
     "execution_count": 17,
     "metadata": {},
     "output_type": "execute_result"
    }
   ],
   "source": [
    "df_paises_continentes_escrapeo= df_paises_continentes_escrapeo.sort_values(by='nombre_pais_destino').reset_index(drop=True)\n",
    "df_paises_continentes_escrapeo"
   ]
  },
  {
   "cell_type": "markdown",
   "id": "46c77f5d",
   "metadata": {},
   "source": [
    "#### c) Paises en itinerarios ciudades"
   ]
  },
  {
   "cell_type": "code",
   "execution_count": 18,
   "id": "71582731",
   "metadata": {},
   "outputs": [
    {
     "data": {
      "text/plain": [
       "Index(['itinerario_modificado_para_dividir', 'ciudad', 'pais_correcto'], dtype='object')"
      ]
     },
     "execution_count": 18,
     "metadata": {},
     "output_type": "execute_result"
    }
   ],
   "source": [
    "df_itinerarios_ciudades = pd.read_pickle(ARCHIVO_GUARDAR_ITINERARIOS_PROCESADOS)\n",
    "df_itinerarios_ciudades.columns"
   ]
  },
  {
   "cell_type": "code",
   "execution_count": 19,
   "id": "b1429557",
   "metadata": {},
   "outputs": [],
   "source": [
    "df_itinerarios_ciudades_pais_continentes = pd.DataFrame()\n",
    "df_itinerarios_ciudades_pais_continentes['pais'] = df_itinerarios_ciudades['pais_correcto'].drop_duplicates().reset_index(drop=True)"
   ]
  },
  {
   "cell_type": "code",
   "execution_count": 20,
   "id": "725dd463",
   "metadata": {},
   "outputs": [
    {
     "data": {
      "application/vnd.microsoft.datawrangler.viewer.v0+json": {
       "columns": [
        {
         "name": "index",
         "rawType": "int64",
         "type": "integer"
        },
        {
         "name": "pais",
         "rawType": "object",
         "type": "string"
        }
       ],
       "conversionMethod": "pd.DataFrame",
       "ref": "06645c18-8ac5-48b4-ac69-9c68fd5293c5",
       "rows": [
        [
         "0",
         "Alemania"
        ],
        [
         "1",
         "Argentina"
        ],
        [
         "2",
         "Aruba"
        ],
        [
         "3",
         "Australia"
        ],
        [
         "4",
         "Austria"
        ],
        [
         "5",
         "Bahamas"
        ],
        [
         "6",
         "Barbados"
        ],
        [
         "7",
         "Bolivia"
        ],
        [
         "8",
         "Brasil"
        ],
        [
         "9",
         "Bulgaria"
        ],
        [
         "10",
         "Cabo Verde"
        ],
        [
         "11",
         "Camboya"
        ],
        [
         "12",
         "Canada"
        ],
        [
         "13",
         "Chile"
        ],
        [
         "14",
         "China"
        ],
        [
         "15",
         "Chipre"
        ],
        [
         "16",
         "Colombia"
        ],
        [
         "17",
         "Corea Del Sur"
        ],
        [
         "18",
         "Costa Rica"
        ],
        [
         "19",
         "Croacia"
        ],
        [
         "20",
         "Curacao"
        ],
        [
         "21",
         "Dinamarca"
        ],
        [
         "22",
         "Dominica"
        ],
        [
         "23",
         "Ecuador"
        ],
        [
         "24",
         "Egipto"
        ],
        [
         "25",
         "El Salvador"
        ],
        [
         "26",
         "Emiratos Arabes Unidos"
        ],
        [
         "27",
         "Eslovaquia"
        ],
        [
         "28",
         "Eslovenia"
        ],
        [
         "29",
         "Espana"
        ],
        [
         "30",
         "Estados Unidos"
        ],
        [
         "31",
         "Fiji"
        ],
        [
         "32",
         "Filipinas"
        ],
        [
         "33",
         "Finlandia"
        ],
        [
         "34",
         "Francia"
        ],
        [
         "35",
         "Grecia"
        ],
        [
         "36",
         "Guadalupe"
        ],
        [
         "37",
         "Guatemala"
        ],
        [
         "38",
         "Honduras"
        ],
        [
         "39",
         "Hungria"
        ],
        [
         "40",
         "India"
        ],
        [
         "41",
         "Indonesia"
        ],
        [
         "42",
         "Irlanda"
        ],
        [
         "43",
         "Islandia"
        ],
        [
         "44",
         "Islas Caiman"
        ],
        [
         "45",
         "Islas Cook"
        ],
        [
         "46",
         "Islas Feroe"
        ],
        [
         "47",
         "Italia"
        ],
        [
         "48",
         "Jamaica"
        ],
        [
         "49",
         "Japon"
        ]
       ],
       "shape": {
        "columns": 1,
        "rows": 128
       }
      },
      "text/html": [
       "<div>\n",
       "<style scoped>\n",
       "    .dataframe tbody tr th:only-of-type {\n",
       "        vertical-align: middle;\n",
       "    }\n",
       "\n",
       "    .dataframe tbody tr th {\n",
       "        vertical-align: top;\n",
       "    }\n",
       "\n",
       "    .dataframe thead th {\n",
       "        text-align: right;\n",
       "    }\n",
       "</style>\n",
       "<table border=\"1\" class=\"dataframe\">\n",
       "  <thead>\n",
       "    <tr style=\"text-align: right;\">\n",
       "      <th></th>\n",
       "      <th>pais</th>\n",
       "    </tr>\n",
       "  </thead>\n",
       "  <tbody>\n",
       "    <tr>\n",
       "      <th>0</th>\n",
       "      <td>Alemania</td>\n",
       "    </tr>\n",
       "    <tr>\n",
       "      <th>1</th>\n",
       "      <td>Argentina</td>\n",
       "    </tr>\n",
       "    <tr>\n",
       "      <th>2</th>\n",
       "      <td>Aruba</td>\n",
       "    </tr>\n",
       "    <tr>\n",
       "      <th>3</th>\n",
       "      <td>Australia</td>\n",
       "    </tr>\n",
       "    <tr>\n",
       "      <th>4</th>\n",
       "      <td>Austria</td>\n",
       "    </tr>\n",
       "    <tr>\n",
       "      <th>...</th>\n",
       "      <td>...</td>\n",
       "    </tr>\n",
       "    <tr>\n",
       "      <th>123</th>\n",
       "      <td>Macedonia Del Norte</td>\n",
       "    </tr>\n",
       "    <tr>\n",
       "      <th>124</th>\n",
       "      <td>Bosnia Y Herzegovina</td>\n",
       "    </tr>\n",
       "    <tr>\n",
       "      <th>125</th>\n",
       "      <td>Belice</td>\n",
       "    </tr>\n",
       "    <tr>\n",
       "      <th>126</th>\n",
       "      <td>Nigeria</td>\n",
       "    </tr>\n",
       "    <tr>\n",
       "      <th>127</th>\n",
       "      <td>Azerbaiyan</td>\n",
       "    </tr>\n",
       "  </tbody>\n",
       "</table>\n",
       "<p>128 rows × 1 columns</p>\n",
       "</div>"
      ],
      "text/plain": [
       "                     pais\n",
       "0                Alemania\n",
       "1               Argentina\n",
       "2                   Aruba\n",
       "3               Australia\n",
       "4                 Austria\n",
       "..                    ...\n",
       "123   Macedonia Del Norte\n",
       "124  Bosnia Y Herzegovina\n",
       "125                Belice\n",
       "126               Nigeria\n",
       "127            Azerbaiyan\n",
       "\n",
       "[128 rows x 1 columns]"
      ]
     },
     "execution_count": 20,
     "metadata": {},
     "output_type": "execute_result"
    }
   ],
   "source": [
    "df_itinerarios_ciudades_pais_continentes"
   ]
  },
  {
   "cell_type": "code",
   "execution_count": 21,
   "id": "0a45f286",
   "metadata": {},
   "outputs": [
    {
     "data": {
      "text/plain": [
       "Index(['pais', 'continente_api', 'pais_api', 'latitud', 'longitud', 'ciudad'], dtype='object')"
      ]
     },
     "execution_count": 21,
     "metadata": {},
     "output_type": "execute_result"
    }
   ],
   "source": [
    "df_opencage = pd.read_pickle(ARCHIVO_GUARDAR_ESCRAPEO_API_OPENCAGE)\n",
    "df_opencage.columns"
   ]
  },
  {
   "cell_type": "code",
   "execution_count": 22,
   "id": "5bc16b8f",
   "metadata": {},
   "outputs": [
    {
     "name": "stdout",
     "output_type": "stream",
     "text": [
      "Informacion Desconocida ERROR\n"
     ]
    },
    {
     "data": {
      "application/vnd.microsoft.datawrangler.viewer.v0+json": {
       "columns": [
        {
         "name": "index",
         "rawType": "int64",
         "type": "integer"
        },
        {
         "name": "pais",
         "rawType": "object",
         "type": "string"
        },
        {
         "name": "continente",
         "rawType": "object",
         "type": "string"
        }
       ],
       "conversionMethod": "pd.DataFrame",
       "ref": "73dda563-a65a-4509-b7f8-77ebc91f35bc",
       "rows": [
        [
         "0",
         "Chequia",
         "Europa"
        ]
       ],
       "shape": {
        "columns": 2,
        "rows": 1
       }
      },
      "text/html": [
       "<div>\n",
       "<style scoped>\n",
       "    .dataframe tbody tr th:only-of-type {\n",
       "        vertical-align: middle;\n",
       "    }\n",
       "\n",
       "    .dataframe tbody tr th {\n",
       "        vertical-align: top;\n",
       "    }\n",
       "\n",
       "    .dataframe thead th {\n",
       "        text-align: right;\n",
       "    }\n",
       "</style>\n",
       "<table border=\"1\" class=\"dataframe\">\n",
       "  <thead>\n",
       "    <tr style=\"text-align: right;\">\n",
       "      <th></th>\n",
       "      <th>pais</th>\n",
       "      <th>continente</th>\n",
       "    </tr>\n",
       "  </thead>\n",
       "  <tbody>\n",
       "    <tr>\n",
       "      <th>0</th>\n",
       "      <td>Chequia</td>\n",
       "      <td>Europa</td>\n",
       "    </tr>\n",
       "  </tbody>\n",
       "</table>\n",
       "</div>"
      ],
      "text/plain": [
       "      pais continente\n",
       "0  Chequia     Europa"
      ]
     },
     "execution_count": 22,
     "metadata": {},
     "output_type": "execute_result"
    }
   ],
   "source": [
    "dict_paises_continentes_ciudades = {'pais':[], 'continente':[]}\n",
    "for pais in df_itinerarios_ciudades_pais_continentes.pais:\n",
    "    if pais in df_paises_continentes_escrapeo.nombre_pais_destino.tolist():\n",
    "        pass\n",
    "    else:\n",
    "        if pais in df_paises_continentes_turismos_emisor.nombre_pais_destino.tolist():\n",
    "           pass\n",
    "        else:\n",
    "           if pais in df_opencage.pais_api.tolist():\n",
    "            #print(f'{pais} ya está en continentes opencage')\n",
    "            dict_paises_continentes_ciudades['pais'].append(pais)\n",
    "            continente = (df_opencage[df_opencage.pais_api == pais]).continente_api.unique()[0]\n",
    "            dict_paises_continentes_ciudades['continente'].append(continente)\n",
    "           else:\n",
    "                print(f'{pais} ERROR')\n",
    "df_paises_continentes_ciudades = pd.DataFrame(dict_paises_continentes_ciudades)\n",
    "df_paises_continentes_ciudades"
   ]
  },
  {
   "cell_type": "code",
   "execution_count": 23,
   "id": "10fd45b2",
   "metadata": {},
   "outputs": [],
   "source": [
    "df_paises_continentes_ciudades= df_paises_continentes_ciudades.rename(\n",
    "    columns={'pais':'nombre_pais_destino', 'continente':'nombre_continente'})"
   ]
  },
  {
   "cell_type": "code",
   "execution_count": 24,
   "id": "4dfdb812",
   "metadata": {},
   "outputs": [
    {
     "data": {
      "application/vnd.microsoft.datawrangler.viewer.v0+json": {
       "columns": [
        {
         "name": "index",
         "rawType": "int64",
         "type": "integer"
        },
        {
         "name": "nombre_pais_destino",
         "rawType": "object",
         "type": "string"
        },
        {
         "name": "nombre_continente",
         "rawType": "object",
         "type": "string"
        }
       ],
       "conversionMethod": "pd.DataFrame",
       "ref": "9cd71bd1-892f-4eb3-898e-6e721038dc75",
       "rows": [
        [
         "0",
         "Chequia",
         "Europa"
        ]
       ],
       "shape": {
        "columns": 2,
        "rows": 1
       }
      },
      "text/html": [
       "<div>\n",
       "<style scoped>\n",
       "    .dataframe tbody tr th:only-of-type {\n",
       "        vertical-align: middle;\n",
       "    }\n",
       "\n",
       "    .dataframe tbody tr th {\n",
       "        vertical-align: top;\n",
       "    }\n",
       "\n",
       "    .dataframe thead th {\n",
       "        text-align: right;\n",
       "    }\n",
       "</style>\n",
       "<table border=\"1\" class=\"dataframe\">\n",
       "  <thead>\n",
       "    <tr style=\"text-align: right;\">\n",
       "      <th></th>\n",
       "      <th>nombre_pais_destino</th>\n",
       "      <th>nombre_continente</th>\n",
       "    </tr>\n",
       "  </thead>\n",
       "  <tbody>\n",
       "    <tr>\n",
       "      <th>0</th>\n",
       "      <td>Chequia</td>\n",
       "      <td>Europa</td>\n",
       "    </tr>\n",
       "  </tbody>\n",
       "</table>\n",
       "</div>"
      ],
      "text/plain": [
       "  nombre_pais_destino nombre_continente\n",
       "0             Chequia            Europa"
      ]
     },
     "execution_count": 24,
     "metadata": {},
     "output_type": "execute_result"
    }
   ],
   "source": [
    "df_paises_continentes_ciudades"
   ]
  },
  {
   "cell_type": "markdown",
   "id": "affb9937",
   "metadata": {},
   "source": [
    "#### d) Uno los 3 DF para conseguir una única tabla con todos los paises y continentes"
   ]
  },
  {
   "cell_type": "code",
   "execution_count": 25,
   "id": "04d62bc9",
   "metadata": {},
   "outputs": [
    {
     "data": {
      "application/vnd.microsoft.datawrangler.viewer.v0+json": {
       "columns": [
        {
         "name": "index",
         "rawType": "int64",
         "type": "integer"
        },
        {
         "name": "nombre_pais_destino",
         "rawType": "object",
         "type": "string"
        },
        {
         "name": "nombre_continente",
         "rawType": "object",
         "type": "string"
        }
       ],
       "conversionMethod": "pd.DataFrame",
       "ref": "7b2bd09c-55be-42cf-8862-d133fbbfbaec",
       "rows": [
        [
         "0",
         "Albania",
         "Europa"
        ],
        [
         "1",
         "Alemania",
         "Europa"
        ],
        [
         "2",
         "Andorra",
         "Europa"
        ],
        [
         "3",
         "Angola",
         "Africa"
        ],
        [
         "4",
         "Antigua",
         "America"
        ],
        [
         "5",
         "Arabia Saudi",
         "Asia"
        ],
        [
         "6",
         "Argelia",
         "Africa"
        ],
        [
         "7",
         "Argentina",
         "America"
        ],
        [
         "8",
         "Armenia",
         "Europa"
        ],
        [
         "9",
         "Australia",
         "Oceania"
        ],
        [
         "10",
         "Austria",
         "Europa"
        ],
        [
         "11",
         "Azerbaiyan",
         "Asia"
        ],
        [
         "12",
         "Bahamas",
         "America"
        ],
        [
         "13",
         "Bahrein",
         "Asia"
        ],
        [
         "14",
         "Bangladesh",
         "Asia"
        ],
        [
         "15",
         "Barbados",
         "America"
        ],
        [
         "16",
         "Belarus",
         "Europa"
        ],
        [
         "17",
         "Belgica",
         "Europa"
        ],
        [
         "18",
         "Belice",
         "America"
        ],
        [
         "19",
         "Benin",
         "Africa"
        ],
        [
         "20",
         "Bolivia",
         "America"
        ],
        [
         "21",
         "Bosnia Y Herzegovina",
         "Europa"
        ],
        [
         "22",
         "Botswana",
         "Africa"
        ],
        [
         "23",
         "Brasil",
         "America"
        ],
        [
         "24",
         "Bulgaria",
         "Europa"
        ],
        [
         "25",
         "Burkina Faso",
         "Africa"
        ],
        [
         "26",
         "Butan",
         "Asia"
        ],
        [
         "27",
         "Cabo Verde",
         "Africa"
        ],
        [
         "28",
         "Camboya",
         "Asia"
        ],
        [
         "29",
         "Camerun",
         "Africa"
        ],
        [
         "30",
         "Canada",
         "America"
        ],
        [
         "31",
         "Chad",
         "Africa"
        ],
        [
         "32",
         "Chile",
         "America"
        ],
        [
         "33",
         "China",
         "Asia"
        ],
        [
         "34",
         "Chipre",
         "Europa"
        ],
        [
         "35",
         "Colombia",
         "America"
        ],
        [
         "36",
         "Corea Del Sur",
         "Asia"
        ],
        [
         "37",
         "Costa De Marfil",
         "Africa"
        ],
        [
         "38",
         "Costa Rica",
         "America"
        ],
        [
         "39",
         "Croacia",
         "Europa"
        ],
        [
         "40",
         "Cuba",
         "America"
        ],
        [
         "41",
         "Dinamarca",
         "Europa"
        ],
        [
         "42",
         "Djibouti",
         "Africa"
        ],
        [
         "43",
         "Ecuador",
         "America"
        ],
        [
         "44",
         "Egipto",
         "Africa"
        ],
        [
         "45",
         "El Salvador",
         "America"
        ],
        [
         "46",
         "Emiratos Arabes Unidos",
         "Asia"
        ],
        [
         "47",
         "Eslovenia",
         "Europa"
        ],
        [
         "48",
         "Estados Unidos",
         "America"
        ],
        [
         "49",
         "Estonia",
         "Europa"
        ]
       ],
       "shape": {
        "columns": 2,
        "rows": 188
       }
      },
      "text/html": [
       "<div>\n",
       "<style scoped>\n",
       "    .dataframe tbody tr th:only-of-type {\n",
       "        vertical-align: middle;\n",
       "    }\n",
       "\n",
       "    .dataframe tbody tr th {\n",
       "        vertical-align: top;\n",
       "    }\n",
       "\n",
       "    .dataframe thead th {\n",
       "        text-align: right;\n",
       "    }\n",
       "</style>\n",
       "<table border=\"1\" class=\"dataframe\">\n",
       "  <thead>\n",
       "    <tr style=\"text-align: right;\">\n",
       "      <th></th>\n",
       "      <th>nombre_pais_destino</th>\n",
       "      <th>nombre_continente</th>\n",
       "    </tr>\n",
       "  </thead>\n",
       "  <tbody>\n",
       "    <tr>\n",
       "      <th>0</th>\n",
       "      <td>Albania</td>\n",
       "      <td>Europa</td>\n",
       "    </tr>\n",
       "    <tr>\n",
       "      <th>1</th>\n",
       "      <td>Alemania</td>\n",
       "      <td>Europa</td>\n",
       "    </tr>\n",
       "    <tr>\n",
       "      <th>2</th>\n",
       "      <td>Andorra</td>\n",
       "      <td>Europa</td>\n",
       "    </tr>\n",
       "    <tr>\n",
       "      <th>3</th>\n",
       "      <td>Angola</td>\n",
       "      <td>Africa</td>\n",
       "    </tr>\n",
       "    <tr>\n",
       "      <th>4</th>\n",
       "      <td>Antigua</td>\n",
       "      <td>America</td>\n",
       "    </tr>\n",
       "    <tr>\n",
       "      <th>...</th>\n",
       "      <td>...</td>\n",
       "      <td>...</td>\n",
       "    </tr>\n",
       "    <tr>\n",
       "      <th>183</th>\n",
       "      <td>Taiwan</td>\n",
       "      <td>Asia</td>\n",
       "    </tr>\n",
       "    <tr>\n",
       "      <th>184</th>\n",
       "      <td>Turks And Caicos</td>\n",
       "      <td>America</td>\n",
       "    </tr>\n",
       "    <tr>\n",
       "      <th>185</th>\n",
       "      <td>Turquia</td>\n",
       "      <td>Asia</td>\n",
       "    </tr>\n",
       "    <tr>\n",
       "      <th>186</th>\n",
       "      <td>Zanzibar</td>\n",
       "      <td>Africa</td>\n",
       "    </tr>\n",
       "    <tr>\n",
       "      <th>187</th>\n",
       "      <td>Chequia</td>\n",
       "      <td>Europa</td>\n",
       "    </tr>\n",
       "  </tbody>\n",
       "</table>\n",
       "<p>188 rows × 2 columns</p>\n",
       "</div>"
      ],
      "text/plain": [
       "    nombre_pais_destino nombre_continente\n",
       "0               Albania            Europa\n",
       "1              Alemania            Europa\n",
       "2               Andorra            Europa\n",
       "3                Angola            Africa\n",
       "4               Antigua           America\n",
       "..                  ...               ...\n",
       "183              Taiwan              Asia\n",
       "184    Turks And Caicos           America\n",
       "185             Turquia              Asia\n",
       "186            Zanzibar            Africa\n",
       "187             Chequia            Europa\n",
       "\n",
       "[188 rows x 2 columns]"
      ]
     },
     "execution_count": 25,
     "metadata": {},
     "output_type": "execute_result"
    }
   ],
   "source": [
    "df_paises_continentes_totales=pd.concat(\n",
    "    [df_paises_continentes_turismos_emisor,df_paises_continentes_escrapeo, df_paises_continentes_ciudades], axis=0)\n",
    "df_paises_continentes_totales = df_paises_continentes_totales.drop_duplicates(['nombre_pais_destino', 'nombre_continente']).reset_index(drop=True)\n",
    "df_paises_continentes_totales\n",
    "\n"
   ]
  },
  {
   "cell_type": "code",
   "execution_count": 26,
   "id": "de72f4e2",
   "metadata": {},
   "outputs": [
    {
     "data": {
      "application/vnd.microsoft.datawrangler.viewer.v0+json": {
       "columns": [
        {
         "name": "index",
         "rawType": "int64",
         "type": "integer"
        },
        {
         "name": "nombre_pais_destino",
         "rawType": "object",
         "type": "string"
        },
        {
         "name": "count",
         "rawType": "int64",
         "type": "integer"
        }
       ],
       "conversionMethod": "pd.DataFrame",
       "ref": "571051e3-07f1-425b-8b79-9d8b95830704",
       "rows": [
        [
         "0",
         "Armenia",
         "2"
        ],
        [
         "1",
         "Turquia",
         "2"
        ],
        [
         "2",
         "Georgia",
         "2"
        ]
       ],
       "shape": {
        "columns": 2,
        "rows": 3
       }
      },
      "text/html": [
       "<div>\n",
       "<style scoped>\n",
       "    .dataframe tbody tr th:only-of-type {\n",
       "        vertical-align: middle;\n",
       "    }\n",
       "\n",
       "    .dataframe tbody tr th {\n",
       "        vertical-align: top;\n",
       "    }\n",
       "\n",
       "    .dataframe thead th {\n",
       "        text-align: right;\n",
       "    }\n",
       "</style>\n",
       "<table border=\"1\" class=\"dataframe\">\n",
       "  <thead>\n",
       "    <tr style=\"text-align: right;\">\n",
       "      <th></th>\n",
       "      <th>nombre_pais_destino</th>\n",
       "      <th>count</th>\n",
       "    </tr>\n",
       "  </thead>\n",
       "  <tbody>\n",
       "    <tr>\n",
       "      <th>0</th>\n",
       "      <td>Armenia</td>\n",
       "      <td>2</td>\n",
       "    </tr>\n",
       "    <tr>\n",
       "      <th>1</th>\n",
       "      <td>Turquia</td>\n",
       "      <td>2</td>\n",
       "    </tr>\n",
       "    <tr>\n",
       "      <th>2</th>\n",
       "      <td>Georgia</td>\n",
       "      <td>2</td>\n",
       "    </tr>\n",
       "  </tbody>\n",
       "</table>\n",
       "</div>"
      ],
      "text/plain": [
       "  nombre_pais_destino  count\n",
       "0             Armenia      2\n",
       "1             Turquia      2\n",
       "2             Georgia      2"
      ]
     },
     "execution_count": 26,
     "metadata": {},
     "output_type": "execute_result"
    }
   ],
   "source": [
    "#reviso los paises que aparecen asociados a más de un continente:\n",
    "df_contador_paises_duplicados = pd.DataFrame(df_paises_continentes_totales.nombre_pais_destino.value_counts()).reset_index()\n",
    "df_contador_paises_duplicados =df_contador_paises_duplicados[df_contador_paises_duplicados['count']>1]\n",
    "df_contador_paises_duplicados"
   ]
  },
  {
   "cell_type": "code",
   "execution_count": 27,
   "id": "4e375578",
   "metadata": {},
   "outputs": [
    {
     "data": {
      "text/plain": [
       "['Armenia', 'Turquia', 'Georgia']"
      ]
     },
     "execution_count": 27,
     "metadata": {},
     "output_type": "execute_result"
    }
   ],
   "source": [
    "lista_paises_duplicados = df_contador_paises_duplicados.nombre_pais_destino.tolist()\n",
    "lista_paises_duplicados"
   ]
  },
  {
   "cell_type": "code",
   "execution_count": 28,
   "id": "cda25910",
   "metadata": {},
   "outputs": [],
   "source": [
    "#Elimino los indices incorrectos:\n",
    "lista_indices_eliminar = []\n",
    "for indice,pais in enumerate(df_paises_continentes_totales.nombre_pais_destino):\n",
    "    if pais in lista_paises_duplicados:\n",
    "        df_paises_continentes_totales.loc[indice, \"nombre_continente\"]  = 'Asia'\n",
    "\n",
    "df_paises_continentes_totales = df_paises_continentes_totales.drop_duplicates()"
   ]
  },
  {
   "cell_type": "code",
   "execution_count": 29,
   "id": "eefdb938",
   "metadata": {},
   "outputs": [
    {
     "data": {
      "text/plain": [
       "nombre_pais_destino\n",
       "Albania             1\n",
       "Alemania            1\n",
       "Andorra             1\n",
       "Angola              1\n",
       "Antigua             1\n",
       "                   ..\n",
       "Santa Lucia         1\n",
       "Taiwan              1\n",
       "Turks And Caicos    1\n",
       "Zanzibar            1\n",
       "Chequia             1\n",
       "Name: count, Length: 185, dtype: int64"
      ]
     },
     "execution_count": 29,
     "metadata": {},
     "output_type": "execute_result"
    }
   ],
   "source": [
    "df_paises_continentes_totales.nombre_pais_destino.value_counts()"
   ]
  },
  {
   "cell_type": "markdown",
   "id": "b2f680b7",
   "metadata": {},
   "source": [
    "## 1.2 Carga en BBDD"
   ]
  },
  {
   "cell_type": "markdown",
   "id": "ca089fc3",
   "metadata": {},
   "source": [
    "La tabla pais_destino tiene que tener los siguientes campos:\n",
    "- id_pais_destino SERIAL PRIMARY KEY,\n",
    "- nombre_pais_destino TEXT UNIQUE,\n",
    "- nombre_continente TEXT"
   ]
  },
  {
   "cell_type": "code",
   "execution_count": 37,
   "id": "581e339b",
   "metadata": {},
   "outputs": [],
   "source": [
    "#Extraigo la información de la BBDD\n",
    "query_extraccion = \"SELECT nombre_pais_destino, id_pais_destino FROM pais_destino\"\n",
    "pais_destino_dict=lo.extraer_datos_de_BBDD(query_extraccion)"
   ]
  },
  {
   "cell_type": "code",
   "execution_count": 39,
   "id": "ed82d990",
   "metadata": {},
   "outputs": [],
   "source": [
    "#Creo los datos para insertarlos en la BBDD:\n",
    "data_to_insert=[]\n",
    "for _,row in df_paises_continentes_totales.iterrows():\n",
    "    nombre_pais_destino = row[\"nombre_pais_destino\"]\n",
    "    if nombre_pais_destino in  pais_destino_dict.keys():\n",
    "        pass\n",
    "    else: \n",
    "        nombre_continente = row[\"nombre_continente\"]\n",
    "        data_to_insert.append([nombre_pais_destino, nombre_continente])"
   ]
  },
  {
   "cell_type": "code",
   "execution_count": 46,
   "id": "309b227b",
   "metadata": {},
   "outputs": [
    {
     "ename": "TypeError",
     "evalue": "not all arguments converted during string formatting",
     "output_type": "error",
     "traceback": [
      "\u001b[31m---------------------------------------------------------------------------\u001b[39m",
      "\u001b[31mTypeError\u001b[39m                                 Traceback (most recent call last)",
      "\u001b[36mCell\u001b[39m\u001b[36m \u001b[39m\u001b[32mIn[46]\u001b[39m\u001b[32m, line 6\u001b[39m\n\u001b[32m      1\u001b[39m \u001b[38;5;66;03m#Subo la información a la BBDD:\u001b[39;00m\n\u001b[32m      2\u001b[39m insert_query = \u001b[33m\"\"\"\u001b[39m\n\u001b[32m      3\u001b[39m \u001b[33mINSERT INTO pais_destino(nombre_pais_destino, nombre_continente)\u001b[39m\n\u001b[32m      4\u001b[39m \u001b[33mVALUES (\u001b[39m\u001b[38;5;132;01m%s\u001b[39;00m\u001b[33m, \u001b[39m\u001b[38;5;132;01m%s\u001b[39;00m\u001b[33m)\u001b[39m\n\u001b[32m      5\u001b[39m \u001b[33m\"\"\"\u001b[39m\n\u001b[32m----> \u001b[39m\u001b[32m6\u001b[39m \u001b[43mlo\u001b[49m\u001b[43m.\u001b[49m\u001b[43minsertar_datos_en_BBDD\u001b[49m\u001b[43m(\u001b[49m\u001b[43minsert_query\u001b[49m\u001b[43m,\u001b[49m\u001b[43m \u001b[49m\u001b[43mdata_to_insert\u001b[49m\u001b[43m)\u001b[49m\n\u001b[32m      8\u001b[39m \u001b[38;5;28mprint\u001b[39m(\u001b[33mf\u001b[39m\u001b[33m'\u001b[39m\u001b[33mSe han añadido \u001b[39m\u001b[38;5;132;01m{\u001b[39;00m\u001b[38;5;28mlen\u001b[39m(data_to_insert)\u001b[38;5;132;01m}\u001b[39;00m\u001b[33m paises en la tabla pais_destino\u001b[39m\u001b[33m'\u001b[39m)\n",
      "\u001b[36mFile \u001b[39m\u001b[32mc:\\Formación\\DataAnalytics\\BootCampDataAnalyst\\Proyectos\\Proyecto-Final\\notebooks\\..\\src\\etl\\load.py:48\u001b[39m, in \u001b[36minsertar_datos_en_BBDD\u001b[39m\u001b[34m(insert_query, data_to_insert, dbname, user, password, host, port)\u001b[39m\n\u001b[32m     45\u001b[39m conn, cur=lo.crear_conexión(dbname, user, password, host, port)\n\u001b[32m     47\u001b[39m \u001b[38;5;28;01mif\u001b[39;00m \u001b[38;5;28misinstance\u001b[39m(data_to_insert,\u001b[38;5;28mlist\u001b[39m): \u001b[38;5;66;03m# si data_to_insert es una lista\u001b[39;00m\n\u001b[32m---> \u001b[39m\u001b[32m48\u001b[39m     \u001b[43mcur\u001b[49m\u001b[43m.\u001b[49m\u001b[43mexecutemany\u001b[49m\u001b[43m(\u001b[49m\u001b[43minsert_query\u001b[49m\u001b[43m,\u001b[49m\u001b[43mdata_to_insert\u001b[49m\u001b[43m)\u001b[49m \u001b[38;5;66;03m#ejecuto la acción de subida a la BBDD\u001b[39;00m\n\u001b[32m     49\u001b[39m \u001b[38;5;28;01melse\u001b[39;00m: \u001b[38;5;66;03m# si data_to_insert no es una lista\u001b[39;00m\n\u001b[32m     50\u001b[39m     cur.execute(insert_query,data_to_insert) \u001b[38;5;66;03m#ejecuto la acción de subida a la BBDD\u001b[39;00m\n",
      "\u001b[31mTypeError\u001b[39m: not all arguments converted during string formatting"
     ]
    }
   ],
   "source": [
    "#Subo la información a la BBDD:\n",
    "insert_query = \"\"\"\n",
    "INSERT INTO pais_destino(nombre_pais_destino, nombre_continente)\n",
    "VALUES (%s, %s)\n",
    "\"\"\"\n",
    "lo.insertar_datos_en_BBDD(insert_query, data_to_insert)\n",
    "\n",
    "print(f'Se han añadido {len(data_to_insert)} paises en la tabla pais_destino')"
   ]
  },
  {
   "cell_type": "code",
   "execution_count": null,
   "id": "ed114a88",
   "metadata": {},
   "outputs": [],
   "source": [
    "#conn.rollback()"
   ]
  },
  {
   "cell_type": "markdown",
   "id": "5dbbd21f",
   "metadata": {},
   "source": [
    "## 2. Tabla itinerario"
   ]
  },
  {
   "cell_type": "markdown",
   "id": "ae10ad20",
   "metadata": {},
   "source": [
    "### 2.1 Extraigo la información del df_itinerario_ciudades y me quedo con los itinerarios sin duplicados:"
   ]
  },
  {
   "cell_type": "code",
   "execution_count": 71,
   "id": "c62b4143",
   "metadata": {},
   "outputs": [
    {
     "data": {
      "application/vnd.microsoft.datawrangler.viewer.v0+json": {
       "columns": [
        {
         "name": "index",
         "rawType": "int64",
         "type": "integer"
        },
        {
         "name": "itinerario_modificado_para_dividir",
         "rawType": "object",
         "type": "string"
        },
        {
         "name": "ciudad",
         "rawType": "object",
         "type": "string"
        },
        {
         "name": "pais_correcto",
         "rawType": "object",
         "type": "string"
        }
       ],
       "conversionMethod": "pd.DataFrame",
       "ref": "da0dcd93-6dac-4f81-99f0-c451bcb97845",
       "rows": [
        [
         "0",
         "Berlin",
         "Berlin",
         "Alemania"
        ],
        [
         "1",
         "Hamburgo, Stade, Bremen, Luneburg, Schwerin, Wismar , Lubeck",
         "Hamburgo",
         "Alemania"
        ],
        [
         "1",
         "Hamburgo, Stade, Bremen, Luneburg, Schwerin, Wismar , Lubeck",
         "Stade",
         "Alemania"
        ],
        [
         "1",
         "Hamburgo, Stade, Bremen, Luneburg, Schwerin, Wismar , Lubeck",
         "Bremen",
         "Alemania"
        ],
        [
         "1",
         "Hamburgo, Stade, Bremen, Luneburg, Schwerin, Wismar , Lubeck",
         "Luneburg",
         "Alemania"
        ]
       ],
       "shape": {
        "columns": 3,
        "rows": 5
       }
      },
      "text/html": [
       "<div>\n",
       "<style scoped>\n",
       "    .dataframe tbody tr th:only-of-type {\n",
       "        vertical-align: middle;\n",
       "    }\n",
       "\n",
       "    .dataframe tbody tr th {\n",
       "        vertical-align: top;\n",
       "    }\n",
       "\n",
       "    .dataframe thead th {\n",
       "        text-align: right;\n",
       "    }\n",
       "</style>\n",
       "<table border=\"1\" class=\"dataframe\">\n",
       "  <thead>\n",
       "    <tr style=\"text-align: right;\">\n",
       "      <th></th>\n",
       "      <th>itinerario_modificado_para_dividir</th>\n",
       "      <th>ciudad</th>\n",
       "      <th>pais_correcto</th>\n",
       "    </tr>\n",
       "  </thead>\n",
       "  <tbody>\n",
       "    <tr>\n",
       "      <th>0</th>\n",
       "      <td>Berlin</td>\n",
       "      <td>Berlin</td>\n",
       "      <td>Alemania</td>\n",
       "    </tr>\n",
       "    <tr>\n",
       "      <th>1</th>\n",
       "      <td>Hamburgo, Stade, Bremen, Luneburg, Schwerin, W...</td>\n",
       "      <td>Hamburgo</td>\n",
       "      <td>Alemania</td>\n",
       "    </tr>\n",
       "    <tr>\n",
       "      <th>1</th>\n",
       "      <td>Hamburgo, Stade, Bremen, Luneburg, Schwerin, W...</td>\n",
       "      <td>Stade</td>\n",
       "      <td>Alemania</td>\n",
       "    </tr>\n",
       "    <tr>\n",
       "      <th>1</th>\n",
       "      <td>Hamburgo, Stade, Bremen, Luneburg, Schwerin, W...</td>\n",
       "      <td>Bremen</td>\n",
       "      <td>Alemania</td>\n",
       "    </tr>\n",
       "    <tr>\n",
       "      <th>1</th>\n",
       "      <td>Hamburgo, Stade, Bremen, Luneburg, Schwerin, W...</td>\n",
       "      <td>Luneburg</td>\n",
       "      <td>Alemania</td>\n",
       "    </tr>\n",
       "  </tbody>\n",
       "</table>\n",
       "</div>"
      ],
      "text/plain": [
       "                  itinerario_modificado_para_dividir    ciudad pais_correcto\n",
       "0                                             Berlin    Berlin      Alemania\n",
       "1  Hamburgo, Stade, Bremen, Luneburg, Schwerin, W...  Hamburgo      Alemania\n",
       "1  Hamburgo, Stade, Bremen, Luneburg, Schwerin, W...     Stade      Alemania\n",
       "1  Hamburgo, Stade, Bremen, Luneburg, Schwerin, W...    Bremen      Alemania\n",
       "1  Hamburgo, Stade, Bremen, Luneburg, Schwerin, W...  Luneburg      Alemania"
      ]
     },
     "execution_count": 71,
     "metadata": {},
     "output_type": "execute_result"
    }
   ],
   "source": [
    "df_itinerarios_ciudades = pd.read_pickle(ARCHIVO_GUARDAR_ITINERARIOS_PROCESADOS)\n",
    "df_itinerarios_ciudades.head()"
   ]
  },
  {
   "cell_type": "code",
   "execution_count": 72,
   "id": "6c304424",
   "metadata": {},
   "outputs": [
    {
     "data": {
      "text/plain": [
       "1131"
      ]
     },
     "execution_count": 72,
     "metadata": {},
     "output_type": "execute_result"
    }
   ],
   "source": [
    "lista_itinerarios_unicos = df_itinerarios_ciudades.itinerario_modificado_para_dividir.sort_values().unique()\n",
    "len(lista_itinerarios_unicos)"
   ]
  },
  {
   "cell_type": "markdown",
   "id": "328fa0cd",
   "metadata": {},
   "source": [
    "### 2.2 Hago la carga en la BBDD:"
   ]
  },
  {
   "cell_type": "markdown",
   "id": "a84fc9c6",
   "metadata": {},
   "source": [
    "La tabla itinerario tiene que tener los siguientes campos:\n",
    "- id_itinerario SERIAL PRIMARY KEY\n",
    "- detalle_itinerario TEXT UNIQUE"
   ]
  },
  {
   "cell_type": "code",
   "execution_count": 73,
   "id": "59cb3b41",
   "metadata": {},
   "outputs": [],
   "source": [
    "#Extraigo la información de la BBDD\n",
    "query_extraccion = \"SELECT detalle_itinerario, id_itinerario FROM itinerario\"\n",
    "itinerario_dict=lo.extraer_datos_de_BBDD(query_extraccion)"
   ]
  },
  {
   "cell_type": "code",
   "execution_count": 75,
   "id": "ff1ccc51",
   "metadata": {},
   "outputs": [],
   "source": [
    "#Creo los datos para insertarlos en la BBDD:\n",
    "data_to_insert=[]\n",
    "for itinerario in lista_itinerarios_unicos:\n",
    "    if itinerario in itinerario_dict.keys():\n",
    "        pass\n",
    "    else: \n",
    "        data_to_insert.append((itinerario,))  "
   ]
  },
  {
   "cell_type": "code",
   "execution_count": 77,
   "id": "3a443a23",
   "metadata": {},
   "outputs": [
    {
     "name": "stdout",
     "output_type": "stream",
     "text": [
      "Se han añadido 0 itinerarios nuevos en la tabla pais_destino\n"
     ]
    }
   ],
   "source": [
    "#Subo la información a la BBDD:\n",
    "insert_query = \"\"\"\n",
    "INSERT INTO itinerario(detalle_itinerario)\n",
    "VALUES (%s)\n",
    "\"\"\"\n",
    "lo.insertar_datos_en_BBDD(insert_query, data_to_insert)\n",
    "\n",
    "print(f'Se han añadido {len(data_to_insert)} itinerarios nuevos en la tabla pais_destino')"
   ]
  },
  {
   "cell_type": "markdown",
   "id": "79d73d03",
   "metadata": {},
   "source": [
    "## 3. Tabla ciudad"
   ]
  },
  {
   "cell_type": "markdown",
   "id": "14438635",
   "metadata": {},
   "source": [
    "### 3.1 Extraigo la información del df_itinerario_ciudades y me quedo con las ciudades sin duplicados:"
   ]
  },
  {
   "cell_type": "code",
   "execution_count": 78,
   "id": "9a98df4f",
   "metadata": {},
   "outputs": [
    {
     "data": {
      "application/vnd.microsoft.datawrangler.viewer.v0+json": {
       "columns": [
        {
         "name": "index",
         "rawType": "int64",
         "type": "integer"
        },
        {
         "name": "itinerario_modificado_para_dividir",
         "rawType": "object",
         "type": "string"
        },
        {
         "name": "ciudad",
         "rawType": "object",
         "type": "string"
        },
        {
         "name": "pais_correcto",
         "rawType": "object",
         "type": "string"
        }
       ],
       "conversionMethod": "pd.DataFrame",
       "ref": "7e626fdc-2c31-4885-b691-401bbf69d32a",
       "rows": [
        [
         "0",
         "Berlin",
         "Berlin",
         "Alemania"
        ],
        [
         "1",
         "Hamburgo, Stade, Bremen, Luneburg, Schwerin, Wismar , Lubeck",
         "Hamburgo",
         "Alemania"
        ],
        [
         "1",
         "Hamburgo, Stade, Bremen, Luneburg, Schwerin, Wismar , Lubeck",
         "Stade",
         "Alemania"
        ],
        [
         "1",
         "Hamburgo, Stade, Bremen, Luneburg, Schwerin, Wismar , Lubeck",
         "Bremen",
         "Alemania"
        ],
        [
         "1",
         "Hamburgo, Stade, Bremen, Luneburg, Schwerin, Wismar , Lubeck",
         "Luneburg",
         "Alemania"
        ]
       ],
       "shape": {
        "columns": 3,
        "rows": 5
       }
      },
      "text/html": [
       "<div>\n",
       "<style scoped>\n",
       "    .dataframe tbody tr th:only-of-type {\n",
       "        vertical-align: middle;\n",
       "    }\n",
       "\n",
       "    .dataframe tbody tr th {\n",
       "        vertical-align: top;\n",
       "    }\n",
       "\n",
       "    .dataframe thead th {\n",
       "        text-align: right;\n",
       "    }\n",
       "</style>\n",
       "<table border=\"1\" class=\"dataframe\">\n",
       "  <thead>\n",
       "    <tr style=\"text-align: right;\">\n",
       "      <th></th>\n",
       "      <th>itinerario_modificado_para_dividir</th>\n",
       "      <th>ciudad</th>\n",
       "      <th>pais_correcto</th>\n",
       "    </tr>\n",
       "  </thead>\n",
       "  <tbody>\n",
       "    <tr>\n",
       "      <th>0</th>\n",
       "      <td>Berlin</td>\n",
       "      <td>Berlin</td>\n",
       "      <td>Alemania</td>\n",
       "    </tr>\n",
       "    <tr>\n",
       "      <th>1</th>\n",
       "      <td>Hamburgo, Stade, Bremen, Luneburg, Schwerin, W...</td>\n",
       "      <td>Hamburgo</td>\n",
       "      <td>Alemania</td>\n",
       "    </tr>\n",
       "    <tr>\n",
       "      <th>1</th>\n",
       "      <td>Hamburgo, Stade, Bremen, Luneburg, Schwerin, W...</td>\n",
       "      <td>Stade</td>\n",
       "      <td>Alemania</td>\n",
       "    </tr>\n",
       "    <tr>\n",
       "      <th>1</th>\n",
       "      <td>Hamburgo, Stade, Bremen, Luneburg, Schwerin, W...</td>\n",
       "      <td>Bremen</td>\n",
       "      <td>Alemania</td>\n",
       "    </tr>\n",
       "    <tr>\n",
       "      <th>1</th>\n",
       "      <td>Hamburgo, Stade, Bremen, Luneburg, Schwerin, W...</td>\n",
       "      <td>Luneburg</td>\n",
       "      <td>Alemania</td>\n",
       "    </tr>\n",
       "  </tbody>\n",
       "</table>\n",
       "</div>"
      ],
      "text/plain": [
       "                  itinerario_modificado_para_dividir    ciudad pais_correcto\n",
       "0                                             Berlin    Berlin      Alemania\n",
       "1  Hamburgo, Stade, Bremen, Luneburg, Schwerin, W...  Hamburgo      Alemania\n",
       "1  Hamburgo, Stade, Bremen, Luneburg, Schwerin, W...     Stade      Alemania\n",
       "1  Hamburgo, Stade, Bremen, Luneburg, Schwerin, W...    Bremen      Alemania\n",
       "1  Hamburgo, Stade, Bremen, Luneburg, Schwerin, W...  Luneburg      Alemania"
      ]
     },
     "execution_count": 78,
     "metadata": {},
     "output_type": "execute_result"
    }
   ],
   "source": [
    "df_itinerarios_ciudades = pd.read_pickle(ARCHIVO_GUARDAR_ITINERARIOS_PROCESADOS)\n",
    "df_itinerarios_ciudades.head()"
   ]
  },
  {
   "cell_type": "code",
   "execution_count": 88,
   "id": "f9dabd24",
   "metadata": {},
   "outputs": [
    {
     "name": "stdout",
     "output_type": "stream",
     "text": [
      "<class 'pandas.core.frame.DataFrame'>\n",
      "Index: 9282 entries, 0 to 3346\n",
      "Data columns (total 3 columns):\n",
      " #   Column                              Non-Null Count  Dtype \n",
      "---  ------                              --------------  ----- \n",
      " 0   itinerario_modificado_para_dividir  9282 non-null   object\n",
      " 1   ciudad                              9282 non-null   object\n",
      " 2   pais_correcto                       9282 non-null   object\n",
      "dtypes: object(3)\n",
      "memory usage: 290.1+ KB\n"
     ]
    }
   ],
   "source": [
    "df_itinerarios_ciudades.info()"
   ]
  },
  {
   "cell_type": "code",
   "execution_count": 79,
   "id": "b9ee7a09",
   "metadata": {},
   "outputs": [
    {
     "data": {
      "text/plain": [
       "2040"
      ]
     },
     "execution_count": 79,
     "metadata": {},
     "output_type": "execute_result"
    }
   ],
   "source": [
    "lista_ciudades_unicas = df_itinerarios_ciudades.ciudad.sort_values().unique()\n",
    "len(lista_ciudades_unicas)"
   ]
  },
  {
   "cell_type": "code",
   "execution_count": 82,
   "id": "2d998144",
   "metadata": {},
   "outputs": [
    {
     "data": {
      "application/vnd.microsoft.datawrangler.viewer.v0+json": {
       "columns": [
        {
         "name": "index",
         "rawType": "int64",
         "type": "integer"
        },
        {
         "name": "ciudad",
         "rawType": "object",
         "type": "string"
        },
        {
         "name": "pais_correcto",
         "rawType": "object",
         "type": "string"
        }
       ],
       "conversionMethod": "pd.DataFrame",
       "ref": "1eda3c06-3ce8-4eac-8ed2-78fb3abd0967",
       "rows": [
        [
         "0",
         "Berlin",
         "Alemania"
        ],
        [
         "1",
         "Hamburgo",
         "Alemania"
        ],
        [
         "2",
         "Stade",
         "Alemania"
        ],
        [
         "3",
         "Bremen",
         "Alemania"
        ],
        [
         "4",
         "Luneburg",
         "Alemania"
        ],
        [
         "5",
         "Schwerin",
         "Alemania"
        ],
        [
         "6",
         "Wismar",
         "Alemania"
        ],
        [
         "7",
         "Lubeck",
         "Alemania"
        ],
        [
         "8",
         "Buenos Aires",
         "Argentina"
        ],
        [
         "9",
         "El Calafate",
         "Argentina"
        ],
        [
         "10",
         "Iguazu",
         "Argentina"
        ],
        [
         "11",
         "Ushuaia",
         "Argentina"
        ],
        [
         "12",
         "Puerto Madryn",
         "Argentina"
        ],
        [
         "13",
         "Bariloche",
         "Argentina"
        ],
        [
         "14",
         "Salta",
         "Argentina"
        ],
        [
         "15",
         "Cafayate",
         "Argentina"
        ],
        [
         "16",
         "Quebrada De Humahuaca",
         "Argentina"
        ],
        [
         "17",
         "Playas De Aruba",
         "Aruba"
        ],
        [
         "18",
         "Aruba",
         "Aruba"
        ],
        [
         "19",
         "Adelaida",
         "Australia"
        ],
        [
         "20",
         "Robe",
         "Australia"
        ],
        [
         "21",
         "Port Campbell",
         "Australia"
        ],
        [
         "22",
         "Melbourne",
         "Australia"
        ],
        [
         "23",
         "P N Wilsons Promontory",
         "Australia"
        ],
        [
         "24",
         "Lakes Entrance",
         "Australia"
        ],
        [
         "25",
         "Mallacoota",
         "Australia"
        ],
        [
         "26",
         "Narooma",
         "Australia"
        ],
        [
         "27",
         "Jervis Bay",
         "Australia"
        ],
        [
         "28",
         "Sydney",
         "Australia"
        ],
        [
         "29",
         "Cairns",
         "Australia"
        ],
        [
         "30",
         "Ayers Rock",
         "Australia"
        ],
        [
         "31",
         "Townsville",
         "Australia"
        ],
        [
         "32",
         "Airlie Beach",
         "Australia"
        ],
        [
         "33",
         "Hervey Bay",
         "Australia"
        ],
        [
         "34",
         "Brisbane",
         "Australia"
        ],
        [
         "35",
         "Darwin",
         "Australia"
        ],
        [
         "36",
         "Pn Kakadu",
         "Australia"
        ],
        [
         "37",
         "Hunter Valley",
         "Australia"
        ],
        [
         "38",
         "Port Macquarie",
         "Australia"
        ],
        [
         "39",
         "Coffs Harbour",
         "Australia"
        ],
        [
         "40",
         "Byron Bay",
         "Australia"
        ],
        [
         "41",
         "Gold Coast",
         "Australia"
        ],
        [
         "42",
         "Bundaberg",
         "Australia"
        ],
        [
         "43",
         "Rockhampton",
         "Australia"
        ],
        [
         "44",
         "Mackay",
         "Australia"
        ],
        [
         "45",
         "Kangaroo Island",
         "Australia"
        ],
        [
         "46",
         "Alice Springs",
         "Australia"
        ],
        [
         "47",
         "Apollo Bay",
         "Australia"
        ],
        [
         "48",
         "Port Fairy",
         "Australia"
        ],
        [
         "49",
         "Pn De Grampians",
         "Australia"
        ]
       ],
       "shape": {
        "columns": 2,
        "rows": 2103
       }
      },
      "text/html": [
       "<div>\n",
       "<style scoped>\n",
       "    .dataframe tbody tr th:only-of-type {\n",
       "        vertical-align: middle;\n",
       "    }\n",
       "\n",
       "    .dataframe tbody tr th {\n",
       "        vertical-align: top;\n",
       "    }\n",
       "\n",
       "    .dataframe thead th {\n",
       "        text-align: right;\n",
       "    }\n",
       "</style>\n",
       "<table border=\"1\" class=\"dataframe\">\n",
       "  <thead>\n",
       "    <tr style=\"text-align: right;\">\n",
       "      <th></th>\n",
       "      <th>ciudad</th>\n",
       "      <th>pais_correcto</th>\n",
       "    </tr>\n",
       "  </thead>\n",
       "  <tbody>\n",
       "    <tr>\n",
       "      <th>0</th>\n",
       "      <td>Berlin</td>\n",
       "      <td>Alemania</td>\n",
       "    </tr>\n",
       "    <tr>\n",
       "      <th>1</th>\n",
       "      <td>Hamburgo</td>\n",
       "      <td>Alemania</td>\n",
       "    </tr>\n",
       "    <tr>\n",
       "      <th>2</th>\n",
       "      <td>Stade</td>\n",
       "      <td>Alemania</td>\n",
       "    </tr>\n",
       "    <tr>\n",
       "      <th>3</th>\n",
       "      <td>Bremen</td>\n",
       "      <td>Alemania</td>\n",
       "    </tr>\n",
       "    <tr>\n",
       "      <th>4</th>\n",
       "      <td>Luneburg</td>\n",
       "      <td>Alemania</td>\n",
       "    </tr>\n",
       "    <tr>\n",
       "      <th>...</th>\n",
       "      <td>...</td>\n",
       "      <td>...</td>\n",
       "    </tr>\n",
       "    <tr>\n",
       "      <th>2098</th>\n",
       "      <td>Dilijan</td>\n",
       "      <td>Armenia</td>\n",
       "    </tr>\n",
       "    <tr>\n",
       "      <th>2099</th>\n",
       "      <td>Sanahin Tbilisi</td>\n",
       "      <td>Georgia</td>\n",
       "    </tr>\n",
       "    <tr>\n",
       "      <th>2100</th>\n",
       "      <td>Baku</td>\n",
       "      <td>Azerbaiyan</td>\n",
       "    </tr>\n",
       "    <tr>\n",
       "      <th>2101</th>\n",
       "      <td>Gobustan</td>\n",
       "      <td>Azerbaiyan</td>\n",
       "    </tr>\n",
       "    <tr>\n",
       "      <th>2102</th>\n",
       "      <td>Laponia</td>\n",
       "      <td>Argentina</td>\n",
       "    </tr>\n",
       "  </tbody>\n",
       "</table>\n",
       "<p>2103 rows × 2 columns</p>\n",
       "</div>"
      ],
      "text/plain": [
       "               ciudad pais_correcto\n",
       "0              Berlin      Alemania\n",
       "1            Hamburgo      Alemania\n",
       "2               Stade      Alemania\n",
       "3              Bremen      Alemania\n",
       "4            Luneburg      Alemania\n",
       "...               ...           ...\n",
       "2098          Dilijan       Armenia\n",
       "2099  Sanahin Tbilisi       Georgia\n",
       "2100             Baku    Azerbaiyan\n",
       "2101         Gobustan    Azerbaiyan\n",
       "2102          Laponia     Argentina\n",
       "\n",
       "[2103 rows x 2 columns]"
      ]
     },
     "execution_count": 82,
     "metadata": {},
     "output_type": "execute_result"
    }
   ],
   "source": [
    "#creo el DF con la ciudad el pais para preparar los datos para la carga y elimino duplicados:\n",
    "df_ciudad_pais_unicos = df_itinerarios_ciudades[['ciudad','pais_correcto']].drop_duplicates().reset_index(drop=True)\n",
    "df_ciudad_pais_unicos"
   ]
  },
  {
   "cell_type": "code",
   "execution_count": 86,
   "id": "2b4f3799",
   "metadata": {},
   "outputs": [
    {
     "name": "stdout",
     "output_type": "stream",
     "text": [
      "La ciudad Iguazu aparece en los paises Argentina, Brasil\n",
      "La ciudad La Paz aparece en los paises Bolivia, Mexico\n",
      "La ciudad Lago Titicaca aparece en los paises Bolivia, Peru\n",
      "La ciudad Sofia aparece en los paises Bulgaria, Rumania\n",
      "La ciudad Monasterio De Rila aparece en los paises Bulgaria, Rumania\n",
      "La ciudad Plovdiv aparece en los paises Bulgaria, Rumania\n",
      "La ciudad Veliko Tarnovo aparece en los paises Bulgaria, Rumania\n",
      "La ciudad Siem Reap aparece en los paises Bulgaria, Tailandia, Vietnam\n",
      "La ciudad Montreal aparece en los paises Canada, Estados Unidos\n",
      "La ciudad Quebec aparece en los paises Canada, Estados Unidos\n",
      "La ciudad Ottawa aparece en los paises Canada, Estados Unidos\n",
      "La ciudad Niagara aparece en los paises Canada, Estados Unidos\n",
      "La ciudad Toronto aparece en los paises Canada, Estados Unidos\n",
      "La ciudad Mil Islas aparece en los paises Canada, Estados Unidos\n",
      "La ciudad Victoria aparece en los paises Canada, Malta\n",
      "La ciudad Hong Kong aparece en los paises China, Taiwan\n",
      "La ciudad Orlando aparece en los paises Estados Unidos, Riviera Maya\n",
      "La ciudad Nueva York aparece en los paises Estados Unidos, Riviera Maya\n",
      "La ciudad  aparece en los paises Estados Unidos, Grecia, Montenegro\n",
      "La ciudad St Louis aparece en los paises Estados Unidos, Senegal\n",
      "La ciudad Niagara Falls aparece en los paises Estados Unidos, Canada\n",
      "La ciudad Punta Cana aparece en los paises Estados Unidos, Republica Dominicana\n",
      "La ciudad Los Cabos aparece en los paises Estados Unidos, Mexico\n",
      "La ciudad Fiji aparece en los paises Fiji, Japon\n",
      "La ciudad Kusadasi aparece en los paises Grecia, Turquia\n",
      "La ciudad Antigua aparece en los paises Guatemala, Antigua\n",
      "La ciudad Tierras Altas aparece en los paises Islandia, Reino Unido\n",
      "La ciudad Maldivas aparece en los paises Islandia, Tanzania, Vietnam , Sudafrica\n",
      "La ciudad Medina aparece en los paises Malta, Arabia Saudi\n",
      "La ciudad Rabat aparece en los paises Malta, Marruecos\n",
      "La ciudad Mauricio aparece en los paises Malta, Kenia, Sudafrica\n",
      "La ciudad Katmandu aparece en los paises Nepal, India\n",
      "La ciudad Manchester aparece en los paises Reino Unido, Estados Unidos\n",
      "La ciudad Praga aparece en los paises Republica Checa, Austria\n",
      "La ciudad Karlovy Vary aparece en los paises Republica Checa, Austria\n",
      "La ciudad Santa Lucia aparece en los paises Santa Lucia, Sudafrica\n",
      "La ciudad Ciudad Del Cabo aparece en los paises Sudafrica, Namibia\n",
      "La ciudad Phuket aparece en los paises Sudafrica, Japon, Vietnam , Tailandia\n",
      "La ciudad Koh Samui aparece en los paises Tailandia, Japon\n",
      "La ciudad Pn Bwindi aparece en los paises Uganda, Kenia\n",
      "La ciudad Riviera Maya aparece en los paises Riviera Maya, Peru\n",
      "La ciudad Bali aparece en los paises China, Japon\n",
      "La ciudad Zanzibar aparece en los paises China, Tanzania, Uganda\n",
      "La ciudad Seychelles aparece en los paises Kenia, Sudafrica\n",
      "La ciudad Cataratas Victoria aparece en los paises Kenia, Sudafrica, Zimbabue , Kenia\n",
      "La ciudad Mozambique aparece en los paises Namibia, Sudafrica\n"
     ]
    }
   ],
   "source": [
    "#Comprueba las ciudades duplicadas\n",
    "ciudades_duplicadas = []\n",
    "for ciudad in df_ciudad_pais_unicos.ciudad.unique():\n",
    "    df_filtrado = df_ciudad_pais_unicos[df_ciudad_pais_unicos.ciudad == ciudad]\n",
    "    if len(df_filtrado.pais_correcto.unique()) >1:\n",
    "        ciudades_duplicadas.append(ciudad)\n",
    "        if len(df_filtrado.pais_correcto.unique()) ==2:\n",
    "            pais1= df_filtrado.pais_correcto.unique()[-2]\n",
    "            pais2=df_filtrado.pais_correcto.unique()[-1]\n",
    "            print(f'La ciudad {ciudad} aparece en los paises {pais1}, {pais2}')\n",
    "        elif len(df_filtrado.pais_correcto.unique()) ==3:\n",
    "            pais3= df_filtrado.pais_correcto.unique()[-3]\n",
    "            pais2= df_filtrado.pais_correcto.unique()[-2]\n",
    "            pais3=df_filtrado.pais_correcto.unique()[-1]\n",
    "            print(f'La ciudad {ciudad} aparece en los paises {pais1}, {pais2}, {pais3}')\n",
    "        else: \n",
    "            pais4= df_filtrado.pais_correcto.unique()[-4]\n",
    "            pais3= df_filtrado.pais_correcto.unique()[-3]\n",
    "            pais2= df_filtrado.pais_correcto.unique()[-2]\n",
    "            pais3=df_filtrado.pais_correcto.unique()[-1]\n",
    "            print(f'La ciudad {ciudad} aparece en los paises {pais1}, {pais2}, {pais3} , {pais4}')\n"
   ]
  },
  {
   "cell_type": "code",
   "execution_count": 87,
   "id": "56426261",
   "metadata": {},
   "outputs": [
    {
     "data": {
      "text/plain": [
       "['Iguazu',\n",
       " 'La Paz',\n",
       " 'Lago Titicaca',\n",
       " 'Sofia',\n",
       " 'Monasterio De Rila',\n",
       " 'Plovdiv',\n",
       " 'Veliko Tarnovo',\n",
       " 'Siem Reap',\n",
       " 'Montreal',\n",
       " 'Quebec',\n",
       " 'Ottawa',\n",
       " 'Niagara',\n",
       " 'Toronto',\n",
       " 'Mil Islas',\n",
       " 'Victoria',\n",
       " 'Hong Kong',\n",
       " 'Orlando',\n",
       " 'Nueva York',\n",
       " '',\n",
       " 'St Louis',\n",
       " 'Niagara Falls',\n",
       " 'Punta Cana',\n",
       " 'Los Cabos',\n",
       " 'Fiji',\n",
       " 'Kusadasi',\n",
       " 'Antigua',\n",
       " 'Tierras Altas',\n",
       " 'Maldivas',\n",
       " 'Medina',\n",
       " 'Rabat',\n",
       " 'Mauricio',\n",
       " 'Katmandu',\n",
       " 'Manchester',\n",
       " 'Praga',\n",
       " 'Karlovy Vary',\n",
       " 'Santa Lucia',\n",
       " 'Ciudad Del Cabo',\n",
       " 'Phuket',\n",
       " 'Koh Samui',\n",
       " 'Pn Bwindi',\n",
       " 'Riviera Maya',\n",
       " 'Bali',\n",
       " 'Zanzibar',\n",
       " 'Seychelles',\n",
       " 'Cataratas Victoria',\n",
       " 'Mozambique']"
      ]
     },
     "execution_count": 87,
     "metadata": {},
     "output_type": "execute_result"
    }
   ],
   "source": [
    "ciudades_duplicadas"
   ]
  },
  {
   "cell_type": "markdown",
   "id": "689e9b9b",
   "metadata": {},
   "source": [
    "### 3.2 Hago la carga en la BBDD:"
   ]
  },
  {
   "cell_type": "markdown",
   "id": "3ab94c1f",
   "metadata": {},
   "source": [
    "La tabla ciudad tiene que tener los siguientes campos:\n",
    "- id_ciudad SERIAL PRIMARY KEY,\n",
    "- nombre_ciudad TEXT UNIQUE,\n",
    "- id_pais_destino INT REFERENCES pais_destino(id_pais_destino) ON DELETE CASCADE"
   ]
  },
  {
   "cell_type": "code",
   "execution_count": null,
   "id": "8d182a89",
   "metadata": {},
   "outputs": [],
   "source": [
    "#Extraigo el id_pais_destino de la tabla pais_destino de la BBDD:\n",
    "cur.execute(\"SELECT nombre_ciudad, id_ciudad FROM ciudad\")\n",
    "ciudad_dict=dict(cur.fetchall())\n",
    "ciudad_dict"
   ]
  }
 ],
 "metadata": {
  "kernelspec": {
   "display_name": "venv",
   "language": "python",
   "name": "python3"
  },
  "language_info": {
   "codemirror_mode": {
    "name": "ipython",
    "version": 3
   },
   "file_extension": ".py",
   "mimetype": "text/x-python",
   "name": "python",
   "nbconvert_exporter": "python",
   "pygments_lexer": "ipython3",
   "version": "3.12.5"
  }
 },
 "nbformat": 4,
 "nbformat_minor": 5
}
