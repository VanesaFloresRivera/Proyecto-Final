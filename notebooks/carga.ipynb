{
 "cells": [
  {
   "cell_type": "code",
   "execution_count": 1,
   "id": "973ef613",
   "metadata": {},
   "outputs": [],
   "source": [
    "import pandas as pd\n",
    "import numpy as np\n",
    "import psycopg2\n",
    "import os\n",
    "from dotenv import load_dotenv\n",
    "import sys #permite navegar por el sistema\n",
    "sys.path.append(\"../\") #solo aplica al soporte\n",
    "import os\n",
    "from dotenv import load_dotenv\n",
    "from src.etl import load as lo #con jupyter\n",
    "import unicodedata\n",
    "from src.etl import transform as tr #con jupyter"
   ]
  },
  {
   "cell_type": "code",
   "execution_count": 2,
   "id": "51552726",
   "metadata": {},
   "outputs": [
    {
     "data": {
      "text/plain": [
       "True"
      ]
     },
     "execution_count": 2,
     "metadata": {},
     "output_type": "execute_result"
    }
   ],
   "source": [
    "load_dotenv()"
   ]
  },
  {
   "cell_type": "code",
   "execution_count": 3,
   "id": "f8d7fcad",
   "metadata": {},
   "outputs": [],
   "source": [
    "#Llamamos a la variable de entorno\n",
    "DB_NAME = os.getenv(\"DB_NAME\")\n",
    "DB_USER=os.getenv(\"DB_USER\")\n",
    "DB_PASSWORD = os.getenv(\"DB_PASSWORD\")\n",
    "DB_HOST= os.getenv(\"DB_HOST\")\n",
    "DB_PORT = os.getenv(\"DB_PORT\")"
   ]
  },
  {
   "cell_type": "code",
   "execution_count": 4,
   "id": "9f2343eb",
   "metadata": {},
   "outputs": [],
   "source": [
    "conn, cur = lo.crear_conexión()"
   ]
  },
  {
   "cell_type": "code",
   "execution_count": 5,
   "id": "7d1f0395",
   "metadata": {},
   "outputs": [
    {
     "data": {
      "text/plain": [
       "('PostgreSQL 16.4, compiled by Visual C++ build 1940, 64-bit',)"
      ]
     },
     "execution_count": 5,
     "metadata": {},
     "output_type": "execute_result"
    }
   ],
   "source": [
    "#Comprobamos que la conexión está bien realizada:\n",
    "cur.execute(\"SELECT version();\")\n",
    "cur.fetchone() #para que muestre el resultado de la query anterior"
   ]
  },
  {
   "cell_type": "code",
   "execution_count": 6,
   "id": "3ee7a1dd",
   "metadata": {},
   "outputs": [],
   "source": [
    "lo.cerrar_conexion(conn, cur)"
   ]
  },
  {
   "cell_type": "markdown",
   "id": "495d1d61",
   "metadata": {},
   "source": [
    "# Creación de los datos para las tablas:"
   ]
  },
  {
   "cell_type": "code",
   "execution_count": 7,
   "id": "c76983be",
   "metadata": {},
   "outputs": [],
   "source": [
    "#Importo los df procesados:\n",
    "ARCHIVO_GUARDAR_ESCRAPEO_VIAJES_PROCESADOS=os.getenv('ARCHIVO_GUARDAR_ESCRAPEO_VIAJES_PROCESADOS')\n",
    "ARCHIVO_GUARDAR_CONTINENTES_PROCESADOS =os.getenv('ARCHIVO_GUARDAR_CONTINENTES_PROCESADOS')\n",
    "ARCHIVO_GUARDAR_ITINERARIOS_PROCESADOS_1=os.getenv('ARCHIVO_GUARDAR_ITINERARIOS_PROCESADOS_1')\n",
    "ARCHIVO_GUARDAR_DATOS_API_PROCESADOS=os.getenv('ARCHIVO_GUARDAR_DATOS_API_PROCESADOS')\n",
    "ARCHIVO_GUARDAR_ESCRAPEO_API_OPENCAGE=os.getenv('ARCHIVO_GUARDAR_ESCRAPEO_API_OPENCAGE')\n",
    "ARCHIVO_GUARDAR_TOTAL_CIUDADES_API = os.getenv('ARCHIVO_GUARDAR_TOTAL_CIUDADES_API')"
   ]
  },
  {
   "cell_type": "markdown",
   "id": "1cbb8b63",
   "metadata": {},
   "source": [
    "## 1. Tabla pais_destino"
   ]
  },
  {
   "cell_type": "markdown",
   "id": "6803d681",
   "metadata": {},
   "source": [
    "###  1.1 Preparación de los datos: Unión de los paises y continentes tanto escrapeados como obtenidos de la API de turismo emisor y de las ciudades de los itinerarios"
   ]
  },
  {
   "cell_type": "markdown",
   "id": "76ae276a",
   "metadata": {},
   "source": [
    "#### a) Turismo emisor"
   ]
  },
  {
   "cell_type": "code",
   "execution_count": 8,
   "id": "f97538ea",
   "metadata": {},
   "outputs": [
    {
     "data": {
      "text/plain": [
       "Index(['Unnamed: 0', 'AÑO', 'MES', 'CCAA_ORIGEN', 'CONTINENTE_DESTINO',\n",
       "       'PAIS_DESTINO', 'TURISTAS', 'PERNOCTACIONES', 'ESTANCIA_MEDIA'],\n",
       "      dtype='object')"
      ]
     },
     "execution_count": 8,
     "metadata": {},
     "output_type": "execute_result"
    }
   ],
   "source": [
    "df_turismo_emisor_procesado=pd.read_csv(ARCHIVO_GUARDAR_DATOS_API_PROCESADOS)\n",
    "df_turismo_emisor_procesado.columns"
   ]
  },
  {
   "cell_type": "code",
   "execution_count": 9,
   "id": "3c723773",
   "metadata": {},
   "outputs": [
    {
     "data": {
      "application/vnd.microsoft.datawrangler.viewer.v0+json": {
       "columns": [
        {
         "name": "index",
         "rawType": "int64",
         "type": "integer"
        },
        {
         "name": "Unnamed: 0",
         "rawType": "int64",
         "type": "integer"
        },
        {
         "name": "AÑO",
         "rawType": "int64",
         "type": "integer"
        },
        {
         "name": "MES",
         "rawType": "int64",
         "type": "integer"
        },
        {
         "name": "CCAA_ORIGEN",
         "rawType": "object",
         "type": "string"
        },
        {
         "name": "CONTINENTE_DESTINO",
         "rawType": "object",
         "type": "string"
        },
        {
         "name": "PAIS_DESTINO",
         "rawType": "object",
         "type": "string"
        },
        {
         "name": "TURISTAS",
         "rawType": "object",
         "type": "string"
        },
        {
         "name": "PERNOCTACIONES",
         "rawType": "object",
         "type": "string"
        },
        {
         "name": "ESTANCIA_MEDIA",
         "rawType": "object",
         "type": "string"
        }
       ],
       "conversionMethod": "pd.DataFrame",
       "ref": "32c201fb-5829-443d-a738-aaaae00a82c4",
       "rows": [
        [
         "0",
         "0",
         "2019",
         "7",
         "Andalucía",
         "América",
         "Argentina",
         "419,0",
         "3616,0",
         "8,6"
        ],
        [
         "1",
         "1",
         "2019",
         "7",
         "Andalucía",
         "América",
         "Bolivia",
         "61,0",
         "486,0",
         "8,0"
        ],
        [
         "2",
         "2",
         "2019",
         "7",
         "Andalucía",
         "América",
         "Brasil",
         "277,0",
         "2214,0",
         "8,0"
        ],
        [
         "3",
         "3",
         "2019",
         "7",
         "Andalucía",
         "América",
         "Canadá",
         "483,0",
         "6159,0",
         "12,8"
        ],
        [
         "4",
         "4",
         "2019",
         "7",
         "Andalucía",
         "América",
         "Chile",
         "242,0",
         "2068,0",
         "8,5"
        ]
       ],
       "shape": {
        "columns": 9,
        "rows": 5
       }
      },
      "text/html": [
       "<div>\n",
       "<style scoped>\n",
       "    .dataframe tbody tr th:only-of-type {\n",
       "        vertical-align: middle;\n",
       "    }\n",
       "\n",
       "    .dataframe tbody tr th {\n",
       "        vertical-align: top;\n",
       "    }\n",
       "\n",
       "    .dataframe thead th {\n",
       "        text-align: right;\n",
       "    }\n",
       "</style>\n",
       "<table border=\"1\" class=\"dataframe\">\n",
       "  <thead>\n",
       "    <tr style=\"text-align: right;\">\n",
       "      <th></th>\n",
       "      <th>Unnamed: 0</th>\n",
       "      <th>AÑO</th>\n",
       "      <th>MES</th>\n",
       "      <th>CCAA_ORIGEN</th>\n",
       "      <th>CONTINENTE_DESTINO</th>\n",
       "      <th>PAIS_DESTINO</th>\n",
       "      <th>TURISTAS</th>\n",
       "      <th>PERNOCTACIONES</th>\n",
       "      <th>ESTANCIA_MEDIA</th>\n",
       "    </tr>\n",
       "  </thead>\n",
       "  <tbody>\n",
       "    <tr>\n",
       "      <th>0</th>\n",
       "      <td>0</td>\n",
       "      <td>2019</td>\n",
       "      <td>7</td>\n",
       "      <td>Andalucía</td>\n",
       "      <td>América</td>\n",
       "      <td>Argentina</td>\n",
       "      <td>419,0</td>\n",
       "      <td>3616,0</td>\n",
       "      <td>8,6</td>\n",
       "    </tr>\n",
       "    <tr>\n",
       "      <th>1</th>\n",
       "      <td>1</td>\n",
       "      <td>2019</td>\n",
       "      <td>7</td>\n",
       "      <td>Andalucía</td>\n",
       "      <td>América</td>\n",
       "      <td>Bolivia</td>\n",
       "      <td>61,0</td>\n",
       "      <td>486,0</td>\n",
       "      <td>8,0</td>\n",
       "    </tr>\n",
       "    <tr>\n",
       "      <th>2</th>\n",
       "      <td>2</td>\n",
       "      <td>2019</td>\n",
       "      <td>7</td>\n",
       "      <td>Andalucía</td>\n",
       "      <td>América</td>\n",
       "      <td>Brasil</td>\n",
       "      <td>277,0</td>\n",
       "      <td>2214,0</td>\n",
       "      <td>8,0</td>\n",
       "    </tr>\n",
       "    <tr>\n",
       "      <th>3</th>\n",
       "      <td>3</td>\n",
       "      <td>2019</td>\n",
       "      <td>7</td>\n",
       "      <td>Andalucía</td>\n",
       "      <td>América</td>\n",
       "      <td>Canadá</td>\n",
       "      <td>483,0</td>\n",
       "      <td>6159,0</td>\n",
       "      <td>12,8</td>\n",
       "    </tr>\n",
       "    <tr>\n",
       "      <th>4</th>\n",
       "      <td>4</td>\n",
       "      <td>2019</td>\n",
       "      <td>7</td>\n",
       "      <td>Andalucía</td>\n",
       "      <td>América</td>\n",
       "      <td>Chile</td>\n",
       "      <td>242,0</td>\n",
       "      <td>2068,0</td>\n",
       "      <td>8,5</td>\n",
       "    </tr>\n",
       "  </tbody>\n",
       "</table>\n",
       "</div>"
      ],
      "text/plain": [
       "   Unnamed: 0   AÑO  MES CCAA_ORIGEN CONTINENTE_DESTINO PAIS_DESTINO TURISTAS  \\\n",
       "0           0  2019    7   Andalucía            América    Argentina    419,0   \n",
       "1           1  2019    7   Andalucía            América      Bolivia     61,0   \n",
       "2           2  2019    7   Andalucía            América       Brasil    277,0   \n",
       "3           3  2019    7   Andalucía            América       Canadá    483,0   \n",
       "4           4  2019    7   Andalucía            América        Chile    242,0   \n",
       "\n",
       "  PERNOCTACIONES ESTANCIA_MEDIA  \n",
       "0         3616,0            8,6  \n",
       "1          486,0            8,0  \n",
       "2         2214,0            8,0  \n",
       "3         6159,0           12,8  \n",
       "4         2068,0            8,5  "
      ]
     },
     "execution_count": 9,
     "metadata": {},
     "output_type": "execute_result"
    }
   ],
   "source": [
    "df_turismo_emisor_procesado.head()"
   ]
  },
  {
   "cell_type": "code",
   "execution_count": 10,
   "id": "2f0ef722",
   "metadata": {},
   "outputs": [
    {
     "data": {
      "text/plain": [
       "array(['América', 'Asia', 'Europa', 'Oceanía', 'África'], dtype=object)"
      ]
     },
     "execution_count": 10,
     "metadata": {},
     "output_type": "execute_result"
    }
   ],
   "source": [
    "df_paises_continentes_turismos_emisor=df_turismo_emisor_procesado[['PAIS_DESTINO','CONTINENTE_DESTINO']]\n",
    "df_paises_continentes_turismos_emisor=df_paises_continentes_turismos_emisor.drop_duplicates()\n",
    "df_paises_continentes_turismos_emisor.CONTINENTE_DESTINO.unique()"
   ]
  },
  {
   "cell_type": "code",
   "execution_count": 11,
   "id": "373aa98c",
   "metadata": {},
   "outputs": [
    {
     "data": {
      "text/plain": [
       "Index(['PAIS_DESTINO', 'CONTINENTE_DESTINO'], dtype='object')"
      ]
     },
     "execution_count": 11,
     "metadata": {},
     "output_type": "execute_result"
    }
   ],
   "source": [
    "df_paises_continentes_turismos_emisor.columns"
   ]
  },
  {
   "cell_type": "code",
   "execution_count": 12,
   "id": "bdd9172e",
   "metadata": {},
   "outputs": [],
   "source": [
    "df_paises_continentes_turismos_emisor= df_paises_continentes_turismos_emisor.rename(\n",
    "    columns={'PAIS_DESTINO':'nombre_pais_destino', 'CONTINENTE_DESTINO':'nombre_continente'})\n",
    "df_paises_continentes_turismos_emisor= df_paises_continentes_turismos_emisor.sort_values(by='nombre_pais_destino').reset_index(drop=True)"
   ]
  },
  {
   "cell_type": "code",
   "execution_count": 13,
   "id": "e301f365",
   "metadata": {},
   "outputs": [
    {
     "data": {
      "application/vnd.microsoft.datawrangler.viewer.v0+json": {
       "columns": [
        {
         "name": "index",
         "rawType": "int64",
         "type": "integer"
        },
        {
         "name": "nombre_pais_destino",
         "rawType": "object",
         "type": "string"
        },
        {
         "name": "nombre_continente",
         "rawType": "object",
         "type": "string"
        }
       ],
       "conversionMethod": "pd.DataFrame",
       "ref": "c432bb79-41a5-47bf-82d5-cd768a28186e",
       "rows": [
        [
         "0",
         "Albania",
         "Europa"
        ],
        [
         "1",
         "Alemania",
         "Europa"
        ],
        [
         "2",
         "Andorra",
         "Europa"
        ],
        [
         "3",
         "Angola",
         "África"
        ],
        [
         "4",
         "Antigua",
         "América"
        ],
        [
         "5",
         "Arabia Saudí",
         "Asia"
        ],
        [
         "6",
         "Argelia",
         "África"
        ],
        [
         "7",
         "Argentina",
         "América"
        ],
        [
         "8",
         "Armenia",
         "Europa"
        ],
        [
         "9",
         "Australia",
         "Oceanía"
        ],
        [
         "10",
         "Austria",
         "Europa"
        ],
        [
         "11",
         "Azerbaiyán",
         "Asia"
        ],
        [
         "12",
         "Bahamas",
         "América"
        ],
        [
         "13",
         "Bahréin",
         "Asia"
        ],
        [
         "14",
         "Bangladesh",
         "Asia"
        ],
        [
         "15",
         "Barbados",
         "América"
        ],
        [
         "16",
         "Belarús",
         "Europa"
        ],
        [
         "17",
         "Belice",
         "América"
        ],
        [
         "18",
         "Benin",
         "África"
        ],
        [
         "19",
         "Bolivia",
         "América"
        ],
        [
         "20",
         "Bosnia y Herzegovina",
         "Europa"
        ],
        [
         "21",
         "Botsuana",
         "África"
        ],
        [
         "22",
         "Brasil",
         "América"
        ],
        [
         "23",
         "Bulgaria",
         "Europa"
        ],
        [
         "24",
         "Burkina Faso",
         "África"
        ],
        [
         "25",
         "Bután",
         "Asia"
        ],
        [
         "26",
         "Bélgica",
         "Europa"
        ],
        [
         "27",
         "Cabo Verde",
         "África"
        ],
        [
         "28",
         "Camboya",
         "Asia"
        ],
        [
         "29",
         "Camerún",
         "África"
        ],
        [
         "30",
         "Canadá",
         "América"
        ],
        [
         "31",
         "Chad",
         "África"
        ],
        [
         "32",
         "Chile",
         "América"
        ],
        [
         "33",
         "China",
         "Asia"
        ],
        [
         "34",
         "Chipre",
         "Europa"
        ],
        [
         "35",
         "Colombia",
         "América"
        ],
        [
         "36",
         "Corea Del Sur",
         "Asia"
        ],
        [
         "37",
         "Costa Rica",
         "América"
        ],
        [
         "38",
         "Costa de Marfil",
         "África"
        ],
        [
         "39",
         "Croacia",
         "Europa"
        ],
        [
         "40",
         "Cuba",
         "América"
        ],
        [
         "41",
         "Dinamarca",
         "Europa"
        ],
        [
         "42",
         "Djibouti",
         "África"
        ],
        [
         "43",
         "Ecuador",
         "América"
        ],
        [
         "44",
         "Egipto",
         "África"
        ],
        [
         "45",
         "El Salvador",
         "América"
        ],
        [
         "46",
         "Emiratos Árabes Unidos",
         "Asia"
        ],
        [
         "47",
         "Eslovenia",
         "Europa"
        ],
        [
         "48",
         "Estados Unidos",
         "América"
        ],
        [
         "49",
         "Estonia",
         "Europa"
        ]
       ],
       "shape": {
        "columns": 2,
        "rows": 158
       }
      },
      "text/html": [
       "<div>\n",
       "<style scoped>\n",
       "    .dataframe tbody tr th:only-of-type {\n",
       "        vertical-align: middle;\n",
       "    }\n",
       "\n",
       "    .dataframe tbody tr th {\n",
       "        vertical-align: top;\n",
       "    }\n",
       "\n",
       "    .dataframe thead th {\n",
       "        text-align: right;\n",
       "    }\n",
       "</style>\n",
       "<table border=\"1\" class=\"dataframe\">\n",
       "  <thead>\n",
       "    <tr style=\"text-align: right;\">\n",
       "      <th></th>\n",
       "      <th>nombre_pais_destino</th>\n",
       "      <th>nombre_continente</th>\n",
       "    </tr>\n",
       "  </thead>\n",
       "  <tbody>\n",
       "    <tr>\n",
       "      <th>0</th>\n",
       "      <td>Albania</td>\n",
       "      <td>Europa</td>\n",
       "    </tr>\n",
       "    <tr>\n",
       "      <th>1</th>\n",
       "      <td>Alemania</td>\n",
       "      <td>Europa</td>\n",
       "    </tr>\n",
       "    <tr>\n",
       "      <th>2</th>\n",
       "      <td>Andorra</td>\n",
       "      <td>Europa</td>\n",
       "    </tr>\n",
       "    <tr>\n",
       "      <th>3</th>\n",
       "      <td>Angola</td>\n",
       "      <td>África</td>\n",
       "    </tr>\n",
       "    <tr>\n",
       "      <th>4</th>\n",
       "      <td>Antigua</td>\n",
       "      <td>América</td>\n",
       "    </tr>\n",
       "    <tr>\n",
       "      <th>...</th>\n",
       "      <td>...</td>\n",
       "      <td>...</td>\n",
       "    </tr>\n",
       "    <tr>\n",
       "      <th>153</th>\n",
       "      <td>Venezuela</td>\n",
       "      <td>América</td>\n",
       "    </tr>\n",
       "    <tr>\n",
       "      <th>154</th>\n",
       "      <td>Vietnam</td>\n",
       "      <td>Asia</td>\n",
       "    </tr>\n",
       "    <tr>\n",
       "      <th>155</th>\n",
       "      <td>Yemen</td>\n",
       "      <td>Asia</td>\n",
       "    </tr>\n",
       "    <tr>\n",
       "      <th>156</th>\n",
       "      <td>Zambia</td>\n",
       "      <td>África</td>\n",
       "    </tr>\n",
       "    <tr>\n",
       "      <th>157</th>\n",
       "      <td>Zimbabue</td>\n",
       "      <td>África</td>\n",
       "    </tr>\n",
       "  </tbody>\n",
       "</table>\n",
       "<p>158 rows × 2 columns</p>\n",
       "</div>"
      ],
      "text/plain": [
       "    nombre_pais_destino nombre_continente\n",
       "0               Albania            Europa\n",
       "1              Alemania            Europa\n",
       "2               Andorra            Europa\n",
       "3                Angola            África\n",
       "4               Antigua           América\n",
       "..                  ...               ...\n",
       "153           Venezuela           América\n",
       "154             Vietnam              Asia\n",
       "155               Yemen              Asia\n",
       "156              Zambia            África\n",
       "157            Zimbabue            África\n",
       "\n",
       "[158 rows x 2 columns]"
      ]
     },
     "execution_count": 13,
     "metadata": {},
     "output_type": "execute_result"
    }
   ],
   "source": [
    "df_paises_continentes_turismos_emisor"
   ]
  },
  {
   "cell_type": "code",
   "execution_count": 14,
   "id": "cf189b1c",
   "metadata": {},
   "outputs": [],
   "source": [
    "#normalizo y capitalizo la columna nombre_pais_destino:\n",
    "df_paises_continentes_turismos_emisor['nombre_pais_destino'] = df_paises_continentes_turismos_emisor['nombre_pais_destino'].map(tr.normalizar_texto)\n",
    "df_paises_continentes_turismos_emisor['nombre_pais_destino'] = df_paises_continentes_turismos_emisor['nombre_pais_destino'].map(tr.capitalizar_texto)"
   ]
  },
  {
   "cell_type": "markdown",
   "id": "4b9b9f11",
   "metadata": {},
   "source": [
    "#### b) Paises escrapeados"
   ]
  },
  {
   "cell_type": "code",
   "execution_count": 15,
   "id": "83bd2617",
   "metadata": {},
   "outputs": [
    {
     "data": {
      "text/plain": [
       "Index(['continente', 'pais', 'fecha_escrapeo', 'en_ultimo_escrapeo'], dtype='object')"
      ]
     },
     "execution_count": 15,
     "metadata": {},
     "output_type": "execute_result"
    }
   ],
   "source": [
    "df_paises_continentes_escrapeo = pd.read_pickle(ARCHIVO_GUARDAR_CONTINENTES_PROCESADOS)\n",
    "df_paises_continentes_escrapeo.columns"
   ]
  },
  {
   "cell_type": "code",
   "execution_count": 16,
   "id": "9d4c0d34",
   "metadata": {},
   "outputs": [
    {
     "data": {
      "application/vnd.microsoft.datawrangler.viewer.v0+json": {
       "columns": [
        {
         "name": "index",
         "rawType": "int64",
         "type": "integer"
        },
        {
         "name": "continente",
         "rawType": "object",
         "type": "string"
        },
        {
         "name": "pais",
         "rawType": "object",
         "type": "string"
        },
        {
         "name": "fecha_escrapeo",
         "rawType": "datetime64[ns]",
         "type": "datetime"
        },
        {
         "name": "en_ultimo_escrapeo",
         "rawType": "object",
         "type": "string"
        }
       ],
       "conversionMethod": "pd.DataFrame",
       "ref": "c6cbc379-f91a-4e63-9ac9-1fb1f9b6f60b",
       "rows": [
        [
         "0",
         "Europa",
         "Albania",
         "2025-04-14 00:00:00",
         "Si"
        ],
        [
         "1",
         "Europa",
         "Alemania",
         "2025-04-14 00:00:00",
         "Si"
        ],
        [
         "2",
         "América",
         "Antigua",
         "2025-04-14 00:00:00",
         "Si"
        ],
        [
         "3",
         "América",
         "Argentina",
         "2025-04-14 00:00:00",
         "Si"
        ],
        [
         "4",
         "América",
         "Aruba",
         "2025-04-14 00:00:00",
         "Si"
        ],
        [
         "5",
         "Oceanía",
         "Australia",
         "2025-04-14 00:00:00",
         "Si"
        ],
        [
         "6",
         "Europa",
         "Austria",
         "2025-04-14 00:00:00",
         "Si"
        ],
        [
         "7",
         "América",
         "Bahamas",
         "2025-04-14 00:00:00",
         "Si"
        ],
        [
         "8",
         "América",
         "Barbados",
         "2025-04-14 00:00:00",
         "Si"
        ],
        [
         "9",
         "Europa",
         "Bélgica",
         "2025-04-14 00:00:00",
         "Si"
        ],
        [
         "10",
         "América",
         "Belice",
         "2025-04-14 00:00:00",
         "Si"
        ],
        [
         "11",
         "América",
         "Bolivia",
         "2025-04-14 00:00:00",
         "Si"
        ],
        [
         "12",
         "África",
         "Botsuana",
         "2025-04-14 00:00:00",
         "Si"
        ],
        [
         "13",
         "América",
         "Brasil",
         "2025-04-14 00:00:00",
         "Si"
        ],
        [
         "14",
         "Europa",
         "Bulgaria",
         "2025-04-14 00:00:00",
         "Si"
        ],
        [
         "15",
         "Asia",
         "Bután",
         "2025-04-14 00:00:00",
         "Si"
        ],
        [
         "16",
         "África",
         "Cabo Verde",
         "2025-04-14 00:00:00",
         "Si"
        ],
        [
         "17",
         "Asia",
         "Camboya",
         "2025-04-14 00:00:00",
         "Si"
        ],
        [
         "18",
         "América",
         "Canadá",
         "2025-04-14 00:00:00",
         "Si"
        ],
        [
         "19",
         "América",
         "Chile",
         "2025-04-14 00:00:00",
         "Si"
        ],
        [
         "20",
         "Asia",
         "China",
         "2025-04-14 00:00:00",
         "Si"
        ],
        [
         "21",
         "Europa",
         "Chipre",
         "2025-04-14 00:00:00",
         "Si"
        ],
        [
         "22",
         "América",
         "Colombia",
         "2025-04-14 00:00:00",
         "Si"
        ],
        [
         "23",
         "Asia",
         "Corea Del Sur",
         "2025-04-14 00:00:00",
         "Si"
        ],
        [
         "24",
         "América",
         "Costa Rica",
         "2025-04-14 00:00:00",
         "Si"
        ],
        [
         "25",
         "Europa",
         "Croacia",
         "2025-04-14 00:00:00",
         "Si"
        ],
        [
         "26",
         "América",
         "Curaçao",
         "2025-04-14 00:00:00",
         "Si"
        ],
        [
         "27",
         "Europa",
         "Dinamarca",
         "2025-04-14 00:00:00",
         "Si"
        ],
        [
         "28",
         "América",
         "Dominica",
         "2025-04-14 00:00:00",
         "Si"
        ],
        [
         "29",
         "América",
         "Ecuador",
         "2025-04-14 00:00:00",
         "Si"
        ],
        [
         "30",
         "África",
         "Egipto",
         "2025-04-14 00:00:00",
         "Si"
        ],
        [
         "31",
         "América",
         "El Salvador",
         "2025-04-14 00:00:00",
         "Si"
        ],
        [
         "32",
         "Asia",
         "Emiratos Árabes Unidos",
         "2025-04-14 00:00:00",
         "Si"
        ],
        [
         "33",
         "Europa",
         "Eslovaquia",
         "2025-04-14 00:00:00",
         "Si"
        ],
        [
         "34",
         "Europa",
         "Eslovenia",
         "2025-04-14 00:00:00",
         "Si"
        ],
        [
         "35",
         "Europa",
         "España",
         "2025-04-14 00:00:00",
         "Si"
        ],
        [
         "36",
         "América",
         "Estados Unidos",
         "2025-04-14 00:00:00",
         "Si"
        ],
        [
         "37",
         "Europa",
         "Estonia",
         "2025-04-14 00:00:00",
         "Si"
        ],
        [
         "38",
         "Oceanía",
         "Fiji",
         "2025-04-14 00:00:00",
         "Si"
        ],
        [
         "39",
         "Asia",
         "Filipinas",
         "2025-04-14 00:00:00",
         "Si"
        ],
        [
         "40",
         "Europa",
         "Finlandia",
         "2025-04-14 00:00:00",
         "Si"
        ],
        [
         "41",
         "Europa",
         "Francia",
         "2025-04-14 00:00:00",
         "Si"
        ],
        [
         "42",
         "América",
         "Georgia",
         "2025-04-14 00:00:00",
         "Si"
        ],
        [
         "43",
         "América",
         "Granada",
         "2025-04-14 00:00:00",
         "Si"
        ],
        [
         "44",
         "Europa",
         "Grecia",
         "2025-04-14 00:00:00",
         "Si"
        ],
        [
         "45",
         "América",
         "Guadalupe",
         "2025-04-14 00:00:00",
         "Si"
        ],
        [
         "46",
         "América",
         "Guatemala",
         "2025-04-14 00:00:00",
         "Si"
        ],
        [
         "47",
         "América",
         "Honduras",
         "2025-04-14 00:00:00",
         "Si"
        ],
        [
         "48",
         "Europa",
         "Hungría",
         "2025-04-14 00:00:00",
         "Si"
        ],
        [
         "49",
         "Asia",
         "India",
         "2025-04-14 00:00:00",
         "Si"
        ]
       ],
       "shape": {
        "columns": 4,
        "rows": 3797
       }
      },
      "text/html": [
       "<div>\n",
       "<style scoped>\n",
       "    .dataframe tbody tr th:only-of-type {\n",
       "        vertical-align: middle;\n",
       "    }\n",
       "\n",
       "    .dataframe tbody tr th {\n",
       "        vertical-align: top;\n",
       "    }\n",
       "\n",
       "    .dataframe thead th {\n",
       "        text-align: right;\n",
       "    }\n",
       "</style>\n",
       "<table border=\"1\" class=\"dataframe\">\n",
       "  <thead>\n",
       "    <tr style=\"text-align: right;\">\n",
       "      <th></th>\n",
       "      <th>continente</th>\n",
       "      <th>pais</th>\n",
       "      <th>fecha_escrapeo</th>\n",
       "      <th>en_ultimo_escrapeo</th>\n",
       "    </tr>\n",
       "  </thead>\n",
       "  <tbody>\n",
       "    <tr>\n",
       "      <th>0</th>\n",
       "      <td>Europa</td>\n",
       "      <td>Albania</td>\n",
       "      <td>2025-04-14</td>\n",
       "      <td>Si</td>\n",
       "    </tr>\n",
       "    <tr>\n",
       "      <th>1</th>\n",
       "      <td>Europa</td>\n",
       "      <td>Alemania</td>\n",
       "      <td>2025-04-14</td>\n",
       "      <td>Si</td>\n",
       "    </tr>\n",
       "    <tr>\n",
       "      <th>2</th>\n",
       "      <td>América</td>\n",
       "      <td>Antigua</td>\n",
       "      <td>2025-04-14</td>\n",
       "      <td>Si</td>\n",
       "    </tr>\n",
       "    <tr>\n",
       "      <th>3</th>\n",
       "      <td>América</td>\n",
       "      <td>Argentina</td>\n",
       "      <td>2025-04-14</td>\n",
       "      <td>Si</td>\n",
       "    </tr>\n",
       "    <tr>\n",
       "      <th>4</th>\n",
       "      <td>América</td>\n",
       "      <td>Aruba</td>\n",
       "      <td>2025-04-14</td>\n",
       "      <td>Si</td>\n",
       "    </tr>\n",
       "    <tr>\n",
       "      <th>...</th>\n",
       "      <td>...</td>\n",
       "      <td>...</td>\n",
       "      <td>...</td>\n",
       "      <td>...</td>\n",
       "    </tr>\n",
       "    <tr>\n",
       "      <th>3792</th>\n",
       "      <td>América</td>\n",
       "      <td>Uruguay</td>\n",
       "      <td>2025-05-18</td>\n",
       "      <td>Si</td>\n",
       "    </tr>\n",
       "    <tr>\n",
       "      <th>3793</th>\n",
       "      <td>Asia</td>\n",
       "      <td>Uzbekistán</td>\n",
       "      <td>2025-05-18</td>\n",
       "      <td>Si</td>\n",
       "    </tr>\n",
       "    <tr>\n",
       "      <th>3794</th>\n",
       "      <td>Asia</td>\n",
       "      <td>Vietnam</td>\n",
       "      <td>2025-05-18</td>\n",
       "      <td>Si</td>\n",
       "    </tr>\n",
       "    <tr>\n",
       "      <th>3795</th>\n",
       "      <td>África</td>\n",
       "      <td>Zanzíbar</td>\n",
       "      <td>2025-05-18</td>\n",
       "      <td>Si</td>\n",
       "    </tr>\n",
       "    <tr>\n",
       "      <th>3796</th>\n",
       "      <td>África</td>\n",
       "      <td>Zimbabue</td>\n",
       "      <td>2025-05-18</td>\n",
       "      <td>Si</td>\n",
       "    </tr>\n",
       "  </tbody>\n",
       "</table>\n",
       "<p>3797 rows × 4 columns</p>\n",
       "</div>"
      ],
      "text/plain": [
       "     continente        pais fecha_escrapeo en_ultimo_escrapeo\n",
       "0        Europa     Albania     2025-04-14                 Si\n",
       "1        Europa    Alemania     2025-04-14                 Si\n",
       "2       América     Antigua     2025-04-14                 Si\n",
       "3       América   Argentina     2025-04-14                 Si\n",
       "4       América       Aruba     2025-04-14                 Si\n",
       "...         ...         ...            ...                ...\n",
       "3792    América     Uruguay     2025-05-18                 Si\n",
       "3793       Asia  Uzbekistán     2025-05-18                 Si\n",
       "3794       Asia     Vietnam     2025-05-18                 Si\n",
       "3795     África    Zanzíbar     2025-05-18                 Si\n",
       "3796     África    Zimbabue     2025-05-18                 Si\n",
       "\n",
       "[3797 rows x 4 columns]"
      ]
     },
     "execution_count": 16,
     "metadata": {},
     "output_type": "execute_result"
    }
   ],
   "source": [
    "df_paises_continentes_escrapeo"
   ]
  },
  {
   "cell_type": "code",
   "execution_count": 17,
   "id": "bbbb5306",
   "metadata": {},
   "outputs": [],
   "source": [
    "df_paises_continentes_escrapeo=df_paises_continentes_escrapeo[['pais','continente']]\n",
    "df_paises_continentes_escrapeo= df_paises_continentes_escrapeo.drop_duplicates()"
   ]
  },
  {
   "cell_type": "code",
   "execution_count": 18,
   "id": "5e30c975",
   "metadata": {},
   "outputs": [],
   "source": [
    "df_paises_continentes_escrapeo= df_paises_continentes_escrapeo.rename(\n",
    "    columns={'pais':'nombre_pais_destino', 'continente':'nombre_continente'})"
   ]
  },
  {
   "cell_type": "code",
   "execution_count": 19,
   "id": "da6f612f",
   "metadata": {},
   "outputs": [
    {
     "data": {
      "application/vnd.microsoft.datawrangler.viewer.v0+json": {
       "columns": [
        {
         "name": "index",
         "rawType": "int64",
         "type": "integer"
        },
        {
         "name": "nombre_pais_destino",
         "rawType": "object",
         "type": "string"
        },
        {
         "name": "nombre_continente",
         "rawType": "object",
         "type": "string"
        }
       ],
       "conversionMethod": "pd.DataFrame",
       "ref": "f7408512-5eba-4c59-9d55-ae04c4f7575e",
       "rows": [
        [
         "0",
         "Albania",
         "Europa"
        ],
        [
         "1",
         "Alemania",
         "Europa"
        ],
        [
         "2",
         "Antigua",
         "América"
        ],
        [
         "3",
         "Arabia Saudí",
         "Asia"
        ],
        [
         "4",
         "Argentina",
         "América"
        ],
        [
         "5",
         "Armenia",
         "Asia"
        ],
        [
         "6",
         "Aruba",
         "América"
        ],
        [
         "7",
         "Australia",
         "Oceanía"
        ],
        [
         "8",
         "Austria",
         "Europa"
        ],
        [
         "9",
         "Bahamas",
         "América"
        ],
        [
         "10",
         "Barbados",
         "América"
        ],
        [
         "11",
         "Belice",
         "América"
        ],
        [
         "12",
         "Bolivia",
         "América"
        ],
        [
         "13",
         "Bosnia y Herzegovina",
         "Europa"
        ],
        [
         "14",
         "Botsuana",
         "África"
        ],
        [
         "15",
         "Brasil",
         "América"
        ],
        [
         "16",
         "Bulgaria",
         "Europa"
        ],
        [
         "17",
         "Bután",
         "Asia"
        ],
        [
         "18",
         "Bélgica",
         "Europa"
        ],
        [
         "19",
         "Cabo Verde",
         "África"
        ],
        [
         "20",
         "Camboya",
         "Asia"
        ],
        [
         "21",
         "Canadá",
         "América"
        ],
        [
         "22",
         "Chile",
         "América"
        ],
        [
         "23",
         "China",
         "Asia"
        ],
        [
         "24",
         "Chipre",
         "Europa"
        ],
        [
         "25",
         "Colombia",
         "América"
        ],
        [
         "26",
         "Corea Del Sur",
         "Asia"
        ],
        [
         "27",
         "Costa Rica",
         "América"
        ],
        [
         "28",
         "Croacia",
         "Europa"
        ],
        [
         "29",
         "Curaçao",
         "América"
        ],
        [
         "30",
         "Dinamarca",
         "Europa"
        ],
        [
         "31",
         "Dominica",
         "América"
        ],
        [
         "32",
         "Ecuador",
         "América"
        ],
        [
         "33",
         "Egipto",
         "África"
        ],
        [
         "34",
         "El Salvador",
         "América"
        ],
        [
         "35",
         "Emiratos Árabes Unidos",
         "Asia"
        ],
        [
         "36",
         "Eslovaquia",
         "Europa"
        ],
        [
         "37",
         "Eslovenia",
         "Europa"
        ],
        [
         "38",
         "España",
         "Europa"
        ],
        [
         "39",
         "Estados Unidos",
         "América"
        ],
        [
         "40",
         "Estonia",
         "Europa"
        ],
        [
         "41",
         "Fiji",
         "Oceanía"
        ],
        [
         "42",
         "Filipinas",
         "Asia"
        ],
        [
         "43",
         "Finlandia",
         "Europa"
        ],
        [
         "44",
         "Francia",
         "Europa"
        ],
        [
         "45",
         "Georgia",
         "América"
        ],
        [
         "46",
         "Granada",
         "América"
        ],
        [
         "47",
         "Grecia",
         "Europa"
        ],
        [
         "48",
         "Guadalupe",
         "América"
        ],
        [
         "49",
         "Guatemala",
         "América"
        ]
       ],
       "shape": {
        "columns": 2,
        "rows": 125
       }
      },
      "text/html": [
       "<div>\n",
       "<style scoped>\n",
       "    .dataframe tbody tr th:only-of-type {\n",
       "        vertical-align: middle;\n",
       "    }\n",
       "\n",
       "    .dataframe tbody tr th {\n",
       "        vertical-align: top;\n",
       "    }\n",
       "\n",
       "    .dataframe thead th {\n",
       "        text-align: right;\n",
       "    }\n",
       "</style>\n",
       "<table border=\"1\" class=\"dataframe\">\n",
       "  <thead>\n",
       "    <tr style=\"text-align: right;\">\n",
       "      <th></th>\n",
       "      <th>nombre_pais_destino</th>\n",
       "      <th>nombre_continente</th>\n",
       "    </tr>\n",
       "  </thead>\n",
       "  <tbody>\n",
       "    <tr>\n",
       "      <th>0</th>\n",
       "      <td>Albania</td>\n",
       "      <td>Europa</td>\n",
       "    </tr>\n",
       "    <tr>\n",
       "      <th>1</th>\n",
       "      <td>Alemania</td>\n",
       "      <td>Europa</td>\n",
       "    </tr>\n",
       "    <tr>\n",
       "      <th>2</th>\n",
       "      <td>Antigua</td>\n",
       "      <td>América</td>\n",
       "    </tr>\n",
       "    <tr>\n",
       "      <th>3</th>\n",
       "      <td>Arabia Saudí</td>\n",
       "      <td>Asia</td>\n",
       "    </tr>\n",
       "    <tr>\n",
       "      <th>4</th>\n",
       "      <td>Argentina</td>\n",
       "      <td>América</td>\n",
       "    </tr>\n",
       "    <tr>\n",
       "      <th>...</th>\n",
       "      <td>...</td>\n",
       "      <td>...</td>\n",
       "    </tr>\n",
       "    <tr>\n",
       "      <th>120</th>\n",
       "      <td>Uruguay</td>\n",
       "      <td>América</td>\n",
       "    </tr>\n",
       "    <tr>\n",
       "      <th>121</th>\n",
       "      <td>Uzbekistán</td>\n",
       "      <td>Asia</td>\n",
       "    </tr>\n",
       "    <tr>\n",
       "      <th>122</th>\n",
       "      <td>Vietnam</td>\n",
       "      <td>Asia</td>\n",
       "    </tr>\n",
       "    <tr>\n",
       "      <th>123</th>\n",
       "      <td>Zanzíbar</td>\n",
       "      <td>África</td>\n",
       "    </tr>\n",
       "    <tr>\n",
       "      <th>124</th>\n",
       "      <td>Zimbabue</td>\n",
       "      <td>África</td>\n",
       "    </tr>\n",
       "  </tbody>\n",
       "</table>\n",
       "<p>125 rows × 2 columns</p>\n",
       "</div>"
      ],
      "text/plain": [
       "    nombre_pais_destino nombre_continente\n",
       "0               Albania            Europa\n",
       "1              Alemania            Europa\n",
       "2               Antigua           América\n",
       "3          Arabia Saudí              Asia\n",
       "4             Argentina           América\n",
       "..                  ...               ...\n",
       "120             Uruguay           América\n",
       "121          Uzbekistán              Asia\n",
       "122             Vietnam              Asia\n",
       "123            Zanzíbar            África\n",
       "124            Zimbabue            África\n",
       "\n",
       "[125 rows x 2 columns]"
      ]
     },
     "execution_count": 19,
     "metadata": {},
     "output_type": "execute_result"
    }
   ],
   "source": [
    "df_paises_continentes_escrapeo= df_paises_continentes_escrapeo.sort_values(by='nombre_pais_destino').reset_index(drop=True)\n",
    "df_paises_continentes_escrapeo"
   ]
  },
  {
   "cell_type": "code",
   "execution_count": 20,
   "id": "7a38675f",
   "metadata": {},
   "outputs": [],
   "source": [
    "#normalizo y capitalizo la columna nombre_pais_destino:\n",
    "df_paises_continentes_escrapeo['nombre_pais_destino'] = df_paises_continentes_escrapeo['nombre_pais_destino'].map(tr.normalizar_texto)\n",
    "df_paises_continentes_escrapeo['nombre_pais_destino'] = df_paises_continentes_escrapeo['nombre_pais_destino'].map(tr.capitalizar_texto)"
   ]
  },
  {
   "cell_type": "markdown",
   "id": "46c77f5d",
   "metadata": {},
   "source": [
    "#### c) Paises en itinerarios ciudades"
   ]
  },
  {
   "cell_type": "code",
   "execution_count": 21,
   "id": "71582731",
   "metadata": {},
   "outputs": [
    {
     "data": {
      "text/plain": [
       "Index(['itinerario_modificado_para_dividir', 'ciudad', 'pais_correcto'], dtype='object')"
      ]
     },
     "execution_count": 21,
     "metadata": {},
     "output_type": "execute_result"
    }
   ],
   "source": [
    "df_itinerarios_ciudades = pd.read_pickle(ARCHIVO_GUARDAR_ITINERARIOS_PROCESADOS_1)\n",
    "df_itinerarios_ciudades.columns"
   ]
  },
  {
   "cell_type": "code",
   "execution_count": 22,
   "id": "b1429557",
   "metadata": {},
   "outputs": [],
   "source": [
    "df_itinerarios_ciudades_pais_continentes = pd.DataFrame()\n",
    "df_itinerarios_ciudades_pais_continentes['pais'] = df_itinerarios_ciudades['pais_correcto'].drop_duplicates().reset_index(drop=True)"
   ]
  },
  {
   "cell_type": "code",
   "execution_count": 23,
   "id": "725dd463",
   "metadata": {},
   "outputs": [
    {
     "data": {
      "application/vnd.microsoft.datawrangler.viewer.v0+json": {
       "columns": [
        {
         "name": "index",
         "rawType": "int64",
         "type": "integer"
        },
        {
         "name": "pais",
         "rawType": "object",
         "type": "string"
        }
       ],
       "conversionMethod": "pd.DataFrame",
       "ref": "dceff822-9b12-4c4c-a5d1-2846f41e05f6",
       "rows": [
        [
         "0",
         "Albania"
        ],
        [
         "1",
         "Montenegro"
        ],
        [
         "2",
         "Alemania"
        ],
        [
         "3",
         "Austria"
        ],
        [
         "4",
         "Bélgica"
        ],
        [
         "5",
         "Francia"
        ],
        [
         "6",
         "Belgica"
        ],
        [
         "7",
         "Italia"
        ],
        [
         "8",
         "Argentina"
        ],
        [
         "9",
         "Brasil"
        ],
        [
         "10",
         "Chile"
        ],
        [
         "11",
         "Aruba"
        ],
        [
         "12",
         "Canada"
        ],
        [
         "13",
         "Australia"
        ],
        [
         "14",
         "Nueva Zelanda"
        ],
        [
         "15",
         "Tailandia"
        ],
        [
         "16",
         "Chequia"
        ],
        [
         "17",
         "Eslovaquia"
        ],
        [
         "18",
         "Hungría"
        ],
        [
         "19",
         "Hungria"
        ],
        [
         "20",
         "Belice"
        ],
        [
         "21",
         "Bahamas"
        ],
        [
         "22",
         "Estados Unidos"
        ],
        [
         "23",
         "Barbados"
        ],
        [
         "24",
         "Países Bajos"
        ],
        [
         "25",
         "Paises Bajos"
        ],
        [
         "26",
         "Bolivia"
        ],
        [
         "27",
         "Perú"
        ],
        [
         "28",
         "Kenia"
        ],
        [
         "29",
         "Namibia"
        ],
        [
         "30",
         "Zimbabue"
        ],
        [
         "31",
         "Sudáfrica"
        ],
        [
         "32",
         "Botsuana"
        ],
        [
         "33",
         "Bulgaria"
        ],
        [
         "34",
         "Turquía"
        ],
        [
         "35",
         "Serbia"
        ],
        [
         "36",
         "Rumanía"
        ],
        [
         "37",
         "Grecia"
        ],
        [
         "38",
         "Nepal"
        ],
        [
         "39",
         "Bután"
        ],
        [
         "40",
         "India"
        ],
        [
         "41",
         "Cabo Verde"
        ],
        [
         "42",
         "Camboya"
        ],
        [
         "43",
         "Vietnam"
        ],
        [
         "44",
         "Laos"
        ],
        [
         "45",
         "Canadá"
        ],
        [
         "46",
         "Mexico"
        ],
        [
         "47",
         "Malta"
        ],
        [
         "48",
         "China"
        ],
        [
         "49",
         "Islas Cook"
        ]
       ],
       "shape": {
        "columns": 1,
        "rows": 135
       }
      },
      "text/html": [
       "<div>\n",
       "<style scoped>\n",
       "    .dataframe tbody tr th:only-of-type {\n",
       "        vertical-align: middle;\n",
       "    }\n",
       "\n",
       "    .dataframe tbody tr th {\n",
       "        vertical-align: top;\n",
       "    }\n",
       "\n",
       "    .dataframe thead th {\n",
       "        text-align: right;\n",
       "    }\n",
       "</style>\n",
       "<table border=\"1\" class=\"dataframe\">\n",
       "  <thead>\n",
       "    <tr style=\"text-align: right;\">\n",
       "      <th></th>\n",
       "      <th>pais</th>\n",
       "    </tr>\n",
       "  </thead>\n",
       "  <tbody>\n",
       "    <tr>\n",
       "      <th>0</th>\n",
       "      <td>Albania</td>\n",
       "    </tr>\n",
       "    <tr>\n",
       "      <th>1</th>\n",
       "      <td>Montenegro</td>\n",
       "    </tr>\n",
       "    <tr>\n",
       "      <th>2</th>\n",
       "      <td>Alemania</td>\n",
       "    </tr>\n",
       "    <tr>\n",
       "      <th>3</th>\n",
       "      <td>Austria</td>\n",
       "    </tr>\n",
       "    <tr>\n",
       "      <th>4</th>\n",
       "      <td>Bélgica</td>\n",
       "    </tr>\n",
       "    <tr>\n",
       "      <th>...</th>\n",
       "      <td>...</td>\n",
       "    </tr>\n",
       "    <tr>\n",
       "      <th>130</th>\n",
       "      <td>Armenia</td>\n",
       "    </tr>\n",
       "    <tr>\n",
       "      <th>131</th>\n",
       "      <td>Arabia Saudi</td>\n",
       "    </tr>\n",
       "    <tr>\n",
       "      <th>132</th>\n",
       "      <td>Bosnia y Herzegovina</td>\n",
       "    </tr>\n",
       "    <tr>\n",
       "      <th>133</th>\n",
       "      <td>Taiwán</td>\n",
       "    </tr>\n",
       "    <tr>\n",
       "      <th>134</th>\n",
       "      <td>Taiwan</td>\n",
       "    </tr>\n",
       "  </tbody>\n",
       "</table>\n",
       "<p>135 rows × 1 columns</p>\n",
       "</div>"
      ],
      "text/plain": [
       "                     pais\n",
       "0                 Albania\n",
       "1              Montenegro\n",
       "2                Alemania\n",
       "3                 Austria\n",
       "4                 Bélgica\n",
       "..                    ...\n",
       "130               Armenia\n",
       "131          Arabia Saudi\n",
       "132  Bosnia y Herzegovina\n",
       "133                Taiwán\n",
       "134                Taiwan\n",
       "\n",
       "[135 rows x 1 columns]"
      ]
     },
     "execution_count": 23,
     "metadata": {},
     "output_type": "execute_result"
    }
   ],
   "source": [
    "df_itinerarios_ciudades_pais_continentes"
   ]
  },
  {
   "cell_type": "code",
   "execution_count": 24,
   "id": "0213a165",
   "metadata": {},
   "outputs": [],
   "source": [
    "#normalizo y capitalizo la columna pais:\n",
    "df_itinerarios_ciudades_pais_continentes['pais'] = df_itinerarios_ciudades_pais_continentes['pais'].map(tr.normalizar_texto)\n",
    "df_itinerarios_ciudades_pais_continentes['pais'] = df_itinerarios_ciudades_pais_continentes['pais'].map(tr.capitalizar_texto)"
   ]
  },
  {
   "cell_type": "code",
   "execution_count": 25,
   "id": "1e9f50b0",
   "metadata": {},
   "outputs": [
    {
     "data": {
      "text/plain": [
       "Index(['ciudad', 'continente_api', 'pais_api', 'latitud', 'longitud'], dtype='object')"
      ]
     },
     "execution_count": 25,
     "metadata": {},
     "output_type": "execute_result"
    }
   ],
   "source": [
    "df_opencage_ciudades_totales = pd.read_pickle(ARCHIVO_GUARDAR_TOTAL_CIUDADES_API)\n",
    "df_opencage_ciudades_totales.columns"
   ]
  },
  {
   "cell_type": "code",
   "execution_count": 26,
   "id": "5fab4bd1",
   "metadata": {},
   "outputs": [
    {
     "data": {
      "text/plain": [
       "continente_api\n",
       "Europe                     755\n",
       "North America              398\n",
       "Asia                       377\n",
       "Africa                     207\n",
       "South America              150\n",
       "Información desconocida    126\n",
       "Oceania                     87\n",
       "Name: count, dtype: int64"
      ]
     },
     "execution_count": 26,
     "metadata": {},
     "output_type": "execute_result"
    }
   ],
   "source": [
    "df_opencage_ciudades_totales.continente_api.value_counts()"
   ]
  },
  {
   "cell_type": "code",
   "execution_count": 27,
   "id": "d8d0c507",
   "metadata": {},
   "outputs": [],
   "source": [
    "#sustituyo los valores dados en Inglés por los valores en Español en la columna continente_api:\n",
    "df_opencage_ciudades_totales.continente_api= df_opencage_ciudades_totales.continente_api.replace({'North America':'América',\n",
    "                                                'South America': 'América',\n",
    "                                                'Africa': 'África',\n",
    "                                                'Europe': 'Europa',\n",
    "                                                'Oceania':'Oceanía'})"
   ]
  },
  {
   "cell_type": "code",
   "execution_count": 28,
   "id": "e1a96d01",
   "metadata": {},
   "outputs": [],
   "source": [
    "#normalizo y capitalizo la columna pais_api:\n",
    "df_opencage_ciudades_totales['pais_api'] = df_opencage_ciudades_totales['pais_api'].map(tr.normalizar_texto)\n",
    "df_opencage_ciudades_totales['pais_api'] = df_opencage_ciudades_totales['pais_api'].map(tr.capitalizar_texto)"
   ]
  },
  {
   "cell_type": "code",
   "execution_count": 29,
   "id": "f94abef5",
   "metadata": {},
   "outputs": [
    {
     "data": {
      "application/vnd.microsoft.datawrangler.viewer.v0+json": {
       "columns": [
        {
         "name": "index",
         "rawType": "int64",
         "type": "integer"
        },
        {
         "name": "ciudad",
         "rawType": "object",
         "type": "string"
        },
        {
         "name": "continente_api",
         "rawType": "object",
         "type": "unknown"
        },
        {
         "name": "pais_api",
         "rawType": "object",
         "type": "unknown"
        },
        {
         "name": "latitud",
         "rawType": "object",
         "type": "unknown"
        },
        {
         "name": "longitud",
         "rawType": "object",
         "type": "unknown"
        }
       ],
       "conversionMethod": "pd.DataFrame",
       "ref": "2b1c033a-d671-4181-aa32-748c8b6e6e01",
       "rows": [
        [
         "0",
         "Tirana",
         "Europa",
         "Albania",
         "41.3281482",
         "19.8184435"
        ],
        [
         "1",
         "Dürres",
         "Europa",
         "Albania",
         "41.313255",
         "19.4462348"
        ],
        [
         "2",
         "Berat",
         "Europa",
         "Albania",
         "40.7018636",
         "19.9580758"
        ],
        [
         "3",
         "Kruja",
         "Europa",
         "Albania",
         "41.511251",
         "19.792852"
        ],
        [
         "4",
         "Shkodër",
         "Europa",
         "Albania",
         "42.0681371",
         "19.5121437"
        ],
        [
         "5",
         "Petrovac",
         "Europa",
         "Montenegro",
         "42.2068358",
         "18.9428248"
        ],
        [
         "6",
         "Budva",
         "Europa",
         "Montenegro",
         "42.2885656",
         "18.8419505"
        ],
        [
         "7",
         "Cetinje",
         "Europa",
         "Montenegro",
         "42.389633",
         "18.9246085"
        ],
        [
         "8",
         "Bar",
         "Europa",
         "Montenegro",
         "42.0979745",
         "19.0954528"
        ],
        [
         "9",
         "Salzburgo",
         "Europa",
         "Austria",
         "47.7981346",
         "13.0464806"
        ],
        [
         "10",
         "Gmunden",
         "Europa",
         "Austria",
         "47.9185855",
         "13.8003048"
        ],
        [
         "11",
         "Linz",
         "Europa",
         "Austria",
         "48.3059078",
         "14.286198"
        ],
        [
         "12",
         "Melk",
         "Europa",
         "Austria",
         "48.2272068",
         "15.3369992"
        ],
        [
         "13",
         "Viena",
         "Europa",
         "Austria",
         "48.2083537",
         "16.3725042"
        ],
        [
         "14",
         "Graz",
         "Europa",
         "Austria",
         "47.0708678",
         "15.4382786"
        ],
        [
         "15",
         "Hallstatt",
         "Europa",
         "Austria",
         "47.5621698",
         "13.6486697"
        ],
        [
         "16",
         "St Wolfgang",
         "Europa",
         "Alemania",
         "48.2192116",
         "12.1344678"
        ],
        [
         "17",
         "St Johann in Tirol",
         "Europa",
         "Austria",
         "47.5224141",
         "12.4286809"
        ],
        [
         "18",
         "Innsbruck",
         "Europa",
         "Austria",
         "47.2654296",
         "11.3927685"
        ],
        [
         "19",
         "Bruselas",
         "Europa",
         "Belgica",
         "50.8465573",
         "4.351697"
        ],
        [
         "20",
         "Durbuy",
         "Europa",
         "Belgica",
         "50.3524116",
         "5.456248"
        ],
        [
         "21",
         "Lieja",
         "Europa",
         "Belgica",
         "50.6450944",
         "5.5736112"
        ],
        [
         "22",
         "Aquisgrán",
         "Europa",
         "Alemania",
         "50.776351",
         "6.083862"
        ],
        [
         "23",
         "Colonia",
         "América",
         "Uruguay",
         "-34.4698592",
         "-57.8433679"
        ],
        [
         "24",
         "Bonn",
         "Europa",
         "Alemania",
         "50.7352621",
         "7.1024635"
        ],
        [
         "25",
         "Königswinter",
         "Europa",
         "Alemania",
         "50.6739719",
         "7.1930989"
        ],
        [
         "26",
         "Coblenza",
         "Europa",
         "Alemania",
         "50.3533278",
         "7.5943951"
        ],
        [
         "27",
         "Boppard",
         "Europa",
         "Alemania",
         "50.2312823",
         "7.5885884"
        ],
        [
         "28",
         "Cochem",
         "Europa",
         "Alemania",
         "50.1483916",
         "7.1663195"
        ],
        [
         "29",
         "Tréveris",
         "Europa",
         "Alemania",
         "49.7596208",
         "6.6441878"
        ],
        [
         "30",
         "Luxemburgo",
         "Europa",
         "Luxemburgo",
         "49.8158683",
         "6.1296751"
        ],
        [
         "31",
         "Dinant",
         "Europa",
         "Belgica",
         "50.2591813",
         "4.9130588"
        ],
        [
         "32",
         "Gante",
         "Europa",
         "Belgica",
         "51.0538286",
         "3.7250121"
        ],
        [
         "33",
         "Brujas",
         "Europa",
         "Belgica",
         "51.2085526",
         "3.226772"
        ],
        [
         "34",
         "Lovaina",
         "Europa",
         "Belgica",
         "50.879202",
         "4.7011675"
        ],
        [
         "35",
         "Malinas",
         "Europa",
         "Belgica",
         "51.0281381",
         "4.4803453"
        ],
        [
         "36",
         "Amberes",
         "Europa",
         "Belgica",
         "51.2211097",
         "4.3997081"
        ],
        [
         "37",
         "sbruck",
         "Información desconocida",
         "Informacion Desconocida",
         "Información desconocida",
         "Información desconocida"
        ],
        [
         "38",
         "Cataratas Krimml",
         "Europa",
         "Austria",
         "47.21667",
         "12.18333"
        ],
        [
         "39",
         "Vipiteno",
         "Europa",
         "Italia",
         "46.8963235",
         "11.4319398"
        ],
        [
         "40",
         "Bresanona",
         "Europa",
         "Italia",
         "46.71503",
         "11.65598"
        ],
        [
         "41",
         "Bolzano",
         "Europa",
         "Italia",
         "46.6559455",
         "11.2302129"
        ],
        [
         "42",
         "Trento",
         "Europa",
         "Italia",
         "46.1029536",
         "11.1297425"
        ],
        [
         "43",
         "Marmolada",
         "Europa",
         "Italia",
         "46.4243637",
         "11.8467159"
        ],
        [
         "44",
         "Canazei",
         "Europa",
         "Italia",
         "46.4768809",
         "11.7710748"
        ],
        [
         "45",
         "Cortina D’Ampezzo",
         "Europa",
         "Italia",
         "46.5383332",
         "12.1373506"
        ],
        [
         "46",
         "Brunico",
         "Europa",
         "Italia",
         "46.7963194",
         "11.9355121"
        ],
        [
         "47",
         "Frankfurt",
         "Europa",
         "Alemania",
         "50.1106444",
         "8.6820917"
        ],
        [
         "48",
         "Baden-Baden",
         "Europa",
         "Alemania",
         "48.7610716",
         "8.239959"
        ],
        [
         "49",
         "Estrasburgo",
         "Europa",
         "Francia",
         "48.584614",
         "7.7507127"
        ]
       ],
       "shape": {
        "columns": 5,
        "rows": 2101
       }
      },
      "text/html": [
       "<div>\n",
       "<style scoped>\n",
       "    .dataframe tbody tr th:only-of-type {\n",
       "        vertical-align: middle;\n",
       "    }\n",
       "\n",
       "    .dataframe tbody tr th {\n",
       "        vertical-align: top;\n",
       "    }\n",
       "\n",
       "    .dataframe thead th {\n",
       "        text-align: right;\n",
       "    }\n",
       "</style>\n",
       "<table border=\"1\" class=\"dataframe\">\n",
       "  <thead>\n",
       "    <tr style=\"text-align: right;\">\n",
       "      <th></th>\n",
       "      <th>ciudad</th>\n",
       "      <th>continente_api</th>\n",
       "      <th>pais_api</th>\n",
       "      <th>latitud</th>\n",
       "      <th>longitud</th>\n",
       "    </tr>\n",
       "  </thead>\n",
       "  <tbody>\n",
       "    <tr>\n",
       "      <th>0</th>\n",
       "      <td>Tirana</td>\n",
       "      <td>Europa</td>\n",
       "      <td>Albania</td>\n",
       "      <td>41.328148</td>\n",
       "      <td>19.818444</td>\n",
       "    </tr>\n",
       "    <tr>\n",
       "      <th>1</th>\n",
       "      <td>Dürres</td>\n",
       "      <td>Europa</td>\n",
       "      <td>Albania</td>\n",
       "      <td>41.313255</td>\n",
       "      <td>19.446235</td>\n",
       "    </tr>\n",
       "    <tr>\n",
       "      <th>2</th>\n",
       "      <td>Berat</td>\n",
       "      <td>Europa</td>\n",
       "      <td>Albania</td>\n",
       "      <td>40.701864</td>\n",
       "      <td>19.958076</td>\n",
       "    </tr>\n",
       "    <tr>\n",
       "      <th>3</th>\n",
       "      <td>Kruja</td>\n",
       "      <td>Europa</td>\n",
       "      <td>Albania</td>\n",
       "      <td>41.511251</td>\n",
       "      <td>19.792852</td>\n",
       "    </tr>\n",
       "    <tr>\n",
       "      <th>4</th>\n",
       "      <td>Shkodër</td>\n",
       "      <td>Europa</td>\n",
       "      <td>Albania</td>\n",
       "      <td>42.068137</td>\n",
       "      <td>19.512144</td>\n",
       "    </tr>\n",
       "    <tr>\n",
       "      <th>...</th>\n",
       "      <td>...</td>\n",
       "      <td>...</td>\n",
       "      <td>...</td>\n",
       "      <td>...</td>\n",
       "      <td>...</td>\n",
       "    </tr>\n",
       "    <tr>\n",
       "      <th>1471</th>\n",
       "      <td>Mesa Verde</td>\n",
       "      <td>América</td>\n",
       "      <td>Estados Unidos De America</td>\n",
       "      <td>33.605858</td>\n",
       "      <td>-114.731072</td>\n",
       "    </tr>\n",
       "    <tr>\n",
       "      <th>1472</th>\n",
       "      <td>Great Sand</td>\n",
       "      <td>Oceanía</td>\n",
       "      <td>Australia</td>\n",
       "      <td>-38.262747</td>\n",
       "      <td>144.775661</td>\n",
       "    </tr>\n",
       "    <tr>\n",
       "      <th>1473</th>\n",
       "      <td>Dunes</td>\n",
       "      <td>Europa</td>\n",
       "      <td>Francia</td>\n",
       "      <td>44.087932</td>\n",
       "      <td>0.769998</td>\n",
       "    </tr>\n",
       "    <tr>\n",
       "      <th>1474</th>\n",
       "      <td>Pueblo</td>\n",
       "      <td>América</td>\n",
       "      <td>Estados Unidos De America</td>\n",
       "      <td>38.263995</td>\n",
       "      <td>-104.614187</td>\n",
       "    </tr>\n",
       "    <tr>\n",
       "      <th>1475</th>\n",
       "      <td>Jeju</td>\n",
       "      <td>Asia</td>\n",
       "      <td>Corea Del Sur</td>\n",
       "      <td>33.488774</td>\n",
       "      <td>126.498708</td>\n",
       "    </tr>\n",
       "  </tbody>\n",
       "</table>\n",
       "<p>2101 rows × 5 columns</p>\n",
       "</div>"
      ],
      "text/plain": [
       "          ciudad continente_api                   pais_api    latitud  \\\n",
       "0         Tirana         Europa                    Albania  41.328148   \n",
       "1         Dürres         Europa                    Albania  41.313255   \n",
       "2          Berat         Europa                    Albania  40.701864   \n",
       "3          Kruja         Europa                    Albania  41.511251   \n",
       "4        Shkodër         Europa                    Albania  42.068137   \n",
       "...          ...            ...                        ...        ...   \n",
       "1471  Mesa Verde        América  Estados Unidos De America  33.605858   \n",
       "1472  Great Sand        Oceanía                  Australia -38.262747   \n",
       "1473       Dunes         Europa                    Francia  44.087932   \n",
       "1474      Pueblo        América  Estados Unidos De America  38.263995   \n",
       "1475        Jeju           Asia              Corea Del Sur  33.488774   \n",
       "\n",
       "        longitud  \n",
       "0      19.818444  \n",
       "1      19.446235  \n",
       "2      19.958076  \n",
       "3      19.792852  \n",
       "4      19.512144  \n",
       "...          ...  \n",
       "1471 -114.731072  \n",
       "1472  144.775661  \n",
       "1473    0.769998  \n",
       "1474 -104.614187  \n",
       "1475  126.498708  \n",
       "\n",
       "[2101 rows x 5 columns]"
      ]
     },
     "execution_count": 29,
     "metadata": {},
     "output_type": "execute_result"
    }
   ],
   "source": [
    "df_opencage_ciudades_totales"
   ]
  },
  {
   "cell_type": "code",
   "execution_count": 30,
   "id": "d61db484",
   "metadata": {},
   "outputs": [],
   "source": [
    "ARCHIVO_EXTRACCION_API_DUPLICADOS = os.getenv('ARCHIVO_EXTRACCION_API_DUPLICADOS')\n",
    "df_paises_api_duplicados = pd.read_pickle(ARCHIVO_EXTRACCION_API_DUPLICADOS)\n",
    "df_paises_api_duplicados.continente_api= df_paises_api_duplicados.continente_api.replace({'North America':'América',\n",
    "                                                'South America': 'América',\n",
    "                                                'Africa': 'África',\n",
    "                                                'Europe': 'Europa',\n",
    "                                                'Oceania':'Oceanía'})"
   ]
  },
  {
   "cell_type": "code",
   "execution_count": 31,
   "id": "5bc16b8f",
   "metadata": {},
   "outputs": [
    {
     "data": {
      "application/vnd.microsoft.datawrangler.viewer.v0+json": {
       "columns": [
        {
         "name": "index",
         "rawType": "int64",
         "type": "integer"
        },
        {
         "name": "pais",
         "rawType": "object",
         "type": "string"
        },
        {
         "name": "continente",
         "rawType": "object",
         "type": "string"
        }
       ],
       "conversionMethod": "pd.DataFrame",
       "ref": "a71d93c5-c254-4f1e-a03a-1c1733dde70c",
       "rows": [
        [
         "0",
         "Chequia",
         "Europa"
        ],
        [
         "1",
         "Sovereign Base Areas Of Akrotiri And Dhekelia",
         "Asia"
        ],
        [
         "2",
         "No Existe Resultado",
         "No Existe Resultado"
        ],
        [
         "3",
         "Catar",
         "Asia"
        ]
       ],
       "shape": {
        "columns": 2,
        "rows": 4
       }
      },
      "text/html": [
       "<div>\n",
       "<style scoped>\n",
       "    .dataframe tbody tr th:only-of-type {\n",
       "        vertical-align: middle;\n",
       "    }\n",
       "\n",
       "    .dataframe tbody tr th {\n",
       "        vertical-align: top;\n",
       "    }\n",
       "\n",
       "    .dataframe thead th {\n",
       "        text-align: right;\n",
       "    }\n",
       "</style>\n",
       "<table border=\"1\" class=\"dataframe\">\n",
       "  <thead>\n",
       "    <tr style=\"text-align: right;\">\n",
       "      <th></th>\n",
       "      <th>pais</th>\n",
       "      <th>continente</th>\n",
       "    </tr>\n",
       "  </thead>\n",
       "  <tbody>\n",
       "    <tr>\n",
       "      <th>0</th>\n",
       "      <td>Chequia</td>\n",
       "      <td>Europa</td>\n",
       "    </tr>\n",
       "    <tr>\n",
       "      <th>1</th>\n",
       "      <td>Sovereign Base Areas Of Akrotiri And Dhekelia</td>\n",
       "      <td>Asia</td>\n",
       "    </tr>\n",
       "    <tr>\n",
       "      <th>2</th>\n",
       "      <td>No Existe Resultado</td>\n",
       "      <td>No Existe Resultado</td>\n",
       "    </tr>\n",
       "    <tr>\n",
       "      <th>3</th>\n",
       "      <td>Catar</td>\n",
       "      <td>Asia</td>\n",
       "    </tr>\n",
       "  </tbody>\n",
       "</table>\n",
       "</div>"
      ],
      "text/plain": [
       "                                            pais           continente\n",
       "0                                        Chequia               Europa\n",
       "1  Sovereign Base Areas Of Akrotiri And Dhekelia                 Asia\n",
       "2                            No Existe Resultado  No Existe Resultado\n",
       "3                                          Catar                 Asia"
      ]
     },
     "execution_count": 31,
     "metadata": {},
     "output_type": "execute_result"
    }
   ],
   "source": [
    "dict_paises_continentes_ciudades = {'pais':[], 'continente':[]}\n",
    "for pais in df_itinerarios_ciudades_pais_continentes.pais:\n",
    "    if pais in df_paises_continentes_escrapeo.nombre_pais_destino.tolist():\n",
    "        pass\n",
    "    else:\n",
    "        if pais in df_paises_continentes_turismos_emisor.nombre_pais_destino.tolist():\n",
    "           pass\n",
    "        else:\n",
    "           if pais in df_opencage_ciudades_totales.pais_api.tolist():\n",
    "            #print(f'{pais} ya está en continentes opencage')\n",
    "            dict_paises_continentes_ciudades['pais'].append(pais)\n",
    "            continente = (df_opencage_ciudades_totales[df_opencage_ciudades_totales.pais_api == pais]).continente_api.unique()[0]\n",
    "            dict_paises_continentes_ciudades['continente'].append(continente)\n",
    "           else:\n",
    "                if pais in df_paises_api_duplicados.pais_api.tolist():\n",
    "                    #print(f'{pais} ya está en continentes opencage')\n",
    "                    dict_paises_continentes_ciudades['pais'].append(pais)\n",
    "                    continente = (df_paises_api_duplicados[df_paises_api_duplicados.pais_api == pais]).continente_api.unique()[0]\n",
    "                    dict_paises_continentes_ciudades['continente'].append(continente)\n",
    "                else:\n",
    "                    print(f'{pais} ERROR')\n",
    "df_paises_continentes_ciudades = pd.DataFrame(dict_paises_continentes_ciudades)\n",
    "df_paises_continentes_ciudades"
   ]
  },
  {
   "cell_type": "code",
   "execution_count": 32,
   "id": "10fd45b2",
   "metadata": {},
   "outputs": [],
   "source": [
    "df_paises_continentes_ciudades= df_paises_continentes_ciudades.rename(\n",
    "    columns={'pais':'nombre_pais_destino', 'continente':'nombre_continente'})"
   ]
  },
  {
   "cell_type": "code",
   "execution_count": 33,
   "id": "4dfdb812",
   "metadata": {},
   "outputs": [
    {
     "data": {
      "application/vnd.microsoft.datawrangler.viewer.v0+json": {
       "columns": [
        {
         "name": "index",
         "rawType": "int64",
         "type": "integer"
        },
        {
         "name": "nombre_pais_destino",
         "rawType": "object",
         "type": "string"
        },
        {
         "name": "nombre_continente",
         "rawType": "object",
         "type": "string"
        }
       ],
       "conversionMethod": "pd.DataFrame",
       "ref": "e50f4ba1-606e-4a48-99a7-c3a0818735d4",
       "rows": [
        [
         "0",
         "Chequia",
         "Europa"
        ],
        [
         "1",
         "Sovereign Base Areas Of Akrotiri And Dhekelia",
         "Asia"
        ],
        [
         "2",
         "No Existe Resultado",
         "No Existe Resultado"
        ],
        [
         "3",
         "Catar",
         "Asia"
        ]
       ],
       "shape": {
        "columns": 2,
        "rows": 4
       }
      },
      "text/html": [
       "<div>\n",
       "<style scoped>\n",
       "    .dataframe tbody tr th:only-of-type {\n",
       "        vertical-align: middle;\n",
       "    }\n",
       "\n",
       "    .dataframe tbody tr th {\n",
       "        vertical-align: top;\n",
       "    }\n",
       "\n",
       "    .dataframe thead th {\n",
       "        text-align: right;\n",
       "    }\n",
       "</style>\n",
       "<table border=\"1\" class=\"dataframe\">\n",
       "  <thead>\n",
       "    <tr style=\"text-align: right;\">\n",
       "      <th></th>\n",
       "      <th>nombre_pais_destino</th>\n",
       "      <th>nombre_continente</th>\n",
       "    </tr>\n",
       "  </thead>\n",
       "  <tbody>\n",
       "    <tr>\n",
       "      <th>0</th>\n",
       "      <td>Chequia</td>\n",
       "      <td>Europa</td>\n",
       "    </tr>\n",
       "    <tr>\n",
       "      <th>1</th>\n",
       "      <td>Sovereign Base Areas Of Akrotiri And Dhekelia</td>\n",
       "      <td>Asia</td>\n",
       "    </tr>\n",
       "    <tr>\n",
       "      <th>2</th>\n",
       "      <td>No Existe Resultado</td>\n",
       "      <td>No Existe Resultado</td>\n",
       "    </tr>\n",
       "    <tr>\n",
       "      <th>3</th>\n",
       "      <td>Catar</td>\n",
       "      <td>Asia</td>\n",
       "    </tr>\n",
       "  </tbody>\n",
       "</table>\n",
       "</div>"
      ],
      "text/plain": [
       "                             nombre_pais_destino    nombre_continente\n",
       "0                                        Chequia               Europa\n",
       "1  Sovereign Base Areas Of Akrotiri And Dhekelia                 Asia\n",
       "2                            No Existe Resultado  No Existe Resultado\n",
       "3                                          Catar                 Asia"
      ]
     },
     "execution_count": 33,
     "metadata": {},
     "output_type": "execute_result"
    }
   ],
   "source": [
    "df_paises_continentes_ciudades"
   ]
  },
  {
   "cell_type": "markdown",
   "id": "affb9937",
   "metadata": {},
   "source": [
    "#### d) Uno los 3 DF para conseguir una única tabla con todos los paises y continentes"
   ]
  },
  {
   "cell_type": "code",
   "execution_count": 34,
   "id": "04d62bc9",
   "metadata": {},
   "outputs": [
    {
     "data": {
      "application/vnd.microsoft.datawrangler.viewer.v0+json": {
       "columns": [
        {
         "name": "index",
         "rawType": "int64",
         "type": "integer"
        },
        {
         "name": "nombre_pais_destino",
         "rawType": "object",
         "type": "string"
        },
        {
         "name": "nombre_continente",
         "rawType": "object",
         "type": "string"
        }
       ],
       "conversionMethod": "pd.DataFrame",
       "ref": "badd8b30-37b2-45e5-b623-57163dfc481f",
       "rows": [
        [
         "0",
         "Albania",
         "Europa"
        ],
        [
         "1",
         "Alemania",
         "Europa"
        ],
        [
         "2",
         "Andorra",
         "Europa"
        ],
        [
         "3",
         "Angola",
         "África"
        ],
        [
         "4",
         "Antigua",
         "América"
        ],
        [
         "5",
         "Arabia Saudi",
         "Asia"
        ],
        [
         "6",
         "Argelia",
         "África"
        ],
        [
         "7",
         "Argentina",
         "América"
        ],
        [
         "8",
         "Armenia",
         "Asia"
        ],
        [
         "9",
         "Armenia",
         "Europa"
        ],
        [
         "10",
         "Aruba",
         "América"
        ],
        [
         "11",
         "Australia",
         "Oceanía"
        ],
        [
         "12",
         "Austria",
         "Europa"
        ],
        [
         "13",
         "Azerbaiyan",
         "Asia"
        ],
        [
         "14",
         "Bahamas",
         "América"
        ],
        [
         "15",
         "Bahrein",
         "Asia"
        ],
        [
         "16",
         "Bangladesh",
         "Asia"
        ],
        [
         "17",
         "Barbados",
         "América"
        ],
        [
         "18",
         "Belarus",
         "Europa"
        ],
        [
         "19",
         "Belgica",
         "Europa"
        ],
        [
         "20",
         "Belice",
         "América"
        ],
        [
         "21",
         "Benin",
         "África"
        ],
        [
         "22",
         "Bolivia",
         "América"
        ],
        [
         "23",
         "Bosnia Y Herzegovina",
         "Europa"
        ],
        [
         "24",
         "Botsuana",
         "África"
        ],
        [
         "25",
         "Brasil",
         "América"
        ],
        [
         "26",
         "Bulgaria",
         "Europa"
        ],
        [
         "27",
         "Burkina Faso",
         "África"
        ],
        [
         "28",
         "Butan",
         "Asia"
        ],
        [
         "29",
         "Cabo Verde",
         "África"
        ],
        [
         "30",
         "Camboya",
         "Asia"
        ],
        [
         "31",
         "Camerun",
         "África"
        ],
        [
         "32",
         "Canada",
         "América"
        ],
        [
         "33",
         "Catar",
         "Asia"
        ],
        [
         "34",
         "Chad",
         "África"
        ],
        [
         "35",
         "Chequia",
         "Europa"
        ],
        [
         "36",
         "Chile",
         "América"
        ],
        [
         "37",
         "China",
         "Asia"
        ],
        [
         "38",
         "Chipre",
         "Europa"
        ],
        [
         "39",
         "Colombia",
         "América"
        ],
        [
         "40",
         "Corea Del Sur",
         "Asia"
        ],
        [
         "41",
         "Costa De Marfil",
         "África"
        ],
        [
         "42",
         "Costa Rica",
         "América"
        ],
        [
         "43",
         "Croacia",
         "Europa"
        ],
        [
         "44",
         "Cuba",
         "América"
        ],
        [
         "45",
         "Curacao",
         "América"
        ],
        [
         "46",
         "Dinamarca",
         "Europa"
        ],
        [
         "47",
         "Djibouti",
         "África"
        ],
        [
         "48",
         "Dominica",
         "América"
        ],
        [
         "49",
         "Ecuador",
         "América"
        ]
       ],
       "shape": {
        "columns": 2,
        "rows": 190
       }
      },
      "text/html": [
       "<div>\n",
       "<style scoped>\n",
       "    .dataframe tbody tr th:only-of-type {\n",
       "        vertical-align: middle;\n",
       "    }\n",
       "\n",
       "    .dataframe tbody tr th {\n",
       "        vertical-align: top;\n",
       "    }\n",
       "\n",
       "    .dataframe thead th {\n",
       "        text-align: right;\n",
       "    }\n",
       "</style>\n",
       "<table border=\"1\" class=\"dataframe\">\n",
       "  <thead>\n",
       "    <tr style=\"text-align: right;\">\n",
       "      <th></th>\n",
       "      <th>nombre_pais_destino</th>\n",
       "      <th>nombre_continente</th>\n",
       "    </tr>\n",
       "  </thead>\n",
       "  <tbody>\n",
       "    <tr>\n",
       "      <th>0</th>\n",
       "      <td>Albania</td>\n",
       "      <td>Europa</td>\n",
       "    </tr>\n",
       "    <tr>\n",
       "      <th>1</th>\n",
       "      <td>Alemania</td>\n",
       "      <td>Europa</td>\n",
       "    </tr>\n",
       "    <tr>\n",
       "      <th>2</th>\n",
       "      <td>Andorra</td>\n",
       "      <td>Europa</td>\n",
       "    </tr>\n",
       "    <tr>\n",
       "      <th>3</th>\n",
       "      <td>Angola</td>\n",
       "      <td>África</td>\n",
       "    </tr>\n",
       "    <tr>\n",
       "      <th>4</th>\n",
       "      <td>Antigua</td>\n",
       "      <td>América</td>\n",
       "    </tr>\n",
       "    <tr>\n",
       "      <th>...</th>\n",
       "      <td>...</td>\n",
       "      <td>...</td>\n",
       "    </tr>\n",
       "    <tr>\n",
       "      <th>185</th>\n",
       "      <td>Vietnam</td>\n",
       "      <td>Asia</td>\n",
       "    </tr>\n",
       "    <tr>\n",
       "      <th>186</th>\n",
       "      <td>Yemen</td>\n",
       "      <td>Asia</td>\n",
       "    </tr>\n",
       "    <tr>\n",
       "      <th>187</th>\n",
       "      <td>Zambia</td>\n",
       "      <td>África</td>\n",
       "    </tr>\n",
       "    <tr>\n",
       "      <th>188</th>\n",
       "      <td>Zanzibar</td>\n",
       "      <td>África</td>\n",
       "    </tr>\n",
       "    <tr>\n",
       "      <th>189</th>\n",
       "      <td>Zimbabue</td>\n",
       "      <td>África</td>\n",
       "    </tr>\n",
       "  </tbody>\n",
       "</table>\n",
       "<p>190 rows × 2 columns</p>\n",
       "</div>"
      ],
      "text/plain": [
       "    nombre_pais_destino nombre_continente\n",
       "0               Albania            Europa\n",
       "1              Alemania            Europa\n",
       "2               Andorra            Europa\n",
       "3                Angola            África\n",
       "4               Antigua           América\n",
       "..                  ...               ...\n",
       "185             Vietnam              Asia\n",
       "186               Yemen              Asia\n",
       "187              Zambia            África\n",
       "188            Zanzibar            África\n",
       "189            Zimbabue            África\n",
       "\n",
       "[190 rows x 2 columns]"
      ]
     },
     "execution_count": 34,
     "metadata": {},
     "output_type": "execute_result"
    }
   ],
   "source": [
    "df_paises_continentes_totales=pd.concat(\n",
    "    [df_paises_continentes_turismos_emisor,df_paises_continentes_escrapeo, df_paises_continentes_ciudades], axis=0)\n",
    "df_paises_continentes_totales = df_paises_continentes_totales.drop_duplicates(['nombre_pais_destino', 'nombre_continente']).reset_index(drop=True)\n",
    "df_paises_continentes_totales= df_paises_continentes_totales.sort_values(by='nombre_pais_destino').reset_index(drop=True)\n",
    "df_paises_continentes_totales\n",
    "\n"
   ]
  },
  {
   "cell_type": "code",
   "execution_count": 35,
   "id": "de72f4e2",
   "metadata": {},
   "outputs": [
    {
     "data": {
      "application/vnd.microsoft.datawrangler.viewer.v0+json": {
       "columns": [
        {
         "name": "index",
         "rawType": "int64",
         "type": "integer"
        },
        {
         "name": "nombre_pais_destino",
         "rawType": "object",
         "type": "string"
        },
        {
         "name": "count",
         "rawType": "int64",
         "type": "integer"
        }
       ],
       "conversionMethod": "pd.DataFrame",
       "ref": "1dc710d1-d4ae-4709-a770-2afd7ae4ee24",
       "rows": [
        [
         "0",
         "Armenia",
         "2"
        ],
        [
         "1",
         "Turquia",
         "2"
        ],
        [
         "2",
         "Georgia",
         "2"
        ]
       ],
       "shape": {
        "columns": 2,
        "rows": 3
       }
      },
      "text/html": [
       "<div>\n",
       "<style scoped>\n",
       "    .dataframe tbody tr th:only-of-type {\n",
       "        vertical-align: middle;\n",
       "    }\n",
       "\n",
       "    .dataframe tbody tr th {\n",
       "        vertical-align: top;\n",
       "    }\n",
       "\n",
       "    .dataframe thead th {\n",
       "        text-align: right;\n",
       "    }\n",
       "</style>\n",
       "<table border=\"1\" class=\"dataframe\">\n",
       "  <thead>\n",
       "    <tr style=\"text-align: right;\">\n",
       "      <th></th>\n",
       "      <th>nombre_pais_destino</th>\n",
       "      <th>count</th>\n",
       "    </tr>\n",
       "  </thead>\n",
       "  <tbody>\n",
       "    <tr>\n",
       "      <th>0</th>\n",
       "      <td>Armenia</td>\n",
       "      <td>2</td>\n",
       "    </tr>\n",
       "    <tr>\n",
       "      <th>1</th>\n",
       "      <td>Turquia</td>\n",
       "      <td>2</td>\n",
       "    </tr>\n",
       "    <tr>\n",
       "      <th>2</th>\n",
       "      <td>Georgia</td>\n",
       "      <td>2</td>\n",
       "    </tr>\n",
       "  </tbody>\n",
       "</table>\n",
       "</div>"
      ],
      "text/plain": [
       "  nombre_pais_destino  count\n",
       "0             Armenia      2\n",
       "1             Turquia      2\n",
       "2             Georgia      2"
      ]
     },
     "execution_count": 35,
     "metadata": {},
     "output_type": "execute_result"
    }
   ],
   "source": [
    "#reviso los paises que aparecen asociados a más de un continente:\n",
    "df_contador_paises_duplicados = pd.DataFrame(df_paises_continentes_totales.nombre_pais_destino.value_counts()).reset_index()\n",
    "df_contador_paises_duplicados =df_contador_paises_duplicados[df_contador_paises_duplicados['count']>1]\n",
    "df_contador_paises_duplicados"
   ]
  },
  {
   "cell_type": "code",
   "execution_count": 36,
   "id": "4e375578",
   "metadata": {},
   "outputs": [
    {
     "data": {
      "text/plain": [
       "['Armenia', 'Turquia', 'Georgia']"
      ]
     },
     "execution_count": 36,
     "metadata": {},
     "output_type": "execute_result"
    }
   ],
   "source": [
    "lista_paises_duplicados = df_contador_paises_duplicados.nombre_pais_destino.tolist()\n",
    "lista_paises_duplicados"
   ]
  },
  {
   "cell_type": "code",
   "execution_count": 37,
   "id": "cda25910",
   "metadata": {},
   "outputs": [],
   "source": [
    "#Elimino los indices incorrectos:\n",
    "lista_indices_eliminar = []\n",
    "for indice,pais in enumerate(df_paises_continentes_totales.nombre_pais_destino):\n",
    "    if pais in lista_paises_duplicados:\n",
    "        df_paises_continentes_totales.loc[indice, \"nombre_continente\"]  = 'Asia'\n",
    "\n",
    "df_paises_continentes_totales = df_paises_continentes_totales.drop_duplicates()"
   ]
  },
  {
   "cell_type": "code",
   "execution_count": 38,
   "id": "eefdb938",
   "metadata": {},
   "outputs": [
    {
     "data": {
      "text/plain": [
       "nombre_pais_destino\n",
       "Albania     1\n",
       "Alemania    1\n",
       "Andorra     1\n",
       "Angola      1\n",
       "Antigua     1\n",
       "           ..\n",
       "Vietnam     1\n",
       "Yemen       1\n",
       "Zambia      1\n",
       "Zanzibar    1\n",
       "Zimbabue    1\n",
       "Name: count, Length: 187, dtype: int64"
      ]
     },
     "execution_count": 38,
     "metadata": {},
     "output_type": "execute_result"
    }
   ],
   "source": [
    "df_paises_continentes_totales.nombre_pais_destino.value_counts()"
   ]
  },
  {
   "cell_type": "markdown",
   "id": "b2f680b7",
   "metadata": {},
   "source": [
    "## 1.2 Carga en BBDD"
   ]
  },
  {
   "cell_type": "markdown",
   "id": "ca089fc3",
   "metadata": {},
   "source": [
    "La tabla pais_destino tiene que tener los siguientes campos:\n",
    "- id_pais_destino SERIAL PRIMARY KEY,\n",
    "- nombre_pais_destino TEXT UNIQUE,\n",
    "- nombre_continente TEXT"
   ]
  },
  {
   "cell_type": "code",
   "execution_count": 39,
   "id": "581e339b",
   "metadata": {},
   "outputs": [],
   "source": [
    "#Extraigo la información de la BBDD\n",
    "query_extraccion = \"SELECT nombre_pais_destino, id_pais_destino FROM pais_destino\"\n",
    "pais_destino_dict=lo.extraer_datos_de_BBDD(query_extraccion)"
   ]
  },
  {
   "cell_type": "code",
   "execution_count": 40,
   "id": "ed82d990",
   "metadata": {},
   "outputs": [],
   "source": [
    "#Creo los datos para insertarlos en la BBDD:\n",
    "data_to_insert=[]\n",
    "for _,row in df_paises_continentes_totales.iterrows():\n",
    "    nombre_pais_destino = row[\"nombre_pais_destino\"]\n",
    "    if nombre_pais_destino in  pais_destino_dict.keys():\n",
    "        pass\n",
    "    else: \n",
    "        nombre_continente = row[\"nombre_continente\"]\n",
    "        data_to_insert.append([nombre_pais_destino, nombre_continente])"
   ]
  },
  {
   "cell_type": "code",
   "execution_count": 41,
   "id": "b90a2f1d",
   "metadata": {},
   "outputs": [
    {
     "data": {
      "text/plain": [
       "[]"
      ]
     },
     "execution_count": 41,
     "metadata": {},
     "output_type": "execute_result"
    }
   ],
   "source": [
    "data_to_insert"
   ]
  },
  {
   "cell_type": "code",
   "execution_count": 42,
   "id": "309b227b",
   "metadata": {},
   "outputs": [
    {
     "name": "stdout",
     "output_type": "stream",
     "text": [
      "Se han añadido 0 paises en la tabla pais_destino\n"
     ]
    }
   ],
   "source": [
    "#Subo la información a la BBDD:\n",
    "insert_query = \"\"\"\n",
    "INSERT INTO pais_destino(nombre_pais_destino, nombre_continente)\n",
    "VALUES (%s, %s)\n",
    "\"\"\"\n",
    "lo.insertar_datos_en_BBDD(insert_query, data_to_insert)\n",
    "\n",
    "print(f'Se han añadido {len(data_to_insert)} paises en la tabla pais_destino')"
   ]
  },
  {
   "cell_type": "code",
   "execution_count": 43,
   "id": "ed114a88",
   "metadata": {},
   "outputs": [],
   "source": [
    "#conn.rollback()"
   ]
  },
  {
   "cell_type": "markdown",
   "id": "5dbbd21f",
   "metadata": {},
   "source": [
    "## 2. Tabla itinerario"
   ]
  },
  {
   "cell_type": "markdown",
   "id": "ae10ad20",
   "metadata": {},
   "source": [
    "### 2.1 Extraigo la información del df_itinerario_ciudades y me quedo con los itinerarios sin duplicados:"
   ]
  },
  {
   "cell_type": "code",
   "execution_count": 44,
   "id": "c62b4143",
   "metadata": {},
   "outputs": [
    {
     "data": {
      "application/vnd.microsoft.datawrangler.viewer.v0+json": {
       "columns": [
        {
         "name": "index",
         "rawType": "int64",
         "type": "integer"
        },
        {
         "name": "itinerario_modificado_para_dividir",
         "rawType": "object",
         "type": "string"
        },
        {
         "name": "ciudad",
         "rawType": "object",
         "type": "string"
        },
        {
         "name": "pais_correcto",
         "rawType": "object",
         "type": "string"
        }
       ],
       "conversionMethod": "pd.DataFrame",
       "ref": "b06571e0-6cc3-422c-952a-69bd84cc75bb",
       "rows": [
        [
         "0",
         "Tirana, Dürres, Berat, Kruja, Shkodër, Petrovac, Budva, Cetinje , Bar",
         "Tirana",
         "Albania"
        ],
        [
         "1",
         "Tirana, Dürres, Berat, Kruja, Shkodër, Petrovac, Budva, Cetinje , Bar",
         "Durres",
         "Albania"
        ],
        [
         "2",
         "Tirana, Dürres, Berat, Kruja, Shkodër, Petrovac, Budva, Cetinje , Bar",
         "Berat",
         "Albania"
        ],
        [
         "3",
         "Tirana, Dürres, Berat, Kruja, Shkodër, Petrovac, Budva, Cetinje , Bar",
         "Kruja",
         "Albania"
        ],
        [
         "4",
         "Tirana, Dürres, Berat, Kruja, Shkodër, Petrovac, Budva, Cetinje , Bar",
         "Shkoder",
         "Albania"
        ]
       ],
       "shape": {
        "columns": 3,
        "rows": 5
       }
      },
      "text/html": [
       "<div>\n",
       "<style scoped>\n",
       "    .dataframe tbody tr th:only-of-type {\n",
       "        vertical-align: middle;\n",
       "    }\n",
       "\n",
       "    .dataframe tbody tr th {\n",
       "        vertical-align: top;\n",
       "    }\n",
       "\n",
       "    .dataframe thead th {\n",
       "        text-align: right;\n",
       "    }\n",
       "</style>\n",
       "<table border=\"1\" class=\"dataframe\">\n",
       "  <thead>\n",
       "    <tr style=\"text-align: right;\">\n",
       "      <th></th>\n",
       "      <th>itinerario_modificado_para_dividir</th>\n",
       "      <th>ciudad</th>\n",
       "      <th>pais_correcto</th>\n",
       "    </tr>\n",
       "  </thead>\n",
       "  <tbody>\n",
       "    <tr>\n",
       "      <th>0</th>\n",
       "      <td>Tirana, Dürres, Berat, Kruja, Shkodër, Petrova...</td>\n",
       "      <td>Tirana</td>\n",
       "      <td>Albania</td>\n",
       "    </tr>\n",
       "    <tr>\n",
       "      <th>1</th>\n",
       "      <td>Tirana, Dürres, Berat, Kruja, Shkodër, Petrova...</td>\n",
       "      <td>Durres</td>\n",
       "      <td>Albania</td>\n",
       "    </tr>\n",
       "    <tr>\n",
       "      <th>2</th>\n",
       "      <td>Tirana, Dürres, Berat, Kruja, Shkodër, Petrova...</td>\n",
       "      <td>Berat</td>\n",
       "      <td>Albania</td>\n",
       "    </tr>\n",
       "    <tr>\n",
       "      <th>3</th>\n",
       "      <td>Tirana, Dürres, Berat, Kruja, Shkodër, Petrova...</td>\n",
       "      <td>Kruja</td>\n",
       "      <td>Albania</td>\n",
       "    </tr>\n",
       "    <tr>\n",
       "      <th>4</th>\n",
       "      <td>Tirana, Dürres, Berat, Kruja, Shkodër, Petrova...</td>\n",
       "      <td>Shkoder</td>\n",
       "      <td>Albania</td>\n",
       "    </tr>\n",
       "  </tbody>\n",
       "</table>\n",
       "</div>"
      ],
      "text/plain": [
       "                  itinerario_modificado_para_dividir   ciudad pais_correcto\n",
       "0  Tirana, Dürres, Berat, Kruja, Shkodër, Petrova...   Tirana       Albania\n",
       "1  Tirana, Dürres, Berat, Kruja, Shkodër, Petrova...   Durres       Albania\n",
       "2  Tirana, Dürres, Berat, Kruja, Shkodër, Petrova...    Berat       Albania\n",
       "3  Tirana, Dürres, Berat, Kruja, Shkodër, Petrova...    Kruja       Albania\n",
       "4  Tirana, Dürres, Berat, Kruja, Shkodër, Petrova...  Shkoder       Albania"
      ]
     },
     "execution_count": 44,
     "metadata": {},
     "output_type": "execute_result"
    }
   ],
   "source": [
    "df_itinerarios_ciudades = pd.read_pickle(ARCHIVO_GUARDAR_ITINERARIOS_PROCESADOS_1)\n",
    "df_itinerarios_ciudades.head()"
   ]
  },
  {
   "cell_type": "code",
   "execution_count": 45,
   "id": "dc4c3833",
   "metadata": {},
   "outputs": [],
   "source": [
    "#limpio los espacios entre las comas que sobran\n",
    "df_itinerarios_ciudades['itinerario_modificado_para_dividir'] = df_itinerarios_ciudades['itinerario_modificado_para_dividir'].apply(lo.limpiar_texto)"
   ]
  },
  {
   "cell_type": "code",
   "execution_count": 46,
   "id": "6c304424",
   "metadata": {},
   "outputs": [
    {
     "data": {
      "text/plain": [
       "1139"
      ]
     },
     "execution_count": 46,
     "metadata": {},
     "output_type": "execute_result"
    }
   ],
   "source": [
    "lista_itinerarios_unicos = df_itinerarios_ciudades.itinerario_modificado_para_dividir.sort_values().unique()\n",
    "len(lista_itinerarios_unicos)"
   ]
  },
  {
   "cell_type": "markdown",
   "id": "328fa0cd",
   "metadata": {},
   "source": [
    "### 2.2 Hago la carga en la BBDD:"
   ]
  },
  {
   "cell_type": "markdown",
   "id": "a84fc9c6",
   "metadata": {},
   "source": [
    "La tabla itinerario tiene que tener los siguientes campos:\n",
    "- id_itinerario SERIAL PRIMARY KEY\n",
    "- detalle_itinerario TEXT UNIQUE"
   ]
  },
  {
   "cell_type": "code",
   "execution_count": 47,
   "id": "59cb3b41",
   "metadata": {},
   "outputs": [],
   "source": [
    "#Extraigo la información de la BBDD\n",
    "query_extraccion = \"SELECT detalle_itinerario, id_itinerario FROM itinerario\"\n",
    "itinerario_dict=lo.extraer_datos_de_BBDD(query_extraccion)"
   ]
  },
  {
   "cell_type": "code",
   "execution_count": 48,
   "id": "ff1ccc51",
   "metadata": {},
   "outputs": [],
   "source": [
    "#Creo los datos para insertarlos en la BBDD:\n",
    "data_to_insert=[]\n",
    "for itinerario in lista_itinerarios_unicos:\n",
    "    if itinerario in itinerario_dict.keys():\n",
    "        pass\n",
    "    else: \n",
    "        data_to_insert.append((itinerario,))  "
   ]
  },
  {
   "cell_type": "code",
   "execution_count": 49,
   "id": "3a443a23",
   "metadata": {},
   "outputs": [
    {
     "name": "stdout",
     "output_type": "stream",
     "text": [
      "Se han añadido 0 itinerarios nuevos en la tabla pais_destino\n"
     ]
    }
   ],
   "source": [
    "#Subo la información a la BBDD:\n",
    "insert_query = \"\"\"\n",
    "INSERT INTO itinerario(detalle_itinerario)\n",
    "VALUES (%s)\n",
    "\"\"\"\n",
    "lo.insertar_datos_en_BBDD(insert_query, data_to_insert)\n",
    "\n",
    "print(f'Se han añadido {len(data_to_insert)} itinerarios nuevos en la tabla pais_destino')"
   ]
  },
  {
   "cell_type": "markdown",
   "id": "79d73d03",
   "metadata": {},
   "source": [
    "## 3. Tabla ciudad"
   ]
  },
  {
   "cell_type": "markdown",
   "id": "14438635",
   "metadata": {},
   "source": [
    "### 3.1 Extraigo la información del df_itinerario_ciudades y me quedo con las ciudades sin duplicados:"
   ]
  },
  {
   "cell_type": "code",
   "execution_count": 50,
   "id": "f9dabd24",
   "metadata": {},
   "outputs": [
    {
     "name": "stdout",
     "output_type": "stream",
     "text": [
      "<class 'pandas.core.frame.DataFrame'>\n",
      "RangeIndex: 9366 entries, 0 to 9365\n",
      "Data columns (total 3 columns):\n",
      " #   Column                              Non-Null Count  Dtype \n",
      "---  ------                              --------------  ----- \n",
      " 0   itinerario_modificado_para_dividir  9366 non-null   object\n",
      " 1   ciudad                              9366 non-null   object\n",
      " 2   pais_correcto                       9366 non-null   object\n",
      "dtypes: object(3)\n",
      "memory usage: 219.6+ KB\n"
     ]
    }
   ],
   "source": [
    "df_itinerarios_ciudades.info()"
   ]
  },
  {
   "cell_type": "code",
   "execution_count": 51,
   "id": "b9ee7a09",
   "metadata": {},
   "outputs": [
    {
     "data": {
      "text/plain": [
       "2040"
      ]
     },
     "execution_count": 51,
     "metadata": {},
     "output_type": "execute_result"
    }
   ],
   "source": [
    "lista_ciudades_unicas = df_itinerarios_ciudades.ciudad.sort_values().unique()\n",
    "len(lista_ciudades_unicas)"
   ]
  },
  {
   "cell_type": "code",
   "execution_count": 52,
   "id": "2d998144",
   "metadata": {},
   "outputs": [
    {
     "data": {
      "application/vnd.microsoft.datawrangler.viewer.v0+json": {
       "columns": [
        {
         "name": "index",
         "rawType": "int64",
         "type": "integer"
        },
        {
         "name": "ciudad",
         "rawType": "object",
         "type": "string"
        },
        {
         "name": "pais_correcto",
         "rawType": "object",
         "type": "string"
        }
       ],
       "conversionMethod": "pd.DataFrame",
       "ref": "93f53ad6-5ea9-4a7d-8c0d-007b90345357",
       "rows": [
        [
         "0",
         "Tirana",
         "Albania"
        ],
        [
         "1",
         "Durres",
         "Albania"
        ],
        [
         "2",
         "Berat",
         "Albania"
        ],
        [
         "3",
         "Kruja",
         "Albania"
        ],
        [
         "4",
         "Shkoder",
         "Albania"
        ],
        [
         "5",
         "Petrovac",
         "Montenegro"
        ],
        [
         "6",
         "Budva",
         "Montenegro"
        ],
        [
         "7",
         "Cetinje",
         "Montenegro"
        ],
        [
         "8",
         "Bar",
         "Montenegro"
        ],
        [
         "9",
         "Berlin",
         "Alemania"
        ],
        [
         "10",
         "Salzburgo",
         "Austria"
        ],
        [
         "11",
         "Gmunden",
         "Austria"
        ],
        [
         "12",
         "Linz",
         "Austria"
        ],
        [
         "13",
         "Melk",
         "Austria"
        ],
        [
         "14",
         "Viena",
         "Austria"
        ],
        [
         "15",
         "Graz",
         "Austria"
        ],
        [
         "16",
         "Hallstatt",
         "Austria"
        ],
        [
         "17",
         "St Wolfgang",
         "Alemania"
        ],
        [
         "18",
         "St Johann In Tirol",
         "Austria"
        ],
        [
         "19",
         "Innsbruck",
         "Austria"
        ],
        [
         "20",
         "Bruselas",
         "Bélgica"
        ],
        [
         "21",
         "Durbuy",
         "Bélgica"
        ],
        [
         "22",
         "Lieja",
         "Bélgica"
        ],
        [
         "23",
         "Aquisgran",
         "Alemania"
        ],
        [
         "24",
         "Colonia",
         "Francia"
        ],
        [
         "25",
         "Bonn",
         "Alemania"
        ],
        [
         "26",
         "Konigswinter",
         "Alemania"
        ],
        [
         "27",
         "Coblenza",
         "Alemania"
        ],
        [
         "28",
         "Boppard",
         "Alemania"
        ],
        [
         "29",
         "Cochem",
         "Alemania"
        ],
        [
         "30",
         "Treveris",
         "Alemania"
        ],
        [
         "31",
         "Luxemburgo",
         "Belgica"
        ],
        [
         "32",
         "Dinant",
         "Bélgica"
        ],
        [
         "33",
         "Gante",
         "Bélgica"
        ],
        [
         "34",
         "Brujas",
         "Bélgica"
        ],
        [
         "35",
         "Lovaina",
         "Bélgica"
        ],
        [
         "36",
         "Malinas",
         "Bélgica"
        ],
        [
         "37",
         "Amberes",
         "Bélgica"
        ],
        [
         "38",
         "Sbruck",
         "Italia"
        ],
        [
         "39",
         "Cataratas Krimml",
         "Austria"
        ],
        [
         "40",
         "Vipiteno",
         "Italia"
        ],
        [
         "41",
         "Bresanona",
         "Italia"
        ],
        [
         "42",
         "Bolzano",
         "Italia"
        ],
        [
         "43",
         "Trento",
         "Italia"
        ],
        [
         "44",
         "Marmolada",
         "Italia"
        ],
        [
         "45",
         "Canazei",
         "Italia"
        ],
        [
         "46",
         "Cortina Dampezzo",
         "Italia"
        ],
        [
         "47",
         "Brunico",
         "Italia"
        ],
        [
         "48",
         "Hamburgo",
         "Alemania"
        ],
        [
         "49",
         "Stade",
         "Alemania"
        ]
       ],
       "shape": {
        "columns": 2,
        "rows": 2040
       }
      },
      "text/html": [
       "<div>\n",
       "<style scoped>\n",
       "    .dataframe tbody tr th:only-of-type {\n",
       "        vertical-align: middle;\n",
       "    }\n",
       "\n",
       "    .dataframe tbody tr th {\n",
       "        vertical-align: top;\n",
       "    }\n",
       "\n",
       "    .dataframe thead th {\n",
       "        text-align: right;\n",
       "    }\n",
       "</style>\n",
       "<table border=\"1\" class=\"dataframe\">\n",
       "  <thead>\n",
       "    <tr style=\"text-align: right;\">\n",
       "      <th></th>\n",
       "      <th>ciudad</th>\n",
       "      <th>pais_correcto</th>\n",
       "    </tr>\n",
       "  </thead>\n",
       "  <tbody>\n",
       "    <tr>\n",
       "      <th>0</th>\n",
       "      <td>Tirana</td>\n",
       "      <td>Albania</td>\n",
       "    </tr>\n",
       "    <tr>\n",
       "      <th>1</th>\n",
       "      <td>Durres</td>\n",
       "      <td>Albania</td>\n",
       "    </tr>\n",
       "    <tr>\n",
       "      <th>2</th>\n",
       "      <td>Berat</td>\n",
       "      <td>Albania</td>\n",
       "    </tr>\n",
       "    <tr>\n",
       "      <th>3</th>\n",
       "      <td>Kruja</td>\n",
       "      <td>Albania</td>\n",
       "    </tr>\n",
       "    <tr>\n",
       "      <th>4</th>\n",
       "      <td>Shkoder</td>\n",
       "      <td>Albania</td>\n",
       "    </tr>\n",
       "    <tr>\n",
       "      <th>...</th>\n",
       "      <td>...</td>\n",
       "      <td>...</td>\n",
       "    </tr>\n",
       "    <tr>\n",
       "      <th>2035</th>\n",
       "      <td>Dilijan</td>\n",
       "      <td>Armenia</td>\n",
       "    </tr>\n",
       "    <tr>\n",
       "      <th>2036</th>\n",
       "      <td>Sanahin Tbilisi</td>\n",
       "      <td>Georgia</td>\n",
       "    </tr>\n",
       "    <tr>\n",
       "      <th>2037</th>\n",
       "      <td>Baku</td>\n",
       "      <td>Georgia</td>\n",
       "    </tr>\n",
       "    <tr>\n",
       "      <th>2038</th>\n",
       "      <td>Gobustan</td>\n",
       "      <td>Estados Unidos</td>\n",
       "    </tr>\n",
       "    <tr>\n",
       "      <th>2039</th>\n",
       "      <td>Laponia</td>\n",
       "      <td>Finlandia</td>\n",
       "    </tr>\n",
       "  </tbody>\n",
       "</table>\n",
       "<p>2040 rows × 2 columns</p>\n",
       "</div>"
      ],
      "text/plain": [
       "               ciudad   pais_correcto\n",
       "0              Tirana         Albania\n",
       "1              Durres         Albania\n",
       "2               Berat         Albania\n",
       "3               Kruja         Albania\n",
       "4             Shkoder         Albania\n",
       "...               ...             ...\n",
       "2035          Dilijan         Armenia\n",
       "2036  Sanahin Tbilisi         Georgia\n",
       "2037             Baku         Georgia\n",
       "2038         Gobustan  Estados Unidos\n",
       "2039          Laponia       Finlandia\n",
       "\n",
       "[2040 rows x 2 columns]"
      ]
     },
     "execution_count": 52,
     "metadata": {},
     "output_type": "execute_result"
    }
   ],
   "source": [
    "#creo el DF con la ciudad y el pais para preparar los datos para la carga y elimino duplicados:\n",
    "df_ciudad_pais_unicos = df_itinerarios_ciudades[['ciudad','pais_correcto']].drop_duplicates().reset_index(drop=True)\n",
    "df_ciudad_pais_unicos"
   ]
  },
  {
   "cell_type": "code",
   "execution_count": 53,
   "id": "2b4f3799",
   "metadata": {},
   "outputs": [],
   "source": [
    "#Comprueba las ciudades duplicadas\n",
    "ciudades_duplicadas = []\n",
    "for ciudad in df_ciudad_pais_unicos.ciudad.unique():\n",
    "    df_filtrado = df_ciudad_pais_unicos[df_ciudad_pais_unicos.ciudad == ciudad]\n",
    "    if len(df_filtrado.pais_correcto.unique()) >1:\n",
    "        ciudades_duplicadas.append(ciudad)\n",
    "        if len(df_filtrado.pais_correcto.unique()) ==2:\n",
    "            pais1= df_filtrado.pais_correcto.unique()[-2]\n",
    "            pais2=df_filtrado.pais_correcto.unique()[-1]\n",
    "            print(f'La ciudad {ciudad} aparece en los paises {pais1}, {pais2}')\n",
    "        elif len(df_filtrado.pais_correcto.unique()) ==3:\n",
    "            pais3= df_filtrado.pais_correcto.unique()[-3]\n",
    "            pais2= df_filtrado.pais_correcto.unique()[-2]\n",
    "            pais3=df_filtrado.pais_correcto.unique()[-1]\n",
    "            print(f'La ciudad {ciudad} aparece en los paises {pais1}, {pais2}, {pais3}')\n",
    "        else: \n",
    "            pais4= df_filtrado.pais_correcto.unique()[-4]\n",
    "            pais3= df_filtrado.pais_correcto.unique()[-3]\n",
    "            pais2= df_filtrado.pais_correcto.unique()[-2]\n",
    "            pais3=df_filtrado.pais_correcto.unique()[-1]\n",
    "            print(f'La ciudad {ciudad} aparece en los paises {pais1}, {pais2}, {pais3} , {pais4}')\n"
   ]
  },
  {
   "cell_type": "code",
   "execution_count": 54,
   "id": "56426261",
   "metadata": {},
   "outputs": [
    {
     "data": {
      "text/plain": [
       "[]"
      ]
     },
     "execution_count": 54,
     "metadata": {},
     "output_type": "execute_result"
    }
   ],
   "source": [
    "ciudades_duplicadas"
   ]
  },
  {
   "cell_type": "markdown",
   "id": "689e9b9b",
   "metadata": {},
   "source": [
    "### 3.2 Hago la carga en la BBDD:"
   ]
  },
  {
   "cell_type": "markdown",
   "id": "3ab94c1f",
   "metadata": {},
   "source": [
    "La tabla ciudad tiene que tener los siguientes campos:\n",
    "- id_ciudad SERIAL PRIMARY KEY,\n",
    "- nombre_ciudad TEXT UNIQUE,\n",
    "- id_pais_destino INT REFERENCES pais_destino(id_pais_destino) ON DELETE CASCADE"
   ]
  },
  {
   "cell_type": "code",
   "execution_count": 55,
   "id": "54294a24",
   "metadata": {},
   "outputs": [
    {
     "name": "stdout",
     "output_type": "stream",
     "text": [
      "2040\n"
     ]
    }
   ],
   "source": [
    "#Extraigo la información de la BBDD existente en la tabla Ciudad\n",
    "query_extraccion = \"SELECT nombre_ciudad, id_ciudad FROM ciudad\"\n",
    "ciudad_dict=lo.extraer_datos_de_BBDD(query_extraccion)\n",
    "print(len(ciudad_dict))"
   ]
  },
  {
   "cell_type": "code",
   "execution_count": 56,
   "id": "e0d96098",
   "metadata": {},
   "outputs": [
    {
     "name": "stdout",
     "output_type": "stream",
     "text": [
      "187\n"
     ]
    }
   ],
   "source": [
    "#Extraigo el id_pais_destino de la tabla pais_destino de la BBDD:\n",
    "query_extraccion = \"SELECT nombre_pais_destino, id_pais_destino FROM pais_destino\"\n",
    "pais_dict=lo.extraer_datos_de_BBDD(query_extraccion)\n",
    "print(len(pais_dict))"
   ]
  },
  {
   "cell_type": "code",
   "execution_count": 57,
   "id": "355a8778",
   "metadata": {},
   "outputs": [
    {
     "name": "stdout",
     "output_type": "stream",
     "text": [
      "0\n"
     ]
    }
   ],
   "source": [
    "#Creo los datos para insertarlos en la BBDD:\n",
    "data_to_insert=[]\n",
    "for _,row in df_ciudad_pais_unicos.iterrows():\n",
    "    nombre_ciudad = row[\"ciudad\"]\n",
    "    if nombre_ciudad in ciudad_dict.keys():\n",
    "        pass\n",
    "    else:\n",
    "        pais_correcto = row[\"pais_correcto\"]\n",
    "        id_pais_destino = pais_dict.get(pais_correcto)\n",
    "        data_to_insert.append([nombre_ciudad, id_pais_destino])\n",
    "print(len(data_to_insert))"
   ]
  },
  {
   "cell_type": "code",
   "execution_count": 58,
   "id": "c347a9e5",
   "metadata": {},
   "outputs": [
    {
     "name": "stdout",
     "output_type": "stream",
     "text": [
      "Se han añadido 0 ciudades nuevas en la tabla ciudad\n"
     ]
    }
   ],
   "source": [
    "#Subo la información a la BBDD:\n",
    "insert_query = \"\"\"\n",
    "INSERT INTO ciudad (nombre_ciudad,id_pais_destino)\n",
    "VALUES (%s, %s)\n",
    "\"\"\"\n",
    "lo.insertar_datos_en_BBDD(insert_query, data_to_insert)\n",
    "\n",
    "print(f'Se han añadido {len(data_to_insert)} ciudades nuevas en la tabla ciudad')"
   ]
  },
  {
   "cell_type": "markdown",
   "id": "e11c38b3",
   "metadata": {},
   "source": [
    "## 4. Tabla ciudad_itinerario"
   ]
  },
  {
   "cell_type": "markdown",
   "id": "337e8baa",
   "metadata": {},
   "source": [
    "### 4.1 Extraigo la información del df_itinerario_ciudades y me quedo con las columnas itinerario y ciudad sin duplicados:"
   ]
  },
  {
   "cell_type": "code",
   "execution_count": 59,
   "id": "5b15ed3d",
   "metadata": {},
   "outputs": [
    {
     "name": "stdout",
     "output_type": "stream",
     "text": [
      "<class 'pandas.core.frame.DataFrame'>\n",
      "RangeIndex: 9366 entries, 0 to 9365\n",
      "Data columns (total 3 columns):\n",
      " #   Column                              Non-Null Count  Dtype \n",
      "---  ------                              --------------  ----- \n",
      " 0   itinerario_modificado_para_dividir  9366 non-null   object\n",
      " 1   ciudad                              9366 non-null   object\n",
      " 2   pais_correcto                       9366 non-null   object\n",
      "dtypes: object(3)\n",
      "memory usage: 219.6+ KB\n"
     ]
    }
   ],
   "source": [
    "df_itinerarios_ciudades.info()"
   ]
  },
  {
   "cell_type": "code",
   "execution_count": 60,
   "id": "677385d6",
   "metadata": {},
   "outputs": [
    {
     "name": "stdout",
     "output_type": "stream",
     "text": [
      "7422\n"
     ]
    }
   ],
   "source": [
    "#elimino duplicados\n",
    "df_itinerarios_ciudades = df_itinerarios_ciudades.drop_duplicates().reset_index(drop=True)\n",
    "print(len(df_itinerarios_ciudades))"
   ]
  },
  {
   "cell_type": "code",
   "execution_count": 61,
   "id": "7c25fa1a",
   "metadata": {},
   "outputs": [
    {
     "name": "stdout",
     "output_type": "stream",
     "text": [
      "7422\n",
      "Index(['itinerario_modificado_para_dividir', 'ciudad'], dtype='object')\n"
     ]
    }
   ],
   "source": [
    "df_itinerario_ciudad_unicos = df_itinerarios_ciudades[['itinerario_modificado_para_dividir','ciudad']].drop_duplicates().reset_index(drop=True)\n",
    "print(len(df_itinerario_ciudad_unicos))\n",
    "print(df_itinerario_ciudad_unicos.columns)"
   ]
  },
  {
   "cell_type": "markdown",
   "id": "449ed48a",
   "metadata": {},
   "source": [
    "### 4.2 Hago la carga en la BBDD:"
   ]
  },
  {
   "cell_type": "markdown",
   "id": "a36d6215",
   "metadata": {},
   "source": [
    "La tabla ciudad_itinerario tiene que tener los siguientes campos:\n",
    "- id_ciudad INT REFERENCES ciudad(id_ciudad) ON DELETE CASCADE,\n",
    "- id_itinerario INT REFERENCES itinerario(id_itinerario) ON DELETE CASCADE,\n",
    "- PRIMARY KEY (id_ciudad, id_itinerario)"
   ]
  },
  {
   "cell_type": "code",
   "execution_count": 62,
   "id": "a13af902",
   "metadata": {},
   "outputs": [
    {
     "name": "stdout",
     "output_type": "stream",
     "text": [
      "2040\n"
     ]
    }
   ],
   "source": [
    "#Extraigo la información de la BBDD existente en la tabla Ciudad\n",
    "query_extraccion = \"SELECT nombre_ciudad, id_ciudad FROM ciudad\"\n",
    "ciudad_dict=lo.extraer_datos_de_BBDD(query_extraccion)\n",
    "print(len(ciudad_dict))"
   ]
  },
  {
   "cell_type": "code",
   "execution_count": 63,
   "id": "a253826c",
   "metadata": {},
   "outputs": [
    {
     "name": "stdout",
     "output_type": "stream",
     "text": [
      "1139\n"
     ]
    }
   ],
   "source": [
    "#Extraigo la información de la BBDD\n",
    "query_extraccion = \"SELECT detalle_itinerario, id_itinerario FROM itinerario\"\n",
    "itinerario_dict=lo.extraer_datos_de_BBDD(query_extraccion)\n",
    "print(len(itinerario_dict))"
   ]
  },
  {
   "cell_type": "code",
   "execution_count": 67,
   "id": "8d8ec86b",
   "metadata": {},
   "outputs": [
    {
     "name": "stdout",
     "output_type": "stream",
     "text": [
      "7422\n"
     ]
    }
   ],
   "source": [
    "# Obtengo todas las combinaciones existentes (id_ciudad, id_itinerario) de la tabla\n",
    "query_extraccion_tupla=\"SELECT id_ciudad, id_itinerario FROM ciudad_itinerario\"\n",
    "existing_pairs=lo.extraer_tupla_datos_bbdd(query_extraccion_tupla)\n",
    "print(len(existing_pairs))\n"
   ]
  },
  {
   "cell_type": "code",
   "execution_count": 68,
   "id": "b8cb614d",
   "metadata": {},
   "outputs": [
    {
     "name": "stdout",
     "output_type": "stream",
     "text": [
      "0\n"
     ]
    }
   ],
   "source": [
    "#Creo los datos para insertarlos en la BBDD:\n",
    "data_to_insert=[]\n",
    "for _,row in df_itinerario_ciudad_unicos.iterrows():\n",
    "    detalle_itinerario = row[\"itinerario_modificado_para_dividir\"]\n",
    "    nombre_ciudad = row[\"ciudad\"]\n",
    "    id_ciudad = ciudad_dict.get(nombre_ciudad)\n",
    "    id_itinerario = itinerario_dict.get(detalle_itinerario)\n",
    "    pair = (id_ciudad, id_itinerario) #creo la tupla de combinación de id_ciudad e id_itinerario\n",
    "    if pair not in existing_pairs:\n",
    "        data_to_insert.append([id_ciudad, id_itinerario])\n",
    "print(len(data_to_insert))"
   ]
  },
  {
   "cell_type": "code",
   "execution_count": 69,
   "id": "3ac3cd60",
   "metadata": {},
   "outputs": [
    {
     "name": "stdout",
     "output_type": "stream",
     "text": [
      "Se han añadido 0 itinerarios nuevos en la tabla itinerario\n"
     ]
    }
   ],
   "source": [
    "#Subo la información a la BBDD:\n",
    "insert_query = \"\"\"\n",
    "INSERT INTO ciudad_itinerario (id_ciudad,id_itinerario)\n",
    "VALUES (%s, %s)\n",
    "\"\"\"\n",
    "lo.insertar_datos_en_BBDD(insert_query,data_to_insert)\n",
    "print(f'Se han añadido {len(data_to_insert)} itinerarios nuevos en la tabla itinerario')"
   ]
  },
  {
   "cell_type": "code",
   "execution_count": null,
   "id": "a744ab4c",
   "metadata": {},
   "outputs": [],
   "source": [
    "#conn.rollback()"
   ]
  },
  {
   "cell_type": "markdown",
   "id": "779e8b96",
   "metadata": {},
   "source": [
    "## 5. Tabla viaje"
   ]
  },
  {
   "cell_type": "markdown",
   "id": "ebd9a0cb",
   "metadata": {},
   "source": [
    "### 5.1 Extraigo la información de los viajes procesados y elimino los duplicados:"
   ]
  },
  {
   "cell_type": "code",
   "execution_count": 70,
   "id": "a41293fa",
   "metadata": {},
   "outputs": [
    {
     "data": {
      "application/vnd.microsoft.datawrangler.viewer.v0+json": {
       "columns": [
        {
         "name": "index",
         "rawType": "int64",
         "type": "integer"
        },
        {
         "name": "pais",
         "rawType": "object",
         "type": "string"
        },
        {
         "name": "nombre_viaje",
         "rawType": "object",
         "type": "string"
        },
        {
         "name": "duracion_viaje",
         "rawType": "object",
         "type": "string"
        },
        {
         "name": "itinerario",
         "rawType": "object",
         "type": "string"
        },
        {
         "name": "precio",
         "rawType": "int64",
         "type": "integer"
        },
        {
         "name": "url_viaje",
         "rawType": "object",
         "type": "string"
        },
        {
         "name": "fecha_escrapeo",
         "rawType": "datetime64[ns]",
         "type": "datetime"
        },
        {
         "name": "en_ultimo_escrapeo",
         "rawType": "object",
         "type": "string"
        },
        {
         "name": "itinerario_modificado_para_dividir",
         "rawType": "object",
         "type": "string"
        }
       ],
       "conversionMethod": "pd.DataFrame",
       "ref": "93c0abbd-e5c2-41ef-a2e2-31a69237dfe6",
       "rows": [
        [
         "0",
         "Albania",
         "Albania y Montenegro",
         "8 Días / 7 Noches",
         "Tirana, Dürres, Berat, Kruja, Shkodër, Petrovac, Budva, Cetinje y Bar",
         "1755",
         "https://es.tui.com/viaje/albania-y-montenegro",
         "2025-04-07 00:00:00",
         "Si",
         "Tirana, Dürres, Berat, Kruja, Shkodër, Petrovac, Budva, Cetinje , Bar"
        ],
        [
         "1",
         "Alemania",
         "Berlín",
         "4 Días / 3 Noches",
         "Berlín",
         "708",
         "https://viajeonline.es.tui.com/es/idea/14630257/berlin",
         "2025-04-07 00:00:00",
         "Si",
         "Berlín"
        ],
        [
         "2",
         "Alemania",
         "Fly & Drive Austria, Entre Lagos y Montañas",
         "8 Días / 7 Noches",
         "Salzburgo, Gmunden, Linz, Melk, Viena, Graz, Hallstatt, St Wolfgang, St Johann in Tirol e Innsbruck",
         "827",
         "https://viajeonline.es.tui.com/es/idea/7897512/fly-drive-austria-entre-lagos-y-montanas-",
         "2025-04-07 00:00:00",
         "Si",
         "Salzburgo, Gmunden, Linz, Melk, Viena, Graz, Hallstatt, St Wolfgang, St Johann in Tirol , Innsbruck"
        ],
        [
         "3",
         "Alemania",
         "Fly & Drive Carlomagno a su aire",
         "10 Días / 9 Noches",
         "Bruselas, Durbuy, Lieja, Aquisgrán, Colonia, Bonn, Königswinter, Coblenza, Boppard, Cochem, Tréveris, Luxemburgo, Dinant, Gante, Brujas, Lovaina, Malinas y Amberes",
         "857",
         "https://viajeonline.es.tui.com/es/idea/8404511/-fly-drive-carlomagno-a-su-aire?tripId=2",
         "2025-04-07 00:00:00",
         "Si",
         "Bruselas, Durbuy, Lieja, Aquisgrán, Colonia, Bonn, Königswinter, Coblenza, Boppard, Cochem, Tréveris, Luxemburgo, Dinant, Gante, Brujas, Lovaina, Malinas , Amberes"
        ],
        [
         "4",
         "Alemania",
         "Fly & Drive Tirol al Completo",
         "8 Días / 7 Noches",
         "sbruck, Cataratas Krimml, Vipiteno, Bresanona, Bolzano, Trento, Marmolada, Canazei, Cortina D’Ampezzo y Brunico",
         "894",
         "https://viajeonline.es.tui.com/es/idea/7906930/-fly-drive-tirol-al-completo-",
         "2025-04-07 00:00:00",
         "Si",
         "sbruck, Cataratas Krimml, Vipiteno, Bresanona, Bolzano, Trento, Marmolada, Canazei, Cortina D’Ampezzo , Brunico"
        ]
       ],
       "shape": {
        "columns": 9,
        "rows": 5
       }
      },
      "text/html": [
       "<div>\n",
       "<style scoped>\n",
       "    .dataframe tbody tr th:only-of-type {\n",
       "        vertical-align: middle;\n",
       "    }\n",
       "\n",
       "    .dataframe tbody tr th {\n",
       "        vertical-align: top;\n",
       "    }\n",
       "\n",
       "    .dataframe thead th {\n",
       "        text-align: right;\n",
       "    }\n",
       "</style>\n",
       "<table border=\"1\" class=\"dataframe\">\n",
       "  <thead>\n",
       "    <tr style=\"text-align: right;\">\n",
       "      <th></th>\n",
       "      <th>pais</th>\n",
       "      <th>nombre_viaje</th>\n",
       "      <th>duracion_viaje</th>\n",
       "      <th>itinerario</th>\n",
       "      <th>precio</th>\n",
       "      <th>url_viaje</th>\n",
       "      <th>fecha_escrapeo</th>\n",
       "      <th>en_ultimo_escrapeo</th>\n",
       "      <th>itinerario_modificado_para_dividir</th>\n",
       "    </tr>\n",
       "  </thead>\n",
       "  <tbody>\n",
       "    <tr>\n",
       "      <th>0</th>\n",
       "      <td>Albania</td>\n",
       "      <td>Albania y Montenegro</td>\n",
       "      <td>8 Días / 7 Noches</td>\n",
       "      <td>Tirana, Dürres, Berat, Kruja, Shkodër, Petrova...</td>\n",
       "      <td>1755</td>\n",
       "      <td>https://es.tui.com/viaje/albania-y-montenegro</td>\n",
       "      <td>2025-04-07</td>\n",
       "      <td>Si</td>\n",
       "      <td>Tirana, Dürres, Berat, Kruja, Shkodër, Petrova...</td>\n",
       "    </tr>\n",
       "    <tr>\n",
       "      <th>1</th>\n",
       "      <td>Alemania</td>\n",
       "      <td>Berlín</td>\n",
       "      <td>4 Días / 3 Noches</td>\n",
       "      <td>Berlín</td>\n",
       "      <td>708</td>\n",
       "      <td>https://viajeonline.es.tui.com/es/idea/1463025...</td>\n",
       "      <td>2025-04-07</td>\n",
       "      <td>Si</td>\n",
       "      <td>Berlín</td>\n",
       "    </tr>\n",
       "    <tr>\n",
       "      <th>2</th>\n",
       "      <td>Alemania</td>\n",
       "      <td>Fly &amp; Drive Austria, Entre Lagos y Montañas</td>\n",
       "      <td>8 Días / 7 Noches</td>\n",
       "      <td>Salzburgo, Gmunden, Linz, Melk, Viena, Graz, H...</td>\n",
       "      <td>827</td>\n",
       "      <td>https://viajeonline.es.tui.com/es/idea/7897512...</td>\n",
       "      <td>2025-04-07</td>\n",
       "      <td>Si</td>\n",
       "      <td>Salzburgo, Gmunden, Linz, Melk, Viena, Graz, H...</td>\n",
       "    </tr>\n",
       "    <tr>\n",
       "      <th>3</th>\n",
       "      <td>Alemania</td>\n",
       "      <td>Fly &amp; Drive Carlomagno a su aire</td>\n",
       "      <td>10 Días / 9 Noches</td>\n",
       "      <td>Bruselas, Durbuy, Lieja, Aquisgrán, Colonia, B...</td>\n",
       "      <td>857</td>\n",
       "      <td>https://viajeonline.es.tui.com/es/idea/8404511...</td>\n",
       "      <td>2025-04-07</td>\n",
       "      <td>Si</td>\n",
       "      <td>Bruselas, Durbuy, Lieja, Aquisgrán, Colonia, B...</td>\n",
       "    </tr>\n",
       "    <tr>\n",
       "      <th>4</th>\n",
       "      <td>Alemania</td>\n",
       "      <td>Fly &amp; Drive Tirol al Completo</td>\n",
       "      <td>8 Días / 7 Noches</td>\n",
       "      <td>sbruck, Cataratas Krimml, Vipiteno, Bresanona,...</td>\n",
       "      <td>894</td>\n",
       "      <td>https://viajeonline.es.tui.com/es/idea/7906930...</td>\n",
       "      <td>2025-04-07</td>\n",
       "      <td>Si</td>\n",
       "      <td>sbruck, Cataratas Krimml, Vipiteno, Bresanona,...</td>\n",
       "    </tr>\n",
       "  </tbody>\n",
       "</table>\n",
       "</div>"
      ],
      "text/plain": [
       "       pais                                 nombre_viaje      duracion_viaje  \\\n",
       "0   Albania                         Albania y Montenegro   8 Días / 7 Noches   \n",
       "1  Alemania                                       Berlín   4 Días / 3 Noches   \n",
       "2  Alemania  Fly & Drive Austria, Entre Lagos y Montañas   8 Días / 7 Noches   \n",
       "3  Alemania             Fly & Drive Carlomagno a su aire  10 Días / 9 Noches   \n",
       "4  Alemania                Fly & Drive Tirol al Completo   8 Días / 7 Noches   \n",
       "\n",
       "                                          itinerario  precio  \\\n",
       "0  Tirana, Dürres, Berat, Kruja, Shkodër, Petrova...    1755   \n",
       "1                                             Berlín     708   \n",
       "2  Salzburgo, Gmunden, Linz, Melk, Viena, Graz, H...     827   \n",
       "3  Bruselas, Durbuy, Lieja, Aquisgrán, Colonia, B...     857   \n",
       "4  sbruck, Cataratas Krimml, Vipiteno, Bresanona,...     894   \n",
       "\n",
       "                                           url_viaje fecha_escrapeo  \\\n",
       "0      https://es.tui.com/viaje/albania-y-montenegro     2025-04-07   \n",
       "1  https://viajeonline.es.tui.com/es/idea/1463025...     2025-04-07   \n",
       "2  https://viajeonline.es.tui.com/es/idea/7897512...     2025-04-07   \n",
       "3  https://viajeonline.es.tui.com/es/idea/8404511...     2025-04-07   \n",
       "4  https://viajeonline.es.tui.com/es/idea/7906930...     2025-04-07   \n",
       "\n",
       "  en_ultimo_escrapeo                 itinerario_modificado_para_dividir  \n",
       "0                 Si  Tirana, Dürres, Berat, Kruja, Shkodër, Petrova...  \n",
       "1                 Si                                             Berlín  \n",
       "2                 Si  Salzburgo, Gmunden, Linz, Melk, Viena, Graz, H...  \n",
       "3                 Si  Bruselas, Durbuy, Lieja, Aquisgrán, Colonia, B...  \n",
       "4                 Si  sbruck, Cataratas Krimml, Vipiteno, Bresanona,...  "
      ]
     },
     "execution_count": 70,
     "metadata": {},
     "output_type": "execute_result"
    }
   ],
   "source": [
    "#importo el fichero procesado de viajes\n",
    "df_viajes_total = pd.read_pickle(ARCHIVO_GUARDAR_ESCRAPEO_VIAJES_PROCESADOS)\n",
    "df_viajes_total.head()"
   ]
  },
  {
   "cell_type": "code",
   "execution_count": 71,
   "id": "94c4c267",
   "metadata": {},
   "outputs": [],
   "source": [
    "#limpio los datos de la columna itinerario_modificado_para_dividir\n",
    "df_viajes_total['itinerario_modificado_para_dividir'] = df_viajes_total['itinerario_modificado_para_dividir'].apply(lo.limpiar_texto)"
   ]
  },
  {
   "cell_type": "code",
   "execution_count": 72,
   "id": "6c94c3c8",
   "metadata": {},
   "outputs": [
    {
     "data": {
      "application/vnd.microsoft.datawrangler.viewer.v0+json": {
       "columns": [
        {
         "name": "index",
         "rawType": "int64",
         "type": "integer"
        },
        {
         "name": "pais",
         "rawType": "object",
         "type": "string"
        },
        {
         "name": "nombre_viaje",
         "rawType": "object",
         "type": "string"
        },
        {
         "name": "duracion_viaje",
         "rawType": "object",
         "type": "string"
        },
        {
         "name": "itinerario",
         "rawType": "object",
         "type": "string"
        },
        {
         "name": "precio",
         "rawType": "int64",
         "type": "integer"
        },
        {
         "name": "url_viaje",
         "rawType": "object",
         "type": "string"
        },
        {
         "name": "fecha_escrapeo",
         "rawType": "datetime64[ns]",
         "type": "datetime"
        },
        {
         "name": "en_ultimo_escrapeo",
         "rawType": "object",
         "type": "string"
        },
        {
         "name": "itinerario_modificado_para_dividir",
         "rawType": "object",
         "type": "string"
        }
       ],
       "conversionMethod": "pd.DataFrame",
       "ref": "01ae0661-49dc-4648-aaaf-b757c269898d",
       "rows": [
        [
         "30331",
         "Albania",
         "Albania y Montenegro",
         "8 Días / 7 Noches",
         "Tirana, Dürres, Berat, Kruja, Shkodër, Petrovac, Budva, Cetinje y Bar",
         "1755",
         "https://es.tui.com/viaje/albania-y-montenegro",
         "2025-05-18 00:00:00",
         "Si",
         "Tirana, Dürres, Berat, Kruja, Shkodër, Petrovac, Budva, Cetinje, Bar"
        ],
        [
         "30332",
         "Albania",
         "Ronda por los Balcanes",
         "15 Días / 14 Noches",
         "Zagreb, Ljubljana, Postojna, Parque Nacional de Plitvice, Zadar, Split, Dubrovnik, Kotor, Podgorica, Tirana, Ohrid, Skopje, Nis, Belgrado, Sarajevo, Medjugorje y Mostar",
         "3485",
         "https://viajeonline.es.tui.com/es/idea/26010153/ronda-por-los-balcanes",
         "2025-05-18 00:00:00",
         "Si",
         "Zagreb, Ljubljana, Postojna, Parque Nacional de Plitvice, Zadar, Split, Dubrovnik, Kotor, Podgorica, Tirana, Ohrid, Skopje, Nis, Belgrado, Sarajevo, Medjugorje, Mostar"
        ],
        [
         "30333",
         "Alemania",
         "Berlín",
         "4 Días / 3 Noches",
         "Berlín",
         "708",
         "https://viajeonline.es.tui.com/es/idea/14630257/berlin",
         "2025-05-18 00:00:00",
         "Si",
         "Berlín"
        ],
        [
         "30334",
         "Alemania",
         "Fly & Drive Austria, Entre Lagos y Montañas",
         "8 Días / 7 Noches",
         "Salzburgo, Gmunden, Linz, Melk, Viena, Graz, Hallstatt, St Wolfgang, St Johann in Tirol e Innsbruck",
         "827",
         "https://viajeonline.es.tui.com/es/idea/7897512/fly-drive-austria-entre-lagos-y-montanas-",
         "2025-05-18 00:00:00",
         "Si",
         "Salzburgo, Gmunden, Linz, Melk, Viena, Graz, Hallstatt, St Wolfgang, St Johann in Tirol, Innsbruck"
        ],
        [
         "30335",
         "Alemania",
         "Fly & Drive Carlomagno a su aire",
         "10 Días / 9 Noches",
         "Bruselas, Durbuy, Lieja, Aquisgrán, Colonia, Bonn, Königswinter, Coblenza, Boppard, Cochem, Tréveris, Luxemburgo, Dinant, Gante, Brujas, Lovaina, Malinas y Amberes",
         "857",
         "https://viajeonline.es.tui.com/es/idea/8404511/-fly-drive-carlomagno-a-su-aire?tripId=2",
         "2025-05-18 00:00:00",
         "Si",
         "Bruselas, Durbuy, Lieja, Aquisgrán, Colonia, Bonn, Königswinter, Coblenza, Boppard, Cochem, Tréveris, Luxemburgo, Dinant, Gante, Brujas, Lovaina, Malinas, Amberes"
        ],
        [
         "30336",
         "Alemania",
         "Fly & Drive Tirol al Completo",
         "8 Días / 7 Noches",
         "sbruck, Cataratas Krimml, Vipiteno, Bresanona, Bolzano, Trento, Marmolada, Canazei, Cortina D’Ampezzo y Brunico",
         "894",
         "https://viajeonline.es.tui.com/es/idea/7906930/-fly-drive-tirol-al-completo-",
         "2025-05-18 00:00:00",
         "Si",
         "sbruck, Cataratas Krimml, Vipiteno, Bresanona, Bolzano, Trento, Marmolada, Canazei, Cortina D’Ampezzo, Brunico"
        ],
        [
         "30337",
         "Alemania",
         "Fly & Drive Ciudades Hanseáticas",
         "8 Días / 7 Noches",
         "Hamburgo, Stade, Bremen, Luneburg, Schwerin, Wismar y Lubeck",
         "959",
         "https://viajeonline.es.tui.com/es/idea/21553157/-fly-drive-ciudades-hanseaticas-a-su-aire?tripId=9",
         "2025-05-18 00:00:00",
         "Si",
         "Hamburgo, Stade, Bremen, Luneburg, Schwerin, Wismar, Lubeck"
        ],
        [
         "30338",
         "Alemania",
         "Lo mejor de Baviera y el Tirol",
         "8 Días / 7 Noches",
         "Múnich, Sant Johann In Tirol, Kitzbühel, Rattenberg, Innsbruck, Krimml, Salzburgo, Mittenwald, Oberamergau y Neuschwanstein",
         "1395",
         "https://es.tui.com/viaje/lo-mejor-de-baviera-y-el-tirol",
         "2025-05-18 00:00:00",
         "Si",
         "Múnich, Sant Johann In Tirol, Kitzbühel, Rattenberg, Innsbruck, Krimml, Salzburgo, Mittenwald, Oberamergau, Neuschwanstein"
        ],
        [
         "30339",
         "Alemania",
         "Joyas de Flandes, Valonia y Ruta de Carlomagno",
         "8 Días / 7 Noches",
         "Bruselas, Brujas, Gante, Amberes, Lovaina, Aquisgrán, Luxemburgo, Tréveris, Dinant y Namur",
         "1575",
         "https://es.tui.com/viaje/joyas-de-flandes-valonia-y-ruta-de-carlomagno",
         "2025-05-18 00:00:00",
         "Si",
         "Bruselas, Brujas, Gante, Amberes, Lovaina, Aquisgrán, Luxemburgo, Tréveris, Dinant, Namur"
        ],
        [
         "30340",
         "Alemania",
         "Alsacia y Selva Negra",
         "8 Días / 7 Noches",
         "Frankfurt, Baden-Baden, Estrasburgo, Selva Negra, Titisee, Friburgo, lago Constanza, Riquewihr, Colmar y Heidelberg",
         "1735",
         "https://es.tui.com/viaje/alsacia-y-selva-negra",
         "2025-05-18 00:00:00",
         "Si",
         "Frankfurt, Baden-Baden, Estrasburgo, Selva Negra, Titisee, Friburgo, lago Constanza, Riquewihr, Colmar, Heidelberg"
        ],
        [
         "30341",
         "Antigua",
         "Antigua",
         "9 Días / 7 Noches",
         "Antigua",
         "1656",
         "https://viajeonline.es.tui.com/es/idea/13037269/antigua",
         "2025-05-18 00:00:00",
         "Si",
         "Antigua"
        ],
        [
         "30342",
         "Antigua",
         "Nueva York y Antigua",
         "9 Días / 7 Noches",
         "Nueva York y Antigua",
         "2254",
         "https://viajeonline.es.tui.com/es/idea/13037425/nueva-york-y-antigua",
         "2025-05-18 00:00:00",
         "Si",
         "Nueva York, Antigua"
        ],
        [
         "30343",
         "Arabia Saudí",
         "Delicias de Arabia Saudí",
         "8 Días / 7 Noches",
         "Yeda, Medina, Khaibar, Al Ula, Tabuk y Ryad",
         "3140",
         "https://viajeonline.es.tui.com/es/idea/25661562/delicias-de-arabia-saudi-",
         "2025-05-18 00:00:00",
         "Si",
         "Yeda, Medina, Khaibar, Al Ula, Tabuk, Ryad"
        ],
        [
         "30344",
         "Argentina",
         "Triángulo Argentino",
         "10 Días / 7 Noches",
         "Buenos Aires, El Calafate e Iguazú",
         "2265",
         "https://es.tui.com/viaje/triangulo-argentino",
         "2025-05-18 00:00:00",
         "Si",
         "Buenos Aires, El Calafate, Iguazú"
        ],
        [
         "30345",
         "Argentina",
         "Patagonia a tu alcance",
         "12 Días / 9 Noches",
         "Buenos Aires, Ushuaia, El Calafate e Iguazú",
         "2695",
         "https://es.tui.com/viaje/patagonia-a-tu-alcance",
         "2025-05-18 00:00:00",
         "Si",
         "Buenos Aires, Ushuaia, El Calafate, Iguazú"
        ],
        [
         "30346",
         "Argentina",
         "Ballenas, Glaciares y Cataratas",
         "12 Días / 9 Noches",
         "Buenos Aires, Puerto Madryn, El Calafate e Iguazú",
         "2755",
         "https://es.tui.com/viaje/ballenas-glaciares-y-cataratas",
         "2025-05-18 00:00:00",
         "Si",
         "Buenos Aires, Puerto Madryn, El Calafate, Iguazú"
        ],
        [
         "30347",
         "Argentina",
         "Buenos Aires, El Calafate e Iguazú",
         "11 Días / 8 Noches",
         "Buenos Aires, El Calafate e Iguazú",
         "2945",
         "https://es.tui.com/viaje/buenos-aires-el-calafate-e-iguazu",
         "2025-05-18 00:00:00",
         "Si",
         "Buenos Aires, El Calafate, Iguazú"
        ],
        [
         "30348",
         "Argentina",
         "Argentina Mágica",
         "14 Días / 11 Noches",
         "Buenos Aires, Ushuaia, El Calafate, Bariloche e Iguazú",
         "3055",
         "https://es.tui.com/viaje/argentina-magica",
         "2025-05-18 00:00:00",
         "Si",
         "Buenos Aires, Ushuaia, El Calafate, Bariloche, Iguazú"
        ],
        [
         "30349",
         "Argentina",
         "Argentina y Brasil",
         "14 Días / 11 Noches",
         "Buenos Aires, El Calafate, Iguazú y Río de Janeiro",
         "3075",
         "https://es.tui.com/viaje/argentina-y-brasil",
         "2025-05-18 00:00:00",
         "Si",
         "Buenos Aires, El Calafate, Iguazú, Río de Janeiro"
        ],
        [
         "30350",
         "Argentina",
         "Argentina a tu alcance",
         "14 Días / 11 Noches",
         "Buenos Aires, Puerto Madryn, Ushuaia, El Calafate e Iguazú",
         "3150",
         "https://es.tui.com/viaje/argentina-a-tu-alcance",
         "2025-05-18 00:00:00",
         "Si",
         "Buenos Aires, Puerto Madryn, Ushuaia, El Calafate, Iguazú"
        ],
        [
         "30351",
         "Argentina",
         "Lagos, Glaciares y Cataratas",
         "13 Días / 10 Noches",
         "Buenos Aires, Bariloche, El Calafate e Iguazú",
         "3345",
         "https://es.tui.com/viaje/lagos-glaciares-y-cataratas",
         "2025-05-18 00:00:00",
         "Si",
         "Buenos Aires, Bariloche, El Calafate, Iguazú"
        ],
        [
         "30352",
         "Argentina",
         "Argentina Clásica",
         "13 Días / 10 Noches",
         "Buenos Aires, Ushuaia, El Calafate e Iguazú",
         "3395",
         "https://es.tui.com/viaje/argentina-clasica",
         "2025-05-18 00:00:00",
         "Si",
         "Buenos Aires, Ushuaia, El Calafate, Iguazú"
        ],
        [
         "30353",
         "Argentina",
         "Contrastes de Argentina",
         "13 Días / 10 Noches",
         "Buenos Aires, El Calafate, Salta, Cafayate, Quebrada de Humahuaca e Iguazú",
         "3445",
         "https://es.tui.com/viaje/contrastes-de-argentina",
         "2025-05-18 00:00:00",
         "Si",
         "Buenos Aires, El Calafate, Salta, Cafayate, Quebrada de Humahuaca, Iguazú"
        ],
        [
         "30354",
         "Argentina",
         "Argentina Espectacular",
         "16 Días / 13 Noches",
         "Buenos Aires, Puerto Madryn, Ushuaia, El Calafate, Bariloche e Iguazú",
         "3495",
         "https://es.tui.com/viaje/argentina-espectacular",
         "2025-05-18 00:00:00",
         "Si",
         "Buenos Aires, Puerto Madryn, Ushuaia, El Calafate, Bariloche, Iguazú"
        ],
        [
         "30355",
         "Argentina",
         "Patagonia Fascinante",
         "15 Días / 12 Noches",
         "Buenos Aires, Ushuaia, El Calafate, Bariloche e Iguazú",
         "3765",
         "https://es.tui.com/viaje/patagonia-fascinante",
         "2025-05-18 00:00:00",
         "Si",
         "Buenos Aires, Ushuaia, El Calafate, Bariloche, Iguazú"
        ],
        [
         "30356",
         "Argentina",
         "Patagonia con Iguazú",
         "15 Días / 12 Noches",
         "Buenos Aires, Puerto Madryn, Ushuaia, El Calafate e Iguazú",
         "3825",
         "https://es.tui.com/viaje/patagonia-con-iguazu",
         "2025-05-18 00:00:00",
         "Si",
         "Buenos Aires, Puerto Madryn, Ushuaia, El Calafate, Iguazú"
        ],
        [
         "30357",
         "Argentina",
         "Argentina para Dos",
         "13 Días / 10 Noches",
         "Buenos Aires, Ushuaia, El Calafate e Iguazú",
         "4095",
         "https://es.tui.com/viaje/argentina-para-dos",
         "2025-05-18 00:00:00",
         "Si",
         "Buenos Aires, Ushuaia, El Calafate, Iguazú"
        ],
        [
         "30358",
         "Argentina",
         "Lo Mejor de Argentina",
         "17 Días / 14 Noches",
         "Buenos Aires, Puerto Madryn, Ushuaia, El Calafate, Bariloche e Iguazú",
         "4195",
         "https://es.tui.com/viaje/lo-mejor-de-argentina",
         "2025-05-18 00:00:00",
         "Si",
         "Buenos Aires, Puerto Madryn, Ushuaia, El Calafate, Bariloche, Iguazú"
        ],
        [
         "30359",
         "Argentina",
         "Patagonia Argentina y Chilena",
         "16 Días / 13 Noches",
         "Buenos Aires, Ushuaia, El Calafate, Puerto Natales, Punta Arenas, Puerto Montt, Puerto Varas, Cruce de Lagos y Bariloche",
         "4425",
         "https://es.tui.com/viaje/patagonia-argentina-y-chilena",
         "2025-05-18 00:00:00",
         "Si",
         "Buenos Aires, Ushuaia, El Calafate, Puerto Natales, Punta Arenas, Puerto Montt, Puerto Varas, Cruce de Lagos, Bariloche"
        ],
        [
         "30360",
         "Argentina",
         "Argentina Clásica y Valles Calchaquíes",
         "17 Días / 14 Noches",
         "Buenos Aires, Ushuaia, El Calafate, Salta, Cafayate e Iguazú",
         "4535",
         "https://es.tui.com/viaje/argentina-clasica-y-valles-calchaquies",
         "2025-05-18 00:00:00",
         "Si",
         "Buenos Aires, Ushuaia, El Calafate, Salta, Cafayate, Iguazú"
        ],
        [
         "30361",
         "Argentina",
         "Lagos, Glaciares y Cataratas con Extensión Cruce Andino",
         "16 Días / 13 Noches",
         "Buenos Aires, Bariloche, Cruce Andino, Puerto Varas, El Calafate e Iguazú",
         "4870",
         "https://es.tui.com/viaje/lagos-glaciares-y-cataratas-con-extension-cruce-andino",
         "2025-05-18 00:00:00",
         "Si",
         "Buenos Aires, Bariloche, Cruce Andino, Puerto Varas, El Calafate, Iguazú"
        ],
        [
         "30362",
         "Argentina",
         "Gran Tour de Argentina",
         "17 Días / 14 Noches",
         "Buenos Aires, Puerto Madryn, Ushuaia, El Calafate, Iguazú, Salta y Cafayate",
         "5275",
         "https://es.tui.com/viaje/gran-tour-de-argentina",
         "2025-05-18 00:00:00",
         "Si",
         "Buenos Aires, Puerto Madryn, Ushuaia, El Calafate, Iguazú, Salta, Cafayate"
        ],
        [
         "30363",
         "Argentina",
         "Argentina Gourmet",
         "14 Días / 11 Noches",
         "Buenos Aires, El Calafate, Mendoza e Iguazú",
         "5495",
         "https://es.tui.com/viaje/argentina-gourmet",
         "2025-05-18 00:00:00",
         "Si",
         "Buenos Aires, El Calafate, Mendoza, Iguazú"
        ],
        [
         "30364",
         "Argentina",
         "Las Dos Patagonias con Australis",
         "15 Días / 12 Noches",
         "Buenos Aires, El Calafate, Ushuaia, Crucero Australis, Puerto Natales y Santiago de Chile",
         "5585",
         "https://es.tui.com/viaje/las-dos-patagonias-con-australis",
         "2025-05-18 00:00:00",
         "Si",
         "Buenos Aires, El Calafate, Ushuaia, Crucero Australis, Puerto Natales, Santiago de Chile"
        ],
        [
         "30365",
         "Argentina",
         "Al Sur del Sur con Australis",
         "15 Días / 12 Noches",
         "Buenos Aires, Ushuaia, Crucero Australis, Punta Arenas, Puerto Natales, Torres del Paine y El Calafate",
         "5595",
         "https://es.tui.com/viaje/al-sur-del-sur-con-australis",
         "2025-05-18 00:00:00",
         "Si",
         "Buenos Aires, Ushuaia, Crucero Australis, Punta Arenas, Puerto Natales, Torres del Paine, El Calafate"
        ],
        [
         "30366",
         "Argentina",
         "Confines del Mundo con Australis",
         "16 Días / 13 Noches",
         "Santiago de Chile, Punta Arenas, Crucero Australis, Ushuaia, El Calafate, Puerto Natales y Torres del Paine",
         "5825",
         "https://es.tui.com/viaje/confines-del-mundo-con-australis",
         "2025-05-18 00:00:00",
         "Si",
         "Santiago de Chile, Punta Arenas, Crucero Australis, Ushuaia, El Calafate, Puerto Natales, Torres del Paine"
        ],
        [
         "30367",
         "Argentina",
         "Argentina y Chile con Australis",
         "17 Días / 14 Noches",
         "Santiago de Chile, Punta Arenas, Puerto Natales, Crucero Australis, Ushuaia, El Calafate, Buenos Aires e Iguazú",
         "5895",
         "https://es.tui.com/viaje/argentina-y-chile-con-australis",
         "2025-05-18 00:00:00",
         "Si",
         "Santiago de Chile, Punta Arenas, Puerto Natales, Crucero Australis, Ushuaia, El Calafate, Buenos Aires, Iguazú"
        ],
        [
         "30368",
         "Argentina",
         "Chile y Argentina con Skorpios III",
         "18 Días / 15 Noches",
         "Santiago de Chile, Puerto Natales, Torres del Paine, Crucero Skorpios III, El Calafate, Buenos Aires e Iguazú",
         "6825",
         "https://es.tui.com/viaje/chile-y-argentina-con-skorpios-iii",
         "2025-05-18 00:00:00",
         "Si",
         "Santiago de Chile, Puerto Natales, Torres del Paine, Crucero Skorpios III, El Calafate, Buenos Aires, Iguazú"
        ],
        [
         "30369",
         "Armenia",
         "Riquezas de Armenia",
         "7 Días / 6 Noches",
         "Ereván, Harichavank, Gyumry, Quba Mere Diwane, Echmiadzin, Geghard y Garni\r",
         "1310",
         "https://viajeonline.es.tui.com/es/idea/25482771/riquezas-de-armenia?tripId=2",
         "2025-05-18 00:00:00",
         "Si",
         "Ereván, Harichavank, Gyumry, Quba Mere Diwane, Echmiadzin, Geghard, Garni"
        ],
        [
         "30370",
         "Aruba",
         "Aruba",
         "9 Días / 7 Noches",
         "Playas de Aruba",
         "1965",
         "https://viajeonline.es.tui.com/es/idea/7244961/aruba",
         "2025-05-18 00:00:00",
         "Si",
         "Playas de Aruba"
        ],
        [
         "30371",
         "Aruba",
         "Nueva York y Aruba",
         "9 Días / 7 Noches",
         "Nueva York y Aruba",
         "2402",
         "https://viajeonline.es.tui.com/es/idea/7245405/-nueva-york-y-aruba",
         "2025-05-18 00:00:00",
         "Si",
         "Nueva York, Aruba"
        ],
        [
         "30372",
         "Aruba",
         "Aruba en RIU Resorts",
         "6 Días / 5 Noches",
         "Aruba",
         "3472",
         "https://viajeonline.es.tui.com/es/idea/17583770/aruba-en-riu-resorts",
         "2025-05-18 00:00:00",
         "Si",
         "Aruba"
        ],
        [
         "30373",
         "Australia",
         "Australia en autocaravana - Ruta A",
         "16 Días / 12 Noches",
         "Adelaida, Robe, Port Campbell, Melbourne, P N Wilsons Promontory, Lakes Entrance, Mallacoota, Narooma, Jervis Bay y Sydney",
         "2699",
         "https://es.tui.com/viaje/australia-en-autocaravana-ruta-a",
         "2025-05-18 00:00:00",
         "Si",
         "Adelaida, Robe, Port Campbell, Melbourne, P N Wilsons Promontory, Lakes Entrance, Mallacoota, Narooma, Jervis Bay, Sydney"
        ],
        [
         "30374",
         "Australia",
         "Australia Romántica",
         "12 Días / 9 Noches",
         "Sydney, Cairns y Melbourne",
         "3245",
         "https://es.tui.com/viaje/australia-romantica",
         "2025-05-18 00:00:00",
         "Si",
         "Sydney, Cairns, Melbourne"
        ],
        [
         "30375",
         "Australia",
         "Australia a tu alcance",
         "12 Días / 9 Noches",
         "Melbourne, Cairns y Sydney",
         "3255",
         "https://es.tui.com/viaje/australia-a-tu-alcance",
         "2025-05-18 00:00:00",
         "Si",
         "Melbourne, Cairns, Sydney"
        ],
        [
         "30376",
         "Australia",
         "Todo Australia",
         "11 Días / 8 Noches",
         "Sydney, Ayers Rock y Cairns",
         "3255",
         "https://es.tui.com/viaje/todo-australia",
         "2025-05-18 00:00:00",
         "Si",
         "Sydney, Ayers Rock, Cairns"
        ],
        [
         "30377",
         "Australia",
         "Australia Kangaroo",
         "18 Días / 14 Noches",
         "Sydney, Cairns, Townsville, Airlie Beach, Hervey Bay y Brisbane",
         "3755",
         "https://es.tui.com/viaje/australia-kangaroo",
         "2025-05-18 00:00:00",
         "Si",
         "Sydney, Cairns, Townsville, Airlie Beach, Hervey Bay, Brisbane"
        ],
        [
         "30378",
         "Australia",
         "Experiencia Australiana",
         "12 Días / 9 Noches",
         "Sydney, Cairns, Darwin y PN Kakadu",
         "3809",
         "https://es.tui.com/viaje/experiencia-australiana",
         "2025-05-18 00:00:00",
         "Si",
         "Sydney, Cairns, Darwin, PN Kakadu"
        ],
        [
         "30379",
         "Australia",
         "Gran Australia",
         "15 Días / 11 Noches",
         "Sydney, Ayers Rock, Cairns y Melbourne",
         "3895",
         "https://es.tui.com/viaje/gran-australia",
         "2025-05-18 00:00:00",
         "Si",
         "Sydney, Ayers Rock, Cairns, Melbourne"
        ],
        [
         "30380",
         "Australia",
         "Fly & Drive Costa Este Australiana",
         "19 Días / 15 Noches",
         "Sydney, Hunter Valley, Port Macquarie, Coffs Harbour, Byron Bay, Gold Coast, Brisbane, Hervey Bay, Bundaberg, Rockhampton, Mackay, Airlie Beach, Townsville y Cairns",
         "4108",
         "https://viajeonline.es.tui.com/ES/idea/7142063/fly-drive-costa-este-australiana",
         "2025-05-18 00:00:00",
         "Si",
         "Sydney, Hunter Valley, Port Macquarie, Coffs Harbour, Byron Bay, Gold Coast, Brisbane, Hervey Bay, Bundaberg, Rockhampton, Mackay, Airlie Beach, Townsville, Cairns"
        ]
       ],
       "shape": {
        "columns": 9,
        "rows": 1667
       }
      },
      "text/html": [
       "<div>\n",
       "<style scoped>\n",
       "    .dataframe tbody tr th:only-of-type {\n",
       "        vertical-align: middle;\n",
       "    }\n",
       "\n",
       "    .dataframe tbody tr th {\n",
       "        vertical-align: top;\n",
       "    }\n",
       "\n",
       "    .dataframe thead th {\n",
       "        text-align: right;\n",
       "    }\n",
       "</style>\n",
       "<table border=\"1\" class=\"dataframe\">\n",
       "  <thead>\n",
       "    <tr style=\"text-align: right;\">\n",
       "      <th></th>\n",
       "      <th>pais</th>\n",
       "      <th>nombre_viaje</th>\n",
       "      <th>duracion_viaje</th>\n",
       "      <th>itinerario</th>\n",
       "      <th>precio</th>\n",
       "      <th>url_viaje</th>\n",
       "      <th>fecha_escrapeo</th>\n",
       "      <th>en_ultimo_escrapeo</th>\n",
       "      <th>itinerario_modificado_para_dividir</th>\n",
       "    </tr>\n",
       "  </thead>\n",
       "  <tbody>\n",
       "    <tr>\n",
       "      <th>30331</th>\n",
       "      <td>Albania</td>\n",
       "      <td>Albania y Montenegro</td>\n",
       "      <td>8 Días / 7 Noches</td>\n",
       "      <td>Tirana, Dürres, Berat, Kruja, Shkodër, Petrova...</td>\n",
       "      <td>1755</td>\n",
       "      <td>https://es.tui.com/viaje/albania-y-montenegro</td>\n",
       "      <td>2025-05-18</td>\n",
       "      <td>Si</td>\n",
       "      <td>Tirana, Dürres, Berat, Kruja, Shkodër, Petrova...</td>\n",
       "    </tr>\n",
       "    <tr>\n",
       "      <th>30332</th>\n",
       "      <td>Albania</td>\n",
       "      <td>Ronda por los Balcanes</td>\n",
       "      <td>15 Días / 14 Noches</td>\n",
       "      <td>Zagreb, Ljubljana, Postojna, Parque Nacional d...</td>\n",
       "      <td>3485</td>\n",
       "      <td>https://viajeonline.es.tui.com/es/idea/2601015...</td>\n",
       "      <td>2025-05-18</td>\n",
       "      <td>Si</td>\n",
       "      <td>Zagreb, Ljubljana, Postojna, Parque Nacional d...</td>\n",
       "    </tr>\n",
       "    <tr>\n",
       "      <th>30333</th>\n",
       "      <td>Alemania</td>\n",
       "      <td>Berlín</td>\n",
       "      <td>4 Días / 3 Noches</td>\n",
       "      <td>Berlín</td>\n",
       "      <td>708</td>\n",
       "      <td>https://viajeonline.es.tui.com/es/idea/1463025...</td>\n",
       "      <td>2025-05-18</td>\n",
       "      <td>Si</td>\n",
       "      <td>Berlín</td>\n",
       "    </tr>\n",
       "    <tr>\n",
       "      <th>30334</th>\n",
       "      <td>Alemania</td>\n",
       "      <td>Fly &amp; Drive Austria, Entre Lagos y Montañas</td>\n",
       "      <td>8 Días / 7 Noches</td>\n",
       "      <td>Salzburgo, Gmunden, Linz, Melk, Viena, Graz, H...</td>\n",
       "      <td>827</td>\n",
       "      <td>https://viajeonline.es.tui.com/es/idea/7897512...</td>\n",
       "      <td>2025-05-18</td>\n",
       "      <td>Si</td>\n",
       "      <td>Salzburgo, Gmunden, Linz, Melk, Viena, Graz, H...</td>\n",
       "    </tr>\n",
       "    <tr>\n",
       "      <th>30335</th>\n",
       "      <td>Alemania</td>\n",
       "      <td>Fly &amp; Drive Carlomagno a su aire</td>\n",
       "      <td>10 Días / 9 Noches</td>\n",
       "      <td>Bruselas, Durbuy, Lieja, Aquisgrán, Colonia, B...</td>\n",
       "      <td>857</td>\n",
       "      <td>https://viajeonline.es.tui.com/es/idea/8404511...</td>\n",
       "      <td>2025-05-18</td>\n",
       "      <td>Si</td>\n",
       "      <td>Bruselas, Durbuy, Lieja, Aquisgrán, Colonia, B...</td>\n",
       "    </tr>\n",
       "    <tr>\n",
       "      <th>...</th>\n",
       "      <td>...</td>\n",
       "      <td>...</td>\n",
       "      <td>...</td>\n",
       "      <td>...</td>\n",
       "      <td>...</td>\n",
       "      <td>...</td>\n",
       "      <td>...</td>\n",
       "      <td>...</td>\n",
       "      <td>...</td>\n",
       "    </tr>\n",
       "    <tr>\n",
       "      <th>55768</th>\n",
       "      <td>Zimbabue</td>\n",
       "      <td>Cataratas y Parques de Botsuana y Mauricio</td>\n",
       "      <td>13 Días / 10 Noches</td>\n",
       "      <td>Cataratas Victoria, PN Chobe, Delta de Okavang...</td>\n",
       "      <td>5369</td>\n",
       "      <td>https://es.tui.com/viaje/cataratas-y-parques-d...</td>\n",
       "      <td>2025-05-18</td>\n",
       "      <td>Si</td>\n",
       "      <td>Cataratas Victoria, PN Chobe, Delta de Okavang...</td>\n",
       "    </tr>\n",
       "    <tr>\n",
       "      <th>55769</th>\n",
       "      <td>Zimbabue</td>\n",
       "      <td>Cataratas y Parques de Botsuana y Mozambique</td>\n",
       "      <td>13 Días / 10 Noches</td>\n",
       "      <td>Cataratas Victoria, PN Chobe, Delta de Okavang...</td>\n",
       "      <td>5868</td>\n",
       "      <td>https://es.tui.com/viaje/cataratas-y-parques-d...</td>\n",
       "      <td>2025-05-18</td>\n",
       "      <td>Si</td>\n",
       "      <td>Cataratas Victoria, PN Chobe, Delta de Okavang...</td>\n",
       "    </tr>\n",
       "    <tr>\n",
       "      <th>55770</th>\n",
       "      <td>Zimbabue</td>\n",
       "      <td>Cataratas y Parques de Botsuana y Maldivas</td>\n",
       "      <td>13 Días / 9 Noches</td>\n",
       "      <td>Cataratas Victoria, PN Chobe, Delta de Okavang...</td>\n",
       "      <td>6189</td>\n",
       "      <td>https://es.tui.com/viaje/cataratas-y-parques-d...</td>\n",
       "      <td>2025-05-18</td>\n",
       "      <td>Si</td>\n",
       "      <td>Cataratas Victoria, PN Chobe, Delta de Okavang...</td>\n",
       "    </tr>\n",
       "    <tr>\n",
       "      <th>55771</th>\n",
       "      <td>Zimbabue</td>\n",
       "      <td>Zimbabue Salvaje</td>\n",
       "      <td>11 Días / 8 Noches</td>\n",
       "      <td>Cataratas Victoria, PN Hwange y Mana Pools</td>\n",
       "      <td>6539</td>\n",
       "      <td>https://es.tui.com/viaje/zimbabue-salvaje</td>\n",
       "      <td>2025-05-18</td>\n",
       "      <td>Si</td>\n",
       "      <td>Cataratas Victoria, PN Hwange, Mana Pools</td>\n",
       "    </tr>\n",
       "    <tr>\n",
       "      <th>55772</th>\n",
       "      <td>Zimbabue</td>\n",
       "      <td>Zimbabue Salvaje y Lago Kariba</td>\n",
       "      <td>14 Días / 11 Noches</td>\n",
       "      <td>Cataratas Victoria, PN Hwange, Mana Pools y La...</td>\n",
       "      <td>9228</td>\n",
       "      <td>https://es.tui.com/viaje/zimbabue-salvaje-y-la...</td>\n",
       "      <td>2025-05-18</td>\n",
       "      <td>Si</td>\n",
       "      <td>Cataratas Victoria, PN Hwange, Mana Pools, Lag...</td>\n",
       "    </tr>\n",
       "  </tbody>\n",
       "</table>\n",
       "<p>1667 rows × 9 columns</p>\n",
       "</div>"
      ],
      "text/plain": [
       "           pais                                  nombre_viaje  \\\n",
       "30331   Albania                          Albania y Montenegro   \n",
       "30332   Albania                        Ronda por los Balcanes   \n",
       "30333  Alemania                                        Berlín   \n",
       "30334  Alemania   Fly & Drive Austria, Entre Lagos y Montañas   \n",
       "30335  Alemania              Fly & Drive Carlomagno a su aire   \n",
       "...         ...                                           ...   \n",
       "55768  Zimbabue    Cataratas y Parques de Botsuana y Mauricio   \n",
       "55769  Zimbabue  Cataratas y Parques de Botsuana y Mozambique   \n",
       "55770  Zimbabue    Cataratas y Parques de Botsuana y Maldivas   \n",
       "55771  Zimbabue                              Zimbabue Salvaje   \n",
       "55772  Zimbabue                Zimbabue Salvaje y Lago Kariba   \n",
       "\n",
       "            duracion_viaje                                         itinerario  \\\n",
       "30331    8 Días / 7 Noches  Tirana, Dürres, Berat, Kruja, Shkodër, Petrova...   \n",
       "30332  15 Días / 14 Noches  Zagreb, Ljubljana, Postojna, Parque Nacional d...   \n",
       "30333    4 Días / 3 Noches                                             Berlín   \n",
       "30334    8 Días / 7 Noches  Salzburgo, Gmunden, Linz, Melk, Viena, Graz, H...   \n",
       "30335   10 Días / 9 Noches  Bruselas, Durbuy, Lieja, Aquisgrán, Colonia, B...   \n",
       "...                    ...                                                ...   \n",
       "55768  13 Días / 10 Noches  Cataratas Victoria, PN Chobe, Delta de Okavang...   \n",
       "55769  13 Días / 10 Noches  Cataratas Victoria, PN Chobe, Delta de Okavang...   \n",
       "55770   13 Días / 9 Noches  Cataratas Victoria, PN Chobe, Delta de Okavang...   \n",
       "55771   11 Días / 8 Noches         Cataratas Victoria, PN Hwange y Mana Pools   \n",
       "55772  14 Días / 11 Noches  Cataratas Victoria, PN Hwange, Mana Pools y La...   \n",
       "\n",
       "       precio                                          url_viaje  \\\n",
       "30331    1755      https://es.tui.com/viaje/albania-y-montenegro   \n",
       "30332    3485  https://viajeonline.es.tui.com/es/idea/2601015...   \n",
       "30333     708  https://viajeonline.es.tui.com/es/idea/1463025...   \n",
       "30334     827  https://viajeonline.es.tui.com/es/idea/7897512...   \n",
       "30335     857  https://viajeonline.es.tui.com/es/idea/8404511...   \n",
       "...       ...                                                ...   \n",
       "55768    5369  https://es.tui.com/viaje/cataratas-y-parques-d...   \n",
       "55769    5868  https://es.tui.com/viaje/cataratas-y-parques-d...   \n",
       "55770    6189  https://es.tui.com/viaje/cataratas-y-parques-d...   \n",
       "55771    6539          https://es.tui.com/viaje/zimbabue-salvaje   \n",
       "55772    9228  https://es.tui.com/viaje/zimbabue-salvaje-y-la...   \n",
       "\n",
       "      fecha_escrapeo en_ultimo_escrapeo  \\\n",
       "30331     2025-05-18                 Si   \n",
       "30332     2025-05-18                 Si   \n",
       "30333     2025-05-18                 Si   \n",
       "30334     2025-05-18                 Si   \n",
       "30335     2025-05-18                 Si   \n",
       "...              ...                ...   \n",
       "55768     2025-05-18                 Si   \n",
       "55769     2025-05-18                 Si   \n",
       "55770     2025-05-18                 Si   \n",
       "55771     2025-05-18                 Si   \n",
       "55772     2025-05-18                 Si   \n",
       "\n",
       "                      itinerario_modificado_para_dividir  \n",
       "30331  Tirana, Dürres, Berat, Kruja, Shkodër, Petrova...  \n",
       "30332  Zagreb, Ljubljana, Postojna, Parque Nacional d...  \n",
       "30333                                             Berlín  \n",
       "30334  Salzburgo, Gmunden, Linz, Melk, Viena, Graz, H...  \n",
       "30335  Bruselas, Durbuy, Lieja, Aquisgrán, Colonia, B...  \n",
       "...                                                  ...  \n",
       "55768  Cataratas Victoria, PN Chobe, Delta de Okavang...  \n",
       "55769  Cataratas Victoria, PN Chobe, Delta de Okavang...  \n",
       "55770  Cataratas Victoria, PN Chobe, Delta de Okavang...  \n",
       "55771          Cataratas Victoria, PN Hwange, Mana Pools  \n",
       "55772  Cataratas Victoria, PN Hwange, Mana Pools, Lag...  \n",
       "\n",
       "[1667 rows x 9 columns]"
      ]
     },
     "execution_count": 72,
     "metadata": {},
     "output_type": "execute_result"
    }
   ],
   "source": [
    "#me quedo con los viajes escrapeados la última vez para indicar si el viaje está aún activo o no:\n",
    "viajes_ultimo_escrapeo = df_viajes_total[df_viajes_total.fecha_escrapeo == max(df_viajes_total.fecha_escrapeo) ]\n",
    "lista_nombre_ultimo_escrapeo = viajes_ultimo_escrapeo.nombre_viaje.unique().tolist()\n",
    "lista_url_ultimo_escrapeo = viajes_ultimo_escrapeo.url_viaje.unique().tolist()\n",
    "viajes_ultimo_escrapeo"
   ]
  },
  {
   "cell_type": "code",
   "execution_count": 73,
   "id": "1dc1aec5",
   "metadata": {},
   "outputs": [
    {
     "data": {
      "text/plain": [
       "1435"
      ]
     },
     "execution_count": 73,
     "metadata": {},
     "output_type": "execute_result"
    }
   ],
   "source": [
    "#me quedo con las columnas que me interesan:\n",
    "df_viajes_unicos = df_viajes_total[[ 'url_viaje','nombre_viaje','duracion_viaje','itinerario_modificado_para_dividir','en_ultimo_escrapeo']]\n",
    "#elimino duplicados\n",
    "df_viajes_unicos = df_viajes_unicos.drop_duplicates('url_viaje').reset_index(drop=True)\n",
    "len(df_viajes_unicos)"
   ]
  },
  {
   "cell_type": "code",
   "execution_count": 76,
   "id": "36e4118d",
   "metadata": {},
   "outputs": [],
   "source": [
    "for _,row in df_viajes_unicos.iterrows():\n",
    "    nombre_viaje = row[\"nombre_viaje\"]\n",
    "    url_viaje = row[\"url_viaje\"]\n",
    "    if nombre_viaje in lista_nombre_ultimo_escrapeo or url_viaje in lista_url_ultimo_escrapeo:\n",
    "        row['en_ultimo_escrapeo'] = 'Si'\n",
    "    else:\n",
    "        row['en_ultimo_escrapeo'] = 'No'"
   ]
  },
  {
   "cell_type": "code",
   "execution_count": 77,
   "id": "be268553",
   "metadata": {},
   "outputs": [
    {
     "data": {
      "text/plain": [
       "1435"
      ]
     },
     "execution_count": 77,
     "metadata": {},
     "output_type": "execute_result"
    }
   ],
   "source": [
    "#elimino duplicados\n",
    "df_viajes_unicos = df_viajes_unicos.drop_duplicates().reset_index(drop=True)\n",
    "len(df_viajes_unicos)"
   ]
  },
  {
   "cell_type": "code",
   "execution_count": 79,
   "id": "a980abbd",
   "metadata": {},
   "outputs": [
    {
     "data": {
      "text/plain": [
       "Index(['url_viaje', 'nombre_viaje', 'duracion_viaje',\n",
       "       'itinerario_modificado_para_dividir', 'en_ultimo_escrapeo',\n",
       "       'duracion_dias', 'duracion_noches'],\n",
       "      dtype='object')"
      ]
     },
     "execution_count": 79,
     "metadata": {},
     "output_type": "execute_result"
    }
   ],
   "source": [
    "#divido la columna duracion_viaje para extraer los días y las noches en diferentes columnas\n",
    "df_viajes_unicos[['duracion_dias','duracion_noches']]=df_viajes_unicos['duracion_viaje'].str.split(\" / \", expand = True)\n",
    "df_viajes_unicos['duracion_dias']= (df_viajes_unicos['duracion_dias'].str.split(' ', expand = True)[0]).astype(int)\n",
    "df_viajes_unicos['duracion_noches']= (df_viajes_unicos['duracion_noches'].str.split(' ', expand = True)[0]).astype(int)\n",
    "df_viajes_unicos.columns"
   ]
  },
  {
   "cell_type": "code",
   "execution_count": 80,
   "id": "4255c832",
   "metadata": {},
   "outputs": [
    {
     "data": {
      "text/plain": [
       "en_ultimo_escrapeo\n",
       "Si    1379\n",
       "No      56\n",
       "Name: count, dtype: int64"
      ]
     },
     "execution_count": 80,
     "metadata": {},
     "output_type": "execute_result"
    }
   ],
   "source": [
    "df_viajes_unicos.en_ultimo_escrapeo.value_counts()"
   ]
  },
  {
   "cell_type": "code",
   "execution_count": 81,
   "id": "c9dc3d63",
   "metadata": {},
   "outputs": [],
   "source": [
    "#convierto la columna en_ultimo_escrapeo en booleana\n",
    "df_viajes_unicos = lo.convertir_si_no_a_boolean(df_viajes_unicos, 'en_ultimo_escrapeo')"
   ]
  },
  {
   "cell_type": "code",
   "execution_count": 82,
   "id": "f38593f3",
   "metadata": {},
   "outputs": [],
   "source": [
    "#elimino la columna duracion_viaje\n",
    "df_viajes_unicos= df_viajes_unicos.drop(columns='duracion_viaje')"
   ]
  },
  {
   "cell_type": "code",
   "execution_count": 83,
   "id": "67d610c8",
   "metadata": {},
   "outputs": [
    {
     "data": {
      "text/plain": [
       "1435"
      ]
     },
     "execution_count": 83,
     "metadata": {},
     "output_type": "execute_result"
    }
   ],
   "source": [
    "#elimino duplicados\n",
    "df_viajes_unicos = df_viajes_unicos.drop_duplicates().reset_index(drop=True)\n",
    "len(df_viajes_unicos)"
   ]
  },
  {
   "cell_type": "code",
   "execution_count": 84,
   "id": "04ca0def",
   "metadata": {},
   "outputs": [
    {
     "name": "stdout",
     "output_type": "stream",
     "text": [
      "1435\n",
      "1429\n",
      "1435\n"
     ]
    }
   ],
   "source": [
    "print(len(df_viajes_unicos))\n",
    "print(len(df_viajes_unicos.nombre_viaje.unique()))\n",
    "print(len(df_viajes_unicos.url_viaje.unique()))"
   ]
  },
  {
   "cell_type": "markdown",
   "id": "12119fc1",
   "metadata": {},
   "source": [
    "### 5.2 Hago la carga en la BBDD:"
   ]
  },
  {
   "cell_type": "markdown",
   "id": "34b84e85",
   "metadata": {},
   "source": [
    "La tabla viaje tiene que tener los siguientes campos:\n",
    "- id_viaje SERIAL PRIMARY KEY,\n",
    "- nombre_viaje TEXT UNIQUE,\n",
    "- url_viaje TEXT UNIQUE,\n",
    "- duracion_dias INT,\n",
    "- duracion_noches INT,\n",
    "- id_itinerario INT REFERENCES itinerario(id_itinerario) ON DELETE CASCADE,\n",
    "- viaje_activo BOOLEAN\n"
   ]
  },
  {
   "cell_type": "code",
   "execution_count": 85,
   "id": "f5503544",
   "metadata": {},
   "outputs": [
    {
     "name": "stdout",
     "output_type": "stream",
     "text": [
      "1435\n"
     ]
    }
   ],
   "source": [
    "#Extraigo la información de la BBDD existente en la tabla viaje\n",
    "query_extraccion = \"SELECT url_viaje, id_viaje FROM viaje\"\n",
    "url_dict=lo.extraer_datos_de_BBDD(query_extraccion)\n",
    "print(len(url_dict))"
   ]
  },
  {
   "cell_type": "code",
   "execution_count": 86,
   "id": "9b503325",
   "metadata": {},
   "outputs": [
    {
     "name": "stdout",
     "output_type": "stream",
     "text": [
      "1139\n"
     ]
    }
   ],
   "source": [
    "#Extraigo la información de la BBDD existente en la tabla itinerarios\n",
    "query_extraccion = \"SELECT detalle_itinerario, id_itinerario FROM itinerario\"\n",
    "itinerario_dict=lo.extraer_datos_de_BBDD(query_extraccion)\n",
    "print(len(itinerario_dict))"
   ]
  },
  {
   "cell_type": "code",
   "execution_count": 87,
   "id": "bb68b3fa",
   "metadata": {},
   "outputs": [],
   "source": [
    "query_extraccion_tupla=\"SELECT url_viaje, nombre_viaje, viaje_activo FROM viaje\"\n",
    "existing_tupla = lo.extraer_tupla_datos_bbdd(query_extraccion_tupla)  # set de tuplas (url_viaje, nombre_viaje,viaje_activo)"
   ]
  },
  {
   "cell_type": "code",
   "execution_count": 89,
   "id": "260340c3",
   "metadata": {},
   "outputs": [
    {
     "data": {
      "application/vnd.microsoft.datawrangler.viewer.v0+json": {
       "columns": [
        {
         "name": "index",
         "rawType": "int64",
         "type": "integer"
        },
        {
         "name": "url_viaje",
         "rawType": "object",
         "type": "string"
        },
        {
         "name": "nombre_viaje",
         "rawType": "object",
         "type": "string"
        },
        {
         "name": "itinerario_modificado_para_dividir",
         "rawType": "object",
         "type": "string"
        },
        {
         "name": "en_ultimo_escrapeo",
         "rawType": "bool",
         "type": "boolean"
        },
        {
         "name": "duracion_dias",
         "rawType": "int64",
         "type": "integer"
        },
        {
         "name": "duracion_noches",
         "rawType": "int64",
         "type": "integer"
        }
       ],
       "conversionMethod": "pd.DataFrame",
       "ref": "7f70e22b-2025-44d4-888c-8de1862c4623",
       "rows": [
        [
         "0",
         "https://es.tui.com/viaje/albania-y-montenegro",
         "Albania y Montenegro",
         "Tirana, Dürres, Berat, Kruja, Shkodër, Petrovac, Budva, Cetinje, Bar",
         "True",
         "8",
         "7"
        ],
        [
         "1",
         "https://viajeonline.es.tui.com/es/idea/14630257/berlin",
         "Berlín",
         "Berlín",
         "True",
         "4",
         "3"
        ],
        [
         "2",
         "https://viajeonline.es.tui.com/es/idea/7897512/fly-drive-austria-entre-lagos-y-montanas-",
         "Fly & Drive Austria, Entre Lagos y Montañas",
         "Salzburgo, Gmunden, Linz, Melk, Viena, Graz, Hallstatt, St Wolfgang, St Johann in Tirol, Innsbruck",
         "True",
         "8",
         "7"
        ],
        [
         "3",
         "https://viajeonline.es.tui.com/es/idea/8404511/-fly-drive-carlomagno-a-su-aire?tripId=2",
         "Fly & Drive Carlomagno a su aire",
         "Bruselas, Durbuy, Lieja, Aquisgrán, Colonia, Bonn, Königswinter, Coblenza, Boppard, Cochem, Tréveris, Luxemburgo, Dinant, Gante, Brujas, Lovaina, Malinas, Amberes",
         "True",
         "10",
         "9"
        ],
        [
         "4",
         "https://viajeonline.es.tui.com/es/idea/7906930/-fly-drive-tirol-al-completo-",
         "Fly & Drive Tirol al Completo",
         "sbruck, Cataratas Krimml, Vipiteno, Bresanona, Bolzano, Trento, Marmolada, Canazei, Cortina D’Ampezzo, Brunico",
         "True",
         "8",
         "7"
        ],
        [
         "5",
         "https://viajeonline.es.tui.com/es/idea/21553157/-fly-drive-ciudades-hanseaticas-a-su-aire?tripId=9",
         "Fly & Drive Ciudades Hanseáticas",
         "Hamburgo, Stade, Bremen, Luneburg, Schwerin, Wismar, Lubeck",
         "True",
         "8",
         "7"
        ],
        [
         "6",
         "https://es.tui.com/viaje/alsacia-y-selva-negra",
         "Alsacia y Selva Negra",
         "Frankfurt, Baden-Baden, Estrasburgo, Selva Negra, Titisee, Friburgo, lago Constanza, Riquewihr, Colmar, Heidelberg",
         "True",
         "8",
         "7"
        ],
        [
         "7",
         "https://es.tui.com/viaje/triangulo-argentino",
         "Triángulo Argentino",
         "Buenos Aires, El Calafate, Iguazú",
         "True",
         "10",
         "7"
        ],
        [
         "8",
         "https://es.tui.com/viaje/patagonia-a-tu-alcance",
         "Patagonia a tu alcance",
         "Buenos Aires, Ushuaia, El Calafate, Iguazú",
         "True",
         "12",
         "9"
        ],
        [
         "9",
         "https://es.tui.com/viaje/ballenas-glaciares-y-cataratas",
         "Ballenas, Glaciares y Cataratas",
         "Buenos Aires, Puerto Madryn, El Calafate, Iguazú",
         "True",
         "12",
         "9"
        ],
        [
         "10",
         "https://es.tui.com/viaje/buenos-aires-el-calafate-e-iguazu",
         "Buenos Aires, El Calafate e Iguazú",
         "Buenos Aires, El Calafate, Iguazú",
         "True",
         "11",
         "8"
        ],
        [
         "11",
         "https://es.tui.com/viaje/argentina-y-brasil",
         "Argentina y Brasil",
         "Buenos Aires, El Calafate, Iguazú, Río de Janeiro",
         "True",
         "14",
         "11"
        ],
        [
         "12",
         "https://es.tui.com/viaje/argentina-magica",
         "Argentina Mágica",
         "Buenos Aires, Ushuaia, El Calafate, Bariloche, Iguazú",
         "True",
         "14",
         "11"
        ],
        [
         "13",
         "https://es.tui.com/viaje/argentina-a-tu-alcance",
         "Argentina a tu alcance",
         "Buenos Aires, Puerto Madryn, Ushuaia, El Calafate, Iguazú",
         "True",
         "14",
         "11"
        ],
        [
         "14",
         "https://es.tui.com/viaje/lagos-glaciares-y-cataratas",
         "Lagos, Glaciares y Cataratas",
         "Buenos Aires, Bariloche, El Calafate, Iguazú",
         "True",
         "13",
         "10"
        ],
        [
         "15",
         "https://es.tui.com/viaje/argentina-clasica",
         "Argentina Clásica",
         "Buenos Aires, Ushuaia, El Calafate, Iguazú",
         "True",
         "13",
         "10"
        ],
        [
         "16",
         "https://es.tui.com/viaje/contrastes-de-argentina",
         "Contrastes de Argentina",
         "Buenos Aires, El Calafate, Salta, Cafayate, Quebrada de Humahuaca, Iguazú",
         "True",
         "13",
         "10"
        ],
        [
         "17",
         "https://es.tui.com/viaje/argentina-espectacular",
         "Argentina Espectacular",
         "Buenos Aires, Puerto Madryn, Ushuaia, El Calafate, Bariloche, Iguazú",
         "True",
         "16",
         "13"
        ],
        [
         "18",
         "https://es.tui.com/viaje/patagonia-fascinante",
         "Patagonia Fascinante",
         "Buenos Aires, Ushuaia, El Calafate, Bariloche, Iguazú",
         "True",
         "15",
         "12"
        ],
        [
         "19",
         "https://es.tui.com/viaje/patagonia-con-iguazu",
         "Patagonia con Iguazú",
         "Buenos Aires, Puerto Madryn, Ushuaia, El Calafate, Iguazú",
         "True",
         "15",
         "12"
        ],
        [
         "20",
         "https://es.tui.com/viaje/lo-mejor-de-argentina",
         "Lo Mejor de Argentina",
         "Buenos Aires, Puerto Madryn, Ushuaia, El Calafate, Bariloche, Iguazú",
         "True",
         "17",
         "14"
        ],
        [
         "21",
         "https://es.tui.com/viaje/argentina-para-dos",
         "Argentina para Dos",
         "Buenos Aires, Ushuaia, El Calafate, Iguazú",
         "True",
         "13",
         "10"
        ],
        [
         "22",
         "https://es.tui.com/viaje/patagonia-argentina-y-chilena",
         "Patagonia Argentina y Chilena",
         "Buenos Aires, Ushuaia, El Calafate, Puerto Natales, Punta Arenas, Puerto Montt, Puerto Varas, Cruce de Lagos, Bariloche",
         "True",
         "16",
         "13"
        ],
        [
         "23",
         "https://es.tui.com/viaje/lagos-glaciares-y-cataratas-con-extension-cruce-andino",
         "Lagos, Glaciares y Cataratas con Extensión Cruce Andino",
         "Buenos Aires, Bariloche, Cruce Andino, Puerto Varas, El Calafate, Iguazú",
         "True",
         "16",
         "13"
        ],
        [
         "24",
         "https://es.tui.com/viaje/gran-tour-de-argentina",
         "Gran Tour de Argentina",
         "Buenos Aires, Puerto Madryn, Ushuaia, El Calafate, Iguazú, Salta, Cafayate",
         "True",
         "17",
         "14"
        ],
        [
         "25",
         "https://es.tui.com/viaje/al-sur-del-sur-con-australis",
         "Al Sur del Sur con Australis",
         "Buenos Aires, Ushuaia, Crucero Australis, Punta Arenas, Puerto Natales, Torres del Paine, El Calafate",
         "True",
         "15",
         "12"
        ],
        [
         "26",
         "https://es.tui.com/viaje/las-dos-patagonias-con-australis",
         "Las Dos Patagonias con Australis",
         "Buenos Aires, El Calafate, Ushuaia, Crucero Australis, Puerto Natales, Santiago de Chile",
         "True",
         "15",
         "12"
        ],
        [
         "27",
         "https://es.tui.com/viaje/confines-del-mundo-con-australis",
         "Confines del Mundo con Australis",
         "Santiago de Chile, Punta Arenas, Crucero Australis, Ushuaia, El Calafate, Puerto Natales, Torres del Paine",
         "True",
         "16",
         "13"
        ],
        [
         "28",
         "https://es.tui.com/viaje/argentina-y-chile-con-australis",
         "Argentina y Chile con Australis",
         "Santiago de Chile, Punta Arenas, Puerto Natales, Crucero Australis, Ushuaia, El Calafate, Buenos Aires, Iguazú",
         "True",
         "17",
         "14"
        ],
        [
         "29",
         "https://es.tui.com/viaje/chile-y-argentina-con-skorpios-iii",
         "Chile y Argentina con Skorpios III",
         "Santiago de Chile, Puerto Natales, Torres del Paine, Crucero Skorpios III, El Calafate, Buenos Aires, Iguazú",
         "True",
         "18",
         "15"
        ],
        [
         "30",
         "https://viajeonline.es.tui.com/es/idea/7244961/aruba",
         "Aruba",
         "Playas de Aruba",
         "True",
         "9",
         "7"
        ],
        [
         "31",
         "https://viajeonline.es.tui.com/es/idea/7245405/-nueva-york-y-aruba",
         "Nueva York y Aruba",
         "Nueva York, Aruba",
         "True",
         "9",
         "7"
        ],
        [
         "32",
         "https://viajeonline.es.tui.com/es/idea/17583770/aruba-en-riu-resorts",
         "Aruba en RIU Resorts",
         "Aruba",
         "True",
         "6",
         "5"
        ],
        [
         "33",
         "https://es.tui.com/viaje/australia-en-autocaravana-ruta-a",
         "Australia en autocaravana - Ruta A",
         "Adelaida, Robe, Port Campbell, Melbourne, P N Wilsons Promontory, Lakes Entrance, Mallacoota, Narooma, Jervis Bay, Sydney",
         "True",
         "16",
         "12"
        ],
        [
         "34",
         "https://es.tui.com/viaje/australia-romantica",
         "Australia Romántica",
         "Sydney, Cairns, Melbourne",
         "True",
         "12",
         "9"
        ],
        [
         "35",
         "https://es.tui.com/viaje/australia-a-tu-alcance",
         "Australia a tu alcance",
         "Melbourne, Cairns, Sydney",
         "True",
         "12",
         "9"
        ],
        [
         "36",
         "https://es.tui.com/viaje/todo-australia",
         "Todo Australia",
         "Sydney, Ayers Rock, Cairns",
         "True",
         "11",
         "8"
        ],
        [
         "37",
         "https://es.tui.com/viaje/australia-kangaroo",
         "Australia Kangaroo",
         "Sydney, Cairns, Townsville, Airlie Beach, Hervey Bay, Brisbane",
         "True",
         "18",
         "14"
        ],
        [
         "38",
         "https://es.tui.com/viaje/experiencia-australiana",
         "Experiencia Australiana",
         "Sydney, Cairns, Darwin, PN Kakadu",
         "True",
         "12",
         "9"
        ],
        [
         "39",
         "https://es.tui.com/viaje/gran-australia",
         "Gran Australia",
         "Sydney, Ayers Rock, Cairns, Melbourne",
         "True",
         "15",
         "11"
        ],
        [
         "40",
         "https://viajeonline.es.tui.com/ES/idea/7142063/fly-drive-costa-este-australiana",
         "Fly & Drive Costa Este Australiana",
         "Sydney, Hunter Valley, Port Macquarie, Coffs Harbour, Byron Bay, Gold Coast, Brisbane, Hervey Bay, Bundaberg, Rockhampton, Mackay, Airlie Beach, Townsville, Cairns",
         "True",
         "19",
         "15"
        ],
        [
         "41",
         "https://es.tui.com/viaje/luna-de-miel-en-australia",
         "Luna de Miel en Australia",
         "Melbourne, Adelaida, Kangaroo Island, Cairns, Sydney",
         "True",
         "15",
         "12"
        ],
        [
         "42",
         "https://viajeonline.es.tui.com/es/idea/14349142/australia-magica",
         "Australia Mágica",
         "Sydney, Ayers Rock, Alice Springs, Adelaida, Kangaroo Island, Cairns",
         "True",
         "15",
         "12"
        ],
        [
         "43",
         "https://es.tui.com/viaje/capitales-australianas",
         "Capitales Australianas",
         "Melbourne, Cairns, Sydney",
         "True",
         "12",
         "9"
        ],
        [
         "44",
         "https://es.tui.com/viaje/contrastes-de-australia",
         "Contrastes de Australia",
         "Melbourne, Apollo Bay, Port Fairy, PN de Grampians, Robe, Barossa Valley, Adelaida, Alice Springs, Ayers Rock, Cairns, Sydney",
         "True",
         "20",
         "17"
        ],
        [
         "45",
         "https://es.tui.com/viaje/iconos-de-nueva-zelanda-y-australia",
         "Iconos de Nueva Zelanda y Australia",
         "Auckland, Waitomo, Rotorua, Sydney, Cairns, Melbourne",
         "True",
         "17",
         "13"
        ],
        [
         "46",
         "https://es.tui.com/viaje/tres-continentes",
         "Tres Continentes",
         "Bangkok, Sydney, Auckland, Tahití, Moorea, Los Ángeles",
         "True",
         "20",
         "16"
        ],
        [
         "47",
         "https://es.tui.com/viaje/kiwis-y-koalas",
         "Kiwis y Koalas",
         "Auckland, Waitomo, Rotorua, Christchurch, Lake Tekapo, Te Anau, Queenstown, Milford Sound, Sydney, Ayers Rock, Cairns",
         "True",
         "21",
         "17"
        ],
        [
         "48",
         "https://viajeonline.es.tui.com/es/idea/6948716/viena",
         "Viena",
         "Viena, Melk, Wachau",
         "True",
         "4",
         "3"
        ],
        [
         "49",
         "https://viajeonline.es.tui.com/es/idea/7975788/-fly-drive-viena-salzburgo-y-el-tirol-",
         "Fly & Drive Viena, Salzburgo y el Tirol",
         "Viena, Melk, Salzburgo, Hallstat, Tratzberg, Hall in Tirol, Innsbruck",
         "True",
         "8",
         "7"
        ]
       ],
       "shape": {
        "columns": 6,
        "rows": 1435
       }
      },
      "text/html": [
       "<div>\n",
       "<style scoped>\n",
       "    .dataframe tbody tr th:only-of-type {\n",
       "        vertical-align: middle;\n",
       "    }\n",
       "\n",
       "    .dataframe tbody tr th {\n",
       "        vertical-align: top;\n",
       "    }\n",
       "\n",
       "    .dataframe thead th {\n",
       "        text-align: right;\n",
       "    }\n",
       "</style>\n",
       "<table border=\"1\" class=\"dataframe\">\n",
       "  <thead>\n",
       "    <tr style=\"text-align: right;\">\n",
       "      <th></th>\n",
       "      <th>url_viaje</th>\n",
       "      <th>nombre_viaje</th>\n",
       "      <th>itinerario_modificado_para_dividir</th>\n",
       "      <th>en_ultimo_escrapeo</th>\n",
       "      <th>duracion_dias</th>\n",
       "      <th>duracion_noches</th>\n",
       "    </tr>\n",
       "  </thead>\n",
       "  <tbody>\n",
       "    <tr>\n",
       "      <th>0</th>\n",
       "      <td>https://es.tui.com/viaje/albania-y-montenegro</td>\n",
       "      <td>Albania y Montenegro</td>\n",
       "      <td>Tirana, Dürres, Berat, Kruja, Shkodër, Petrova...</td>\n",
       "      <td>True</td>\n",
       "      <td>8</td>\n",
       "      <td>7</td>\n",
       "    </tr>\n",
       "    <tr>\n",
       "      <th>1</th>\n",
       "      <td>https://viajeonline.es.tui.com/es/idea/1463025...</td>\n",
       "      <td>Berlín</td>\n",
       "      <td>Berlín</td>\n",
       "      <td>True</td>\n",
       "      <td>4</td>\n",
       "      <td>3</td>\n",
       "    </tr>\n",
       "    <tr>\n",
       "      <th>2</th>\n",
       "      <td>https://viajeonline.es.tui.com/es/idea/7897512...</td>\n",
       "      <td>Fly &amp; Drive Austria, Entre Lagos y Montañas</td>\n",
       "      <td>Salzburgo, Gmunden, Linz, Melk, Viena, Graz, H...</td>\n",
       "      <td>True</td>\n",
       "      <td>8</td>\n",
       "      <td>7</td>\n",
       "    </tr>\n",
       "    <tr>\n",
       "      <th>3</th>\n",
       "      <td>https://viajeonline.es.tui.com/es/idea/8404511...</td>\n",
       "      <td>Fly &amp; Drive Carlomagno a su aire</td>\n",
       "      <td>Bruselas, Durbuy, Lieja, Aquisgrán, Colonia, B...</td>\n",
       "      <td>True</td>\n",
       "      <td>10</td>\n",
       "      <td>9</td>\n",
       "    </tr>\n",
       "    <tr>\n",
       "      <th>4</th>\n",
       "      <td>https://viajeonline.es.tui.com/es/idea/7906930...</td>\n",
       "      <td>Fly &amp; Drive Tirol al Completo</td>\n",
       "      <td>sbruck, Cataratas Krimml, Vipiteno, Bresanona,...</td>\n",
       "      <td>True</td>\n",
       "      <td>8</td>\n",
       "      <td>7</td>\n",
       "    </tr>\n",
       "    <tr>\n",
       "      <th>...</th>\n",
       "      <td>...</td>\n",
       "      <td>...</td>\n",
       "      <td>...</td>\n",
       "      <td>...</td>\n",
       "      <td>...</td>\n",
       "      <td>...</td>\n",
       "    </tr>\n",
       "    <tr>\n",
       "      <th>1430</th>\n",
       "      <td>https://viajeonline.es.tui.com/es/idea/2607762...</td>\n",
       "      <td>Laponia - Puente de Diciembre en Levi - desde ...</td>\n",
       "      <td>Levi</td>\n",
       "      <td>True</td>\n",
       "      <td>5</td>\n",
       "      <td>4</td>\n",
       "    </tr>\n",
       "    <tr>\n",
       "      <th>1431</th>\n",
       "      <td>https://viajeonline.es.tui.com/es/idea/2607572...</td>\n",
       "      <td>Laponia - Puente de Diciembre en Levi - desde ...</td>\n",
       "      <td>Levi</td>\n",
       "      <td>True</td>\n",
       "      <td>5</td>\n",
       "      <td>4</td>\n",
       "    </tr>\n",
       "    <tr>\n",
       "      <th>1432</th>\n",
       "      <td>https://viajeonline.es.tui.com/es/idea/2607664...</td>\n",
       "      <td>Laponia - Puente de Diciembre en Levi - desde ...</td>\n",
       "      <td>Levi</td>\n",
       "      <td>True</td>\n",
       "      <td>5</td>\n",
       "      <td>4</td>\n",
       "    </tr>\n",
       "    <tr>\n",
       "      <th>1433</th>\n",
       "      <td>https://viajeonline.es.tui.com/es/idea/2607847...</td>\n",
       "      <td>Laponia - Puente de Diciembre en Levi - desde ...</td>\n",
       "      <td>Levi</td>\n",
       "      <td>True</td>\n",
       "      <td>5</td>\n",
       "      <td>4</td>\n",
       "    </tr>\n",
       "    <tr>\n",
       "      <th>1434</th>\n",
       "      <td>https://viajeonline.es.tui.com/es/idea/2607811...</td>\n",
       "      <td>Laponia - Puente de Diciembre en Levi - desde ...</td>\n",
       "      <td>Levi</td>\n",
       "      <td>True</td>\n",
       "      <td>5</td>\n",
       "      <td>4</td>\n",
       "    </tr>\n",
       "  </tbody>\n",
       "</table>\n",
       "<p>1435 rows × 6 columns</p>\n",
       "</div>"
      ],
      "text/plain": [
       "                                              url_viaje  \\\n",
       "0         https://es.tui.com/viaje/albania-y-montenegro   \n",
       "1     https://viajeonline.es.tui.com/es/idea/1463025...   \n",
       "2     https://viajeonline.es.tui.com/es/idea/7897512...   \n",
       "3     https://viajeonline.es.tui.com/es/idea/8404511...   \n",
       "4     https://viajeonline.es.tui.com/es/idea/7906930...   \n",
       "...                                                 ...   \n",
       "1430  https://viajeonline.es.tui.com/es/idea/2607762...   \n",
       "1431  https://viajeonline.es.tui.com/es/idea/2607572...   \n",
       "1432  https://viajeonline.es.tui.com/es/idea/2607664...   \n",
       "1433  https://viajeonline.es.tui.com/es/idea/2607847...   \n",
       "1434  https://viajeonline.es.tui.com/es/idea/2607811...   \n",
       "\n",
       "                                           nombre_viaje  \\\n",
       "0                                  Albania y Montenegro   \n",
       "1                                                Berlín   \n",
       "2           Fly & Drive Austria, Entre Lagos y Montañas   \n",
       "3                      Fly & Drive Carlomagno a su aire   \n",
       "4                         Fly & Drive Tirol al Completo   \n",
       "...                                                 ...   \n",
       "1430  Laponia - Puente de Diciembre en Levi - desde ...   \n",
       "1431  Laponia - Puente de Diciembre en Levi - desde ...   \n",
       "1432  Laponia - Puente de Diciembre en Levi - desde ...   \n",
       "1433  Laponia - Puente de Diciembre en Levi - desde ...   \n",
       "1434  Laponia - Puente de Diciembre en Levi - desde ...   \n",
       "\n",
       "                     itinerario_modificado_para_dividir  en_ultimo_escrapeo  \\\n",
       "0     Tirana, Dürres, Berat, Kruja, Shkodër, Petrova...                True   \n",
       "1                                                Berlín                True   \n",
       "2     Salzburgo, Gmunden, Linz, Melk, Viena, Graz, H...                True   \n",
       "3     Bruselas, Durbuy, Lieja, Aquisgrán, Colonia, B...                True   \n",
       "4     sbruck, Cataratas Krimml, Vipiteno, Bresanona,...                True   \n",
       "...                                                 ...                 ...   \n",
       "1430                                               Levi                True   \n",
       "1431                                               Levi                True   \n",
       "1432                                               Levi                True   \n",
       "1433                                               Levi                True   \n",
       "1434                                               Levi                True   \n",
       "\n",
       "      duracion_dias  duracion_noches  \n",
       "0                 8                7  \n",
       "1                 4                3  \n",
       "2                 8                7  \n",
       "3                10                9  \n",
       "4                 8                7  \n",
       "...             ...              ...  \n",
       "1430              5                4  \n",
       "1431              5                4  \n",
       "1432              5                4  \n",
       "1433              5                4  \n",
       "1434              5                4  \n",
       "\n",
       "[1435 rows x 6 columns]"
      ]
     },
     "execution_count": 89,
     "metadata": {},
     "output_type": "execute_result"
    }
   ],
   "source": [
    "df_viajes_unicos"
   ]
  },
  {
   "cell_type": "code",
   "execution_count": 90,
   "id": "7a4e6fe1",
   "metadata": {},
   "outputs": [],
   "source": [
    "#Creo los datos para insertarlos en la BBDD:\n",
    "data_to_insert=[]\n",
    "data_to_update=[]\n",
    "for _,row in df_viajes_unicos.iterrows():\n",
    "    url_viaje = row[\"url_viaje\"]\n",
    "    if url_viaje not in url_dict.keys():\n",
    "        nombre_viaje = row['nombre_viaje']\n",
    "        duracion_dias = row['duracion_dias']\n",
    "        duracion_noches = row['duracion_noches']\n",
    "        detalle_itinerario = row['itinerario_modificado_para_dividir']\n",
    "        id_itinerario = itinerario_dict.get(detalle_itinerario)\n",
    "        viaje_activo = row['en_ultimo_escrapeo']\n",
    "        data_to_insert.append([url_viaje,nombre_viaje,duracion_dias,duracion_noches,id_itinerario,viaje_activo])\n",
    "    else:\n",
    "        nombre_viaje = row['nombre_viaje']\n",
    "        viaje_activo = row['en_ultimo_escrapeo']\n",
    "        tupla_combinacion = (url_viaje, nombre_viaje, viaje_activo) #creo la tupla de combinación url_viaje, nombre_viaje, viaje_activo\n",
    "        if tupla_combinacion not in existing_tupla:\n",
    "            data_to_update.append([url_viaje,nombre_viaje,viaje_activo])"
   ]
  },
  {
   "cell_type": "code",
   "execution_count": 91,
   "id": "68a76655",
   "metadata": {},
   "outputs": [
    {
     "name": "stdout",
     "output_type": "stream",
     "text": [
      "Se han cargado 0 viajes nuevos en la BBDD\n",
      "Se han actualizado 0 viajes existentes en la BBDD\n"
     ]
    }
   ],
   "source": [
    "\n",
    "insert_query = \"\"\"\n",
    "INSERT INTO viaje (url_viaje,nombre_viaje,duracion_dias,duracion_noches,id_itinerario,viaje_activo)\n",
    "VALUES (%s, %s, %s, %s, %s, %s)\n",
    "\"\"\"\n",
    "lo.insertar_datos_en_BBDD(insert_query, data_to_insert)\n",
    "\n",
    "if (len(data_to_update))>0:\n",
    "    for url_viaje, nombre_viaje, viaje_activo in data_to_update:\n",
    "        update_query = \"\"\"\n",
    "        UPDATE viaje \n",
    "        SET nombre_viaje = %s,\n",
    "            viaje_activo=%s\n",
    "        where url_viaje = %s\n",
    "        \"\"\"\n",
    "        lo.actualizar_datos_en_bbdd(update_query, ((nombre_viaje, viaje_activo, url_viaje)))\n",
    "print(f'Se han cargado {len(data_to_insert)} viajes nuevos en la BBDD')\n",
    "print(f'Se han actualizado {len(data_to_update)} viajes existentes en la BBDD')\n"
   ]
  },
  {
   "cell_type": "markdown",
   "id": "1963c63a",
   "metadata": {},
   "source": [
    "## 6. Tabla viaje"
   ]
  },
  {
   "cell_type": "markdown",
   "id": "0ec0abe7",
   "metadata": {},
   "source": [
    "### 6.1 Extraigo la información de los viajes procesados:"
   ]
  },
  {
   "cell_type": "code",
   "execution_count": 92,
   "id": "d17f87e4",
   "metadata": {},
   "outputs": [
    {
     "data": {
      "application/vnd.microsoft.datawrangler.viewer.v0+json": {
       "columns": [
        {
         "name": "index",
         "rawType": "int64",
         "type": "integer"
        },
        {
         "name": "pais",
         "rawType": "object",
         "type": "string"
        },
        {
         "name": "nombre_viaje",
         "rawType": "object",
         "type": "string"
        },
        {
         "name": "duracion_viaje",
         "rawType": "object",
         "type": "string"
        },
        {
         "name": "itinerario",
         "rawType": "object",
         "type": "string"
        },
        {
         "name": "precio",
         "rawType": "int64",
         "type": "integer"
        },
        {
         "name": "url_viaje",
         "rawType": "object",
         "type": "string"
        },
        {
         "name": "fecha_escrapeo",
         "rawType": "datetime64[ns]",
         "type": "datetime"
        },
        {
         "name": "en_ultimo_escrapeo",
         "rawType": "object",
         "type": "string"
        },
        {
         "name": "itinerario_modificado_para_dividir",
         "rawType": "object",
         "type": "string"
        }
       ],
       "conversionMethod": "pd.DataFrame",
       "ref": "c6db5c99-0413-47f2-b0ee-7c2d4ea688a9",
       "rows": [
        [
         "0",
         "Albania",
         "Albania y Montenegro",
         "8 Días / 7 Noches",
         "Tirana, Dürres, Berat, Kruja, Shkodër, Petrovac, Budva, Cetinje y Bar",
         "1755",
         "https://es.tui.com/viaje/albania-y-montenegro",
         "2025-04-07 00:00:00",
         "Si",
         "Tirana, Dürres, Berat, Kruja, Shkodër, Petrovac, Budva, Cetinje, Bar"
        ],
        [
         "1",
         "Alemania",
         "Berlín",
         "4 Días / 3 Noches",
         "Berlín",
         "708",
         "https://viajeonline.es.tui.com/es/idea/14630257/berlin",
         "2025-04-07 00:00:00",
         "Si",
         "Berlín"
        ],
        [
         "2",
         "Alemania",
         "Fly & Drive Austria, Entre Lagos y Montañas",
         "8 Días / 7 Noches",
         "Salzburgo, Gmunden, Linz, Melk, Viena, Graz, Hallstatt, St Wolfgang, St Johann in Tirol e Innsbruck",
         "827",
         "https://viajeonline.es.tui.com/es/idea/7897512/fly-drive-austria-entre-lagos-y-montanas-",
         "2025-04-07 00:00:00",
         "Si",
         "Salzburgo, Gmunden, Linz, Melk, Viena, Graz, Hallstatt, St Wolfgang, St Johann in Tirol, Innsbruck"
        ],
        [
         "3",
         "Alemania",
         "Fly & Drive Carlomagno a su aire",
         "10 Días / 9 Noches",
         "Bruselas, Durbuy, Lieja, Aquisgrán, Colonia, Bonn, Königswinter, Coblenza, Boppard, Cochem, Tréveris, Luxemburgo, Dinant, Gante, Brujas, Lovaina, Malinas y Amberes",
         "857",
         "https://viajeonline.es.tui.com/es/idea/8404511/-fly-drive-carlomagno-a-su-aire?tripId=2",
         "2025-04-07 00:00:00",
         "Si",
         "Bruselas, Durbuy, Lieja, Aquisgrán, Colonia, Bonn, Königswinter, Coblenza, Boppard, Cochem, Tréveris, Luxemburgo, Dinant, Gante, Brujas, Lovaina, Malinas, Amberes"
        ],
        [
         "4",
         "Alemania",
         "Fly & Drive Tirol al Completo",
         "8 Días / 7 Noches",
         "sbruck, Cataratas Krimml, Vipiteno, Bresanona, Bolzano, Trento, Marmolada, Canazei, Cortina D’Ampezzo y Brunico",
         "894",
         "https://viajeonline.es.tui.com/es/idea/7906930/-fly-drive-tirol-al-completo-",
         "2025-04-07 00:00:00",
         "Si",
         "sbruck, Cataratas Krimml, Vipiteno, Bresanona, Bolzano, Trento, Marmolada, Canazei, Cortina D’Ampezzo, Brunico"
        ]
       ],
       "shape": {
        "columns": 9,
        "rows": 5
       }
      },
      "text/html": [
       "<div>\n",
       "<style scoped>\n",
       "    .dataframe tbody tr th:only-of-type {\n",
       "        vertical-align: middle;\n",
       "    }\n",
       "\n",
       "    .dataframe tbody tr th {\n",
       "        vertical-align: top;\n",
       "    }\n",
       "\n",
       "    .dataframe thead th {\n",
       "        text-align: right;\n",
       "    }\n",
       "</style>\n",
       "<table border=\"1\" class=\"dataframe\">\n",
       "  <thead>\n",
       "    <tr style=\"text-align: right;\">\n",
       "      <th></th>\n",
       "      <th>pais</th>\n",
       "      <th>nombre_viaje</th>\n",
       "      <th>duracion_viaje</th>\n",
       "      <th>itinerario</th>\n",
       "      <th>precio</th>\n",
       "      <th>url_viaje</th>\n",
       "      <th>fecha_escrapeo</th>\n",
       "      <th>en_ultimo_escrapeo</th>\n",
       "      <th>itinerario_modificado_para_dividir</th>\n",
       "    </tr>\n",
       "  </thead>\n",
       "  <tbody>\n",
       "    <tr>\n",
       "      <th>0</th>\n",
       "      <td>Albania</td>\n",
       "      <td>Albania y Montenegro</td>\n",
       "      <td>8 Días / 7 Noches</td>\n",
       "      <td>Tirana, Dürres, Berat, Kruja, Shkodër, Petrova...</td>\n",
       "      <td>1755</td>\n",
       "      <td>https://es.tui.com/viaje/albania-y-montenegro</td>\n",
       "      <td>2025-04-07</td>\n",
       "      <td>Si</td>\n",
       "      <td>Tirana, Dürres, Berat, Kruja, Shkodër, Petrova...</td>\n",
       "    </tr>\n",
       "    <tr>\n",
       "      <th>1</th>\n",
       "      <td>Alemania</td>\n",
       "      <td>Berlín</td>\n",
       "      <td>4 Días / 3 Noches</td>\n",
       "      <td>Berlín</td>\n",
       "      <td>708</td>\n",
       "      <td>https://viajeonline.es.tui.com/es/idea/1463025...</td>\n",
       "      <td>2025-04-07</td>\n",
       "      <td>Si</td>\n",
       "      <td>Berlín</td>\n",
       "    </tr>\n",
       "    <tr>\n",
       "      <th>2</th>\n",
       "      <td>Alemania</td>\n",
       "      <td>Fly &amp; Drive Austria, Entre Lagos y Montañas</td>\n",
       "      <td>8 Días / 7 Noches</td>\n",
       "      <td>Salzburgo, Gmunden, Linz, Melk, Viena, Graz, H...</td>\n",
       "      <td>827</td>\n",
       "      <td>https://viajeonline.es.tui.com/es/idea/7897512...</td>\n",
       "      <td>2025-04-07</td>\n",
       "      <td>Si</td>\n",
       "      <td>Salzburgo, Gmunden, Linz, Melk, Viena, Graz, H...</td>\n",
       "    </tr>\n",
       "    <tr>\n",
       "      <th>3</th>\n",
       "      <td>Alemania</td>\n",
       "      <td>Fly &amp; Drive Carlomagno a su aire</td>\n",
       "      <td>10 Días / 9 Noches</td>\n",
       "      <td>Bruselas, Durbuy, Lieja, Aquisgrán, Colonia, B...</td>\n",
       "      <td>857</td>\n",
       "      <td>https://viajeonline.es.tui.com/es/idea/8404511...</td>\n",
       "      <td>2025-04-07</td>\n",
       "      <td>Si</td>\n",
       "      <td>Bruselas, Durbuy, Lieja, Aquisgrán, Colonia, B...</td>\n",
       "    </tr>\n",
       "    <tr>\n",
       "      <th>4</th>\n",
       "      <td>Alemania</td>\n",
       "      <td>Fly &amp; Drive Tirol al Completo</td>\n",
       "      <td>8 Días / 7 Noches</td>\n",
       "      <td>sbruck, Cataratas Krimml, Vipiteno, Bresanona,...</td>\n",
       "      <td>894</td>\n",
       "      <td>https://viajeonline.es.tui.com/es/idea/7906930...</td>\n",
       "      <td>2025-04-07</td>\n",
       "      <td>Si</td>\n",
       "      <td>sbruck, Cataratas Krimml, Vipiteno, Bresanona,...</td>\n",
       "    </tr>\n",
       "  </tbody>\n",
       "</table>\n",
       "</div>"
      ],
      "text/plain": [
       "       pais                                 nombre_viaje      duracion_viaje  \\\n",
       "0   Albania                         Albania y Montenegro   8 Días / 7 Noches   \n",
       "1  Alemania                                       Berlín   4 Días / 3 Noches   \n",
       "2  Alemania  Fly & Drive Austria, Entre Lagos y Montañas   8 Días / 7 Noches   \n",
       "3  Alemania             Fly & Drive Carlomagno a su aire  10 Días / 9 Noches   \n",
       "4  Alemania                Fly & Drive Tirol al Completo   8 Días / 7 Noches   \n",
       "\n",
       "                                          itinerario  precio  \\\n",
       "0  Tirana, Dürres, Berat, Kruja, Shkodër, Petrova...    1755   \n",
       "1                                             Berlín     708   \n",
       "2  Salzburgo, Gmunden, Linz, Melk, Viena, Graz, H...     827   \n",
       "3  Bruselas, Durbuy, Lieja, Aquisgrán, Colonia, B...     857   \n",
       "4  sbruck, Cataratas Krimml, Vipiteno, Bresanona,...     894   \n",
       "\n",
       "                                           url_viaje fecha_escrapeo  \\\n",
       "0      https://es.tui.com/viaje/albania-y-montenegro     2025-04-07   \n",
       "1  https://viajeonline.es.tui.com/es/idea/1463025...     2025-04-07   \n",
       "2  https://viajeonline.es.tui.com/es/idea/7897512...     2025-04-07   \n",
       "3  https://viajeonline.es.tui.com/es/idea/8404511...     2025-04-07   \n",
       "4  https://viajeonline.es.tui.com/es/idea/7906930...     2025-04-07   \n",
       "\n",
       "  en_ultimo_escrapeo                 itinerario_modificado_para_dividir  \n",
       "0                 Si  Tirana, Dürres, Berat, Kruja, Shkodër, Petrova...  \n",
       "1                 Si                                             Berlín  \n",
       "2                 Si  Salzburgo, Gmunden, Linz, Melk, Viena, Graz, H...  \n",
       "3                 Si  Bruselas, Durbuy, Lieja, Aquisgrán, Colonia, B...  \n",
       "4                 Si  sbruck, Cataratas Krimml, Vipiteno, Bresanona,...  "
      ]
     },
     "execution_count": 92,
     "metadata": {},
     "output_type": "execute_result"
    }
   ],
   "source": [
    "df_viajes_total.head()"
   ]
  },
  {
   "cell_type": "code",
   "execution_count": 93,
   "id": "b76917e9",
   "metadata": {},
   "outputs": [
    {
     "data": {
      "application/vnd.microsoft.datawrangler.viewer.v0+json": {
       "columns": [
        {
         "name": "index",
         "rawType": "int64",
         "type": "integer"
        },
        {
         "name": "url_viaje",
         "rawType": "object",
         "type": "string"
        },
        {
         "name": "precio",
         "rawType": "int64",
         "type": "integer"
        },
        {
         "name": "fecha_escrapeo",
         "rawType": "datetime64[ns]",
         "type": "datetime"
        }
       ],
       "conversionMethod": "pd.DataFrame",
       "ref": "3b916733-1c4c-420f-9935-20047f519e92",
       "rows": [
        [
         "0",
         "https://es.tui.com/viaje/albania-y-montenegro",
         "1755",
         "2025-04-07 00:00:00"
        ],
        [
         "1",
         "https://viajeonline.es.tui.com/es/idea/14630257/berlin",
         "708",
         "2025-04-07 00:00:00"
        ],
        [
         "2",
         "https://viajeonline.es.tui.com/es/idea/7897512/fly-drive-austria-entre-lagos-y-montanas-",
         "827",
         "2025-04-07 00:00:00"
        ],
        [
         "3",
         "https://viajeonline.es.tui.com/es/idea/8404511/-fly-drive-carlomagno-a-su-aire?tripId=2",
         "857",
         "2025-04-07 00:00:00"
        ],
        [
         "4",
         "https://viajeonline.es.tui.com/es/idea/7906930/-fly-drive-tirol-al-completo-",
         "894",
         "2025-04-07 00:00:00"
        ],
        [
         "5",
         "https://viajeonline.es.tui.com/es/idea/21553157/-fly-drive-ciudades-hanseaticas-a-su-aire?tripId=9",
         "959",
         "2025-04-07 00:00:00"
        ],
        [
         "6",
         "https://es.tui.com/viaje/alsacia-y-selva-negra",
         "1735",
         "2025-04-07 00:00:00"
        ],
        [
         "7",
         "https://es.tui.com/viaje/triangulo-argentino",
         "2265",
         "2025-04-07 00:00:00"
        ],
        [
         "8",
         "https://es.tui.com/viaje/patagonia-a-tu-alcance",
         "2695",
         "2025-04-07 00:00:00"
        ],
        [
         "9",
         "https://es.tui.com/viaje/ballenas-glaciares-y-cataratas",
         "2755",
         "2025-04-07 00:00:00"
        ],
        [
         "10",
         "https://es.tui.com/viaje/buenos-aires-el-calafate-e-iguazu",
         "2865",
         "2025-04-07 00:00:00"
        ],
        [
         "11",
         "https://es.tui.com/viaje/argentina-y-brasil",
         "2965",
         "2025-04-07 00:00:00"
        ],
        [
         "12",
         "https://es.tui.com/viaje/argentina-magica",
         "3055",
         "2025-04-07 00:00:00"
        ],
        [
         "13",
         "https://es.tui.com/viaje/argentina-a-tu-alcance",
         "3150",
         "2025-04-07 00:00:00"
        ],
        [
         "14",
         "https://es.tui.com/viaje/lagos-glaciares-y-cataratas",
         "3295",
         "2025-04-07 00:00:00"
        ],
        [
         "15",
         "https://es.tui.com/viaje/argentina-clasica",
         "3325",
         "2025-04-07 00:00:00"
        ],
        [
         "16",
         "https://es.tui.com/viaje/contrastes-de-argentina",
         "3395",
         "2025-04-07 00:00:00"
        ],
        [
         "17",
         "https://es.tui.com/viaje/argentina-espectacular",
         "3495",
         "2025-04-07 00:00:00"
        ],
        [
         "18",
         "https://es.tui.com/viaje/patagonia-fascinante",
         "3695",
         "2025-04-07 00:00:00"
        ],
        [
         "19",
         "https://es.tui.com/viaje/patagonia-con-iguazu",
         "3725",
         "2025-04-07 00:00:00"
        ],
        [
         "20",
         "https://es.tui.com/viaje/lo-mejor-de-argentina",
         "4025",
         "2025-04-07 00:00:00"
        ],
        [
         "21",
         "https://es.tui.com/viaje/argentina-para-dos",
         "4095",
         "2025-04-07 00:00:00"
        ],
        [
         "22",
         "https://es.tui.com/viaje/patagonia-argentina-y-chilena",
         "4385",
         "2025-04-07 00:00:00"
        ],
        [
         "23",
         "https://es.tui.com/viaje/lagos-glaciares-y-cataratas-con-extension-cruce-andino",
         "4750",
         "2025-04-07 00:00:00"
        ],
        [
         "24",
         "https://es.tui.com/viaje/gran-tour-de-argentina",
         "5235",
         "2025-04-07 00:00:00"
        ],
        [
         "25",
         "https://es.tui.com/viaje/al-sur-del-sur-con-australis",
         "5545",
         "2025-04-07 00:00:00"
        ],
        [
         "26",
         "https://es.tui.com/viaje/las-dos-patagonias-con-australis",
         "5585",
         "2025-04-07 00:00:00"
        ],
        [
         "27",
         "https://es.tui.com/viaje/confines-del-mundo-con-australis",
         "5825",
         "2025-04-07 00:00:00"
        ],
        [
         "28",
         "https://es.tui.com/viaje/argentina-y-chile-con-australis",
         "5895",
         "2025-04-07 00:00:00"
        ],
        [
         "29",
         "https://es.tui.com/viaje/chile-y-argentina-con-skorpios-iii",
         "6745",
         "2025-04-07 00:00:00"
        ],
        [
         "30",
         "https://viajeonline.es.tui.com/es/idea/7244961/aruba",
         "1965",
         "2025-04-07 00:00:00"
        ],
        [
         "31",
         "https://viajeonline.es.tui.com/es/idea/7245405/-nueva-york-y-aruba",
         "2402",
         "2025-04-07 00:00:00"
        ],
        [
         "32",
         "https://viajeonline.es.tui.com/es/idea/17583770/aruba-en-riu-resorts",
         "3472",
         "2025-04-07 00:00:00"
        ],
        [
         "33",
         "https://es.tui.com/viaje/australia-en-autocaravana-ruta-a",
         "2699",
         "2025-04-07 00:00:00"
        ],
        [
         "34",
         "https://es.tui.com/viaje/australia-romantica",
         "3245",
         "2025-04-07 00:00:00"
        ],
        [
         "35",
         "https://es.tui.com/viaje/australia-a-tu-alcance",
         "3255",
         "2025-04-07 00:00:00"
        ],
        [
         "36",
         "https://es.tui.com/viaje/todo-australia",
         "3255",
         "2025-04-07 00:00:00"
        ],
        [
         "37",
         "https://es.tui.com/viaje/australia-kangaroo",
         "3755",
         "2025-04-07 00:00:00"
        ],
        [
         "38",
         "https://es.tui.com/viaje/experiencia-australiana",
         "3809",
         "2025-04-07 00:00:00"
        ],
        [
         "39",
         "https://es.tui.com/viaje/gran-australia",
         "3895",
         "2025-04-07 00:00:00"
        ],
        [
         "40",
         "https://viajeonline.es.tui.com/ES/idea/7142063/fly-drive-costa-este-australiana",
         "4108",
         "2025-04-07 00:00:00"
        ],
        [
         "41",
         "https://es.tui.com/viaje/luna-de-miel-en-australia",
         "4229",
         "2025-04-07 00:00:00"
        ],
        [
         "42",
         "https://viajeonline.es.tui.com/es/idea/14349142/australia-magica",
         "4645",
         "2025-04-07 00:00:00"
        ],
        [
         "43",
         "https://es.tui.com/viaje/capitales-australianas",
         "5075",
         "2025-04-07 00:00:00"
        ],
        [
         "44",
         "https://es.tui.com/viaje/contrastes-de-australia",
         "5665",
         "2025-04-07 00:00:00"
        ],
        [
         "45",
         "https://es.tui.com/viaje/iconos-de-nueva-zelanda-y-australia",
         "5799",
         "2025-04-07 00:00:00"
        ],
        [
         "46",
         "https://es.tui.com/viaje/tres-continentes",
         "6575",
         "2025-04-07 00:00:00"
        ],
        [
         "47",
         "https://es.tui.com/viaje/kiwis-y-koalas",
         "8195",
         "2025-04-07 00:00:00"
        ],
        [
         "48",
         "https://viajeonline.es.tui.com/es/idea/6948716/viena",
         "815",
         "2025-04-07 00:00:00"
        ],
        [
         "49",
         "https://viajeonline.es.tui.com/es/idea/7897512/fly-drive-austria-entre-lagos-y-montanas-",
         "827",
         "2025-04-07 00:00:00"
        ]
       ],
       "shape": {
        "columns": 3,
        "rows": 55773
       }
      },
      "text/html": [
       "<div>\n",
       "<style scoped>\n",
       "    .dataframe tbody tr th:only-of-type {\n",
       "        vertical-align: middle;\n",
       "    }\n",
       "\n",
       "    .dataframe tbody tr th {\n",
       "        vertical-align: top;\n",
       "    }\n",
       "\n",
       "    .dataframe thead th {\n",
       "        text-align: right;\n",
       "    }\n",
       "</style>\n",
       "<table border=\"1\" class=\"dataframe\">\n",
       "  <thead>\n",
       "    <tr style=\"text-align: right;\">\n",
       "      <th></th>\n",
       "      <th>url_viaje</th>\n",
       "      <th>precio</th>\n",
       "      <th>fecha_escrapeo</th>\n",
       "    </tr>\n",
       "  </thead>\n",
       "  <tbody>\n",
       "    <tr>\n",
       "      <th>0</th>\n",
       "      <td>https://es.tui.com/viaje/albania-y-montenegro</td>\n",
       "      <td>1755</td>\n",
       "      <td>2025-04-07</td>\n",
       "    </tr>\n",
       "    <tr>\n",
       "      <th>1</th>\n",
       "      <td>https://viajeonline.es.tui.com/es/idea/1463025...</td>\n",
       "      <td>708</td>\n",
       "      <td>2025-04-07</td>\n",
       "    </tr>\n",
       "    <tr>\n",
       "      <th>2</th>\n",
       "      <td>https://viajeonline.es.tui.com/es/idea/7897512...</td>\n",
       "      <td>827</td>\n",
       "      <td>2025-04-07</td>\n",
       "    </tr>\n",
       "    <tr>\n",
       "      <th>3</th>\n",
       "      <td>https://viajeonline.es.tui.com/es/idea/8404511...</td>\n",
       "      <td>857</td>\n",
       "      <td>2025-04-07</td>\n",
       "    </tr>\n",
       "    <tr>\n",
       "      <th>4</th>\n",
       "      <td>https://viajeonline.es.tui.com/es/idea/7906930...</td>\n",
       "      <td>894</td>\n",
       "      <td>2025-04-07</td>\n",
       "    </tr>\n",
       "    <tr>\n",
       "      <th>...</th>\n",
       "      <td>...</td>\n",
       "      <td>...</td>\n",
       "      <td>...</td>\n",
       "    </tr>\n",
       "    <tr>\n",
       "      <th>55768</th>\n",
       "      <td>https://es.tui.com/viaje/cataratas-y-parques-d...</td>\n",
       "      <td>5369</td>\n",
       "      <td>2025-05-18</td>\n",
       "    </tr>\n",
       "    <tr>\n",
       "      <th>55769</th>\n",
       "      <td>https://es.tui.com/viaje/cataratas-y-parques-d...</td>\n",
       "      <td>5868</td>\n",
       "      <td>2025-05-18</td>\n",
       "    </tr>\n",
       "    <tr>\n",
       "      <th>55770</th>\n",
       "      <td>https://es.tui.com/viaje/cataratas-y-parques-d...</td>\n",
       "      <td>6189</td>\n",
       "      <td>2025-05-18</td>\n",
       "    </tr>\n",
       "    <tr>\n",
       "      <th>55771</th>\n",
       "      <td>https://es.tui.com/viaje/zimbabue-salvaje</td>\n",
       "      <td>6539</td>\n",
       "      <td>2025-05-18</td>\n",
       "    </tr>\n",
       "    <tr>\n",
       "      <th>55772</th>\n",
       "      <td>https://es.tui.com/viaje/zimbabue-salvaje-y-la...</td>\n",
       "      <td>9228</td>\n",
       "      <td>2025-05-18</td>\n",
       "    </tr>\n",
       "  </tbody>\n",
       "</table>\n",
       "<p>55773 rows × 3 columns</p>\n",
       "</div>"
      ],
      "text/plain": [
       "                                               url_viaje  precio  \\\n",
       "0          https://es.tui.com/viaje/albania-y-montenegro    1755   \n",
       "1      https://viajeonline.es.tui.com/es/idea/1463025...     708   \n",
       "2      https://viajeonline.es.tui.com/es/idea/7897512...     827   \n",
       "3      https://viajeonline.es.tui.com/es/idea/8404511...     857   \n",
       "4      https://viajeonline.es.tui.com/es/idea/7906930...     894   \n",
       "...                                                  ...     ...   \n",
       "55768  https://es.tui.com/viaje/cataratas-y-parques-d...    5369   \n",
       "55769  https://es.tui.com/viaje/cataratas-y-parques-d...    5868   \n",
       "55770  https://es.tui.com/viaje/cataratas-y-parques-d...    6189   \n",
       "55771          https://es.tui.com/viaje/zimbabue-salvaje    6539   \n",
       "55772  https://es.tui.com/viaje/zimbabue-salvaje-y-la...    9228   \n",
       "\n",
       "      fecha_escrapeo  \n",
       "0         2025-04-07  \n",
       "1         2025-04-07  \n",
       "2         2025-04-07  \n",
       "3         2025-04-07  \n",
       "4         2025-04-07  \n",
       "...              ...  \n",
       "55768     2025-05-18  \n",
       "55769     2025-05-18  \n",
       "55770     2025-05-18  \n",
       "55771     2025-05-18  \n",
       "55772     2025-05-18  \n",
       "\n",
       "[55773 rows x 3 columns]"
      ]
     },
     "execution_count": 93,
     "metadata": {},
     "output_type": "execute_result"
    }
   ],
   "source": [
    "#me quedo con las columnas que me interesan:\n",
    "df_precio_viaje = df_viajes_total[['url_viaje','precio','fecha_escrapeo' ]]\n",
    "df_precio_viaje"
   ]
  },
  {
   "cell_type": "markdown",
   "id": "409b3606",
   "metadata": {},
   "source": [
    "### 6.2 Hago la carga en la BBDD:"
   ]
  },
  {
   "cell_type": "markdown",
   "id": "85e3e6c3",
   "metadata": {},
   "source": [
    "La tabla precio_viaje tiene que tener los siguientes campos:\n",
    "- id_registro_precio_viaje SERIAL PRIMARY KEY,\n",
    "- precio_viaje INT,\n",
    "- fecha_precio_viaje DATE,\n",
    "- id_viaje INT REFERENCES viaje(id_viaje) ON DELETE CASCADE"
   ]
  },
  {
   "cell_type": "code",
   "execution_count": 101,
   "id": "5bade427",
   "metadata": {},
   "outputs": [
    {
     "name": "stdout",
     "output_type": "stream",
     "text": [
      "1435\n"
     ]
    }
   ],
   "source": [
    "#Extraigo la información de la BBDD existente en la tabla viaje\n",
    "query_extraccion = \"SELECT url_viaje, id_viaje FROM viaje\"\n",
    "url_dict=lo.extraer_datos_de_BBDD(query_extraccion)\n",
    "print(len(url_dict))"
   ]
  },
  {
   "cell_type": "code",
   "execution_count": 102,
   "id": "0b7e2d5a",
   "metadata": {},
   "outputs": [],
   "source": [
    "query_extraccion_tupla= \"SELECT precio_viaje, fecha_precio_viaje, id_viaje FROM precio_viaje\"\n",
    "existing_tupla = lo.extraer_tupla_datos_bbdd(query_extraccion_tupla)  # set de tuplas (precio_viaje, fecha_precio_viaje, id_viaje)"
   ]
  },
  {
   "cell_type": "code",
   "execution_count": 103,
   "id": "4f75b193",
   "metadata": {},
   "outputs": [
    {
     "name": "stdout",
     "output_type": "stream",
     "text": [
      "0\n"
     ]
    }
   ],
   "source": [
    "#Creo los datos para insertarlos en la BBDD:\n",
    "data_to_insert=[]\n",
    "for _,row in df_precio_viaje.iterrows():\n",
    "    url_viaje = row[\"url_viaje\"]\n",
    "    id_viaje = url_dict.get(url_viaje)\n",
    "    precio_viaje = row['precio']\n",
    "    fecha_precio_viaje = row['fecha_escrapeo'].date()\n",
    "    tupla_combinacion = (precio_viaje, fecha_precio_viaje, id_viaje) #creo la tupla de combinación precio_viaje, fecha_precio_viaje, id_viaje\n",
    "    if tupla_combinacion not in existing_tupla:\n",
    "        data_to_insert.append([precio_viaje,fecha_precio_viaje,id_viaje])\n",
    "print(len(data_to_insert))"
   ]
  },
  {
   "cell_type": "code",
   "execution_count": 104,
   "id": "044fe559",
   "metadata": {},
   "outputs": [],
   "source": [
    "insert_query = \"\"\"\n",
    "INSERT INTO precio_viaje (precio_viaje,fecha_precio_viaje,id_viaje)\n",
    "VALUES (%s, %s, %s)\n",
    "\"\"\"\n",
    "lo.insertar_datos_en_BBDD(insert_query, data_to_insert)"
   ]
  },
  {
   "cell_type": "markdown",
   "id": "9efcd0d9",
   "metadata": {},
   "source": [
    "## 7. Tabla combinacion_destino_viaje"
   ]
  },
  {
   "cell_type": "markdown",
   "id": "2fa80be7",
   "metadata": {},
   "source": [
    "### 7.1 Extraigo la información del df_viajes_total y me quedo con las columnas url_viaje y pais sin duplicados:"
   ]
  },
  {
   "cell_type": "code",
   "execution_count": 105,
   "id": "3c929b1d",
   "metadata": {},
   "outputs": [
    {
     "name": "stdout",
     "output_type": "stream",
     "text": [
      "<class 'pandas.core.frame.DataFrame'>\n",
      "RangeIndex: 55773 entries, 0 to 55772\n",
      "Data columns (total 9 columns):\n",
      " #   Column                              Non-Null Count  Dtype         \n",
      "---  ------                              --------------  -----         \n",
      " 0   pais                                55773 non-null  object        \n",
      " 1   nombre_viaje                        55773 non-null  object        \n",
      " 2   duracion_viaje                      55773 non-null  object        \n",
      " 3   itinerario                          55773 non-null  object        \n",
      " 4   precio                              55773 non-null  int64         \n",
      " 5   url_viaje                           55773 non-null  object        \n",
      " 6   fecha_escrapeo                      55773 non-null  datetime64[ns]\n",
      " 7   en_ultimo_escrapeo                  55773 non-null  object        \n",
      " 8   itinerario_modificado_para_dividir  55773 non-null  object        \n",
      "dtypes: datetime64[ns](1), int64(1), object(7)\n",
      "memory usage: 3.8+ MB\n"
     ]
    }
   ],
   "source": [
    "df_viajes_total.info()"
   ]
  },
  {
   "cell_type": "code",
   "execution_count": 106,
   "id": "546a64aa",
   "metadata": {},
   "outputs": [],
   "source": [
    "#normalizo y capitalizo la columna pais:\n",
    "df_viajes_total['pais'] = df_viajes_total['pais'].map(tr.normalizar_texto)\n",
    "df_viajes_total['pais'] = df_viajes_total['pais'].map(tr.capitalizar_texto)"
   ]
  },
  {
   "cell_type": "code",
   "execution_count": 107,
   "id": "48a3cdb9",
   "metadata": {},
   "outputs": [],
   "source": [
    "df_combinacion_destino_viaje = df_viajes_total[['url_viaje', 'pais']]"
   ]
  },
  {
   "cell_type": "code",
   "execution_count": 108,
   "id": "cc4d17d3",
   "metadata": {},
   "outputs": [
    {
     "data": {
      "application/vnd.microsoft.datawrangler.viewer.v0+json": {
       "columns": [
        {
         "name": "index",
         "rawType": "int64",
         "type": "integer"
        },
        {
         "name": "url_viaje",
         "rawType": "object",
         "type": "string"
        },
        {
         "name": "pais",
         "rawType": "object",
         "type": "string"
        }
       ],
       "conversionMethod": "pd.DataFrame",
       "ref": "57f91dd8-1308-44dd-86ff-3adea80df6c3",
       "rows": [
        [
         "0",
         "https://es.tui.com/viaje/albania-y-montenegro",
         "Albania"
        ],
        [
         "1",
         "https://viajeonline.es.tui.com/es/idea/14630257/berlin",
         "Alemania"
        ],
        [
         "2",
         "https://viajeonline.es.tui.com/es/idea/7897512/fly-drive-austria-entre-lagos-y-montanas-",
         "Alemania"
        ],
        [
         "3",
         "https://viajeonline.es.tui.com/es/idea/8404511/-fly-drive-carlomagno-a-su-aire?tripId=2",
         "Alemania"
        ],
        [
         "4",
         "https://viajeonline.es.tui.com/es/idea/7906930/-fly-drive-tirol-al-completo-",
         "Alemania"
        ],
        [
         "5",
         "https://viajeonline.es.tui.com/es/idea/21553157/-fly-drive-ciudades-hanseaticas-a-su-aire?tripId=9",
         "Alemania"
        ],
        [
         "6",
         "https://es.tui.com/viaje/alsacia-y-selva-negra",
         "Alemania"
        ],
        [
         "7",
         "https://es.tui.com/viaje/triangulo-argentino",
         "Argentina"
        ],
        [
         "8",
         "https://es.tui.com/viaje/patagonia-a-tu-alcance",
         "Argentina"
        ],
        [
         "9",
         "https://es.tui.com/viaje/ballenas-glaciares-y-cataratas",
         "Argentina"
        ],
        [
         "10",
         "https://es.tui.com/viaje/buenos-aires-el-calafate-e-iguazu",
         "Argentina"
        ],
        [
         "11",
         "https://es.tui.com/viaje/argentina-y-brasil",
         "Argentina"
        ],
        [
         "12",
         "https://es.tui.com/viaje/argentina-magica",
         "Argentina"
        ],
        [
         "13",
         "https://es.tui.com/viaje/argentina-a-tu-alcance",
         "Argentina"
        ],
        [
         "14",
         "https://es.tui.com/viaje/lagos-glaciares-y-cataratas",
         "Argentina"
        ],
        [
         "15",
         "https://es.tui.com/viaje/argentina-clasica",
         "Argentina"
        ],
        [
         "16",
         "https://es.tui.com/viaje/contrastes-de-argentina",
         "Argentina"
        ],
        [
         "17",
         "https://es.tui.com/viaje/argentina-espectacular",
         "Argentina"
        ],
        [
         "18",
         "https://es.tui.com/viaje/patagonia-fascinante",
         "Argentina"
        ],
        [
         "19",
         "https://es.tui.com/viaje/patagonia-con-iguazu",
         "Argentina"
        ],
        [
         "20",
         "https://es.tui.com/viaje/lo-mejor-de-argentina",
         "Argentina"
        ],
        [
         "21",
         "https://es.tui.com/viaje/argentina-para-dos",
         "Argentina"
        ],
        [
         "22",
         "https://es.tui.com/viaje/patagonia-argentina-y-chilena",
         "Argentina"
        ],
        [
         "23",
         "https://es.tui.com/viaje/lagos-glaciares-y-cataratas-con-extension-cruce-andino",
         "Argentina"
        ],
        [
         "24",
         "https://es.tui.com/viaje/gran-tour-de-argentina",
         "Argentina"
        ],
        [
         "25",
         "https://es.tui.com/viaje/al-sur-del-sur-con-australis",
         "Argentina"
        ],
        [
         "26",
         "https://es.tui.com/viaje/las-dos-patagonias-con-australis",
         "Argentina"
        ],
        [
         "27",
         "https://es.tui.com/viaje/confines-del-mundo-con-australis",
         "Argentina"
        ],
        [
         "28",
         "https://es.tui.com/viaje/argentina-y-chile-con-australis",
         "Argentina"
        ],
        [
         "29",
         "https://es.tui.com/viaje/chile-y-argentina-con-skorpios-iii",
         "Argentina"
        ],
        [
         "30",
         "https://viajeonline.es.tui.com/es/idea/7244961/aruba",
         "Aruba"
        ],
        [
         "31",
         "https://viajeonline.es.tui.com/es/idea/7245405/-nueva-york-y-aruba",
         "Aruba"
        ],
        [
         "32",
         "https://viajeonline.es.tui.com/es/idea/17583770/aruba-en-riu-resorts",
         "Aruba"
        ],
        [
         "33",
         "https://es.tui.com/viaje/australia-en-autocaravana-ruta-a",
         "Australia"
        ],
        [
         "34",
         "https://es.tui.com/viaje/australia-romantica",
         "Australia"
        ],
        [
         "35",
         "https://es.tui.com/viaje/australia-a-tu-alcance",
         "Australia"
        ],
        [
         "36",
         "https://es.tui.com/viaje/todo-australia",
         "Australia"
        ],
        [
         "37",
         "https://es.tui.com/viaje/australia-kangaroo",
         "Australia"
        ],
        [
         "38",
         "https://es.tui.com/viaje/experiencia-australiana",
         "Australia"
        ],
        [
         "39",
         "https://es.tui.com/viaje/gran-australia",
         "Australia"
        ],
        [
         "40",
         "https://viajeonline.es.tui.com/ES/idea/7142063/fly-drive-costa-este-australiana",
         "Australia"
        ],
        [
         "41",
         "https://es.tui.com/viaje/luna-de-miel-en-australia",
         "Australia"
        ],
        [
         "42",
         "https://viajeonline.es.tui.com/es/idea/14349142/australia-magica",
         "Australia"
        ],
        [
         "43",
         "https://es.tui.com/viaje/capitales-australianas",
         "Australia"
        ],
        [
         "44",
         "https://es.tui.com/viaje/contrastes-de-australia",
         "Australia"
        ],
        [
         "45",
         "https://es.tui.com/viaje/iconos-de-nueva-zelanda-y-australia",
         "Australia"
        ],
        [
         "46",
         "https://es.tui.com/viaje/tres-continentes",
         "Australia"
        ],
        [
         "47",
         "https://es.tui.com/viaje/kiwis-y-koalas",
         "Australia"
        ],
        [
         "48",
         "https://viajeonline.es.tui.com/es/idea/6948716/viena",
         "Austria"
        ],
        [
         "49",
         "https://viajeonline.es.tui.com/es/idea/7897512/fly-drive-austria-entre-lagos-y-montanas-",
         "Austria"
        ]
       ],
       "shape": {
        "columns": 2,
        "rows": 1741
       }
      },
      "text/html": [
       "<div>\n",
       "<style scoped>\n",
       "    .dataframe tbody tr th:only-of-type {\n",
       "        vertical-align: middle;\n",
       "    }\n",
       "\n",
       "    .dataframe tbody tr th {\n",
       "        vertical-align: top;\n",
       "    }\n",
       "\n",
       "    .dataframe thead th {\n",
       "        text-align: right;\n",
       "    }\n",
       "</style>\n",
       "<table border=\"1\" class=\"dataframe\">\n",
       "  <thead>\n",
       "    <tr style=\"text-align: right;\">\n",
       "      <th></th>\n",
       "      <th>url_viaje</th>\n",
       "      <th>pais</th>\n",
       "    </tr>\n",
       "  </thead>\n",
       "  <tbody>\n",
       "    <tr>\n",
       "      <th>0</th>\n",
       "      <td>https://es.tui.com/viaje/albania-y-montenegro</td>\n",
       "      <td>Albania</td>\n",
       "    </tr>\n",
       "    <tr>\n",
       "      <th>1</th>\n",
       "      <td>https://viajeonline.es.tui.com/es/idea/1463025...</td>\n",
       "      <td>Alemania</td>\n",
       "    </tr>\n",
       "    <tr>\n",
       "      <th>2</th>\n",
       "      <td>https://viajeonline.es.tui.com/es/idea/7897512...</td>\n",
       "      <td>Alemania</td>\n",
       "    </tr>\n",
       "    <tr>\n",
       "      <th>3</th>\n",
       "      <td>https://viajeonline.es.tui.com/es/idea/8404511...</td>\n",
       "      <td>Alemania</td>\n",
       "    </tr>\n",
       "    <tr>\n",
       "      <th>4</th>\n",
       "      <td>https://viajeonline.es.tui.com/es/idea/7906930...</td>\n",
       "      <td>Alemania</td>\n",
       "    </tr>\n",
       "    <tr>\n",
       "      <th>...</th>\n",
       "      <td>...</td>\n",
       "      <td>...</td>\n",
       "    </tr>\n",
       "    <tr>\n",
       "      <th>47175</th>\n",
       "      <td>https://viajeonline.es.tui.com/es/idea/2607762...</td>\n",
       "      <td>Laponia</td>\n",
       "    </tr>\n",
       "    <tr>\n",
       "      <th>47176</th>\n",
       "      <td>https://viajeonline.es.tui.com/es/idea/2607572...</td>\n",
       "      <td>Laponia</td>\n",
       "    </tr>\n",
       "    <tr>\n",
       "      <th>47177</th>\n",
       "      <td>https://viajeonline.es.tui.com/es/idea/2607664...</td>\n",
       "      <td>Laponia</td>\n",
       "    </tr>\n",
       "    <tr>\n",
       "      <th>47178</th>\n",
       "      <td>https://viajeonline.es.tui.com/es/idea/2607847...</td>\n",
       "      <td>Laponia</td>\n",
       "    </tr>\n",
       "    <tr>\n",
       "      <th>47179</th>\n",
       "      <td>https://viajeonline.es.tui.com/es/idea/2607811...</td>\n",
       "      <td>Laponia</td>\n",
       "    </tr>\n",
       "  </tbody>\n",
       "</table>\n",
       "<p>1741 rows × 2 columns</p>\n",
       "</div>"
      ],
      "text/plain": [
       "                                               url_viaje      pais\n",
       "0          https://es.tui.com/viaje/albania-y-montenegro   Albania\n",
       "1      https://viajeonline.es.tui.com/es/idea/1463025...  Alemania\n",
       "2      https://viajeonline.es.tui.com/es/idea/7897512...  Alemania\n",
       "3      https://viajeonline.es.tui.com/es/idea/8404511...  Alemania\n",
       "4      https://viajeonline.es.tui.com/es/idea/7906930...  Alemania\n",
       "...                                                  ...       ...\n",
       "47175  https://viajeonline.es.tui.com/es/idea/2607762...   Laponia\n",
       "47176  https://viajeonline.es.tui.com/es/idea/2607572...   Laponia\n",
       "47177  https://viajeonline.es.tui.com/es/idea/2607664...   Laponia\n",
       "47178  https://viajeonline.es.tui.com/es/idea/2607847...   Laponia\n",
       "47179  https://viajeonline.es.tui.com/es/idea/2607811...   Laponia\n",
       "\n",
       "[1741 rows x 2 columns]"
      ]
     },
     "execution_count": 108,
     "metadata": {},
     "output_type": "execute_result"
    }
   ],
   "source": [
    "#eliminos duplicados\n",
    "df_combinacion_destino_viaje = df_combinacion_destino_viaje.drop_duplicates()\n",
    "df_combinacion_destino_viaje"
   ]
  },
  {
   "cell_type": "markdown",
   "id": "b0d1f50f",
   "metadata": {},
   "source": [
    "### 7.2 Hago la carga en la BBDD:"
   ]
  },
  {
   "cell_type": "markdown",
   "id": "77be8960",
   "metadata": {},
   "source": [
    "La tabla combinacion_destino_viaje tiene que tener los siguientes campos:\n",
    "- id_viaje INT REFERENCES viaje(id_viaje) ON DELETE CASCADE,\n",
    "- id_pais_destino INT REFERENCES pais_destino(id_pais_destino) ON DELETE CASCADE,\n",
    "- PRIMARY KEY (id_viaje, id_pais_destino)"
   ]
  },
  {
   "cell_type": "code",
   "execution_count": 109,
   "id": "d10b7e59",
   "metadata": {},
   "outputs": [
    {
     "name": "stdout",
     "output_type": "stream",
     "text": [
      "2040\n"
     ]
    }
   ],
   "source": [
    "#Extraigo la información de la BBDD existente en la tabla viaje\n",
    "query_extraccion = \"SELECT url_viaje, id_viaje FROM viaje\"\n",
    "viaje_dict=lo.extraer_datos_de_BBDD(query_extraccion)\n",
    "print(len(ciudad_dict))"
   ]
  },
  {
   "cell_type": "code",
   "execution_count": 110,
   "id": "ff13c77c",
   "metadata": {},
   "outputs": [
    {
     "name": "stdout",
     "output_type": "stream",
     "text": [
      "187\n"
     ]
    }
   ],
   "source": [
    "#Extraigo la información de la BBDD existente en la tabla pais_destino:\n",
    "query_extraccion = \"SELECT nombre_pais_destino, id_pais_destino FROM pais_destino\"\n",
    "pais_dict=lo.extraer_datos_de_BBDD(query_extraccion)\n",
    "print(len(pais_dict))"
   ]
  },
  {
   "cell_type": "code",
   "execution_count": 111,
   "id": "04976ae0",
   "metadata": {},
   "outputs": [],
   "source": [
    "# Obtengo todas las combinaciones existentes (id_viaje, id_pais_destino) de la tabla\n",
    "query_extraccion_tupla= \"SELECT id_viaje, id_pais_destino FROM combinacion_destino_viaje\"\n",
    "existing_pairs = lo.extraer_tupla_datos_bbdd(query_extraccion_tupla)  # set de tuplas (id_viaje, id_pais_destino)"
   ]
  },
  {
   "cell_type": "code",
   "execution_count": 112,
   "id": "b07b7e46",
   "metadata": {},
   "outputs": [
    {
     "name": "stdout",
     "output_type": "stream",
     "text": [
      "0\n"
     ]
    }
   ],
   "source": [
    "#Creo los datos para insertarlos en la BBDD:\n",
    "data_to_insert=[]\n",
    "for _,row in df_combinacion_destino_viaje.iterrows():\n",
    "    url_viaje = row[\"url_viaje\"]\n",
    "    pais_destino = row[\"pais\"]\n",
    "    id_viaje = viaje_dict.get(url_viaje)\n",
    "    id_pais_destino = pais_dict.get(pais_destino)\n",
    "    pair = (id_viaje, id_pais_destino) #creo la tupla de combinación de id_viaje, id_pais_destino\n",
    "    if pair not in existing_pairs:\n",
    "        data_to_insert.append([id_viaje, id_pais_destino])\n",
    "print(len(data_to_insert))"
   ]
  },
  {
   "cell_type": "code",
   "execution_count": 113,
   "id": "118613a4",
   "metadata": {},
   "outputs": [
    {
     "name": "stdout",
     "output_type": "stream",
     "text": [
      "Se han añadido 0 registros en la tabla itinerariocombinacion_destino_viaje\n"
     ]
    }
   ],
   "source": [
    "#Subo la información a la BBDD:\n",
    "insert_query = \"\"\"\n",
    "INSERT INTO combinacion_destino_viaje (id_viaje,id_pais_destino)\n",
    "VALUES (%s, %s)\n",
    "\"\"\"\n",
    "lo.insertar_datos_en_BBDD(insert_query,data_to_insert)\n",
    "print(f'Se han añadido {len(data_to_insert)} registros en la tabla itinerariocombinacion_destino_viaje')"
   ]
  },
  {
   "cell_type": "markdown",
   "id": "dcc3c032",
   "metadata": {},
   "source": [
    "## 8. Tabla turismo_emisor"
   ]
  },
  {
   "cell_type": "markdown",
   "id": "11204796",
   "metadata": {},
   "source": [
    "### 8.1 Extraigo la información del fichero extraido de la API de turismo emisor:"
   ]
  },
  {
   "cell_type": "code",
   "execution_count": 114,
   "id": "ffcd9b5f",
   "metadata": {},
   "outputs": [
    {
     "data": {
      "application/vnd.microsoft.datawrangler.viewer.v0+json": {
       "columns": [
        {
         "name": "index",
         "rawType": "int64",
         "type": "integer"
        },
        {
         "name": "Unnamed: 0",
         "rawType": "int64",
         "type": "integer"
        },
        {
         "name": "AÑO",
         "rawType": "int64",
         "type": "integer"
        },
        {
         "name": "MES",
         "rawType": "int64",
         "type": "integer"
        },
        {
         "name": "CCAA_ORIGEN",
         "rawType": "object",
         "type": "string"
        },
        {
         "name": "CONTINENTE_DESTINO",
         "rawType": "object",
         "type": "string"
        },
        {
         "name": "PAIS_DESTINO",
         "rawType": "object",
         "type": "string"
        },
        {
         "name": "TURISTAS",
         "rawType": "object",
         "type": "string"
        },
        {
         "name": "PERNOCTACIONES",
         "rawType": "object",
         "type": "string"
        },
        {
         "name": "ESTANCIA_MEDIA",
         "rawType": "object",
         "type": "unknown"
        }
       ],
       "conversionMethod": "pd.DataFrame",
       "ref": "d0d9df57-1e5f-491a-be39-79c0a9571c3e",
       "rows": [
        [
         "0",
         "0",
         "2019",
         "7",
         "Andalucía",
         "América",
         "Argentina",
         "419,0",
         "3616,0",
         "8,6"
        ],
        [
         "1",
         "1",
         "2019",
         "7",
         "Andalucía",
         "América",
         "Bolivia",
         "61,0",
         "486,0",
         "8,0"
        ],
        [
         "2",
         "2",
         "2019",
         "7",
         "Andalucía",
         "América",
         "Brasil",
         "277,0",
         "2214,0",
         "8,0"
        ],
        [
         "3",
         "3",
         "2019",
         "7",
         "Andalucía",
         "América",
         "Canadá",
         "483,0",
         "6159,0",
         "12,8"
        ],
        [
         "4",
         "4",
         "2019",
         "7",
         "Andalucía",
         "América",
         "Chile",
         "242,0",
         "2068,0",
         "8,5"
        ],
        [
         "5",
         "5",
         "2019",
         "7",
         "Andalucía",
         "América",
         "Colombia",
         "423,0",
         "3575,0",
         "8,5"
        ],
        [
         "6",
         "6",
         "2019",
         "7",
         "Andalucía",
         "América",
         "Costa Rica",
         "139,0",
         "1200,0",
         "8,6"
        ],
        [
         "7",
         "7",
         "2019",
         "7",
         "Andalucía",
         "América",
         "Cuba",
         "694,0",
         "5859,0",
         "8,4"
        ],
        [
         "8",
         "8",
         "2019",
         "7",
         "Andalucía",
         "América",
         "Ecuador",
         "142,0",
         "1301,0",
         "9,2"
        ],
        [
         "9",
         "9",
         "2019",
         "7",
         "Andalucía",
         "América",
         "El Salvador",
         "31,0",
         "256,0",
         "8,3"
        ],
        [
         "10",
         "10",
         "2019",
         "7",
         "Andalucía",
         "América",
         "Estados Unidos",
         "6768,0",
         "67796,0",
         "10,0"
        ],
        [
         "11",
         "11",
         "2019",
         "7",
         "Andalucía",
         "América",
         "Guatemala",
         "44,0",
         "311,0",
         "7,1"
        ],
        [
         "12",
         "12",
         "2019",
         "7",
         "Andalucía",
         "América",
         "México",
         "1025,0",
         "7295,0",
         "7,1"
        ],
        [
         "13",
         "13",
         "2019",
         "7",
         "Andalucía",
         "América",
         "Panamá",
         "72,0",
         "514,0",
         "7,1"
        ],
        [
         "14",
         "14",
         "2019",
         "7",
         "Andalucía",
         "América",
         "Paraguay",
         "52,0",
         "400,0",
         "7,7"
        ],
        [
         "15",
         "15",
         "2019",
         "7",
         "Andalucía",
         "América",
         "Perú",
         "430,0",
         "3989,0",
         "9,3"
        ],
        [
         "16",
         "16",
         "2019",
         "7",
         "Andalucía",
         "América",
         "República Dominicana",
         "1139,0",
         "9139,0",
         "8,0"
        ],
        [
         "17",
         "17",
         "2019",
         "7",
         "Andalucía",
         "América",
         "Uruguay",
         "39,0",
         "345,0",
         "8,8"
        ],
        [
         "18",
         "18",
         "2019",
         "7",
         "Andalucía",
         "América",
         "Venezuela",
         "39,0",
         "265,0",
         "6,8"
        ],
        [
         "19",
         "19",
         "2019",
         "7",
         "Andalucía",
         "Asia",
         "Arabia Saudí",
         "118,0",
         "850,0",
         "7,2"
        ],
        [
         "20",
         "20",
         "2019",
         "7",
         "Andalucía",
         "Asia",
         "Camboya",
         "35,0",
         "248,0",
         "7,1"
        ],
        [
         "21",
         "21",
         "2019",
         "7",
         "Andalucía",
         "Asia",
         "China",
         "563,0",
         "4192,0",
         "7,4"
        ],
        [
         "22",
         "22",
         "2019",
         "7",
         "Andalucía",
         "Asia",
         "Corea Del Sur",
         "50,0",
         "253,0",
         "5,1"
        ],
        [
         "23",
         "23",
         "2019",
         "7",
         "Andalucía",
         "Asia",
         "Emiratos Árabes Unidos",
         "521,0",
         "4242,0",
         "8,1"
        ],
        [
         "24",
         "24",
         "2019",
         "7",
         "Andalucía",
         "Asia",
         "Filipinas",
         "56,0",
         "419,0",
         "7,5"
        ],
        [
         "25",
         "25",
         "2019",
         "7",
         "Andalucía",
         "Asia",
         "India",
         "167,0",
         "1307,0",
         "7,8"
        ],
        [
         "26",
         "26",
         "2019",
         "7",
         "Andalucía",
         "Asia",
         "Indonesia",
         "227,0",
         "2505,0",
         "11,0"
        ],
        [
         "27",
         "27",
         "2019",
         "7",
         "Andalucía",
         "Asia",
         "Irán",
         "39,0",
         "441,0",
         "11,3"
        ],
        [
         "28",
         "28",
         "2019",
         "7",
         "Andalucía",
         "Asia",
         "Israel",
         "751,0",
         "5849,0",
         "7,8"
        ],
        [
         "29",
         "29",
         "2019",
         "7",
         "Andalucía",
         "Asia",
         "Japón",
         "566,0",
         "6150,0",
         "10,9"
        ],
        [
         "30",
         "30",
         "2019",
         "7",
         "Andalucía",
         "Asia",
         "Jordania",
         "125,0",
         "723,0",
         "5,8"
        ],
        [
         "31",
         "31",
         "2019",
         "7",
         "Andalucía",
         "Asia",
         "Líbano",
         "52,0",
         "339,0",
         "6,5"
        ],
        [
         "32",
         "32",
         "2019",
         "7",
         "Andalucía",
         "Asia",
         "Malasia",
         "76,0",
         "890,0",
         "11,7"
        ],
        [
         "33",
         "33",
         "2019",
         "7",
         "Andalucía",
         "Asia",
         "Maldivas",
         "156,0",
         "1325,0",
         "8,5"
        ],
        [
         "34",
         "34",
         "2019",
         "7",
         "Andalucía",
         "Asia",
         "Nepal",
         "36,0",
         "468,0",
         "13,0"
        ],
        [
         "35",
         "35",
         "2019",
         "7",
         "Andalucía",
         "Asia",
         "Qatar",
         "326,0",
         "1216,0",
         "3,7"
        ],
        [
         "36",
         "36",
         "2019",
         "7",
         "Andalucía",
         "Asia",
         "Singapur",
         "57,0",
         "402,0",
         "7,1"
        ],
        [
         "37",
         "37",
         "2019",
         "7",
         "Andalucía",
         "Asia",
         "Sri Lanka",
         "39,0",
         "361,0",
         "9,3"
        ],
        [
         "38",
         "38",
         "2019",
         "7",
         "Andalucía",
         "Asia",
         "Tailandia",
         "347,0",
         "3190,0",
         "9,2"
        ],
        [
         "39",
         "39",
         "2019",
         "7",
         "Andalucía",
         "Asia",
         "Vietnam",
         "157,0",
         "1740,0",
         "11,1"
        ],
        [
         "40",
         "40",
         "2019",
         "7",
         "Andalucía",
         "Europa",
         "Albania",
         "78,0",
         "682,0",
         "8,7"
        ],
        [
         "41",
         "41",
         "2019",
         "7",
         "Andalucía",
         "Europa",
         "Alemania",
         "16448,0",
         "106953,0",
         "6,5"
        ],
        [
         "42",
         "42",
         "2019",
         "7",
         "Andalucía",
         "Europa",
         "Andorra",
         "1281,0",
         "6337,0",
         "4,9"
        ],
        [
         "43",
         "43",
         "2019",
         "7",
         "Andalucía",
         "Europa",
         "Armenia",
         "60,0",
         "691,0",
         "11,5"
        ],
        [
         "44",
         "44",
         "2019",
         "7",
         "Andalucía",
         "Europa",
         "Austria",
         "2971,0",
         "19934,0",
         "6,7"
        ],
        [
         "45",
         "45",
         "2019",
         "7",
         "Andalucía",
         "Europa",
         "Bosnia y Herzegovina",
         "61,0",
         "469,0",
         "7,7"
        ],
        [
         "46",
         "46",
         "2019",
         "7",
         "Andalucía",
         "Europa",
         "Bulgaria",
         "683,0",
         "6421,0",
         "9,4"
        ],
        [
         "47",
         "47",
         "2019",
         "7",
         "Andalucía",
         "Europa",
         "Bélgica",
         "6050,0",
         "39538,0",
         "6,5"
        ],
        [
         "48",
         "48",
         "2019",
         "7",
         "Andalucía",
         "Europa",
         "Chipre",
         "77,0",
         "661,0",
         "8,6"
        ],
        [
         "49",
         "49",
         "2019",
         "7",
         "Andalucía",
         "Europa",
         "Croacia",
         "2164,0",
         "19939,0",
         "9,2"
        ]
       ],
       "shape": {
        "columns": 9,
        "rows": 71097
       }
      },
      "text/html": [
       "<div>\n",
       "<style scoped>\n",
       "    .dataframe tbody tr th:only-of-type {\n",
       "        vertical-align: middle;\n",
       "    }\n",
       "\n",
       "    .dataframe tbody tr th {\n",
       "        vertical-align: top;\n",
       "    }\n",
       "\n",
       "    .dataframe thead th {\n",
       "        text-align: right;\n",
       "    }\n",
       "</style>\n",
       "<table border=\"1\" class=\"dataframe\">\n",
       "  <thead>\n",
       "    <tr style=\"text-align: right;\">\n",
       "      <th></th>\n",
       "      <th>Unnamed: 0</th>\n",
       "      <th>AÑO</th>\n",
       "      <th>MES</th>\n",
       "      <th>CCAA_ORIGEN</th>\n",
       "      <th>CONTINENTE_DESTINO</th>\n",
       "      <th>PAIS_DESTINO</th>\n",
       "      <th>TURISTAS</th>\n",
       "      <th>PERNOCTACIONES</th>\n",
       "      <th>ESTANCIA_MEDIA</th>\n",
       "    </tr>\n",
       "  </thead>\n",
       "  <tbody>\n",
       "    <tr>\n",
       "      <th>0</th>\n",
       "      <td>0</td>\n",
       "      <td>2019</td>\n",
       "      <td>7</td>\n",
       "      <td>Andalucía</td>\n",
       "      <td>América</td>\n",
       "      <td>Argentina</td>\n",
       "      <td>419,0</td>\n",
       "      <td>3616,0</td>\n",
       "      <td>8,6</td>\n",
       "    </tr>\n",
       "    <tr>\n",
       "      <th>1</th>\n",
       "      <td>1</td>\n",
       "      <td>2019</td>\n",
       "      <td>7</td>\n",
       "      <td>Andalucía</td>\n",
       "      <td>América</td>\n",
       "      <td>Bolivia</td>\n",
       "      <td>61,0</td>\n",
       "      <td>486,0</td>\n",
       "      <td>8,0</td>\n",
       "    </tr>\n",
       "    <tr>\n",
       "      <th>2</th>\n",
       "      <td>2</td>\n",
       "      <td>2019</td>\n",
       "      <td>7</td>\n",
       "      <td>Andalucía</td>\n",
       "      <td>América</td>\n",
       "      <td>Brasil</td>\n",
       "      <td>277,0</td>\n",
       "      <td>2214,0</td>\n",
       "      <td>8,0</td>\n",
       "    </tr>\n",
       "    <tr>\n",
       "      <th>3</th>\n",
       "      <td>3</td>\n",
       "      <td>2019</td>\n",
       "      <td>7</td>\n",
       "      <td>Andalucía</td>\n",
       "      <td>América</td>\n",
       "      <td>Canadá</td>\n",
       "      <td>483,0</td>\n",
       "      <td>6159,0</td>\n",
       "      <td>12,8</td>\n",
       "    </tr>\n",
       "    <tr>\n",
       "      <th>4</th>\n",
       "      <td>4</td>\n",
       "      <td>2019</td>\n",
       "      <td>7</td>\n",
       "      <td>Andalucía</td>\n",
       "      <td>América</td>\n",
       "      <td>Chile</td>\n",
       "      <td>242,0</td>\n",
       "      <td>2068,0</td>\n",
       "      <td>8,5</td>\n",
       "    </tr>\n",
       "    <tr>\n",
       "      <th>...</th>\n",
       "      <td>...</td>\n",
       "      <td>...</td>\n",
       "      <td>...</td>\n",
       "      <td>...</td>\n",
       "      <td>...</td>\n",
       "      <td>...</td>\n",
       "      <td>...</td>\n",
       "      <td>...</td>\n",
       "      <td>...</td>\n",
       "    </tr>\n",
       "    <tr>\n",
       "      <th>71092</th>\n",
       "      <td>81658</td>\n",
       "      <td>2024</td>\n",
       "      <td>12</td>\n",
       "      <td>Total Nacional</td>\n",
       "      <td>África</td>\n",
       "      <td>Seychelles</td>\n",
       "      <td>146,0</td>\n",
       "      <td>1105,0</td>\n",
       "      <td>7,6</td>\n",
       "    </tr>\n",
       "    <tr>\n",
       "      <th>71093</th>\n",
       "      <td>81659</td>\n",
       "      <td>2024</td>\n",
       "      <td>12</td>\n",
       "      <td>Total Nacional</td>\n",
       "      <td>África</td>\n",
       "      <td>Sudáfrica</td>\n",
       "      <td>986,0</td>\n",
       "      <td>9019,0</td>\n",
       "      <td>9,1</td>\n",
       "    </tr>\n",
       "    <tr>\n",
       "      <th>71094</th>\n",
       "      <td>81660</td>\n",
       "      <td>2024</td>\n",
       "      <td>12</td>\n",
       "      <td>Total Nacional</td>\n",
       "      <td>África</td>\n",
       "      <td>Tanzania</td>\n",
       "      <td>590,0</td>\n",
       "      <td>5237,0</td>\n",
       "      <td>8,9</td>\n",
       "    </tr>\n",
       "    <tr>\n",
       "      <th>71095</th>\n",
       "      <td>81661</td>\n",
       "      <td>2024</td>\n",
       "      <td>12</td>\n",
       "      <td>Total Nacional</td>\n",
       "      <td>África</td>\n",
       "      <td>Túnez</td>\n",
       "      <td>975,0</td>\n",
       "      <td>5012,0</td>\n",
       "      <td>5,1</td>\n",
       "    </tr>\n",
       "    <tr>\n",
       "      <th>71096</th>\n",
       "      <td>81662</td>\n",
       "      <td>2024</td>\n",
       "      <td>12</td>\n",
       "      <td>Total Nacional</td>\n",
       "      <td>África</td>\n",
       "      <td>Uganda</td>\n",
       "      <td>69,0</td>\n",
       "      <td>843,0</td>\n",
       "      <td>12,2</td>\n",
       "    </tr>\n",
       "  </tbody>\n",
       "</table>\n",
       "<p>71097 rows × 9 columns</p>\n",
       "</div>"
      ],
      "text/plain": [
       "       Unnamed: 0   AÑO  MES     CCAA_ORIGEN CONTINENTE_DESTINO PAIS_DESTINO  \\\n",
       "0               0  2019    7       Andalucía            América    Argentina   \n",
       "1               1  2019    7       Andalucía            América      Bolivia   \n",
       "2               2  2019    7       Andalucía            América       Brasil   \n",
       "3               3  2019    7       Andalucía            América       Canadá   \n",
       "4               4  2019    7       Andalucía            América        Chile   \n",
       "...           ...   ...  ...             ...                ...          ...   \n",
       "71092       81658  2024   12  Total Nacional             África   Seychelles   \n",
       "71093       81659  2024   12  Total Nacional             África    Sudáfrica   \n",
       "71094       81660  2024   12  Total Nacional             África     Tanzania   \n",
       "71095       81661  2024   12  Total Nacional             África        Túnez   \n",
       "71096       81662  2024   12  Total Nacional             África       Uganda   \n",
       "\n",
       "      TURISTAS PERNOCTACIONES ESTANCIA_MEDIA  \n",
       "0        419,0         3616,0            8,6  \n",
       "1         61,0          486,0            8,0  \n",
       "2        277,0         2214,0            8,0  \n",
       "3        483,0         6159,0           12,8  \n",
       "4        242,0         2068,0            8,5  \n",
       "...        ...            ...            ...  \n",
       "71092    146,0         1105,0            7,6  \n",
       "71093    986,0         9019,0            9,1  \n",
       "71094    590,0         5237,0            8,9  \n",
       "71095    975,0         5012,0            5,1  \n",
       "71096     69,0          843,0           12,2  \n",
       "\n",
       "[71097 rows x 9 columns]"
      ]
     },
     "execution_count": 114,
     "metadata": {},
     "output_type": "execute_result"
    }
   ],
   "source": [
    "df_turismo_emisor_procesado"
   ]
  },
  {
   "cell_type": "code",
   "execution_count": 115,
   "id": "e19b7b8e",
   "metadata": {},
   "outputs": [],
   "source": [
    "#normalizo y capitalizo la columna PAIS_DESTINO:\n",
    "df_turismo_emisor_procesado['PAIS_DESTINO'] = df_turismo_emisor_procesado['PAIS_DESTINO'].map(tr.normalizar_texto)\n",
    "df_turismo_emisor_procesado['PAIS_DESTINO'] = df_turismo_emisor_procesado['PAIS_DESTINO'].map(tr.capitalizar_texto)"
   ]
  },
  {
   "cell_type": "code",
   "execution_count": 132,
   "id": "5d929634",
   "metadata": {},
   "outputs": [],
   "source": [
    "#transformo las columnas pernoctaciones y turistas en enteros:\n",
    "for column in ['PERNOCTACIONES', 'TURISTAS']:\n",
    "    df_turismo_emisor_procesado[column]=df_turismo_emisor_procesado[column].str.replace(',','.').astype(float).astype(int)"
   ]
  },
  {
   "cell_type": "code",
   "execution_count": 133,
   "id": "523536c6",
   "metadata": {},
   "outputs": [],
   "source": [
    "#construyo el DF con los datos que me interesa:\n",
    "df_turismo_emisor_unico = df_turismo_emisor_procesado[['CCAA_ORIGEN','PAIS_DESTINO', 'TURISTAS','PERNOCTACIONES','AÑO','MES' ]]"
   ]
  },
  {
   "cell_type": "code",
   "execution_count": 134,
   "id": "836f64ad",
   "metadata": {},
   "outputs": [
    {
     "name": "stdout",
     "output_type": "stream",
     "text": [
      "<class 'pandas.core.frame.DataFrame'>\n",
      "RangeIndex: 71097 entries, 0 to 71096\n",
      "Data columns (total 6 columns):\n",
      " #   Column          Non-Null Count  Dtype \n",
      "---  ------          --------------  ----- \n",
      " 0   CCAA_ORIGEN     71097 non-null  object\n",
      " 1   PAIS_DESTINO    71097 non-null  object\n",
      " 2   TURISTAS        71097 non-null  int64 \n",
      " 3   PERNOCTACIONES  71097 non-null  int64 \n",
      " 4   AÑO             71097 non-null  int64 \n",
      " 5   MES             71097 non-null  int64 \n",
      "dtypes: int64(4), object(2)\n",
      "memory usage: 3.3+ MB\n"
     ]
    }
   ],
   "source": [
    "df_turismo_emisor_unico.info()"
   ]
  },
  {
   "cell_type": "markdown",
   "id": "611c3821",
   "metadata": {},
   "source": [
    "### 8.2 Hago la carga en la BBDD:"
   ]
  },
  {
   "cell_type": "markdown",
   "id": "aa7a5839",
   "metadata": {},
   "source": [
    "La tabla turismo_emisor tiene que tener los siguientes campos:\n",
    "- id_registro_turismo SERIAL PRIMARY KEY,\n",
    "- ccaa_origen TEXT,\n",
    "- id_pais_destino INT REFERENCES pais_destino(id_pais_destino) ON DELETE CASCADE,\n",
    "- num_turistas INT,\n",
    "- num_pernoctaciones INT,\n",
    "- ano INT,\n",
    "- mes INT"
   ]
  },
  {
   "cell_type": "code",
   "execution_count": 139,
   "id": "45064b6e",
   "metadata": {},
   "outputs": [
    {
     "name": "stdout",
     "output_type": "stream",
     "text": [
      "71097\n"
     ]
    }
   ],
   "source": [
    "#extraigo los datos cargados en la BBDD para no duplicar los datos en las futuras subidas:\n",
    "query_extraccion_tupla= \"SELECT ccaa_origen, id_pais_destino, num_turistas, num_pernoctaciones, ano, mes FROM turismo_emisor\"\n",
    "existing_tupla = lo.extraer_tupla_datos_bbdd(query_extraccion_tupla)  # set de tuplas (ccaa_origen, id_pais_destino, num_turistas, num_pernoctaciones, ano, mes)\n",
    "print(len(existing_tupla))"
   ]
  },
  {
   "cell_type": "code",
   "execution_count": 140,
   "id": "62517df2",
   "metadata": {},
   "outputs": [
    {
     "name": "stdout",
     "output_type": "stream",
     "text": [
      "187\n"
     ]
    }
   ],
   "source": [
    "#Extraigo el id_pais_destino de la tabla pais_destino de la BBDD:\n",
    "query_extraccion = \"SELECT nombre_pais_destino, id_pais_destino FROM pais_destino\"\n",
    "pais_dict=lo.extraer_datos_de_BBDD(query_extraccion)\n",
    "print(len(pais_dict))"
   ]
  },
  {
   "cell_type": "code",
   "execution_count": 141,
   "id": "7dff68e3",
   "metadata": {},
   "outputs": [
    {
     "name": "stdout",
     "output_type": "stream",
     "text": [
      "0\n"
     ]
    }
   ],
   "source": [
    "#Creo los datos para insertarlos en la BBDD:\n",
    "data_to_insert=[]\n",
    "for _,row in df_turismo_emisor_unico.iterrows():\n",
    "    ccaa_origen = row[\"CCAA_ORIGEN\"]\n",
    "    pais_destino = row['PAIS_DESTINO']\n",
    "    id_pais_destino = pais_dict.get(pais_destino)\n",
    "    num_turistas = row['TURISTAS']\n",
    "    num_pernoctaciones = row['PERNOCTACIONES']\n",
    "    ano = row['AÑO']\n",
    "    mes = row['MES']\n",
    "    pair = (ccaa_origen, id_pais_destino, num_turistas, num_pernoctaciones, ano, mes) #creo la tupla de combinación\n",
    "    if pair not in existing_tupla:\n",
    "        data_to_insert.append([ccaa_origen, id_pais_destino, num_turistas, num_pernoctaciones, ano, mes])\n",
    "print(len(data_to_insert))"
   ]
  },
  {
   "cell_type": "code",
   "execution_count": 142,
   "id": "33e59651",
   "metadata": {},
   "outputs": [
    {
     "name": "stdout",
     "output_type": "stream",
     "text": [
      "Se han añadido 0 registros en la tabla turismo_emisor\n"
     ]
    }
   ],
   "source": [
    "#Subo la información a la BBDD:\n",
    "insert_query = \"\"\"\n",
    "INSERT INTO turismo_emisor (ccaa_origen, id_pais_destino, num_turistas, num_pernoctaciones, ano, mes)\n",
    "VALUES (%s, %s, %s, %s, %s, %s)\n",
    "\"\"\"\n",
    "lo.insertar_datos_en_BBDD(insert_query,data_to_insert)\n",
    "print(f'Se han añadido {len(data_to_insert)} registros en la tabla turismo_emisor')"
   ]
  }
 ],
 "metadata": {
  "kernelspec": {
   "display_name": "venv",
   "language": "python",
   "name": "python3"
  },
  "language_info": {
   "codemirror_mode": {
    "name": "ipython",
    "version": 3
   },
   "file_extension": ".py",
   "mimetype": "text/x-python",
   "name": "python",
   "nbconvert_exporter": "python",
   "pygments_lexer": "ipython3",
   "version": "3.12.5"
  }
 },
 "nbformat": 4,
 "nbformat_minor": 5
}
